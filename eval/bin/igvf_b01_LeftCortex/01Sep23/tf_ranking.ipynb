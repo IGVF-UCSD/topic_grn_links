{
 "cells": [
  {
   "attachments": {},
   "cell_type": "markdown",
   "metadata": {},
   "source": [
    "# Network topology evaluation of adjacencies calculated from expression data\n",
    "**Authorship:** Adam Klie (last updated: 08/09/2023)<br>\n",
    "***\n",
    "**Description:** This notebook takes in any adjacencies calculated on the Parse sequencing of the `igvf_b01_LeftCortex` dataset and uses CellOracle functions to evaluate the network topology of the adjacencies. \n",
    "***"
   ]
  },
  {
   "attachments": {},
   "cell_type": "markdown",
   "metadata": {},
   "source": [
    "# Set-up"
   ]
  },
  {
   "cell_type": "code",
   "execution_count": 1,
   "metadata": {},
   "outputs": [],
   "source": [
    "import os\n",
    "import sys\n",
    "import glob\n",
    "import matplotlib.pyplot as plt\n",
    "from tqdm.auto import tqdm\n",
    "import numpy as np\n",
    "import pandas as pd\n",
    "import scanpy as sc\n",
    "import seaborn as sns"
   ]
  },
  {
   "cell_type": "code",
   "execution_count": 344,
   "metadata": {},
   "outputs": [
    {
     "data": {
      "text/plain": [
       "'0.14.0'"
      ]
     },
     "execution_count": 344,
     "metadata": {},
     "output_type": "execute_result"
    }
   ],
   "source": [
    "# CellOracle and Decoupler\n",
    "import celloracle as co\n",
    "import decoupler as dc\n",
    "from igraph import Graph\n",
    "from scipy import sparse\n",
    "co.__version__"
   ]
  },
  {
   "cell_type": "code",
   "execution_count": 101,
   "metadata": {},
   "outputs": [],
   "source": [
    "from celloracle.network_analysis.links_object import _thresholding\n",
    "from sklearn.linear_model import LinearRegression as lr\n",
    "\n",
    "def read_links_dict_from_metadata(metadata_df, verbose=True, make_celloracle_compatible=False):\n",
    "    links_dict = {}\n",
    "    for _, row in metadata_df.iterrows():\n",
    "        name = f\"{row['method']}_{row['cells']}_{row['genotype']}_{row['genes']}_{row['normalization']}\"\n",
    "        links_file = row[\"output_table_path\"]\n",
    "        links_df = pd.read_csv(links_file, sep=\"\\t\")\n",
    "        links_dict[name] = links_df\n",
    "        if verbose:\n",
    "            print(f\"Finished reading {name} that has {len(links_df)} links\")\n",
    "    return links_dict\n",
    "\n",
    "def filter_links_dict(links_dict, p=None, weight=\"weight_unsigned\", threshold_number=2000, verbose=True):\n",
    "    filtered_links_dict = {}\n",
    "    for name, links_df in links_dict.items():\n",
    "        filtered_links_df = _thresholding(links_df, p=p, weight=weight, threshold_number=threshold_number)\n",
    "        if verbose:\n",
    "            print(f\"{name} went from {len(links_df)} to {len(filtered_links_df)}\")\n",
    "        if len(filtered_links_df) < 2000:\n",
    "            print(f\"The number of links in {name} is less than 2000. Need to add small value to weight_minmax_normalized.\")\n",
    "            filtered_links_df[\"weight_minmax_normalized\"] = filtered_links_df[\"weight_minmax_normalized\"] + 1e-8\n",
    "        filtered_links_dict[name] = filtered_links_df\n",
    "    return filtered_links_dict\n",
    "    \n",
    "def create_igraph_from_links(links):\n",
    "    g = Graph.DataFrame(links[[\"source\", \"target\"]], directed=True, use_vids=False)\n",
    "    # check if any of the weight_minmax_normalized is negative\n",
    "    if links[\"weight_minmax_normalized\"].min() < 0:\n",
    "        print(\"Negative value detected in weight_minmax_normalized.\")\n",
    "        #links[\"weight_minmax_normalized\"] = links[\"weight_minmax_normalized\"] + 1\n",
    "    g.es[\"weight\"] = links[\"weight_minmax_normalized\"].values.copy()\n",
    "    return g\n",
    "\n",
    "def node_scores(g):\n",
    "    df = g.get_vertex_dataframe()\n",
    "    for i in [\"all\", \"in\", \"out\"]:\n",
    "        df[f\"degree_{i}\"] = g.degree(mode=i)\n",
    "        df[f\"degree_centrality_{i}\"] = df[f\"degree_{i}\"] / (df.shape[0]-1)\n",
    "    df[\"betweenness_centrality\"] = g.betweenness(directed=True, weights=\"weight\")\n",
    "    df[\"eigenvector_centrality\"] = g.eigenvector_centrality(directed=False, weights=\"weight\")\n",
    "    df = df.set_index(\"name\")\n",
    "    df.index.name = None\n",
    "    return df\n",
    "\n",
    "def node_scores_from_links_dict(links_dict, verbose=True):\n",
    "    node_scores_lst = []\n",
    "    for name, links in links_dict.items():\n",
    "        \n",
    "        g = create_igraph_from_links(links)\n",
    "        df = node_scores(g)\n",
    "        df[\"run_name\"] = name\n",
    "        node_scores_lst.append(df)\n",
    "    return pd.concat(node_scores_lst, axis=0)"
   ]
  },
  {
   "cell_type": "code",
   "execution_count": 128,
   "metadata": {},
   "outputs": [],
   "source": [
    "metadata_dir = \"/cellar/users/aklie/projects/igvf/topic_grn_links/eval/metadata/\"\n",
    "dataset_name = \"igvf_b01_LeftCortex\"\n",
    "in_date = \"01Sep23\""
   ]
  },
  {
   "attachments": {},
   "cell_type": "markdown",
   "metadata": {},
   "source": [
    "# Load metadata file"
   ]
  },
  {
   "cell_type": "code",
   "execution_count": 129,
   "metadata": {},
   "outputs": [
    {
     "data": {
      "text/plain": [
       "48"
      ]
     },
     "execution_count": 129,
     "metadata": {},
     "output_type": "execute_result"
    }
   ],
   "source": [
    "# Read in all the networks\n",
    "metadata_df = pd.read_csv(os.path.join(metadata_dir, dataset_name, in_date, \"eval_metadata.tsv\"), sep=\"\\t\")\n",
    "len(metadata_df)"
   ]
  },
  {
   "cell_type": "code",
   "execution_count": null,
   "metadata": {},
   "outputs": [],
   "source": [
    "metadata_df[\"run_name\"] = metadata_df[\"method\"] + \"_\" + metadata_df[\"cells\"] + \"_\" + metadata_df[\"genotype\"] + \"_\" + metadata_df[\"genes\"].astype(str) + \"_\" + metadata_df[\"normalization\"]\n"
   ]
  },
  {
   "cell_type": "code",
   "execution_count": 95,
   "metadata": {},
   "outputs": [],
   "source": [
    "# Read in all the links\n",
    "links_dict = read_links_dict_from_metadata(metadata_df, verbose=False)"
   ]
  },
  {
   "cell_type": "code",
   "execution_count": 96,
   "metadata": {},
   "outputs": [
    {
     "name": "stdout",
     "output_type": "stream",
     "text": [
      "The number of links in aracne_balanced_genotype_microglia_CASTJ_0.05_raw is less than 2000. Need to add small value to weight_minmax_normalized.\n"
     ]
    }
   ],
   "source": [
    "# Threshold the links\n",
    "filtered_links_dict = filter_links_dict(links_dict, p=None, weight=\"weight_unsigned\", threshold_number=2000, verbose=False)"
   ]
  },
  {
   "attachments": {},
   "cell_type": "markdown",
   "metadata": {},
   "source": [
    "# Get node scores"
   ]
  },
  {
   "cell_type": "code",
   "execution_count": 117,
   "metadata": {},
   "outputs": [],
   "source": [
    "merged_node_scores = node_scores_from_links_dict(filtered_links_dict, verbose=False)"
   ]
  },
  {
   "attachments": {},
   "cell_type": "markdown",
   "metadata": {},
   "source": [
    "# Create rankings for each run"
   ]
  },
  {
   "attachments": {},
   "cell_type": "markdown",
   "metadata": {},
   "source": [
    "## Node scores"
   ]
  },
  {
   "cell_type": "code",
   "execution_count": 135,
   "metadata": {},
   "outputs": [],
   "source": [
    "metrics = [\"degree_all\", \"degree_in\", \"degree_out\", \"degree_centrality_all\", \"degree_centrality_in\", \"degree_centrality_out\", \"betweenness_centrality\", \"eigenvector_centrality\"]\n",
    "for run, df, in merged_node_scores.groupby(\"run_name\"):\n",
    "    if not os.path.exists(os.path.join(metadata_dir, dataset_name, in_date, \"tf_rankings\", run)):\n",
    "        os.makedirs(os.path.join(metadata_dir, dataset_name, in_date, \"tf_rankings\", run))\n",
    "    links_df = filtered_links_dict[run]\n",
    "    run_tfs = links_df[\"source\"].unique()\n",
    "    df = df.loc[run_tfs, :]\n",
    "    for metric in metrics:\n",
    "        curr_df = df[[metric]].copy()\n",
    "        curr_df[\"rank\"] = curr_df[metric].rank(ascending=False)\n",
    "        curr_df = curr_df.sort_values(\"rank\")\n",
    "        curr_df.to_csv(os.path.join(metadata_dir, dataset_name, in_date, \"tf_rankings\", run, f\"{metric}.tsv\"), sep=\"\\t\")"
   ]
  },
  {
   "attachments": {},
   "cell_type": "markdown",
   "metadata": {},
   "source": [
    "# TF activity scores"
   ]
  },
  {
   "cell_type": "code",
   "execution_count": 295,
   "metadata": {},
   "outputs": [],
   "source": [
    "run = \"aracne_balanced_genotype_microglia_B6J_0.05_log1p_cp10k\""
   ]
  },
  {
   "cell_type": "code",
   "execution_count": 297,
   "metadata": {},
   "outputs": [
    {
     "data": {
      "text/plain": [
       "array(['Bcl6b', 'Zscan26', 'Mtf1', 'Klf9', 'Zic5'], dtype=object)"
      ]
     },
     "execution_count": 297,
     "metadata": {},
     "output_type": "execute_result"
    }
   ],
   "source": [
    "tf_list = pd.read_csv(\"/cellar/users/aklie/opt/igvf-ucsd/scenic_pipeline/data/tf_lists/allTFs_mm.txt\", header=None)[0].values\n",
    "tf_list[:5]"
   ]
  },
  {
   "attachments": {},
   "cell_type": "markdown",
   "metadata": {},
   "source": [
    "## Baseline 1 expression"
   ]
  },
  {
   "cell_type": "code",
   "execution_count": 342,
   "metadata": {},
   "outputs": [
    {
     "data": {
      "text/html": [
       "<div>\n",
       "<style scoped>\n",
       "    .dataframe tbody tr th:only-of-type {\n",
       "        vertical-align: middle;\n",
       "    }\n",
       "\n",
       "    .dataframe tbody tr th {\n",
       "        vertical-align: top;\n",
       "    }\n",
       "\n",
       "    .dataframe thead th {\n",
       "        text-align: right;\n",
       "    }\n",
       "</style>\n",
       "<table border=\"1\" class=\"dataframe\">\n",
       "  <thead>\n",
       "    <tr style=\"text-align: right;\">\n",
       "      <th></th>\n",
       "      <th>gene_id</th>\n",
       "      <th>n_cells</th>\n",
       "      <th>mt</th>\n",
       "      <th>n_cells_by_counts</th>\n",
       "      <th>mean_counts</th>\n",
       "      <th>pct_dropout_by_counts</th>\n",
       "      <th>total_counts</th>\n",
       "      <th>mean_expression</th>\n",
       "      <th>rank</th>\n",
       "    </tr>\n",
       "    <tr>\n",
       "      <th>gene</th>\n",
       "      <th></th>\n",
       "      <th></th>\n",
       "      <th></th>\n",
       "      <th></th>\n",
       "      <th></th>\n",
       "      <th></th>\n",
       "      <th></th>\n",
       "      <th></th>\n",
       "      <th></th>\n",
       "    </tr>\n",
       "  </thead>\n",
       "  <tbody>\n",
       "    <tr>\n",
       "      <th>Zfhx3</th>\n",
       "      <td>ENSMUSG00000038872.11</td>\n",
       "      <td>16798</td>\n",
       "      <td>False</td>\n",
       "      <td>16798</td>\n",
       "      <td>0.661964</td>\n",
       "      <td>78.156047</td>\n",
       "      <td>50905.0</td>\n",
       "      <td>3.472222</td>\n",
       "      <td>1.0</td>\n",
       "    </tr>\n",
       "    <tr>\n",
       "      <th>Mef2a</th>\n",
       "      <td>ENSMUSG00000030557.18</td>\n",
       "      <td>46178</td>\n",
       "      <td>False</td>\n",
       "      <td>46178</td>\n",
       "      <td>1.361586</td>\n",
       "      <td>39.950585</td>\n",
       "      <td>104706.0</td>\n",
       "      <td>2.930763</td>\n",
       "      <td>2.0</td>\n",
       "    </tr>\n",
       "    <tr>\n",
       "      <th>Zeb2</th>\n",
       "      <td>ENSMUSG00000026872.19</td>\n",
       "      <td>52895</td>\n",
       "      <td>False</td>\n",
       "      <td>52895</td>\n",
       "      <td>3.310546</td>\n",
       "      <td>31.215865</td>\n",
       "      <td>254581.0</td>\n",
       "      <td>2.404644</td>\n",
       "      <td>3.0</td>\n",
       "    </tr>\n",
       "    <tr>\n",
       "      <th>Mef2c</th>\n",
       "      <td>ENSMUSG00000005583.17</td>\n",
       "      <td>47639</td>\n",
       "      <td>False</td>\n",
       "      <td>47639</td>\n",
       "      <td>4.845657</td>\n",
       "      <td>38.050715</td>\n",
       "      <td>372631.0</td>\n",
       "      <td>2.384328</td>\n",
       "      <td>4.0</td>\n",
       "    </tr>\n",
       "    <tr>\n",
       "      <th>Foxn3</th>\n",
       "      <td>ENSMUSG00000033713.13</td>\n",
       "      <td>43808</td>\n",
       "      <td>False</td>\n",
       "      <td>43808</td>\n",
       "      <td>1.247269</td>\n",
       "      <td>43.032510</td>\n",
       "      <td>95915.0</td>\n",
       "      <td>2.005390</td>\n",
       "      <td>5.0</td>\n",
       "    </tr>\n",
       "    <tr>\n",
       "      <th>...</th>\n",
       "      <td>...</td>\n",
       "      <td>...</td>\n",
       "      <td>...</td>\n",
       "      <td>...</td>\n",
       "      <td>...</td>\n",
       "      <td>...</td>\n",
       "      <td>...</td>\n",
       "      <td>...</td>\n",
       "      <td>...</td>\n",
       "    </tr>\n",
       "    <tr>\n",
       "      <th>Ash2l</th>\n",
       "      <td>ENSMUSG00000031575.19</td>\n",
       "      <td>11144</td>\n",
       "      <td>False</td>\n",
       "      <td>11144</td>\n",
       "      <td>0.169051</td>\n",
       "      <td>85.508453</td>\n",
       "      <td>13000.0</td>\n",
       "      <td>0.054726</td>\n",
       "      <td>393.0</td>\n",
       "    </tr>\n",
       "    <tr>\n",
       "      <th>Zfp131</th>\n",
       "      <td>ENSMUSG00000094870.9</td>\n",
       "      <td>13447</td>\n",
       "      <td>False</td>\n",
       "      <td>13447</td>\n",
       "      <td>0.215761</td>\n",
       "      <td>82.513654</td>\n",
       "      <td>16592.0</td>\n",
       "      <td>0.053897</td>\n",
       "      <td>394.0</td>\n",
       "    </tr>\n",
       "    <tr>\n",
       "      <th>Lyl1</th>\n",
       "      <td>ENSMUSG00000034041.6</td>\n",
       "      <td>252</td>\n",
       "      <td>False</td>\n",
       "      <td>252</td>\n",
       "      <td>0.003342</td>\n",
       "      <td>99.672302</td>\n",
       "      <td>257.0</td>\n",
       "      <td>0.053483</td>\n",
       "      <td>395.0</td>\n",
       "    </tr>\n",
       "    <tr>\n",
       "      <th>Zfp120</th>\n",
       "      <td>ENSMUSG00000068134.14</td>\n",
       "      <td>4014</td>\n",
       "      <td>False</td>\n",
       "      <td>4014</td>\n",
       "      <td>0.057035</td>\n",
       "      <td>94.780234</td>\n",
       "      <td>4386.0</td>\n",
       "      <td>0.052239</td>\n",
       "      <td>396.0</td>\n",
       "    </tr>\n",
       "    <tr>\n",
       "      <th>Zfp282</th>\n",
       "      <td>ENSMUSG00000025821.10</td>\n",
       "      <td>12016</td>\n",
       "      <td>False</td>\n",
       "      <td>12016</td>\n",
       "      <td>0.186658</td>\n",
       "      <td>84.374512</td>\n",
       "      <td>14354.0</td>\n",
       "      <td>0.051824</td>\n",
       "      <td>397.0</td>\n",
       "    </tr>\n",
       "  </tbody>\n",
       "</table>\n",
       "<p>397 rows × 9 columns</p>\n",
       "</div>"
      ],
      "text/plain": [
       "                      gene_id  n_cells     mt  n_cells_by_counts  mean_counts  \\\n",
       "gene                                                                            \n",
       "Zfhx3   ENSMUSG00000038872.11    16798  False              16798     0.661964   \n",
       "Mef2a   ENSMUSG00000030557.18    46178  False              46178     1.361586   \n",
       "Zeb2    ENSMUSG00000026872.19    52895  False              52895     3.310546   \n",
       "Mef2c   ENSMUSG00000005583.17    47639  False              47639     4.845657   \n",
       "Foxn3   ENSMUSG00000033713.13    43808  False              43808     1.247269   \n",
       "...                       ...      ...    ...                ...          ...   \n",
       "Ash2l   ENSMUSG00000031575.19    11144  False              11144     0.169051   \n",
       "Zfp131   ENSMUSG00000094870.9    13447  False              13447     0.215761   \n",
       "Lyl1     ENSMUSG00000034041.6      252  False                252     0.003342   \n",
       "Zfp120  ENSMUSG00000068134.14     4014  False               4014     0.057035   \n",
       "Zfp282  ENSMUSG00000025821.10    12016  False              12016     0.186658   \n",
       "\n",
       "        pct_dropout_by_counts  total_counts  mean_expression   rank  \n",
       "gene                                                                 \n",
       "Zfhx3               78.156047       50905.0         3.472222    1.0  \n",
       "Mef2a               39.950585      104706.0         2.930763    2.0  \n",
       "Zeb2                31.215865      254581.0         2.404644    3.0  \n",
       "Mef2c               38.050715      372631.0         2.384328    4.0  \n",
       "Foxn3               43.032510       95915.0         2.005390    5.0  \n",
       "...                       ...           ...              ...    ...  \n",
       "Ash2l               85.508453       13000.0         0.054726  393.0  \n",
       "Zfp131              82.513654       16592.0         0.053897  394.0  \n",
       "Lyl1                99.672302         257.0         0.053483  395.0  \n",
       "Zfp120              94.780234        4386.0         0.052239  396.0  \n",
       "Zfp282              84.374512       14354.0         0.051824  397.0  \n",
       "\n",
       "[397 rows x 9 columns]"
      ]
     },
     "execution_count": 342,
     "metadata": {},
     "output_type": "execute_result"
    }
   ],
   "source": [
    "tf_adata_ranked"
   ]
  },
  {
   "cell_type": "code",
   "execution_count": 347,
   "metadata": {},
   "outputs": [],
   "source": [
    "for i, row in metadata_df.iterrows():\n",
    "    \n",
    "    # Read in the adata\n",
    "    h5ad_file = row[\"in_file_path\"].replace(\".tsv\", \".h5ad\").replace(\".loom\", \".h5ad\")\n",
    "    adata = sc.read_h5ad(h5ad_file)\n",
    "\n",
    "    # Get the run name\n",
    "    run = row[\"cells\"] + \"_\" + row[\"genotype\"] + \"_\" + str(row[\"genes\"]) + \"_\" + row[\"normalization\"]\n",
    "\n",
    "    # Intersect with tf list\n",
    "    tfs_in_adata = np.intersect1d(tf_list, adata.var_names)\n",
    "    tf_adata = adata[:, tfs_in_adata].copy()\n",
    "\n",
    "    # Rank the TFs in the list by expression level in the tf_adata\n",
    "    tf_adata.var[\"mean_expression\"] = tf_adata.X.A.mean(axis=0)\n",
    "    tf_adata.var[\"rank\"] = tf_adata.var[\"mean_expression\"].rank(ascending=False)\n",
    "    tf_adata_ranked = tf_adata.var.sort_values(\"rank\")\n",
    "\n",
    "    # Clean up\n",
    "    tf_adata_ranked = tf_adata_ranked[[\"mean_expression\", \"rank\"]]\n",
    "    tf_adata_ranked.index.name = None\n",
    "    \n",
    "    # Save the ranked TFs\n",
    "    tf_adata_ranked.to_csv(os.path.join(metadata_dir, dataset_name, in_date, \"tf_rankings\", \"baselines\", f\"{run}_expression_rank.tsv\"), sep=\"\\t\")"
   ]
  },
  {
   "cell_type": "code",
   "execution_count": 299,
   "metadata": {},
   "outputs": [
    {
     "data": {
      "image/png": "[encoded data removed]",
      "text/plain": [
       "<Figure size 500x350 with 1 Axes>"
      ]
     },
     "metadata": {},
     "output_type": "display_data"
    }
   ],
   "source": [
    "sc.pl.highest_expr_genes(tf_adata, n_top=10)"
   ]
  },
  {
   "attachments": {},
   "cell_type": "markdown",
   "metadata": {},
   "source": [
    "## Baseline 2 generic network"
   ]
  },
  {
   "cell_type": "code",
   "execution_count": 345,
   "metadata": {},
   "outputs": [
    {
     "data": {
      "text/html": [
       "<div>\n",
       "<style scoped>\n",
       "    .dataframe tbody tr th:only-of-type {\n",
       "        vertical-align: middle;\n",
       "    }\n",
       "\n",
       "    .dataframe tbody tr th {\n",
       "        vertical-align: top;\n",
       "    }\n",
       "\n",
       "    .dataframe thead th {\n",
       "        text-align: right;\n",
       "    }\n",
       "</style>\n",
       "<table border=\"1\" class=\"dataframe\">\n",
       "  <thead>\n",
       "    <tr style=\"text-align: right;\">\n",
       "      <th></th>\n",
       "      <th>source</th>\n",
       "      <th>confidence</th>\n",
       "      <th>target</th>\n",
       "      <th>weight</th>\n",
       "    </tr>\n",
       "  </thead>\n",
       "  <tbody>\n",
       "    <tr>\n",
       "      <th>0</th>\n",
       "      <td>Myc</td>\n",
       "      <td>A</td>\n",
       "      <td>Tert</td>\n",
       "      <td>1.0</td>\n",
       "    </tr>\n",
       "    <tr>\n",
       "      <th>1</th>\n",
       "      <td>Myc</td>\n",
       "      <td>A</td>\n",
       "      <td>Cct5</td>\n",
       "      <td>1.0</td>\n",
       "    </tr>\n",
       "    <tr>\n",
       "      <th>2</th>\n",
       "      <td>Myc</td>\n",
       "      <td>A</td>\n",
       "      <td>Gnl3</td>\n",
       "      <td>1.0</td>\n",
       "    </tr>\n",
       "    <tr>\n",
       "      <th>3</th>\n",
       "      <td>Myc</td>\n",
       "      <td>A</td>\n",
       "      <td>Nol7</td>\n",
       "      <td>1.0</td>\n",
       "    </tr>\n",
       "    <tr>\n",
       "      <th>4</th>\n",
       "      <td>Myc</td>\n",
       "      <td>A</td>\n",
       "      <td>Dpy30</td>\n",
       "      <td>1.0</td>\n",
       "    </tr>\n",
       "    <tr>\n",
       "      <th>...</th>\n",
       "      <td>...</td>\n",
       "      <td>...</td>\n",
       "      <td>...</td>\n",
       "      <td>...</td>\n",
       "    </tr>\n",
       "    <tr>\n",
       "      <th>2800</th>\n",
       "      <td>Jun</td>\n",
       "      <td>A</td>\n",
       "      <td>Myb</td>\n",
       "      <td>1.0</td>\n",
       "    </tr>\n",
       "    <tr>\n",
       "      <th>2801</th>\n",
       "      <td>Jund</td>\n",
       "      <td>A</td>\n",
       "      <td>Myb</td>\n",
       "      <td>1.0</td>\n",
       "    </tr>\n",
       "    <tr>\n",
       "      <th>2802</th>\n",
       "      <td>Lhx3</td>\n",
       "      <td>A</td>\n",
       "      <td>Fshb</td>\n",
       "      <td>1.0</td>\n",
       "    </tr>\n",
       "    <tr>\n",
       "      <th>2803</th>\n",
       "      <td>Usf1</td>\n",
       "      <td>A</td>\n",
       "      <td>Hmox1</td>\n",
       "      <td>1.0</td>\n",
       "    </tr>\n",
       "    <tr>\n",
       "      <th>2804</th>\n",
       "      <td>Yy1</td>\n",
       "      <td>A</td>\n",
       "      <td>Ttc17</td>\n",
       "      <td>-1.0</td>\n",
       "    </tr>\n",
       "  </tbody>\n",
       "</table>\n",
       "<p>2805 rows × 4 columns</p>\n",
       "</div>"
      ],
      "text/plain": [
       "     source confidence target  weight\n",
       "0       Myc          A   Tert     1.0\n",
       "1       Myc          A   Cct5     1.0\n",
       "2       Myc          A   Gnl3     1.0\n",
       "3       Myc          A   Nol7     1.0\n",
       "4       Myc          A  Dpy30     1.0\n",
       "...     ...        ...    ...     ...\n",
       "2800    Jun          A    Myb     1.0\n",
       "2801   Jund          A    Myb     1.0\n",
       "2802   Lhx3          A   Fshb     1.0\n",
       "2803   Usf1          A  Hmox1     1.0\n",
       "2804    Yy1          A  Ttc17    -1.0\n",
       "\n",
       "[2805 rows x 4 columns]"
      ]
     },
     "execution_count": 345,
     "metadata": {},
     "output_type": "execute_result"
    }
   ],
   "source": [
    "net = dc.get_dorothea(organism='mouse', split_complexes=False)\n",
    "net"
   ]
  },
  {
   "cell_type": "code",
   "execution_count": null,
   "metadata": {},
   "outputs": [],
   "source": [
    "for i, row in metadata_df.iterrows():\n",
    "    \n",
    "    # Read in the adata\n",
    "    h5ad_file = row[\"in_file_path\"].replace(\".tsv\", \".h5ad\").replace(\".loom\", \".h5ad\")\n",
    "    adata = sc.read_h5ad(h5ad_file)\n",
    "\n",
    "    # Get the run name\n",
    "    run = row[\"cells\"] + \"_\" + row[\"genotype\"] + \"_\" + str(row[\"genes\"]) + \"_\" + row[\"normalization\"]\n",
    "\n",
    "    # Make sure the adata uses the normalized counts\n",
    "    adata.raw = adata.copy()\n",
    "    if sparse.issparse(adata.layers[\"normalized_counts\"]):\n",
    "        adata.X = adata.layers[\"normalized_counts\"].A\n",
    "    else:\n",
    "        adata.X = adata.layers[\"normalized_counts\"]\n",
    "\n",
    "    # Run decoupler with ULM\n",
    "    dc.run_ulm(\n",
    "        mat=adata,\n",
    "        net=net,\n",
    "        source='source',\n",
    "        target='target',\n",
    "        weight='weight',\n",
    "        verbose=True,\n",
    "        use_raw=False\n",
    "    )\n",
    "\n",
    "    # Grab the ULM estimates\n",
    "    acts = dc.get_acts(adata, obsm_key='ulm_estimate')\n",
    "    acts.var[\"mean_activity\"] = acts.X.mean(axis=0)\n",
    "    acts.var[\"rank\"] = acts.var[\"mean_activity\"].rank(ascending=False)\n",
    "    acts_ranked = acts.var.sort_values(\"rank\")\n",
    "\n",
    "    # Clean up\n",
    "    acts_ranked = acts_ranked[[\"mean_activity\", \"rank\"]]\n",
    "    acts_ranked.index.name = None\n",
    "\n",
    "    # Save the ranked TFs\n",
    "    acts_ranked.to_csv(os.path.join(metadata_dir, dataset_name, in_date, \"tf_rankings\", \"baselines\", f\"{run}_dorothea_ulm_rank.tsv\"), sep=\"\\t\")\n",
    "\n",
    "    # Run decoupler with VIPER\n",
    "    dc.run_viper(\n",
    "        mat=adata,\n",
    "        net=net,\n",
    "        source='source',\n",
    "        target='target',\n",
    "        weight='weight',\n",
    "        verbose=True,\n",
    "        use_raw=False\n",
    "    )\n",
    "\n",
    "    # Grab the VIPER estimates\n",
    "    acts = dc.get_acts(adata, obsm_key='viper_estimate')\n",
    "    acts.var[\"mean_activity\"] = acts.X.mean(axis=0)\n",
    "    acts.var[\"rank\"] = acts.var[\"mean_activity\"].rank(ascending=False)\n",
    "    acts_ranked = acts.var.sort_values(\"rank\")\n",
    "\n",
    "    # Clean up\n",
    "    acts_ranked = acts_ranked[[\"mean_activity\", \"rank\"]]\n",
    "    acts_ranked.index.name = None\n",
    "\n",
    "    # Save the ranked TFs\n",
    "    acts_ranked.to_csv(os.path.join(metadata_dir, dataset_name, in_date, \"tf_rankings\", \"baselines\", f\"{run}_dorothea_viper_rank.tsv\"), sep=\"\\t\")\n",
    "\n",
    "    # Run decoupler with AUCell\n",
    "    dc.run_aucell(\n",
    "        mat=adata,\n",
    "        net=net,\n",
    "        source='source',\n",
    "        target='target',\n",
    "        verbose=True,\n",
    "        use_raw=False\n",
    "    )\n",
    "\n",
    "    # Grab the AUCell estimates\n",
    "    acts = dc.get_acts(adata, obsm_key='aucell_estimate')\n",
    "    acts.var[\"mean_activity\"] = acts.X.mean(axis=0)\n",
    "    acts.var[\"rank\"] = acts.var[\"mean_activity\"].rank(ascending=False)\n",
    "    acts_ranked = acts.var.sort_values(\"rank\")\n",
    "\n",
    "    # Clean up\n",
    "    acts_ranked = acts_ranked[[\"mean_activity\", \"rank\"]]\n",
    "    acts_ranked.index.name = None\n",
    "\n",
    "    # Save the ranked TFs\n",
    "    acts_ranked.to_csv(os.path.join(metadata_dir, dataset_name, in_date, \"tf_rankings\", \"baselines\", f\"{run}_dorothea_aucell_rank.tsv\"), sep=\"\\t\")\n",
    "break"
   ]
  },
  {
   "attachments": {},
   "cell_type": "markdown",
   "metadata": {},
   "source": [
    "# Run specific network"
   ]
  },
  {
   "cell_type": "code",
   "execution_count": 354,
   "metadata": {},
   "outputs": [
    {
     "name": "stdout",
     "output_type": "stream",
     "text": [
      "aracne_balanced_genotype_microglia_B6J_0.05_raw\n",
      "1 features of mat are empty, they will be removed.\n",
      "Running ulm on mat with 1206 samples and 4076 targets for 53 sources.\n",
      "1 features of mat are empty, they will be removed.\n",
      "Running viper on mat with 1206 samples and 4076 targets for 53 sources.\n",
      "Infering activities on 1 batches.\n",
      "Computing pleiotropy correction.\n"
     ]
    },
    {
     "name": "stderr",
     "output_type": "stream",
     "text": [
      "100%|██████████| 1206/1206 [00:10<00:00, 114.25it/s]\n"
     ]
    },
    {
     "name": "stdout",
     "output_type": "stream",
     "text": [
      "1 features of mat are empty, they will be removed.\n",
      "Running aucell on mat with 1206 samples and 4076 targets for 53 sources.\n"
     ]
    },
    {
     "name": "stderr",
     "output_type": "stream",
     "text": [
      "100%|██████████| 1206/1206 [00:00<00:00, 1535.94it/s]\n"
     ]
    },
    {
     "name": "stdout",
     "output_type": "stream",
     "text": [
      "aracne_balanced_genotype_microglia_CASTJ_0.05_raw\n",
      "2 features of mat are empty, they will be removed.\n",
      "Running ulm on mat with 1206 samples and 4075 targets for 81 sources.\n",
      "2 features of mat are empty, they will be removed.\n",
      "Running viper on mat with 1206 samples and 4075 targets for 81 sources.\n",
      "Infering activities on 1 batches.\n",
      "Computing pleiotropy correction.\n"
     ]
    },
    {
     "name": "stderr",
     "output_type": "stream",
     "text": [
      "100%|██████████| 1206/1206 [00:24<00:00, 49.26it/s]\n"
     ]
    },
    {
     "name": "stdout",
     "output_type": "stream",
     "text": [
      "2 features of mat are empty, they will be removed.\n",
      "Running aucell on mat with 1206 samples and 4075 targets for 81 sources.\n"
     ]
    },
    {
     "name": "stderr",
     "output_type": "stream",
     "text": [
      "100%|██████████| 1206/1206 [00:00<00:00, 1346.05it/s]\n"
     ]
    },
    {
     "name": "stdout",
     "output_type": "stream",
     "text": [
      "aracne_balanced_genotype_microglia_both_0.05_raw\n",
      "Running ulm on mat with 2412 samples and 4077 targets for 48 sources.\n",
      "Running viper on mat with 2412 samples and 4077 targets for 48 sources.\n",
      "Infering activities on 1 batches.\n",
      "Computing pleiotropy correction.\n"
     ]
    },
    {
     "name": "stderr",
     "output_type": "stream",
     "text": [
      "100%|██████████| 2412/2412 [00:28<00:00, 83.26it/s] \n"
     ]
    },
    {
     "name": "stdout",
     "output_type": "stream",
     "text": [
      "Running aucell on mat with 2412 samples and 4077 targets for 48 sources.\n"
     ]
    },
    {
     "name": "stderr",
     "output_type": "stream",
     "text": [
      "100%|██████████| 2412/2412 [00:01<00:00, 1454.86it/s]\n"
     ]
    },
    {
     "name": "stdout",
     "output_type": "stream",
     "text": [
      "aracne_balanced_genotype_microglia_B6J_0.05_log1p_cp10k\n",
      "1 features of mat are empty, they will be removed.\n",
      "Running ulm on mat with 1206 samples and 4076 targets for 42 sources.\n",
      "1 features of mat are empty, they will be removed.\n",
      "Running viper on mat with 1206 samples and 4076 targets for 42 sources.\n",
      "Infering activities on 1 batches.\n",
      "Computing pleiotropy correction.\n"
     ]
    },
    {
     "name": "stderr",
     "output_type": "stream",
     "text": [
      "100%|██████████| 1206/1206 [01:38<00:00, 12.18it/s]\n"
     ]
    },
    {
     "name": "stdout",
     "output_type": "stream",
     "text": [
      "1 features of mat are empty, they will be removed.\n",
      "Running aucell on mat with 1206 samples and 4076 targets for 42 sources.\n"
     ]
    },
    {
     "name": "stderr",
     "output_type": "stream",
     "text": [
      "100%|██████████| 1206/1206 [00:00<00:00, 1373.60it/s]\n"
     ]
    },
    {
     "name": "stdout",
     "output_type": "stream",
     "text": [
      "aracne_balanced_genotype_microglia_CASTJ_0.05_log1p_cp10k\n",
      "2 features of mat are empty, they will be removed.\n",
      "Running ulm on mat with 1206 samples and 4075 targets for 41 sources.\n",
      "2 features of mat are empty, they will be removed.\n",
      "Running viper on mat with 1206 samples and 4075 targets for 41 sources.\n",
      "Infering activities on 1 batches.\n",
      "Computing pleiotropy correction.\n"
     ]
    },
    {
     "name": "stderr",
     "output_type": "stream",
     "text": [
      "100%|██████████| 1206/1206 [01:06<00:00, 18.23it/s]\n"
     ]
    },
    {
     "name": "stdout",
     "output_type": "stream",
     "text": [
      "2 features of mat are empty, they will be removed.\n",
      "Running aucell on mat with 1206 samples and 4075 targets for 41 sources.\n"
     ]
    },
    {
     "name": "stderr",
     "output_type": "stream",
     "text": [
      "100%|██████████| 1206/1206 [00:00<00:00, 1379.07it/s]\n"
     ]
    },
    {
     "name": "stdout",
     "output_type": "stream",
     "text": [
      "aracne_balanced_genotype_microglia_both_0.05_log1p_cp10k\n",
      "Running ulm on mat with 2412 samples and 4077 targets for 37 sources.\n",
      "Running viper on mat with 2412 samples and 4077 targets for 37 sources.\n",
      "Infering activities on 1 batches.\n",
      "Computing pleiotropy correction.\n"
     ]
    },
    {
     "name": "stderr",
     "output_type": "stream",
     "text": [
      "100%|██████████| 2412/2412 [01:49<00:00, 21.95it/s]\n"
     ]
    },
    {
     "name": "stdout",
     "output_type": "stream",
     "text": [
      "Running aucell on mat with 2412 samples and 4077 targets for 37 sources.\n"
     ]
    },
    {
     "name": "stderr",
     "output_type": "stream",
     "text": [
      "100%|██████████| 2412/2412 [00:01<00:00, 1464.06it/s]\n"
     ]
    },
    {
     "name": "stdout",
     "output_type": "stream",
     "text": [
      "aracne_balanced_genotype_microglia_B6J_0.05_pf_log1p_pf\n",
      "1 features of mat are empty, they will be removed.\n",
      "Running ulm on mat with 1206 samples and 4076 targets for 41 sources.\n",
      "1 features of mat are empty, they will be removed.\n",
      "Running viper on mat with 1206 samples and 4076 targets for 41 sources.\n",
      "Infering activities on 1 batches.\n",
      "Computing pleiotropy correction.\n"
     ]
    },
    {
     "name": "stderr",
     "output_type": "stream",
     "text": [
      "100%|██████████| 1206/1206 [01:50<00:00, 10.94it/s]\n"
     ]
    },
    {
     "name": "stdout",
     "output_type": "stream",
     "text": [
      "1 features of mat are empty, they will be removed.\n",
      "Running aucell on mat with 1206 samples and 4076 targets for 41 sources.\n"
     ]
    },
    {
     "name": "stderr",
     "output_type": "stream",
     "text": [
      "100%|██████████| 1206/1206 [00:00<00:00, 1380.98it/s]\n"
     ]
    },
    {
     "name": "stdout",
     "output_type": "stream",
     "text": [
      "aracne_balanced_genotype_microglia_CASTJ_0.05_pf_log1p_pf\n",
      "2 features of mat are empty, they will be removed.\n",
      "Running ulm on mat with 1206 samples and 4075 targets for 42 sources.\n",
      "2 features of mat are empty, they will be removed.\n",
      "Running viper on mat with 1206 samples and 4075 targets for 42 sources.\n",
      "Infering activities on 1 batches.\n",
      "Computing pleiotropy correction.\n"
     ]
    },
    {
     "name": "stderr",
     "output_type": "stream",
     "text": [
      "100%|██████████| 1206/1206 [01:03<00:00, 18.99it/s]\n"
     ]
    },
    {
     "name": "stdout",
     "output_type": "stream",
     "text": [
      "2 features of mat are empty, they will be removed.\n",
      "Running aucell on mat with 1206 samples and 4075 targets for 42 sources.\n"
     ]
    },
    {
     "name": "stderr",
     "output_type": "stream",
     "text": [
      "100%|██████████| 1206/1206 [00:00<00:00, 1546.86it/s]\n"
     ]
    },
    {
     "name": "stdout",
     "output_type": "stream",
     "text": [
      "aracne_balanced_genotype_microglia_both_0.05_pf_log1p_pf\n",
      "Running ulm on mat with 2412 samples and 4077 targets for 32 sources.\n",
      "Running viper on mat with 2412 samples and 4077 targets for 32 sources.\n",
      "Infering activities on 1 batches.\n",
      "Computing pleiotropy correction.\n"
     ]
    },
    {
     "name": "stderr",
     "output_type": "stream",
     "text": [
      "100%|██████████| 2412/2412 [01:43<00:00, 23.38it/s]\n"
     ]
    },
    {
     "name": "stdout",
     "output_type": "stream",
     "text": [
      "Running aucell on mat with 2412 samples and 4077 targets for 32 sources.\n"
     ]
    },
    {
     "name": "stderr",
     "output_type": "stream",
     "text": [
      "100%|██████████| 2412/2412 [00:01<00:00, 1445.02it/s]\n"
     ]
    },
    {
     "name": "stdout",
     "output_type": "stream",
     "text": [
      "aracne_balanced_genotype_microglia_B6J_0.05_cpm_rank\n",
      "Running ulm on mat with 1206 samples and 4077 targets for 63 sources.\n",
      "Running viper on mat with 1206 samples and 4077 targets for 63 sources.\n",
      "Infering activities on 1 batches.\n",
      "Computing pleiotropy correction.\n"
     ]
    },
    {
     "name": "stderr",
     "output_type": "stream",
     "text": [
      "100%|██████████| 1206/1206 [01:33<00:00, 12.90it/s]\n"
     ]
    },
    {
     "name": "stdout",
     "output_type": "stream",
     "text": [
      "Running aucell on mat with 1206 samples and 4077 targets for 63 sources.\n"
     ]
    },
    {
     "name": "stderr",
     "output_type": "stream",
     "text": [
      "100%|██████████| 1206/1206 [00:01<00:00, 899.31it/s]\n"
     ]
    },
    {
     "name": "stdout",
     "output_type": "stream",
     "text": [
      "aracne_balanced_genotype_microglia_CASTJ_0.05_cpm_rank\n",
      "Running ulm on mat with 1206 samples and 4077 targets for 56 sources.\n",
      "Running viper on mat with 1206 samples and 4077 targets for 56 sources.\n",
      "Infering activities on 1 batches.\n",
      "Computing pleiotropy correction.\n"
     ]
    },
    {
     "name": "stderr",
     "output_type": "stream",
     "text": [
      "100%|██████████| 1206/1206 [01:47<00:00, 11.20it/s]\n"
     ]
    },
    {
     "name": "stdout",
     "output_type": "stream",
     "text": [
      "Running aucell on mat with 1206 samples and 4077 targets for 56 sources.\n"
     ]
    },
    {
     "name": "stderr",
     "output_type": "stream",
     "text": [
      "100%|██████████| 1206/1206 [00:01<00:00, 953.66it/s]\n"
     ]
    },
    {
     "name": "stdout",
     "output_type": "stream",
     "text": [
      "aracne_balanced_genotype_microglia_both_0.05_cpm_rank\n",
      "Running ulm on mat with 2412 samples and 4077 targets for 41 sources.\n",
      "Running viper on mat with 2412 samples and 4077 targets for 41 sources.\n",
      "Infering activities on 1 batches.\n",
      "Computing pleiotropy correction.\n"
     ]
    },
    {
     "name": "stderr",
     "output_type": "stream",
     "text": [
      "100%|██████████| 2412/2412 [03:18<00:00, 12.17it/s]\n"
     ]
    },
    {
     "name": "stdout",
     "output_type": "stream",
     "text": [
      "Running aucell on mat with 2412 samples and 4077 targets for 41 sources.\n"
     ]
    },
    {
     "name": "stderr",
     "output_type": "stream",
     "text": [
      "100%|██████████| 2412/2412 [00:02<00:00, 942.59it/s] \n"
     ]
    },
    {
     "name": "stdout",
     "output_type": "stream",
     "text": [
      "celloracle_balanced_genotype_microglia_B6J_0.05_raw\n",
      "1 features of mat are empty, they will be removed.\n",
      "Running ulm on mat with 1206 samples and 4076 targets for 104 sources.\n",
      "1 features of mat are empty, they will be removed.\n",
      "Running viper on mat with 1206 samples and 4076 targets for 104 sources.\n",
      "Infering activities on 1 batches.\n",
      "Computing pleiotropy correction.\n"
     ]
    },
    {
     "name": "stderr",
     "output_type": "stream",
     "text": [
      "100%|██████████| 1206/1206 [00:21<00:00, 56.74it/s]\n"
     ]
    },
    {
     "name": "stdout",
     "output_type": "stream",
     "text": [
      "1 features of mat are empty, they will be removed.\n",
      "Running aucell on mat with 1206 samples and 4076 targets for 104 sources.\n"
     ]
    },
    {
     "name": "stderr",
     "output_type": "stream",
     "text": [
      "100%|██████████| 1206/1206 [00:00<00:00, 1302.82it/s]\n"
     ]
    },
    {
     "name": "stdout",
     "output_type": "stream",
     "text": [
      "celloracle_balanced_genotype_microglia_CASTJ_0.05_raw\n",
      "2 features of mat are empty, they will be removed.\n",
      "Running ulm on mat with 1206 samples and 4075 targets for 94 sources.\n",
      "2 features of mat are empty, they will be removed.\n",
      "Running viper on mat with 1206 samples and 4075 targets for 94 sources.\n",
      "Infering activities on 1 batches.\n",
      "Computing pleiotropy correction.\n"
     ]
    },
    {
     "name": "stderr",
     "output_type": "stream",
     "text": [
      "100%|██████████| 1206/1206 [00:28<00:00, 41.64it/s]\n"
     ]
    },
    {
     "name": "stdout",
     "output_type": "stream",
     "text": [
      "2 features of mat are empty, they will be removed.\n",
      "Running aucell on mat with 1206 samples and 4075 targets for 94 sources.\n"
     ]
    },
    {
     "name": "stderr",
     "output_type": "stream",
     "text": [
      "100%|██████████| 1206/1206 [00:00<00:00, 1330.79it/s]\n"
     ]
    },
    {
     "name": "stdout",
     "output_type": "stream",
     "text": [
      "celloracle_balanced_genotype_microglia_both_0.05_raw\n",
      "Running ulm on mat with 2412 samples and 4077 targets for 89 sources.\n",
      "Running viper on mat with 2412 samples and 4077 targets for 89 sources.\n",
      "Infering activities on 1 batches.\n",
      "Computing pleiotropy correction.\n"
     ]
    },
    {
     "name": "stderr",
     "output_type": "stream",
     "text": [
      "100%|██████████| 2412/2412 [00:41<00:00, 57.87it/s] \n"
     ]
    },
    {
     "name": "stdout",
     "output_type": "stream",
     "text": [
      "Running aucell on mat with 2412 samples and 4077 targets for 89 sources.\n"
     ]
    },
    {
     "name": "stderr",
     "output_type": "stream",
     "text": [
      "100%|██████████| 2412/2412 [00:01<00:00, 1331.47it/s]\n"
     ]
    },
    {
     "name": "stdout",
     "output_type": "stream",
     "text": [
      "celloracle_balanced_genotype_microglia_B6J_0.05_log1p_cp10k\n",
      "1 features of mat are empty, they will be removed.\n",
      "Running ulm on mat with 1206 samples and 4076 targets for 149 sources.\n",
      "1 features of mat are empty, they will be removed.\n",
      "Running viper on mat with 1206 samples and 4076 targets for 149 sources.\n",
      "Infering activities on 1 batches.\n",
      "Computing pleiotropy correction.\n"
     ]
    },
    {
     "name": "stderr",
     "output_type": "stream",
     "text": [
      "100%|██████████| 1206/1206 [00:38<00:00, 30.99it/s]\n"
     ]
    },
    {
     "name": "stdout",
     "output_type": "stream",
     "text": [
      "1 features of mat are empty, they will be removed.\n",
      "Running aucell on mat with 1206 samples and 4076 targets for 149 sources.\n"
     ]
    },
    {
     "name": "stderr",
     "output_type": "stream",
     "text": [
      "100%|██████████| 1206/1206 [00:00<00:00, 1254.79it/s]\n"
     ]
    },
    {
     "name": "stdout",
     "output_type": "stream",
     "text": [
      "celloracle_balanced_genotype_microglia_CASTJ_0.05_log1p_cp10k\n",
      "2 features of mat are empty, they will be removed.\n",
      "Running ulm on mat with 1206 samples and 4075 targets for 145 sources.\n",
      "2 features of mat are empty, they will be removed.\n",
      "Running viper on mat with 1206 samples and 4075 targets for 145 sources.\n",
      "Infering activities on 1 batches.\n",
      "Computing pleiotropy correction.\n"
     ]
    },
    {
     "name": "stderr",
     "output_type": "stream",
     "text": [
      "100%|██████████| 1206/1206 [00:43<00:00, 28.05it/s]\n"
     ]
    },
    {
     "name": "stdout",
     "output_type": "stream",
     "text": [
      "2 features of mat are empty, they will be removed.\n",
      "Running aucell on mat with 1206 samples and 4075 targets for 145 sources.\n"
     ]
    },
    {
     "name": "stderr",
     "output_type": "stream",
     "text": [
      "100%|██████████| 1206/1206 [00:00<00:00, 1365.75it/s]\n"
     ]
    },
    {
     "name": "stdout",
     "output_type": "stream",
     "text": [
      "celloracle_balanced_genotype_microglia_both_0.05_log1p_cp10k\n",
      "Running ulm on mat with 2412 samples and 4077 targets for 131 sources.\n",
      "Running viper on mat with 2412 samples and 4077 targets for 131 sources.\n",
      "Infering activities on 1 batches.\n",
      "Computing pleiotropy correction.\n"
     ]
    },
    {
     "name": "stderr",
     "output_type": "stream",
     "text": [
      "100%|██████████| 2412/2412 [01:14<00:00, 32.23it/s]\n"
     ]
    },
    {
     "name": "stdout",
     "output_type": "stream",
     "text": [
      "Running aucell on mat with 2412 samples and 4077 targets for 131 sources.\n"
     ]
    },
    {
     "name": "stderr",
     "output_type": "stream",
     "text": [
      "100%|██████████| 2412/2412 [00:01<00:00, 1270.67it/s]\n"
     ]
    },
    {
     "name": "stdout",
     "output_type": "stream",
     "text": [
      "celloracle_balanced_genotype_microglia_B6J_0.05_pf_log1p_pf\n",
      "1 features of mat are empty, they will be removed.\n",
      "Running ulm on mat with 1206 samples and 4076 targets for 147 sources.\n",
      "1 features of mat are empty, they will be removed.\n",
      "Running viper on mat with 1206 samples and 4076 targets for 147 sources.\n",
      "Infering activities on 1 batches.\n",
      "Computing pleiotropy correction.\n"
     ]
    },
    {
     "name": "stderr",
     "output_type": "stream",
     "text": [
      "100%|██████████| 1206/1206 [01:22<00:00, 14.68it/s]\n"
     ]
    },
    {
     "name": "stdout",
     "output_type": "stream",
     "text": [
      "1 features of mat are empty, they will be removed.\n",
      "Running aucell on mat with 1206 samples and 4076 targets for 147 sources.\n"
     ]
    },
    {
     "name": "stderr",
     "output_type": "stream",
     "text": [
      "100%|██████████| 1206/1206 [00:00<00:00, 1226.79it/s]\n"
     ]
    },
    {
     "name": "stdout",
     "output_type": "stream",
     "text": [
      "celloracle_balanced_genotype_microglia_CASTJ_0.05_pf_log1p_pf\n",
      "2 features of mat are empty, they will be removed.\n",
      "Running ulm on mat with 1206 samples and 4075 targets for 144 sources.\n",
      "2 features of mat are empty, they will be removed.\n",
      "Running viper on mat with 1206 samples and 4075 targets for 144 sources.\n",
      "Infering activities on 1 batches.\n",
      "Computing pleiotropy correction.\n"
     ]
    },
    {
     "name": "stderr",
     "output_type": "stream",
     "text": [
      "100%|██████████| 1206/1206 [01:27<00:00, 13.79it/s]\n"
     ]
    },
    {
     "name": "stdout",
     "output_type": "stream",
     "text": [
      "2 features of mat are empty, they will be removed.\n",
      "Running aucell on mat with 1206 samples and 4075 targets for 144 sources.\n"
     ]
    },
    {
     "name": "stderr",
     "output_type": "stream",
     "text": [
      "100%|██████████| 1206/1206 [00:00<00:00, 1227.50it/s]\n"
     ]
    },
    {
     "name": "stdout",
     "output_type": "stream",
     "text": [
      "celloracle_balanced_genotype_microglia_both_0.05_pf_log1p_pf\n",
      "Running ulm on mat with 2412 samples and 4077 targets for 132 sources.\n",
      "Running viper on mat with 2412 samples and 4077 targets for 132 sources.\n",
      "Infering activities on 1 batches.\n",
      "Computing pleiotropy correction.\n"
     ]
    },
    {
     "name": "stderr",
     "output_type": "stream",
     "text": [
      " 35%|███▍      | 842/2412 [00:53<01:52, 14.00it/s]"
     ]
    }
   ],
   "source": [
    "for i, row in metadata_df.iterrows():\n",
    "    \n",
    "    # Read in the adata\n",
    "    h5ad_file = row[\"in_file_path\"].replace(\".tsv\", \".h5ad\").replace(\".loom\", \".h5ad\")\n",
    "    adata = sc.read_h5ad(h5ad_file)\n",
    "\n",
    "    # Get the run name for outputting to\n",
    "    run = row[\"run_name\"]\n",
    "    print(run)\n",
    "\n",
    "    # Get the run specific GRN\n",
    "    grn = filtered_links_dict[run]\n",
    "\n",
    "    # Make sure the adata uses the normalized counts\n",
    "    adata.raw = adata.copy()\n",
    "    if sparse.issparse(adata.layers[\"normalized_counts\"]):\n",
    "        adata.X = adata.layers[\"normalized_counts\"].A\n",
    "    else:\n",
    "        adata.X = adata.layers[\"normalized_counts\"]\n",
    "\n",
    "    # Run decoupler with ULM\n",
    "    dc.run_ulm(\n",
    "        mat=adata,\n",
    "        net=grn,\n",
    "        source='source',\n",
    "        target='target',\n",
    "        weight='weight_minmax_normalized',\n",
    "        verbose=True,\n",
    "        use_raw=False\n",
    "    )\n",
    "\n",
    "    # Grab the ULM estimates\n",
    "    acts = dc.get_acts(adata, obsm_key='ulm_estimate')\n",
    "    acts.var[\"mean_activity\"] = acts.X.mean(axis=0)\n",
    "    acts.var[\"rank\"] = acts.var[\"mean_activity\"].rank(ascending=False)\n",
    "    acts_ranked = acts.var.sort_values(\"rank\")\n",
    "\n",
    "    # Clean up\n",
    "    acts_ranked = acts_ranked[[\"mean_activity\", \"rank\"]]\n",
    "    acts_ranked.index.name = None\n",
    "\n",
    "    # Save the ranked TFs\n",
    "    acts_ranked.to_csv(os.path.join(metadata_dir, dataset_name, in_date, \"tf_rankings\", run, f\"ulm.tsv\"), sep=\"\\t\")\n",
    "\n",
    "    # Run decoupler with VIPER\n",
    "    dc.run_viper(\n",
    "        mat=adata,\n",
    "        net=grn,\n",
    "        source='source',\n",
    "        target='target',\n",
    "        weight='weight_minmax_normalized',\n",
    "        verbose=True,\n",
    "        use_raw=False\n",
    "    )\n",
    "\n",
    "    # Grab the VIPER estimates\n",
    "    acts = dc.get_acts(adata, obsm_key='viper_estimate')\n",
    "    acts.var[\"mean_activity\"] = acts.X.mean(axis=0)\n",
    "    acts.var[\"rank\"] = acts.var[\"mean_activity\"].rank(ascending=False)\n",
    "    acts_ranked = acts.var.sort_values(\"rank\")\n",
    "\n",
    "    # Clean up\n",
    "    acts_ranked = acts_ranked[[\"mean_activity\", \"rank\"]]\n",
    "    acts_ranked.index.name = None\n",
    "\n",
    "    # Save the ranked TFs\n",
    "    acts_ranked.to_csv(os.path.join(metadata_dir, dataset_name, in_date, \"tf_rankings\", run, f\"viper.tsv\"), sep=\"\\t\")\n",
    "\n",
    "    # Run decoupler with AUCell\n",
    "    dc.run_aucell(\n",
    "        mat=adata,\n",
    "        net=grn,\n",
    "        source='source',\n",
    "        target='target',\n",
    "        verbose=True,\n",
    "        use_raw=False\n",
    "    )\n",
    "\n",
    "    # Grab the AUCell estimates\n",
    "    acts = dc.get_acts(adata, obsm_key='aucell_estimate')\n",
    "    acts.var[\"mean_activity\"] = acts.X.mean(axis=0)\n",
    "    acts.var[\"rank\"] = acts.var[\"mean_activity\"].rank(ascending=False)\n",
    "    acts_ranked = acts.var.sort_values(\"rank\")\n",
    "\n",
    "    # Clean up\n",
    "    acts_ranked = acts_ranked[[\"mean_activity\", \"rank\"]]\n",
    "    acts_ranked.index.name = None\n",
    "\n",
    "    # Save the ranked TFs\n",
    "    acts_ranked.to_csv(os.path.join(metadata_dir, dataset_name, in_date, \"tf_rankings\", run, f\"aucell.tsv\"), sep=\"\\t\")"
   ]
  },
  {
   "attachments": {},
   "cell_type": "markdown",
   "metadata": {},
   "source": [
    "# Topic models"
   ]
  },
  {
   "cell_type": "code",
   "execution_count": null,
   "metadata": {},
   "outputs": [],
   "source": [
    "microglia_topics = pd.read_csv(\"/cellar/users/aklie/opt/IGVF_Topyfic/bridge_samples/microglia_reg_gene/6/tables/gene_weights.csv\", index_col=0)"
   ]
  },
  {
   "cell_type": "code",
   "execution_count": null,
   "metadata": {},
   "outputs": [],
   "source": [
    "# For every column, create a df that has the gene name as the index, the weight and rank as columns\n",
    "for column in microglia_topics.columns:\n",
    "    topic_num = \"_\".join(column.split(\"_\")[-2:])\n",
    "    df = microglia_topics[[column]].copy()\n",
    "    df['rank'] = df[column].rank(ascending=False)\n",
    "    df.rename(columns={column: topic_num}, inplace=True)\n",
    "    df.sort_values(by=\"rank\", inplace=True)\n",
    "    df.to_csv(os.path.join(metadata_dir, dataset_name, in_date, \"tf_rankings\", \"baselines\", f\"{topic_num}.tsv\"), sep=\"\\t\")"
   ]
  },
  {
   "attachments": {},
   "cell_type": "markdown",
   "metadata": {},
   "source": [
    "# Scratch"
   ]
  },
  {
   "cell_type": "code",
   "execution_count": 115,
   "metadata": {},
   "outputs": [],
   "source": [
    "plot_df = merged_node_scores.sort_values(\"eigenvector_centrality\", ascending=False).groupby(\"run_name\").head(20)\n",
    "plot_df = plot_df.pivot(columns='run_name', values='eigenvector_centrality').fillna(0)"
   ]
  },
  {
   "cell_type": "code",
   "execution_count": 116,
   "metadata": {},
   "outputs": [
    {
     "data": {
      "text/plain": [
       "<seaborn.matrix.ClusterGrid at 0x155476061e80>"
      ]
     },
     "execution_count": 116,
     "metadata": {},
     "output_type": "execute_result"
    },
    {
     "data": {
      "image/png": "[encoded data removed]",
      "text/plain": [
       "<Figure size 1000x1000 with 4 Axes>"
      ]
     },
     "metadata": {},
     "output_type": "display_data"
    }
   ],
   "source": [
    "# Clustermap\n",
    "sns.clustermap(plot_df, cmap=\"viridis\", figsize=(10, 10), row_cluster=True, col_cluster=True, z_score=0, yticklabels=False)"
   ]
  },
  {
   "cell_type": "code",
   "execution_count": 86,
   "metadata": {},
   "outputs": [
    {
     "data": {
      "text/html": [
       "<div>\n",
       "<style scoped>\n",
       "    .dataframe tbody tr th:only-of-type {\n",
       "        vertical-align: middle;\n",
       "    }\n",
       "\n",
       "    .dataframe tbody tr th {\n",
       "        vertical-align: top;\n",
       "    }\n",
       "\n",
       "    .dataframe thead th {\n",
       "        text-align: right;\n",
       "    }\n",
       "</style>\n",
       "<table border=\"1\" class=\"dataframe\">\n",
       "  <thead>\n",
       "    <tr style=\"text-align: right;\">\n",
       "      <th></th>\n",
       "      <th>source</th>\n",
       "      <th>target</th>\n",
       "      <th>weight_signed</th>\n",
       "      <th>weight_unsigned</th>\n",
       "      <th>weight_minmax_normalized</th>\n",
       "      <th>p</th>\n",
       "      <th>-logp</th>\n",
       "      <th>description</th>\n",
       "      <th>aracne_regulator_type</th>\n",
       "    </tr>\n",
       "  </thead>\n",
       "  <tbody>\n",
       "    <tr>\n",
       "      <th>0</th>\n",
       "      <td>0</td>\n",
       "      <td>Snx27</td>\n",
       "      <td>NaN</td>\n",
       "      <td>2.997398</td>\n",
       "      <td>0.849920</td>\n",
       "      <td>0.000757</td>\n",
       "      <td>3.12071</td>\n",
       "      <td>NaN</td>\n",
       "      <td>tf</td>\n",
       "    </tr>\n",
       "    <tr>\n",
       "      <th>1</th>\n",
       "      <td>1</td>\n",
       "      <td>Ccdc88b</td>\n",
       "      <td>NaN</td>\n",
       "      <td>3.255000</td>\n",
       "      <td>0.925078</td>\n",
       "      <td>0.000757</td>\n",
       "      <td>3.12071</td>\n",
       "      <td>NaN</td>\n",
       "      <td>tf</td>\n",
       "    </tr>\n",
       "    <tr>\n",
       "      <th>2</th>\n",
       "      <td>2</td>\n",
       "      <td>Ptprt</td>\n",
       "      <td>NaN</td>\n",
       "      <td>2.629937</td>\n",
       "      <td>0.742708</td>\n",
       "      <td>0.000757</td>\n",
       "      <td>3.12071</td>\n",
       "      <td>NaN</td>\n",
       "      <td>tf</td>\n",
       "    </tr>\n",
       "    <tr>\n",
       "      <th>3</th>\n",
       "      <td>3</td>\n",
       "      <td>Phf20l1</td>\n",
       "      <td>NaN</td>\n",
       "      <td>2.428600</td>\n",
       "      <td>0.683966</td>\n",
       "      <td>0.000757</td>\n",
       "      <td>3.12071</td>\n",
       "      <td>NaN</td>\n",
       "      <td>tf</td>\n",
       "    </tr>\n",
       "    <tr>\n",
       "      <th>4</th>\n",
       "      <td>4</td>\n",
       "      <td>Polr2a</td>\n",
       "      <td>NaN</td>\n",
       "      <td>3.272600</td>\n",
       "      <td>0.930214</td>\n",
       "      <td>0.000757</td>\n",
       "      <td>3.12071</td>\n",
       "      <td>NaN</td>\n",
       "      <td>tf</td>\n",
       "    </tr>\n",
       "    <tr>\n",
       "      <th>...</th>\n",
       "      <td>...</td>\n",
       "      <td>...</td>\n",
       "      <td>...</td>\n",
       "      <td>...</td>\n",
       "      <td>...</td>\n",
       "      <td>...</td>\n",
       "      <td>...</td>\n",
       "      <td>...</td>\n",
       "      <td>...</td>\n",
       "    </tr>\n",
       "    <tr>\n",
       "      <th>41591</th>\n",
       "      <td>41591</td>\n",
       "      <td>Vps45</td>\n",
       "      <td>NaN</td>\n",
       "      <td>3.309395</td>\n",
       "      <td>0.940949</td>\n",
       "      <td>0.000757</td>\n",
       "      <td>3.12071</td>\n",
       "      <td>NaN</td>\n",
       "      <td>tf</td>\n",
       "    </tr>\n",
       "    <tr>\n",
       "      <th>41592</th>\n",
       "      <td>41592</td>\n",
       "      <td>Csnk1g1</td>\n",
       "      <td>NaN</td>\n",
       "      <td>2.533039</td>\n",
       "      <td>0.714437</td>\n",
       "      <td>0.000757</td>\n",
       "      <td>3.12071</td>\n",
       "      <td>NaN</td>\n",
       "      <td>tf</td>\n",
       "    </tr>\n",
       "    <tr>\n",
       "      <th>41593</th>\n",
       "      <td>41593</td>\n",
       "      <td>Dgki</td>\n",
       "      <td>NaN</td>\n",
       "      <td>2.508254</td>\n",
       "      <td>0.707206</td>\n",
       "      <td>0.000757</td>\n",
       "      <td>3.12071</td>\n",
       "      <td>NaN</td>\n",
       "      <td>tf</td>\n",
       "    </tr>\n",
       "    <tr>\n",
       "      <th>41594</th>\n",
       "      <td>41594</td>\n",
       "      <td>Grm5</td>\n",
       "      <td>NaN</td>\n",
       "      <td>2.558302</td>\n",
       "      <td>0.721808</td>\n",
       "      <td>0.000757</td>\n",
       "      <td>3.12071</td>\n",
       "      <td>NaN</td>\n",
       "      <td>tf</td>\n",
       "    </tr>\n",
       "    <tr>\n",
       "      <th>41595</th>\n",
       "      <td>41595</td>\n",
       "      <td>Fhad1</td>\n",
       "      <td>NaN</td>\n",
       "      <td>3.285776</td>\n",
       "      <td>0.934058</td>\n",
       "      <td>0.000757</td>\n",
       "      <td>3.12071</td>\n",
       "      <td>NaN</td>\n",
       "      <td>tf</td>\n",
       "    </tr>\n",
       "  </tbody>\n",
       "</table>\n",
       "<p>41596 rows × 9 columns</p>\n",
       "</div>"
      ],
      "text/plain": [
       "       source   target  weight_signed  weight_unsigned  \\\n",
       "0           0    Snx27            NaN         2.997398   \n",
       "1           1  Ccdc88b            NaN         3.255000   \n",
       "2           2    Ptprt            NaN         2.629937   \n",
       "3           3  Phf20l1            NaN         2.428600   \n",
       "4           4   Polr2a            NaN         3.272600   \n",
       "...       ...      ...            ...              ...   \n",
       "41591   41591    Vps45            NaN         3.309395   \n",
       "41592   41592  Csnk1g1            NaN         2.533039   \n",
       "41593   41593     Dgki            NaN         2.508254   \n",
       "41594   41594     Grm5            NaN         2.558302   \n",
       "41595   41595    Fhad1            NaN         3.285776   \n",
       "\n",
       "       weight_minmax_normalized         p    -logp  description  \\\n",
       "0                      0.849920  0.000757  3.12071          NaN   \n",
       "1                      0.925078  0.000757  3.12071          NaN   \n",
       "2                      0.742708  0.000757  3.12071          NaN   \n",
       "3                      0.683966  0.000757  3.12071          NaN   \n",
       "4                      0.930214  0.000757  3.12071          NaN   \n",
       "...                         ...       ...      ...          ...   \n",
       "41591                  0.940949  0.000757  3.12071          NaN   \n",
       "41592                  0.714437  0.000757  3.12071          NaN   \n",
       "41593                  0.707206  0.000757  3.12071          NaN   \n",
       "41594                  0.721808  0.000757  3.12071          NaN   \n",
       "41595                  0.934058  0.000757  3.12071          NaN   \n",
       "\n",
       "      aracne_regulator_type  \n",
       "0                        tf  \n",
       "1                        tf  \n",
       "2                        tf  \n",
       "3                        tf  \n",
       "4                        tf  \n",
       "...                     ...  \n",
       "41591                    tf  \n",
       "41592                    tf  \n",
       "41593                    tf  \n",
       "41594                    tf  \n",
       "41595                    tf  \n",
       "\n",
       "[41596 rows x 9 columns]"
      ]
     },
     "execution_count": 86,
     "metadata": {},
     "output_type": "execute_result"
    }
   ],
   "source": [
    "links_dict[\"aracne_balanced_genotype_microglia_B6J_0.05_cpm_rank\"]"
   ]
  },
  {
   "cell_type": "code",
   "execution_count": 85,
   "metadata": {},
   "outputs": [
    {
     "data": {
      "text/html": [
       "<div>\n",
       "<style scoped>\n",
       "    .dataframe tbody tr th:only-of-type {\n",
       "        vertical-align: middle;\n",
       "    }\n",
       "\n",
       "    .dataframe tbody tr th {\n",
       "        vertical-align: top;\n",
       "    }\n",
       "\n",
       "    .dataframe thead th {\n",
       "        text-align: right;\n",
       "    }\n",
       "</style>\n",
       "<table border=\"1\" class=\"dataframe\">\n",
       "  <thead>\n",
       "    <tr style=\"text-align: right;\">\n",
       "      <th></th>\n",
       "      <th>source</th>\n",
       "      <th>target</th>\n",
       "      <th>weight_signed</th>\n",
       "      <th>weight_unsigned</th>\n",
       "      <th>weight_minmax_normalized</th>\n",
       "      <th>p</th>\n",
       "      <th>-logp</th>\n",
       "      <th>description</th>\n",
       "      <th>aracne_regulator_type</th>\n",
       "    </tr>\n",
       "  </thead>\n",
       "  <tbody>\n",
       "    <tr>\n",
       "      <th>38520</th>\n",
       "      <td>38520</td>\n",
       "      <td>Jak3</td>\n",
       "      <td>NaN</td>\n",
       "      <td>3.511789</td>\n",
       "      <td>1.000000</td>\n",
       "      <td>7.688635e-10</td>\n",
       "      <td>9.114151</td>\n",
       "      <td>NaN</td>\n",
       "      <td>tf</td>\n",
       "    </tr>\n",
       "    <tr>\n",
       "      <th>27578</th>\n",
       "      <td>27578</td>\n",
       "      <td>Gpr165</td>\n",
       "      <td>NaN</td>\n",
       "      <td>3.506275</td>\n",
       "      <td>0.998391</td>\n",
       "      <td>9.761879e-08</td>\n",
       "      <td>7.010467</td>\n",
       "      <td>NaN</td>\n",
       "      <td>tf</td>\n",
       "    </tr>\n",
       "    <tr>\n",
       "      <th>39406</th>\n",
       "      <td>39406</td>\n",
       "      <td>Hecw2</td>\n",
       "      <td>NaN</td>\n",
       "      <td>3.478954</td>\n",
       "      <td>0.990420</td>\n",
       "      <td>7.573381e-04</td>\n",
       "      <td>3.120710</td>\n",
       "      <td>NaN</td>\n",
       "      <td>tf</td>\n",
       "    </tr>\n",
       "    <tr>\n",
       "      <th>38514</th>\n",
       "      <td>38514</td>\n",
       "      <td>6030468B19Rik</td>\n",
       "      <td>NaN</td>\n",
       "      <td>3.477240</td>\n",
       "      <td>0.989920</td>\n",
       "      <td>9.921888e-06</td>\n",
       "      <td>5.003406</td>\n",
       "      <td>NaN</td>\n",
       "      <td>tf</td>\n",
       "    </tr>\n",
       "    <tr>\n",
       "      <th>6678</th>\n",
       "      <td>6678</td>\n",
       "      <td>ENSMUSG00000120580</td>\n",
       "      <td>NaN</td>\n",
       "      <td>3.474614</td>\n",
       "      <td>0.989154</td>\n",
       "      <td>9.921888e-06</td>\n",
       "      <td>5.003406</td>\n",
       "      <td>NaN</td>\n",
       "      <td>tf</td>\n",
       "    </tr>\n",
       "    <tr>\n",
       "      <th>...</th>\n",
       "      <td>...</td>\n",
       "      <td>...</td>\n",
       "      <td>...</td>\n",
       "      <td>...</td>\n",
       "      <td>...</td>\n",
       "      <td>...</td>\n",
       "      <td>...</td>\n",
       "      <td>...</td>\n",
       "      <td>...</td>\n",
       "    </tr>\n",
       "    <tr>\n",
       "      <th>40580</th>\n",
       "      <td>40580</td>\n",
       "      <td>Insig2</td>\n",
       "      <td>NaN</td>\n",
       "      <td>3.345256</td>\n",
       "      <td>0.951412</td>\n",
       "      <td>7.573381e-04</td>\n",
       "      <td>3.120710</td>\n",
       "      <td>NaN</td>\n",
       "      <td>tf</td>\n",
       "    </tr>\n",
       "    <tr>\n",
       "      <th>24611</th>\n",
       "      <td>24611</td>\n",
       "      <td>Tab1</td>\n",
       "      <td>NaN</td>\n",
       "      <td>3.345178</td>\n",
       "      <td>0.951389</td>\n",
       "      <td>7.573381e-04</td>\n",
       "      <td>3.120710</td>\n",
       "      <td>NaN</td>\n",
       "      <td>tf</td>\n",
       "    </tr>\n",
       "    <tr>\n",
       "      <th>18686</th>\n",
       "      <td>18686</td>\n",
       "      <td>Elp1</td>\n",
       "      <td>NaN</td>\n",
       "      <td>3.345142</td>\n",
       "      <td>0.951379</td>\n",
       "      <td>7.573381e-04</td>\n",
       "      <td>3.120710</td>\n",
       "      <td>NaN</td>\n",
       "      <td>tf</td>\n",
       "    </tr>\n",
       "    <tr>\n",
       "      <th>17458</th>\n",
       "      <td>17458</td>\n",
       "      <td>Tbc1d10a</td>\n",
       "      <td>NaN</td>\n",
       "      <td>3.345097</td>\n",
       "      <td>0.951366</td>\n",
       "      <td>7.573381e-04</td>\n",
       "      <td>3.120710</td>\n",
       "      <td>NaN</td>\n",
       "      <td>tf</td>\n",
       "    </tr>\n",
       "    <tr>\n",
       "      <th>3806</th>\n",
       "      <td>3806</td>\n",
       "      <td>Pacsin1</td>\n",
       "      <td>NaN</td>\n",
       "      <td>3.345090</td>\n",
       "      <td>0.951364</td>\n",
       "      <td>7.573381e-04</td>\n",
       "      <td>3.120710</td>\n",
       "      <td>NaN</td>\n",
       "      <td>tf</td>\n",
       "    </tr>\n",
       "  </tbody>\n",
       "</table>\n",
       "<p>2000 rows × 9 columns</p>\n",
       "</div>"
      ],
      "text/plain": [
       "       source              target  weight_signed  weight_unsigned  \\\n",
       "38520   38520                Jak3            NaN         3.511789   \n",
       "27578   27578              Gpr165            NaN         3.506275   \n",
       "39406   39406               Hecw2            NaN         3.478954   \n",
       "38514   38514       6030468B19Rik            NaN         3.477240   \n",
       "6678     6678  ENSMUSG00000120580            NaN         3.474614   \n",
       "...       ...                 ...            ...              ...   \n",
       "40580   40580              Insig2            NaN         3.345256   \n",
       "24611   24611                Tab1            NaN         3.345178   \n",
       "18686   18686                Elp1            NaN         3.345142   \n",
       "17458   17458            Tbc1d10a            NaN         3.345097   \n",
       "3806     3806             Pacsin1            NaN         3.345090   \n",
       "\n",
       "       weight_minmax_normalized             p     -logp  description  \\\n",
       "38520                  1.000000  7.688635e-10  9.114151          NaN   \n",
       "27578                  0.998391  9.761879e-08  7.010467          NaN   \n",
       "39406                  0.990420  7.573381e-04  3.120710          NaN   \n",
       "38514                  0.989920  9.921888e-06  5.003406          NaN   \n",
       "6678                   0.989154  9.921888e-06  5.003406          NaN   \n",
       "...                         ...           ...       ...          ...   \n",
       "40580                  0.951412  7.573381e-04  3.120710          NaN   \n",
       "24611                  0.951389  7.573381e-04  3.120710          NaN   \n",
       "18686                  0.951379  7.573381e-04  3.120710          NaN   \n",
       "17458                  0.951366  7.573381e-04  3.120710          NaN   \n",
       "3806                   0.951364  7.573381e-04  3.120710          NaN   \n",
       "\n",
       "      aracne_regulator_type  \n",
       "38520                    tf  \n",
       "27578                    tf  \n",
       "39406                    tf  \n",
       "38514                    tf  \n",
       "6678                     tf  \n",
       "...                     ...  \n",
       "40580                    tf  \n",
       "24611                    tf  \n",
       "18686                    tf  \n",
       "17458                    tf  \n",
       "3806                     tf  \n",
       "\n",
       "[2000 rows x 9 columns]"
      ]
     },
     "execution_count": 85,
     "metadata": {},
     "output_type": "execute_result"
    }
   ],
   "source": [
    "filtered_links_dict[\"aracne_balanced_genotype_microglia_B6J_0.05_cpm_rank\"]"
   ]
  },
  {
   "attachments": {},
   "cell_type": "markdown",
   "metadata": {},
   "source": [
    "# CellOracle"
   ]
  },
  {
   "cell_type": "code",
   "execution_count": 71,
   "metadata": {},
   "outputs": [],
   "source": [
    "# Make a celloracle links object\n",
    "links_co = co.Links(name=\"Bridge_Satpathy_Microglia_balanced_genotype_microglia_comparison\", links_dict=links_dict)"
   ]
  },
  {
   "cell_type": "code",
   "execution_count": 72,
   "metadata": {},
   "outputs": [],
   "source": [
    "# Filter to top 2000 links\n",
    "links_co.filter_links(weight=\"weight_unsigned\", p=None, threshold_number=2000)"
   ]
  },
  {
   "cell_type": "code",
   "execution_count": 74,
   "metadata": {},
   "outputs": [
    {
     "name": "stdout",
     "output_type": "stream",
     "text": [
      "\u001b[0;31mSignature:\u001b[0m \u001b[0mlinks_co\u001b[0m\u001b[0;34m.\u001b[0m\u001b[0mget_network_score\u001b[0m\u001b[0;34m(\u001b[0m\u001b[0;34m)\u001b[0m\u001b[0;34m\u001b[0m\u001b[0;34m\u001b[0m\u001b[0m\n",
      "\u001b[0;31mDocstring:\u001b[0m\n",
      " Get several network sores using igraph library.\n",
      " The following scores are calculated: ['degree_all', 'degree_centrality_all', 'degree_in',\n",
      "'degree_centrality_in', 'degree_out', 'degree_centrality_out',\n",
      "'betweenness_centrality', 'eigenvector_centrality']\n",
      "\n",
      " \n",
      "\u001b[0;31mFile:\u001b[0m      ~/opt/miniconda3/envs/celloracle/lib/python3.8/site-packages/celloracle/network_analysis/links_object.py\n",
      "\u001b[0;31mType:\u001b[0m      method"
     ]
    }
   ],
   "source": [
    "# Calculate network scores.\n",
    "links_co.get_network_score()"
   ]
  },
  {
   "cell_type": "code",
   "execution_count": null,
   "metadata": {},
   "outputs": [],
   "source": [
    "# Save gene scores for each gene in the network\n",
    "gene_scores = links_co.merged_score"
   ]
  }
 ],
 "metadata": {
  "kernelspec": {
   "display_name": "Python 3.8 celloracle",
   "language": "python",
   "name": "celloracle"
  },
  "orig_nbformat": 4
 },
 "nbformat": 4,
 "nbformat_minor": 2
}
