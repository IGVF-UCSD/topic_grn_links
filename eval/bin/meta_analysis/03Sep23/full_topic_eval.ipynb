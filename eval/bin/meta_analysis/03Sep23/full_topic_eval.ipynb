{
 "cells": [
  {
   "attachments": {},
   "cell_type": "markdown",
   "metadata": {},
   "source": [
    "# Set-up"
   ]
  },
  {
   "cell_type": "code",
   "execution_count": 1,
   "metadata": {},
   "outputs": [],
   "source": [
    "import os\n",
    "import sys\n",
    "import glob\n",
    "import matplotlib.pyplot as plt\n",
    "from tqdm.auto import tqdm\n",
    "import numpy as np\n",
    "import pandas as pd\n",
    "import seaborn as sns"
   ]
  },
  {
   "cell_type": "code",
   "execution_count": 13,
   "metadata": {},
   "outputs": [],
   "source": [
    "results_dir = \"/cellar/users/aklie/projects/igvf/topic_grn_links/eval/results\"\n",
    "dataset_name = \"meta_analysis\"\n",
    "in_date = \"03Sep23\""
   ]
  },
  {
   "attachments": {},
   "cell_type": "markdown",
   "metadata": {},
   "source": [
    "# Load in the topic results"
   ]
  },
  {
   "cell_type": "code",
   "execution_count": 2,
   "metadata": {},
   "outputs": [],
   "source": [
    "microglia_topics = pd.read_csv(\"/cellar/users/aklie/opt/IGVF_Topyfic/bridge_samples/microglia_reg_gene/6/tables/gene_weights.csv\", index_col=0)"
   ]
  },
  {
   "cell_type": "code",
   "execution_count": 33,
   "metadata": {},
   "outputs": [],
   "source": [
    "# For every column, create a df that has the gene name as the index, the weight and rank as columns\n",
    "result_files = []\n",
    "tfs = set()\n",
    "for column in microglia_topics.columns:\n",
    "    topic_num = \"_\".join(column.split(\"_\")[-2:])\n",
    "    df = microglia_topics[[column]].copy()\n",
    "    df['rank'] = df[column].rank(ascending=False)\n",
    "    df.rename(columns={column: \"rank_weight\"}, inplace=True)\n",
    "    df.sort_values(by=\"rank\", inplace=True)\n",
    "    if not os.path.exists(os.path.join(results_dir, dataset_name, in_date, \"topics\", topic_num)):\n",
    "        os.makedirs(os.path.join(results_dir, dataset_name, in_date, \"topics\", topic_num))\n",
    "    out_tsv = os.path.join(results_dir, dataset_name, in_date, \"topics\", topic_num, \"topic_gene_weights.tsv\")\n",
    "    df.to_csv(out_tsv, sep=\"\\t\")\n",
    "    result_files.append(out_tsv)\n",
    "    tfs.update(df.index)"
   ]
  },
  {
   "cell_type": "code",
   "execution_count": 35,
   "metadata": {},
   "outputs": [
    {
     "data": {
      "text/plain": [
       "2685"
      ]
     },
     "execution_count": 35,
     "metadata": {},
     "output_type": "execute_result"
    }
   ],
   "source": [
    "len(tfs)"
   ]
  },
  {
   "cell_type": "code",
   "execution_count": 11,
   "metadata": {},
   "outputs": [],
   "source": [
    "df.sort_values(by=\"rank\", ascending=False, inplace=True)"
   ]
  },
  {
   "cell_type": "code",
   "execution_count": 25,
   "metadata": {},
   "outputs": [
    {
     "data": {
      "text/html": [
       "<div>\n",
       "<style scoped>\n",
       "    .dataframe tbody tr th:only-of-type {\n",
       "        vertical-align: middle;\n",
       "    }\n",
       "\n",
       "    .dataframe tbody tr th {\n",
       "        vertical-align: top;\n",
       "    }\n",
       "\n",
       "    .dataframe thead th {\n",
       "        text-align: right;\n",
       "    }\n",
       "</style>\n",
       "<table border=\"1\" class=\"dataframe\">\n",
       "  <thead>\n",
       "    <tr style=\"text-align: right;\">\n",
       "      <th></th>\n",
       "      <th>gene_weight_path</th>\n",
       "      <th>dataset</th>\n",
       "      <th>method</th>\n",
       "      <th>genotype</th>\n",
       "      <th>genes</th>\n",
       "      <th>cells</th>\n",
       "      <th>normalization</th>\n",
       "    </tr>\n",
       "  </thead>\n",
       "  <tbody>\n",
       "    <tr>\n",
       "      <th>0</th>\n",
       "      <td>/cellar/users/aklie/projects/igvf/topic_grn_li...</td>\n",
       "      <td>igvf_b01_LeftCortex</td>\n",
       "      <td>topyfic</td>\n",
       "      <td>both</td>\n",
       "      <td>reg_genes</td>\n",
       "      <td>microglia</td>\n",
       "      <td>pf_log1p_pf</td>\n",
       "    </tr>\n",
       "    <tr>\n",
       "      <th>1</th>\n",
       "      <td>/cellar/users/aklie/projects/igvf/topic_grn_li...</td>\n",
       "      <td>igvf_b01_LeftCortex</td>\n",
       "      <td>topyfic</td>\n",
       "      <td>both</td>\n",
       "      <td>reg_genes</td>\n",
       "      <td>microglia</td>\n",
       "      <td>pf_log1p_pf</td>\n",
       "    </tr>\n",
       "    <tr>\n",
       "      <th>2</th>\n",
       "      <td>/cellar/users/aklie/projects/igvf/topic_grn_li...</td>\n",
       "      <td>igvf_b01_LeftCortex</td>\n",
       "      <td>topyfic</td>\n",
       "      <td>both</td>\n",
       "      <td>reg_genes</td>\n",
       "      <td>microglia</td>\n",
       "      <td>pf_log1p_pf</td>\n",
       "    </tr>\n",
       "    <tr>\n",
       "      <th>3</th>\n",
       "      <td>/cellar/users/aklie/projects/igvf/topic_grn_li...</td>\n",
       "      <td>igvf_b01_LeftCortex</td>\n",
       "      <td>topyfic</td>\n",
       "      <td>both</td>\n",
       "      <td>reg_genes</td>\n",
       "      <td>microglia</td>\n",
       "      <td>pf_log1p_pf</td>\n",
       "    </tr>\n",
       "    <tr>\n",
       "      <th>4</th>\n",
       "      <td>/cellar/users/aklie/projects/igvf/topic_grn_li...</td>\n",
       "      <td>igvf_b01_LeftCortex</td>\n",
       "      <td>topyfic</td>\n",
       "      <td>both</td>\n",
       "      <td>reg_genes</td>\n",
       "      <td>microglia</td>\n",
       "      <td>pf_log1p_pf</td>\n",
       "    </tr>\n",
       "  </tbody>\n",
       "</table>\n",
       "</div>"
      ],
      "text/plain": [
       "                                    gene_weight_path              dataset  \\\n",
       "0  /cellar/users/aklie/projects/igvf/topic_grn_li...  igvf_b01_LeftCortex   \n",
       "1  /cellar/users/aklie/projects/igvf/topic_grn_li...  igvf_b01_LeftCortex   \n",
       "2  /cellar/users/aklie/projects/igvf/topic_grn_li...  igvf_b01_LeftCortex   \n",
       "3  /cellar/users/aklie/projects/igvf/topic_grn_li...  igvf_b01_LeftCortex   \n",
       "4  /cellar/users/aklie/projects/igvf/topic_grn_li...  igvf_b01_LeftCortex   \n",
       "\n",
       "    method genotype      genes      cells normalization  \n",
       "0  topyfic     both  reg_genes  microglia   pf_log1p_pf  \n",
       "1  topyfic     both  reg_genes  microglia   pf_log1p_pf  \n",
       "2  topyfic     both  reg_genes  microglia   pf_log1p_pf  \n",
       "3  topyfic     both  reg_genes  microglia   pf_log1p_pf  \n",
       "4  topyfic     both  reg_genes  microglia   pf_log1p_pf  "
      ]
     },
     "execution_count": 25,
     "metadata": {},
     "output_type": "execute_result"
    }
   ],
   "source": [
    "metadata_df = pd.DataFrame(data={\"gene_weight_path\": result_files})\n",
    "metadata_df[\"dataset\"] = \"igvf_b01_LeftCortex\"\n",
    "metadata_df[\"method\"] = \"topyfic\"\n",
    "metadata_df[\"genotype\"] = \"both\"\n",
    "metadata_df[\"genes\"] = \"reg_genes\"\n",
    "metadata_df[\"cells\"] = \"microglia\"\n",
    "metadata_df[\"normalization\"] = \"pf_log1p_pf\"\n",
    "metadata_df.head()"
   ]
  },
  {
   "cell_type": "code",
   "execution_count": 28,
   "metadata": {},
   "outputs": [
    {
     "data": {
      "text/html": [
       "<div>\n",
       "<style scoped>\n",
       "    .dataframe tbody tr th:only-of-type {\n",
       "        vertical-align: middle;\n",
       "    }\n",
       "\n",
       "    .dataframe tbody tr th {\n",
       "        vertical-align: top;\n",
       "    }\n",
       "\n",
       "    .dataframe thead th {\n",
       "        text-align: right;\n",
       "    }\n",
       "</style>\n",
       "<table border=\"1\" class=\"dataframe\">\n",
       "  <thead>\n",
       "    <tr style=\"text-align: right;\">\n",
       "      <th></th>\n",
       "      <th>gene_weight_path</th>\n",
       "      <th>dataset</th>\n",
       "      <th>method</th>\n",
       "      <th>genotype</th>\n",
       "      <th>genes</th>\n",
       "      <th>cells</th>\n",
       "      <th>normalization</th>\n",
       "      <th>grn_name</th>\n",
       "    </tr>\n",
       "  </thead>\n",
       "  <tbody>\n",
       "    <tr>\n",
       "      <th>0</th>\n",
       "      <td>/cellar/users/aklie/projects/igvf/topic_grn_li...</td>\n",
       "      <td>igvf_b01_LeftCortex</td>\n",
       "      <td>topyfic</td>\n",
       "      <td>both</td>\n",
       "      <td>reg_genes</td>\n",
       "      <td>microglia</td>\n",
       "      <td>pf_log1p_pf</td>\n",
       "      <td>igvf_b01_LeftCortex_topyfic_microglia_both_reg...</td>\n",
       "    </tr>\n",
       "    <tr>\n",
       "      <th>1</th>\n",
       "      <td>/cellar/users/aklie/projects/igvf/topic_grn_li...</td>\n",
       "      <td>igvf_b01_LeftCortex</td>\n",
       "      <td>topyfic</td>\n",
       "      <td>both</td>\n",
       "      <td>reg_genes</td>\n",
       "      <td>microglia</td>\n",
       "      <td>pf_log1p_pf</td>\n",
       "      <td>igvf_b01_LeftCortex_topyfic_microglia_both_reg...</td>\n",
       "    </tr>\n",
       "    <tr>\n",
       "      <th>2</th>\n",
       "      <td>/cellar/users/aklie/projects/igvf/topic_grn_li...</td>\n",
       "      <td>igvf_b01_LeftCortex</td>\n",
       "      <td>topyfic</td>\n",
       "      <td>both</td>\n",
       "      <td>reg_genes</td>\n",
       "      <td>microglia</td>\n",
       "      <td>pf_log1p_pf</td>\n",
       "      <td>igvf_b01_LeftCortex_topyfic_microglia_both_reg...</td>\n",
       "    </tr>\n",
       "    <tr>\n",
       "      <th>3</th>\n",
       "      <td>/cellar/users/aklie/projects/igvf/topic_grn_li...</td>\n",
       "      <td>igvf_b01_LeftCortex</td>\n",
       "      <td>topyfic</td>\n",
       "      <td>both</td>\n",
       "      <td>reg_genes</td>\n",
       "      <td>microglia</td>\n",
       "      <td>pf_log1p_pf</td>\n",
       "      <td>igvf_b01_LeftCortex_topyfic_microglia_both_reg...</td>\n",
       "    </tr>\n",
       "    <tr>\n",
       "      <th>4</th>\n",
       "      <td>/cellar/users/aklie/projects/igvf/topic_grn_li...</td>\n",
       "      <td>igvf_b01_LeftCortex</td>\n",
       "      <td>topyfic</td>\n",
       "      <td>both</td>\n",
       "      <td>reg_genes</td>\n",
       "      <td>microglia</td>\n",
       "      <td>pf_log1p_pf</td>\n",
       "      <td>igvf_b01_LeftCortex_topyfic_microglia_both_reg...</td>\n",
       "    </tr>\n",
       "  </tbody>\n",
       "</table>\n",
       "</div>"
      ],
      "text/plain": [
       "                                    gene_weight_path              dataset  \\\n",
       "0  /cellar/users/aklie/projects/igvf/topic_grn_li...  igvf_b01_LeftCortex   \n",
       "1  /cellar/users/aklie/projects/igvf/topic_grn_li...  igvf_b01_LeftCortex   \n",
       "2  /cellar/users/aklie/projects/igvf/topic_grn_li...  igvf_b01_LeftCortex   \n",
       "3  /cellar/users/aklie/projects/igvf/topic_grn_li...  igvf_b01_LeftCortex   \n",
       "4  /cellar/users/aklie/projects/igvf/topic_grn_li...  igvf_b01_LeftCortex   \n",
       "\n",
       "    method genotype      genes      cells normalization  \\\n",
       "0  topyfic     both  reg_genes  microglia   pf_log1p_pf   \n",
       "1  topyfic     both  reg_genes  microglia   pf_log1p_pf   \n",
       "2  topyfic     both  reg_genes  microglia   pf_log1p_pf   \n",
       "3  topyfic     both  reg_genes  microglia   pf_log1p_pf   \n",
       "4  topyfic     both  reg_genes  microglia   pf_log1p_pf   \n",
       "\n",
       "                                            grn_name  \n",
       "0  igvf_b01_LeftCortex_topyfic_microglia_both_reg...  \n",
       "1  igvf_b01_LeftCortex_topyfic_microglia_both_reg...  \n",
       "2  igvf_b01_LeftCortex_topyfic_microglia_both_reg...  \n",
       "3  igvf_b01_LeftCortex_topyfic_microglia_both_reg...  \n",
       "4  igvf_b01_LeftCortex_topyfic_microglia_both_reg...  "
      ]
     },
     "execution_count": 28,
     "metadata": {},
     "output_type": "execute_result"
    }
   ],
   "source": [
    "metadata_df[\"grn_name\"] = metadata_df[\"dataset\"] + \"_\" + metadata_df[\"method\"] + \"_\" + metadata_df[\"cells\"] + \"_\" + metadata_df[\"genotype\"] + \"_\" + metadata_df[\"genes\"] + \"_\" + metadata_df[\"normalization\"]\n",
    "metadata_df.head()"
   ]
  },
  {
   "cell_type": "code",
   "execution_count": 31,
   "metadata": {},
   "outputs": [],
   "source": [
    "cleaned_metadata_df = metadata_df[[\"grn_name\", \"dataset\", \"method\",  \"cells\", \"genes\", \"normalization\", \"genotype\", \"gene_weight_path\"]]"
   ]
  },
  {
   "cell_type": "code",
   "execution_count": 32,
   "metadata": {},
   "outputs": [],
   "source": [
    "cleaned_metadata_df.to_csv(os.path.join(results_dir, dataset_name, in_date, \"cleaned_topic_metadata.tsv\"), sep=\"\\t\", index=False)"
   ]
  },
  {
   "cell_type": "code",
   "execution_count": 38,
   "metadata": {},
   "outputs": [],
   "source": [
    "grn_tf_metadata = pd.read_csv(\"/cellar/users/aklie/projects/igvf/topic_grn_links/eval/results/meta_analysis/03Sep23/tf_metadata.tsv\", sep=\"\\t\", index_col=0)"
   ]
  },
  {
   "cell_type": "code",
   "execution_count": 42,
   "metadata": {},
   "outputs": [
    {
     "data": {
      "text/html": [
       "<div>\n",
       "<style scoped>\n",
       "    .dataframe tbody tr th:only-of-type {\n",
       "        vertical-align: middle;\n",
       "    }\n",
       "\n",
       "    .dataframe tbody tr th {\n",
       "        vertical-align: top;\n",
       "    }\n",
       "\n",
       "    .dataframe thead th {\n",
       "        text-align: right;\n",
       "    }\n",
       "</style>\n",
       "<table border=\"1\" class=\"dataframe\">\n",
       "  <thead>\n",
       "    <tr style=\"text-align: right;\">\n",
       "      <th></th>\n",
       "      <th>in_scenic</th>\n",
       "      <th>in_aracne</th>\n",
       "      <th>in_celloracle</th>\n",
       "      <th>in_literature</th>\n",
       "      <th>number_grns</th>\n",
       "    </tr>\n",
       "  </thead>\n",
       "  <tbody>\n",
       "    <tr>\n",
       "      <th>Runx1t1</th>\n",
       "      <td>False</td>\n",
       "      <td>True</td>\n",
       "      <td>False</td>\n",
       "      <td>False</td>\n",
       "      <td>41</td>\n",
       "    </tr>\n",
       "    <tr>\n",
       "      <th>Prdm15</th>\n",
       "      <td>True</td>\n",
       "      <td>True</td>\n",
       "      <td>False</td>\n",
       "      <td>False</td>\n",
       "      <td>27</td>\n",
       "    </tr>\n",
       "    <tr>\n",
       "      <th>Zfp445</th>\n",
       "      <td>True</td>\n",
       "      <td>True</td>\n",
       "      <td>False</td>\n",
       "      <td>False</td>\n",
       "      <td>26</td>\n",
       "    </tr>\n",
       "    <tr>\n",
       "      <th>Gm14308</th>\n",
       "      <td>True</td>\n",
       "      <td>False</td>\n",
       "      <td>False</td>\n",
       "      <td>False</td>\n",
       "      <td>21</td>\n",
       "    </tr>\n",
       "    <tr>\n",
       "      <th>Gas7</th>\n",
       "      <td>False</td>\n",
       "      <td>True</td>\n",
       "      <td>False</td>\n",
       "      <td>False</td>\n",
       "      <td>31</td>\n",
       "    </tr>\n",
       "    <tr>\n",
       "      <th>...</th>\n",
       "      <td>...</td>\n",
       "      <td>...</td>\n",
       "      <td>...</td>\n",
       "      <td>...</td>\n",
       "      <td>...</td>\n",
       "    </tr>\n",
       "    <tr>\n",
       "      <th>Gm6710</th>\n",
       "      <td>True</td>\n",
       "      <td>False</td>\n",
       "      <td>False</td>\n",
       "      <td>False</td>\n",
       "      <td>22</td>\n",
       "    </tr>\n",
       "    <tr>\n",
       "      <th>Suclg1</th>\n",
       "      <td>True</td>\n",
       "      <td>False</td>\n",
       "      <td>False</td>\n",
       "      <td>False</td>\n",
       "      <td>6</td>\n",
       "    </tr>\n",
       "    <tr>\n",
       "      <th>Nfia</th>\n",
       "      <td>True</td>\n",
       "      <td>True</td>\n",
       "      <td>True</td>\n",
       "      <td>False</td>\n",
       "      <td>88</td>\n",
       "    </tr>\n",
       "    <tr>\n",
       "      <th>Hcfc2</th>\n",
       "      <td>True</td>\n",
       "      <td>False</td>\n",
       "      <td>False</td>\n",
       "      <td>False</td>\n",
       "      <td>25</td>\n",
       "    </tr>\n",
       "    <tr>\n",
       "      <th>Gmeb1</th>\n",
       "      <td>True</td>\n",
       "      <td>True</td>\n",
       "      <td>False</td>\n",
       "      <td>False</td>\n",
       "      <td>32</td>\n",
       "    </tr>\n",
       "  </tbody>\n",
       "</table>\n",
       "<p>709 rows × 5 columns</p>\n",
       "</div>"
      ],
      "text/plain": [
       "         in_scenic  in_aracne  in_celloracle  in_literature  number_grns\n",
       "Runx1t1      False       True          False          False           41\n",
       "Prdm15        True       True          False          False           27\n",
       "Zfp445        True       True          False          False           26\n",
       "Gm14308       True      False          False          False           21\n",
       "Gas7         False       True          False          False           31\n",
       "...            ...        ...            ...            ...          ...\n",
       "Gm6710        True      False          False          False           22\n",
       "Suclg1        True      False          False          False            6\n",
       "Nfia          True       True           True          False           88\n",
       "Hcfc2         True      False          False          False           25\n",
       "Gmeb1         True       True          False          False           32\n",
       "\n",
       "[709 rows x 5 columns]"
      ]
     },
     "execution_count": 42,
     "metadata": {},
     "output_type": "execute_result"
    }
   ],
   "source": [
    "grn_tf_metadata"
   ]
  },
  {
   "cell_type": "code",
   "execution_count": 46,
   "metadata": {},
   "outputs": [],
   "source": [
    "grn_tf_metadata[\"in_topics\"] = grn_tf_metadata.index.isin(tfs)"
   ]
  },
  {
   "cell_type": "code",
   "execution_count": 50,
   "metadata": {},
   "outputs": [
    {
     "data": {
      "text/plain": [
       "in_scenic         True\n",
       "in_aracne         True\n",
       "in_celloracle     True\n",
       "in_literature    False\n",
       "number_grns         80\n",
       "in_topics         True\n",
       "Name: Maf, dtype: object"
      ]
     },
     "execution_count": 50,
     "metadata": {},
     "output_type": "execute_result"
    }
   ],
   "source": [
    "grn_tf_metadata.loc[\"Maf\"]"
   ]
  },
  {
   "cell_type": "code",
   "execution_count": 51,
   "metadata": {},
   "outputs": [],
   "source": [
    "grn_tf_metadata.to_csv(os.path.join(results_dir, dataset_name, in_date, \"tf_metadata_topics.tsv\"), sep=\"\\t\")"
   ]
  },
  {
   "cell_type": "code",
   "execution_count": 30,
   "metadata": {},
   "outputs": [],
   "source": [
    "# Can add more topic info to this dataframe"
   ]
  },
  {
   "attachments": {},
   "cell_type": "markdown",
   "metadata": {},
   "source": [
    "# DONE!"
   ]
  },
  {
   "attachments": {},
   "cell_type": "markdown",
   "metadata": {},
   "source": [
    "---"
   ]
  }
 ],
 "metadata": {
  "kernelspec": {
   "display_name": "Python 3.8 scenicplus",
   "language": "python",
   "name": "scenicplus"
  },
  "language_info": {
   "codemirror_mode": {
    "name": "ipython",
    "version": 3
   },
   "file_extension": ".py",
   "mimetype": "text/x-python",
   "name": "python",
   "nbconvert_exporter": "python",
   "pygments_lexer": "ipython3",
   "version": "3.8.15"
  },
  "orig_nbformat": 4
 },
 "nbformat": 4,
 "nbformat_minor": 2
}
