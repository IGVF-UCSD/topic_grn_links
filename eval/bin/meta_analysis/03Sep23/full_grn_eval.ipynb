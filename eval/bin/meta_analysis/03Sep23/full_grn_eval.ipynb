{
 "cells": [
  {
   "attachments": {},
   "cell_type": "markdown",
   "metadata": {},
   "source": [
    "# Set-up"
   ]
  },
  {
   "cell_type": "code",
   "execution_count": 178,
   "metadata": {},
   "outputs": [],
   "source": [
    "import os\n",
    "import sys\n",
    "import glob\n",
    "import matplotlib.pyplot as plt\n",
    "from tqdm.auto import tqdm\n",
    "import numpy as np\n",
    "import pandas as pd\n",
    "import scanpy as sc\n",
    "import seaborn as sns\n",
    "from igraph import Graph\n",
    "import celloracle as co"
   ]
  },
  {
   "cell_type": "code",
   "execution_count": 81,
   "metadata": {},
   "outputs": [],
   "source": [
    "from celloracle.network_analysis.links_object import _thresholding\n",
    "from sklearn.linear_model import LinearRegression as lr\n",
    "\n",
    "def read_links_dict_from_metadata(metadata_df, id_col=\"grn_name\", verbose=True):\n",
    "    links_dict = {}\n",
    "    for _, row in tqdm(metadata_df.iterrows(), total=len(metadata_df)):\n",
    "        name = row[id_col]\n",
    "        links_file = row[\"output_table_path\"]\n",
    "        links_df = pd.read_csv(links_file, sep=\"\\t\")\n",
    "        links_dict[name] = links_df\n",
    "        if verbose:\n",
    "            print(f\"Finished reading {name} that has {len(links_df)} links\")\n",
    "    return links_dict\n",
    "\n",
    "def filter_links_dict(links_dict, p=None, weight=\"weight_unsigned\", threshold_number=2000, verbose=True):\n",
    "    filtered_links_dict = {}\n",
    "    for i, (name, links_df) in tqdm(enumerate(links_dict.items()), total=len(links_dict)):\n",
    "        filtered_links_df = _thresholding(links_df, p=p, weight=weight, threshold_number=threshold_number)\n",
    "        if verbose:\n",
    "            print(f\"{name} went from {len(links_df)} to {len(filtered_links_df)}\")\n",
    "        filtered_links_dict[name] = filtered_links_df\n",
    "    return filtered_links_dict\n",
    "\n",
    "def create_igraph_from_links(links):\n",
    "    g = Graph.DataFrame(links[[\"source\", \"target\"]], directed=True, use_vids=False)\n",
    "    if links[\"weight_minmax_normalized\"].min() <= 0:\n",
    "        print(\"Non-positive value detected in weight_minmax_normalized. Adding 1e-6 to all values\")\n",
    "        links[\"weight_minmax_normalized\"] = links[\"weight_minmax_normalized\"] + 1e-6\n",
    "    g.es[\"weight\"] = links[\"weight_minmax_normalized\"].values.copy()\n",
    "    return g\n",
    "\n",
    "def node_scores(g):\n",
    "    df = g.get_vertex_dataframe()\n",
    "    for i in [\"all\", \"in\", \"out\"]:\n",
    "        df[f\"degree_{i}\"] = g.degree(mode=i)\n",
    "        df[f\"degree_centrality_{i}\"] = df[f\"degree_{i}\"] / (df.shape[0]-1)\n",
    "    df[\"betweenness_centrality\"] = g.betweenness(directed=True, weights=\"weight\")\n",
    "    df[\"eigenvector_centrality\"] = g.eigenvector_centrality(directed=False, weights=\"weight\")\n",
    "    df = df.set_index(\"name\")\n",
    "    df.index.name = None\n",
    "    return df\n",
    "\n",
    "def node_scores_from_links_dict(links_dict, id_col=\"grn_name\", verbose=True):\n",
    "    node_scores_lst = []\n",
    "    for i, (name, links) in tqdm(enumerate(links_dict.items()), total=len(links_dict)):\n",
    "        if verbose:\n",
    "            print(f\"Processing {name}\")\n",
    "        g = create_igraph_from_links(links)\n",
    "        df = node_scores(g)\n",
    "        df[\"grn_name\"] = name\n",
    "        node_scores_lst.append(df)\n",
    "    return pd.concat(node_scores_lst, axis=0)\n",
    "\n",
    "def scale_free_topology_score(g):\n",
    "    degree_df = pd.DataFrame(g.degree(mode=\"all\"), columns=[\"degree\"])\n",
    "    dist = degree_df.degree.value_counts()/degree_df.degree.value_counts().sum()\n",
    "    dist.index = dist.index.astype(int)\n",
    "    x = np.log(dist.index.values).reshape([-1,1])\n",
    "    y = np.log(dist.values).reshape([-1,1])\n",
    "    model = lr()\n",
    "    model.fit(x,y)\n",
    "    return model.score(x,y)\n",
    "\n",
    "def mean_connectivity(g):\n",
    "    return np.mean(g.degree(mode=\"all\"))\n",
    "\n",
    "def median_connectivity(g):\n",
    "    return np.median(g.degree(mode=\"all\"))\n",
    "\n",
    "def max_connectivity(g):\n",
    "    return np.max(g.degree(mode=\"all\"))\n",
    "\n",
    "def network_scores(g):\n",
    "    return pd.Series({\n",
    "        \"scale_free_topology_score\": scale_free_topology_score(g),\n",
    "        \"mean_connectivity\": mean_connectivity(g),\n",
    "        \"median_connectivity\": median_connectivity(g),\n",
    "        \"max_connectivity\": max_connectivity(g)\n",
    "    })\n",
    "\n",
    "def network_scores_from_links_dict(links_dict, verbose=True):\n",
    "    network_scores_df = pd.DataFrame()\n",
    "    for i, (name, links) in tqdm(enumerate(links_dict.items()), total=len(links_dict)):\n",
    "        if verbose:\n",
    "            print(f\"Calculating network scores for {name}\")\n",
    "        g = create_igraph_from_links(links)\n",
    "        network_scores_df[name] = network_scores(g)\n",
    "    return network_scores_df.T"
   ]
  },
  {
   "cell_type": "code",
   "execution_count": 11,
   "metadata": {},
   "outputs": [],
   "source": [
    "results_dir = \"/cellar/users/aklie/projects/igvf/topic_grn_links/eval/results\"\n",
    "dataset_name = \"meta_analysis\"\n",
    "in_date = \"03Sep23\""
   ]
  },
  {
   "attachments": {},
   "cell_type": "markdown",
   "metadata": {},
   "source": [
    "# Load in the metadata"
   ]
  },
  {
   "cell_type": "code",
   "execution_count": 198,
   "metadata": {},
   "outputs": [
    {
     "data": {
      "text/plain": [
       "120"
      ]
     },
     "execution_count": 198,
     "metadata": {},
     "output_type": "execute_result"
    }
   ],
   "source": [
    "# Read in all the networks\n",
    "metadata_df = pd.read_csv(os.path.join(results_dir, dataset_name, in_date, \"grn_metadata.tsv\"), sep=\"\\t\")\n",
    "len(metadata_df)"
   ]
  },
  {
   "cell_type": "code",
   "execution_count": 199,
   "metadata": {},
   "outputs": [
    {
     "data": {
      "text/plain": [
       "0      igvf_b01_LeftCortex_aracne_balanced_genotype_m...\n",
       "1      igvf_b01_LeftCortex_aracne_balanced_genotype_m...\n",
       "2      igvf_b01_LeftCortex_aracne_balanced_genotype_m...\n",
       "3      igvf_b01_LeftCortex_aracne_balanced_genotype_m...\n",
       "4      igvf_b01_LeftCortex_aracne_balanced_genotype_m...\n",
       "                             ...                        \n",
       "115    Bridge_Satpathy_wgcna_balanced_genotype_microg...\n",
       "116    Bridge_Satpathy_wgcna_balanced_genotype_microg...\n",
       "117    Bridge_Satpathy_wgcna_balanced_genotype_microg...\n",
       "118    Bridge_Satpathy_wgcna_balanced_genotype_microg...\n",
       "119    Bridge_Satpathy_wgcna_balanced_genotype_microg...\n",
       "Name: grn_name, Length: 120, dtype: object"
      ]
     },
     "execution_count": 199,
     "metadata": {},
     "output_type": "execute_result"
    }
   ],
   "source": [
    "# Make a run specific ID for saving all the results of that run\n",
    "metadata_df[\"grn_name\"]"
   ]
  },
  {
   "cell_type": "code",
   "execution_count": 23,
   "metadata": {},
   "outputs": [],
   "source": [
    "# Create a directory for each GRN\n",
    "for i, row in metadata_df.iterrows():\n",
    "    grn_name = row[\"grn_name\"]\n",
    "    if not os.path.exists(os.path.join(results_dir, dataset_name, in_date, \"grns\", grn_name)):\n",
    "        os.makedirs(os.path.join(results_dir, dataset_name, in_date, \"grns\", grn_name))"
   ]
  },
  {
   "attachments": {},
   "cell_type": "markdown",
   "metadata": {},
   "source": [
    "# Load in the GRNs"
   ]
  },
  {
   "cell_type": "code",
   "execution_count": 45,
   "metadata": {},
   "outputs": [
    {
     "name": "stdout",
     "output_type": "stream",
     "text": [
      "Finished reading igvf_b01_LeftCortex_aracne_balanced_genotype_microglia_B6J_0.05_raw that has 21163 links\n",
      "Finished reading igvf_b01_LeftCortex_aracne_balanced_genotype_microglia_CASTJ_0.05_raw that has 1860 links\n",
      "Finished reading igvf_b01_LeftCortex_aracne_balanced_genotype_microglia_both_0.05_raw that has 19138 links\n",
      "Finished reading igvf_b01_LeftCortex_aracne_balanced_genotype_microglia_B6J_0.05_log1p_cp10k that has 57597 links\n",
      "Finished reading igvf_b01_LeftCortex_aracne_balanced_genotype_microglia_CASTJ_0.05_log1p_cp10k that has 37427 links\n",
      "Finished reading igvf_b01_LeftCortex_aracne_balanced_genotype_microglia_both_0.05_log1p_cp10k that has 56634 links\n",
      "Finished reading igvf_b01_LeftCortex_aracne_balanced_genotype_microglia_B6J_0.05_pf_log1p_pf that has 54815 links\n",
      "Finished reading igvf_b01_LeftCortex_aracne_balanced_genotype_microglia_CASTJ_0.05_pf_log1p_pf that has 36845 links\n",
      "Finished reading igvf_b01_LeftCortex_aracne_balanced_genotype_microglia_both_0.05_pf_log1p_pf that has 51101 links\n",
      "Finished reading igvf_b01_LeftCortex_aracne_balanced_genotype_microglia_B6J_0.05_cpm_rank that has 41596 links\n",
      "Finished reading igvf_b01_LeftCortex_aracne_balanced_genotype_microglia_CASTJ_0.05_cpm_rank that has 34302 links\n",
      "Finished reading igvf_b01_LeftCortex_aracne_balanced_genotype_microglia_both_0.05_cpm_rank that has 49217 links\n",
      "Finished reading Bridge_Satpathy_aracne_balanced_genotype_microglia_B6J_0.05_raw that has 41431 links\n",
      "Finished reading Bridge_Satpathy_aracne_balanced_genotype_microglia_CASTJ_0.05_raw that has 41433 links\n",
      "Finished reading Bridge_Satpathy_aracne_balanced_genotype_microglia_both_0.05_raw that has 52455 links\n",
      "Finished reading Bridge_Satpathy_aracne_balanced_genotype_microglia_B6J_0.05_pf_log1p_pf that has 57054 links\n",
      "Finished reading Bridge_Satpathy_aracne_balanced_genotype_microglia_CASTJ_0.05_pf_log1p_pf that has 66517 links\n",
      "Finished reading Bridge_Satpathy_aracne_balanced_genotype_microglia_both_0.05_pf_log1p_pf that has 54312 links\n",
      "Finished reading Bridge_Satpathy_aracne_balanced_genotype_microglia_B6J_0.05_log1p_cp10k that has 61212 links\n",
      "Finished reading Bridge_Satpathy_aracne_balanced_genotype_microglia_CASTJ_0.05_log1p_cp10k that has 72040 links\n",
      "Finished reading Bridge_Satpathy_aracne_balanced_genotype_microglia_both_0.05_log1p_cp10k that has 57664 links\n",
      "Finished reading Bridge_Satpathy_aracne_balanced_genotype_microglia_B6J_0.05_cpm_rank that has 77266 links\n",
      "Finished reading Bridge_Satpathy_aracne_balanced_genotype_microglia_CASTJ_0.05_cpm_rank that has 63069 links\n",
      "Finished reading Bridge_Satpathy_aracne_balanced_genotype_microglia_both_0.05_cpm_rank that has 63991 links\n",
      "Finished reading igvf_b01_LeftCortex_celloracle_balanced_genotype_microglia_B6J_0.05_raw that has 350863 links\n",
      "Finished reading igvf_b01_LeftCortex_celloracle_balanced_genotype_microglia_CASTJ_0.05_raw that has 350863 links\n",
      "Finished reading igvf_b01_LeftCortex_celloracle_balanced_genotype_microglia_both_0.05_raw that has 350863 links\n",
      "Finished reading igvf_b01_LeftCortex_celloracle_balanced_genotype_microglia_B6J_0.05_log1p_cp10k that has 350863 links\n",
      "Finished reading igvf_b01_LeftCortex_celloracle_balanced_genotype_microglia_CASTJ_0.05_log1p_cp10k that has 350863 links\n",
      "Finished reading igvf_b01_LeftCortex_celloracle_balanced_genotype_microglia_both_0.05_log1p_cp10k that has 350863 links\n",
      "Finished reading igvf_b01_LeftCortex_celloracle_balanced_genotype_microglia_B6J_0.05_pf_log1p_pf that has 350863 links\n",
      "Finished reading igvf_b01_LeftCortex_celloracle_balanced_genotype_microglia_CASTJ_0.05_pf_log1p_pf that has 350863 links\n",
      "Finished reading igvf_b01_LeftCortex_celloracle_balanced_genotype_microglia_both_0.05_pf_log1p_pf that has 350863 links\n",
      "Finished reading igvf_b01_LeftCortex_celloracle_balanced_genotype_microglia_B6J_0.05_cpm_rank that has 350863 links\n",
      "Finished reading igvf_b01_LeftCortex_celloracle_balanced_genotype_microglia_CASTJ_0.05_cpm_rank that has 350863 links\n",
      "Finished reading igvf_b01_LeftCortex_celloracle_balanced_genotype_microglia_both_0.05_cpm_rank that has 350863 links\n",
      "Finished reading Bridge_Satpathy_celloracle_balanced_genotype_microglia_B6J_0.05_raw that has 526847 links\n",
      "Finished reading Bridge_Satpathy_celloracle_balanced_genotype_microglia_CASTJ_0.05_raw that has 526847 links\n",
      "Finished reading Bridge_Satpathy_celloracle_balanced_genotype_microglia_both_0.05_raw that has 526847 links\n",
      "Finished reading Bridge_Satpathy_celloracle_balanced_genotype_microglia_B6J_0.05_log1p_cp10k that has 526847 links\n",
      "Finished reading Bridge_Satpathy_celloracle_balanced_genotype_microglia_CASTJ_0.05_log1p_cp10k that has 526847 links\n",
      "Finished reading Bridge_Satpathy_celloracle_balanced_genotype_microglia_both_0.05_log1p_cp10k that has 526847 links\n",
      "Finished reading Bridge_Satpathy_celloracle_balanced_genotype_microglia_B6J_0.05_pf_log1p_pf that has 526847 links\n",
      "Finished reading Bridge_Satpathy_celloracle_balanced_genotype_microglia_CASTJ_0.05_pf_log1p_pf that has 526847 links\n",
      "Finished reading Bridge_Satpathy_celloracle_balanced_genotype_microglia_both_0.05_pf_log1p_pf that has 526847 links\n",
      "Finished reading Bridge_Satpathy_celloracle_balanced_genotype_microglia_B6J_0.05_cpm_rank that has 526847 links\n",
      "Finished reading Bridge_Satpathy_celloracle_balanced_genotype_microglia_CASTJ_0.05_cpm_rank that has 526847 links\n",
      "Finished reading Bridge_Satpathy_celloracle_balanced_genotype_microglia_both_0.05_cpm_rank that has 526847 links\n",
      "Finished reading igvf_b01_LeftCortex_grnboost2_balanced_genotype_microglia_B6J_0.05_raw that has 1221504 links\n",
      "Finished reading igvf_b01_LeftCortex_grnboost2_balanced_genotype_microglia_CASTJ_0.05_raw that has 1117401 links\n",
      "Finished reading igvf_b01_LeftCortex_grnboost2_balanced_genotype_microglia_both_0.05_raw that has 1334798 links\n",
      "Finished reading igvf_b01_LeftCortex_grnboost2_balanced_genotype_microglia_B6J_0.05_log1p_cp10k that has 522419 links\n",
      "Finished reading igvf_b01_LeftCortex_grnboost2_balanced_genotype_microglia_CASTJ_0.05_log1p_cp10k that has 500394 links\n",
      "Finished reading igvf_b01_LeftCortex_grnboost2_balanced_genotype_microglia_both_0.05_log1p_cp10k that has 585874 links\n",
      "Finished reading igvf_b01_LeftCortex_grnboost2_balanced_genotype_microglia_B6J_0.05_pf_log1p_pf that has 424929 links\n",
      "Finished reading igvf_b01_LeftCortex_grnboost2_balanced_genotype_microglia_CASTJ_0.05_pf_log1p_pf that has 409602 links\n",
      "Finished reading igvf_b01_LeftCortex_grnboost2_balanced_genotype_microglia_both_0.05_pf_log1p_pf that has 447355 links\n",
      "Finished reading igvf_b01_LeftCortex_grnboost2_balanced_genotype_microglia_B6J_0.05_cpm_rank that has 611505 links\n",
      "Finished reading igvf_b01_LeftCortex_grnboost2_balanced_genotype_microglia_CASTJ_0.05_cpm_rank that has 608310 links\n",
      "Finished reading igvf_b01_LeftCortex_grnboost2_balanced_genotype_microglia_both_0.05_cpm_rank that has 709801 links\n",
      "Finished reading Bridge_Satpathy_grnboost2_balanced_genotype_microglia_B6J_0.05_log1p_cp10k that has 1108518 links\n",
      "Finished reading Bridge_Satpathy_grnboost2_balanced_genotype_microglia_CASTJ_0.05_log1p_cp10k that has 1136089 links\n",
      "Finished reading Bridge_Satpathy_grnboost2_balanced_genotype_microglia_both_0.05_log1p_cp10k that has 1317524 links\n",
      "Finished reading Bridge_Satpathy_grnboost2_balanced_genotype_microglia_B6J_0.05_pf_log1p_pf that has 858533 links\n",
      "Finished reading Bridge_Satpathy_grnboost2_balanced_genotype_microglia_CASTJ_0.05_pf_log1p_pf that has 892451 links\n",
      "Finished reading Bridge_Satpathy_grnboost2_balanced_genotype_microglia_both_0.05_pf_log1p_pf that has 970382 links\n",
      "Finished reading Bridge_Satpathy_grnboost2_balanced_genotype_microglia_B6J_0.05_raw that has 1851654 links\n",
      "Finished reading Bridge_Satpathy_grnboost2_balanced_genotype_microglia_CASTJ_0.05_raw that has 2065071 links\n",
      "Finished reading Bridge_Satpathy_grnboost2_balanced_genotype_microglia_both_0.05_raw that has 2185946 links\n",
      "Finished reading Bridge_Satpathy_grnboost2_balanced_genotype_microglia_B6J_0.05_cpm_rank that has 1518977 links\n",
      "Finished reading Bridge_Satpathy_grnboost2_balanced_genotype_microglia_CASTJ_0.05_cpm_rank that has 1519890 links\n",
      "Finished reading Bridge_Satpathy_grnboost2_balanced_genotype_microglia_both_0.05_cpm_rank that has 1832958 links\n",
      "Finished reading igvf_b01_LeftCortex_scenic_balanced_genotype_microglia_B6J_0.05_raw that has 33941 links\n",
      "Finished reading igvf_b01_LeftCortex_scenic_balanced_genotype_microglia_CASTJ_0.05_raw that has 33780 links\n",
      "Finished reading igvf_b01_LeftCortex_scenic_balanced_genotype_microglia_both_0.05_raw that has 37373 links\n",
      "Finished reading igvf_b01_LeftCortex_scenic_balanced_genotype_microglia_B6J_0.05_log1p_cp10k that has 25473 links\n",
      "Finished reading igvf_b01_LeftCortex_scenic_balanced_genotype_microglia_CASTJ_0.05_log1p_cp10k that has 25775 links\n",
      "Finished reading igvf_b01_LeftCortex_scenic_balanced_genotype_microglia_both_0.05_log1p_cp10k that has 26634 links\n",
      "Finished reading igvf_b01_LeftCortex_scenic_balanced_genotype_microglia_B6J_0.05_pf_log1p_pf that has 24848 links\n",
      "Finished reading igvf_b01_LeftCortex_scenic_balanced_genotype_microglia_CASTJ_0.05_pf_log1p_pf that has 24085 links\n",
      "Finished reading igvf_b01_LeftCortex_scenic_balanced_genotype_microglia_both_0.05_pf_log1p_pf that has 24580 links\n",
      "Finished reading igvf_b01_LeftCortex_scenic_balanced_genotype_microglia_B6J_0.05_cpm_rank that has 14074 links\n",
      "Finished reading igvf_b01_LeftCortex_scenic_balanced_genotype_microglia_CASTJ_0.05_cpm_rank that has 14204 links\n",
      "Finished reading igvf_b01_LeftCortex_scenic_balanced_genotype_microglia_both_0.05_cpm_rank that has 9133 links\n",
      "Finished reading Bridge_Satpathy_scenic_balanced_genotype_microglia_B6J_0.05_log1p_cp10k that has 29398 links\n",
      "Finished reading Bridge_Satpathy_scenic_balanced_genotype_microglia_CASTJ_0.05_log1p_cp10k that has 32549 links\n",
      "Finished reading Bridge_Satpathy_scenic_balanced_genotype_microglia_both_0.05_log1p_cp10k that has 32699 links\n",
      "Finished reading Bridge_Satpathy_scenic_balanced_genotype_microglia_B6J_0.05_pf_log1p_pf that has 29965 links\n",
      "Finished reading Bridge_Satpathy_scenic_balanced_genotype_microglia_CASTJ_0.05_pf_log1p_pf that has 31947 links\n",
      "Finished reading Bridge_Satpathy_scenic_balanced_genotype_microglia_both_0.05_pf_log1p_pf that has 32104 links\n",
      "Finished reading Bridge_Satpathy_scenic_balanced_genotype_microglia_B6J_0.05_raw that has 35436 links\n",
      "Finished reading Bridge_Satpathy_scenic_balanced_genotype_microglia_CASTJ_0.05_raw that has 40745 links\n",
      "Finished reading Bridge_Satpathy_scenic_balanced_genotype_microglia_both_0.05_raw that has 41162 links\n",
      "Finished reading Bridge_Satpathy_scenic_balanced_genotype_microglia_B6J_0.05_cpm_rank that has 23281 links\n",
      "Finished reading Bridge_Satpathy_scenic_balanced_genotype_microglia_CASTJ_0.05_cpm_rank that has 23254 links\n",
      "Finished reading Bridge_Satpathy_scenic_balanced_genotype_microglia_both_0.05_cpm_rank that has 21148 links\n",
      "Finished reading igvf_b01_LeftCortex_wgcna_balanced_genotype_microglia_B6J_0.05_raw that has 1539169 links\n",
      "Finished reading igvf_b01_LeftCortex_wgcna_balanced_genotype_microglia_CASTJ_0.05_raw that has 1535094 links\n",
      "Finished reading igvf_b01_LeftCortex_wgcna_balanced_genotype_microglia_both_0.05_raw that has 1539566 links\n",
      "Finished reading igvf_b01_LeftCortex_wgcna_balanced_genotype_microglia_B6J_0.05_log1p_cp10k that has 1539169 links\n",
      "Finished reading igvf_b01_LeftCortex_wgcna_balanced_genotype_microglia_CASTJ_0.05_log1p_cp10k that has 1535094 links\n",
      "Finished reading igvf_b01_LeftCortex_wgcna_balanced_genotype_microglia_both_0.05_log1p_cp10k that has 1539566 links\n",
      "Finished reading igvf_b01_LeftCortex_wgcna_balanced_genotype_microglia_B6J_0.05_pf_log1p_pf that has 1539169 links\n",
      "Finished reading igvf_b01_LeftCortex_wgcna_balanced_genotype_microglia_CASTJ_0.05_pf_log1p_pf that has 1535094 links\n",
      "Finished reading igvf_b01_LeftCortex_wgcna_balanced_genotype_microglia_both_0.05_pf_log1p_pf that has 1539566 links\n",
      "Finished reading igvf_b01_LeftCortex_wgcna_balanced_genotype_microglia_B6J_0.05_cpm_rank that has 1539566 links\n",
      "Finished reading igvf_b01_LeftCortex_wgcna_balanced_genotype_microglia_CASTJ_0.05_cpm_rank that has 1539566 links\n",
      "Finished reading igvf_b01_LeftCortex_wgcna_balanced_genotype_microglia_both_0.05_cpm_rank that has 1539566 links\n",
      "Finished reading Bridge_Satpathy_wgcna_balanced_genotype_microglia_B6J_0.05_raw that has 3140091 links\n",
      "Finished reading Bridge_Satpathy_wgcna_balanced_genotype_microglia_CASTJ_0.05_raw that has 3140091 links\n",
      "Finished reading Bridge_Satpathy_wgcna_balanced_genotype_microglia_both_0.05_raw that has 3140091 links\n",
      "Finished reading Bridge_Satpathy_wgcna_balanced_genotype_microglia_B6J_0.05_cpm_rank that has 3140091 links\n",
      "Finished reading Bridge_Satpathy_wgcna_balanced_genotype_microglia_CASTJ_0.05_cpm_rank that has 3140091 links\n",
      "Finished reading Bridge_Satpathy_wgcna_balanced_genotype_microglia_both_0.05_cpm_rank that has 3140091 links\n",
      "Finished reading Bridge_Satpathy_wgcna_balanced_genotype_microglia_B6J_0.05_log1p_cp10k that has 3140091 links\n",
      "Finished reading Bridge_Satpathy_wgcna_balanced_genotype_microglia_CASTJ_0.05_log1p_cp10k that has 3140091 links\n",
      "Finished reading Bridge_Satpathy_wgcna_balanced_genotype_microglia_both_0.05_log1p_cp10k that has 3140091 links\n",
      "Finished reading Bridge_Satpathy_wgcna_balanced_genotype_microglia_B6J_0.05_pf_log1p_pf that has 3140091 links\n",
      "Finished reading Bridge_Satpathy_wgcna_balanced_genotype_microglia_CASTJ_0.05_pf_log1p_pf that has 3140091 links\n",
      "Finished reading Bridge_Satpathy_wgcna_balanced_genotype_microglia_both_0.05_pf_log1p_pf that has 3140091 links\n"
     ]
    }
   ],
   "source": [
    "# Read in all the links\n",
    "links_dict = read_links_dict_from_metadata(metadata_df, id_col=\"grn_name\", verbose=False)"
   ]
  },
  {
   "cell_type": "code",
   "execution_count": 46,
   "metadata": {},
   "outputs": [],
   "source": [
    "# Threshold the links\n",
    "filtered_links_dict = filter_links_dict(links_dict, p=None, weight=\"weight_unsigned\", threshold_number=2000, verbose=False)"
   ]
  },
  {
   "cell_type": "code",
   "execution_count": 50,
   "metadata": {},
   "outputs": [
    {
     "data": {
      "application/vnd.jupyter.widget-view+json": {
       "model_id": "7e266269ad2e42399cb12f1c4296a627",
       "version_major": 2,
       "version_minor": 0
      },
      "text/plain": [
       "  0%|          | 0/120 [00:00<?, ?it/s]"
      ]
     },
     "metadata": {},
     "output_type": "display_data"
    }
   ],
   "source": [
    "# For each filtered links, save the tsv to a new run specific directory\n",
    "filtered_links_file_lst = []\n",
    "for i, row in tqdm(metadata_df.iterrows(), total=len(metadata_df)):\n",
    "    name = row[\"grn_name\"]\n",
    "    links_df = filtered_links_dict[name].sort_values(\"weight_minmax_normalized\", ascending=False)\n",
    "    file = os.path.join(results_dir, dataset_name, in_date, \"grns\", name, \"filterd_links.tsv\")\n",
    "    links_df.to_csv(file, sep=\"\\t\", index=False)\n",
    "    filtered_links_file_lst.append(file)"
   ]
  },
  {
   "attachments": {},
   "cell_type": "markdown",
   "metadata": {},
   "source": [
    "# Network metrics"
   ]
  },
  {
   "cell_type": "code",
   "execution_count": 64,
   "metadata": {},
   "outputs": [
    {
     "data": {
      "application/vnd.jupyter.widget-view+json": {
       "model_id": "7abc3af5bd744df982f97dea96a128bb",
       "version_major": 2,
       "version_minor": 0
      },
      "text/plain": [
       "  0%|          | 0/120 [00:00<?, ?it/s]"
      ]
     },
     "metadata": {},
     "output_type": "display_data"
    }
   ],
   "source": [
    "network_metric_df = network_scores_from_links_dict(links_dict=filtered_links_dict, verbose=False)"
   ]
  },
  {
   "cell_type": "code",
   "execution_count": 65,
   "metadata": {},
   "outputs": [],
   "source": [
    "network_metric_df.to_csv(os.path.join(results_dir, dataset_name, in_date, \"network_metrics.tsv\"), sep=\"\\t\")"
   ]
  },
  {
   "attachments": {},
   "cell_type": "markdown",
   "metadata": {},
   "source": [
    "# TF rankings"
   ]
  },
  {
   "cell_type": "code",
   "execution_count": null,
   "metadata": {},
   "outputs": [],
   "source": [
    "merged_node_scores = node_scores_from_links_dict(filtered_links_dict, verbose=False)"
   ]
  },
  {
   "attachments": {},
   "cell_type": "markdown",
   "metadata": {},
   "source": [
    "## Get all unique TFs and subset to those"
   ]
  },
  {
   "cell_type": "code",
   "execution_count": 183,
   "metadata": {},
   "outputs": [],
   "source": [
    "scenic_tfs = pd.read_csv(\"/cellar/users/aklie/opt/igvf-ucsd/grnboost2_pipeline/data/tf_lists/allTFs_mm.txt\", header=None)[0].values\n",
    "aracne_tfs = pd.read_csv(\"/cellar/users/aklie/opt/igvf-ucsd/aracne_pipeline/data/tf_cotf_signalling_list/mouse/tf_mus_symbol.txt\", header=None)[0].values\n",
    "literature_tfs = pd.read_csv(\"/cellar/users/aklie/projects/igvf/topic_grn_links/data/refs/microglia_regulators.csv\")[\"regulator\"].values\n",
    "celloracle_tfs = co.data.load_mouse_scATAC_atlas_base_GRN().columns[2:]"
   ]
  },
  {
   "cell_type": "code",
   "execution_count": 184,
   "metadata": {},
   "outputs": [
    {
     "data": {
      "application/vnd.jupyter.widget-view+json": {
       "model_id": "a2b8e0af47fe4a06bcbfe9fbb1651fda",
       "version_major": 2,
       "version_minor": 0
      },
      "text/plain": [
       "  0%|          | 0/120 [00:00<?, ?it/s]"
      ]
     },
     "metadata": {},
     "output_type": "display_data"
    },
    {
     "data": {
      "text/plain": [
       "709"
      ]
     },
     "execution_count": 184,
     "metadata": {},
     "output_type": "execute_result"
    }
   ],
   "source": [
    "tfs = set()\n",
    "number_tfs_per_grn = []\n",
    "for i, row in tqdm(metadata_df.iterrows(), total=len(metadata_df)):\n",
    "    name = row[\"grn_name\"]\n",
    "    grn_tfs = filtered_links_dict[name][\"source\"].unique()\n",
    "    number_tfs_per_grn.append(len(grn_tfs))\n",
    "    tfs.update(grn_tfs)\n",
    "len(tfs)"
   ]
  },
  {
   "cell_type": "code",
   "execution_count": 185,
   "metadata": {},
   "outputs": [
    {
     "data": {
      "text/plain": [
       "555"
      ]
     },
     "execution_count": 185,
     "metadata": {},
     "output_type": "execute_result"
    }
   ],
   "source": [
    "# How many tfs in scenic_tfs\n",
    "len(set(scenic_tfs).intersection(tfs))"
   ]
  },
  {
   "cell_type": "code",
   "execution_count": 186,
   "metadata": {},
   "outputs": [
    {
     "data": {
      "text/plain": [
       "456"
      ]
     },
     "execution_count": 186,
     "metadata": {},
     "output_type": "execute_result"
    }
   ],
   "source": [
    "# How many tfs in scenic_tfs\n",
    "len(set(aracne_tfs).intersection(tfs))"
   ]
  },
  {
   "cell_type": "code",
   "execution_count": 188,
   "metadata": {},
   "outputs": [
    {
     "data": {
      "text/plain": [
       "223"
      ]
     },
     "execution_count": 188,
     "metadata": {},
     "output_type": "execute_result"
    }
   ],
   "source": [
    "# How many tfs in celloracle_tfs\n",
    "len(set(celloracle_tfs).intersection(tfs))"
   ]
  },
  {
   "cell_type": "code",
   "execution_count": 189,
   "metadata": {},
   "outputs": [
    {
     "data": {
      "text/plain": [
       "9"
      ]
     },
     "execution_count": 189,
     "metadata": {},
     "output_type": "execute_result"
    }
   ],
   "source": [
    "len(set(literature_tfs).intersection(tfs))"
   ]
  },
  {
   "cell_type": "code",
   "execution_count": 190,
   "metadata": {},
   "outputs": [
    {
     "data": {
      "text/plain": [
       "{'Usf1'}"
      ]
     },
     "execution_count": 190,
     "metadata": {},
     "output_type": "execute_result"
    }
   ],
   "source": [
    "# Which one is missing from literature_tfs\n",
    "set(literature_tfs).difference(tfs)"
   ]
  },
  {
   "cell_type": "code",
   "execution_count": 193,
   "metadata": {},
   "outputs": [],
   "source": [
    "# Create a dataframe with these tfs as index and whether they in literature_tfs as a column\n",
    "tf_df = pd.DataFrame(index=list(tfs))\n",
    "tf_df[\"in_scenic\"] = tf_df.index.isin(scenic_tfs)\n",
    "tf_df[\"in_aracne\"] = tf_df.index.isin(aracne_tfs)\n",
    "tf_df[\"in_celloracle\"] = tf_df.index.isin(celloracle_tfs)\n",
    "tf_df[\"in_literature\"] = tf_df.index.isin(literature_tfs)"
   ]
  },
  {
   "cell_type": "code",
   "execution_count": 194,
   "metadata": {},
   "outputs": [],
   "source": [
    "tf_only_scores = merged_node_scores.loc[tfs]"
   ]
  },
  {
   "cell_type": "code",
   "execution_count": 195,
   "metadata": {},
   "outputs": [],
   "source": [
    "tf_only_scores.to_csv(os.path.join(results_dir, dataset_name, in_date, \"tf_only_network_scores.tsv\"), sep=\"\\t\")"
   ]
  },
  {
   "cell_type": "code",
   "execution_count": 196,
   "metadata": {},
   "outputs": [],
   "source": [
    "# Count up the number of unique GRNs that each TF is in (groupby the index)\n",
    "tf_df[\"number_grns\"] = tf_only_scores.groupby(tf_only_scores.index).size()"
   ]
  },
  {
   "cell_type": "code",
   "execution_count": 197,
   "metadata": {},
   "outputs": [],
   "source": [
    "tf_df.to_csv(os.path.join(results_dir, dataset_name, in_date, \"tf_metadata.tsv\"), sep=\"\\t\")"
   ]
  },
  {
   "attachments": {},
   "cell_type": "markdown",
   "metadata": {},
   "source": [
    "## Network based measures"
   ]
  },
  {
   "cell_type": "code",
   "execution_count": 116,
   "metadata": {},
   "outputs": [],
   "source": [
    "metrics = [\"degree_centrality_out\", \"eigenvector_centrality\", \"betweenness_centrality\"]"
   ]
  },
  {
   "cell_type": "code",
   "execution_count": 121,
   "metadata": {},
   "outputs": [],
   "source": [
    "# For each grn and metric, rank the tfs, rename the metric column to rank_weight, and then save to the grn specific directory\n",
    "for grn, group_df in tf_only_scores.groupby(\"grn_name\"):\n",
    "    for metric in metrics:\n",
    "        df = group_df.copy()\n",
    "        df[\"rank\"] = df[metric].rank(ascending=False, method=\"min\")\n",
    "        df.sort_values(\"rank\", inplace=True)\n",
    "        df.rename(columns={metric: \"rank_weight\"}, inplace=True)\n",
    "        df = df[[\"rank_weight\", \"rank\"]]\n",
    "        df.to_csv(os.path.join(results_dir, dataset_name, in_date, \"grns\", grn, f\"{metric}.tsv\"), sep=\"\\t\")"
   ]
  },
  {
   "attachments": {},
   "cell_type": "markdown",
   "metadata": {},
   "source": [
    "## Expression and network based measures"
   ]
  },
  {
   "cell_type": "code",
   "execution_count": 124,
   "metadata": {},
   "outputs": [],
   "source": [
    "from scipy import sparse\n",
    "import decoupler as dc"
   ]
  },
  {
   "cell_type": "code",
   "execution_count": 128,
   "metadata": {},
   "outputs": [
    {
     "data": {
      "application/vnd.jupyter.widget-view+json": {
       "model_id": "b18264a2fe414bd78c7c6dde71e88294",
       "version_major": 2,
       "version_minor": 0
      },
      "text/plain": [
       "  0%|          | 0/120 [00:00<?, ?it/s]"
      ]
     },
     "metadata": {},
     "output_type": "display_data"
    }
   ],
   "source": [
    "for i, row in tqdm(metadata_df.iterrows(), total=len(metadata_df)):\n",
    "    \n",
    "    # Read in the expression data\n",
    "    h5ad_file = row[\"in_file_path\"].replace(\".tsv\", \".h5ad\").replace(\".loom\", \".h5ad\")\n",
    "    adata = sc.read_h5ad(h5ad_file)\n",
    "\n",
    "    # Get the run name for outputting to\n",
    "    grn_name = row[\"grn_name\"]\n",
    "\n",
    "    # Get the run specific GRN\n",
    "    grn = filtered_links_dict[grn_name]\n",
    "\n",
    "    # Make sure the adata uses the normalized counts\n",
    "    adata.raw = adata.copy()\n",
    "    if sparse.issparse(adata.layers[\"normalized_counts\"]):\n",
    "        adata.X = adata.layers[\"normalized_counts\"].A\n",
    "    else:\n",
    "        adata.X = adata.layers[\"normalized_counts\"]\n",
    "\n",
    "    # Run decoupler with ULM\n",
    "    dc.run_ulm(\n",
    "        mat=adata,\n",
    "        net=grn,\n",
    "        source='source',\n",
    "        target='target',\n",
    "        weight='weight_minmax_normalized',\n",
    "        verbose=False,\n",
    "        use_raw=False\n",
    "    )\n",
    "\n",
    "    # Grab the ULM estimates\n",
    "    acts = dc.get_acts(adata, obsm_key='ulm_estimate')\n",
    "    acts.var[\"rank_weight\"] = acts.X.mean(axis=0)\n",
    "    acts.var[\"rank\"] = acts.var[\"rank_weight\"].rank(ascending=False)\n",
    "    acts_ranked = acts.var.sort_values(\"rank\")\n",
    "\n",
    "    # Clean up\n",
    "    acts_ranked = acts_ranked[[\"rank_weight\", \"rank\"]]\n",
    "    acts_ranked.index.name = None\n",
    "\n",
    "    # Save the ranked TFs\n",
    "    acts_ranked.to_csv(os.path.join(results_dir, dataset_name, in_date, \"grns\", grn_name, f\"ulm.tsv\"), sep=\"\\t\")\n",
    "    \"\"\"\n",
    "    # Run decoupler with VIPER\n",
    "    dc.run_viper(\n",
    "        mat=adata,\n",
    "        net=grn,\n",
    "        source='source',\n",
    "        target='target',\n",
    "        weight='weight_minmax_normalized',\n",
    "        verbose=False,\n",
    "        use_raw=False\n",
    "    )\n",
    "\n",
    "    # Grab the VIPER estimates\n",
    "    acts = dc.get_acts(adata, obsm_key='viper_estimate')\n",
    "    acts.var[\"rank_weight\"] = acts.X.mean(axis=0)\n",
    "    acts.var[\"rank\"] = acts.var[\"rank_weight\"].rank(ascending=False)\n",
    "    acts_ranked = acts.var.sort_values(\"rank\")\n",
    "\n",
    "    # Clean up\n",
    "    acts_ranked = acts_ranked[[\"rank_weight\", \"rank\"]]\n",
    "    acts_ranked.index.name = None\n",
    "\n",
    "    # Save the ranked TFs\n",
    "    acts_ranked.to_csv(os.path.join(results_dir, dataset_name, in_date, \"grns\", grn_name, f\"viper.tsv\"), sep=\"\\t\")\n",
    "    \"\"\"\n",
    "    # Run decoupler with AUCell\n",
    "    dc.run_aucell(\n",
    "        mat=adata,\n",
    "        net=grn,\n",
    "        source='source',\n",
    "        target='target',\n",
    "        verbose=False,\n",
    "        use_raw=False\n",
    "    )\n",
    "\n",
    "    # Grab the AUCell estimates\n",
    "    acts = dc.get_acts(adata, obsm_key='aucell_estimate')\n",
    "    acts.var[\"rank_weight\"] = acts.X.mean(axis=0)\n",
    "    acts.var[\"rank\"] = acts.var[\"rank_weight\"].rank(ascending=False)\n",
    "    acts_ranked = acts.var.sort_values(\"rank\")\n",
    "\n",
    "    # Clean up\n",
    "    acts_ranked = acts_ranked[[\"rank_weight\", \"rank\"]]\n",
    "    acts_ranked.index.name = None\n",
    "\n",
    "    # Save the ranked TFs\n",
    "    acts_ranked.to_csv(os.path.join(results_dir, dataset_name, in_date, \"grns\", grn_name, f\"aucell.tsv\"), sep=\"\\t\")"
   ]
  },
  {
   "attachments": {},
   "cell_type": "markdown",
   "metadata": {},
   "source": [
    "# Add everything to metadata table"
   ]
  },
  {
   "cell_type": "code",
   "execution_count": 152,
   "metadata": {},
   "outputs": [],
   "source": [
    "cleaned_metadata_df = metadata_df.copy()\n",
    "cleaned_metadata_df = cleaned_metadata_df[[\"grn_name\", \"dataset\", \"method\", \"cells\", \"genes\", \"normalization\", \"genotype\"]]"
   ]
  },
  {
   "cell_type": "code",
   "execution_count": 153,
   "metadata": {},
   "outputs": [],
   "source": [
    "cleaned_metadata_df = cleaned_metadata_df.merge(network_metric_df, left_on=\"grn_name\", right_index=True)"
   ]
  },
  {
   "cell_type": "code",
   "execution_count": 154,
   "metadata": {},
   "outputs": [],
   "source": [
    "cleaned_metadata_df[\"number_tfs\"] = number_tfs_per_grn\n",
    "cleaned_metadata_df[\"filtered_links_path\"] = filtered_links_file_lst"
   ]
  },
  {
   "cell_type": "code",
   "execution_count": 155,
   "metadata": {},
   "outputs": [],
   "source": [
    "cleaned_metadata_df[\"degree_centrality_out_path\"] = cleaned_metadata_df[\"grn_name\"].apply(lambda x: os.path.join(results_dir, dataset_name, in_date, \"grns\", x, \"degree_centrality_out.tsv\"))\n",
    "cleaned_metadata_df[\"eigenvector_centrality_path\"] = cleaned_metadata_df[\"grn_name\"].apply(lambda x: os.path.join(results_dir, dataset_name, in_date, \"grns\", x, \"eigenvector_centrality.tsv\"))\n",
    "cleaned_metadata_df[\"betweenness_centrality_path\"] = cleaned_metadata_df[\"grn_name\"].apply(lambda x: os.path.join(results_dir, dataset_name, in_date, \"grns\", x, \"betweenness_centrality.tsv\"))\n",
    "cleaned_metadata_df[\"ulm_path\"] = cleaned_metadata_df[\"grn_name\"].apply(lambda x: os.path.join(results_dir, dataset_name, in_date, \"grns\", x, \"ulm.tsv\"))\n",
    "cleaned_metadata_df[\"viper_path\"] = cleaned_metadata_df[\"grn_name\"].apply(lambda x: os.path.join(results_dir, dataset_name, in_date, \"grns\", x, \"viper.tsv\"))\n",
    "cleaned_metadata_df[\"aucell_path\"] = cleaned_metadata_df[\"grn_name\"].apply(lambda x: os.path.join(results_dir, dataset_name, in_date, \"grns\", x, \"aucell.tsv\"))"
   ]
  },
  {
   "cell_type": "code",
   "execution_count": 175,
   "metadata": {},
   "outputs": [],
   "source": [
    "cleaned_metadata_df.to_csv(os.path.join(results_dir, dataset_name, in_date, \"cleaned_grn_metadata.tsv\"), sep=\"\\t\")"
   ]
  },
  {
   "attachments": {},
   "cell_type": "markdown",
   "metadata": {},
   "source": [
    "# DONE!"
   ]
  },
  {
   "attachments": {},
   "cell_type": "markdown",
   "metadata": {},
   "source": [
    "---"
   ]
  }
 ],
 "metadata": {
  "kernelspec": {
   "display_name": "Python 3.8 celloracle",
   "language": "python",
   "name": "celloracle"
  },
  "language_info": {
   "codemirror_mode": {
    "name": "ipython",
    "version": 3
   },
   "file_extension": ".py",
   "mimetype": "text/x-python",
   "name": "python",
   "nbconvert_exporter": "python",
   "pygments_lexer": "ipython3",
   "version": "3.8.17"
  },
  "orig_nbformat": 4
 },
 "nbformat": 4,
 "nbformat_minor": 2
}
