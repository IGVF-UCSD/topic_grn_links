{
 "cells": [
  {
   "attachments": {},
   "cell_type": "markdown",
   "metadata": {},
   "source": [
    "# Set-up"
   ]
  },
  {
   "cell_type": "code",
   "execution_count": 1,
   "metadata": {},
   "outputs": [],
   "source": [
    "import os\n",
    "import sys\n",
    "import glob\n",
    "import matplotlib.pyplot as plt\n",
    "from tqdm.auto import tqdm\n",
    "import numpy as np\n",
    "import pandas as pd\n",
    "import scanpy as sc\n",
    "import seaborn as sns"
   ]
  },
  {
   "cell_type": "code",
   "execution_count": 2,
   "metadata": {},
   "outputs": [],
   "source": [
    "results_dir = \"/cellar/users/aklie/projects/igvf/topic_grn_links/eval/results\"\n",
    "dataset_name = \"meta_analysis\"\n",
    "in_date = \"03Sep23\""
   ]
  },
  {
   "cell_type": "code",
   "execution_count": 3,
   "metadata": {},
   "outputs": [],
   "source": [
    "if not os.path.exists(os.path.join(results_dir, dataset_name, in_date, \"baselines\")):\n",
    "    os.makedirs(os.path.join(results_dir, dataset_name, in_date, \"baselines\"))"
   ]
  },
  {
   "attachments": {},
   "cell_type": "markdown",
   "metadata": {},
   "source": [
    "# Load in the metadata"
   ]
  },
  {
   "cell_type": "code",
   "execution_count": 4,
   "metadata": {},
   "outputs": [
    {
     "data": {
      "text/plain": [
       "120"
      ]
     },
     "execution_count": 4,
     "metadata": {},
     "output_type": "execute_result"
    }
   ],
   "source": [
    "# Read in all the networks\n",
    "metadata_df = pd.read_csv(os.path.join(results_dir, dataset_name, in_date, \"grn_metadata.tsv\"), sep=\"\\t\")\n",
    "len(metadata_df)"
   ]
  },
  {
   "cell_type": "code",
   "execution_count": 5,
   "metadata": {},
   "outputs": [
    {
     "data": {
      "text/html": [
       "<div>\n",
       "<style scoped>\n",
       "    .dataframe tbody tr th:only-of-type {\n",
       "        vertical-align: middle;\n",
       "    }\n",
       "\n",
       "    .dataframe tbody tr th {\n",
       "        vertical-align: top;\n",
       "    }\n",
       "\n",
       "    .dataframe thead th {\n",
       "        text-align: right;\n",
       "    }\n",
       "</style>\n",
       "<table border=\"1\" class=\"dataframe\">\n",
       "  <thead>\n",
       "    <tr style=\"text-align: right;\">\n",
       "      <th></th>\n",
       "      <th>in_file_path</th>\n",
       "      <th>out_dir_path</th>\n",
       "      <th>tf_list</th>\n",
       "      <th>pval</th>\n",
       "      <th>num_boostraps</th>\n",
       "      <th>tf_type</th>\n",
       "      <th>run_id</th>\n",
       "      <th>method</th>\n",
       "      <th>dataset</th>\n",
       "      <th>base_grn</th>\n",
       "      <th>...</th>\n",
       "      <th>annotation_db</th>\n",
       "      <th>network_type</th>\n",
       "      <th>net_tsv_exists</th>\n",
       "      <th>cells</th>\n",
       "      <th>genes</th>\n",
       "      <th>normalization</th>\n",
       "      <th>genotype</th>\n",
       "      <th>grn_name</th>\n",
       "      <th>output_table_path</th>\n",
       "      <th>output_table_exists</th>\n",
       "    </tr>\n",
       "  </thead>\n",
       "  <tbody>\n",
       "    <tr>\n",
       "      <th>24</th>\n",
       "      <td>/cellar/users/aklie/data/igvf/topic_grn_links/...</td>\n",
       "      <td>/cellar/users/aklie/projects/igvf/topic_grn_li...</td>\n",
       "      <td>NaN</td>\n",
       "      <td>NaN</td>\n",
       "      <td>NaN</td>\n",
       "      <td>NaN</td>\n",
       "      <td>2304921235_20230831-161949</td>\n",
       "      <td>celloracle</td>\n",
       "      <td>igvf_b01_LeftCortex</td>\n",
       "      <td>mouse_scATAC_atlas</td>\n",
       "      <td>...</td>\n",
       "      <td>NaN</td>\n",
       "      <td>NaN</td>\n",
       "      <td>True</td>\n",
       "      <td>balanced_genotype_microglia</td>\n",
       "      <td>0.05</td>\n",
       "      <td>raw</td>\n",
       "      <td>B6J</td>\n",
       "      <td>igvf_b01_LeftCortex_celloracle_balanced_genoty...</td>\n",
       "      <td>/cellar/users/aklie/projects/igvf/topic_grn_li...</td>\n",
       "      <td>True</td>\n",
       "    </tr>\n",
       "    <tr>\n",
       "      <th>25</th>\n",
       "      <td>/cellar/users/aklie/data/igvf/topic_grn_links/...</td>\n",
       "      <td>/cellar/users/aklie/projects/igvf/topic_grn_li...</td>\n",
       "      <td>NaN</td>\n",
       "      <td>NaN</td>\n",
       "      <td>NaN</td>\n",
       "      <td>NaN</td>\n",
       "      <td>2304921235_20230831-161949</td>\n",
       "      <td>celloracle</td>\n",
       "      <td>igvf_b01_LeftCortex</td>\n",
       "      <td>mouse_scATAC_atlas</td>\n",
       "      <td>...</td>\n",
       "      <td>NaN</td>\n",
       "      <td>NaN</td>\n",
       "      <td>True</td>\n",
       "      <td>balanced_genotype_microglia</td>\n",
       "      <td>0.05</td>\n",
       "      <td>raw</td>\n",
       "      <td>CASTJ</td>\n",
       "      <td>igvf_b01_LeftCortex_celloracle_balanced_genoty...</td>\n",
       "      <td>/cellar/users/aklie/projects/igvf/topic_grn_li...</td>\n",
       "      <td>True</td>\n",
       "    </tr>\n",
       "    <tr>\n",
       "      <th>26</th>\n",
       "      <td>/cellar/users/aklie/data/igvf/topic_grn_links/...</td>\n",
       "      <td>/cellar/users/aklie/projects/igvf/topic_grn_li...</td>\n",
       "      <td>NaN</td>\n",
       "      <td>NaN</td>\n",
       "      <td>NaN</td>\n",
       "      <td>NaN</td>\n",
       "      <td>2304921235_20230831-161949</td>\n",
       "      <td>celloracle</td>\n",
       "      <td>igvf_b01_LeftCortex</td>\n",
       "      <td>mouse_scATAC_atlas</td>\n",
       "      <td>...</td>\n",
       "      <td>NaN</td>\n",
       "      <td>NaN</td>\n",
       "      <td>True</td>\n",
       "      <td>balanced_genotype_microglia</td>\n",
       "      <td>0.05</td>\n",
       "      <td>raw</td>\n",
       "      <td>both</td>\n",
       "      <td>igvf_b01_LeftCortex_celloracle_balanced_genoty...</td>\n",
       "      <td>/cellar/users/aklie/projects/igvf/topic_grn_li...</td>\n",
       "      <td>True</td>\n",
       "    </tr>\n",
       "    <tr>\n",
       "      <th>27</th>\n",
       "      <td>/cellar/users/aklie/data/igvf/topic_grn_links/...</td>\n",
       "      <td>/cellar/users/aklie/projects/igvf/topic_grn_li...</td>\n",
       "      <td>NaN</td>\n",
       "      <td>NaN</td>\n",
       "      <td>NaN</td>\n",
       "      <td>NaN</td>\n",
       "      <td>2304921235_20230831-161949</td>\n",
       "      <td>celloracle</td>\n",
       "      <td>igvf_b01_LeftCortex</td>\n",
       "      <td>mouse_scATAC_atlas</td>\n",
       "      <td>...</td>\n",
       "      <td>NaN</td>\n",
       "      <td>NaN</td>\n",
       "      <td>True</td>\n",
       "      <td>balanced_genotype_microglia</td>\n",
       "      <td>0.05</td>\n",
       "      <td>log1p_cp10k</td>\n",
       "      <td>B6J</td>\n",
       "      <td>igvf_b01_LeftCortex_celloracle_balanced_genoty...</td>\n",
       "      <td>/cellar/users/aklie/projects/igvf/topic_grn_li...</td>\n",
       "      <td>True</td>\n",
       "    </tr>\n",
       "    <tr>\n",
       "      <th>28</th>\n",
       "      <td>/cellar/users/aklie/data/igvf/topic_grn_links/...</td>\n",
       "      <td>/cellar/users/aklie/projects/igvf/topic_grn_li...</td>\n",
       "      <td>NaN</td>\n",
       "      <td>NaN</td>\n",
       "      <td>NaN</td>\n",
       "      <td>NaN</td>\n",
       "      <td>2304921235_20230831-161949</td>\n",
       "      <td>celloracle</td>\n",
       "      <td>igvf_b01_LeftCortex</td>\n",
       "      <td>mouse_scATAC_atlas</td>\n",
       "      <td>...</td>\n",
       "      <td>NaN</td>\n",
       "      <td>NaN</td>\n",
       "      <td>True</td>\n",
       "      <td>balanced_genotype_microglia</td>\n",
       "      <td>0.05</td>\n",
       "      <td>log1p_cp10k</td>\n",
       "      <td>CASTJ</td>\n",
       "      <td>igvf_b01_LeftCortex_celloracle_balanced_genoty...</td>\n",
       "      <td>/cellar/users/aklie/projects/igvf/topic_grn_li...</td>\n",
       "      <td>True</td>\n",
       "    </tr>\n",
       "    <tr>\n",
       "      <th>29</th>\n",
       "      <td>/cellar/users/aklie/data/igvf/topic_grn_links/...</td>\n",
       "      <td>/cellar/users/aklie/projects/igvf/topic_grn_li...</td>\n",
       "      <td>NaN</td>\n",
       "      <td>NaN</td>\n",
       "      <td>NaN</td>\n",
       "      <td>NaN</td>\n",
       "      <td>2304921235_20230831-161949</td>\n",
       "      <td>celloracle</td>\n",
       "      <td>igvf_b01_LeftCortex</td>\n",
       "      <td>mouse_scATAC_atlas</td>\n",
       "      <td>...</td>\n",
       "      <td>NaN</td>\n",
       "      <td>NaN</td>\n",
       "      <td>True</td>\n",
       "      <td>balanced_genotype_microglia</td>\n",
       "      <td>0.05</td>\n",
       "      <td>log1p_cp10k</td>\n",
       "      <td>both</td>\n",
       "      <td>igvf_b01_LeftCortex_celloracle_balanced_genoty...</td>\n",
       "      <td>/cellar/users/aklie/projects/igvf/topic_grn_li...</td>\n",
       "      <td>True</td>\n",
       "    </tr>\n",
       "    <tr>\n",
       "      <th>30</th>\n",
       "      <td>/cellar/users/aklie/data/igvf/topic_grn_links/...</td>\n",
       "      <td>/cellar/users/aklie/projects/igvf/topic_grn_li...</td>\n",
       "      <td>NaN</td>\n",
       "      <td>NaN</td>\n",
       "      <td>NaN</td>\n",
       "      <td>NaN</td>\n",
       "      <td>2304921235_20230831-161949</td>\n",
       "      <td>celloracle</td>\n",
       "      <td>igvf_b01_LeftCortex</td>\n",
       "      <td>mouse_scATAC_atlas</td>\n",
       "      <td>...</td>\n",
       "      <td>NaN</td>\n",
       "      <td>NaN</td>\n",
       "      <td>True</td>\n",
       "      <td>balanced_genotype_microglia</td>\n",
       "      <td>0.05</td>\n",
       "      <td>pf_log1p_pf</td>\n",
       "      <td>B6J</td>\n",
       "      <td>igvf_b01_LeftCortex_celloracle_balanced_genoty...</td>\n",
       "      <td>/cellar/users/aklie/projects/igvf/topic_grn_li...</td>\n",
       "      <td>True</td>\n",
       "    </tr>\n",
       "    <tr>\n",
       "      <th>31</th>\n",
       "      <td>/cellar/users/aklie/data/igvf/topic_grn_links/...</td>\n",
       "      <td>/cellar/users/aklie/projects/igvf/topic_grn_li...</td>\n",
       "      <td>NaN</td>\n",
       "      <td>NaN</td>\n",
       "      <td>NaN</td>\n",
       "      <td>NaN</td>\n",
       "      <td>2304921235_20230831-161949</td>\n",
       "      <td>celloracle</td>\n",
       "      <td>igvf_b01_LeftCortex</td>\n",
       "      <td>mouse_scATAC_atlas</td>\n",
       "      <td>...</td>\n",
       "      <td>NaN</td>\n",
       "      <td>NaN</td>\n",
       "      <td>True</td>\n",
       "      <td>balanced_genotype_microglia</td>\n",
       "      <td>0.05</td>\n",
       "      <td>pf_log1p_pf</td>\n",
       "      <td>CASTJ</td>\n",
       "      <td>igvf_b01_LeftCortex_celloracle_balanced_genoty...</td>\n",
       "      <td>/cellar/users/aklie/projects/igvf/topic_grn_li...</td>\n",
       "      <td>True</td>\n",
       "    </tr>\n",
       "    <tr>\n",
       "      <th>32</th>\n",
       "      <td>/cellar/users/aklie/data/igvf/topic_grn_links/...</td>\n",
       "      <td>/cellar/users/aklie/projects/igvf/topic_grn_li...</td>\n",
       "      <td>NaN</td>\n",
       "      <td>NaN</td>\n",
       "      <td>NaN</td>\n",
       "      <td>NaN</td>\n",
       "      <td>2304921235_20230831-161949</td>\n",
       "      <td>celloracle</td>\n",
       "      <td>igvf_b01_LeftCortex</td>\n",
       "      <td>mouse_scATAC_atlas</td>\n",
       "      <td>...</td>\n",
       "      <td>NaN</td>\n",
       "      <td>NaN</td>\n",
       "      <td>True</td>\n",
       "      <td>balanced_genotype_microglia</td>\n",
       "      <td>0.05</td>\n",
       "      <td>pf_log1p_pf</td>\n",
       "      <td>both</td>\n",
       "      <td>igvf_b01_LeftCortex_celloracle_balanced_genoty...</td>\n",
       "      <td>/cellar/users/aklie/projects/igvf/topic_grn_li...</td>\n",
       "      <td>True</td>\n",
       "    </tr>\n",
       "    <tr>\n",
       "      <th>33</th>\n",
       "      <td>/cellar/users/aklie/data/igvf/topic_grn_links/...</td>\n",
       "      <td>/cellar/users/aklie/projects/igvf/topic_grn_li...</td>\n",
       "      <td>NaN</td>\n",
       "      <td>NaN</td>\n",
       "      <td>NaN</td>\n",
       "      <td>NaN</td>\n",
       "      <td>2304921235_20230831-161949</td>\n",
       "      <td>celloracle</td>\n",
       "      <td>igvf_b01_LeftCortex</td>\n",
       "      <td>mouse_scATAC_atlas</td>\n",
       "      <td>...</td>\n",
       "      <td>NaN</td>\n",
       "      <td>NaN</td>\n",
       "      <td>True</td>\n",
       "      <td>balanced_genotype_microglia</td>\n",
       "      <td>0.05</td>\n",
       "      <td>cpm_rank</td>\n",
       "      <td>B6J</td>\n",
       "      <td>igvf_b01_LeftCortex_celloracle_balanced_genoty...</td>\n",
       "      <td>/cellar/users/aklie/projects/igvf/topic_grn_li...</td>\n",
       "      <td>True</td>\n",
       "    </tr>\n",
       "    <tr>\n",
       "      <th>34</th>\n",
       "      <td>/cellar/users/aklie/data/igvf/topic_grn_links/...</td>\n",
       "      <td>/cellar/users/aklie/projects/igvf/topic_grn_li...</td>\n",
       "      <td>NaN</td>\n",
       "      <td>NaN</td>\n",
       "      <td>NaN</td>\n",
       "      <td>NaN</td>\n",
       "      <td>2304921235_20230831-161949</td>\n",
       "      <td>celloracle</td>\n",
       "      <td>igvf_b01_LeftCortex</td>\n",
       "      <td>mouse_scATAC_atlas</td>\n",
       "      <td>...</td>\n",
       "      <td>NaN</td>\n",
       "      <td>NaN</td>\n",
       "      <td>True</td>\n",
       "      <td>balanced_genotype_microglia</td>\n",
       "      <td>0.05</td>\n",
       "      <td>cpm_rank</td>\n",
       "      <td>CASTJ</td>\n",
       "      <td>igvf_b01_LeftCortex_celloracle_balanced_genoty...</td>\n",
       "      <td>/cellar/users/aklie/projects/igvf/topic_grn_li...</td>\n",
       "      <td>True</td>\n",
       "    </tr>\n",
       "    <tr>\n",
       "      <th>35</th>\n",
       "      <td>/cellar/users/aklie/data/igvf/topic_grn_links/...</td>\n",
       "      <td>/cellar/users/aklie/projects/igvf/topic_grn_li...</td>\n",
       "      <td>NaN</td>\n",
       "      <td>NaN</td>\n",
       "      <td>NaN</td>\n",
       "      <td>NaN</td>\n",
       "      <td>2304921235_20230831-161949</td>\n",
       "      <td>celloracle</td>\n",
       "      <td>igvf_b01_LeftCortex</td>\n",
       "      <td>mouse_scATAC_atlas</td>\n",
       "      <td>...</td>\n",
       "      <td>NaN</td>\n",
       "      <td>NaN</td>\n",
       "      <td>True</td>\n",
       "      <td>balanced_genotype_microglia</td>\n",
       "      <td>0.05</td>\n",
       "      <td>cpm_rank</td>\n",
       "      <td>both</td>\n",
       "      <td>igvf_b01_LeftCortex_celloracle_balanced_genoty...</td>\n",
       "      <td>/cellar/users/aklie/projects/igvf/topic_grn_li...</td>\n",
       "      <td>True</td>\n",
       "    </tr>\n",
       "    <tr>\n",
       "      <th>36</th>\n",
       "      <td>/cellar/users/aklie/data/igvf/topic_grn_links/...</td>\n",
       "      <td>/cellar/users/aklie/projects/igvf/topic_grn_li...</td>\n",
       "      <td>NaN</td>\n",
       "      <td>NaN</td>\n",
       "      <td>NaN</td>\n",
       "      <td>NaN</td>\n",
       "      <td>3503408525_20230830-164904</td>\n",
       "      <td>celloracle</td>\n",
       "      <td>Bridge_Satpathy</td>\n",
       "      <td>mouse_scATAC_atlas</td>\n",
       "      <td>...</td>\n",
       "      <td>NaN</td>\n",
       "      <td>NaN</td>\n",
       "      <td>True</td>\n",
       "      <td>balanced_genotype_microglia</td>\n",
       "      <td>0.05</td>\n",
       "      <td>raw</td>\n",
       "      <td>B6J</td>\n",
       "      <td>Bridge_Satpathy_celloracle_balanced_genotype_m...</td>\n",
       "      <td>/cellar/users/aklie/projects/igvf/topic_grn_li...</td>\n",
       "      <td>True</td>\n",
       "    </tr>\n",
       "    <tr>\n",
       "      <th>37</th>\n",
       "      <td>/cellar/users/aklie/data/igvf/topic_grn_links/...</td>\n",
       "      <td>/cellar/users/aklie/projects/igvf/topic_grn_li...</td>\n",
       "      <td>NaN</td>\n",
       "      <td>NaN</td>\n",
       "      <td>NaN</td>\n",
       "      <td>NaN</td>\n",
       "      <td>3503408525_20230830-164904</td>\n",
       "      <td>celloracle</td>\n",
       "      <td>Bridge_Satpathy</td>\n",
       "      <td>mouse_scATAC_atlas</td>\n",
       "      <td>...</td>\n",
       "      <td>NaN</td>\n",
       "      <td>NaN</td>\n",
       "      <td>True</td>\n",
       "      <td>balanced_genotype_microglia</td>\n",
       "      <td>0.05</td>\n",
       "      <td>raw</td>\n",
       "      <td>CASTJ</td>\n",
       "      <td>Bridge_Satpathy_celloracle_balanced_genotype_m...</td>\n",
       "      <td>/cellar/users/aklie/projects/igvf/topic_grn_li...</td>\n",
       "      <td>True</td>\n",
       "    </tr>\n",
       "    <tr>\n",
       "      <th>38</th>\n",
       "      <td>/cellar/users/aklie/data/igvf/topic_grn_links/...</td>\n",
       "      <td>/cellar/users/aklie/projects/igvf/topic_grn_li...</td>\n",
       "      <td>NaN</td>\n",
       "      <td>NaN</td>\n",
       "      <td>NaN</td>\n",
       "      <td>NaN</td>\n",
       "      <td>3503408525_20230830-164904</td>\n",
       "      <td>celloracle</td>\n",
       "      <td>Bridge_Satpathy</td>\n",
       "      <td>mouse_scATAC_atlas</td>\n",
       "      <td>...</td>\n",
       "      <td>NaN</td>\n",
       "      <td>NaN</td>\n",
       "      <td>True</td>\n",
       "      <td>balanced_genotype_microglia</td>\n",
       "      <td>0.05</td>\n",
       "      <td>raw</td>\n",
       "      <td>both</td>\n",
       "      <td>Bridge_Satpathy_celloracle_balanced_genotype_m...</td>\n",
       "      <td>/cellar/users/aklie/projects/igvf/topic_grn_li...</td>\n",
       "      <td>True</td>\n",
       "    </tr>\n",
       "    <tr>\n",
       "      <th>39</th>\n",
       "      <td>/cellar/users/aklie/data/igvf/topic_grn_links/...</td>\n",
       "      <td>/cellar/users/aklie/projects/igvf/topic_grn_li...</td>\n",
       "      <td>NaN</td>\n",
       "      <td>NaN</td>\n",
       "      <td>NaN</td>\n",
       "      <td>NaN</td>\n",
       "      <td>3503408525_20230830-164904</td>\n",
       "      <td>celloracle</td>\n",
       "      <td>Bridge_Satpathy</td>\n",
       "      <td>mouse_scATAC_atlas</td>\n",
       "      <td>...</td>\n",
       "      <td>NaN</td>\n",
       "      <td>NaN</td>\n",
       "      <td>True</td>\n",
       "      <td>balanced_genotype_microglia</td>\n",
       "      <td>0.05</td>\n",
       "      <td>log1p_cp10k</td>\n",
       "      <td>B6J</td>\n",
       "      <td>Bridge_Satpathy_celloracle_balanced_genotype_m...</td>\n",
       "      <td>/cellar/users/aklie/projects/igvf/topic_grn_li...</td>\n",
       "      <td>True</td>\n",
       "    </tr>\n",
       "    <tr>\n",
       "      <th>40</th>\n",
       "      <td>/cellar/users/aklie/data/igvf/topic_grn_links/...</td>\n",
       "      <td>/cellar/users/aklie/projects/igvf/topic_grn_li...</td>\n",
       "      <td>NaN</td>\n",
       "      <td>NaN</td>\n",
       "      <td>NaN</td>\n",
       "      <td>NaN</td>\n",
       "      <td>3503408525_20230830-164904</td>\n",
       "      <td>celloracle</td>\n",
       "      <td>Bridge_Satpathy</td>\n",
       "      <td>mouse_scATAC_atlas</td>\n",
       "      <td>...</td>\n",
       "      <td>NaN</td>\n",
       "      <td>NaN</td>\n",
       "      <td>True</td>\n",
       "      <td>balanced_genotype_microglia</td>\n",
       "      <td>0.05</td>\n",
       "      <td>log1p_cp10k</td>\n",
       "      <td>CASTJ</td>\n",
       "      <td>Bridge_Satpathy_celloracle_balanced_genotype_m...</td>\n",
       "      <td>/cellar/users/aklie/projects/igvf/topic_grn_li...</td>\n",
       "      <td>True</td>\n",
       "    </tr>\n",
       "    <tr>\n",
       "      <th>41</th>\n",
       "      <td>/cellar/users/aklie/data/igvf/topic_grn_links/...</td>\n",
       "      <td>/cellar/users/aklie/projects/igvf/topic_grn_li...</td>\n",
       "      <td>NaN</td>\n",
       "      <td>NaN</td>\n",
       "      <td>NaN</td>\n",
       "      <td>NaN</td>\n",
       "      <td>3503408525_20230830-164904</td>\n",
       "      <td>celloracle</td>\n",
       "      <td>Bridge_Satpathy</td>\n",
       "      <td>mouse_scATAC_atlas</td>\n",
       "      <td>...</td>\n",
       "      <td>NaN</td>\n",
       "      <td>NaN</td>\n",
       "      <td>True</td>\n",
       "      <td>balanced_genotype_microglia</td>\n",
       "      <td>0.05</td>\n",
       "      <td>log1p_cp10k</td>\n",
       "      <td>both</td>\n",
       "      <td>Bridge_Satpathy_celloracle_balanced_genotype_m...</td>\n",
       "      <td>/cellar/users/aklie/projects/igvf/topic_grn_li...</td>\n",
       "      <td>True</td>\n",
       "    </tr>\n",
       "    <tr>\n",
       "      <th>42</th>\n",
       "      <td>/cellar/users/aklie/data/igvf/topic_grn_links/...</td>\n",
       "      <td>/cellar/users/aklie/projects/igvf/topic_grn_li...</td>\n",
       "      <td>NaN</td>\n",
       "      <td>NaN</td>\n",
       "      <td>NaN</td>\n",
       "      <td>NaN</td>\n",
       "      <td>3503408525_20230830-164904</td>\n",
       "      <td>celloracle</td>\n",
       "      <td>Bridge_Satpathy</td>\n",
       "      <td>mouse_scATAC_atlas</td>\n",
       "      <td>...</td>\n",
       "      <td>NaN</td>\n",
       "      <td>NaN</td>\n",
       "      <td>True</td>\n",
       "      <td>balanced_genotype_microglia</td>\n",
       "      <td>0.05</td>\n",
       "      <td>pf_log1p_pf</td>\n",
       "      <td>B6J</td>\n",
       "      <td>Bridge_Satpathy_celloracle_balanced_genotype_m...</td>\n",
       "      <td>/cellar/users/aklie/projects/igvf/topic_grn_li...</td>\n",
       "      <td>True</td>\n",
       "    </tr>\n",
       "    <tr>\n",
       "      <th>43</th>\n",
       "      <td>/cellar/users/aklie/data/igvf/topic_grn_links/...</td>\n",
       "      <td>/cellar/users/aklie/projects/igvf/topic_grn_li...</td>\n",
       "      <td>NaN</td>\n",
       "      <td>NaN</td>\n",
       "      <td>NaN</td>\n",
       "      <td>NaN</td>\n",
       "      <td>3503408525_20230830-164904</td>\n",
       "      <td>celloracle</td>\n",
       "      <td>Bridge_Satpathy</td>\n",
       "      <td>mouse_scATAC_atlas</td>\n",
       "      <td>...</td>\n",
       "      <td>NaN</td>\n",
       "      <td>NaN</td>\n",
       "      <td>True</td>\n",
       "      <td>balanced_genotype_microglia</td>\n",
       "      <td>0.05</td>\n",
       "      <td>pf_log1p_pf</td>\n",
       "      <td>CASTJ</td>\n",
       "      <td>Bridge_Satpathy_celloracle_balanced_genotype_m...</td>\n",
       "      <td>/cellar/users/aklie/projects/igvf/topic_grn_li...</td>\n",
       "      <td>True</td>\n",
       "    </tr>\n",
       "    <tr>\n",
       "      <th>44</th>\n",
       "      <td>/cellar/users/aklie/data/igvf/topic_grn_links/...</td>\n",
       "      <td>/cellar/users/aklie/projects/igvf/topic_grn_li...</td>\n",
       "      <td>NaN</td>\n",
       "      <td>NaN</td>\n",
       "      <td>NaN</td>\n",
       "      <td>NaN</td>\n",
       "      <td>3503408525_20230830-164904</td>\n",
       "      <td>celloracle</td>\n",
       "      <td>Bridge_Satpathy</td>\n",
       "      <td>mouse_scATAC_atlas</td>\n",
       "      <td>...</td>\n",
       "      <td>NaN</td>\n",
       "      <td>NaN</td>\n",
       "      <td>True</td>\n",
       "      <td>balanced_genotype_microglia</td>\n",
       "      <td>0.05</td>\n",
       "      <td>pf_log1p_pf</td>\n",
       "      <td>both</td>\n",
       "      <td>Bridge_Satpathy_celloracle_balanced_genotype_m...</td>\n",
       "      <td>/cellar/users/aklie/projects/igvf/topic_grn_li...</td>\n",
       "      <td>True</td>\n",
       "    </tr>\n",
       "    <tr>\n",
       "      <th>45</th>\n",
       "      <td>/cellar/users/aklie/data/igvf/topic_grn_links/...</td>\n",
       "      <td>/cellar/users/aklie/projects/igvf/topic_grn_li...</td>\n",
       "      <td>NaN</td>\n",
       "      <td>NaN</td>\n",
       "      <td>NaN</td>\n",
       "      <td>NaN</td>\n",
       "      <td>731678074_20230831-122149</td>\n",
       "      <td>celloracle</td>\n",
       "      <td>Bridge_Satpathy</td>\n",
       "      <td>mouse_scATAC_atlas</td>\n",
       "      <td>...</td>\n",
       "      <td>NaN</td>\n",
       "      <td>NaN</td>\n",
       "      <td>True</td>\n",
       "      <td>balanced_genotype_microglia</td>\n",
       "      <td>0.05</td>\n",
       "      <td>cpm_rank</td>\n",
       "      <td>B6J</td>\n",
       "      <td>Bridge_Satpathy_celloracle_balanced_genotype_m...</td>\n",
       "      <td>/cellar/users/aklie/projects/igvf/topic_grn_li...</td>\n",
       "      <td>True</td>\n",
       "    </tr>\n",
       "    <tr>\n",
       "      <th>46</th>\n",
       "      <td>/cellar/users/aklie/data/igvf/topic_grn_links/...</td>\n",
       "      <td>/cellar/users/aklie/projects/igvf/topic_grn_li...</td>\n",
       "      <td>NaN</td>\n",
       "      <td>NaN</td>\n",
       "      <td>NaN</td>\n",
       "      <td>NaN</td>\n",
       "      <td>731678074_20230831-122149</td>\n",
       "      <td>celloracle</td>\n",
       "      <td>Bridge_Satpathy</td>\n",
       "      <td>mouse_scATAC_atlas</td>\n",
       "      <td>...</td>\n",
       "      <td>NaN</td>\n",
       "      <td>NaN</td>\n",
       "      <td>True</td>\n",
       "      <td>balanced_genotype_microglia</td>\n",
       "      <td>0.05</td>\n",
       "      <td>cpm_rank</td>\n",
       "      <td>CASTJ</td>\n",
       "      <td>Bridge_Satpathy_celloracle_balanced_genotype_m...</td>\n",
       "      <td>/cellar/users/aklie/projects/igvf/topic_grn_li...</td>\n",
       "      <td>True</td>\n",
       "    </tr>\n",
       "    <tr>\n",
       "      <th>47</th>\n",
       "      <td>/cellar/users/aklie/data/igvf/topic_grn_links/...</td>\n",
       "      <td>/cellar/users/aklie/projects/igvf/topic_grn_li...</td>\n",
       "      <td>NaN</td>\n",
       "      <td>NaN</td>\n",
       "      <td>NaN</td>\n",
       "      <td>NaN</td>\n",
       "      <td>731678074_20230831-122149</td>\n",
       "      <td>celloracle</td>\n",
       "      <td>Bridge_Satpathy</td>\n",
       "      <td>mouse_scATAC_atlas</td>\n",
       "      <td>...</td>\n",
       "      <td>NaN</td>\n",
       "      <td>NaN</td>\n",
       "      <td>True</td>\n",
       "      <td>balanced_genotype_microglia</td>\n",
       "      <td>0.05</td>\n",
       "      <td>cpm_rank</td>\n",
       "      <td>both</td>\n",
       "      <td>Bridge_Satpathy_celloracle_balanced_genotype_m...</td>\n",
       "      <td>/cellar/users/aklie/projects/igvf/topic_grn_li...</td>\n",
       "      <td>True</td>\n",
       "    </tr>\n",
       "  </tbody>\n",
       "</table>\n",
       "<p>24 rows × 25 columns</p>\n",
       "</div>"
      ],
      "text/plain": [
       "                                         in_file_path  \\\n",
       "24  /cellar/users/aklie/data/igvf/topic_grn_links/...   \n",
       "25  /cellar/users/aklie/data/igvf/topic_grn_links/...   \n",
       "26  /cellar/users/aklie/data/igvf/topic_grn_links/...   \n",
       "27  /cellar/users/aklie/data/igvf/topic_grn_links/...   \n",
       "28  /cellar/users/aklie/data/igvf/topic_grn_links/...   \n",
       "29  /cellar/users/aklie/data/igvf/topic_grn_links/...   \n",
       "30  /cellar/users/aklie/data/igvf/topic_grn_links/...   \n",
       "31  /cellar/users/aklie/data/igvf/topic_grn_links/...   \n",
       "32  /cellar/users/aklie/data/igvf/topic_grn_links/...   \n",
       "33  /cellar/users/aklie/data/igvf/topic_grn_links/...   \n",
       "34  /cellar/users/aklie/data/igvf/topic_grn_links/...   \n",
       "35  /cellar/users/aklie/data/igvf/topic_grn_links/...   \n",
       "36  /cellar/users/aklie/data/igvf/topic_grn_links/...   \n",
       "37  /cellar/users/aklie/data/igvf/topic_grn_links/...   \n",
       "38  /cellar/users/aklie/data/igvf/topic_grn_links/...   \n",
       "39  /cellar/users/aklie/data/igvf/topic_grn_links/...   \n",
       "40  /cellar/users/aklie/data/igvf/topic_grn_links/...   \n",
       "41  /cellar/users/aklie/data/igvf/topic_grn_links/...   \n",
       "42  /cellar/users/aklie/data/igvf/topic_grn_links/...   \n",
       "43  /cellar/users/aklie/data/igvf/topic_grn_links/...   \n",
       "44  /cellar/users/aklie/data/igvf/topic_grn_links/...   \n",
       "45  /cellar/users/aklie/data/igvf/topic_grn_links/...   \n",
       "46  /cellar/users/aklie/data/igvf/topic_grn_links/...   \n",
       "47  /cellar/users/aklie/data/igvf/topic_grn_links/...   \n",
       "\n",
       "                                         out_dir_path tf_list  pval  \\\n",
       "24  /cellar/users/aklie/projects/igvf/topic_grn_li...     NaN   NaN   \n",
       "25  /cellar/users/aklie/projects/igvf/topic_grn_li...     NaN   NaN   \n",
       "26  /cellar/users/aklie/projects/igvf/topic_grn_li...     NaN   NaN   \n",
       "27  /cellar/users/aklie/projects/igvf/topic_grn_li...     NaN   NaN   \n",
       "28  /cellar/users/aklie/projects/igvf/topic_grn_li...     NaN   NaN   \n",
       "29  /cellar/users/aklie/projects/igvf/topic_grn_li...     NaN   NaN   \n",
       "30  /cellar/users/aklie/projects/igvf/topic_grn_li...     NaN   NaN   \n",
       "31  /cellar/users/aklie/projects/igvf/topic_grn_li...     NaN   NaN   \n",
       "32  /cellar/users/aklie/projects/igvf/topic_grn_li...     NaN   NaN   \n",
       "33  /cellar/users/aklie/projects/igvf/topic_grn_li...     NaN   NaN   \n",
       "34  /cellar/users/aklie/projects/igvf/topic_grn_li...     NaN   NaN   \n",
       "35  /cellar/users/aklie/projects/igvf/topic_grn_li...     NaN   NaN   \n",
       "36  /cellar/users/aklie/projects/igvf/topic_grn_li...     NaN   NaN   \n",
       "37  /cellar/users/aklie/projects/igvf/topic_grn_li...     NaN   NaN   \n",
       "38  /cellar/users/aklie/projects/igvf/topic_grn_li...     NaN   NaN   \n",
       "39  /cellar/users/aklie/projects/igvf/topic_grn_li...     NaN   NaN   \n",
       "40  /cellar/users/aklie/projects/igvf/topic_grn_li...     NaN   NaN   \n",
       "41  /cellar/users/aklie/projects/igvf/topic_grn_li...     NaN   NaN   \n",
       "42  /cellar/users/aklie/projects/igvf/topic_grn_li...     NaN   NaN   \n",
       "43  /cellar/users/aklie/projects/igvf/topic_grn_li...     NaN   NaN   \n",
       "44  /cellar/users/aklie/projects/igvf/topic_grn_li...     NaN   NaN   \n",
       "45  /cellar/users/aklie/projects/igvf/topic_grn_li...     NaN   NaN   \n",
       "46  /cellar/users/aklie/projects/igvf/topic_grn_li...     NaN   NaN   \n",
       "47  /cellar/users/aklie/projects/igvf/topic_grn_li...     NaN   NaN   \n",
       "\n",
       "    num_boostraps tf_type                      run_id      method  \\\n",
       "24            NaN     NaN  2304921235_20230831-161949  celloracle   \n",
       "25            NaN     NaN  2304921235_20230831-161949  celloracle   \n",
       "26            NaN     NaN  2304921235_20230831-161949  celloracle   \n",
       "27            NaN     NaN  2304921235_20230831-161949  celloracle   \n",
       "28            NaN     NaN  2304921235_20230831-161949  celloracle   \n",
       "29            NaN     NaN  2304921235_20230831-161949  celloracle   \n",
       "30            NaN     NaN  2304921235_20230831-161949  celloracle   \n",
       "31            NaN     NaN  2304921235_20230831-161949  celloracle   \n",
       "32            NaN     NaN  2304921235_20230831-161949  celloracle   \n",
       "33            NaN     NaN  2304921235_20230831-161949  celloracle   \n",
       "34            NaN     NaN  2304921235_20230831-161949  celloracle   \n",
       "35            NaN     NaN  2304921235_20230831-161949  celloracle   \n",
       "36            NaN     NaN  3503408525_20230830-164904  celloracle   \n",
       "37            NaN     NaN  3503408525_20230830-164904  celloracle   \n",
       "38            NaN     NaN  3503408525_20230830-164904  celloracle   \n",
       "39            NaN     NaN  3503408525_20230830-164904  celloracle   \n",
       "40            NaN     NaN  3503408525_20230830-164904  celloracle   \n",
       "41            NaN     NaN  3503408525_20230830-164904  celloracle   \n",
       "42            NaN     NaN  3503408525_20230830-164904  celloracle   \n",
       "43            NaN     NaN  3503408525_20230830-164904  celloracle   \n",
       "44            NaN     NaN  3503408525_20230830-164904  celloracle   \n",
       "45            NaN     NaN   731678074_20230831-122149  celloracle   \n",
       "46            NaN     NaN   731678074_20230831-122149  celloracle   \n",
       "47            NaN     NaN   731678074_20230831-122149  celloracle   \n",
       "\n",
       "                dataset            base_grn  ...  annotation_db  network_type  \\\n",
       "24  igvf_b01_LeftCortex  mouse_scATAC_atlas  ...            NaN           NaN   \n",
       "25  igvf_b01_LeftCortex  mouse_scATAC_atlas  ...            NaN           NaN   \n",
       "26  igvf_b01_LeftCortex  mouse_scATAC_atlas  ...            NaN           NaN   \n",
       "27  igvf_b01_LeftCortex  mouse_scATAC_atlas  ...            NaN           NaN   \n",
       "28  igvf_b01_LeftCortex  mouse_scATAC_atlas  ...            NaN           NaN   \n",
       "29  igvf_b01_LeftCortex  mouse_scATAC_atlas  ...            NaN           NaN   \n",
       "30  igvf_b01_LeftCortex  mouse_scATAC_atlas  ...            NaN           NaN   \n",
       "31  igvf_b01_LeftCortex  mouse_scATAC_atlas  ...            NaN           NaN   \n",
       "32  igvf_b01_LeftCortex  mouse_scATAC_atlas  ...            NaN           NaN   \n",
       "33  igvf_b01_LeftCortex  mouse_scATAC_atlas  ...            NaN           NaN   \n",
       "34  igvf_b01_LeftCortex  mouse_scATAC_atlas  ...            NaN           NaN   \n",
       "35  igvf_b01_LeftCortex  mouse_scATAC_atlas  ...            NaN           NaN   \n",
       "36      Bridge_Satpathy  mouse_scATAC_atlas  ...            NaN           NaN   \n",
       "37      Bridge_Satpathy  mouse_scATAC_atlas  ...            NaN           NaN   \n",
       "38      Bridge_Satpathy  mouse_scATAC_atlas  ...            NaN           NaN   \n",
       "39      Bridge_Satpathy  mouse_scATAC_atlas  ...            NaN           NaN   \n",
       "40      Bridge_Satpathy  mouse_scATAC_atlas  ...            NaN           NaN   \n",
       "41      Bridge_Satpathy  mouse_scATAC_atlas  ...            NaN           NaN   \n",
       "42      Bridge_Satpathy  mouse_scATAC_atlas  ...            NaN           NaN   \n",
       "43      Bridge_Satpathy  mouse_scATAC_atlas  ...            NaN           NaN   \n",
       "44      Bridge_Satpathy  mouse_scATAC_atlas  ...            NaN           NaN   \n",
       "45      Bridge_Satpathy  mouse_scATAC_atlas  ...            NaN           NaN   \n",
       "46      Bridge_Satpathy  mouse_scATAC_atlas  ...            NaN           NaN   \n",
       "47      Bridge_Satpathy  mouse_scATAC_atlas  ...            NaN           NaN   \n",
       "\n",
       "   net_tsv_exists                        cells genes normalization genotype  \\\n",
       "24           True  balanced_genotype_microglia  0.05           raw      B6J   \n",
       "25           True  balanced_genotype_microglia  0.05           raw    CASTJ   \n",
       "26           True  balanced_genotype_microglia  0.05           raw     both   \n",
       "27           True  balanced_genotype_microglia  0.05   log1p_cp10k      B6J   \n",
       "28           True  balanced_genotype_microglia  0.05   log1p_cp10k    CASTJ   \n",
       "29           True  balanced_genotype_microglia  0.05   log1p_cp10k     both   \n",
       "30           True  balanced_genotype_microglia  0.05   pf_log1p_pf      B6J   \n",
       "31           True  balanced_genotype_microglia  0.05   pf_log1p_pf    CASTJ   \n",
       "32           True  balanced_genotype_microglia  0.05   pf_log1p_pf     both   \n",
       "33           True  balanced_genotype_microglia  0.05      cpm_rank      B6J   \n",
       "34           True  balanced_genotype_microglia  0.05      cpm_rank    CASTJ   \n",
       "35           True  balanced_genotype_microglia  0.05      cpm_rank     both   \n",
       "36           True  balanced_genotype_microglia  0.05           raw      B6J   \n",
       "37           True  balanced_genotype_microglia  0.05           raw    CASTJ   \n",
       "38           True  balanced_genotype_microglia  0.05           raw     both   \n",
       "39           True  balanced_genotype_microglia  0.05   log1p_cp10k      B6J   \n",
       "40           True  balanced_genotype_microglia  0.05   log1p_cp10k    CASTJ   \n",
       "41           True  balanced_genotype_microglia  0.05   log1p_cp10k     both   \n",
       "42           True  balanced_genotype_microglia  0.05   pf_log1p_pf      B6J   \n",
       "43           True  balanced_genotype_microglia  0.05   pf_log1p_pf    CASTJ   \n",
       "44           True  balanced_genotype_microglia  0.05   pf_log1p_pf     both   \n",
       "45           True  balanced_genotype_microglia  0.05      cpm_rank      B6J   \n",
       "46           True  balanced_genotype_microglia  0.05      cpm_rank    CASTJ   \n",
       "47           True  balanced_genotype_microglia  0.05      cpm_rank     both   \n",
       "\n",
       "                                             grn_name  \\\n",
       "24  igvf_b01_LeftCortex_celloracle_balanced_genoty...   \n",
       "25  igvf_b01_LeftCortex_celloracle_balanced_genoty...   \n",
       "26  igvf_b01_LeftCortex_celloracle_balanced_genoty...   \n",
       "27  igvf_b01_LeftCortex_celloracle_balanced_genoty...   \n",
       "28  igvf_b01_LeftCortex_celloracle_balanced_genoty...   \n",
       "29  igvf_b01_LeftCortex_celloracle_balanced_genoty...   \n",
       "30  igvf_b01_LeftCortex_celloracle_balanced_genoty...   \n",
       "31  igvf_b01_LeftCortex_celloracle_balanced_genoty...   \n",
       "32  igvf_b01_LeftCortex_celloracle_balanced_genoty...   \n",
       "33  igvf_b01_LeftCortex_celloracle_balanced_genoty...   \n",
       "34  igvf_b01_LeftCortex_celloracle_balanced_genoty...   \n",
       "35  igvf_b01_LeftCortex_celloracle_balanced_genoty...   \n",
       "36  Bridge_Satpathy_celloracle_balanced_genotype_m...   \n",
       "37  Bridge_Satpathy_celloracle_balanced_genotype_m...   \n",
       "38  Bridge_Satpathy_celloracle_balanced_genotype_m...   \n",
       "39  Bridge_Satpathy_celloracle_balanced_genotype_m...   \n",
       "40  Bridge_Satpathy_celloracle_balanced_genotype_m...   \n",
       "41  Bridge_Satpathy_celloracle_balanced_genotype_m...   \n",
       "42  Bridge_Satpathy_celloracle_balanced_genotype_m...   \n",
       "43  Bridge_Satpathy_celloracle_balanced_genotype_m...   \n",
       "44  Bridge_Satpathy_celloracle_balanced_genotype_m...   \n",
       "45  Bridge_Satpathy_celloracle_balanced_genotype_m...   \n",
       "46  Bridge_Satpathy_celloracle_balanced_genotype_m...   \n",
       "47  Bridge_Satpathy_celloracle_balanced_genotype_m...   \n",
       "\n",
       "                                    output_table_path  output_table_exists  \n",
       "24  /cellar/users/aklie/projects/igvf/topic_grn_li...                 True  \n",
       "25  /cellar/users/aklie/projects/igvf/topic_grn_li...                 True  \n",
       "26  /cellar/users/aklie/projects/igvf/topic_grn_li...                 True  \n",
       "27  /cellar/users/aklie/projects/igvf/topic_grn_li...                 True  \n",
       "28  /cellar/users/aklie/projects/igvf/topic_grn_li...                 True  \n",
       "29  /cellar/users/aklie/projects/igvf/topic_grn_li...                 True  \n",
       "30  /cellar/users/aklie/projects/igvf/topic_grn_li...                 True  \n",
       "31  /cellar/users/aklie/projects/igvf/topic_grn_li...                 True  \n",
       "32  /cellar/users/aklie/projects/igvf/topic_grn_li...                 True  \n",
       "33  /cellar/users/aklie/projects/igvf/topic_grn_li...                 True  \n",
       "34  /cellar/users/aklie/projects/igvf/topic_grn_li...                 True  \n",
       "35  /cellar/users/aklie/projects/igvf/topic_grn_li...                 True  \n",
       "36  /cellar/users/aklie/projects/igvf/topic_grn_li...                 True  \n",
       "37  /cellar/users/aklie/projects/igvf/topic_grn_li...                 True  \n",
       "38  /cellar/users/aklie/projects/igvf/topic_grn_li...                 True  \n",
       "39  /cellar/users/aklie/projects/igvf/topic_grn_li...                 True  \n",
       "40  /cellar/users/aklie/projects/igvf/topic_grn_li...                 True  \n",
       "41  /cellar/users/aklie/projects/igvf/topic_grn_li...                 True  \n",
       "42  /cellar/users/aklie/projects/igvf/topic_grn_li...                 True  \n",
       "43  /cellar/users/aklie/projects/igvf/topic_grn_li...                 True  \n",
       "44  /cellar/users/aklie/projects/igvf/topic_grn_li...                 True  \n",
       "45  /cellar/users/aklie/projects/igvf/topic_grn_li...                 True  \n",
       "46  /cellar/users/aklie/projects/igvf/topic_grn_li...                 True  \n",
       "47  /cellar/users/aklie/projects/igvf/topic_grn_li...                 True  \n",
       "\n",
       "[24 rows x 25 columns]"
      ]
     },
     "execution_count": 5,
     "metadata": {},
     "output_type": "execute_result"
    }
   ],
   "source": [
    "# Get the unique h5ad in_files\n",
    "h5ad_df = metadata_df[metadata_df[\"in_file_path\"].str.contains(\"h5ad\")]\n",
    "h5ad_df = h5ad_df[h5ad_df[\"method\"] == \"celloracle\"]\n",
    "h5ad_df"
   ]
  },
  {
   "attachments": {},
   "cell_type": "markdown",
   "metadata": {},
   "source": [
    "# Expression baseline"
   ]
  },
  {
   "cell_type": "code",
   "execution_count": 6,
   "metadata": {},
   "outputs": [
    {
     "data": {
      "text/plain": [
       "array(['Bcl6b', 'Zscan26', 'Mtf1', 'Klf9', 'Zic5'], dtype=object)"
      ]
     },
     "execution_count": 6,
     "metadata": {},
     "output_type": "execute_result"
    }
   ],
   "source": [
    "# Read in the tfs\n",
    "tf_list = pd.read_csv(\"/cellar/users/aklie/opt/igvf-ucsd/scenic_pipeline/data/tf_lists/allTFs_mm.txt\", header=None)[0].values\n",
    "tf_list[:5]"
   ]
  },
  {
   "cell_type": "code",
   "execution_count": 35,
   "metadata": {},
   "outputs": [
    {
     "data": {
      "text/plain": [
       "<bound method NDFrame.head of          in_scenic  in_aracne  in_celloracle  in_literature  number_grns  \\\n",
       "Runx1t1      False       True          False          False           41   \n",
       "Prdm15        True       True          False          False           27   \n",
       "Zfp445        True       True          False          False           26   \n",
       "Gm14308       True      False          False          False           21   \n",
       "Gas7         False       True          False          False           31   \n",
       "...            ...        ...            ...            ...          ...   \n",
       "Gm6710        True      False          False          False           22   \n",
       "Suclg1        True      False          False          False            6   \n",
       "Nfia          True       True           True          False           88   \n",
       "Hcfc2         True      False          False          False           25   \n",
       "Gmeb1         True       True          False          False           32   \n",
       "\n",
       "         in_topics  \n",
       "Runx1t1       True  \n",
       "Prdm15        True  \n",
       "Zfp445        True  \n",
       "Gm14308       True  \n",
       "Gas7         False  \n",
       "...            ...  \n",
       "Gm6710        True  \n",
       "Suclg1       False  \n",
       "Nfia          True  \n",
       "Hcfc2         True  \n",
       "Gmeb1         True  \n",
       "\n",
       "[709 rows x 6 columns]>"
      ]
     },
     "execution_count": 35,
     "metadata": {},
     "output_type": "execute_result"
    }
   ],
   "source": [
    "grn_tf_metadata = pd.read_csv(\"/cellar/users/aklie/projects/igvf/topic_grn_links/eval/results/meta_analysis/03Sep23/tf_metadata_topics.tsv\", sep=\"\\t\", index_col=0)\n",
    "grn_tf_metadata.head"
   ]
  },
  {
   "cell_type": "code",
   "execution_count": 36,
   "metadata": {},
   "outputs": [
    {
     "data": {
      "application/vnd.jupyter.widget-view+json": {
       "model_id": "24d6622e02484fb786e880c53603c34a",
       "version_major": 2,
       "version_minor": 0
      },
      "text/plain": [
       "  0%|          | 0/24 [00:00<?, ?it/s]"
      ]
     },
     "metadata": {},
     "output_type": "display_data"
    }
   ],
   "source": [
    "from scipy import sparse\n",
    "baseline_metadata = pd.DataFrame(columns=[\"grn_name\", \"dataset\", \"method\", \"cells\", \"genes\", \"normalization\", \"genotype\", \"expression_path\"])\n",
    "for i, (_, row) in tqdm(enumerate(h5ad_df.iterrows()), total=len(h5ad_df)):\n",
    "    \n",
    "    # Read in the adata\n",
    "    h5ad_file = row[\"in_file_path\"]\n",
    "    adata = sc.read_h5ad(h5ad_file)\n",
    "\n",
    "    # Get the run name\n",
    "    run = row[\"dataset\"] + \"_\" + \"expression_baseline\" + \"_\" + row[\"cells\"] + \"_\"  + row[\"genotype\"] + \"_\" + str(row[\"genes\"]) + \"_\" + row[\"normalization\"]\n",
    "\n",
    "    # Check if TFs are in the adata\n",
    "    grn_tf_metadata[f\"in_{row['dataset']}\"] = grn_tf_metadata.index.isin(adata.var.index)\n",
    "                          \n",
    "    # Intersect with tf list\n",
    "    tfs_in_adata = np.intersect1d(tf_list, adata.var_names)\n",
    "    tf_adata = adata[:, tfs_in_adata].copy()\n",
    "\n",
    "    # Rank the TFs in the list by expression level in the tf_adata\n",
    "    if sparse.issparse(tf_adata.layers[\"normalized_counts\"]):\n",
    "        tf_adata.var[\"rank_weight\"] = tf_adata.layers[\"normalized_counts\"].A.mean(axis=0)\n",
    "    else:\n",
    "        tf_adata.var[\"rank_weight\"] = tf_adata.layers[\"normalized_counts\"].mean(axis=0)\n",
    "    tf_adata.var[\"rank\"] = tf_adata.var[\"rank_weight\"].rank(ascending=False)\n",
    "    tf_adata_ranked = tf_adata.var.sort_values(\"rank\")\n",
    "\n",
    "    # Clean up\n",
    "    tf_adata_ranked = tf_adata_ranked[[\"rank_weight\", \"rank\"]]\n",
    "    tf_adata_ranked.index.name = None\n",
    "    \n",
    "    # Save the ranked TFs\n",
    "    if not os.path.exists(os.path.join(results_dir, dataset_name, in_date, \"baselines\", run)):\n",
    "        os.makedirs(os.path.join(results_dir, dataset_name, in_date, \"baselines\", run))\n",
    "    out_file = os.path.join(results_dir, dataset_name, in_date, \"baselines\", run, \"expression_rank.tsv\")\n",
    "    tf_adata_ranked.to_csv(out_file, sep=\"\\t\")\n",
    "\n",
    "    # Add to the metadata\n",
    "    baseline_metadata.loc[i] = [run, row[\"dataset\"], \"expression_baseline\", row[\"cells\"], row[\"genes\"], row[\"normalization\"], row[\"genotype\"], out_file]"
   ]
  },
  {
   "cell_type": "code",
   "execution_count": 37,
   "metadata": {},
   "outputs": [],
   "source": [
    "grn_tf_metadata[\"in_both\"] = grn_tf_metadata[\"in_igvf_b01_LeftCortex\"] & grn_tf_metadata[\"in_Bridge_Satpathy\"]\n",
    "grn_tf_metadata[\"in_neither\"] = ~grn_tf_metadata[\"in_igvf_b01_LeftCortex\"] & ~grn_tf_metadata[\"in_Bridge_Satpathy\"]"
   ]
  },
  {
   "cell_type": "code",
   "execution_count": 38,
   "metadata": {},
   "outputs": [
    {
     "data": {
      "text/plain": [
       "(473, 0)"
      ]
     },
     "execution_count": 38,
     "metadata": {},
     "output_type": "execute_result"
    }
   ],
   "source": [
    "grn_tf_metadata[\"in_both\"].sum(), grn_tf_metadata[\"in_neither\"].sum()"
   ]
  },
  {
   "cell_type": "code",
   "execution_count": 39,
   "metadata": {},
   "outputs": [],
   "source": [
    "grn_tf_metadata.to_csv(os.path.join(results_dir, dataset_name, in_date, \"tf_metadata_topics_baselines.tsv\"), sep=\"\\t\")"
   ]
  },
  {
   "attachments": {},
   "cell_type": "markdown",
   "metadata": {},
   "source": [
    "# Generic network baseline"
   ]
  },
  {
   "cell_type": "code",
   "execution_count": 8,
   "metadata": {},
   "outputs": [],
   "source": [
    "import decoupler as dc"
   ]
  },
  {
   "cell_type": "code",
   "execution_count": 9,
   "metadata": {},
   "outputs": [
    {
     "data": {
      "text/html": [
       "<div>\n",
       "<style scoped>\n",
       "    .dataframe tbody tr th:only-of-type {\n",
       "        vertical-align: middle;\n",
       "    }\n",
       "\n",
       "    .dataframe tbody tr th {\n",
       "        vertical-align: top;\n",
       "    }\n",
       "\n",
       "    .dataframe thead th {\n",
       "        text-align: right;\n",
       "    }\n",
       "</style>\n",
       "<table border=\"1\" class=\"dataframe\">\n",
       "  <thead>\n",
       "    <tr style=\"text-align: right;\">\n",
       "      <th></th>\n",
       "      <th>source</th>\n",
       "      <th>confidence</th>\n",
       "      <th>target</th>\n",
       "      <th>weight</th>\n",
       "    </tr>\n",
       "  </thead>\n",
       "  <tbody>\n",
       "    <tr>\n",
       "      <th>0</th>\n",
       "      <td>Myc</td>\n",
       "      <td>A</td>\n",
       "      <td>Tert</td>\n",
       "      <td>1.0</td>\n",
       "    </tr>\n",
       "    <tr>\n",
       "      <th>1</th>\n",
       "      <td>Myc</td>\n",
       "      <td>A</td>\n",
       "      <td>Cct5</td>\n",
       "      <td>1.0</td>\n",
       "    </tr>\n",
       "    <tr>\n",
       "      <th>2</th>\n",
       "      <td>Myc</td>\n",
       "      <td>A</td>\n",
       "      <td>Gnl3</td>\n",
       "      <td>1.0</td>\n",
       "    </tr>\n",
       "    <tr>\n",
       "      <th>3</th>\n",
       "      <td>Myc</td>\n",
       "      <td>A</td>\n",
       "      <td>Nol7</td>\n",
       "      <td>1.0</td>\n",
       "    </tr>\n",
       "    <tr>\n",
       "      <th>4</th>\n",
       "      <td>Myc</td>\n",
       "      <td>A</td>\n",
       "      <td>Dpy30</td>\n",
       "      <td>1.0</td>\n",
       "    </tr>\n",
       "    <tr>\n",
       "      <th>...</th>\n",
       "      <td>...</td>\n",
       "      <td>...</td>\n",
       "      <td>...</td>\n",
       "      <td>...</td>\n",
       "    </tr>\n",
       "    <tr>\n",
       "      <th>2800</th>\n",
       "      <td>Jun</td>\n",
       "      <td>A</td>\n",
       "      <td>Myb</td>\n",
       "      <td>1.0</td>\n",
       "    </tr>\n",
       "    <tr>\n",
       "      <th>2801</th>\n",
       "      <td>Jund</td>\n",
       "      <td>A</td>\n",
       "      <td>Myb</td>\n",
       "      <td>1.0</td>\n",
       "    </tr>\n",
       "    <tr>\n",
       "      <th>2802</th>\n",
       "      <td>Lhx3</td>\n",
       "      <td>A</td>\n",
       "      <td>Fshb</td>\n",
       "      <td>1.0</td>\n",
       "    </tr>\n",
       "    <tr>\n",
       "      <th>2803</th>\n",
       "      <td>Usf1</td>\n",
       "      <td>A</td>\n",
       "      <td>Hmox1</td>\n",
       "      <td>1.0</td>\n",
       "    </tr>\n",
       "    <tr>\n",
       "      <th>2804</th>\n",
       "      <td>Yy1</td>\n",
       "      <td>A</td>\n",
       "      <td>Ttc17</td>\n",
       "      <td>-1.0</td>\n",
       "    </tr>\n",
       "  </tbody>\n",
       "</table>\n",
       "<p>2805 rows × 4 columns</p>\n",
       "</div>"
      ],
      "text/plain": [
       "     source confidence target  weight\n",
       "0       Myc          A   Tert     1.0\n",
       "1       Myc          A   Cct5     1.0\n",
       "2       Myc          A   Gnl3     1.0\n",
       "3       Myc          A   Nol7     1.0\n",
       "4       Myc          A  Dpy30     1.0\n",
       "...     ...        ...    ...     ...\n",
       "2800    Jun          A    Myb     1.0\n",
       "2801   Jund          A    Myb     1.0\n",
       "2802   Lhx3          A   Fshb     1.0\n",
       "2803   Usf1          A  Hmox1     1.0\n",
       "2804    Yy1          A  Ttc17    -1.0\n",
       "\n",
       "[2805 rows x 4 columns]"
      ]
     },
     "execution_count": 9,
     "metadata": {},
     "output_type": "execute_result"
    }
   ],
   "source": [
    "net = dc.get_dorothea(organism='mouse', split_complexes=False)\n",
    "net"
   ]
  },
  {
   "cell_type": "code",
   "execution_count": 10,
   "metadata": {},
   "outputs": [
    {
     "data": {
      "application/vnd.jupyter.widget-view+json": {
       "model_id": "93f6ee9cbfd147d7aa2b93703040b2a9",
       "version_major": 2,
       "version_minor": 0
      },
      "text/plain": [
       "  0%|          | 0/24 [00:00<?, ?it/s]"
      ]
     },
     "metadata": {},
     "output_type": "display_data"
    },
    {
     "name": "stdout",
     "output_type": "stream",
     "text": [
      "1 features of mat are empty, they will be removed.\n",
      "Running ulm on mat with 1206 samples and 4076 targets for 24 sources.\n",
      "1 features of mat are empty, they will be removed.\n",
      "Running viper on mat with 1206 samples and 4076 targets for 24 sources.\n",
      "Infering activities on 1 batches.\n",
      "Computing pleiotropy correction.\n"
     ]
    },
    {
     "name": "stderr",
     "output_type": "stream",
     "text": [
      "100%|██████████| 1206/1206 [00:00<00:00, 6491.19it/s]\n"
     ]
    },
    {
     "name": "stdout",
     "output_type": "stream",
     "text": [
      "1 features of mat are empty, they will be removed.\n",
      "Running aucell on mat with 1206 samples and 4076 targets for 24 sources.\n"
     ]
    },
    {
     "name": "stderr",
     "output_type": "stream",
     "text": [
      "100%|██████████| 1206/1206 [00:00<00:00, 1450.21it/s]\n"
     ]
    },
    {
     "name": "stdout",
     "output_type": "stream",
     "text": [
      "2 features of mat are empty, they will be removed.\n",
      "Running ulm on mat with 1206 samples and 4075 targets for 24 sources.\n",
      "2 features of mat are empty, they will be removed.\n",
      "Running viper on mat with 1206 samples and 4075 targets for 24 sources.\n",
      "Infering activities on 1 batches.\n",
      "Computing pleiotropy correction.\n"
     ]
    },
    {
     "name": "stderr",
     "output_type": "stream",
     "text": [
      "100%|██████████| 1206/1206 [00:00<00:00, 9120.47it/s]"
     ]
    },
    {
     "name": "stdout",
     "output_type": "stream",
     "text": [
      "2 features of mat are empty, they will be removed.\n"
     ]
    },
    {
     "name": "stderr",
     "output_type": "stream",
     "text": [
      "\n"
     ]
    },
    {
     "name": "stdout",
     "output_type": "stream",
     "text": [
      "Running aucell on mat with 1206 samples and 4075 targets for 24 sources.\n"
     ]
    },
    {
     "name": "stderr",
     "output_type": "stream",
     "text": [
      "100%|██████████| 1206/1206 [00:00<00:00, 1732.18it/s]\n"
     ]
    },
    {
     "name": "stdout",
     "output_type": "stream",
     "text": [
      "Running ulm on mat with 2412 samples and 4077 targets for 24 sources.\n",
      "Running viper on mat with 2412 samples and 4077 targets for 24 sources.\n",
      "Infering activities on 1 batches.\n",
      "Computing pleiotropy correction.\n"
     ]
    },
    {
     "name": "stderr",
     "output_type": "stream",
     "text": [
      "100%|██████████| 2412/2412 [00:00<00:00, 7264.84it/s]\n"
     ]
    },
    {
     "name": "stdout",
     "output_type": "stream",
     "text": [
      "Running aucell on mat with 2412 samples and 4077 targets for 24 sources.\n"
     ]
    },
    {
     "name": "stderr",
     "output_type": "stream",
     "text": [
      "100%|██████████| 2412/2412 [00:01<00:00, 1994.82it/s]\n"
     ]
    },
    {
     "name": "stdout",
     "output_type": "stream",
     "text": [
      "1 features of mat are empty, they will be removed.\n",
      "Running ulm on mat with 1206 samples and 4076 targets for 24 sources.\n",
      "1 features of mat are empty, they will be removed.\n",
      "Running viper on mat with 1206 samples and 4076 targets for 24 sources.\n",
      "Infering activities on 1 batches.\n",
      "Computing pleiotropy correction.\n"
     ]
    },
    {
     "name": "stderr",
     "output_type": "stream",
     "text": [
      "100%|██████████| 1206/1206 [00:00<00:00, 8668.26it/s]"
     ]
    },
    {
     "name": "stdout",
     "output_type": "stream",
     "text": [
      "1 features of mat are empty, they will be removed.\n"
     ]
    },
    {
     "name": "stderr",
     "output_type": "stream",
     "text": [
      "\n"
     ]
    },
    {
     "name": "stdout",
     "output_type": "stream",
     "text": [
      "Running aucell on mat with 1206 samples and 4076 targets for 24 sources.\n"
     ]
    },
    {
     "name": "stderr",
     "output_type": "stream",
     "text": [
      "100%|██████████| 1206/1206 [00:00<00:00, 1893.49it/s]\n"
     ]
    },
    {
     "name": "stdout",
     "output_type": "stream",
     "text": [
      "2 features of mat are empty, they will be removed.\n",
      "Running ulm on mat with 1206 samples and 4075 targets for 24 sources.\n",
      "2 features of mat are empty, they will be removed.\n",
      "Running viper on mat with 1206 samples and 4075 targets for 24 sources.\n",
      "Infering activities on 1 batches.\n",
      "Computing pleiotropy correction.\n"
     ]
    },
    {
     "name": "stderr",
     "output_type": "stream",
     "text": [
      "100%|██████████| 1206/1206 [00:00<00:00, 9003.66it/s]"
     ]
    },
    {
     "name": "stdout",
     "output_type": "stream",
     "text": [
      "2 features of mat are empty, they will be removed.\n"
     ]
    },
    {
     "name": "stderr",
     "output_type": "stream",
     "text": [
      "\n"
     ]
    },
    {
     "name": "stdout",
     "output_type": "stream",
     "text": [
      "Running aucell on mat with 1206 samples and 4075 targets for 24 sources.\n"
     ]
    },
    {
     "name": "stderr",
     "output_type": "stream",
     "text": [
      "100%|██████████| 1206/1206 [00:00<00:00, 1733.03it/s]\n"
     ]
    },
    {
     "name": "stdout",
     "output_type": "stream",
     "text": [
      "Running ulm on mat with 2412 samples and 4077 targets for 24 sources.\n",
      "Running viper on mat with 2412 samples and 4077 targets for 24 sources.\n",
      "Infering activities on 1 batches.\n",
      "Computing pleiotropy correction.\n"
     ]
    },
    {
     "name": "stderr",
     "output_type": "stream",
     "text": [
      "100%|██████████| 2412/2412 [00:00<00:00, 7536.81it/s]\n"
     ]
    },
    {
     "name": "stdout",
     "output_type": "stream",
     "text": [
      "Running aucell on mat with 2412 samples and 4077 targets for 24 sources.\n"
     ]
    },
    {
     "name": "stderr",
     "output_type": "stream",
     "text": [
      "100%|██████████| 2412/2412 [00:01<00:00, 1686.75it/s]\n"
     ]
    },
    {
     "name": "stdout",
     "output_type": "stream",
     "text": [
      "1 features of mat are empty, they will be removed.\n",
      "Running ulm on mat with 1206 samples and 4076 targets for 24 sources.\n",
      "1 features of mat are empty, they will be removed.\n",
      "Running viper on mat with 1206 samples and 4076 targets for 24 sources.\n",
      "Infering activities on 1 batches.\n",
      "Computing pleiotropy correction.\n"
     ]
    },
    {
     "name": "stderr",
     "output_type": "stream",
     "text": [
      "100%|██████████| 1206/1206 [00:00<00:00, 8894.35it/s]"
     ]
    },
    {
     "name": "stdout",
     "output_type": "stream",
     "text": [
      "1 features of mat are empty, they will be removed.\n"
     ]
    },
    {
     "name": "stderr",
     "output_type": "stream",
     "text": [
      "\n"
     ]
    },
    {
     "name": "stdout",
     "output_type": "stream",
     "text": [
      "Running aucell on mat with 1206 samples and 4076 targets for 24 sources.\n"
     ]
    },
    {
     "name": "stderr",
     "output_type": "stream",
     "text": [
      "100%|██████████| 1206/1206 [00:00<00:00, 2093.36it/s]\n"
     ]
    },
    {
     "name": "stdout",
     "output_type": "stream",
     "text": [
      "2 features of mat are empty, they will be removed.\n",
      "Running ulm on mat with 1206 samples and 4075 targets for 24 sources.\n",
      "2 features of mat are empty, they will be removed.\n",
      "Running viper on mat with 1206 samples and 4075 targets for 24 sources.\n",
      "Infering activities on 1 batches.\n",
      "Computing pleiotropy correction.\n"
     ]
    },
    {
     "name": "stderr",
     "output_type": "stream",
     "text": [
      "100%|██████████| 1206/1206 [00:00<00:00, 8956.36it/s]"
     ]
    },
    {
     "name": "stdout",
     "output_type": "stream",
     "text": [
      "2 features of mat are empty, they will be removed.\n"
     ]
    },
    {
     "name": "stderr",
     "output_type": "stream",
     "text": [
      "\n"
     ]
    },
    {
     "name": "stdout",
     "output_type": "stream",
     "text": [
      "Running aucell on mat with 1206 samples and 4075 targets for 24 sources.\n"
     ]
    },
    {
     "name": "stderr",
     "output_type": "stream",
     "text": [
      "100%|██████████| 1206/1206 [00:00<00:00, 1771.50it/s]\n"
     ]
    },
    {
     "name": "stdout",
     "output_type": "stream",
     "text": [
      "Running ulm on mat with 2412 samples and 4077 targets for 24 sources.\n",
      "Running viper on mat with 2412 samples and 4077 targets for 24 sources.\n",
      "Infering activities on 1 batches.\n",
      "Computing pleiotropy correction.\n"
     ]
    },
    {
     "name": "stderr",
     "output_type": "stream",
     "text": [
      "100%|██████████| 2412/2412 [00:00<00:00, 8874.82it/s]\n"
     ]
    },
    {
     "name": "stdout",
     "output_type": "stream",
     "text": [
      "Running aucell on mat with 2412 samples and 4077 targets for 24 sources.\n"
     ]
    },
    {
     "name": "stderr",
     "output_type": "stream",
     "text": [
      "100%|██████████| 2412/2412 [00:01<00:00, 1624.04it/s]\n"
     ]
    },
    {
     "name": "stdout",
     "output_type": "stream",
     "text": [
      "Running ulm on mat with 1206 samples and 4077 targets for 24 sources.\n",
      "Running viper on mat with 1206 samples and 4077 targets for 24 sources.\n",
      "Infering activities on 1 batches.\n",
      "Computing pleiotropy correction.\n"
     ]
    },
    {
     "name": "stderr",
     "output_type": "stream",
     "text": [
      "100%|██████████| 1206/1206 [00:01<00:00, 888.96it/s]\n"
     ]
    },
    {
     "name": "stdout",
     "output_type": "stream",
     "text": [
      "Running aucell on mat with 1206 samples and 4077 targets for 24 sources.\n"
     ]
    },
    {
     "name": "stderr",
     "output_type": "stream",
     "text": [
      "100%|██████████| 1206/1206 [00:01<00:00, 1002.13it/s]\n"
     ]
    },
    {
     "name": "stdout",
     "output_type": "stream",
     "text": [
      "Running ulm on mat with 1206 samples and 4077 targets for 24 sources.\n",
      "Running viper on mat with 1206 samples and 4077 targets for 24 sources.\n",
      "Infering activities on 1 batches.\n",
      "Computing pleiotropy correction.\n"
     ]
    },
    {
     "name": "stderr",
     "output_type": "stream",
     "text": [
      "100%|██████████| 1206/1206 [00:01<00:00, 834.69it/s]\n"
     ]
    },
    {
     "name": "stdout",
     "output_type": "stream",
     "text": [
      "Running aucell on mat with 1206 samples and 4077 targets for 24 sources.\n"
     ]
    },
    {
     "name": "stderr",
     "output_type": "stream",
     "text": [
      "100%|██████████| 1206/1206 [00:01<00:00, 1127.66it/s]\n"
     ]
    },
    {
     "name": "stdout",
     "output_type": "stream",
     "text": [
      "Running ulm on mat with 2412 samples and 4077 targets for 24 sources.\n",
      "Running viper on mat with 2412 samples and 4077 targets for 24 sources.\n",
      "Infering activities on 1 batches.\n",
      "Computing pleiotropy correction.\n"
     ]
    },
    {
     "name": "stderr",
     "output_type": "stream",
     "text": [
      "100%|██████████| 2412/2412 [00:02<00:00, 893.94it/s]\n"
     ]
    },
    {
     "name": "stdout",
     "output_type": "stream",
     "text": [
      "Running aucell on mat with 2412 samples and 4077 targets for 24 sources.\n"
     ]
    },
    {
     "name": "stderr",
     "output_type": "stream",
     "text": [
      "100%|██████████| 2412/2412 [00:02<00:00, 1066.62it/s]\n"
     ]
    },
    {
     "name": "stdout",
     "output_type": "stream",
     "text": [
      "Running ulm on mat with 1498 samples and 6277 targets for 33 sources.\n",
      "Running viper on mat with 1498 samples and 6277 targets for 33 sources.\n",
      "Infering activities on 1 batches.\n",
      "Computing pleiotropy correction.\n"
     ]
    },
    {
     "name": "stderr",
     "output_type": "stream",
     "text": [
      "100%|██████████| 1498/1498 [00:00<00:00, 6041.97it/s]\n"
     ]
    },
    {
     "name": "stdout",
     "output_type": "stream",
     "text": [
      "Running aucell on mat with 1498 samples and 6277 targets for 33 sources.\n"
     ]
    },
    {
     "name": "stderr",
     "output_type": "stream",
     "text": [
      "100%|██████████| 1498/1498 [00:01<00:00, 1090.52it/s]\n"
     ]
    },
    {
     "name": "stdout",
     "output_type": "stream",
     "text": [
      "Running ulm on mat with 1498 samples and 6277 targets for 33 sources.\n",
      "Running viper on mat with 1498 samples and 6277 targets for 33 sources.\n",
      "Infering activities on 1 batches.\n",
      "Computing pleiotropy correction.\n"
     ]
    },
    {
     "name": "stderr",
     "output_type": "stream",
     "text": [
      "100%|██████████| 1498/1498 [00:00<00:00, 6721.62it/s]\n"
     ]
    },
    {
     "name": "stdout",
     "output_type": "stream",
     "text": [
      "Running aucell on mat with 1498 samples and 6277 targets for 33 sources.\n"
     ]
    },
    {
     "name": "stderr",
     "output_type": "stream",
     "text": [
      "100%|██████████| 1498/1498 [00:01<00:00, 1246.48it/s]\n"
     ]
    },
    {
     "name": "stdout",
     "output_type": "stream",
     "text": [
      "Running ulm on mat with 2996 samples and 6277 targets for 33 sources.\n",
      "Running viper on mat with 2996 samples and 6277 targets for 33 sources.\n",
      "Infering activities on 1 batches.\n",
      "Computing pleiotropy correction.\n"
     ]
    },
    {
     "name": "stderr",
     "output_type": "stream",
     "text": [
      "100%|██████████| 2996/2996 [00:00<00:00, 8583.11it/s]\n"
     ]
    },
    {
     "name": "stdout",
     "output_type": "stream",
     "text": [
      "Running aucell on mat with 2996 samples and 6277 targets for 33 sources.\n"
     ]
    },
    {
     "name": "stderr",
     "output_type": "stream",
     "text": [
      "100%|██████████| 2996/2996 [00:02<00:00, 1239.13it/s]\n"
     ]
    },
    {
     "name": "stdout",
     "output_type": "stream",
     "text": [
      "Running ulm on mat with 1498 samples and 6277 targets for 33 sources.\n",
      "Running viper on mat with 1498 samples and 6277 targets for 33 sources.\n",
      "Infering activities on 1 batches.\n",
      "Computing pleiotropy correction.\n"
     ]
    },
    {
     "name": "stderr",
     "output_type": "stream",
     "text": [
      "100%|██████████| 1498/1498 [00:00<00:00, 6532.44it/s]\n"
     ]
    },
    {
     "name": "stdout",
     "output_type": "stream",
     "text": [
      "Running aucell on mat with 1498 samples and 6277 targets for 33 sources.\n"
     ]
    },
    {
     "name": "stderr",
     "output_type": "stream",
     "text": [
      "100%|██████████| 1498/1498 [00:01<00:00, 1347.50it/s]\n"
     ]
    },
    {
     "name": "stdout",
     "output_type": "stream",
     "text": [
      "Running ulm on mat with 1498 samples and 6277 targets for 33 sources.\n",
      "Running viper on mat with 1498 samples and 6277 targets for 33 sources.\n",
      "Infering activities on 1 batches.\n",
      "Computing pleiotropy correction.\n"
     ]
    },
    {
     "name": "stderr",
     "output_type": "stream",
     "text": [
      "100%|██████████| 1498/1498 [00:00<00:00, 8823.52it/s]\n"
     ]
    },
    {
     "name": "stdout",
     "output_type": "stream",
     "text": [
      "Running aucell on mat with 1498 samples and 6277 targets for 33 sources.\n"
     ]
    },
    {
     "name": "stderr",
     "output_type": "stream",
     "text": [
      "100%|██████████| 1498/1498 [00:01<00:00, 940.70it/s]\n"
     ]
    },
    {
     "name": "stdout",
     "output_type": "stream",
     "text": [
      "Running ulm on mat with 2996 samples and 6277 targets for 33 sources.\n",
      "Running viper on mat with 2996 samples and 6277 targets for 33 sources.\n",
      "Infering activities on 1 batches.\n",
      "Computing pleiotropy correction.\n"
     ]
    },
    {
     "name": "stderr",
     "output_type": "stream",
     "text": [
      "100%|██████████| 2996/2996 [00:00<00:00, 8695.14it/s]\n"
     ]
    },
    {
     "name": "stdout",
     "output_type": "stream",
     "text": [
      "Running aucell on mat with 2996 samples and 6277 targets for 33 sources.\n"
     ]
    },
    {
     "name": "stderr",
     "output_type": "stream",
     "text": [
      "100%|██████████| 2996/2996 [00:02<00:00, 1135.09it/s]\n"
     ]
    },
    {
     "name": "stdout",
     "output_type": "stream",
     "text": [
      "Running ulm on mat with 1498 samples and 6277 targets for 33 sources.\n",
      "Running viper on mat with 1498 samples and 6277 targets for 33 sources.\n",
      "Infering activities on 1 batches.\n",
      "Computing pleiotropy correction.\n"
     ]
    },
    {
     "name": "stderr",
     "output_type": "stream",
     "text": [
      "100%|██████████| 1498/1498 [00:00<00:00, 6656.81it/s]\n"
     ]
    },
    {
     "name": "stdout",
     "output_type": "stream",
     "text": [
      "Running aucell on mat with 1498 samples and 6277 targets for 33 sources.\n"
     ]
    },
    {
     "name": "stderr",
     "output_type": "stream",
     "text": [
      "100%|██████████| 1498/1498 [00:01<00:00, 956.20it/s]\n"
     ]
    },
    {
     "name": "stdout",
     "output_type": "stream",
     "text": [
      "Running ulm on mat with 1498 samples and 6277 targets for 33 sources.\n",
      "Running viper on mat with 1498 samples and 6277 targets for 33 sources.\n",
      "Infering activities on 1 batches.\n",
      "Computing pleiotropy correction.\n"
     ]
    },
    {
     "name": "stderr",
     "output_type": "stream",
     "text": [
      "100%|██████████| 1498/1498 [00:00<00:00, 6532.69it/s]\n"
     ]
    },
    {
     "name": "stdout",
     "output_type": "stream",
     "text": [
      "Running aucell on mat with 1498 samples and 6277 targets for 33 sources.\n"
     ]
    },
    {
     "name": "stderr",
     "output_type": "stream",
     "text": [
      "100%|██████████| 1498/1498 [00:01<00:00, 1302.94it/s]\n"
     ]
    },
    {
     "name": "stdout",
     "output_type": "stream",
     "text": [
      "Running ulm on mat with 2996 samples and 6277 targets for 33 sources.\n",
      "Running viper on mat with 2996 samples and 6277 targets for 33 sources.\n",
      "Infering activities on 1 batches.\n",
      "Computing pleiotropy correction.\n"
     ]
    },
    {
     "name": "stderr",
     "output_type": "stream",
     "text": [
      "100%|██████████| 2996/2996 [00:00<00:00, 7712.73it/s]\n"
     ]
    },
    {
     "name": "stdout",
     "output_type": "stream",
     "text": [
      "Running aucell on mat with 2996 samples and 6277 targets for 33 sources.\n"
     ]
    },
    {
     "name": "stderr",
     "output_type": "stream",
     "text": [
      "100%|██████████| 2996/2996 [00:02<00:00, 1135.49it/s]\n"
     ]
    },
    {
     "name": "stdout",
     "output_type": "stream",
     "text": [
      "Running ulm on mat with 1498 samples and 6277 targets for 33 sources.\n",
      "Running viper on mat with 1498 samples and 6277 targets for 33 sources.\n",
      "Infering activities on 1 batches.\n",
      "Computing pleiotropy correction.\n"
     ]
    },
    {
     "name": "stderr",
     "output_type": "stream",
     "text": [
      "100%|██████████| 1498/1498 [00:02<00:00, 602.88it/s]\n"
     ]
    },
    {
     "name": "stdout",
     "output_type": "stream",
     "text": [
      "Running aucell on mat with 1498 samples and 6277 targets for 33 sources.\n"
     ]
    },
    {
     "name": "stderr",
     "output_type": "stream",
     "text": [
      "100%|██████████| 1498/1498 [00:02<00:00, 632.72it/s]\n"
     ]
    },
    {
     "name": "stdout",
     "output_type": "stream",
     "text": [
      "Running ulm on mat with 1498 samples and 6277 targets for 33 sources.\n",
      "Running viper on mat with 1498 samples and 6277 targets for 33 sources.\n",
      "Infering activities on 1 batches.\n",
      "Computing pleiotropy correction.\n"
     ]
    },
    {
     "name": "stderr",
     "output_type": "stream",
     "text": [
      "100%|██████████| 1498/1498 [00:02<00:00, 540.90it/s]\n"
     ]
    },
    {
     "name": "stdout",
     "output_type": "stream",
     "text": [
      "Running aucell on mat with 1498 samples and 6277 targets for 33 sources.\n"
     ]
    },
    {
     "name": "stderr",
     "output_type": "stream",
     "text": [
      "100%|██████████| 1498/1498 [00:02<00:00, 688.35it/s]\n"
     ]
    },
    {
     "name": "stdout",
     "output_type": "stream",
     "text": [
      "Running ulm on mat with 2996 samples and 6277 targets for 33 sources.\n",
      "Running viper on mat with 2996 samples and 6277 targets for 33 sources.\n",
      "Infering activities on 1 batches.\n",
      "Computing pleiotropy correction.\n"
     ]
    },
    {
     "name": "stderr",
     "output_type": "stream",
     "text": [
      "100%|██████████| 2996/2996 [00:05<00:00, 558.35it/s]\n"
     ]
    },
    {
     "name": "stdout",
     "output_type": "stream",
     "text": [
      "Running aucell on mat with 2996 samples and 6277 targets for 33 sources.\n"
     ]
    },
    {
     "name": "stderr",
     "output_type": "stream",
     "text": [
      "100%|██████████| 2996/2996 [00:04<00:00, 697.46it/s]\n"
     ]
    }
   ],
   "source": [
    "from scipy import sparse\n",
    "ulm_files, viper_files, aucell_files = [], [], []\n",
    "for i, (_, row) in tqdm(enumerate(h5ad_df.iterrows()), total=len(h5ad_df)):\n",
    "    \n",
    "    # Read in the adata\n",
    "    h5ad_file = row[\"in_file_path\"]\n",
    "    adata = sc.read_h5ad(h5ad_file)\n",
    "\n",
    "    # Get the run name\n",
    "    run = row[\"dataset\"] + \"_\" + \"expression_baseline\" + \"_\" + row[\"cells\"] + \"_\"  + row[\"genotype\"] + \"_\" + str(row[\"genes\"]) + \"_\" + row[\"normalization\"]\n",
    "\n",
    "    # Make sure the adata uses the normalized counts\n",
    "    adata.raw = adata.copy()\n",
    "    if sparse.issparse(adata.layers[\"normalized_counts\"]):\n",
    "        adata.X = adata.layers[\"normalized_counts\"].A\n",
    "    else:\n",
    "        adata.X = adata.layers[\"normalized_counts\"]\n",
    "\n",
    "   # Run decoupler with ULM\n",
    "    dc.run_ulm(\n",
    "        mat=adata,\n",
    "        net=net,\n",
    "        source='source',\n",
    "        target='target',\n",
    "        weight='weight',\n",
    "        verbose=True,\n",
    "        use_raw=False\n",
    "    )\n",
    "\n",
    "    # Grab the ULM estimates\n",
    "    acts = dc.get_acts(adata, obsm_key='ulm_estimate')\n",
    "    acts.var[\"rank_weight\"] = acts.X.mean(axis=0)\n",
    "    acts.var[\"rank\"] = acts.var[\"rank_weight\"].rank(ascending=False)\n",
    "    acts_ranked = acts.var.sort_values(\"rank\")\n",
    "\n",
    "    # Clean up\n",
    "    acts_ranked = acts_ranked[[\"rank_weight\", \"rank\"]]\n",
    "    acts_ranked.index.name = None\n",
    "\n",
    "    # Save the ranked TFs\n",
    "    out_file = os.path.join(results_dir, dataset_name, in_date, \"baselines\", run, \"dorothea_ulm_rank.tsv\")\n",
    "    acts_ranked.to_csv(out_file, sep=\"\\t\")\n",
    "    ulm_files.append(out_file)\n",
    "\n",
    "    # Run decoupler with VIPER\n",
    "    dc.run_viper(\n",
    "        mat=adata,\n",
    "        net=net,\n",
    "        source='source',\n",
    "        target='target',\n",
    "        weight='weight',\n",
    "        verbose=True,\n",
    "        use_raw=False\n",
    "    )\n",
    "\n",
    "    # Grab the VIPER estimates\n",
    "    acts = dc.get_acts(adata, obsm_key='viper_estimate')\n",
    "    acts.var[\"rank_weight\"] = acts.X.mean(axis=0)\n",
    "    acts.var[\"rank\"] = acts.var[\"rank_weight\"].rank(ascending=False)\n",
    "    acts_ranked = acts.var.sort_values(\"rank\")\n",
    "\n",
    "    # Clean up\n",
    "    acts_ranked = acts_ranked[[\"rank_weight\", \"rank\"]]\n",
    "    acts_ranked.index.name = None\n",
    "\n",
    "    # Save the ranked TFs\n",
    "    out_file = os.path.join(results_dir, dataset_name, in_date, \"baselines\", run, \"dorothea_viper_rank.tsv\")\n",
    "    acts_ranked.to_csv(out_file, sep=\"\\t\")\n",
    "    viper_files.append(out_file)\n",
    "\n",
    "    # Run decoupler with AUCell\n",
    "    dc.run_aucell(\n",
    "        mat=adata,\n",
    "        net=net,\n",
    "        source='source',\n",
    "        target='target',\n",
    "        verbose=True,\n",
    "        use_raw=False\n",
    "    )\n",
    "\n",
    "    # Grab the AUCell estimates\n",
    "    acts = dc.get_acts(adata, obsm_key='aucell_estimate')\n",
    "    acts.var[\"rank_weight\"] = acts.X.mean(axis=0)\n",
    "    acts.var[\"rank\"] = acts.var[\"rank_weight\"].rank(ascending=False)\n",
    "    acts_ranked = acts.var.sort_values(\"rank\")\n",
    "\n",
    "    # Clean up\n",
    "    acts_ranked = acts_ranked[[\"rank_weight\", \"rank\"]]\n",
    "    acts_ranked.index.name = None\n",
    "\n",
    "    # Save the ranked TFs\n",
    "    out_file = os.path.join(results_dir, dataset_name, in_date, \"baselines\", run, \"dorothea_aucell_rank.tsv\")\n",
    "    acts_ranked.to_csv(out_file, sep=\"\\t\")\n",
    "    aucell_files.append(out_file)\n",
    "\n",
    "baseline_metadata[\"ulm_path\"] = ulm_files\n",
    "baseline_metadata[\"viper_path\"] = viper_files\n",
    "baseline_metadata[\"aucell_path\"] = aucell_files"
   ]
  },
  {
   "attachments": {},
   "cell_type": "markdown",
   "metadata": {},
   "source": [
    "# Write metadata"
   ]
  },
  {
   "cell_type": "code",
   "execution_count": 11,
   "metadata": {},
   "outputs": [
    {
     "data": {
      "text/html": [
       "<div>\n",
       "<style scoped>\n",
       "    .dataframe tbody tr th:only-of-type {\n",
       "        vertical-align: middle;\n",
       "    }\n",
       "\n",
       "    .dataframe tbody tr th {\n",
       "        vertical-align: top;\n",
       "    }\n",
       "\n",
       "    .dataframe thead th {\n",
       "        text-align: right;\n",
       "    }\n",
       "</style>\n",
       "<table border=\"1\" class=\"dataframe\">\n",
       "  <thead>\n",
       "    <tr style=\"text-align: right;\">\n",
       "      <th></th>\n",
       "      <th>grn_name</th>\n",
       "      <th>dataset</th>\n",
       "      <th>method</th>\n",
       "      <th>cells</th>\n",
       "      <th>genes</th>\n",
       "      <th>normalization</th>\n",
       "      <th>genotype</th>\n",
       "      <th>expression_path</th>\n",
       "      <th>ulm_path</th>\n",
       "      <th>viper_path</th>\n",
       "      <th>aucell_path</th>\n",
       "    </tr>\n",
       "  </thead>\n",
       "  <tbody>\n",
       "    <tr>\n",
       "      <th>0</th>\n",
       "      <td>igvf_b01_LeftCortex_expression_baseline_balanc...</td>\n",
       "      <td>igvf_b01_LeftCortex</td>\n",
       "      <td>expression_baseline</td>\n",
       "      <td>balanced_genotype_microglia</td>\n",
       "      <td>0.05</td>\n",
       "      <td>raw</td>\n",
       "      <td>B6J</td>\n",
       "      <td>/cellar/users/aklie/projects/igvf/topic_grn_li...</td>\n",
       "      <td>/cellar/users/aklie/projects/igvf/topic_grn_li...</td>\n",
       "      <td>/cellar/users/aklie/projects/igvf/topic_grn_li...</td>\n",
       "      <td>/cellar/users/aklie/projects/igvf/topic_grn_li...</td>\n",
       "    </tr>\n",
       "    <tr>\n",
       "      <th>1</th>\n",
       "      <td>igvf_b01_LeftCortex_expression_baseline_balanc...</td>\n",
       "      <td>igvf_b01_LeftCortex</td>\n",
       "      <td>expression_baseline</td>\n",
       "      <td>balanced_genotype_microglia</td>\n",
       "      <td>0.05</td>\n",
       "      <td>raw</td>\n",
       "      <td>CASTJ</td>\n",
       "      <td>/cellar/users/aklie/projects/igvf/topic_grn_li...</td>\n",
       "      <td>/cellar/users/aklie/projects/igvf/topic_grn_li...</td>\n",
       "      <td>/cellar/users/aklie/projects/igvf/topic_grn_li...</td>\n",
       "      <td>/cellar/users/aklie/projects/igvf/topic_grn_li...</td>\n",
       "    </tr>\n",
       "    <tr>\n",
       "      <th>2</th>\n",
       "      <td>igvf_b01_LeftCortex_expression_baseline_balanc...</td>\n",
       "      <td>igvf_b01_LeftCortex</td>\n",
       "      <td>expression_baseline</td>\n",
       "      <td>balanced_genotype_microglia</td>\n",
       "      <td>0.05</td>\n",
       "      <td>raw</td>\n",
       "      <td>both</td>\n",
       "      <td>/cellar/users/aklie/projects/igvf/topic_grn_li...</td>\n",
       "      <td>/cellar/users/aklie/projects/igvf/topic_grn_li...</td>\n",
       "      <td>/cellar/users/aklie/projects/igvf/topic_grn_li...</td>\n",
       "      <td>/cellar/users/aklie/projects/igvf/topic_grn_li...</td>\n",
       "    </tr>\n",
       "    <tr>\n",
       "      <th>3</th>\n",
       "      <td>igvf_b01_LeftCortex_expression_baseline_balanc...</td>\n",
       "      <td>igvf_b01_LeftCortex</td>\n",
       "      <td>expression_baseline</td>\n",
       "      <td>balanced_genotype_microglia</td>\n",
       "      <td>0.05</td>\n",
       "      <td>log1p_cp10k</td>\n",
       "      <td>B6J</td>\n",
       "      <td>/cellar/users/aklie/projects/igvf/topic_grn_li...</td>\n",
       "      <td>/cellar/users/aklie/projects/igvf/topic_grn_li...</td>\n",
       "      <td>/cellar/users/aklie/projects/igvf/topic_grn_li...</td>\n",
       "      <td>/cellar/users/aklie/projects/igvf/topic_grn_li...</td>\n",
       "    </tr>\n",
       "    <tr>\n",
       "      <th>4</th>\n",
       "      <td>igvf_b01_LeftCortex_expression_baseline_balanc...</td>\n",
       "      <td>igvf_b01_LeftCortex</td>\n",
       "      <td>expression_baseline</td>\n",
       "      <td>balanced_genotype_microglia</td>\n",
       "      <td>0.05</td>\n",
       "      <td>log1p_cp10k</td>\n",
       "      <td>CASTJ</td>\n",
       "      <td>/cellar/users/aklie/projects/igvf/topic_grn_li...</td>\n",
       "      <td>/cellar/users/aklie/projects/igvf/topic_grn_li...</td>\n",
       "      <td>/cellar/users/aklie/projects/igvf/topic_grn_li...</td>\n",
       "      <td>/cellar/users/aklie/projects/igvf/topic_grn_li...</td>\n",
       "    </tr>\n",
       "  </tbody>\n",
       "</table>\n",
       "</div>"
      ],
      "text/plain": [
       "                                            grn_name              dataset  \\\n",
       "0  igvf_b01_LeftCortex_expression_baseline_balanc...  igvf_b01_LeftCortex   \n",
       "1  igvf_b01_LeftCortex_expression_baseline_balanc...  igvf_b01_LeftCortex   \n",
       "2  igvf_b01_LeftCortex_expression_baseline_balanc...  igvf_b01_LeftCortex   \n",
       "3  igvf_b01_LeftCortex_expression_baseline_balanc...  igvf_b01_LeftCortex   \n",
       "4  igvf_b01_LeftCortex_expression_baseline_balanc...  igvf_b01_LeftCortex   \n",
       "\n",
       "                method                        cells  genes normalization  \\\n",
       "0  expression_baseline  balanced_genotype_microglia   0.05           raw   \n",
       "1  expression_baseline  balanced_genotype_microglia   0.05           raw   \n",
       "2  expression_baseline  balanced_genotype_microglia   0.05           raw   \n",
       "3  expression_baseline  balanced_genotype_microglia   0.05   log1p_cp10k   \n",
       "4  expression_baseline  balanced_genotype_microglia   0.05   log1p_cp10k   \n",
       "\n",
       "  genotype                                    expression_path  \\\n",
       "0      B6J  /cellar/users/aklie/projects/igvf/topic_grn_li...   \n",
       "1    CASTJ  /cellar/users/aklie/projects/igvf/topic_grn_li...   \n",
       "2     both  /cellar/users/aklie/projects/igvf/topic_grn_li...   \n",
       "3      B6J  /cellar/users/aklie/projects/igvf/topic_grn_li...   \n",
       "4    CASTJ  /cellar/users/aklie/projects/igvf/topic_grn_li...   \n",
       "\n",
       "                                            ulm_path  \\\n",
       "0  /cellar/users/aklie/projects/igvf/topic_grn_li...   \n",
       "1  /cellar/users/aklie/projects/igvf/topic_grn_li...   \n",
       "2  /cellar/users/aklie/projects/igvf/topic_grn_li...   \n",
       "3  /cellar/users/aklie/projects/igvf/topic_grn_li...   \n",
       "4  /cellar/users/aklie/projects/igvf/topic_grn_li...   \n",
       "\n",
       "                                          viper_path  \\\n",
       "0  /cellar/users/aklie/projects/igvf/topic_grn_li...   \n",
       "1  /cellar/users/aklie/projects/igvf/topic_grn_li...   \n",
       "2  /cellar/users/aklie/projects/igvf/topic_grn_li...   \n",
       "3  /cellar/users/aklie/projects/igvf/topic_grn_li...   \n",
       "4  /cellar/users/aklie/projects/igvf/topic_grn_li...   \n",
       "\n",
       "                                         aucell_path  \n",
       "0  /cellar/users/aklie/projects/igvf/topic_grn_li...  \n",
       "1  /cellar/users/aklie/projects/igvf/topic_grn_li...  \n",
       "2  /cellar/users/aklie/projects/igvf/topic_grn_li...  \n",
       "3  /cellar/users/aklie/projects/igvf/topic_grn_li...  \n",
       "4  /cellar/users/aklie/projects/igvf/topic_grn_li...  "
      ]
     },
     "execution_count": 11,
     "metadata": {},
     "output_type": "execute_result"
    }
   ],
   "source": [
    "baseline_metadata.head()"
   ]
  },
  {
   "cell_type": "code",
   "execution_count": 12,
   "metadata": {},
   "outputs": [],
   "source": [
    "baseline_metadata.to_csv(os.path.join(results_dir, dataset_name, in_date, \"cleaned_baseline_metadata.tsv\"), sep=\"\\t\", index=False)"
   ]
  },
  {
   "cell_type": "code",
   "execution_count": 16,
   "metadata": {},
   "outputs": [
    {
     "data": {
      "text/html": [
       "<div>\n",
       "<style scoped>\n",
       "    .dataframe tbody tr th:only-of-type {\n",
       "        vertical-align: middle;\n",
       "    }\n",
       "\n",
       "    .dataframe tbody tr th {\n",
       "        vertical-align: top;\n",
       "    }\n",
       "\n",
       "    .dataframe thead th {\n",
       "        text-align: right;\n",
       "    }\n",
       "</style>\n",
       "<table border=\"1\" class=\"dataframe\">\n",
       "  <thead>\n",
       "    <tr style=\"text-align: right;\">\n",
       "      <th></th>\n",
       "      <th>grn_name</th>\n",
       "      <th>dataset</th>\n",
       "      <th>method</th>\n",
       "      <th>cells</th>\n",
       "      <th>genes</th>\n",
       "      <th>normalization</th>\n",
       "      <th>genotype</th>\n",
       "      <th>scale_free_topology_score</th>\n",
       "      <th>mean_connectivity</th>\n",
       "      <th>median_connectivity</th>\n",
       "      <th>max_connectivity</th>\n",
       "      <th>number_tfs</th>\n",
       "      <th>filtered_links_path</th>\n",
       "      <th>degree_centrality_out_path</th>\n",
       "      <th>eigenvector_centrality_path</th>\n",
       "      <th>betweenness_centrality_path</th>\n",
       "      <th>ulm_path</th>\n",
       "      <th>viper_path</th>\n",
       "      <th>aucell_path</th>\n",
       "    </tr>\n",
       "  </thead>\n",
       "  <tbody>\n",
       "    <tr>\n",
       "      <th>0</th>\n",
       "      <td>igvf_b01_LeftCortex_aracne_balanced_genotype_m...</td>\n",
       "      <td>igvf_b01_LeftCortex</td>\n",
       "      <td>aracne</td>\n",
       "      <td>balanced_genotype_microglia</td>\n",
       "      <td>0.05</td>\n",
       "      <td>raw</td>\n",
       "      <td>B6J</td>\n",
       "      <td>0.782986</td>\n",
       "      <td>6.568144</td>\n",
       "      <td>3.0</td>\n",
       "      <td>186.0</td>\n",
       "      <td>99</td>\n",
       "      <td>/cellar/users/aklie/projects/igvf/topic_grn_li...</td>\n",
       "      <td>/cellar/users/aklie/projects/igvf/topic_grn_li...</td>\n",
       "      <td>/cellar/users/aklie/projects/igvf/topic_grn_li...</td>\n",
       "      <td>/cellar/users/aklie/projects/igvf/topic_grn_li...</td>\n",
       "      <td>/cellar/users/aklie/projects/igvf/topic_grn_li...</td>\n",
       "      <td>/cellar/users/aklie/projects/igvf/topic_grn_li...</td>\n",
       "      <td>/cellar/users/aklie/projects/igvf/topic_grn_li...</td>\n",
       "    </tr>\n",
       "    <tr>\n",
       "      <th>1</th>\n",
       "      <td>igvf_b01_LeftCortex_aracne_balanced_genotype_m...</td>\n",
       "      <td>igvf_b01_LeftCortex</td>\n",
       "      <td>aracne</td>\n",
       "      <td>balanced_genotype_microglia</td>\n",
       "      <td>0.05</td>\n",
       "      <td>raw</td>\n",
       "      <td>CASTJ</td>\n",
       "      <td>0.784745</td>\n",
       "      <td>3.970117</td>\n",
       "      <td>2.0</td>\n",
       "      <td>96.0</td>\n",
       "      <td>208</td>\n",
       "      <td>/cellar/users/aklie/projects/igvf/topic_grn_li...</td>\n",
       "      <td>/cellar/users/aklie/projects/igvf/topic_grn_li...</td>\n",
       "      <td>/cellar/users/aklie/projects/igvf/topic_grn_li...</td>\n",
       "      <td>/cellar/users/aklie/projects/igvf/topic_grn_li...</td>\n",
       "      <td>/cellar/users/aklie/projects/igvf/topic_grn_li...</td>\n",
       "      <td>/cellar/users/aklie/projects/igvf/topic_grn_li...</td>\n",
       "      <td>/cellar/users/aklie/projects/igvf/topic_grn_li...</td>\n",
       "    </tr>\n",
       "    <tr>\n",
       "      <th>2</th>\n",
       "      <td>igvf_b01_LeftCortex_aracne_balanced_genotype_m...</td>\n",
       "      <td>igvf_b01_LeftCortex</td>\n",
       "      <td>aracne</td>\n",
       "      <td>balanced_genotype_microglia</td>\n",
       "      <td>0.05</td>\n",
       "      <td>raw</td>\n",
       "      <td>both</td>\n",
       "      <td>0.799480</td>\n",
       "      <td>7.920792</td>\n",
       "      <td>4.0</td>\n",
       "      <td>239.0</td>\n",
       "      <td>84</td>\n",
       "      <td>/cellar/users/aklie/projects/igvf/topic_grn_li...</td>\n",
       "      <td>/cellar/users/aklie/projects/igvf/topic_grn_li...</td>\n",
       "      <td>/cellar/users/aklie/projects/igvf/topic_grn_li...</td>\n",
       "      <td>/cellar/users/aklie/projects/igvf/topic_grn_li...</td>\n",
       "      <td>/cellar/users/aklie/projects/igvf/topic_grn_li...</td>\n",
       "      <td>/cellar/users/aklie/projects/igvf/topic_grn_li...</td>\n",
       "      <td>/cellar/users/aklie/projects/igvf/topic_grn_li...</td>\n",
       "    </tr>\n",
       "    <tr>\n",
       "      <th>3</th>\n",
       "      <td>igvf_b01_LeftCortex_aracne_balanced_genotype_m...</td>\n",
       "      <td>igvf_b01_LeftCortex</td>\n",
       "      <td>aracne</td>\n",
       "      <td>balanced_genotype_microglia</td>\n",
       "      <td>0.05</td>\n",
       "      <td>log1p_cp10k</td>\n",
       "      <td>B6J</td>\n",
       "      <td>0.837918</td>\n",
       "      <td>10.416667</td>\n",
       "      <td>5.0</td>\n",
       "      <td>128.0</td>\n",
       "      <td>50</td>\n",
       "      <td>/cellar/users/aklie/projects/igvf/topic_grn_li...</td>\n",
       "      <td>/cellar/users/aklie/projects/igvf/topic_grn_li...</td>\n",
       "      <td>/cellar/users/aklie/projects/igvf/topic_grn_li...</td>\n",
       "      <td>/cellar/users/aklie/projects/igvf/topic_grn_li...</td>\n",
       "      <td>/cellar/users/aklie/projects/igvf/topic_grn_li...</td>\n",
       "      <td>/cellar/users/aklie/projects/igvf/topic_grn_li...</td>\n",
       "      <td>/cellar/users/aklie/projects/igvf/topic_grn_li...</td>\n",
       "    </tr>\n",
       "    <tr>\n",
       "      <th>4</th>\n",
       "      <td>igvf_b01_LeftCortex_aracne_balanced_genotype_m...</td>\n",
       "      <td>igvf_b01_LeftCortex</td>\n",
       "      <td>aracne</td>\n",
       "      <td>balanced_genotype_microglia</td>\n",
       "      <td>0.05</td>\n",
       "      <td>log1p_cp10k</td>\n",
       "      <td>CASTJ</td>\n",
       "      <td>0.835523</td>\n",
       "      <td>10.666667</td>\n",
       "      <td>5.0</td>\n",
       "      <td>135.0</td>\n",
       "      <td>59</td>\n",
       "      <td>/cellar/users/aklie/projects/igvf/topic_grn_li...</td>\n",
       "      <td>/cellar/users/aklie/projects/igvf/topic_grn_li...</td>\n",
       "      <td>/cellar/users/aklie/projects/igvf/topic_grn_li...</td>\n",
       "      <td>/cellar/users/aklie/projects/igvf/topic_grn_li...</td>\n",
       "      <td>/cellar/users/aklie/projects/igvf/topic_grn_li...</td>\n",
       "      <td>/cellar/users/aklie/projects/igvf/topic_grn_li...</td>\n",
       "      <td>/cellar/users/aklie/projects/igvf/topic_grn_li...</td>\n",
       "    </tr>\n",
       "    <tr>\n",
       "      <th>...</th>\n",
       "      <td>...</td>\n",
       "      <td>...</td>\n",
       "      <td>...</td>\n",
       "      <td>...</td>\n",
       "      <td>...</td>\n",
       "      <td>...</td>\n",
       "      <td>...</td>\n",
       "      <td>...</td>\n",
       "      <td>...</td>\n",
       "      <td>...</td>\n",
       "      <td>...</td>\n",
       "      <td>...</td>\n",
       "      <td>...</td>\n",
       "      <td>...</td>\n",
       "      <td>...</td>\n",
       "      <td>...</td>\n",
       "      <td>...</td>\n",
       "      <td>...</td>\n",
       "      <td>...</td>\n",
       "    </tr>\n",
       "    <tr>\n",
       "      <th>115</th>\n",
       "      <td>Bridge_Satpathy_wgcna_balanced_genotype_microg...</td>\n",
       "      <td>Bridge_Satpathy</td>\n",
       "      <td>wgcna</td>\n",
       "      <td>balanced_genotype_microglia</td>\n",
       "      <td>0.05</td>\n",
       "      <td>log1p_cp10k</td>\n",
       "      <td>CASTJ</td>\n",
       "      <td>0.813745</td>\n",
       "      <td>9.070295</td>\n",
       "      <td>3.0</td>\n",
       "      <td>337.0</td>\n",
       "      <td>58</td>\n",
       "      <td>/cellar/users/aklie/projects/igvf/topic_grn_li...</td>\n",
       "      <td>/cellar/users/aklie/projects/igvf/topic_grn_li...</td>\n",
       "      <td>/cellar/users/aklie/projects/igvf/topic_grn_li...</td>\n",
       "      <td>/cellar/users/aklie/projects/igvf/topic_grn_li...</td>\n",
       "      <td>/cellar/users/aklie/projects/igvf/topic_grn_li...</td>\n",
       "      <td>/cellar/users/aklie/projects/igvf/topic_grn_li...</td>\n",
       "      <td>/cellar/users/aklie/projects/igvf/topic_grn_li...</td>\n",
       "    </tr>\n",
       "    <tr>\n",
       "      <th>116</th>\n",
       "      <td>Bridge_Satpathy_wgcna_balanced_genotype_microg...</td>\n",
       "      <td>Bridge_Satpathy</td>\n",
       "      <td>wgcna</td>\n",
       "      <td>balanced_genotype_microglia</td>\n",
       "      <td>0.05</td>\n",
       "      <td>log1p_cp10k</td>\n",
       "      <td>both</td>\n",
       "      <td>0.833126</td>\n",
       "      <td>9.216590</td>\n",
       "      <td>3.0</td>\n",
       "      <td>336.0</td>\n",
       "      <td>51</td>\n",
       "      <td>/cellar/users/aklie/projects/igvf/topic_grn_li...</td>\n",
       "      <td>/cellar/users/aklie/projects/igvf/topic_grn_li...</td>\n",
       "      <td>/cellar/users/aklie/projects/igvf/topic_grn_li...</td>\n",
       "      <td>/cellar/users/aklie/projects/igvf/topic_grn_li...</td>\n",
       "      <td>/cellar/users/aklie/projects/igvf/topic_grn_li...</td>\n",
       "      <td>/cellar/users/aklie/projects/igvf/topic_grn_li...</td>\n",
       "      <td>/cellar/users/aklie/projects/igvf/topic_grn_li...</td>\n",
       "    </tr>\n",
       "    <tr>\n",
       "      <th>117</th>\n",
       "      <td>Bridge_Satpathy_wgcna_balanced_genotype_microg...</td>\n",
       "      <td>Bridge_Satpathy</td>\n",
       "      <td>wgcna</td>\n",
       "      <td>balanced_genotype_microglia</td>\n",
       "      <td>0.05</td>\n",
       "      <td>pf_log1p_pf</td>\n",
       "      <td>B6J</td>\n",
       "      <td>0.874247</td>\n",
       "      <td>8.368201</td>\n",
       "      <td>3.0</td>\n",
       "      <td>310.0</td>\n",
       "      <td>55</td>\n",
       "      <td>/cellar/users/aklie/projects/igvf/topic_grn_li...</td>\n",
       "      <td>/cellar/users/aklie/projects/igvf/topic_grn_li...</td>\n",
       "      <td>/cellar/users/aklie/projects/igvf/topic_grn_li...</td>\n",
       "      <td>/cellar/users/aklie/projects/igvf/topic_grn_li...</td>\n",
       "      <td>/cellar/users/aklie/projects/igvf/topic_grn_li...</td>\n",
       "      <td>/cellar/users/aklie/projects/igvf/topic_grn_li...</td>\n",
       "      <td>/cellar/users/aklie/projects/igvf/topic_grn_li...</td>\n",
       "    </tr>\n",
       "    <tr>\n",
       "      <th>118</th>\n",
       "      <td>Bridge_Satpathy_wgcna_balanced_genotype_microg...</td>\n",
       "      <td>Bridge_Satpathy</td>\n",
       "      <td>wgcna</td>\n",
       "      <td>balanced_genotype_microglia</td>\n",
       "      <td>0.05</td>\n",
       "      <td>pf_log1p_pf</td>\n",
       "      <td>CASTJ</td>\n",
       "      <td>0.848092</td>\n",
       "      <td>8.097166</td>\n",
       "      <td>2.0</td>\n",
       "      <td>328.0</td>\n",
       "      <td>68</td>\n",
       "      <td>/cellar/users/aklie/projects/igvf/topic_grn_li...</td>\n",
       "      <td>/cellar/users/aklie/projects/igvf/topic_grn_li...</td>\n",
       "      <td>/cellar/users/aklie/projects/igvf/topic_grn_li...</td>\n",
       "      <td>/cellar/users/aklie/projects/igvf/topic_grn_li...</td>\n",
       "      <td>/cellar/users/aklie/projects/igvf/topic_grn_li...</td>\n",
       "      <td>/cellar/users/aklie/projects/igvf/topic_grn_li...</td>\n",
       "      <td>/cellar/users/aklie/projects/igvf/topic_grn_li...</td>\n",
       "    </tr>\n",
       "    <tr>\n",
       "      <th>119</th>\n",
       "      <td>Bridge_Satpathy_wgcna_balanced_genotype_microg...</td>\n",
       "      <td>Bridge_Satpathy</td>\n",
       "      <td>wgcna</td>\n",
       "      <td>balanced_genotype_microglia</td>\n",
       "      <td>0.05</td>\n",
       "      <td>pf_log1p_pf</td>\n",
       "      <td>both</td>\n",
       "      <td>0.857677</td>\n",
       "      <td>8.368201</td>\n",
       "      <td>2.0</td>\n",
       "      <td>334.0</td>\n",
       "      <td>57</td>\n",
       "      <td>/cellar/users/aklie/projects/igvf/topic_grn_li...</td>\n",
       "      <td>/cellar/users/aklie/projects/igvf/topic_grn_li...</td>\n",
       "      <td>/cellar/users/aklie/projects/igvf/topic_grn_li...</td>\n",
       "      <td>/cellar/users/aklie/projects/igvf/topic_grn_li...</td>\n",
       "      <td>/cellar/users/aklie/projects/igvf/topic_grn_li...</td>\n",
       "      <td>/cellar/users/aklie/projects/igvf/topic_grn_li...</td>\n",
       "      <td>/cellar/users/aklie/projects/igvf/topic_grn_li...</td>\n",
       "    </tr>\n",
       "  </tbody>\n",
       "</table>\n",
       "<p>120 rows × 19 columns</p>\n",
       "</div>"
      ],
      "text/plain": [
       "                                              grn_name              dataset  \\\n",
       "0    igvf_b01_LeftCortex_aracne_balanced_genotype_m...  igvf_b01_LeftCortex   \n",
       "1    igvf_b01_LeftCortex_aracne_balanced_genotype_m...  igvf_b01_LeftCortex   \n",
       "2    igvf_b01_LeftCortex_aracne_balanced_genotype_m...  igvf_b01_LeftCortex   \n",
       "3    igvf_b01_LeftCortex_aracne_balanced_genotype_m...  igvf_b01_LeftCortex   \n",
       "4    igvf_b01_LeftCortex_aracne_balanced_genotype_m...  igvf_b01_LeftCortex   \n",
       "..                                                 ...                  ...   \n",
       "115  Bridge_Satpathy_wgcna_balanced_genotype_microg...      Bridge_Satpathy   \n",
       "116  Bridge_Satpathy_wgcna_balanced_genotype_microg...      Bridge_Satpathy   \n",
       "117  Bridge_Satpathy_wgcna_balanced_genotype_microg...      Bridge_Satpathy   \n",
       "118  Bridge_Satpathy_wgcna_balanced_genotype_microg...      Bridge_Satpathy   \n",
       "119  Bridge_Satpathy_wgcna_balanced_genotype_microg...      Bridge_Satpathy   \n",
       "\n",
       "     method                        cells  genes normalization genotype  \\\n",
       "0    aracne  balanced_genotype_microglia   0.05           raw      B6J   \n",
       "1    aracne  balanced_genotype_microglia   0.05           raw    CASTJ   \n",
       "2    aracne  balanced_genotype_microglia   0.05           raw     both   \n",
       "3    aracne  balanced_genotype_microglia   0.05   log1p_cp10k      B6J   \n",
       "4    aracne  balanced_genotype_microglia   0.05   log1p_cp10k    CASTJ   \n",
       "..      ...                          ...    ...           ...      ...   \n",
       "115   wgcna  balanced_genotype_microglia   0.05   log1p_cp10k    CASTJ   \n",
       "116   wgcna  balanced_genotype_microglia   0.05   log1p_cp10k     both   \n",
       "117   wgcna  balanced_genotype_microglia   0.05   pf_log1p_pf      B6J   \n",
       "118   wgcna  balanced_genotype_microglia   0.05   pf_log1p_pf    CASTJ   \n",
       "119   wgcna  balanced_genotype_microglia   0.05   pf_log1p_pf     both   \n",
       "\n",
       "     scale_free_topology_score  mean_connectivity  median_connectivity  \\\n",
       "0                     0.782986           6.568144                  3.0   \n",
       "1                     0.784745           3.970117                  2.0   \n",
       "2                     0.799480           7.920792                  4.0   \n",
       "3                     0.837918          10.416667                  5.0   \n",
       "4                     0.835523          10.666667                  5.0   \n",
       "..                         ...                ...                  ...   \n",
       "115                   0.813745           9.070295                  3.0   \n",
       "116                   0.833126           9.216590                  3.0   \n",
       "117                   0.874247           8.368201                  3.0   \n",
       "118                   0.848092           8.097166                  2.0   \n",
       "119                   0.857677           8.368201                  2.0   \n",
       "\n",
       "     max_connectivity  number_tfs  \\\n",
       "0               186.0          99   \n",
       "1                96.0         208   \n",
       "2               239.0          84   \n",
       "3               128.0          50   \n",
       "4               135.0          59   \n",
       "..                ...         ...   \n",
       "115             337.0          58   \n",
       "116             336.0          51   \n",
       "117             310.0          55   \n",
       "118             328.0          68   \n",
       "119             334.0          57   \n",
       "\n",
       "                                   filtered_links_path  \\\n",
       "0    /cellar/users/aklie/projects/igvf/topic_grn_li...   \n",
       "1    /cellar/users/aklie/projects/igvf/topic_grn_li...   \n",
       "2    /cellar/users/aklie/projects/igvf/topic_grn_li...   \n",
       "3    /cellar/users/aklie/projects/igvf/topic_grn_li...   \n",
       "4    /cellar/users/aklie/projects/igvf/topic_grn_li...   \n",
       "..                                                 ...   \n",
       "115  /cellar/users/aklie/projects/igvf/topic_grn_li...   \n",
       "116  /cellar/users/aklie/projects/igvf/topic_grn_li...   \n",
       "117  /cellar/users/aklie/projects/igvf/topic_grn_li...   \n",
       "118  /cellar/users/aklie/projects/igvf/topic_grn_li...   \n",
       "119  /cellar/users/aklie/projects/igvf/topic_grn_li...   \n",
       "\n",
       "                            degree_centrality_out_path  \\\n",
       "0    /cellar/users/aklie/projects/igvf/topic_grn_li...   \n",
       "1    /cellar/users/aklie/projects/igvf/topic_grn_li...   \n",
       "2    /cellar/users/aklie/projects/igvf/topic_grn_li...   \n",
       "3    /cellar/users/aklie/projects/igvf/topic_grn_li...   \n",
       "4    /cellar/users/aklie/projects/igvf/topic_grn_li...   \n",
       "..                                                 ...   \n",
       "115  /cellar/users/aklie/projects/igvf/topic_grn_li...   \n",
       "116  /cellar/users/aklie/projects/igvf/topic_grn_li...   \n",
       "117  /cellar/users/aklie/projects/igvf/topic_grn_li...   \n",
       "118  /cellar/users/aklie/projects/igvf/topic_grn_li...   \n",
       "119  /cellar/users/aklie/projects/igvf/topic_grn_li...   \n",
       "\n",
       "                           eigenvector_centrality_path  \\\n",
       "0    /cellar/users/aklie/projects/igvf/topic_grn_li...   \n",
       "1    /cellar/users/aklie/projects/igvf/topic_grn_li...   \n",
       "2    /cellar/users/aklie/projects/igvf/topic_grn_li...   \n",
       "3    /cellar/users/aklie/projects/igvf/topic_grn_li...   \n",
       "4    /cellar/users/aklie/projects/igvf/topic_grn_li...   \n",
       "..                                                 ...   \n",
       "115  /cellar/users/aklie/projects/igvf/topic_grn_li...   \n",
       "116  /cellar/users/aklie/projects/igvf/topic_grn_li...   \n",
       "117  /cellar/users/aklie/projects/igvf/topic_grn_li...   \n",
       "118  /cellar/users/aklie/projects/igvf/topic_grn_li...   \n",
       "119  /cellar/users/aklie/projects/igvf/topic_grn_li...   \n",
       "\n",
       "                           betweenness_centrality_path  \\\n",
       "0    /cellar/users/aklie/projects/igvf/topic_grn_li...   \n",
       "1    /cellar/users/aklie/projects/igvf/topic_grn_li...   \n",
       "2    /cellar/users/aklie/projects/igvf/topic_grn_li...   \n",
       "3    /cellar/users/aklie/projects/igvf/topic_grn_li...   \n",
       "4    /cellar/users/aklie/projects/igvf/topic_grn_li...   \n",
       "..                                                 ...   \n",
       "115  /cellar/users/aklie/projects/igvf/topic_grn_li...   \n",
       "116  /cellar/users/aklie/projects/igvf/topic_grn_li...   \n",
       "117  /cellar/users/aklie/projects/igvf/topic_grn_li...   \n",
       "118  /cellar/users/aklie/projects/igvf/topic_grn_li...   \n",
       "119  /cellar/users/aklie/projects/igvf/topic_grn_li...   \n",
       "\n",
       "                                              ulm_path  \\\n",
       "0    /cellar/users/aklie/projects/igvf/topic_grn_li...   \n",
       "1    /cellar/users/aklie/projects/igvf/topic_grn_li...   \n",
       "2    /cellar/users/aklie/projects/igvf/topic_grn_li...   \n",
       "3    /cellar/users/aklie/projects/igvf/topic_grn_li...   \n",
       "4    /cellar/users/aklie/projects/igvf/topic_grn_li...   \n",
       "..                                                 ...   \n",
       "115  /cellar/users/aklie/projects/igvf/topic_grn_li...   \n",
       "116  /cellar/users/aklie/projects/igvf/topic_grn_li...   \n",
       "117  /cellar/users/aklie/projects/igvf/topic_grn_li...   \n",
       "118  /cellar/users/aklie/projects/igvf/topic_grn_li...   \n",
       "119  /cellar/users/aklie/projects/igvf/topic_grn_li...   \n",
       "\n",
       "                                            viper_path  \\\n",
       "0    /cellar/users/aklie/projects/igvf/topic_grn_li...   \n",
       "1    /cellar/users/aklie/projects/igvf/topic_grn_li...   \n",
       "2    /cellar/users/aklie/projects/igvf/topic_grn_li...   \n",
       "3    /cellar/users/aklie/projects/igvf/topic_grn_li...   \n",
       "4    /cellar/users/aklie/projects/igvf/topic_grn_li...   \n",
       "..                                                 ...   \n",
       "115  /cellar/users/aklie/projects/igvf/topic_grn_li...   \n",
       "116  /cellar/users/aklie/projects/igvf/topic_grn_li...   \n",
       "117  /cellar/users/aklie/projects/igvf/topic_grn_li...   \n",
       "118  /cellar/users/aklie/projects/igvf/topic_grn_li...   \n",
       "119  /cellar/users/aklie/projects/igvf/topic_grn_li...   \n",
       "\n",
       "                                           aucell_path  \n",
       "0    /cellar/users/aklie/projects/igvf/topic_grn_li...  \n",
       "1    /cellar/users/aklie/projects/igvf/topic_grn_li...  \n",
       "2    /cellar/users/aklie/projects/igvf/topic_grn_li...  \n",
       "3    /cellar/users/aklie/projects/igvf/topic_grn_li...  \n",
       "4    /cellar/users/aklie/projects/igvf/topic_grn_li...  \n",
       "..                                                 ...  \n",
       "115  /cellar/users/aklie/projects/igvf/topic_grn_li...  \n",
       "116  /cellar/users/aklie/projects/igvf/topic_grn_li...  \n",
       "117  /cellar/users/aklie/projects/igvf/topic_grn_li...  \n",
       "118  /cellar/users/aklie/projects/igvf/topic_grn_li...  \n",
       "119  /cellar/users/aklie/projects/igvf/topic_grn_li...  \n",
       "\n",
       "[120 rows x 19 columns]"
      ]
     },
     "execution_count": 16,
     "metadata": {},
     "output_type": "execute_result"
    }
   ],
   "source": [
    "df = pd.read_csv(\"/cellar/users/aklie/projects/igvf/topic_grn_links/eval/results/meta_analysis/03Sep23/cleaned_grn_metadata.tsv\", index_col=0, sep=\"\\t\")\n",
    "df"
   ]
  },
  {
   "cell_type": "code",
   "execution_count": 17,
   "metadata": {},
   "outputs": [],
   "source": [
    "df.to_csv(\"/cellar/users/aklie/projects/igvf/topic_grn_links/eval/results/meta_analysis/03Sep23/cleaned_grn_metadata2.tsv\", sep=\"\\t\", index=False)"
   ]
  },
  {
   "cell_type": "code",
   "execution_count": 18,
   "metadata": {},
   "outputs": [],
   "source": []
  },
  {
   "cell_type": "code",
   "execution_count": 23,
   "metadata": {},
   "outputs": [
    {
     "data": {
      "text/plain": [
       "660"
      ]
     },
     "execution_count": 23,
     "metadata": {},
     "output_type": "execute_result"
    }
   ],
   "source": []
  },
  {
   "cell_type": "code",
   "execution_count": 20,
   "metadata": {},
   "outputs": [
    {
     "data": {
      "text/html": [
       "<div>\n",
       "<style scoped>\n",
       "    .dataframe tbody tr th:only-of-type {\n",
       "        vertical-align: middle;\n",
       "    }\n",
       "\n",
       "    .dataframe tbody tr th {\n",
       "        vertical-align: top;\n",
       "    }\n",
       "\n",
       "    .dataframe thead th {\n",
       "        text-align: right;\n",
       "    }\n",
       "</style>\n",
       "<table border=\"1\" class=\"dataframe\">\n",
       "  <thead>\n",
       "    <tr style=\"text-align: right;\">\n",
       "      <th></th>\n",
       "      <th>gene_id</th>\n",
       "      <th>gene_name</th>\n",
       "      <th>n_cells</th>\n",
       "      <th>mt</th>\n",
       "      <th>n_cells_by_counts</th>\n",
       "      <th>mean_counts</th>\n",
       "      <th>pct_dropout_by_counts</th>\n",
       "      <th>total_counts</th>\n",
       "    </tr>\n",
       "    <tr>\n",
       "      <th>gene</th>\n",
       "      <th></th>\n",
       "      <th></th>\n",
       "      <th></th>\n",
       "      <th></th>\n",
       "      <th></th>\n",
       "      <th></th>\n",
       "      <th></th>\n",
       "      <th></th>\n",
       "    </tr>\n",
       "  </thead>\n",
       "  <tbody>\n",
       "    <tr>\n",
       "      <th>Xkr4</th>\n",
       "      <td>ENSMUSG00000051951.6</td>\n",
       "      <td>Xkr4</td>\n",
       "      <td>89155</td>\n",
       "      <td>False</td>\n",
       "      <td>89155</td>\n",
       "      <td>5.561202</td>\n",
       "      <td>18.411516</td>\n",
       "      <td>607694.625000</td>\n",
       "    </tr>\n",
       "    <tr>\n",
       "      <th>Lypla1</th>\n",
       "      <td>ENSMUSG00000025903.15</td>\n",
       "      <td>Lypla1</td>\n",
       "      <td>9408</td>\n",
       "      <td>False</td>\n",
       "      <td>9408</td>\n",
       "      <td>0.048942</td>\n",
       "      <td>91.390450</td>\n",
       "      <td>5348.098633</td>\n",
       "    </tr>\n",
       "    <tr>\n",
       "      <th>Gm37988</th>\n",
       "      <td>ENSMUSG00000104217.2</td>\n",
       "      <td>Gm37988</td>\n",
       "      <td>25578</td>\n",
       "      <td>False</td>\n",
       "      <td>25578</td>\n",
       "      <td>0.183453</td>\n",
       "      <td>76.592785</td>\n",
       "      <td>20046.699219</td>\n",
       "    </tr>\n",
       "    <tr>\n",
       "      <th>Tcea1</th>\n",
       "      <td>ENSMUSG00000033813.16</td>\n",
       "      <td>Tcea1</td>\n",
       "      <td>24118</td>\n",
       "      <td>False</td>\n",
       "      <td>24118</td>\n",
       "      <td>0.199689</td>\n",
       "      <td>77.928876</td>\n",
       "      <td>21820.904297</td>\n",
       "    </tr>\n",
       "    <tr>\n",
       "      <th>Rgs20</th>\n",
       "      <td>ENSMUSG00000002459.18</td>\n",
       "      <td>Rgs20</td>\n",
       "      <td>28775</td>\n",
       "      <td>False</td>\n",
       "      <td>28775</td>\n",
       "      <td>0.455780</td>\n",
       "      <td>73.667112</td>\n",
       "      <td>49804.886719</td>\n",
       "    </tr>\n",
       "    <tr>\n",
       "      <th>...</th>\n",
       "      <td>...</td>\n",
       "      <td>...</td>\n",
       "      <td>...</td>\n",
       "      <td>...</td>\n",
       "      <td>...</td>\n",
       "      <td>...</td>\n",
       "      <td>...</td>\n",
       "      <td>...</td>\n",
       "    </tr>\n",
       "    <tr>\n",
       "      <th>mt-Co2</th>\n",
       "      <td>ENSMUSG00000064354.1</td>\n",
       "      <td>mt-Co2</td>\n",
       "      <td>22589</td>\n",
       "      <td>True</td>\n",
       "      <td>22589</td>\n",
       "      <td>0.131671</td>\n",
       "      <td>79.328111</td>\n",
       "      <td>14388.107422</td>\n",
       "    </tr>\n",
       "    <tr>\n",
       "      <th>mt-Atp6</th>\n",
       "      <td>ENSMUSG00000064357.1</td>\n",
       "      <td>mt-Atp6</td>\n",
       "      <td>20593</td>\n",
       "      <td>True</td>\n",
       "      <td>20593</td>\n",
       "      <td>0.117913</td>\n",
       "      <td>81.154712</td>\n",
       "      <td>12884.748047</td>\n",
       "    </tr>\n",
       "    <tr>\n",
       "      <th>mt-Co3</th>\n",
       "      <td>ENSMUSG00000064358.1</td>\n",
       "      <td>mt-Co3</td>\n",
       "      <td>40051</td>\n",
       "      <td>True</td>\n",
       "      <td>40051</td>\n",
       "      <td>0.275835</td>\n",
       "      <td>63.348097</td>\n",
       "      <td>30141.630859</td>\n",
       "    </tr>\n",
       "    <tr>\n",
       "      <th>mt-Nd4</th>\n",
       "      <td>ENSMUSG00000064363.1</td>\n",
       "      <td>mt-Nd4</td>\n",
       "      <td>17880</td>\n",
       "      <td>True</td>\n",
       "      <td>17880</td>\n",
       "      <td>0.173955</td>\n",
       "      <td>83.637462</td>\n",
       "      <td>19008.792969</td>\n",
       "    </tr>\n",
       "    <tr>\n",
       "      <th>mt-Cytb</th>\n",
       "      <td>ENSMUSG00000064370.1</td>\n",
       "      <td>mt-Cytb</td>\n",
       "      <td>17661</td>\n",
       "      <td>True</td>\n",
       "      <td>17661</td>\n",
       "      <td>0.193367</td>\n",
       "      <td>83.837875</td>\n",
       "      <td>21130.000000</td>\n",
       "    </tr>\n",
       "  </tbody>\n",
       "</table>\n",
       "<p>6277 rows × 8 columns</p>\n",
       "</div>"
      ],
      "text/plain": [
       "                       gene_id gene_name  n_cells     mt  n_cells_by_counts  \\\n",
       "gene                                                                          \n",
       "Xkr4      ENSMUSG00000051951.6      Xkr4    89155  False              89155   \n",
       "Lypla1   ENSMUSG00000025903.15    Lypla1     9408  False               9408   \n",
       "Gm37988   ENSMUSG00000104217.2   Gm37988    25578  False              25578   \n",
       "Tcea1    ENSMUSG00000033813.16     Tcea1    24118  False              24118   \n",
       "Rgs20    ENSMUSG00000002459.18     Rgs20    28775  False              28775   \n",
       "...                        ...       ...      ...    ...                ...   \n",
       "mt-Co2    ENSMUSG00000064354.1    mt-Co2    22589   True              22589   \n",
       "mt-Atp6   ENSMUSG00000064357.1   mt-Atp6    20593   True              20593   \n",
       "mt-Co3    ENSMUSG00000064358.1    mt-Co3    40051   True              40051   \n",
       "mt-Nd4    ENSMUSG00000064363.1    mt-Nd4    17880   True              17880   \n",
       "mt-Cytb   ENSMUSG00000064370.1   mt-Cytb    17661   True              17661   \n",
       "\n",
       "         mean_counts  pct_dropout_by_counts   total_counts  \n",
       "gene                                                        \n",
       "Xkr4        5.561202              18.411516  607694.625000  \n",
       "Lypla1      0.048942              91.390450    5348.098633  \n",
       "Gm37988     0.183453              76.592785   20046.699219  \n",
       "Tcea1       0.199689              77.928876   21820.904297  \n",
       "Rgs20       0.455780              73.667112   49804.886719  \n",
       "...              ...                    ...            ...  \n",
       "mt-Co2      0.131671              79.328111   14388.107422  \n",
       "mt-Atp6     0.117913              81.154712   12884.748047  \n",
       "mt-Co3      0.275835              63.348097   30141.630859  \n",
       "mt-Nd4      0.173955              83.637462   19008.792969  \n",
       "mt-Cytb     0.193367              83.837875   21130.000000  \n",
       "\n",
       "[6277 rows x 8 columns]"
      ]
     },
     "execution_count": 20,
     "metadata": {},
     "output_type": "execute_result"
    }
   ],
   "source": []
  },
  {
   "attachments": {},
   "cell_type": "markdown",
   "metadata": {},
   "source": [
    "# DONE!"
   ]
  },
  {
   "attachments": {},
   "cell_type": "markdown",
   "metadata": {},
   "source": [
    "---"
   ]
  }
 ],
 "metadata": {
  "kernelspec": {
   "display_name": "Python 3.8 celloracle",
   "language": "python",
   "name": "celloracle"
  },
  "language_info": {
   "codemirror_mode": {
    "name": "ipython",
    "version": 3
   },
   "file_extension": ".py",
   "mimetype": "text/x-python",
   "name": "python",
   "nbconvert_exporter": "python",
   "pygments_lexer": "ipython3",
   "version": "3.8.17"
  },
  "orig_nbformat": 4
 },
 "nbformat": 4,
 "nbformat_minor": 2
}
