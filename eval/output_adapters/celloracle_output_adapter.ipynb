{
 "cells": [
  {
   "attachments": {},
   "cell_type": "markdown",
   "metadata": {},
   "source": [
    "# CellOracle output adapter"
   ]
  },
  {
   "cell_type": "code",
   "execution_count": 1,
   "metadata": {},
   "outputs": [],
   "source": [
    "import os\n",
    "import sys\n",
    "import glob\n",
    "import pandas as pd\n",
    "import numpy as np"
   ]
  },
  {
   "cell_type": "code",
   "execution_count": 2,
   "metadata": {},
   "outputs": [],
   "source": [
    "example_out_dir = \"/cellar/users/aklie/projects/igvf/topic_grn_links/grn_inference/celloracle/results/Bridge_Satpathy/balanced_genotype_microglia/0.05/raw/B6J\""
   ]
  },
  {
   "cell_type": "code",
   "execution_count": 3,
   "metadata": {},
   "outputs": [],
   "source": [
    "output_file = glob.glob(os.path.join(example_out_dir, \"*.tsv\"))[0]"
   ]
  },
  {
   "cell_type": "code",
   "execution_count": 9,
   "metadata": {},
   "outputs": [],
   "source": [
    "adj = pd.read_csv(output_file, sep=\"\\t\", index_col=0)"
   ]
  },
  {
   "cell_type": "code",
   "execution_count": 10,
   "metadata": {},
   "outputs": [],
   "source": [
    "adj.rename(\n",
    "    columns={\n",
    "        \"coef_mean\": \"weight_signed\",\n",
    "        \"coef_abs\": \"weight_unsigned\"},\n",
    "    inplace=True\n",
    ")"
   ]
  },
  {
   "cell_type": "code",
   "execution_count": 12,
   "metadata": {},
   "outputs": [],
   "source": [
    "adj[\"weight_minmax_normalized\"] = (adj[\"weight_unsigned\"] - adj[\"weight_unsigned\"].min()) / (adj[\"weight_unsigned\"].max() - adj[\"weight_unsigned\"].min())"
   ]
  },
  {
   "cell_type": "code",
   "execution_count": 13,
   "metadata": {},
   "outputs": [],
   "source": [
    "adj[\"description\"] = np.nan"
   ]
  },
  {
   "cell_type": "code",
   "execution_count": 14,
   "metadata": {},
   "outputs": [
    {
     "data": {
      "text/html": [
       "<div>\n",
       "<style scoped>\n",
       "    .dataframe tbody tr th:only-of-type {\n",
       "        vertical-align: middle;\n",
       "    }\n",
       "\n",
       "    .dataframe tbody tr th {\n",
       "        vertical-align: top;\n",
       "    }\n",
       "\n",
       "    .dataframe thead th {\n",
       "        text-align: right;\n",
       "    }\n",
       "</style>\n",
       "<table border=\"1\" class=\"dataframe\">\n",
       "  <thead>\n",
       "    <tr style=\"text-align: right;\">\n",
       "      <th></th>\n",
       "      <th>source</th>\n",
       "      <th>target</th>\n",
       "      <th>weight_signed</th>\n",
       "      <th>weight_unsigned</th>\n",
       "      <th>p</th>\n",
       "      <th>-logp</th>\n",
       "      <th>weight_minmax_normalized</th>\n",
       "      <th>description</th>\n",
       "    </tr>\n",
       "  </thead>\n",
       "  <tbody>\n",
       "    <tr>\n",
       "      <th>0</th>\n",
       "      <td>Tcf12</td>\n",
       "      <td>0610012G03Rik</td>\n",
       "      <td>0.015642</td>\n",
       "      <td>0.015642</td>\n",
       "      <td>1.569409e-05</td>\n",
       "      <td>4.804264</td>\n",
       "      <td>0.000738</td>\n",
       "      <td>NaN</td>\n",
       "    </tr>\n",
       "    <tr>\n",
       "      <th>1</th>\n",
       "      <td>Smad1</td>\n",
       "      <td>0610012G03Rik</td>\n",
       "      <td>-0.002569</td>\n",
       "      <td>0.002569</td>\n",
       "      <td>1.352268e-01</td>\n",
       "      <td>0.868937</td>\n",
       "      <td>0.000121</td>\n",
       "      <td>NaN</td>\n",
       "    </tr>\n",
       "    <tr>\n",
       "      <th>2</th>\n",
       "      <td>Sp4</td>\n",
       "      <td>0610012G03Rik</td>\n",
       "      <td>0.002998</td>\n",
       "      <td>0.002998</td>\n",
       "      <td>1.381521e-01</td>\n",
       "      <td>0.859643</td>\n",
       "      <td>0.000141</td>\n",
       "      <td>NaN</td>\n",
       "    </tr>\n",
       "    <tr>\n",
       "      <th>3</th>\n",
       "      <td>Nrf1</td>\n",
       "      <td>0610012G03Rik</td>\n",
       "      <td>0.011757</td>\n",
       "      <td>0.011757</td>\n",
       "      <td>7.611729e-07</td>\n",
       "      <td>6.118517</td>\n",
       "      <td>0.000554</td>\n",
       "      <td>NaN</td>\n",
       "    </tr>\n",
       "    <tr>\n",
       "      <th>4</th>\n",
       "      <td>Mafb</td>\n",
       "      <td>0610012G03Rik</td>\n",
       "      <td>-0.003036</td>\n",
       "      <td>0.003036</td>\n",
       "      <td>2.869526e-01</td>\n",
       "      <td>0.542190</td>\n",
       "      <td>0.000143</td>\n",
       "      <td>NaN</td>\n",
       "    </tr>\n",
       "    <tr>\n",
       "      <th>...</th>\n",
       "      <td>...</td>\n",
       "      <td>...</td>\n",
       "      <td>...</td>\n",
       "      <td>...</td>\n",
       "      <td>...</td>\n",
       "      <td>...</td>\n",
       "      <td>...</td>\n",
       "      <td>...</td>\n",
       "    </tr>\n",
       "    <tr>\n",
       "      <th>526842</th>\n",
       "      <td>Sp1</td>\n",
       "      <td>a</td>\n",
       "      <td>0.000215</td>\n",
       "      <td>0.000215</td>\n",
       "      <td>9.267862e-01</td>\n",
       "      <td>0.033020</td>\n",
       "      <td>0.000010</td>\n",
       "      <td>NaN</td>\n",
       "    </tr>\n",
       "    <tr>\n",
       "      <th>526843</th>\n",
       "      <td>Npas2</td>\n",
       "      <td>a</td>\n",
       "      <td>-0.010581</td>\n",
       "      <td>0.010581</td>\n",
       "      <td>5.318404e-03</td>\n",
       "      <td>2.274219</td>\n",
       "      <td>0.000499</td>\n",
       "      <td>NaN</td>\n",
       "    </tr>\n",
       "    <tr>\n",
       "      <th>526844</th>\n",
       "      <td>Mga</td>\n",
       "      <td>a</td>\n",
       "      <td>-0.003446</td>\n",
       "      <td>0.003446</td>\n",
       "      <td>4.863647e-02</td>\n",
       "      <td>1.313038</td>\n",
       "      <td>0.000163</td>\n",
       "      <td>NaN</td>\n",
       "    </tr>\n",
       "    <tr>\n",
       "      <th>526845</th>\n",
       "      <td>Lmo2</td>\n",
       "      <td>a</td>\n",
       "      <td>0.000274</td>\n",
       "      <td>0.000274</td>\n",
       "      <td>8.464940e-01</td>\n",
       "      <td>0.072376</td>\n",
       "      <td>0.000013</td>\n",
       "      <td>NaN</td>\n",
       "    </tr>\n",
       "    <tr>\n",
       "      <th>526846</th>\n",
       "      <td>Mafg</td>\n",
       "      <td>a</td>\n",
       "      <td>0.002877</td>\n",
       "      <td>0.002877</td>\n",
       "      <td>1.709159e-01</td>\n",
       "      <td>0.767218</td>\n",
       "      <td>0.000136</td>\n",
       "      <td>NaN</td>\n",
       "    </tr>\n",
       "  </tbody>\n",
       "</table>\n",
       "<p>526847 rows × 8 columns</p>\n",
       "</div>"
      ],
      "text/plain": [
       "       source         target  weight_signed  weight_unsigned             p  \\\n",
       "0       Tcf12  0610012G03Rik       0.015642         0.015642  1.569409e-05   \n",
       "1       Smad1  0610012G03Rik      -0.002569         0.002569  1.352268e-01   \n",
       "2         Sp4  0610012G03Rik       0.002998         0.002998  1.381521e-01   \n",
       "3        Nrf1  0610012G03Rik       0.011757         0.011757  7.611729e-07   \n",
       "4        Mafb  0610012G03Rik      -0.003036         0.003036  2.869526e-01   \n",
       "...       ...            ...            ...              ...           ...   \n",
       "526842    Sp1              a       0.000215         0.000215  9.267862e-01   \n",
       "526843  Npas2              a      -0.010581         0.010581  5.318404e-03   \n",
       "526844    Mga              a      -0.003446         0.003446  4.863647e-02   \n",
       "526845   Lmo2              a       0.000274         0.000274  8.464940e-01   \n",
       "526846   Mafg              a       0.002877         0.002877  1.709159e-01   \n",
       "\n",
       "           -logp  weight_minmax_normalized  description  \n",
       "0       4.804264                  0.000738          NaN  \n",
       "1       0.868937                  0.000121          NaN  \n",
       "2       0.859643                  0.000141          NaN  \n",
       "3       6.118517                  0.000554          NaN  \n",
       "4       0.542190                  0.000143          NaN  \n",
       "...          ...                       ...          ...  \n",
       "526842  0.033020                  0.000010          NaN  \n",
       "526843  2.274219                  0.000499          NaN  \n",
       "526844  1.313038                  0.000163          NaN  \n",
       "526845  0.072376                  0.000013          NaN  \n",
       "526846  0.767218                  0.000136          NaN  \n",
       "\n",
       "[526847 rows x 8 columns]"
      ]
     },
     "execution_count": 14,
     "metadata": {},
     "output_type": "execute_result"
    }
   ],
   "source": [
    "adj.to_csv(os.path.join(example_out_dir, \"net.tsv\"), sep=\"\\t\")"
   ]
  },
  {
   "cell_type": "code",
   "execution_count": 15,
   "metadata": {},
   "outputs": [
    {
     "data": {
      "text/plain": [
       "0"
      ]
     },
     "execution_count": 15,
     "metadata": {},
     "output_type": "execute_result"
    }
   ],
   "source": [
    "(adj[\"source\"] == adj[\"target\"]).sum()"
   ]
  },
  {
   "cell_type": "code",
   "execution_count": null,
   "metadata": {},
   "outputs": [],
   "source": []
  }
 ],
 "metadata": {
  "kernelspec": {
   "display_name": "Python 3.8 celloracle",
   "language": "python",
   "name": "celloracle"
  },
  "language_info": {
   "codemirror_mode": {
    "name": "ipython",
    "version": 3
   },
   "file_extension": ".py",
   "mimetype": "text/x-python",
   "name": "python",
   "nbconvert_exporter": "python",
   "pygments_lexer": "ipython3",
   "version": "3.8.17"
  },
  "orig_nbformat": 4
 },
 "nbformat": 4,
 "nbformat_minor": 2
}
