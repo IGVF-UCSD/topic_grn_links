{
 "cells": [
  {
   "attachments": {},
   "cell_type": "markdown",
   "metadata": {},
   "source": [
    "# TODO"
   ]
  },
  {
   "cell_type": "code",
   "execution_count": 87,
   "metadata": {},
   "outputs": [],
   "source": [
    "import os\n",
    "import sys\n",
    "import glob\n",
    "import pandas as pd\n",
    "import numpy as np\n",
    "import scanpy as sc\n",
    "from scipy.stats import ttest_1samp\n",
    "from pyscenic.cli.utils import load_signatures\n",
    "from pyscenic.utils import add_correlation\n",
    "from tqdm import tqdm\n",
    "from scipy.stats import ttest_1samp\n",
    "tqdm.pandas()"
   ]
  },
  {
   "cell_type": "code",
   "execution_count": 89,
   "metadata": {},
   "outputs": [],
   "source": [
    "def calc_p_value(importances):\n",
    "    _, p_value = ttest_1samp(importances, 0)\n",
    "    return p_value"
   ]
  },
  {
   "cell_type": "code",
   "execution_count": 79,
   "metadata": {},
   "outputs": [],
   "source": [
    "def regulon2sadj(\n",
    "    regulons,\n",
    "):\n",
    "    net_lst = []\n",
    "    for tf in regulons:\n",
    "        tf_name = tf.name.split(\"(\")[0]\n",
    "        tf_targets = tf.gene2weight\n",
    "        for target, weight in tf_targets.items():\n",
    "            net_lst.append([tf_name, target, weight])\n",
    "    net = pd.DataFrame(net_lst, columns=[\"TF\", \"target\", \"importance\"])\n",
    "    return net"
   ]
  },
  {
   "cell_type": "code",
   "execution_count": 121,
   "metadata": {},
   "outputs": [],
   "source": [
    "example_out_dir = \"/cellar/users/aklie/projects/igvf/topic_grn_links/grn_inference/scenic/results/Bridge_Satpathy/balanced_genotype_microglia/0.05/raw/B6J\"\n",
    "example_ex_mtx_file = \"/cellar/users/aklie/data/igvf/topic_grn_links/subsets/for_regulon_inference/Bridge_Satpathy/29Aug23/3744376661_20230829-175127/balanced_genotype_microglia/0.05/raw/balanced_genotype_microglia-B6J.0.05.raw.loom\""
   ]
  },
  {
   "cell_type": "code",
   "execution_count": 122,
   "metadata": {},
   "outputs": [],
   "source": [
    "adata = sc.read_loom(example_ex_mtx_file, sparse=True)"
   ]
  },
  {
   "cell_type": "code",
   "execution_count": 123,
   "metadata": {},
   "outputs": [
    {
     "data": {
      "text/plain": [
       "['/cellar/users/aklie/projects/igvf/topic_grn_links/grn_inference/scenic/results/Bridge_Satpathy/balanced_genotype_microglia/0.05/raw/B6J/run1_reg.csv',\n",
       " '/cellar/users/aklie/projects/igvf/topic_grn_links/grn_inference/scenic/results/Bridge_Satpathy/balanced_genotype_microglia/0.05/raw/B6J/run2_reg.csv',\n",
       " '/cellar/users/aklie/projects/igvf/topic_grn_links/grn_inference/scenic/results/Bridge_Satpathy/balanced_genotype_microglia/0.05/raw/B6J/run3_reg.csv',\n",
       " '/cellar/users/aklie/projects/igvf/topic_grn_links/grn_inference/scenic/results/Bridge_Satpathy/balanced_genotype_microglia/0.05/raw/B6J/run4_reg.csv',\n",
       " '/cellar/users/aklie/projects/igvf/topic_grn_links/grn_inference/scenic/results/Bridge_Satpathy/balanced_genotype_microglia/0.05/raw/B6J/run5_reg.csv']"
      ]
     },
     "execution_count": 123,
     "metadata": {},
     "output_type": "execute_result"
    }
   ],
   "source": [
    "reg_csvs = sorted(glob.glob(os.path.join(example_out_dir, \"*.csv\")))\n",
    "reg_csvs"
   ]
  },
  {
   "cell_type": "code",
   "execution_count": 124,
   "metadata": {},
   "outputs": [
    {
     "name": "stdout",
     "output_type": "stream",
     "text": [
      "Create regulons from a dataframe of enriched features.\n",
      "Additional columns saved: []\n",
      "Create regulons from a dataframe of enriched features.\n",
      "Additional columns saved: []\n",
      "Create regulons from a dataframe of enriched features.\n",
      "Additional columns saved: []\n",
      "Create regulons from a dataframe of enriched features.\n",
      "Additional columns saved: []\n",
      "Create regulons from a dataframe of enriched features.\n",
      "Additional columns saved: []\n"
     ]
    },
    {
     "data": {
      "text/html": [
       "<div>\n",
       "<style scoped>\n",
       "    .dataframe tbody tr th:only-of-type {\n",
       "        vertical-align: middle;\n",
       "    }\n",
       "\n",
       "    .dataframe tbody tr th {\n",
       "        vertical-align: top;\n",
       "    }\n",
       "\n",
       "    .dataframe thead th {\n",
       "        text-align: right;\n",
       "    }\n",
       "</style>\n",
       "<table border=\"1\" class=\"dataframe\">\n",
       "  <thead>\n",
       "    <tr style=\"text-align: right;\">\n",
       "      <th></th>\n",
       "      <th>TF</th>\n",
       "      <th>target</th>\n",
       "      <th>importance</th>\n",
       "    </tr>\n",
       "  </thead>\n",
       "  <tbody>\n",
       "    <tr>\n",
       "      <th>0</th>\n",
       "      <td>Arnt</td>\n",
       "      <td>Setd5</td>\n",
       "      <td>2.911792</td>\n",
       "    </tr>\n",
       "    <tr>\n",
       "      <th>1</th>\n",
       "      <td>Arnt</td>\n",
       "      <td>Gm21992</td>\n",
       "      <td>4.975446</td>\n",
       "    </tr>\n",
       "    <tr>\n",
       "      <th>2</th>\n",
       "      <td>Arnt</td>\n",
       "      <td>Timm23</td>\n",
       "      <td>2.968481</td>\n",
       "    </tr>\n",
       "    <tr>\n",
       "      <th>3</th>\n",
       "      <td>Arnt</td>\n",
       "      <td>Rnf19a</td>\n",
       "      <td>2.271195</td>\n",
       "    </tr>\n",
       "    <tr>\n",
       "      <th>4</th>\n",
       "      <td>Arnt</td>\n",
       "      <td>Camsap2</td>\n",
       "      <td>3.600412</td>\n",
       "    </tr>\n",
       "  </tbody>\n",
       "</table>\n",
       "</div>"
      ],
      "text/plain": [
       "     TF   target  importance\n",
       "0  Arnt    Setd5    2.911792\n",
       "1  Arnt  Gm21992    4.975446\n",
       "2  Arnt   Timm23    2.968481\n",
       "3  Arnt   Rnf19a    2.271195\n",
       "4  Arnt  Camsap2    3.600412"
      ]
     },
     "execution_count": 124,
     "metadata": {},
     "output_type": "execute_result"
    }
   ],
   "source": [
    "all_edges = pd.DataFrame()\n",
    "for reg_csv in reg_csvs:\n",
    "    regulons = load_signatures(reg_csv)\n",
    "    adj_df = regulon2sadj(regulons)\n",
    "    all_edges = pd.concat([all_edges, adj_df])\n",
    "all_edges.head()"
   ]
  },
  {
   "cell_type": "code",
   "execution_count": 125,
   "metadata": {},
   "outputs": [
    {
     "data": {
      "text/html": [
       "<div>\n",
       "<style scoped>\n",
       "    .dataframe tbody tr th:only-of-type {\n",
       "        vertical-align: middle;\n",
       "    }\n",
       "\n",
       "    .dataframe tbody tr th {\n",
       "        vertical-align: top;\n",
       "    }\n",
       "\n",
       "    .dataframe thead th {\n",
       "        text-align: right;\n",
       "    }\n",
       "</style>\n",
       "<table border=\"1\" class=\"dataframe\">\n",
       "  <thead>\n",
       "    <tr style=\"text-align: right;\">\n",
       "      <th></th>\n",
       "      <th>TF</th>\n",
       "      <th>target</th>\n",
       "      <th>importance</th>\n",
       "    </tr>\n",
       "  </thead>\n",
       "  <tbody>\n",
       "    <tr>\n",
       "      <th>0</th>\n",
       "      <td>Arnt</td>\n",
       "      <td>Setd5</td>\n",
       "      <td>2.911792</td>\n",
       "    </tr>\n",
       "    <tr>\n",
       "      <th>3</th>\n",
       "      <td>Arnt</td>\n",
       "      <td>Rnf19a</td>\n",
       "      <td>2.271195</td>\n",
       "    </tr>\n",
       "    <tr>\n",
       "      <th>6</th>\n",
       "      <td>Arnt</td>\n",
       "      <td>Zfp91</td>\n",
       "      <td>4.214775</td>\n",
       "    </tr>\n",
       "    <tr>\n",
       "      <th>7</th>\n",
       "      <td>Arnt</td>\n",
       "      <td>Mga</td>\n",
       "      <td>3.106827</td>\n",
       "    </tr>\n",
       "    <tr>\n",
       "      <th>8</th>\n",
       "      <td>Arnt</td>\n",
       "      <td>Bnip2</td>\n",
       "      <td>2.733628</td>\n",
       "    </tr>\n",
       "    <tr>\n",
       "      <th>...</th>\n",
       "      <td>...</td>\n",
       "      <td>...</td>\n",
       "      <td>...</td>\n",
       "    </tr>\n",
       "    <tr>\n",
       "      <th>30215</th>\n",
       "      <td>Zfx</td>\n",
       "      <td>2510009E07Rik</td>\n",
       "      <td>1.757439</td>\n",
       "    </tr>\n",
       "    <tr>\n",
       "      <th>30217</th>\n",
       "      <td>Zfx</td>\n",
       "      <td>Unc13c</td>\n",
       "      <td>3.442252</td>\n",
       "    </tr>\n",
       "    <tr>\n",
       "      <th>30218</th>\n",
       "      <td>Zfx</td>\n",
       "      <td>Tshz1</td>\n",
       "      <td>0.416782</td>\n",
       "    </tr>\n",
       "    <tr>\n",
       "      <th>30219</th>\n",
       "      <td>Zfx</td>\n",
       "      <td>Cacng2</td>\n",
       "      <td>0.337952</td>\n",
       "    </tr>\n",
       "    <tr>\n",
       "      <th>30220</th>\n",
       "      <td>Zfx</td>\n",
       "      <td>Tubb4a</td>\n",
       "      <td>0.378235</td>\n",
       "    </tr>\n",
       "  </tbody>\n",
       "</table>\n",
       "<p>127147 rows × 3 columns</p>\n",
       "</div>"
      ],
      "text/plain": [
       "         TF         target  importance\n",
       "0      Arnt          Setd5    2.911792\n",
       "3      Arnt         Rnf19a    2.271195\n",
       "6      Arnt          Zfp91    4.214775\n",
       "7      Arnt            Mga    3.106827\n",
       "8      Arnt          Bnip2    2.733628\n",
       "...     ...            ...         ...\n",
       "30215   Zfx  2510009E07Rik    1.757439\n",
       "30217   Zfx         Unc13c    3.442252\n",
       "30218   Zfx          Tshz1    0.416782\n",
       "30219   Zfx         Cacng2    0.337952\n",
       "30220   Zfx         Tubb4a    0.378235\n",
       "\n",
       "[127147 rows x 3 columns]"
      ]
     },
     "execution_count": 125,
     "metadata": {},
     "output_type": "execute_result"
    }
   ],
   "source": [
    "# Group by source and target and filter edges that appear in only one run\n",
    "grouped = all_edges.groupby(['TF', 'target'])\n",
    "filtered = grouped.filter(lambda x: len(x) > 1)\n",
    "filtered"
   ]
  },
  {
   "cell_type": "code",
   "execution_count": 126,
   "metadata": {},
   "outputs": [
    {
     "name": "stdout",
     "output_type": "stream",
     "text": [
      "21956 edges dropped\n"
     ]
    }
   ],
   "source": [
    "print(f\"{len(all_edges) - len(filtered)} edges dropped\")"
   ]
  },
  {
   "cell_type": "code",
   "execution_count": 127,
   "metadata": {},
   "outputs": [],
   "source": [
    "filtered = add_correlation(filtered, adata.to_df())"
   ]
  },
  {
   "cell_type": "code",
   "execution_count": 128,
   "metadata": {},
   "outputs": [],
   "source": [
    "mean_importance = filtered.groupby(['TF', 'target'])['importance'].mean()\n",
    "mean_corr = filtered.groupby(['TF', 'target'])['rho'].mean()"
   ]
  },
  {
   "cell_type": "code",
   "execution_count": 129,
   "metadata": {},
   "outputs": [
    {
     "name": "stderr",
     "output_type": "stream",
     "text": [
      "  0%|          | 0/35535 [00:00<?, ?it/s]"
     ]
    },
    {
     "name": "stderr",
     "output_type": "stream",
     "text": [
      "  0%|          | 72/35535 [00:00<00:49, 718.86it/s]/tmp/ipykernel_933261/825832589.py:2: RuntimeWarning: Precision loss occurred in moment calculation due to catastrophic cancellation. This occurs when the data are nearly identical. Results may be unreliable.\n",
      "  _, p_value = ttest_1samp(importances, 0)\n",
      "100%|██████████| 35535/35535 [00:10<00:00, 3533.33it/s]\n"
     ]
    }
   ],
   "source": [
    "p_values_series = filtered.groupby(['TF', 'target'])['importance'].progress_apply(calc_p_value) + TINY\n",
    "p_values = p_values_series.values"
   ]
  },
  {
   "cell_type": "code",
   "execution_count": 130,
   "metadata": {},
   "outputs": [],
   "source": [
    "neg_log_p = -np.log10(p_values)\n",
    "normalized_importance = (mean_importance - mean_importance.min()) / (mean_importance.max() - mean_importance.min())"
   ]
  },
  {
   "cell_type": "code",
   "execution_count": 131,
   "metadata": {},
   "outputs": [],
   "source": [
    "consolidated = pd.DataFrame({\n",
    "    'source': mean_importance.index.get_level_values('TF'),\n",
    "    'target': mean_importance.index.get_level_values('target'),\n",
    "    'weight_signed': np.nan,\n",
    "    'weight_unsigned': mean_importance.values,\n",
    "    'weight_minmax_normalized': normalized_importance.values,\n",
    "    'p': p_values,\n",
    "    '-logp': neg_log_p,\n",
    "    'correlation': mean_corr.values,\n",
    "    'description': np.nan\n",
    "}).reset_index(drop=True)"
   ]
  },
  {
   "attachments": {},
   "cell_type": "markdown",
   "metadata": {},
   "source": [
    "# Scratch"
   ]
  },
  {
   "cell_type": "code",
   "execution_count": null,
   "metadata": {},
   "outputs": [],
   "source": [
    "def scenic_out_to_co(\n",
    "    df\n",
    "):\n",
    "    \"\"\"Co\"\"\"\n",
    "    rows = []\n",
    "    for i, row in df.iterrows():\n",
    "        tf = row[0]\n",
    "        target_string = row[8]\n",
    "        target_list = target_string.rstrip(\"]\").lstrip(\"[\").split(\"),\")\n",
    "        for target in target_list:\n",
    "            target = target.replace(\"(\", \"\").replace(\"'\", \"\")\n",
    "            target_split = target.split(\",\")\n",
    "            targ = target_split[0].strip()\n",
    "            weight = float(target_split[1].strip().strip(\")\"))\n",
    "            rows.append([tf, targ, weight])\n",
    "    return_df = pd.DataFrame(rows, columns=[\"source\", \"target\", \"weight\"])\n",
    "    return_df[\"p\"] = np.nan\n",
    "    return_df[\"coef_abs\"] = return_df[\"weight\"].abs()\n",
    "    return return_df"
   ]
  },
  {
   "cell_type": "code",
   "execution_count": null,
   "metadata": {},
   "outputs": [
    {
     "data": {
      "text/plain": [
       "['/cellar/users/aklie/projects/igvf/topic_grn_links/grn_inference/scenic/results/Bridge_Satpathy/balanced_genotype_microglia/0.05/raw/B6J/run1_adj.tsv',\n",
       " '/cellar/users/aklie/projects/igvf/topic_grn_links/grn_inference/scenic/results/Bridge_Satpathy/balanced_genotype_microglia/0.05/raw/B6J/run2_adj.tsv',\n",
       " '/cellar/users/aklie/projects/igvf/topic_grn_links/grn_inference/scenic/results/Bridge_Satpathy/balanced_genotype_microglia/0.05/raw/B6J/run3_adj.tsv',\n",
       " '/cellar/users/aklie/projects/igvf/topic_grn_links/grn_inference/scenic/results/Bridge_Satpathy/balanced_genotype_microglia/0.05/raw/B6J/run4_adj.tsv',\n",
       " '/cellar/users/aklie/projects/igvf/topic_grn_links/grn_inference/scenic/results/Bridge_Satpathy/balanced_genotype_microglia/0.05/raw/B6J/run5_adj.tsv']"
      ]
     },
     "metadata": {},
     "output_type": "display_data"
    }
   ],
   "source": [
    "adj_tsvs = sorted(glob.glob(os.path.join(example_out_dir, \"*.tsv\")))\n",
    "adj_tsvs"
   ]
  },
  {
   "cell_type": "code",
   "execution_count": null,
   "metadata": {},
   "outputs": [
    {
     "data": {
      "text/plain": [
       "['/cellar/users/aklie/projects/igvf/topic_grn_links/grn_inference/scenic/results/Bridge_Satpathy/balanced_genotype_microglia/0.05/raw/B6J/run1_pyscenic_output.loom',\n",
       " '/cellar/users/aklie/projects/igvf/topic_grn_links/grn_inference/scenic/results/Bridge_Satpathy/balanced_genotype_microglia/0.05/raw/B6J/run2_pyscenic_output.loom',\n",
       " '/cellar/users/aklie/projects/igvf/topic_grn_links/grn_inference/scenic/results/Bridge_Satpathy/balanced_genotype_microglia/0.05/raw/B6J/run3_pyscenic_output.loom',\n",
       " '/cellar/users/aklie/projects/igvf/topic_grn_links/grn_inference/scenic/results/Bridge_Satpathy/balanced_genotype_microglia/0.05/raw/B6J/run4_pyscenic_output.loom',\n",
       " '/cellar/users/aklie/projects/igvf/topic_grn_links/grn_inference/scenic/results/Bridge_Satpathy/balanced_genotype_microglia/0.05/raw/B6J/run5_pyscenic_output.loom']"
      ]
     },
     "metadata": {},
     "output_type": "display_data"
    }
   ],
   "source": [
    "looms = sorted(glob.glob(os.path.join(example_out_dir, \"*.loom\")))\n",
    "looms"
   ]
  }
 ],
 "metadata": {
  "kernelspec": {
   "display_name": "Python 3.8 scenicplus",
   "language": "python",
   "name": "scenicplus"
  },
  "language_info": {
   "codemirror_mode": {
    "name": "ipython",
    "version": 3
   },
   "file_extension": ".py",
   "mimetype": "text/x-python",
   "name": "python",
   "nbconvert_exporter": "python",
   "pygments_lexer": "ipython3",
   "version": "3.8.15"
  },
  "orig_nbformat": 4
 },
 "nbformat": 4,
 "nbformat_minor": 2
}
