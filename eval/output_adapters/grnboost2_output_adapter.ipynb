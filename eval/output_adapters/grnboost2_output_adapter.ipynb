{
 "cells": [
  {
   "attachments": {},
   "cell_type": "markdown",
   "metadata": {},
   "source": [
    "# GRNBoost2 output adapter"
   ]
  },
  {
   "cell_type": "code",
   "execution_count": 11,
   "metadata": {},
   "outputs": [],
   "source": [
    "import os\n",
    "import sys\n",
    "import glob\n",
    "import pandas as pd\n",
    "import numpy as np\n",
    "from scipy.stats import ttest_1samp"
   ]
  },
  {
   "cell_type": "code",
   "execution_count": 2,
   "metadata": {},
   "outputs": [],
   "source": [
    "example_out_dir = \"/cellar/users/aklie/projects/igvf/topic_grn_links/grn_inference/grnboost2/results/Bridge_Satpathy/balanced_genotype_microglia/0.05/raw/B6J\""
   ]
  },
  {
   "cell_type": "code",
   "execution_count": 9,
   "metadata": {},
   "outputs": [
    {
     "data": {
      "text/plain": [
       "['/cellar/users/aklie/projects/igvf/topic_grn_links/grn_inference/grnboost2/results/Bridge_Satpathy/balanced_genotype_microglia/0.05/raw/B6J/run1_adj.tsv',\n",
       " '/cellar/users/aklie/projects/igvf/topic_grn_links/grn_inference/grnboost2/results/Bridge_Satpathy/balanced_genotype_microglia/0.05/raw/B6J/run2_adj.tsv',\n",
       " '/cellar/users/aklie/projects/igvf/topic_grn_links/grn_inference/grnboost2/results/Bridge_Satpathy/balanced_genotype_microglia/0.05/raw/B6J/run3_adj.tsv',\n",
       " '/cellar/users/aklie/projects/igvf/topic_grn_links/grn_inference/grnboost2/results/Bridge_Satpathy/balanced_genotype_microglia/0.05/raw/B6J/run4_adj.tsv',\n",
       " '/cellar/users/aklie/projects/igvf/topic_grn_links/grn_inference/grnboost2/results/Bridge_Satpathy/balanced_genotype_microglia/0.05/raw/B6J/run5_adj.tsv']"
      ]
     },
     "execution_count": 9,
     "metadata": {},
     "output_type": "execute_result"
    }
   ],
   "source": [
    "adj_tsvs = sorted(glob.glob(os.path.join(example_out_dir, \"*.tsv\")))\n",
    "adj_tsvs"
   ]
  },
  {
   "cell_type": "code",
   "execution_count": 13,
   "metadata": {},
   "outputs": [
    {
     "data": {
      "text/html": [
       "<div>\n",
       "<style scoped>\n",
       "    .dataframe tbody tr th:only-of-type {\n",
       "        vertical-align: middle;\n",
       "    }\n",
       "\n",
       "    .dataframe tbody tr th {\n",
       "        vertical-align: top;\n",
       "    }\n",
       "\n",
       "    .dataframe thead th {\n",
       "        text-align: right;\n",
       "    }\n",
       "</style>\n",
       "<table border=\"1\" class=\"dataframe\">\n",
       "  <thead>\n",
       "    <tr style=\"text-align: right;\">\n",
       "      <th></th>\n",
       "      <th>TF</th>\n",
       "      <th>target</th>\n",
       "      <th>importance</th>\n",
       "      <th>run</th>\n",
       "    </tr>\n",
       "  </thead>\n",
       "  <tbody>\n",
       "    <tr>\n",
       "      <th>0</th>\n",
       "      <td>Eno1b</td>\n",
       "      <td>G630055G22Rik</td>\n",
       "      <td>872.974893</td>\n",
       "      <td>run1_adj</td>\n",
       "    </tr>\n",
       "    <tr>\n",
       "      <th>1</th>\n",
       "      <td>Zc3h11a</td>\n",
       "      <td>Zbed6</td>\n",
       "      <td>816.344353</td>\n",
       "      <td>run1_adj</td>\n",
       "    </tr>\n",
       "    <tr>\n",
       "      <th>2</th>\n",
       "      <td>Zbed6</td>\n",
       "      <td>Zc3h11a</td>\n",
       "      <td>815.475599</td>\n",
       "      <td>run1_adj</td>\n",
       "    </tr>\n",
       "    <tr>\n",
       "      <th>3</th>\n",
       "      <td>Atf7</td>\n",
       "      <td>Gm28047</td>\n",
       "      <td>796.051670</td>\n",
       "      <td>run1_adj</td>\n",
       "    </tr>\n",
       "    <tr>\n",
       "      <th>4</th>\n",
       "      <td>Gm28047</td>\n",
       "      <td>Atf7</td>\n",
       "      <td>777.347937</td>\n",
       "      <td>run1_adj</td>\n",
       "    </tr>\n",
       "  </tbody>\n",
       "</table>\n",
       "</div>"
      ],
      "text/plain": [
       "        TF         target  importance       run\n",
       "0    Eno1b  G630055G22Rik  872.974893  run1_adj\n",
       "1  Zc3h11a          Zbed6  816.344353  run1_adj\n",
       "2    Zbed6        Zc3h11a  815.475599  run1_adj\n",
       "3     Atf7        Gm28047  796.051670  run1_adj\n",
       "4  Gm28047           Atf7  777.347937  run1_adj"
      ]
     },
     "execution_count": 13,
     "metadata": {},
     "output_type": "execute_result"
    }
   ],
   "source": [
    "all_edges = pd.DataFrame()\n",
    "for adj_tsv in adj_tsvs:\n",
    "    adj_df = pd.read_csv(adj_tsv, sep=\"\\t\")\n",
    "    adj_df[\"run\"] = os.path.basename(adj_tsv).split(\".\")[0]\n",
    "    all_edges = pd.concat([all_edges, adj_df])\n",
    "all_edges.head()"
   ]
  },
  {
   "cell_type": "code",
   "execution_count": 14,
   "metadata": {},
   "outputs": [
    {
     "data": {
      "text/html": [
       "<div>\n",
       "<style scoped>\n",
       "    .dataframe tbody tr th:only-of-type {\n",
       "        vertical-align: middle;\n",
       "    }\n",
       "\n",
       "    .dataframe tbody tr th {\n",
       "        vertical-align: top;\n",
       "    }\n",
       "\n",
       "    .dataframe thead th {\n",
       "        text-align: right;\n",
       "    }\n",
       "</style>\n",
       "<table border=\"1\" class=\"dataframe\">\n",
       "  <thead>\n",
       "    <tr style=\"text-align: right;\">\n",
       "      <th></th>\n",
       "      <th>TF</th>\n",
       "      <th>target</th>\n",
       "      <th>importance</th>\n",
       "      <th>run</th>\n",
       "    </tr>\n",
       "  </thead>\n",
       "  <tbody>\n",
       "    <tr>\n",
       "      <th>0</th>\n",
       "      <td>Eno1b</td>\n",
       "      <td>G630055G22Rik</td>\n",
       "      <td>8.729749e+02</td>\n",
       "      <td>run1_adj</td>\n",
       "    </tr>\n",
       "    <tr>\n",
       "      <th>1</th>\n",
       "      <td>Zc3h11a</td>\n",
       "      <td>Zbed6</td>\n",
       "      <td>8.163444e+02</td>\n",
       "      <td>run1_adj</td>\n",
       "    </tr>\n",
       "    <tr>\n",
       "      <th>2</th>\n",
       "      <td>Zbed6</td>\n",
       "      <td>Zc3h11a</td>\n",
       "      <td>8.154756e+02</td>\n",
       "      <td>run1_adj</td>\n",
       "    </tr>\n",
       "    <tr>\n",
       "      <th>3</th>\n",
       "      <td>Atf7</td>\n",
       "      <td>Gm28047</td>\n",
       "      <td>7.960517e+02</td>\n",
       "      <td>run1_adj</td>\n",
       "    </tr>\n",
       "    <tr>\n",
       "      <th>4</th>\n",
       "      <td>Gm28047</td>\n",
       "      <td>Atf7</td>\n",
       "      <td>7.773479e+02</td>\n",
       "      <td>run1_adj</td>\n",
       "    </tr>\n",
       "    <tr>\n",
       "      <th>...</th>\n",
       "      <td>...</td>\n",
       "      <td>...</td>\n",
       "      <td>...</td>\n",
       "      <td>...</td>\n",
       "    </tr>\n",
       "    <tr>\n",
       "      <th>1451605</th>\n",
       "      <td>Ywhaz</td>\n",
       "      <td>Frmd4b</td>\n",
       "      <td>3.789460e-17</td>\n",
       "      <td>run5_adj</td>\n",
       "    </tr>\n",
       "    <tr>\n",
       "      <th>1451608</th>\n",
       "      <td>Trerf1</td>\n",
       "      <td>Pard3b</td>\n",
       "      <td>2.460765e-17</td>\n",
       "      <td>run5_adj</td>\n",
       "    </tr>\n",
       "    <tr>\n",
       "      <th>1451609</th>\n",
       "      <td>Etv6</td>\n",
       "      <td>Xist</td>\n",
       "      <td>2.163018e-17</td>\n",
       "      <td>run5_adj</td>\n",
       "    </tr>\n",
       "    <tr>\n",
       "      <th>1451610</th>\n",
       "      <td>Cnot4</td>\n",
       "      <td>Clint1</td>\n",
       "      <td>1.303673e-17</td>\n",
       "      <td>run5_adj</td>\n",
       "    </tr>\n",
       "    <tr>\n",
       "      <th>1451611</th>\n",
       "      <td>Mthfd1</td>\n",
       "      <td>6530403H02Rik</td>\n",
       "      <td>8.229233e-18</td>\n",
       "      <td>run5_adj</td>\n",
       "    </tr>\n",
       "  </tbody>\n",
       "</table>\n",
       "<p>6621009 rows × 4 columns</p>\n",
       "</div>"
      ],
      "text/plain": [
       "              TF         target    importance       run\n",
       "0          Eno1b  G630055G22Rik  8.729749e+02  run1_adj\n",
       "1        Zc3h11a          Zbed6  8.163444e+02  run1_adj\n",
       "2          Zbed6        Zc3h11a  8.154756e+02  run1_adj\n",
       "3           Atf7        Gm28047  7.960517e+02  run1_adj\n",
       "4        Gm28047           Atf7  7.773479e+02  run1_adj\n",
       "...          ...            ...           ...       ...\n",
       "1451605    Ywhaz         Frmd4b  3.789460e-17  run5_adj\n",
       "1451608   Trerf1         Pard3b  2.460765e-17  run5_adj\n",
       "1451609     Etv6           Xist  2.163018e-17  run5_adj\n",
       "1451610    Cnot4         Clint1  1.303673e-17  run5_adj\n",
       "1451611   Mthfd1  6530403H02Rik  8.229233e-18  run5_adj\n",
       "\n",
       "[6621009 rows x 4 columns]"
      ]
     },
     "execution_count": 14,
     "metadata": {},
     "output_type": "execute_result"
    }
   ],
   "source": [
    "# Group by source and target and filter edges that appear in only one run\n",
    "grouped = all_edges.groupby(['TF', 'target'])\n",
    "filtered = grouped.filter(lambda x: len(x) > 1)\n",
    "filtered"
   ]
  },
  {
   "cell_type": "code",
   "execution_count": 19,
   "metadata": {},
   "outputs": [
    {
     "name": "stdout",
     "output_type": "stream",
     "text": [
      "650068 edges dropped\n"
     ]
    }
   ],
   "source": [
    "print(f\"{len(all_edges) - len(filtered)} edges dropped\")"
   ]
  },
  {
   "cell_type": "code",
   "execution_count": 20,
   "metadata": {},
   "outputs": [],
   "source": [
    "# Calculate mean importance for each edge\n",
    "mean_importance = filtered.groupby(['TF', 'target'])['importance'].mean()"
   ]
  },
  {
   "cell_type": "code",
   "execution_count": 21,
   "metadata": {},
   "outputs": [
    {
     "data": {
      "text/plain": [
       "TF             target       \n",
       "2010315B03Rik  0610012G03Rik    0.223045\n",
       "               0610030E20Rik    0.266081\n",
       "               1110004F10Rik    0.036324\n",
       "               1110019D14Rik    0.159079\n",
       "               1500004A13Rik    0.316529\n",
       "                                  ...   \n",
       "Zzz3           mt-Atp6          0.109764\n",
       "               mt-Co1           0.053422\n",
       "               mt-Co2           0.063543\n",
       "               mt-Rnr1          0.098127\n",
       "               mt-Rnr2          0.076723\n",
       "Name: importance, Length: 1851654, dtype: float64"
      ]
     },
     "execution_count": 21,
     "metadata": {},
     "output_type": "execute_result"
    }
   ],
   "source": [
    "mean_importance"
   ]
  },
  {
   "cell_type": "code",
   "execution_count": 24,
   "metadata": {},
   "outputs": [],
   "source": [
    "from tqdm.auto import tqdm\n",
    "tqdm.pandas()"
   ]
  },
  {
   "cell_type": "code",
   "execution_count": 23,
   "metadata": {},
   "outputs": [],
   "source": [
    "def calc_p_value(importances):\n",
    "    _, p_value = ttest_1samp(importances, 0)\n",
    "    return p_value\n",
    "\n",
    "# Empirical p-value calculation\n",
    "p_values_series = filtered.groupby(['TF', 'target'])['importance'].progress_apply(calc_p_value)\n",
    "p_values = p_values_series.values"
   ]
  },
  {
   "cell_type": "code",
   "execution_count": 26,
   "metadata": {},
   "outputs": [
    {
     "data": {
      "text/plain": [
       "1851654"
      ]
     },
     "execution_count": 26,
     "metadata": {},
     "output_type": "execute_result"
    }
   ],
   "source": [
    "len(p_values)"
   ]
  },
  {
   "cell_type": "code",
   "execution_count": 27,
   "metadata": {},
   "outputs": [],
   "source": [
    "# Calculate -log10 for the p-values\n",
    "neg_log_p = -np.log10(p_values)"
   ]
  },
  {
   "cell_type": "code",
   "execution_count": 28,
   "metadata": {},
   "outputs": [],
   "source": [
    "# Normalize the importance score using Min-Max normalization\n",
    "normalized_importance = (mean_importance - mean_importance.min()) / (mean_importance.max() - mean_importance.min())"
   ]
  },
  {
   "cell_type": "code",
   "execution_count": 37,
   "metadata": {},
   "outputs": [],
   "source": [
    "# Create the consolidated dataframe\n",
    "consolidated = pd.DataFrame({\n",
    "    'source': mean_importance.index.get_level_values('TF'),\n",
    "    'target': mean_importance.index.get_level_values('target'),\n",
    "    'weight_signed': np.nan,\n",
    "    'weight_unsigned': mean_importance.values,\n",
    "    'weight_minmax_normalized': normalized_importance.values,\n",
    "    'p': p_values,\n",
    "    '-logp': neg_log_p,\n",
    "    'description': np.nan\n",
    "}).reset_index(drop=True)"
   ]
  },
  {
   "cell_type": "code",
   "execution_count": 40,
   "metadata": {},
   "outputs": [
    {
     "data": {
      "text/html": [
       "<div>\n",
       "<style scoped>\n",
       "    .dataframe tbody tr th:only-of-type {\n",
       "        vertical-align: middle;\n",
       "    }\n",
       "\n",
       "    .dataframe tbody tr th {\n",
       "        vertical-align: top;\n",
       "    }\n",
       "\n",
       "    .dataframe thead th {\n",
       "        text-align: right;\n",
       "    }\n",
       "</style>\n",
       "<table border=\"1\" class=\"dataframe\">\n",
       "  <thead>\n",
       "    <tr style=\"text-align: right;\">\n",
       "      <th></th>\n",
       "      <th>source</th>\n",
       "      <th>target</th>\n",
       "      <th>weight_signed</th>\n",
       "      <th>weight_unsigned</th>\n",
       "      <th>weight_minmax_normalized</th>\n",
       "      <th>p</th>\n",
       "      <th>-logp</th>\n",
       "      <th>description</th>\n",
       "    </tr>\n",
       "  </thead>\n",
       "  <tbody>\n",
       "    <tr>\n",
       "      <th>909278</th>\n",
       "      <td>Nnt</td>\n",
       "      <td>Nnt.1</td>\n",
       "      <td>NaN</td>\n",
       "      <td>8.984965e+02</td>\n",
       "      <td>1.000000e+00</td>\n",
       "      <td>2.827386e-03</td>\n",
       "      <td>2.548615</td>\n",
       "      <td>NaN</td>\n",
       "    </tr>\n",
       "    <tr>\n",
       "      <th>1525662</th>\n",
       "      <td>Zbed6</td>\n",
       "      <td>Zc3h11a</td>\n",
       "      <td>NaN</td>\n",
       "      <td>8.932668e+02</td>\n",
       "      <td>9.941794e-01</td>\n",
       "      <td>1.463887e-03</td>\n",
       "      <td>2.834493</td>\n",
       "      <td>NaN</td>\n",
       "    </tr>\n",
       "    <tr>\n",
       "      <th>1798186</th>\n",
       "      <td>Zfp969</td>\n",
       "      <td>Zfp968</td>\n",
       "      <td>NaN</td>\n",
       "      <td>8.785599e+02</td>\n",
       "      <td>9.778111e-01</td>\n",
       "      <td>8.300859e-04</td>\n",
       "      <td>3.080877</td>\n",
       "      <td>NaN</td>\n",
       "    </tr>\n",
       "    <tr>\n",
       "      <th>1794411</th>\n",
       "      <td>Zfp968</td>\n",
       "      <td>Zfp969</td>\n",
       "      <td>NaN</td>\n",
       "      <td>8.667597e+02</td>\n",
       "      <td>9.646778e-01</td>\n",
       "      <td>7.436492e-03</td>\n",
       "      <td>2.128632</td>\n",
       "      <td>NaN</td>\n",
       "    </tr>\n",
       "    <tr>\n",
       "      <th>313560</th>\n",
       "      <td>Eno1b</td>\n",
       "      <td>G630055G22Rik</td>\n",
       "      <td>NaN</td>\n",
       "      <td>8.287519e+02</td>\n",
       "      <td>9.223764e-01</td>\n",
       "      <td>6.773661e-07</td>\n",
       "      <td>6.169177</td>\n",
       "      <td>NaN</td>\n",
       "    </tr>\n",
       "    <tr>\n",
       "      <th>...</th>\n",
       "      <td>...</td>\n",
       "      <td>...</td>\n",
       "      <td>...</td>\n",
       "      <td>...</td>\n",
       "      <td>...</td>\n",
       "      <td>...</td>\n",
       "      <td>...</td>\n",
       "      <td>...</td>\n",
       "    </tr>\n",
       "    <tr>\n",
       "      <th>1256722</th>\n",
       "      <td>Smarca1</td>\n",
       "      <td>Ap1m1</td>\n",
       "      <td>NaN</td>\n",
       "      <td>4.197186e-09</td>\n",
       "      <td>4.671326e-12</td>\n",
       "      <td>4.999951e-01</td>\n",
       "      <td>0.301034</td>\n",
       "      <td>NaN</td>\n",
       "    </tr>\n",
       "    <tr>\n",
       "      <th>678671</th>\n",
       "      <td>Lcor</td>\n",
       "      <td>Ftl1-ps1</td>\n",
       "      <td>NaN</td>\n",
       "      <td>2.943033e-09</td>\n",
       "      <td>3.275491e-12</td>\n",
       "      <td>1.337898e-01</td>\n",
       "      <td>0.873577</td>\n",
       "      <td>NaN</td>\n",
       "    </tr>\n",
       "    <tr>\n",
       "      <th>13661</th>\n",
       "      <td>Adarb1</td>\n",
       "      <td>Pik3cg</td>\n",
       "      <td>NaN</td>\n",
       "      <td>1.526685e-09</td>\n",
       "      <td>1.699138e-12</td>\n",
       "      <td>4.999993e-01</td>\n",
       "      <td>0.301031</td>\n",
       "      <td>NaN</td>\n",
       "    </tr>\n",
       "    <tr>\n",
       "      <th>989196</th>\n",
       "      <td>Phf21a</td>\n",
       "      <td>Slc7a2</td>\n",
       "      <td>NaN</td>\n",
       "      <td>1.119726e-09</td>\n",
       "      <td>1.246204e-12</td>\n",
       "      <td>2.884945e-01</td>\n",
       "      <td>0.539862</td>\n",
       "      <td>NaN</td>\n",
       "    </tr>\n",
       "    <tr>\n",
       "      <th>222770</th>\n",
       "      <td>Creb1</td>\n",
       "      <td>Tmem119</td>\n",
       "      <td>NaN</td>\n",
       "      <td>1.578938e-14</td>\n",
       "      <td>0.000000e+00</td>\n",
       "      <td>2.611912e-01</td>\n",
       "      <td>0.583041</td>\n",
       "      <td>NaN</td>\n",
       "    </tr>\n",
       "  </tbody>\n",
       "</table>\n",
       "<p>1851654 rows × 8 columns</p>\n",
       "</div>"
      ],
      "text/plain": [
       "          source         target  weight_signed  weight_unsigned  \\\n",
       "909278       Nnt          Nnt.1            NaN     8.984965e+02   \n",
       "1525662    Zbed6        Zc3h11a            NaN     8.932668e+02   \n",
       "1798186   Zfp969         Zfp968            NaN     8.785599e+02   \n",
       "1794411   Zfp968         Zfp969            NaN     8.667597e+02   \n",
       "313560     Eno1b  G630055G22Rik            NaN     8.287519e+02   \n",
       "...          ...            ...            ...              ...   \n",
       "1256722  Smarca1          Ap1m1            NaN     4.197186e-09   \n",
       "678671      Lcor       Ftl1-ps1            NaN     2.943033e-09   \n",
       "13661     Adarb1         Pik3cg            NaN     1.526685e-09   \n",
       "989196    Phf21a         Slc7a2            NaN     1.119726e-09   \n",
       "222770     Creb1        Tmem119            NaN     1.578938e-14   \n",
       "\n",
       "         weight_minmax_normalized             p     -logp  description  \n",
       "909278               1.000000e+00  2.827386e-03  2.548615          NaN  \n",
       "1525662              9.941794e-01  1.463887e-03  2.834493          NaN  \n",
       "1798186              9.778111e-01  8.300859e-04  3.080877          NaN  \n",
       "1794411              9.646778e-01  7.436492e-03  2.128632          NaN  \n",
       "313560               9.223764e-01  6.773661e-07  6.169177          NaN  \n",
       "...                           ...           ...       ...          ...  \n",
       "1256722              4.671326e-12  4.999951e-01  0.301034          NaN  \n",
       "678671               3.275491e-12  1.337898e-01  0.873577          NaN  \n",
       "13661                1.699138e-12  4.999993e-01  0.301031          NaN  \n",
       "989196               1.246204e-12  2.884945e-01  0.539862          NaN  \n",
       "222770               0.000000e+00  2.611912e-01  0.583041          NaN  \n",
       "\n",
       "[1851654 rows x 8 columns]"
      ]
     },
     "execution_count": 40,
     "metadata": {},
     "output_type": "execute_result"
    }
   ],
   "source": [
    "consolidated.sort_values('weight_unsigned', ascending=False)"
   ]
  },
  {
   "cell_type": "code",
   "execution_count": 39,
   "metadata": {},
   "outputs": [
    {
     "ename": "KeyError",
     "evalue": "'weight'",
     "output_type": "error",
     "traceback": [
      "\u001b[0;31m---------------------------------------------------------------------------\u001b[0m",
      "\u001b[0;31mKeyError\u001b[0m                                  Traceback (most recent call last)",
      "\u001b[0;32m/tmp/ipykernel_917492/420863191.py\u001b[0m in \u001b[0;36m?\u001b[0;34m()\u001b[0m\n\u001b[0;32m----> 1\u001b[0;31m \u001b[0mconsolidated\u001b[0m\u001b[0;34m[\u001b[0m\u001b[0mconsolidated\u001b[0m\u001b[0;34m[\u001b[0m\u001b[0;34m\"source\"\u001b[0m\u001b[0;34m]\u001b[0m \u001b[0;34m==\u001b[0m \u001b[0;34m\"Spi1\"\u001b[0m\u001b[0;34m]\u001b[0m\u001b[0;34m.\u001b[0m\u001b[0msort_values\u001b[0m\u001b[0;34m(\u001b[0m\u001b[0;34m'weight'\u001b[0m\u001b[0;34m,\u001b[0m \u001b[0mascending\u001b[0m\u001b[0;34m=\u001b[0m\u001b[0;32mFalse\u001b[0m\u001b[0;34m)\u001b[0m\u001b[0;34m\u001b[0m\u001b[0;34m\u001b[0m\u001b[0m\n\u001b[0m",
      "\u001b[0;32m~/opt/miniconda3/envs/celloracle/lib/python3.8/site-packages/pandas/util/_decorators.py\u001b[0m in \u001b[0;36m?\u001b[0;34m(*args, **kwargs)\u001b[0m\n\u001b[1;32m    327\u001b[0m                     \u001b[0mmsg\u001b[0m\u001b[0;34m.\u001b[0m\u001b[0mformat\u001b[0m\u001b[0;34m(\u001b[0m\u001b[0marguments\u001b[0m\u001b[0;34m=\u001b[0m\u001b[0m_format_argument_list\u001b[0m\u001b[0;34m(\u001b[0m\u001b[0mallow_args\u001b[0m\u001b[0;34m)\u001b[0m\u001b[0;34m)\u001b[0m\u001b[0;34m,\u001b[0m\u001b[0;34m\u001b[0m\u001b[0;34m\u001b[0m\u001b[0m\n\u001b[1;32m    328\u001b[0m                     \u001b[0mFutureWarning\u001b[0m\u001b[0;34m,\u001b[0m\u001b[0;34m\u001b[0m\u001b[0;34m\u001b[0m\u001b[0m\n\u001b[1;32m    329\u001b[0m                     \u001b[0mstacklevel\u001b[0m\u001b[0;34m=\u001b[0m\u001b[0mfind_stack_level\u001b[0m\u001b[0;34m(\u001b[0m\u001b[0;34m)\u001b[0m\u001b[0;34m,\u001b[0m\u001b[0;34m\u001b[0m\u001b[0;34m\u001b[0m\u001b[0m\n\u001b[1;32m    330\u001b[0m                 )\n\u001b[0;32m--> 331\u001b[0;31m             \u001b[0;32mreturn\u001b[0m \u001b[0mfunc\u001b[0m\u001b[0;34m(\u001b[0m\u001b[0;34m*\u001b[0m\u001b[0margs\u001b[0m\u001b[0;34m,\u001b[0m \u001b[0;34m**\u001b[0m\u001b[0mkwargs\u001b[0m\u001b[0;34m)\u001b[0m\u001b[0;34m\u001b[0m\u001b[0;34m\u001b[0m\u001b[0m\n\u001b[0m",
      "\u001b[0;32m~/opt/miniconda3/envs/celloracle/lib/python3.8/site-packages/pandas/core/frame.py\u001b[0m in \u001b[0;36m?\u001b[0;34m(self, by, axis, ascending, inplace, kind, na_position, ignore_index, key)\u001b[0m\n\u001b[1;32m   6908\u001b[0m         \u001b[0;32melif\u001b[0m \u001b[0mlen\u001b[0m\u001b[0;34m(\u001b[0m\u001b[0mby\u001b[0m\u001b[0;34m)\u001b[0m\u001b[0;34m:\u001b[0m\u001b[0;34m\u001b[0m\u001b[0;34m\u001b[0m\u001b[0m\n\u001b[1;32m   6909\u001b[0m             \u001b[0;31m# len(by) == 1\u001b[0m\u001b[0;34m\u001b[0m\u001b[0;34m\u001b[0m\u001b[0;34m\u001b[0m\u001b[0m\n\u001b[1;32m   6910\u001b[0m \u001b[0;34m\u001b[0m\u001b[0m\n\u001b[1;32m   6911\u001b[0m             \u001b[0mby\u001b[0m \u001b[0;34m=\u001b[0m \u001b[0mby\u001b[0m\u001b[0;34m[\u001b[0m\u001b[0;36m0\u001b[0m\u001b[0;34m]\u001b[0m\u001b[0;34m\u001b[0m\u001b[0;34m\u001b[0m\u001b[0m\n\u001b[0;32m-> 6912\u001b[0;31m             \u001b[0mk\u001b[0m \u001b[0;34m=\u001b[0m \u001b[0mself\u001b[0m\u001b[0;34m.\u001b[0m\u001b[0m_get_label_or_level_values\u001b[0m\u001b[0;34m(\u001b[0m\u001b[0mby\u001b[0m\u001b[0;34m,\u001b[0m \u001b[0maxis\u001b[0m\u001b[0;34m=\u001b[0m\u001b[0maxis\u001b[0m\u001b[0;34m)\u001b[0m\u001b[0;34m\u001b[0m\u001b[0;34m\u001b[0m\u001b[0m\n\u001b[0m\u001b[1;32m   6913\u001b[0m \u001b[0;34m\u001b[0m\u001b[0m\n\u001b[1;32m   6914\u001b[0m             \u001b[0;31m# need to rewrap column in Series to apply key function\u001b[0m\u001b[0;34m\u001b[0m\u001b[0;34m\u001b[0m\u001b[0;34m\u001b[0m\u001b[0m\n\u001b[1;32m   6915\u001b[0m             \u001b[0;32mif\u001b[0m \u001b[0mkey\u001b[0m \u001b[0;32mis\u001b[0m \u001b[0;32mnot\u001b[0m \u001b[0;32mNone\u001b[0m\u001b[0;34m:\u001b[0m\u001b[0;34m\u001b[0m\u001b[0;34m\u001b[0m\u001b[0m\n",
      "\u001b[0;32m~/opt/miniconda3/envs/celloracle/lib/python3.8/site-packages/pandas/core/generic.py\u001b[0m in \u001b[0;36m?\u001b[0;34m(self, key, axis)\u001b[0m\n\u001b[1;32m   1846\u001b[0m                 \u001b[0;34m.\u001b[0m\u001b[0mget_level_values\u001b[0m\u001b[0;34m(\u001b[0m\u001b[0mkey\u001b[0m\u001b[0;34m)\u001b[0m  \u001b[0;31m# type: ignore[assignment]\u001b[0m\u001b[0;34m\u001b[0m\u001b[0;34m\u001b[0m\u001b[0m\n\u001b[1;32m   1847\u001b[0m                 \u001b[0;34m.\u001b[0m\u001b[0m_values\u001b[0m\u001b[0;34m\u001b[0m\u001b[0;34m\u001b[0m\u001b[0m\n\u001b[1;32m   1848\u001b[0m             )\n\u001b[1;32m   1849\u001b[0m         \u001b[0;32melse\u001b[0m\u001b[0;34m:\u001b[0m\u001b[0;34m\u001b[0m\u001b[0;34m\u001b[0m\u001b[0m\n\u001b[0;32m-> 1850\u001b[0;31m             \u001b[0;32mraise\u001b[0m \u001b[0mKeyError\u001b[0m\u001b[0;34m(\u001b[0m\u001b[0mkey\u001b[0m\u001b[0;34m)\u001b[0m\u001b[0;34m\u001b[0m\u001b[0;34m\u001b[0m\u001b[0m\n\u001b[0m\u001b[1;32m   1851\u001b[0m \u001b[0;34m\u001b[0m\u001b[0m\n\u001b[1;32m   1852\u001b[0m         \u001b[0;31m# Check for duplicates\u001b[0m\u001b[0;34m\u001b[0m\u001b[0;34m\u001b[0m\u001b[0;34m\u001b[0m\u001b[0m\n\u001b[1;32m   1853\u001b[0m         \u001b[0;32mif\u001b[0m \u001b[0mvalues\u001b[0m\u001b[0;34m.\u001b[0m\u001b[0mndim\u001b[0m \u001b[0;34m>\u001b[0m \u001b[0;36m1\u001b[0m\u001b[0;34m:\u001b[0m\u001b[0;34m\u001b[0m\u001b[0;34m\u001b[0m\u001b[0m\n",
      "\u001b[0;31mKeyError\u001b[0m: 'weight'"
     ]
    }
   ],
   "source": [
    "consolidated[consolidated[\"source\"] == \"Spi1\"].sort_values('weight', ascending=False)"
   ]
  },
  {
   "cell_type": "code",
   "execution_count": null,
   "metadata": {},
   "outputs": [],
   "source": []
  }
 ],
 "metadata": {
  "kernelspec": {
   "display_name": "Python 3.8 celloracle",
   "language": "python",
   "name": "celloracle"
  },
  "language_info": {
   "codemirror_mode": {
    "name": "ipython",
    "version": 3
   },
   "file_extension": ".py",
   "mimetype": "text/x-python",
   "name": "python",
   "nbconvert_exporter": "python",
   "pygments_lexer": "ipython3",
   "version": "3.8.17"
  },
  "orig_nbformat": 4
 },
 "nbformat": 4,
 "nbformat_minor": 2
}
