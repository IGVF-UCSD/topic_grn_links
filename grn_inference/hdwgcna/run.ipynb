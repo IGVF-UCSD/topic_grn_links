{
 "cells": [
  {
   "cell_type": "markdown",
   "id": "316d981a-2f6f-4149-a3a5-10feaa4fbabe",
   "metadata": {},
   "source": [
    "# hdWGCNA: Pipeline"
   ]
  },
  {
   "cell_type": "markdown",
   "id": "41aee7fd-9f0b-44a2-b5a0-b11c72540ec1",
   "metadata": {},
   "source": [
    "## Examples"
   ]
  },
  {
   "cell_type": "markdown",
   "id": "f61ca9c3-23da-4b4f-8286-2971fd82c2dd",
   "metadata": {},
   "source": [
    "### ENCODE 4 mouse adrenal tissue"
   ]
  },
  {
   "cell_type": "code",
   "execution_count": 1,
   "id": "1ec6272d-6ed3-43fb-b09a-968441da7d27",
   "metadata": {
    "execution": {
     "iopub.execute_input": "2023-01-14T16:00:41.684053Z",
     "iopub.status.busy": "2023-01-14T16:00:41.683566Z",
     "iopub.status.idle": "2023-01-14T16:00:43.054589Z",
     "shell.execute_reply": "2023-01-14T16:00:43.053683Z",
     "shell.execute_reply.started": "2023-01-14T16:00:41.683971Z"
    },
    "tags": []
   },
   "outputs": [
    {
     "name": "stdout",
     "output_type": "stream",
     "text": [
      "Submitted batch job 214886\n"
     ]
    }
   ],
   "source": [
    "%%bash\n",
    "rds_obj=\"/cellar/users/aklie/data/igvf/topic_grn_links/mouse_adrenal/preprocess/snrna/normalized.rds\"\n",
    "name=\"normalized_adrenal\"\n",
    "out_dir=\"/cellar/users/aklie/projects/igvf/topic_grn_links/grn_inference/hdwgcna/results/mouse_adrenal\"\n",
    "cd scripts\n",
    "sbatch --job-name=hdWGCNA_adrenal --cpus-per-task=4 --mem=128G hdWGCNA.sh $rds_obj $name $out_dir"
   ]
  },
  {
   "cell_type": "markdown",
   "id": "03784a63-2e86-4152-93e3-1c4ee2cd18a5",
   "metadata": {},
   "source": [
    "### ENCODE 4 mouse heart tissue"
   ]
  },
  {
   "cell_type": "code",
   "execution_count": 2,
   "id": "815a6d5e-2c1f-4fd7-ac3d-3e5116f16a8f",
   "metadata": {
    "execution": {
     "iopub.execute_input": "2023-01-14T16:01:09.128849Z",
     "iopub.status.busy": "2023-01-14T16:01:09.128387Z",
     "iopub.status.idle": "2023-01-14T16:01:10.703161Z",
     "shell.execute_reply": "2023-01-14T16:01:10.702044Z",
     "shell.execute_reply.started": "2023-01-14T16:01:09.128817Z"
    },
    "tags": []
   },
   "outputs": [
    {
     "name": "stdout",
     "output_type": "stream",
     "text": [
      "Submitted batch job 214887\n"
     ]
    }
   ],
   "source": [
    "%%bash\n",
    "rds_obj=\"/cellar/users/aklie/data/igvf/topic_grn_links/mouse_heart/preprocess/snrna/normalized.rds\"\n",
    "name=\"normalized_heart\"\n",
    "out_dir=\"/cellar/users/aklie/projects/igvf/topic_grn_links/grn_inference/hdwgcna/results/mouse_heart\"\n",
    "cd scripts\n",
    "sbatch --job-name=hdWGCNA_heart --cpus-per-task=4 --mem=128G hdWGCNA.sh $rds_obj $name $out_dir"
   ]
  },
  {
   "cell_type": "markdown",
   "id": "3765cda2-791c-4f8a-8b3e-de4778e2a5e9",
   "metadata": {},
   "source": [
    "### Endothelial cell perturb-seq"
   ]
  },
  {
   "cell_type": "code",
   "execution_count": 2,
   "id": "8e50819f-797f-4304-bcbb-7f7d145be373",
   "metadata": {
    "execution": {
     "iopub.execute_input": "2023-01-16T22:36:43.267480Z",
     "iopub.status.busy": "2023-01-16T22:36:43.267065Z",
     "iopub.status.idle": "2023-01-16T22:36:44.014197Z",
     "shell.execute_reply": "2023-01-16T22:36:44.012935Z",
     "shell.execute_reply.started": "2023-01-16T22:36:43.267446Z"
    },
    "tags": []
   },
   "outputs": [
    {
     "name": "stdout",
     "output_type": "stream",
     "text": [
      "Submitted batch job 215147\n"
     ]
    }
   ],
   "source": [
    "%%bash\n",
    "rds_obj=\"/cellar/users/aklie/data/igvf/topic_grn_links/endothelial_perturb_seq/preprocess/normalized.rds\"\n",
    "name=\"normalized_endothelial\"\n",
    "out_dir=\"/cellar/users/aklie/projects/igvf/topic_grn_links/grn_inference/hdwgcna/results/endothelial_perturb_seq\"\n",
    "cd scripts\n",
    "sbatch --job-name=hdWGCNA_endothelial --cpus-per-task=4 --mem=128G hdWGCNA.sh $rds_obj $name $out_dir"
   ]
  },
  {
   "cell_type": "markdown",
   "id": "1d80b8e9-ad2f-4753-846e-3b4e03de9c23",
   "metadata": {
    "tags": []
   },
   "source": [
    "# hdWGCNA: Step-by-step"
   ]
  },
  {
   "cell_type": "code",
   "execution_count": 1,
   "id": "b0bf2b35-e775-4e02-808f-67eb353d06f6",
   "metadata": {
    "execution": {
     "iopub.execute_input": "2023-01-13T21:21:21.836272Z",
     "iopub.status.busy": "2023-01-13T21:21:21.832715Z",
     "iopub.status.idle": "2023-01-13T21:22:03.249565Z",
     "shell.execute_reply": "2023-01-13T21:22:03.247824Z"
    },
    "tags": []
   },
   "outputs": [
    {
     "name": "stderr",
     "output_type": "stream",
     "text": [
      "Registered S3 method overwritten by 'SeuratDisk':\n",
      "  method            from  \n",
      "  as.sparse.H5Group Seurat\n",
      "\n",
      "Attaching SeuratObject\n",
      "\n",
      "Attaching sp\n",
      "\n",
      "── \u001b[1mAttaching packages\u001b[22m ─────────────────────────────────────── tidyverse 1.3.1 ──\n",
      "\n",
      "\u001b[32m✔\u001b[39m \u001b[34mggplot2\u001b[39m 3.3.6     \u001b[32m✔\u001b[39m \u001b[34mpurrr  \u001b[39m 0.3.4\n",
      "\u001b[32m✔\u001b[39m \u001b[34mtibble \u001b[39m 3.1.7     \u001b[32m✔\u001b[39m \u001b[34mdplyr  \u001b[39m 1.0.9\n",
      "\u001b[32m✔\u001b[39m \u001b[34mtidyr  \u001b[39m 1.2.0     \u001b[32m✔\u001b[39m \u001b[34mstringr\u001b[39m 1.4.0\n",
      "\u001b[32m✔\u001b[39m \u001b[34mreadr  \u001b[39m 2.1.2     \u001b[32m✔\u001b[39m \u001b[34mforcats\u001b[39m 0.5.1\n",
      "\n",
      "── \u001b[1mConflicts\u001b[22m ────────────────────────────────────────── tidyverse_conflicts() ──\n",
      "\u001b[31m✖\u001b[39m \u001b[34mdplyr\u001b[39m::\u001b[32mfilter()\u001b[39m masks \u001b[34mstats\u001b[39m::filter()\n",
      "\u001b[31m✖\u001b[39m \u001b[34mdplyr\u001b[39m::\u001b[32mlag()\u001b[39m    masks \u001b[34mstats\u001b[39m::lag()\n",
      "\u001b[31m✖\u001b[39m \u001b[34mpurrr\u001b[39m::\u001b[32mreduce()\u001b[39m masks \u001b[34mSignac\u001b[39m::reduce()\n",
      "\n",
      "\n",
      "Attaching package: ‘patchwork’\n",
      "\n",
      "\n",
      "The following object is masked from ‘package:cowplot’:\n",
      "\n",
      "    align_plots\n",
      "\n",
      "\n",
      "Loading required package: dynamicTreeCut\n",
      "\n",
      "Loading required package: fastcluster\n",
      "\n",
      "\n",
      "Attaching package: ‘fastcluster’\n",
      "\n",
      "\n",
      "The following object is masked from ‘package:stats’:\n",
      "\n",
      "    hclust\n",
      "\n",
      "\n",
      "\n",
      "\n",
      "\n",
      "Attaching package: ‘WGCNA’\n",
      "\n",
      "\n",
      "The following object is masked from ‘package:stats’:\n",
      "\n",
      "    cor\n",
      "\n",
      "\n"
     ]
    }
   ],
   "source": [
    "# Conversion libraries and Seurat\n",
    "library(SeuratDisk)\n",
    "library(SeuratData)\n",
    "library(Seurat)\n",
    "library(Signac)\n",
    "\n",
    "# plotting and data science packages\n",
    "library(tidyverse)\n",
    "library(cowplot)\n",
    "library(patchwork)\n",
    "\n",
    "# co-expression network analysis packages:\n",
    "library(WGCNA)\n",
    "library(hdWGCNA)\n",
    "\n",
    "# using the cowplot theme for ggplot\n",
    "theme_set(theme_cowplot())\n",
    "\n",
    "# set random seed for reproducibility\n",
    "set.seed(12345)"
   ]
  },
  {
   "cell_type": "code",
   "execution_count": 4,
   "id": "ac4a592e-2c9d-41a5-96ae-71d462bf305a",
   "metadata": {
    "execution": {
     "iopub.execute_input": "2023-01-13T21:22:05.910198Z",
     "iopub.status.busy": "2023-01-13T21:22:05.908784Z",
     "iopub.status.idle": "2023-01-13T21:22:05.929101Z",
     "shell.execute_reply": "2023-01-13T21:22:05.927482Z"
    },
    "tags": []
   },
   "outputs": [],
   "source": [
    "# Parameters\n",
    "NN <- 25\n",
    "GENES <- \"all\"\n",
    "TARGET_CELLS = 1000"
   ]
  },
  {
   "cell_type": "code",
   "execution_count": 2,
   "id": "a71a8e4b-db40-4515-a25f-302276d6d6c2",
   "metadata": {
    "execution": {
     "iopub.execute_input": "2023-01-13T21:22:03.284276Z",
     "iopub.status.busy": "2023-01-13T21:22:03.252046Z",
     "iopub.status.idle": "2023-01-13T21:22:03.300591Z",
     "shell.execute_reply": "2023-01-13T21:22:03.298822Z"
    },
    "tags": []
   },
   "outputs": [],
   "source": [
    "# Files and directories\n",
    "RDS_OBJ = \"/cellar/users/aklie/data/igvf/topic_grn_links/endothelial_perturb_seq/preprocess/subset/normalized.rds\"\n",
    "NAME = \"normalized_subset\"\n",
    "OUT = \"/cellar/users/aklie/projects/igvf/topic_grn_links/grn_inference/mouse_adrenal/hdwgcna/result/\""
   ]
  },
  {
   "cell_type": "code",
   "execution_count": 3,
   "id": "7c4b4945-86bd-4e72-bdb2-7ba6571860d5",
   "metadata": {
    "execution": {
     "iopub.execute_input": "2023-01-13T21:22:03.304676Z",
     "iopub.status.busy": "2023-01-13T21:22:03.303175Z",
     "iopub.status.idle": "2023-01-13T21:22:05.906323Z",
     "shell.execute_reply": "2023-01-13T21:22:05.904436Z"
    },
    "tags": []
   },
   "outputs": [],
   "source": [
    "# Read in the R object\n",
    "seurat_obj <- readRDS(RDS_OBJ)\n",
    "seurat_obj"
   ]
  },
  {
   "cell_type": "code",
   "execution_count": 6,
   "id": "48e7c5f3-ef03-44ea-a550-1b3bee9454c9",
   "metadata": {
    "execution": {
     "iopub.execute_input": "2023-01-13T21:22:06.003616Z",
     "iopub.status.busy": "2023-01-13T21:22:06.002084Z",
     "iopub.status.idle": "2023-01-13T21:22:06.940894Z",
     "shell.execute_reply": "2023-01-13T21:22:06.939233Z"
    },
    "tags": []
   },
   "outputs": [
    {
     "data": {
      "image/png": "[encoded data removed]",
      "text/plain": [
       "plot without title"
      ]
     },
     "metadata": {
      "image/png": {
       "height": 420,
       "width": 420
      }
     },
     "output_type": "display_data"
    }
   ],
   "source": [
    "# Plot UMAP\n",
    "p1 <- DimPlot(seurat_obj, group.by='celltypes', reduction=\"umap\", label=TRUE) +\n",
    "   umap_theme() + ggtitle('Subsampled data') + NoLegend()\n",
    "p1"
   ]
  },
  {
   "cell_type": "code",
   "execution_count": 7,
   "id": "a0ac19cb-2b9c-4309-af7e-f2392bb62bb4",
   "metadata": {
    "execution": {
     "iopub.execute_input": "2023-01-13T21:22:59.002962Z",
     "iopub.status.busy": "2023-01-13T21:22:59.001366Z",
     "iopub.status.idle": "2023-01-13T21:22:59.018568Z",
     "shell.execute_reply": "2023-01-13T21:22:59.017011Z"
    },
    "tags": []
   },
   "outputs": [],
   "source": [
    "# Check colnames available\n",
    "DefaultAssay(seurat_obj) <- \"RNA\"\n",
    "colnames(seurat_obj[[]])"
   ]
  },
  {
   "cell_type": "code",
   "execution_count": 9,
   "id": "1653110d-0911-4020-8636-a5da84e969bb",
   "metadata": {
    "execution": {
     "iopub.execute_input": "2023-01-13T21:23:01.784556Z",
     "iopub.status.busy": "2023-01-13T21:23:01.783026Z",
     "iopub.status.idle": "2023-01-13T21:23:03.589813Z",
     "shell.execute_reply": "2023-01-13T21:23:03.587923Z"
    },
    "tags": []
   },
   "outputs": [],
   "source": [
    "# Set-up a Seurat object for WGCNA\n",
    "seurat_obj <- SetupForWGCNA(\n",
    "    seurat_obj,\n",
    "    gene_select = \"fraction\", # the gene selection approach\n",
    "    fraction = 0.05, # fraction of cells that a gene needs to be expressed in order to be included\n",
    "    wgcna_name = NAME # the name of the hdWGCNA experiment\n",
    ")"
   ]
  },
  {
   "cell_type": "code",
   "execution_count": 10,
   "id": "cb133bfa-5d86-4f51-a3f9-f01e7e20e94a",
   "metadata": {
    "execution": {
     "iopub.execute_input": "2023-01-13T21:23:05.391298Z",
     "iopub.status.busy": "2023-01-13T21:23:05.389859Z",
     "iopub.status.idle": "2023-01-13T21:23:07.764996Z",
     "shell.execute_reply": "2023-01-13T21:23:07.763415Z"
    },
    "tags": []
   },
   "outputs": [
    {
     "name": "stdout",
     "output_type": "stream",
     "text": [
      "[1] \"done making metacells\"\n",
      "[1] 1\n",
      "[1] \"metacell shape\"\n"
     ]
    }
   ],
   "source": [
    "# Construct metacells n each group\n",
    "seurat_obj <- MetacellsByGroups(\n",
    "  seurat_obj=seurat_obj,\n",
    "  group.by=c(\"celltypes\"), # specify the columns in adata@meta.data to group by\n",
    "  k=NN, # nearest-neighbors parameter\n",
    "  max_shared=10, # maximum number of shared cells between two metacells\n",
    "  ident.group='celltypes', # set the Idents of the metacell seurat object\n",
    "  assay=\"RNA\",\n",
    "  slot=\"counts\",\n",
    "  target_metacells=TARGET_CELLS,\n",
    ")"
   ]
  },
  {
   "cell_type": "code",
   "execution_count": 11,
   "id": "9bcdc834-8425-4717-b2a9-b6e60ab37b08",
   "metadata": {
    "execution": {
     "iopub.execute_input": "2023-01-13T21:23:10.392104Z",
     "iopub.status.busy": "2023-01-13T21:23:10.390619Z",
     "iopub.status.idle": "2023-01-13T21:23:11.400520Z",
     "shell.execute_reply": "2023-01-13T21:23:11.398650Z"
    },
    "tags": []
   },
   "outputs": [],
   "source": [
    "# transpose the matrix, taking care of the\n",
    "seurat_obj <- SetDatExpr(\n",
    "    seurat_obj, \n",
    "    assay=\"RNA\", \n",
    "    use_metacells=TRUE, \n",
    "    wgcna_name=NAME, \n",
    "    slot=\"data\"\n",
    ")"
   ]
  },
  {
   "cell_type": "code",
   "execution_count": 12,
   "id": "5a1d67cb-499a-4634-9efb-11195be5f549",
   "metadata": {
    "execution": {
     "iopub.execute_input": "2023-01-13T21:23:12.522889Z",
     "iopub.status.busy": "2023-01-13T21:23:12.521449Z",
     "iopub.status.idle": "2023-01-13T21:24:03.989746Z",
     "shell.execute_reply": "2023-01-13T21:24:03.988050Z"
    },
    "tags": []
   },
   "outputs": [
    {
     "name": "stdout",
     "output_type": "stream",
     "text": [
      "pickSoftThreshold: will use block size 4649.\n",
      " pickSoftThreshold: calculating connectivity for given powers...\n",
      "   ..working on genes 1 through 4649 of 9622\n"
     ]
    },
    {
     "name": "stderr",
     "output_type": "stream",
     "text": [
      "Warning message:\n",
      "“executing %dopar% sequentially: no parallel backend registered”\n",
      "Warning message in (function (x, y = NULL, robustX = TRUE, robustY = TRUE, use = \"all.obs\", :\n",
      "“bicor: zero MAD in variable 'x'. Pearson correlation was used for individual columns with zero (or missing) MAD.”\n",
      "Warning message in (function (x, y = NULL, robustX = TRUE, robustY = TRUE, use = \"all.obs\", :\n",
      "“bicor: zero MAD in variable 'y'. Pearson correlation was used for individual columns with zero (or missing) MAD.”\n"
     ]
    },
    {
     "name": "stdout",
     "output_type": "stream",
     "text": [
      "   ..working on genes 4650 through 9298 of 9622\n"
     ]
    },
    {
     "name": "stderr",
     "output_type": "stream",
     "text": [
      "Warning message in (function (x, y = NULL, robustX = TRUE, robustY = TRUE, use = \"all.obs\", :\n",
      "“bicor: zero MAD in variable 'x'. Pearson correlation was used for individual columns with zero (or missing) MAD.”\n",
      "Warning message in (function (x, y = NULL, robustX = TRUE, robustY = TRUE, use = \"all.obs\", :\n",
      "“bicor: zero MAD in variable 'y'. Pearson correlation was used for individual columns with zero (or missing) MAD.”\n"
     ]
    },
    {
     "name": "stdout",
     "output_type": "stream",
     "text": [
      "   ..working on genes 9299 through 9622 of 9622\n"
     ]
    },
    {
     "name": "stderr",
     "output_type": "stream",
     "text": [
      "Warning message in (function (x, y = NULL, robustX = TRUE, robustY = TRUE, use = \"all.obs\", :\n",
      "“bicor: zero MAD in variable 'x'. Pearson correlation was used for individual columns with zero (or missing) MAD.”\n"
     ]
    },
    {
     "name": "stdout",
     "output_type": "stream",
     "text": [
      "   Power SFT.R.sq  slope truncated.R.sq mean.k. median.k. max.k.\n",
      "1      1   0.6990  8.720          0.981 6080.00  6130.000   7190\n",
      "2      2   0.4820  2.920          0.969 3930.00  3960.000   5490\n",
      "3      3   0.2020  1.100          0.955 2590.00  2590.000   4270\n",
      "4      4   0.0046  0.118          0.941 1740.00  1710.000   3380\n",
      "5      5   0.0956 -0.478          0.941 1200.00  1140.000   2710\n",
      "6      6   0.3330 -0.889          0.953  834.00   771.000   2200\n",
      "7      7   0.5160 -1.150          0.966  592.00   525.000   1810\n",
      "8      8   0.6280 -1.350          0.965  426.00   360.000   1500\n",
      "9      9   0.7110 -1.480          0.973  312.00   248.000   1260\n",
      "10    10   0.7620 -1.590          0.974  231.00   173.000   1060\n",
      "11    12   0.8170 -1.710          0.974  132.00    85.200    775\n",
      "12    14   0.8510 -1.740          0.976   78.90    43.100    580\n",
      "13    16   0.8750 -1.740          0.982   49.10    22.200    443\n",
      "14    18   0.8770 -1.730          0.976   31.70    11.600    345\n",
      "15    20   0.8960 -1.680          0.982   21.10     6.180    273\n",
      "16    22   0.9030 -1.660          0.978   14.50     3.350    219\n",
      "17    24   0.9160 -1.620          0.981   10.20     1.840    177\n",
      "18    26   0.9330 -1.560          0.985    7.34     1.020    146\n",
      "19    28   0.9480 -1.520          0.991    5.40     0.569    121\n",
      "20    30   0.9620 -1.470          0.993    4.05     0.322    101\n"
     ]
    }
   ],
   "source": [
    "# Test different soft powers:\n",
    "seurat_obj <- TestSoftPowers(\n",
    "  seurat_obj,\n",
    "  use_metacells=TRUE,  # this is the default, I'm just being explicit\n",
    "  setDatExpr=FALSE  # set this to FALSE since we did this above\n",
    ")"
   ]
  },
  {
   "cell_type": "code",
   "execution_count": 13,
   "id": "6a07c276-59d2-4ff5-9361-dd939931c0ef",
   "metadata": {
    "execution": {
     "iopub.execute_input": "2023-01-13T21:24:03.993567Z",
     "iopub.status.busy": "2023-01-13T21:24:03.992166Z",
     "iopub.status.idle": "2023-01-13T21:24:04.010546Z",
     "shell.execute_reply": "2023-01-13T21:24:04.009076Z"
    },
    "tags": []
   },
   "outputs": [],
   "source": [
    "# get the power table, can also access with head(get(NAME, seurat_obj@misc)$wgcna_powerTable)\n",
    "power_table <- GetPowerTable(seurat_obj)\n",
    "power <- power_table$Power[which(power_table$SFT.R.sq > 0.85)[1]]"
   ]
  },
  {
   "cell_type": "code",
   "execution_count": 15,
   "id": "d6d64833-b040-4c69-83cd-524854d51ff4",
   "metadata": {
    "execution": {
     "iopub.execute_input": "2023-01-13T21:24:15.710352Z",
     "iopub.status.busy": "2023-01-13T21:24:15.708985Z",
     "iopub.status.idle": "2023-01-13T21:26:03.713654Z",
     "shell.execute_reply": "2023-01-13T21:26:03.709563Z"
    },
    "tags": []
   },
   "outputs": [
    {
     "name": "stdout",
     "output_type": "stream",
     "text": [
      " Calculating consensus modules and module eigengenes block-wise from all genes\n",
      " Calculating topological overlaps block-wise from all genes\n",
      "   Flagging genes and samples with too many missing values...\n",
      "    ..step 1\n",
      "    TOM calculation: adjacency..\n",
      "    ..will not use multithreading.\n",
      "     Fraction of slow calculations: 0.000000\n",
      "    ..connectivity..\n",
      "    ..matrix multiplication (system BLAS)..\n",
      "    ..normalization..\n",
      "    ..done.\n",
      " ..Working on block 1 .\n",
      " ..Working on block 1 .\n",
      " ..merging consensus modules that are too close..\n"
     ]
    }
   ],
   "source": [
    "# construct co-expression network:\n",
    "seurat_obj <- ConstructNetwork(\n",
    "  seurat_obj, \n",
    "  soft_power=power,\n",
    "  use_metacells=TRUE,\n",
    "  setDatExpr=FALSE,\n",
    "  tom_out_dir=OUT,\n",
    "  tom_name=NAME # name of the topoligical overlap matrix written to disk\n",
    ")"
   ]
  },
  {
   "cell_type": "code",
   "execution_count": 18,
   "id": "ab3fd6f1-f8b9-4f82-9dc0-7d4f1f80edad",
   "metadata": {
    "execution": {
     "iopub.execute_input": "2023-01-13T21:26:59.757240Z",
     "iopub.status.busy": "2023-01-13T21:26:59.755587Z",
     "iopub.status.idle": "2023-01-13T21:27:03.349901Z",
     "shell.execute_reply": "2023-01-13T21:27:03.345790Z"
    },
    "tags": []
   },
   "outputs": [
    {
     "name": "stdout",
     "output_type": "stream",
     "text": [
      "[1] \"grey\"\n"
     ]
    },
    {
     "name": "stderr",
     "output_type": "stream",
     "text": [
      "Centering and scaling data matrix\n",
      "\n",
      "Warning message:\n",
      "“Keys should be one or more alphanumeric characters followed by an underscore, setting key from pcagrey to pcagrey_”\n",
      "Warning message:\n",
      "“All keys should be one or more alphanumeric characters followed by an underscore '_', setting key to pcagrey_”\n"
     ]
    },
    {
     "name": "stdout",
     "output_type": "stream",
     "text": [
      "[1] \"turquoise\"\n"
     ]
    },
    {
     "name": "stderr",
     "output_type": "stream",
     "text": [
      "Centering and scaling data matrix\n",
      "\n",
      "Warning message:\n",
      "“Keys should be one or more alphanumeric characters followed by an underscore, setting key from pcaturquoise to pcaturquoise_”\n",
      "Warning message:\n",
      "“All keys should be one or more alphanumeric characters followed by an underscore '_', setting key to pcaturquoise_”\n"
     ]
    },
    {
     "name": "stdout",
     "output_type": "stream",
     "text": [
      "[1] \"blue\"\n"
     ]
    },
    {
     "name": "stderr",
     "output_type": "stream",
     "text": [
      "Centering and scaling data matrix\n",
      "\n",
      "Warning message:\n",
      "“Keys should be one or more alphanumeric characters followed by an underscore, setting key from pcablue to pcablue_”\n",
      "Warning message:\n",
      "“All keys should be one or more alphanumeric characters followed by an underscore '_', setting key to pcablue_”\n"
     ]
    },
    {
     "name": "stdout",
     "output_type": "stream",
     "text": [
      "[1] \"brown\"\n"
     ]
    },
    {
     "name": "stderr",
     "output_type": "stream",
     "text": [
      "Centering and scaling data matrix\n",
      "\n",
      "Warning message in irlba(A = t(x = object), nv = npcs, ...):\n",
      "“You're computing too large a percentage of total singular values, use a standard svd instead.”\n",
      "Warning message:\n",
      "“Keys should be one or more alphanumeric characters followed by an underscore, setting key from pcabrown to pcabrown_”\n",
      "Warning message:\n",
      "“All keys should be one or more alphanumeric characters followed by an underscore '_', setting key to pcabrown_”\n"
     ]
    }
   ],
   "source": [
    "# compute all MEs in the full single-cell dataset\n",
    "seurat_obj <- ModuleEigengenes(seurat_obj, assay=\"RNA\", verbose=FALSE)"
   ]
  },
  {
   "cell_type": "code",
   "execution_count": 55,
   "id": "dc688c62-83d7-4d4a-827f-9bac258c6d05",
   "metadata": {
    "execution": {
     "iopub.execute_input": "2023-01-02T17:19:41.428471Z",
     "iopub.status.busy": "2023-01-02T17:19:41.426721Z",
     "iopub.status.idle": "2023-01-02T17:20:24.360109Z",
     "shell.execute_reply": "2023-01-02T17:20:24.355015Z"
    }
   },
   "outputs": [
    {
     "name": "stderr",
     "output_type": "stream",
     "text": [
      "Warning message in bicor(datExpr, datME, , use = \"p\"):\n",
      "“bicor: zero MAD in variable 'x'. Pearson correlation was used for individual columns with zero (or missing) MAD.”\n"
     ]
    }
   ],
   "source": [
    "# compute eigengene-based connectivity (kME):\n",
    "seurat_obj <- ModuleConnectivity(\n",
    "    seurat_obj,\n",
    "    assay=ASSAY,\n",
    "    slot=\"data\",\n",
    "    harmonized=FALSE\n",
    ")"
   ]
  },
  {
   "cell_type": "code",
   "execution_count": 58,
   "id": "97222b23-ff3d-4596-a1eb-b8525faef1ca",
   "metadata": {
    "execution": {
     "iopub.execute_input": "2023-01-02T17:25:18.598863Z",
     "iopub.status.busy": "2023-01-02T17:25:18.597059Z",
     "iopub.status.idle": "2023-01-02T17:26:02.498342Z",
     "shell.execute_reply": "2023-01-02T17:26:02.494539Z"
    },
    "tags": []
   },
   "outputs": [],
   "source": [
    "# Save the fully processed Seurat object to be used in all the other notebooks\n",
    "saveRDS(seurat_obj, file=file.path(OUT, paste0(NAME, \"_hdWGCNA.rds\")))"
   ]
  },
  {
   "cell_type": "markdown",
   "id": "01ec716c-6941-4b63-adfe-86dabbeaddae",
   "metadata": {},
   "source": [
    "---"
   ]
  },
  {
   "cell_type": "markdown",
   "id": "9475e8b0-d62d-4bf4-a835-ff64f82daa40",
   "metadata": {
    "tags": []
   },
   "source": [
    "# Scratch"
   ]
  }
 ],
 "metadata": {
  "kernelspec": {
   "display_name": "Python 3.8 scverse",
   "language": "python",
   "name": "scverse-py38"
  },
  "language_info": {
   "codemirror_mode": {
    "name": "ipython",
    "version": 3
   },
   "file_extension": ".py",
   "mimetype": "text/x-python",
   "name": "python",
   "nbconvert_exporter": "python",
   "pygments_lexer": "ipython3",
   "version": "3.8.13"
  }
 },
 "nbformat": 4,
 "nbformat_minor": 5
}
