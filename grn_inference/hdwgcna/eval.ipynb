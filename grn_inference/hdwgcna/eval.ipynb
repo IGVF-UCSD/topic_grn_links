{
 "cells": [
  {
   "cell_type": "code",
   "execution_count": 1,
   "id": "7e68c09c-03d6-4246-b34f-53fd5450a48d",
   "metadata": {
    "execution": {
     "iopub.execute_input": "2023-01-16T21:42:52.923150Z",
     "iopub.status.busy": "2023-01-16T21:42:52.919365Z",
     "iopub.status.idle": "2023-01-16T21:43:31.813235Z",
     "shell.execute_reply": "2023-01-16T21:43:31.811345Z"
    }
   },
   "outputs": [
    {
     "name": "stderr",
     "output_type": "stream",
     "text": [
      "Registered S3 method overwritten by 'SeuratDisk':\n",
      "  method            from  \n",
      "  as.sparse.H5Group Seurat\n",
      "\n",
      "Attaching SeuratObject\n",
      "\n",
      "Attaching sp\n",
      "\n",
      "── \u001b[1mAttaching packages\u001b[22m ─────────────────────────────────────── tidyverse 1.3.1 ──\n",
      "\n",
      "\u001b[32m✔\u001b[39m \u001b[34mggplot2\u001b[39m 3.3.6     \u001b[32m✔\u001b[39m \u001b[34mpurrr  \u001b[39m 0.3.4\n",
      "\u001b[32m✔\u001b[39m \u001b[34mtibble \u001b[39m 3.1.7     \u001b[32m✔\u001b[39m \u001b[34mdplyr  \u001b[39m 1.0.9\n",
      "\u001b[32m✔\u001b[39m \u001b[34mtidyr  \u001b[39m 1.2.0     \u001b[32m✔\u001b[39m \u001b[34mstringr\u001b[39m 1.4.0\n",
      "\u001b[32m✔\u001b[39m \u001b[34mreadr  \u001b[39m 2.1.2     \u001b[32m✔\u001b[39m \u001b[34mforcats\u001b[39m 0.5.1\n",
      "\n",
      "── \u001b[1mConflicts\u001b[22m ────────────────────────────────────────── tidyverse_conflicts() ──\n",
      "\u001b[31m✖\u001b[39m \u001b[34mdplyr\u001b[39m::\u001b[32mfilter()\u001b[39m masks \u001b[34mstats\u001b[39m::filter()\n",
      "\u001b[31m✖\u001b[39m \u001b[34mdplyr\u001b[39m::\u001b[32mlag()\u001b[39m    masks \u001b[34mstats\u001b[39m::lag()\n",
      "\u001b[31m✖\u001b[39m \u001b[34mpurrr\u001b[39m::\u001b[32mreduce()\u001b[39m masks \u001b[34mSignac\u001b[39m::reduce()\n",
      "\n",
      "\n",
      "Attaching package: ‘patchwork’\n",
      "\n",
      "\n",
      "The following object is masked from ‘package:cowplot’:\n",
      "\n",
      "    align_plots\n",
      "\n",
      "\n",
      "Loading required package: dynamicTreeCut\n",
      "\n",
      "Loading required package: fastcluster\n",
      "\n",
      "\n",
      "Attaching package: ‘fastcluster’\n",
      "\n",
      "\n",
      "The following object is masked from ‘package:stats’:\n",
      "\n",
      "    hclust\n",
      "\n",
      "\n",
      "\n",
      "\n",
      "\n",
      "Attaching package: ‘WGCNA’\n",
      "\n",
      "\n",
      "The following object is masked from ‘package:stats’:\n",
      "\n",
      "    cor\n",
      "\n",
      "\n"
     ]
    }
   ],
   "source": [
    "# Conversion libraries and Seurat\n",
    "library(SeuratDisk)\n",
    "library(SeuratData)\n",
    "library(Seurat)\n",
    "library(Signac)\n",
    "\n",
    "# plotting and data science packages\n",
    "library(tidyverse)\n",
    "library(cowplot)\n",
    "library(patchwork)\n",
    "\n",
    "# co-expression network analysis packages:\n",
    "library(WGCNA)\n",
    "library(hdWGCNA)\n",
    "\n",
    "# using the cowplot theme for ggplot\n",
    "theme_set(theme_cowplot())\n",
    "\n",
    "# set random seed for reproducibility\n",
    "set.seed(12345)"
   ]
  },
  {
   "cell_type": "code",
   "execution_count": 2,
   "id": "7bfcb340-237e-4232-80ed-f0bb8e6ed0bc",
   "metadata": {
    "execution": {
     "iopub.execute_input": "2023-01-16T21:43:59.156015Z",
     "iopub.status.busy": "2023-01-16T21:43:59.117661Z",
     "iopub.status.idle": "2023-01-16T21:43:59.173187Z",
     "shell.execute_reply": "2023-01-16T21:43:59.171174Z"
    }
   },
   "outputs": [],
   "source": [
    "RDS_OBJ <- \"/cellar/users/aklie/projects/igvf/topic_grn_links/grn_inference/hdwgcna/results/endothelial_perturb_seq/normalized_subset_hdWGCNA.rds\""
   ]
  },
  {
   "cell_type": "code",
   "execution_count": 3,
   "id": "c142a395-16ac-412c-a94e-bcda74a7ad0b",
   "metadata": {
    "execution": {
     "iopub.execute_input": "2023-01-16T21:44:19.214437Z",
     "iopub.status.busy": "2023-01-16T21:44:19.212447Z",
     "iopub.status.idle": "2023-01-16T21:44:22.513212Z",
     "shell.execute_reply": "2023-01-16T21:44:22.510895Z"
    }
   },
   "outputs": [],
   "source": [
    "seurat_obj <- readRDS(RDS_OBJ)"
   ]
  },
  {
   "cell_type": "code",
   "execution_count": 7,
   "id": "feafffe4-ecb2-4af3-ae94-f39ff87f1419",
   "metadata": {
    "execution": {
     "iopub.execute_input": "2023-01-16T21:45:57.419660Z",
     "iopub.status.busy": "2023-01-16T21:45:57.417942Z",
     "iopub.status.idle": "2023-01-16T21:45:57.435490Z",
     "shell.execute_reply": "2023-01-16T21:45:57.433918Z"
    },
    "tags": []
   },
   "outputs": [],
   "source": [
    "metacell_obj <- seurat_obj@misc$normalized_subset$wgcna_metacell_obj"
   ]
  },
  {
   "cell_type": "code",
   "execution_count": 18,
   "id": "d84bbad9-32d4-44e6-82ab-e681dea6cce6",
   "metadata": {
    "execution": {
     "iopub.execute_input": "2023-01-16T21:49:39.884882Z",
     "iopub.status.busy": "2023-01-16T21:49:39.882966Z",
     "iopub.status.idle": "2023-01-16T21:49:40.134821Z",
     "shell.execute_reply": "2023-01-16T21:49:40.132987Z"
    }
   },
   "outputs": [],
   "source": [
    "metacell_obj <- NormalizeData(metacell_obj)"
   ]
  },
  {
   "cell_type": "code",
   "execution_count": 25,
   "id": "2c4b6112-9f3d-4359-a4ac-4cc55c830fe5",
   "metadata": {
    "execution": {
     "iopub.execute_input": "2023-01-16T21:51:29.368529Z",
     "iopub.status.busy": "2023-01-16T21:51:29.366969Z",
     "iopub.status.idle": "2023-01-16T21:51:29.390225Z",
     "shell.execute_reply": "2023-01-16T21:51:29.388684Z"
    },
    "tags": []
   },
   "outputs": [],
   "source": [
    "norm.mat <- GetAssayData(metacell_obj, \"RNA\", slot = \"data\")"
   ]
  },
  {
   "cell_type": "code",
   "execution_count": 22,
   "id": "9f1fec25-58da-41f3-be1c-13d25e522365",
   "metadata": {
    "execution": {
     "iopub.execute_input": "2023-01-16T21:50:33.320080Z",
     "iopub.status.busy": "2023-01-16T21:50:33.318336Z",
     "iopub.status.idle": "2023-01-16T21:50:33.338771Z",
     "shell.execute_reply": "2023-01-16T21:50:33.337175Z"
    },
    "tags": []
   },
   "outputs": [],
   "source": [
    "library(PISCES)"
   ]
  },
  {
   "cell_type": "code",
   "execution_count": 23,
   "id": "9ab7b8bf-8e51-4ea7-806e-5df17a41c201",
   "metadata": {
    "execution": {
     "iopub.execute_input": "2023-01-16T21:50:34.031040Z",
     "iopub.status.busy": "2023-01-16T21:50:33.981713Z",
     "iopub.status.idle": "2023-01-16T21:50:34.048482Z",
     "shell.execute_reply": "2023-01-16T21:50:34.046944Z"
    },
    "tags": []
   },
   "outputs": [],
   "source": [
    "work_dir <- \"/cellar/users/aklie/data/igvf/topic_grn_links/endothelial_perturb_seq/preprocess\""
   ]
  },
  {
   "cell_type": "code",
   "execution_count": 24,
   "id": "10d806c3-f6f7-4a0e-83c2-7704aabf6db2",
   "metadata": {
    "execution": {
     "iopub.execute_input": "2023-01-16T21:50:34.886115Z",
     "iopub.status.busy": "2023-01-16T21:50:34.884696Z",
     "iopub.status.idle": "2023-01-16T21:50:34.902050Z",
     "shell.execute_reply": "2023-01-16T21:50:34.900514Z"
    },
    "tags": []
   },
   "outputs": [],
   "source": [
    "mat.name <-  file.path(work_dir, 'metacell_normalized.tsv')"
   ]
  },
  {
   "cell_type": "code",
   "execution_count": 26,
   "id": "94a5730e-09bf-4c42-94b1-7b9b6a4e390f",
   "metadata": {
    "execution": {
     "iopub.execute_input": "2023-01-16T22:03:49.173708Z",
     "iopub.status.busy": "2023-01-16T22:03:49.170658Z",
     "iopub.status.idle": "2023-01-16T22:03:59.575194Z",
     "shell.execute_reply": "2023-01-16T22:03:59.572101Z"
    }
   },
   "outputs": [],
   "source": [
    "ARACNeTable(data.frame(norm.mat), mat.name)"
   ]
  },
  {
   "cell_type": "code",
   "execution_count": null,
   "id": "7f2bfcb7-6735-440c-b843-f7ebe76b6707",
   "metadata": {},
   "outputs": [],
   "source": []
  }
 ],
 "metadata": {
  "kernelspec": {
   "display_name": "R 4.1.3 scverse",
   "language": "R",
   "name": "scverse-r413"
  },
  "language_info": {
   "codemirror_mode": "r",
   "file_extension": ".r",
   "mimetype": "text/x-r-source",
   "name": "R",
   "pygments_lexer": "r",
   "version": "4.1.3"
  }
 },
 "nbformat": 4,
 "nbformat_minor": 5
}
