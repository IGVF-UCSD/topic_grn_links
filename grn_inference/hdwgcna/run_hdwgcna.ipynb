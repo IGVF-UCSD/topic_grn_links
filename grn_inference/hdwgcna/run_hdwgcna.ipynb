{
 "cells": [
  {
   "cell_type": "markdown",
   "id": "316d981a-2f6f-4149-a3a5-10feaa4fbabe",
   "metadata": {},
   "source": [
    "# hdWGCNA: Pipeline"
   ]
  },
  {
   "cell_type": "markdown",
   "id": "41aee7fd-9f0b-44a2-b5a0-b11c72540ec1",
   "metadata": {},
   "source": [
    "## Examples"
   ]
  },
  {
   "cell_type": "markdown",
   "id": "f61ca9c3-23da-4b4f-8286-2971fd82c2dd",
   "metadata": {},
   "source": [
    "### ENCODE 4 mouse adrenal tissue"
   ]
  },
  {
   "cell_type": "markdown",
   "id": "a3256dce-e209-4b35-bcf6-235bb1ff8c53",
   "metadata": {},
   "source": [
    "#### Prepare for network construction"
   ]
  },
  {
   "cell_type": "code",
   "execution_count": 9,
   "id": "b921e714-94b1-40d2-a522-dd4577c832c6",
   "metadata": {
    "execution": {
     "iopub.execute_input": "2023-01-20T04:46:37.110255Z",
     "iopub.status.busy": "2023-01-20T04:46:37.109789Z",
     "iopub.status.idle": "2023-01-20T04:46:38.306835Z",
     "shell.execute_reply": "2023-01-20T04:46:38.305514Z",
     "shell.execute_reply.started": "2023-01-20T04:46:37.110218Z"
    },
    "tags": []
   },
   "outputs": [
    {
     "name": "stdout",
     "output_type": "stream",
     "text": [
      "Submitted batch job 217871\n"
     ]
    }
   ],
   "source": [
    "%%bash\n",
    "rds_obj=\"/cellar/users/aklie/data/igvf/topic_grn_links/mouse_adrenal/auxiliary_data/snrna/adrenal_Parse_10x_integrated.rds\"\n",
    "name=\"mouse_adrenal\"\n",
    "out_dir=\"/cellar/users/aklie/projects/igvf/topic_grn_links/grn_inference/hdwgcna/results/mouse_adrenal/\"\n",
    "cd scripts\n",
    "sbatch --job-name=prepForNetworkConstruction_mouse_adrenal --cpus-per-task=16 --mem=128G prepForNetworkConstruction.sh $rds_obj $name $out_dir"
   ]
  },
  {
   "cell_type": "markdown",
   "id": "0671c187-03f4-4e98-b479-7b06fcbf4625",
   "metadata": {},
   "source": [
    "#### Network construction"
   ]
  },
  {
   "cell_type": "code",
   "execution_count": 1,
   "id": "a2be1f53-b437-47f9-ac93-130cc1604258",
   "metadata": {
    "execution": {
     "iopub.execute_input": "2023-01-20T06:21:43.850660Z",
     "iopub.status.busy": "2023-01-20T06:21:43.850144Z",
     "iopub.status.idle": "2023-01-20T06:21:44.745968Z",
     "shell.execute_reply": "2023-01-20T06:21:44.744951Z",
     "shell.execute_reply.started": "2023-01-20T06:21:43.850565Z"
    },
    "tags": []
   },
   "outputs": [
    {
     "name": "stdout",
     "output_type": "stream",
     "text": [
      "Submitted batch job 217881\n"
     ]
    }
   ],
   "source": [
    "%%bash\n",
    "rds_obj=\"/cellar/users/aklie/projects/igvf/topic_grn_links/grn_inference/hdwgcna/results/mouse_adrenal/mouse_adrenal_50_1000_prelim_hdWGCNA.rds\"\n",
    "name=\"mouse_adrenal_50_1000\"\n",
    "out_dir=\"/cellar/users/aklie/projects/igvf/topic_grn_links/grn_inference/hdwgcna/results/mouse_adrenal/\"\n",
    "power=6\n",
    "cd scripts\n",
    "sbatch --job-name=networkConstruction_mouse_adrenal --cpus-per-task=16 --mem=128G networkConstruction.sh $rds_obj $name $out_dir $power"
   ]
  },
  {
   "cell_type": "markdown",
   "id": "03784a63-2e86-4152-93e3-1c4ee2cd18a5",
   "metadata": {},
   "source": [
    "### ENCODE 4 mouse heart tissue"
   ]
  },
  {
   "cell_type": "markdown",
   "id": "e51c3387-ce72-48ce-ab85-90a48642f9f0",
   "metadata": {},
   "source": [
    "#### Prepare for network construction"
   ]
  },
  {
   "cell_type": "code",
   "execution_count": 10,
   "id": "ef17d01e-5e22-4070-bd43-c5393e7f4866",
   "metadata": {
    "execution": {
     "iopub.execute_input": "2023-01-20T04:46:39.112040Z",
     "iopub.status.busy": "2023-01-20T04:46:39.111453Z",
     "iopub.status.idle": "2023-01-20T04:46:40.250296Z",
     "shell.execute_reply": "2023-01-20T04:46:40.248969Z",
     "shell.execute_reply.started": "2023-01-20T04:46:39.111984Z"
    },
    "tags": []
   },
   "outputs": [
    {
     "name": "stdout",
     "output_type": "stream",
     "text": [
      "Submitted batch job 217872\n"
     ]
    }
   ],
   "source": [
    "%%bash\n",
    "rds_obj=\"/cellar/users/aklie/data/igvf/topic_grn_links/mouse_heart/auxiliary_data/snrna/heart_Parse_10x_integrated.rds\"\n",
    "name=\"mouse_heart\"\n",
    "out_dir=\"/cellar/users/aklie/projects/igvf/topic_grn_links/grn_inference/hdwgcna/results/mouse_heart/\"\n",
    "cd scripts\n",
    "sbatch --job-name=prepForNetworkConstruction_mouse_heart --cpus-per-task=16 --mem=128G prepForNetworkConstruction.sh $rds_obj $name $out_dir"
   ]
  },
  {
   "cell_type": "markdown",
   "id": "372761c3-bb3d-4cc7-91c2-a6289c5a5ec8",
   "metadata": {},
   "source": [
    "#### Network construction"
   ]
  },
  {
   "cell_type": "code",
   "execution_count": 2,
   "id": "6d821235-f518-4263-a373-8fdc598de814",
   "metadata": {
    "execution": {
     "iopub.execute_input": "2023-01-20T15:42:27.962848Z",
     "iopub.status.busy": "2023-01-20T15:42:27.962473Z",
     "iopub.status.idle": "2023-01-20T15:42:29.133093Z",
     "shell.execute_reply": "2023-01-20T15:42:29.131933Z",
     "shell.execute_reply.started": "2023-01-20T15:42:27.962805Z"
    },
    "tags": []
   },
   "outputs": [
    {
     "name": "stdout",
     "output_type": "stream",
     "text": [
      "Submitted batch job 217907\n"
     ]
    }
   ],
   "source": [
    "%%bash\n",
    "rds_obj=\"/cellar/users/aklie/projects/igvf/topic_grn_links/grn_inference/hdwgcna/results/mouse_heart/mouse_heart_50_1000_prelim_hdWGCNA.rds\"\n",
    "name=\"mouse_heart_50_1000\"\n",
    "out_dir=\"/cellar/users/aklie/projects/igvf/topic_grn_links/grn_inference/hdwgcna/results/mouse_heart/\"\n",
    "power=9\n",
    "cd scripts\n",
    "sbatch --job-name=networkConstruction_mouse_heart --cpus-per-task=16 --mem=128G networkConstruction.sh $rds_obj $name $out_dir $power"
   ]
  },
  {
   "cell_type": "markdown",
   "id": "3765cda2-791c-4f8a-8b3e-de4778e2a5e9",
   "metadata": {},
   "source": [
    "### Endothelial cell perturb-seq"
   ]
  },
  {
   "cell_type": "markdown",
   "id": "cde8e8df-2a69-4f02-9a44-dd88acd7d9de",
   "metadata": {},
   "source": [
    "#### All filtered cells GRN"
   ]
  },
  {
   "cell_type": "markdown",
   "id": "617898db-d550-48e1-870e-f8bdc67626d2",
   "metadata": {
    "jp-MarkdownHeadingCollapsed": true,
    "tags": []
   },
   "source": [
    "##### Prepare for network construction"
   ]
  },
  {
   "cell_type": "code",
   "execution_count": 3,
   "id": "6177d602-deb4-4a15-b38d-8837a4503b70",
   "metadata": {
    "execution": {
     "iopub.execute_input": "2023-01-25T17:38:26.917266Z",
     "iopub.status.busy": "2023-01-25T17:38:26.916945Z",
     "iopub.status.idle": "2023-01-25T17:38:28.134661Z",
     "shell.execute_reply": "2023-01-25T17:38:28.133743Z",
     "shell.execute_reply.started": "2023-01-25T17:38:26.917231Z"
    },
    "tags": []
   },
   "outputs": [
    {
     "name": "stdout",
     "output_type": "stream",
     "text": [
      "Submitted batch job 219334\n"
     ]
    }
   ],
   "source": [
    "%%bash\n",
    "rds_obj=\"/cellar/users/aklie/data/igvf/topic_grn_links/endothelial_perturb_seq/preprocess/normalized.rds\"\n",
    "name=\"endothelial_gene\"\n",
    "out_dir=\"/cellar/users/aklie/projects/igvf/topic_grn_links/grn_inference/hdwgcna/results/endothelial_perturb_seq/\"\n",
    "cd scripts\n",
    "sbatch --job-name=prepForNetworkConstruction_endothelial_gene_25 --cpus-per-task=16 --mem=200G prepForNetworkConstruction.sh $rds_obj $name $out_dir"
   ]
  },
  {
   "cell_type": "markdown",
   "id": "ce167861-4258-4fb1-9421-c6edbbda8ccb",
   "metadata": {
    "jp-MarkdownHeadingCollapsed": true,
    "tags": []
   },
   "source": [
    "##### Network construction"
   ]
  },
  {
   "cell_type": "code",
   "execution_count": 4,
   "id": "7eca7b0e-2a07-4c32-ad3e-2efd98b5020b",
   "metadata": {
    "execution": {
     "iopub.execute_input": "2023-01-25T20:05:24.821186Z",
     "iopub.status.busy": "2023-01-25T20:05:24.820820Z",
     "iopub.status.idle": "2023-01-25T20:05:25.510124Z",
     "shell.execute_reply": "2023-01-25T20:05:25.509010Z",
     "shell.execute_reply.started": "2023-01-25T20:05:24.821154Z"
    },
    "tags": []
   },
   "outputs": [
    {
     "name": "stdout",
     "output_type": "stream",
     "text": [
      "Submitted batch job 219370\n"
     ]
    }
   ],
   "source": [
    "%%bash\n",
    "rds_obj=\"/cellar/users/aklie/projects/igvf/topic_grn_links/grn_inference/hdwgcna/results/endothelial_perturb_seq/endothelial_gene_25_1000_prelim_hdWGCNA.rds\"\n",
    "name=\"endothelial_gene\"\n",
    "out_dir=\"/cellar/users/aklie/projects/igvf/topic_grn_links/grn_inference/hdwgcna/results/endothelial_perturb_seq\"\n",
    "power=6\n",
    "cd scripts\n",
    "sbatch --job-name=networkConstruction_endothelial_gene --cpus-per-task=16 --mem=200G networkConstruction.sh $rds_obj $name $out_dir $power"
   ]
  },
  {
   "cell_type": "markdown",
   "id": "2f64a39d-ccbf-4b5d-a9c6-0b2f28578302",
   "metadata": {},
   "source": [
    "#### Per perturbation GRN"
   ]
  },
  {
   "cell_type": "markdown",
   "id": "5055e757-91dd-43f0-8b52-0f12cb07a466",
   "metadata": {
    "tags": []
   },
   "source": [
    "##### Negative control"
   ]
  },
  {
   "cell_type": "markdown",
   "id": "bf39ed91-da07-4963-9341-3d23dfe4380d",
   "metadata": {
    "jp-MarkdownHeadingCollapsed": true,
    "tags": []
   },
   "source": [
    "###### Prepare for network construction"
   ]
  },
  {
   "cell_type": "code",
   "execution_count": 2,
   "id": "e20142d8-ff0a-4461-9006-ec87244fe648",
   "metadata": {
    "execution": {
     "iopub.execute_input": "2023-01-30T22:05:13.819251Z",
     "iopub.status.busy": "2023-01-30T22:05:13.818929Z",
     "iopub.status.idle": "2023-01-30T22:05:15.162890Z",
     "shell.execute_reply": "2023-01-30T22:05:15.162038Z",
     "shell.execute_reply.started": "2023-01-30T22:05:13.819219Z"
    },
    "tags": []
   },
   "outputs": [
    {
     "name": "stdout",
     "output_type": "stream",
     "text": [
      "Submitted batch job 223643\n"
     ]
    }
   ],
   "source": [
    "%%bash\n",
    "rds_obj=\"/cellar/users/aklie/data/igvf/topic_grn_links/endothelial_perturb_seq/preprocess/per_perturbation/neg_control.rds\"\n",
    "name=\"endothelial_neg_control\"\n",
    "out_dir=\"/cellar/users/aklie/projects/igvf/topic_grn_links/grn_inference/hdwgcna/results/endothelial_perturb_seq/per_perturbation\"\n",
    "cd scripts\n",
    "mkdir -p $out_dir\n",
    "sbatch --job-name=prepForNetworkConstruction_endothelial_neg_control --cpus-per-task=16 --mem=32G prepForNetworkConstruction.sh $rds_obj $name $out_dir"
   ]
  },
  {
   "cell_type": "markdown",
   "id": "5fbde421-92d5-4382-841f-99806bc9505e",
   "metadata": {
    "jp-MarkdownHeadingCollapsed": true,
    "tags": []
   },
   "source": [
    "###### Network construction"
   ]
  },
  {
   "cell_type": "code",
   "execution_count": 3,
   "id": "e4036bcf-8da6-47c7-b770-4939a32b82c3",
   "metadata": {
    "execution": {
     "iopub.execute_input": "2023-01-30T22:14:36.345067Z",
     "iopub.status.busy": "2023-01-30T22:14:36.344726Z",
     "iopub.status.idle": "2023-01-30T22:14:37.326685Z",
     "shell.execute_reply": "2023-01-30T22:14:37.325851Z",
     "shell.execute_reply.started": "2023-01-30T22:14:36.345034Z"
    },
    "tags": []
   },
   "outputs": [
    {
     "name": "stdout",
     "output_type": "stream",
     "text": [
      "Submitted batch job 223645\n"
     ]
    }
   ],
   "source": [
    "%%bash\n",
    "rds_obj=\"/cellar/users/aklie/projects/igvf/topic_grn_links/grn_inference/hdwgcna/results/endothelial_perturb_seq/per_perturbation/endothelial_neg_control_25_2000_prelim_hdWGCNA.rds\"\n",
    "name=\"endothelial_neg_control\"\n",
    "out_dir=\"/cellar/users/aklie/projects/igvf/topic_grn_links/grn_inference/hdwgcna/results/endothelial_perturb_seq/per_perturbation\"\n",
    "power=6\n",
    "cd scripts\n",
    "sbatch --job-name=networkConstruction_endothelial_gene --cpus-per-task=16 --mem=32G networkConstruction.sh $rds_obj $name $out_dir $power"
   ]
  },
  {
   "cell_type": "markdown",
   "id": "a16c387d-8617-4c44-a93d-13d16fa412e1",
   "metadata": {},
   "source": [
    "##### Positive control and genes of interest"
   ]
  },
  {
   "cell_type": "markdown",
   "id": "d111d3b8-e934-43ec-a004-da9121660a01",
   "metadata": {
    "jp-MarkdownHeadingCollapsed": true,
    "tags": []
   },
   "source": [
    "###### Prepare for network construction"
   ]
  },
  {
   "cell_type": "code",
   "execution_count": 13,
   "id": "32375ddc-b953-468b-889f-7c7b479f8c13",
   "metadata": {
    "execution": {
     "iopub.execute_input": "2023-01-30T22:25:34.380549Z",
     "iopub.status.busy": "2023-01-30T22:25:34.380240Z",
     "iopub.status.idle": "2023-01-30T22:25:36.295885Z",
     "shell.execute_reply": "2023-01-30T22:25:36.294988Z",
     "shell.execute_reply.started": "2023-01-30T22:25:34.380493Z"
    },
    "tags": []
   },
   "outputs": [
    {
     "name": "stdout",
     "output_type": "stream",
     "text": [
      "Submitted batch job 223664\n",
      "Submitted batch job 223665\n",
      "Submitted batch job 223666\n",
      "Submitted batch job 223667\n",
      "Submitted batch job 223668\n"
     ]
    }
   ],
   "source": [
    "%%bash\n",
    "out_dir=\"/cellar/users/aklie/projects/igvf/topic_grn_links/grn_inference/hdwgcna/results/endothelial_perturb_seq/per_perturbation\"\n",
    "cd scripts\n",
    "#mkdir -p $out_dir\n",
    "genes=( CDH5 TP53 CCM2 EDN1 MESDC1 )\n",
    "for i in \"${genes[@]}\"\n",
    "do\n",
    "    rds_obj=/cellar/users/aklie/data/igvf/topic_grn_links/endothelial_perturb_seq/preprocess/per_perturbation/${i}.rds\n",
    "    name=endothelial_${i}\n",
    "    sbatch --job-name=prepForNetworkConstruction_endothelial_${i} --cpus-per-task=16 --mem=32G prepForNetworkConstruction.sh $rds_obj $name $out_dir\n",
    "done"
   ]
  },
  {
   "cell_type": "markdown",
   "id": "33070adb-dbe8-4ad3-b419-243ec765131f",
   "metadata": {
    "tags": []
   },
   "source": [
    "###### Network construction"
   ]
  },
  {
   "cell_type": "code",
   "execution_count": 15,
   "id": "1281d5e5-e745-4700-bfa0-858e51438587",
   "metadata": {
    "execution": {
     "iopub.execute_input": "2023-01-30T22:27:59.507016Z",
     "iopub.status.busy": "2023-01-30T22:27:59.506592Z",
     "iopub.status.idle": "2023-01-30T22:28:01.313988Z",
     "shell.execute_reply": "2023-01-30T22:28:01.312994Z",
     "shell.execute_reply.started": "2023-01-30T22:27:59.506984Z"
    },
    "tags": []
   },
   "outputs": [
    {
     "name": "stdout",
     "output_type": "stream",
     "text": [
      "Submitted batch job 223670\n",
      "Submitted batch job 223671\n",
      "Submitted batch job 223672\n",
      "Submitted batch job 223673\n",
      "Submitted batch job 223674\n"
     ]
    }
   ],
   "source": [
    "%%bash\n",
    "out_dir=\"/cellar/users/aklie/projects/igvf/topic_grn_links/grn_inference/hdwgcna/results/endothelial_perturb_seq/per_perturbation\"\n",
    "cd scripts\n",
    "#mkdir -p $out_dir\n",
    "powers=( 7 7 7 8 7 )\n",
    "genes=( CDH5 TP53 CCM2 EDN1 MESDC1 )\n",
    "length=${#genes[@]}\n",
    "for (( j=0; j<${length}; j++ ));\n",
    "do\n",
    "    gene=${genes[$j]}\n",
    "    power=${powers[$j]}\n",
    "    name=endothelial_$gene\n",
    "    rds_obj=${out_dir}/${name}_10_2000_prelim_hdWGCNA.rds\n",
    "    sbatch --job-name=networkConstruction_endothelial_gene --cpus-per-task=4 --mem=16G networkConstruction.sh $rds_obj $name $out_dir $power\n",
    "done"
   ]
  },
  {
   "cell_type": "markdown",
   "id": "26efcca2-f24c-4738-9e49-efc0e2c2fd22",
   "metadata": {},
   "source": [
    "# DONE!"
   ]
  },
  {
   "cell_type": "markdown",
   "id": "01ec716c-6941-4b63-adfe-86dabbeaddae",
   "metadata": {},
   "source": [
    "---"
   ]
  },
  {
   "cell_type": "markdown",
   "id": "9475e8b0-d62d-4bf4-a835-ff64f82daa40",
   "metadata": {
    "tags": []
   },
   "source": [
    "# Scratch"
   ]
  },
  {
   "cell_type": "markdown",
   "id": "4ce3bd49-fd80-40b3-9822-e074fdceb830",
   "metadata": {},
   "source": [
    "### ENCODE 4 mouse adrenal tissue"
   ]
  },
  {
   "cell_type": "code",
   "execution_count": null,
   "id": "eae62517-96ae-4f9a-825a-b4c861d77d15",
   "metadata": {
    "execution": {
     "iopub.execute_input": "2023-01-14T16:00:41.684053Z",
     "iopub.status.busy": "2023-01-14T16:00:41.683566Z",
     "iopub.status.idle": "2023-01-14T16:00:43.054589Z",
     "shell.execute_reply": "2023-01-14T16:00:43.053683Z",
     "shell.execute_reply.started": "2023-01-14T16:00:41.683971Z"
    },
    "tags": []
   },
   "outputs": [
    {
     "name": "stdout",
     "output_type": "stream",
     "text": [
      "Submitted batch job 214886\n"
     ]
    }
   ],
   "source": [
    "%%bash\n",
    "rds_obj=\"/cellar/users/aklie/data/igvf/topic_grn_links/mouse_adrenal/auxiliary_data/snrna/adrenal_Parse_10x_integrated.rds\"\n",
    "name=\"mouse_adrenal\"\n",
    "out_dir=\"/cellar/users/aklie/projects/igvf/topic_grn_links/grn_inference/hdwgcna/results/mouse_adrenal/\"\n",
    "pwoer\n",
    "cd scripts\n",
    "sbatch --job-name=hdWGCNA_adrenal --cpus-per-task=4 --mem=128G hdWGCNA.sh $rds_obj $name $out_dir"
   ]
  },
  {
   "cell_type": "markdown",
   "id": "b5b27c85-d8cb-484f-bda0-55c7010ff7f0",
   "metadata": {},
   "source": [
    "### ENCODE 4 mouse heart tissue"
   ]
  },
  {
   "cell_type": "code",
   "execution_count": null,
   "id": "086597ba-53e5-4bdd-9375-92181198ee0e",
   "metadata": {
    "execution": {
     "iopub.execute_input": "2023-01-14T16:01:09.128849Z",
     "iopub.status.busy": "2023-01-14T16:01:09.128387Z",
     "iopub.status.idle": "2023-01-14T16:01:10.703161Z",
     "shell.execute_reply": "2023-01-14T16:01:10.702044Z",
     "shell.execute_reply.started": "2023-01-14T16:01:09.128817Z"
    },
    "tags": []
   },
   "outputs": [
    {
     "name": "stdout",
     "output_type": "stream",
     "text": [
      "Submitted batch job 214887\n"
     ]
    }
   ],
   "source": [
    "%%bash\n",
    "rds_obj=\"/cellar/users/aklie/data/igvf/topic_grn_links/mouse_heart/preprocess/snrna/normalized.rds\"\n",
    "name=\"normalized_heart\"\n",
    "out_dir=\"/cellar/users/aklie/projects/igvf/topic_grn_links/grn_inference/hdwgcna/results/mouse_heart\"\n",
    "cd scripts\n",
    "sbatch --job-name=hdWGCNA_heart --cpus-per-task=4 --mem=128G hdWGCNA.sh $rds_obj $name $out_dir"
   ]
  },
  {
   "cell_type": "markdown",
   "id": "8ffd412c-0cba-4142-9efc-19c9d7a7d27b",
   "metadata": {},
   "source": [
    "### Endothelial cell perturb-seq"
   ]
  },
  {
   "cell_type": "code",
   "execution_count": 7,
   "id": "c0a5e5bb-0264-4f57-86d4-56c14b3f1c29",
   "metadata": {
    "execution": {
     "iopub.execute_input": "2023-01-17T06:20:35.311311Z",
     "iopub.status.busy": "2023-01-17T06:20:35.310996Z",
     "iopub.status.idle": "2023-01-17T06:20:36.214971Z",
     "shell.execute_reply": "2023-01-17T06:20:36.214016Z",
     "shell.execute_reply.started": "2023-01-17T06:20:35.311269Z"
    },
    "tags": []
   },
   "outputs": [
    {
     "name": "stdout",
     "output_type": "stream",
     "text": [
      "Submitted batch job 215486\n"
     ]
    }
   ],
   "source": [
    "%%bash\n",
    "rds_obj=\"/cellar/users/aklie/data/igvf/topic_grn_links/endothelial_perturb_seq/preprocess/normalized.rds\"\n",
    "name=\"normalized_endothelial_no_group\"\n",
    "out_dir=\"/cellar/users/aklie/projects/igvf/topic_grn_links/grn_inference/hdwgcna/results/endothelial_perturb_seq\"\n",
    "cd scripts\n",
    "sbatch --job-name=hdWGCNA_endothelial_no_group --cpus-per-task=4 --mem=200G hdWGCNA.sh $rds_obj $name $out_dir"
   ]
  }
 ],
 "metadata": {
  "kernelspec": {
   "display_name": "Python 3.8 scverse",
   "language": "python",
   "name": "scverse-py38"
  },
  "language_info": {
   "codemirror_mode": {
    "name": "ipython",
    "version": 3
   },
   "file_extension": ".py",
   "mimetype": "text/x-python",
   "name": "python",
   "nbconvert_exporter": "python",
   "pygments_lexer": "ipython3",
   "version": "3.8.13"
  }
 },
 "nbformat": 4,
 "nbformat_minor": 5
}
