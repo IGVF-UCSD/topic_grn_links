{
 "cells": [
  {
   "attachments": {},
   "cell_type": "markdown",
   "metadata": {},
   "source": [
    "# TODO"
   ]
  },
  {
   "attachments": {},
   "cell_type": "markdown",
   "metadata": {},
   "source": [
    "# Set-up"
   ]
  },
  {
   "cell_type": "code",
   "execution_count": 1,
   "metadata": {},
   "outputs": [],
   "source": [
    "import os\n",
    "import sys\n",
    "import random\n",
    "import time\n",
    "import pandas as pd\n",
    "import numpy as np\n",
    "\n",
    "# ignore pandas warnings\n",
    "import warnings\n",
    "warnings.filterwarnings(\"ignore\")"
   ]
  },
  {
   "cell_type": "code",
   "execution_count": 2,
   "metadata": {},
   "outputs": [
    {
     "data": {
      "text/plain": [
       "'/cellar/users/aklie/projects/igvf/topic_grn_links/grn_inference/celloracle/bin/Bridge_Satpathy'"
      ]
     },
     "execution_count": 2,
     "metadata": {},
     "output_type": "execute_result"
    }
   ],
   "source": [
    "os.chdir(\"/cellar/users/aklie/projects/igvf/topic_grn_links/grn_inference/celloracle/bin/Bridge_Satpathy\")\n",
    "os.getcwd()"
   ]
  },
  {
   "attachments": {},
   "cell_type": "markdown",
   "metadata": {},
   "source": [
    "# Load file metadata"
   ]
  },
  {
   "cell_type": "code",
   "execution_count": 3,
   "metadata": {},
   "outputs": [],
   "source": [
    "# Where the input metadata is stored for all files to run on\n",
    "in_dir = \"/cellar/users/aklie/data/igvf/topic_grn_links/subsets/for_regulon_inference/Bridge_Satpathy/29Aug23/3744376661_20230829-175127\""
   ]
  },
  {
   "cell_type": "code",
   "execution_count": 4,
   "metadata": {},
   "outputs": [
    {
     "data": {
      "text/html": [
       "<div>\n",
       "<style scoped>\n",
       "    .dataframe tbody tr th:only-of-type {\n",
       "        vertical-align: middle;\n",
       "    }\n",
       "\n",
       "    .dataframe tbody tr th {\n",
       "        vertical-align: top;\n",
       "    }\n",
       "\n",
       "    .dataframe thead th {\n",
       "        text-align: right;\n",
       "    }\n",
       "</style>\n",
       "<table border=\"1\" class=\"dataframe\">\n",
       "  <thead>\n",
       "    <tr style=\"text-align: right;\">\n",
       "      <th></th>\n",
       "      <th>file</th>\n",
       "      <th>file_type</th>\n",
       "      <th>cells</th>\n",
       "      <th>genes</th>\n",
       "      <th>normalization</th>\n",
       "      <th>n_cells</th>\n",
       "      <th>n_genes</th>\n",
       "      <th>percent_int</th>\n",
       "      <th>percent_0</th>\n",
       "      <th>percent_less_than_0</th>\n",
       "    </tr>\n",
       "  </thead>\n",
       "  <tbody>\n",
       "    <tr>\n",
       "      <th>0</th>\n",
       "      <td>random_500.random_2000.raw.h5ad</td>\n",
       "      <td>.h5ad</td>\n",
       "      <td>random_500</td>\n",
       "      <td>random_2000</td>\n",
       "      <td>raw</td>\n",
       "      <td>500</td>\n",
       "      <td>2000</td>\n",
       "      <td>0.995209</td>\n",
       "      <td>0.951713</td>\n",
       "      <td>0.0</td>\n",
       "    </tr>\n",
       "    <tr>\n",
       "      <th>1</th>\n",
       "      <td>random_500.random_2000.raw.loom</td>\n",
       "      <td>.loom</td>\n",
       "      <td>random_500</td>\n",
       "      <td>random_2000</td>\n",
       "      <td>raw</td>\n",
       "      <td>500</td>\n",
       "      <td>2000</td>\n",
       "      <td>0.995209</td>\n",
       "      <td>0.951713</td>\n",
       "      <td>0.0</td>\n",
       "    </tr>\n",
       "    <tr>\n",
       "      <th>2</th>\n",
       "      <td>random_500.random_2000.raw.tsv</td>\n",
       "      <td>.tsv</td>\n",
       "      <td>random_500</td>\n",
       "      <td>random_2000</td>\n",
       "      <td>raw</td>\n",
       "      <td>2000</td>\n",
       "      <td>500</td>\n",
       "      <td>0.995209</td>\n",
       "      <td>0.951713</td>\n",
       "      <td>0.0</td>\n",
       "    </tr>\n",
       "    <tr>\n",
       "      <th>3</th>\n",
       "      <td>random_500.random_2000.log1p_cp10k.h5ad</td>\n",
       "      <td>.h5ad</td>\n",
       "      <td>random_500</td>\n",
       "      <td>random_2000</td>\n",
       "      <td>log1p_cp10k</td>\n",
       "      <td>500</td>\n",
       "      <td>2000</td>\n",
       "      <td>0.951713</td>\n",
       "      <td>0.951713</td>\n",
       "      <td>0.0</td>\n",
       "    </tr>\n",
       "    <tr>\n",
       "      <th>4</th>\n",
       "      <td>random_500.random_2000.log1p_cp10k.loom</td>\n",
       "      <td>.loom</td>\n",
       "      <td>random_500</td>\n",
       "      <td>random_2000</td>\n",
       "      <td>log1p_cp10k</td>\n",
       "      <td>500</td>\n",
       "      <td>2000</td>\n",
       "      <td>0.951713</td>\n",
       "      <td>0.951713</td>\n",
       "      <td>0.0</td>\n",
       "    </tr>\n",
       "  </tbody>\n",
       "</table>\n",
       "</div>"
      ],
      "text/plain": [
       "                                      file file_type       cells        genes  \\\n",
       "0          random_500.random_2000.raw.h5ad     .h5ad  random_500  random_2000   \n",
       "1          random_500.random_2000.raw.loom     .loom  random_500  random_2000   \n",
       "2           random_500.random_2000.raw.tsv      .tsv  random_500  random_2000   \n",
       "3  random_500.random_2000.log1p_cp10k.h5ad     .h5ad  random_500  random_2000   \n",
       "4  random_500.random_2000.log1p_cp10k.loom     .loom  random_500  random_2000   \n",
       "\n",
       "  normalization  n_cells  n_genes  percent_int  percent_0  percent_less_than_0  \n",
       "0           raw      500     2000     0.995209   0.951713                  0.0  \n",
       "1           raw      500     2000     0.995209   0.951713                  0.0  \n",
       "2           raw     2000      500     0.995209   0.951713                  0.0  \n",
       "3   log1p_cp10k      500     2000     0.951713   0.951713                  0.0  \n",
       "4   log1p_cp10k      500     2000     0.951713   0.951713                  0.0  "
      ]
     },
     "execution_count": 4,
     "metadata": {},
     "output_type": "execute_result"
    }
   ],
   "source": [
    "# Load the file metadata\n",
    "file_metadata = pd.read_csv(os.path.join(in_dir, \"file_metadata.tsv\"), sep=\"\\t\")\n",
    "file_metadata.head()"
   ]
  },
  {
   "attachments": {},
   "cell_type": "markdown",
   "metadata": {},
   "source": [
    "# Extract runs of interest"
   ]
  },
  {
   "cell_type": "code",
   "execution_count": 5,
   "metadata": {},
   "outputs": [],
   "source": [
    "# Parameters for runs of interest\n",
    "genes = [\"0.05\"]  # could be [\"0.01\", \"0.05\", \"0.1\", \"0.2\"]\n",
    "cells = [\"balanced_genotype_microglia\"]\n",
    "normalizations = [\"cpm_rank\"]  # could be [ \"log1p_cp10k\", \"pf_log1p_pf\", \"cpm_rank\"]\n",
    "file_types = [\".h5ad\"]  # could be [\".h5ad\", \".loom\", \".tsv\"], but selecting tsv for GENIE3\n",
    "out_dir = \"/cellar/users/aklie/projects/igvf/topic_grn_links/grn_inference/celloracle/results/Bridge_Satpathy\""
   ]
  },
  {
   "cell_type": "code",
   "execution_count": 6,
   "metadata": {},
   "outputs": [],
   "source": [
    "# Set up masks for the file metadata based on above\n",
    "genes_mask = file_metadata[\"genes\"].isin(genes)\n",
    "cells_mask = file_metadata[\"cells\"].isin(cells)\n",
    "normalizations_mask = file_metadata[\"normalization\"].isin(normalizations)\n",
    "file_types_mask = file_metadata[\"file_type\"].isin(file_types)"
   ]
  },
  {
   "cell_type": "code",
   "execution_count": 7,
   "metadata": {},
   "outputs": [
    {
     "data": {
      "text/html": [
       "<div>\n",
       "<style scoped>\n",
       "    .dataframe tbody tr th:only-of-type {\n",
       "        vertical-align: middle;\n",
       "    }\n",
       "\n",
       "    .dataframe tbody tr th {\n",
       "        vertical-align: top;\n",
       "    }\n",
       "\n",
       "    .dataframe thead th {\n",
       "        text-align: right;\n",
       "    }\n",
       "</style>\n",
       "<table border=\"1\" class=\"dataframe\">\n",
       "  <thead>\n",
       "    <tr style=\"text-align: right;\">\n",
       "      <th></th>\n",
       "      <th>file</th>\n",
       "      <th>file_type</th>\n",
       "      <th>cells</th>\n",
       "      <th>genes</th>\n",
       "      <th>normalization</th>\n",
       "      <th>n_cells</th>\n",
       "      <th>n_genes</th>\n",
       "      <th>percent_int</th>\n",
       "      <th>percent_0</th>\n",
       "      <th>percent_less_than_0</th>\n",
       "      <th>in_file</th>\n",
       "      <th>in_file_path</th>\n",
       "      <th>genotype</th>\n",
       "      <th>out_dir</th>\n",
       "      <th>out_dir_path</th>\n",
       "    </tr>\n",
       "  </thead>\n",
       "  <tbody>\n",
       "    <tr>\n",
       "      <th>507</th>\n",
       "      <td>balanced_genotype_microglia-B6J.0.05.cpm_rank....</td>\n",
       "      <td>.h5ad</td>\n",
       "      <td>balanced_genotype_microglia</td>\n",
       "      <td>0.05</td>\n",
       "      <td>cpm_rank</td>\n",
       "      <td>1498</td>\n",
       "      <td>6277</td>\n",
       "      <td>0.010634</td>\n",
       "      <td>0.002413</td>\n",
       "      <td>0.498810</td>\n",
       "      <td>balanced_genotype_microglia/0.05/cpm_rank/bala...</td>\n",
       "      <td>/cellar/users/aklie/data/igvf/topic_grn_links/...</td>\n",
       "      <td>B6J</td>\n",
       "      <td>/cellar/users/aklie/projects/igvf/topic_grn_li...</td>\n",
       "      <td>/cellar/users/aklie/projects/igvf/topic_grn_li...</td>\n",
       "    </tr>\n",
       "    <tr>\n",
       "      <th>508</th>\n",
       "      <td>balanced_genotype_microglia-CASTJ.0.05.cpm_ran...</td>\n",
       "      <td>.h5ad</td>\n",
       "      <td>balanced_genotype_microglia</td>\n",
       "      <td>0.05</td>\n",
       "      <td>cpm_rank</td>\n",
       "      <td>1498</td>\n",
       "      <td>6277</td>\n",
       "      <td>0.010560</td>\n",
       "      <td>0.002531</td>\n",
       "      <td>0.498743</td>\n",
       "      <td>balanced_genotype_microglia/0.05/cpm_rank/bala...</td>\n",
       "      <td>/cellar/users/aklie/data/igvf/topic_grn_links/...</td>\n",
       "      <td>CASTJ</td>\n",
       "      <td>/cellar/users/aklie/projects/igvf/topic_grn_li...</td>\n",
       "      <td>/cellar/users/aklie/projects/igvf/topic_grn_li...</td>\n",
       "    </tr>\n",
       "    <tr>\n",
       "      <th>509</th>\n",
       "      <td>balanced_genotype_microglia-both.0.05.cpm_rank...</td>\n",
       "      <td>.h5ad</td>\n",
       "      <td>balanced_genotype_microglia</td>\n",
       "      <td>0.05</td>\n",
       "      <td>cpm_rank</td>\n",
       "      <td>2996</td>\n",
       "      <td>6277</td>\n",
       "      <td>0.010597</td>\n",
       "      <td>0.002472</td>\n",
       "      <td>0.498777</td>\n",
       "      <td>balanced_genotype_microglia/0.05/cpm_rank/bala...</td>\n",
       "      <td>/cellar/users/aklie/data/igvf/topic_grn_links/...</td>\n",
       "      <td>both</td>\n",
       "      <td>/cellar/users/aklie/projects/igvf/topic_grn_li...</td>\n",
       "      <td>/cellar/users/aklie/projects/igvf/topic_grn_li...</td>\n",
       "    </tr>\n",
       "  </tbody>\n",
       "</table>\n",
       "</div>"
      ],
      "text/plain": [
       "                                                  file file_type  \\\n",
       "507  balanced_genotype_microglia-B6J.0.05.cpm_rank....     .h5ad   \n",
       "508  balanced_genotype_microglia-CASTJ.0.05.cpm_ran...     .h5ad   \n",
       "509  balanced_genotype_microglia-both.0.05.cpm_rank...     .h5ad   \n",
       "\n",
       "                           cells genes normalization  n_cells  n_genes  \\\n",
       "507  balanced_genotype_microglia  0.05      cpm_rank     1498     6277   \n",
       "508  balanced_genotype_microglia  0.05      cpm_rank     1498     6277   \n",
       "509  balanced_genotype_microglia  0.05      cpm_rank     2996     6277   \n",
       "\n",
       "     percent_int  percent_0  percent_less_than_0  \\\n",
       "507     0.010634   0.002413             0.498810   \n",
       "508     0.010560   0.002531             0.498743   \n",
       "509     0.010597   0.002472             0.498777   \n",
       "\n",
       "                                               in_file  \\\n",
       "507  balanced_genotype_microglia/0.05/cpm_rank/bala...   \n",
       "508  balanced_genotype_microglia/0.05/cpm_rank/bala...   \n",
       "509  balanced_genotype_microglia/0.05/cpm_rank/bala...   \n",
       "\n",
       "                                          in_file_path genotype  \\\n",
       "507  /cellar/users/aklie/data/igvf/topic_grn_links/...      B6J   \n",
       "508  /cellar/users/aklie/data/igvf/topic_grn_links/...    CASTJ   \n",
       "509  /cellar/users/aklie/data/igvf/topic_grn_links/...     both   \n",
       "\n",
       "                                               out_dir  \\\n",
       "507  /cellar/users/aklie/projects/igvf/topic_grn_li...   \n",
       "508  /cellar/users/aklie/projects/igvf/topic_grn_li...   \n",
       "509  /cellar/users/aklie/projects/igvf/topic_grn_li...   \n",
       "\n",
       "                                          out_dir_path  \n",
       "507  /cellar/users/aklie/projects/igvf/topic_grn_li...  \n",
       "508  /cellar/users/aklie/projects/igvf/topic_grn_li...  \n",
       "509  /cellar/users/aklie/projects/igvf/topic_grn_li...  "
      ]
     },
     "execution_count": 7,
     "metadata": {},
     "output_type": "execute_result"
    }
   ],
   "source": [
    "# Extract the files to run\n",
    "curr_metadata = file_metadata[genes_mask & cells_mask & normalizations_mask & file_types_mask]\n",
    "curr_metadata[\"in_file\"] = curr_metadata[\"cells\"] + \"/\" + curr_metadata[\"genes\"].astype(str) + \"/\" + curr_metadata[\"normalization\"] + \"/\" + curr_metadata[\"file\"]\n",
    "curr_metadata[\"in_file_path\"] = curr_metadata[\"in_file\"].apply(lambda x: os.path.join(in_dir, x))\n",
    "curr_metadata[\"genotype\"] = [i.split(\".\")[0].split('-')[-1] for i in curr_metadata[\"file\"]] \n",
    "curr_metadata[\"out_dir\"] = out_dir\n",
    "curr_metadata[\"out_dir_path\"] = curr_metadata[\"out_dir\"] + \"/\" + curr_metadata[\"cells\"] + \"/\" + curr_metadata[\"genes\"].astype(str) + \"/\" + curr_metadata[\"normalization\"] + \"/\" + curr_metadata[\"genotype\"]\n",
    "curr_metadata"
   ]
  },
  {
   "cell_type": "code",
   "execution_count": 8,
   "metadata": {},
   "outputs": [],
   "source": [
    "time_id = time.strftime(\"%Y%m%d-%H%M%S\")\n",
    "run_id =  random.getrandbits(32)\n",
    "run = str(run_id) + \"_\" + time_id"
   ]
  },
  {
   "cell_type": "code",
   "execution_count": 9,
   "metadata": {},
   "outputs": [],
   "source": [
    "curr_run = curr_metadata[[\"in_file_path\", \"out_dir_path\"]]\n",
    "curr_run[\"base_grn\"] = \"mouse_scATAC_atlas\"\n",
    "curr_run[\"bagging_number\"] = 20\n",
    "curr_run[\"alpha\"] = 10\n",
    "curr_run[\"layer\"] = \"normalized_counts\"\n",
    "curr_run[\"run_id\"] = run\n",
    "curr_run.to_csv(f\"{run}_paths.csv\", index=False)"
   ]
  },
  {
   "attachments": {},
   "cell_type": "markdown",
   "metadata": {},
   "source": [
    "# DONE"
   ]
  },
  {
   "attachments": {},
   "cell_type": "markdown",
   "metadata": {},
   "source": [
    "---"
   ]
  }
 ],
 "metadata": {
  "kernelspec": {
   "display_name": "Python 3.7 get_data",
   "language": "python",
   "name": "get_data"
  },
  "language_info": {
   "codemirror_mode": {
    "name": "ipython",
    "version": 3
   },
   "file_extension": ".py",
   "mimetype": "text/x-python",
   "name": "python",
   "nbconvert_exporter": "python",
   "pygments_lexer": "ipython3",
   "version": "3.7.12"
  },
  "orig_nbformat": 4
 },
 "nbformat": 4,
 "nbformat_minor": 2
}
