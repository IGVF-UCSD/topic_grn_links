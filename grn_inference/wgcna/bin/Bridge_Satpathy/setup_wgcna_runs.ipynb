{
 "cells": [
  {
   "attachments": {},
   "cell_type": "markdown",
   "metadata": {},
   "source": [
    "# TODO"
   ]
  },
  {
   "attachments": {},
   "cell_type": "markdown",
   "metadata": {},
   "source": [
    "# Set-up"
   ]
  },
  {
   "cell_type": "code",
   "execution_count": 1,
   "metadata": {},
   "outputs": [
    {
     "name": "stderr",
     "output_type": "stream",
     "text": [
      "/cellar/users/aklie/opt/miniconda3/envs/scverse-lite-py38/lib/python3.8/site-packages/loompy/bus_file.py:68: NumbaDeprecationWarning: \u001b[1mThe 'nopython' keyword argument was not supplied to the 'numba.jit' decorator. The implicit default value for this argument is currently False, but it will be changed to True in Numba 0.59.0. See https://numba.readthedocs.io/en/stable/reference/deprecation.html#deprecation-of-object-mode-fall-back-behaviour-when-using-jit for details.\u001b[0m\n",
      "  def twobit_to_dna(twobit: int, size: int) -> str:\n",
      "/cellar/users/aklie/opt/miniconda3/envs/scverse-lite-py38/lib/python3.8/site-packages/loompy/bus_file.py:85: NumbaDeprecationWarning: \u001b[1mThe 'nopython' keyword argument was not supplied to the 'numba.jit' decorator. The implicit default value for this argument is currently False, but it will be changed to True in Numba 0.59.0. See https://numba.readthedocs.io/en/stable/reference/deprecation.html#deprecation-of-object-mode-fall-back-behaviour-when-using-jit for details.\u001b[0m\n",
      "  def dna_to_twobit(dna: str) -> int:\n",
      "/cellar/users/aklie/opt/miniconda3/envs/scverse-lite-py38/lib/python3.8/site-packages/loompy/bus_file.py:102: NumbaDeprecationWarning: \u001b[1mThe 'nopython' keyword argument was not supplied to the 'numba.jit' decorator. The implicit default value for this argument is currently False, but it will be changed to True in Numba 0.59.0. See https://numba.readthedocs.io/en/stable/reference/deprecation.html#deprecation-of-object-mode-fall-back-behaviour-when-using-jit for details.\u001b[0m\n",
      "  def twobit_1hamming(twobit: int, size: int) -> List[int]:\n"
     ]
    }
   ],
   "source": [
    "import os\n",
    "import sys\n",
    "import glob\n",
    "import time\n",
    "import yaml\n",
    "import random\n",
    "import numpy as np\n",
    "import pandas as pd\n",
    "import matplotlib.pyplot as plt\n",
    "import seaborn as sns\n",
    "from scipy import sparse\n",
    "import scanpy as sc\n",
    "import loompy as lp\n",
    "sc.settings.verbosity = 3\n",
    "\n",
    "sys.path.append(\"/cellar/users/aklie/data/igvf/bin\")\n",
    "from utils import make_dirs\n",
    "\n",
    "sys.path.append(\"/cellar/users/aklie/data/igvf/bin/data_wrangling\")\n",
    "from write import write_10x"
   ]
  },
  {
   "attachments": {},
   "cell_type": "markdown",
   "metadata": {},
   "source": [
    "# Load file metadata"
   ]
  },
  {
   "cell_type": "code",
   "execution_count": 2,
   "metadata": {},
   "outputs": [
    {
     "data": {
      "text/plain": [
       "'/cellar/users/aklie/projects/igvf/topic_grn_links/grn_inference/wgcna/bin/Bridge_Satpathy'"
      ]
     },
     "execution_count": 2,
     "metadata": {},
     "output_type": "execute_result"
    }
   ],
   "source": [
    "# Make the notebook directory the cwd\n",
    "os.chdir(\"/cellar/users/aklie/projects/igvf/topic_grn_links/grn_inference/wgcna/bin/Bridge_Satpathy\")\n",
    "os.getcwd()"
   ]
  },
  {
   "cell_type": "code",
   "execution_count": 3,
   "metadata": {},
   "outputs": [],
   "source": [
    "# Where the input metadata is stored for all files to run on\n",
    "in_dir = \"/cellar/users/aklie/data/igvf/topic_grn_links/subsets/for_regulon_inference/Bridge_Satpathy/29Aug23/3744376661_20230829-175127\""
   ]
  },
  {
   "cell_type": "code",
   "execution_count": 4,
   "metadata": {},
   "outputs": [
    {
     "data": {
      "text/html": [
       "<div>\n",
       "<style scoped>\n",
       "    .dataframe tbody tr th:only-of-type {\n",
       "        vertical-align: middle;\n",
       "    }\n",
       "\n",
       "    .dataframe tbody tr th {\n",
       "        vertical-align: top;\n",
       "    }\n",
       "\n",
       "    .dataframe thead th {\n",
       "        text-align: right;\n",
       "    }\n",
       "</style>\n",
       "<table border=\"1\" class=\"dataframe\">\n",
       "  <thead>\n",
       "    <tr style=\"text-align: right;\">\n",
       "      <th></th>\n",
       "      <th>file</th>\n",
       "      <th>file_type</th>\n",
       "      <th>cells</th>\n",
       "      <th>genes</th>\n",
       "      <th>normalization</th>\n",
       "      <th>n_cells</th>\n",
       "      <th>n_genes</th>\n",
       "      <th>percent_int</th>\n",
       "      <th>percent_0</th>\n",
       "      <th>percent_less_than_0</th>\n",
       "    </tr>\n",
       "  </thead>\n",
       "  <tbody>\n",
       "    <tr>\n",
       "      <th>0</th>\n",
       "      <td>random_500.random_2000.raw.h5ad</td>\n",
       "      <td>.h5ad</td>\n",
       "      <td>random_500</td>\n",
       "      <td>random_2000</td>\n",
       "      <td>raw</td>\n",
       "      <td>500</td>\n",
       "      <td>2000</td>\n",
       "      <td>0.995209</td>\n",
       "      <td>0.951713</td>\n",
       "      <td>0.0</td>\n",
       "    </tr>\n",
       "    <tr>\n",
       "      <th>1</th>\n",
       "      <td>random_500.random_2000.raw.loom</td>\n",
       "      <td>.loom</td>\n",
       "      <td>random_500</td>\n",
       "      <td>random_2000</td>\n",
       "      <td>raw</td>\n",
       "      <td>500</td>\n",
       "      <td>2000</td>\n",
       "      <td>0.995209</td>\n",
       "      <td>0.951713</td>\n",
       "      <td>0.0</td>\n",
       "    </tr>\n",
       "    <tr>\n",
       "      <th>2</th>\n",
       "      <td>random_500.random_2000.raw.tsv</td>\n",
       "      <td>.tsv</td>\n",
       "      <td>random_500</td>\n",
       "      <td>random_2000</td>\n",
       "      <td>raw</td>\n",
       "      <td>2000</td>\n",
       "      <td>500</td>\n",
       "      <td>0.995209</td>\n",
       "      <td>0.951713</td>\n",
       "      <td>0.0</td>\n",
       "    </tr>\n",
       "    <tr>\n",
       "      <th>3</th>\n",
       "      <td>random_500.random_2000.log1p_cp10k.h5ad</td>\n",
       "      <td>.h5ad</td>\n",
       "      <td>random_500</td>\n",
       "      <td>random_2000</td>\n",
       "      <td>log1p_cp10k</td>\n",
       "      <td>500</td>\n",
       "      <td>2000</td>\n",
       "      <td>0.951713</td>\n",
       "      <td>0.951713</td>\n",
       "      <td>0.0</td>\n",
       "    </tr>\n",
       "    <tr>\n",
       "      <th>4</th>\n",
       "      <td>random_500.random_2000.log1p_cp10k.loom</td>\n",
       "      <td>.loom</td>\n",
       "      <td>random_500</td>\n",
       "      <td>random_2000</td>\n",
       "      <td>log1p_cp10k</td>\n",
       "      <td>500</td>\n",
       "      <td>2000</td>\n",
       "      <td>0.951713</td>\n",
       "      <td>0.951713</td>\n",
       "      <td>0.0</td>\n",
       "    </tr>\n",
       "  </tbody>\n",
       "</table>\n",
       "</div>"
      ],
      "text/plain": [
       "                                      file file_type       cells        genes  \\\n",
       "0          random_500.random_2000.raw.h5ad     .h5ad  random_500  random_2000   \n",
       "1          random_500.random_2000.raw.loom     .loom  random_500  random_2000   \n",
       "2           random_500.random_2000.raw.tsv      .tsv  random_500  random_2000   \n",
       "3  random_500.random_2000.log1p_cp10k.h5ad     .h5ad  random_500  random_2000   \n",
       "4  random_500.random_2000.log1p_cp10k.loom     .loom  random_500  random_2000   \n",
       "\n",
       "  normalization  n_cells  n_genes  percent_int  percent_0  percent_less_than_0  \n",
       "0           raw      500     2000     0.995209   0.951713                  0.0  \n",
       "1           raw      500     2000     0.995209   0.951713                  0.0  \n",
       "2           raw     2000      500     0.995209   0.951713                  0.0  \n",
       "3   log1p_cp10k      500     2000     0.951713   0.951713                  0.0  \n",
       "4   log1p_cp10k      500     2000     0.951713   0.951713                  0.0  "
      ]
     },
     "execution_count": 4,
     "metadata": {},
     "output_type": "execute_result"
    }
   ],
   "source": [
    "# Load the file metadata\n",
    "file_metadata = pd.read_csv(os.path.join(in_dir, \"file_metadata.tsv\"), sep=\"\\t\")\n",
    "file_metadata.head()"
   ]
  },
  {
   "attachments": {},
   "cell_type": "markdown",
   "metadata": {},
   "source": [
    "# Extract runs of interest"
   ]
  },
  {
   "cell_type": "code",
   "execution_count": 5,
   "metadata": {},
   "outputs": [],
   "source": [
    "# Parameters for runs of interest\n",
    "genes = [\"0.05\"]  # could be [\"0.01\", \"0.05\", \"0.1\", \"0.2\"]\n",
    "cells = [\"balanced_genotype_microglia\"]\n",
    "normalizations = [\"raw\", \"cpm_rank\"]  # could be [\"raw\", \"log1p_cp10k\", \"pf_log1p_pf\", \"cpm_rank\"]\n",
    "file_types = [\".h5ad\"]  # could be [\".h5ad\", \".loom\", \".tsv\"], but selecting tsv for GENIE3\n",
    "out_dir = \"/cellar/users/aklie/projects/igvf/topic_grn_links/grn_inference/wgcna/results/Bridge_Satpathy\""
   ]
  },
  {
   "cell_type": "code",
   "execution_count": 6,
   "metadata": {},
   "outputs": [],
   "source": [
    "# Set up masks for the file metadata based on above\n",
    "genes_mask = file_metadata[\"genes\"].isin(genes)\n",
    "cells_mask = file_metadata[\"cells\"].isin(cells)\n",
    "normalizations_mask = file_metadata[\"normalization\"].isin(normalizations)\n",
    "file_types_mask = file_metadata[\"file_type\"].isin(file_types)"
   ]
  },
  {
   "cell_type": "code",
   "execution_count": 7,
   "metadata": {},
   "outputs": [
    {
     "name": "stderr",
     "output_type": "stream",
     "text": [
      "/tmp/ipykernel_905914/441207337.py:3: SettingWithCopyWarning: \n",
      "A value is trying to be set on a copy of a slice from a DataFrame.\n",
      "Try using .loc[row_indexer,col_indexer] = value instead\n",
      "\n",
      "See the caveats in the documentation: https://pandas.pydata.org/pandas-docs/stable/user_guide/indexing.html#returning-a-view-versus-a-copy\n",
      "  curr_metadata[\"in_file\"] = curr_metadata[\"cells\"] + \"/\" + curr_metadata[\"genes\"].astype(str) + \"/\" + curr_metadata[\"normalization\"] + \"/\" + curr_metadata[\"file\"]\n",
      "/tmp/ipykernel_905914/441207337.py:4: SettingWithCopyWarning: \n",
      "A value is trying to be set on a copy of a slice from a DataFrame.\n",
      "Try using .loc[row_indexer,col_indexer] = value instead\n",
      "\n",
      "See the caveats in the documentation: https://pandas.pydata.org/pandas-docs/stable/user_guide/indexing.html#returning-a-view-versus-a-copy\n",
      "  curr_metadata[\"in_file_path\"] = curr_metadata[\"in_file\"].apply(lambda x: os.path.join(in_dir, x))\n",
      "/tmp/ipykernel_905914/441207337.py:5: SettingWithCopyWarning: \n",
      "A value is trying to be set on a copy of a slice from a DataFrame.\n",
      "Try using .loc[row_indexer,col_indexer] = value instead\n",
      "\n",
      "See the caveats in the documentation: https://pandas.pydata.org/pandas-docs/stable/user_guide/indexing.html#returning-a-view-versus-a-copy\n",
      "  curr_metadata[\"genotype\"] = [i.split(\".\")[0].split('-')[-1] for i in curr_metadata[\"file\"]]\n",
      "/tmp/ipykernel_905914/441207337.py:6: SettingWithCopyWarning: \n",
      "A value is trying to be set on a copy of a slice from a DataFrame.\n",
      "Try using .loc[row_indexer,col_indexer] = value instead\n",
      "\n",
      "See the caveats in the documentation: https://pandas.pydata.org/pandas-docs/stable/user_guide/indexing.html#returning-a-view-versus-a-copy\n",
      "  curr_metadata[\"out_dir\"] = out_dir\n",
      "/tmp/ipykernel_905914/441207337.py:7: SettingWithCopyWarning: \n",
      "A value is trying to be set on a copy of a slice from a DataFrame.\n",
      "Try using .loc[row_indexer,col_indexer] = value instead\n",
      "\n",
      "See the caveats in the documentation: https://pandas.pydata.org/pandas-docs/stable/user_guide/indexing.html#returning-a-view-versus-a-copy\n",
      "  curr_metadata[\"out_dir_path\"] = curr_metadata[\"out_dir\"] + \"/\" + curr_metadata[\"cells\"] + \"/\" + curr_metadata[\"genes\"].astype(str) + \"/\" + curr_metadata[\"normalization\"] + \"/\" + curr_metadata[\"genotype\"]\n"
     ]
    },
    {
     "data": {
      "text/html": [
       "<div>\n",
       "<style scoped>\n",
       "    .dataframe tbody tr th:only-of-type {\n",
       "        vertical-align: middle;\n",
       "    }\n",
       "\n",
       "    .dataframe tbody tr th {\n",
       "        vertical-align: top;\n",
       "    }\n",
       "\n",
       "    .dataframe thead th {\n",
       "        text-align: right;\n",
       "    }\n",
       "</style>\n",
       "<table border=\"1\" class=\"dataframe\">\n",
       "  <thead>\n",
       "    <tr style=\"text-align: right;\">\n",
       "      <th></th>\n",
       "      <th>file</th>\n",
       "      <th>file_type</th>\n",
       "      <th>cells</th>\n",
       "      <th>genes</th>\n",
       "      <th>normalization</th>\n",
       "      <th>n_cells</th>\n",
       "      <th>n_genes</th>\n",
       "      <th>percent_int</th>\n",
       "      <th>percent_0</th>\n",
       "      <th>percent_less_than_0</th>\n",
       "      <th>in_file</th>\n",
       "      <th>in_file_path</th>\n",
       "      <th>genotype</th>\n",
       "      <th>out_dir</th>\n",
       "      <th>out_dir_path</th>\n",
       "    </tr>\n",
       "  </thead>\n",
       "  <tbody>\n",
       "    <tr>\n",
       "      <th>480</th>\n",
       "      <td>balanced_genotype_microglia-B6J.0.05.raw.h5ad</td>\n",
       "      <td>.h5ad</td>\n",
       "      <td>balanced_genotype_microglia</td>\n",
       "      <td>0.05</td>\n",
       "      <td>raw</td>\n",
       "      <td>1498</td>\n",
       "      <td>6277</td>\n",
       "      <td>0.987272</td>\n",
       "      <td>0.873955</td>\n",
       "      <td>0.000000</td>\n",
       "      <td>balanced_genotype_microglia/0.05/raw/balanced_...</td>\n",
       "      <td>/cellar/users/aklie/data/igvf/topic_grn_links/...</td>\n",
       "      <td>B6J</td>\n",
       "      <td>/cellar/users/aklie/projects/igvf/topic_grn_li...</td>\n",
       "      <td>/cellar/users/aklie/projects/igvf/topic_grn_li...</td>\n",
       "    </tr>\n",
       "    <tr>\n",
       "      <th>481</th>\n",
       "      <td>balanced_genotype_microglia-CASTJ.0.05.raw.h5ad</td>\n",
       "      <td>.h5ad</td>\n",
       "      <td>balanced_genotype_microglia</td>\n",
       "      <td>0.05</td>\n",
       "      <td>raw</td>\n",
       "      <td>1498</td>\n",
       "      <td>6277</td>\n",
       "      <td>0.982353</td>\n",
       "      <td>0.853771</td>\n",
       "      <td>0.000000</td>\n",
       "      <td>balanced_genotype_microglia/0.05/raw/balanced_...</td>\n",
       "      <td>/cellar/users/aklie/data/igvf/topic_grn_links/...</td>\n",
       "      <td>CASTJ</td>\n",
       "      <td>/cellar/users/aklie/projects/igvf/topic_grn_li...</td>\n",
       "      <td>/cellar/users/aklie/projects/igvf/topic_grn_li...</td>\n",
       "    </tr>\n",
       "    <tr>\n",
       "      <th>482</th>\n",
       "      <td>balanced_genotype_microglia-both.0.05.raw.h5ad</td>\n",
       "      <td>.h5ad</td>\n",
       "      <td>balanced_genotype_microglia</td>\n",
       "      <td>0.05</td>\n",
       "      <td>raw</td>\n",
       "      <td>2996</td>\n",
       "      <td>6277</td>\n",
       "      <td>0.984812</td>\n",
       "      <td>0.863863</td>\n",
       "      <td>0.000000</td>\n",
       "      <td>balanced_genotype_microglia/0.05/raw/balanced_...</td>\n",
       "      <td>/cellar/users/aklie/data/igvf/topic_grn_links/...</td>\n",
       "      <td>both</td>\n",
       "      <td>/cellar/users/aklie/projects/igvf/topic_grn_li...</td>\n",
       "      <td>/cellar/users/aklie/projects/igvf/topic_grn_li...</td>\n",
       "    </tr>\n",
       "    <tr>\n",
       "      <th>507</th>\n",
       "      <td>balanced_genotype_microglia-B6J.0.05.cpm_rank....</td>\n",
       "      <td>.h5ad</td>\n",
       "      <td>balanced_genotype_microglia</td>\n",
       "      <td>0.05</td>\n",
       "      <td>cpm_rank</td>\n",
       "      <td>1498</td>\n",
       "      <td>6277</td>\n",
       "      <td>0.010634</td>\n",
       "      <td>0.002413</td>\n",
       "      <td>0.498810</td>\n",
       "      <td>balanced_genotype_microglia/0.05/cpm_rank/bala...</td>\n",
       "      <td>/cellar/users/aklie/data/igvf/topic_grn_links/...</td>\n",
       "      <td>B6J</td>\n",
       "      <td>/cellar/users/aklie/projects/igvf/topic_grn_li...</td>\n",
       "      <td>/cellar/users/aklie/projects/igvf/topic_grn_li...</td>\n",
       "    </tr>\n",
       "    <tr>\n",
       "      <th>508</th>\n",
       "      <td>balanced_genotype_microglia-CASTJ.0.05.cpm_ran...</td>\n",
       "      <td>.h5ad</td>\n",
       "      <td>balanced_genotype_microglia</td>\n",
       "      <td>0.05</td>\n",
       "      <td>cpm_rank</td>\n",
       "      <td>1498</td>\n",
       "      <td>6277</td>\n",
       "      <td>0.010560</td>\n",
       "      <td>0.002531</td>\n",
       "      <td>0.498743</td>\n",
       "      <td>balanced_genotype_microglia/0.05/cpm_rank/bala...</td>\n",
       "      <td>/cellar/users/aklie/data/igvf/topic_grn_links/...</td>\n",
       "      <td>CASTJ</td>\n",
       "      <td>/cellar/users/aklie/projects/igvf/topic_grn_li...</td>\n",
       "      <td>/cellar/users/aklie/projects/igvf/topic_grn_li...</td>\n",
       "    </tr>\n",
       "    <tr>\n",
       "      <th>509</th>\n",
       "      <td>balanced_genotype_microglia-both.0.05.cpm_rank...</td>\n",
       "      <td>.h5ad</td>\n",
       "      <td>balanced_genotype_microglia</td>\n",
       "      <td>0.05</td>\n",
       "      <td>cpm_rank</td>\n",
       "      <td>2996</td>\n",
       "      <td>6277</td>\n",
       "      <td>0.010597</td>\n",
       "      <td>0.002472</td>\n",
       "      <td>0.498777</td>\n",
       "      <td>balanced_genotype_microglia/0.05/cpm_rank/bala...</td>\n",
       "      <td>/cellar/users/aklie/data/igvf/topic_grn_links/...</td>\n",
       "      <td>both</td>\n",
       "      <td>/cellar/users/aklie/projects/igvf/topic_grn_li...</td>\n",
       "      <td>/cellar/users/aklie/projects/igvf/topic_grn_li...</td>\n",
       "    </tr>\n",
       "  </tbody>\n",
       "</table>\n",
       "</div>"
      ],
      "text/plain": [
       "                                                  file file_type  \\\n",
       "480      balanced_genotype_microglia-B6J.0.05.raw.h5ad     .h5ad   \n",
       "481    balanced_genotype_microglia-CASTJ.0.05.raw.h5ad     .h5ad   \n",
       "482     balanced_genotype_microglia-both.0.05.raw.h5ad     .h5ad   \n",
       "507  balanced_genotype_microglia-B6J.0.05.cpm_rank....     .h5ad   \n",
       "508  balanced_genotype_microglia-CASTJ.0.05.cpm_ran...     .h5ad   \n",
       "509  balanced_genotype_microglia-both.0.05.cpm_rank...     .h5ad   \n",
       "\n",
       "                           cells genes normalization  n_cells  n_genes  \\\n",
       "480  balanced_genotype_microglia  0.05           raw     1498     6277   \n",
       "481  balanced_genotype_microglia  0.05           raw     1498     6277   \n",
       "482  balanced_genotype_microglia  0.05           raw     2996     6277   \n",
       "507  balanced_genotype_microglia  0.05      cpm_rank     1498     6277   \n",
       "508  balanced_genotype_microglia  0.05      cpm_rank     1498     6277   \n",
       "509  balanced_genotype_microglia  0.05      cpm_rank     2996     6277   \n",
       "\n",
       "     percent_int  percent_0  percent_less_than_0  \\\n",
       "480     0.987272   0.873955             0.000000   \n",
       "481     0.982353   0.853771             0.000000   \n",
       "482     0.984812   0.863863             0.000000   \n",
       "507     0.010634   0.002413             0.498810   \n",
       "508     0.010560   0.002531             0.498743   \n",
       "509     0.010597   0.002472             0.498777   \n",
       "\n",
       "                                               in_file  \\\n",
       "480  balanced_genotype_microglia/0.05/raw/balanced_...   \n",
       "481  balanced_genotype_microglia/0.05/raw/balanced_...   \n",
       "482  balanced_genotype_microglia/0.05/raw/balanced_...   \n",
       "507  balanced_genotype_microglia/0.05/cpm_rank/bala...   \n",
       "508  balanced_genotype_microglia/0.05/cpm_rank/bala...   \n",
       "509  balanced_genotype_microglia/0.05/cpm_rank/bala...   \n",
       "\n",
       "                                          in_file_path genotype  \\\n",
       "480  /cellar/users/aklie/data/igvf/topic_grn_links/...      B6J   \n",
       "481  /cellar/users/aklie/data/igvf/topic_grn_links/...    CASTJ   \n",
       "482  /cellar/users/aklie/data/igvf/topic_grn_links/...     both   \n",
       "507  /cellar/users/aklie/data/igvf/topic_grn_links/...      B6J   \n",
       "508  /cellar/users/aklie/data/igvf/topic_grn_links/...    CASTJ   \n",
       "509  /cellar/users/aklie/data/igvf/topic_grn_links/...     both   \n",
       "\n",
       "                                               out_dir  \\\n",
       "480  /cellar/users/aklie/projects/igvf/topic_grn_li...   \n",
       "481  /cellar/users/aklie/projects/igvf/topic_grn_li...   \n",
       "482  /cellar/users/aklie/projects/igvf/topic_grn_li...   \n",
       "507  /cellar/users/aklie/projects/igvf/topic_grn_li...   \n",
       "508  /cellar/users/aklie/projects/igvf/topic_grn_li...   \n",
       "509  /cellar/users/aklie/projects/igvf/topic_grn_li...   \n",
       "\n",
       "                                          out_dir_path  \n",
       "480  /cellar/users/aklie/projects/igvf/topic_grn_li...  \n",
       "481  /cellar/users/aklie/projects/igvf/topic_grn_li...  \n",
       "482  /cellar/users/aklie/projects/igvf/topic_grn_li...  \n",
       "507  /cellar/users/aklie/projects/igvf/topic_grn_li...  \n",
       "508  /cellar/users/aklie/projects/igvf/topic_grn_li...  \n",
       "509  /cellar/users/aklie/projects/igvf/topic_grn_li...  "
      ]
     },
     "execution_count": 7,
     "metadata": {},
     "output_type": "execute_result"
    }
   ],
   "source": [
    "# Extract the files to run\n",
    "curr_metadata = file_metadata[genes_mask & cells_mask & normalizations_mask & file_types_mask]\n",
    "curr_metadata[\"in_file\"] = curr_metadata[\"cells\"] + \"/\" + curr_metadata[\"genes\"].astype(str) + \"/\" + curr_metadata[\"normalization\"] + \"/\" + curr_metadata[\"file\"]\n",
    "curr_metadata[\"in_file_path\"] = curr_metadata[\"in_file\"].apply(lambda x: os.path.join(in_dir, x))\n",
    "curr_metadata[\"genotype\"] = [i.split(\".\")[0].split('-')[-1] for i in curr_metadata[\"file\"]] \n",
    "curr_metadata[\"out_dir\"] = out_dir\n",
    "curr_metadata[\"out_dir_path\"] = curr_metadata[\"out_dir\"] + \"/\" + curr_metadata[\"cells\"] + \"/\" + curr_metadata[\"genes\"].astype(str) + \"/\" + curr_metadata[\"normalization\"] + \"/\" + curr_metadata[\"genotype\"]\n",
    "curr_metadata"
   ]
  },
  {
   "cell_type": "code",
   "execution_count": 8,
   "metadata": {},
   "outputs": [],
   "source": [
    "time_id = time.strftime(\"%Y%m%d-%H%M%S\")\n",
    "run_id =  random.getrandbits(32)\n",
    "run = str(run_id) + \"_\" + time_id"
   ]
  },
  {
   "cell_type": "code",
   "execution_count": 9,
   "metadata": {},
   "outputs": [
    {
     "name": "stderr",
     "output_type": "stream",
     "text": [
      "/tmp/ipykernel_905914/712451517.py:2: SettingWithCopyWarning: \n",
      "A value is trying to be set on a copy of a slice from a DataFrame.\n",
      "Try using .loc[row_indexer,col_indexer] = value instead\n",
      "\n",
      "See the caveats in the documentation: https://pandas.pydata.org/pandas-docs/stable/user_guide/indexing.html#returning-a-view-versus-a-copy\n",
      "  curr_run[\"tf_list\"] = \"/cellar/users/aklie/opt/igvf-ucsd/genie3_pipeline/data/tf_lists/allTFs_mm.txt\"\n",
      "/tmp/ipykernel_905914/712451517.py:3: SettingWithCopyWarning: \n",
      "A value is trying to be set on a copy of a slice from a DataFrame.\n",
      "Try using .loc[row_indexer,col_indexer] = value instead\n",
      "\n",
      "See the caveats in the documentation: https://pandas.pydata.org/pandas-docs/stable/user_guide/indexing.html#returning-a-view-versus-a-copy\n",
      "  curr_run[\"network_type\"] = \"signed\"\n",
      "/tmp/ipykernel_905914/712451517.py:4: SettingWithCopyWarning: \n",
      "A value is trying to be set on a copy of a slice from a DataFrame.\n",
      "Try using .loc[row_indexer,col_indexer] = value instead\n",
      "\n",
      "See the caveats in the documentation: https://pandas.pydata.org/pandas-docs/stable/user_guide/indexing.html#returning-a-view-versus-a-copy\n",
      "  curr_run[\"layer\"] = \"normalized_counts\"\n",
      "/tmp/ipykernel_905914/712451517.py:5: SettingWithCopyWarning: \n",
      "A value is trying to be set on a copy of a slice from a DataFrame.\n",
      "Try using .loc[row_indexer,col_indexer] = value instead\n",
      "\n",
      "See the caveats in the documentation: https://pandas.pydata.org/pandas-docs/stable/user_guide/indexing.html#returning-a-view-versus-a-copy\n",
      "  curr_run[\"run_id\"] = run\n"
     ]
    }
   ],
   "source": [
    "curr_run = curr_metadata[[\"in_file_path\", \"out_dir_path\"]]\n",
    "curr_run[\"tf_list\"] = \"/cellar/users/aklie/opt/igvf-ucsd/genie3_pipeline/data/tf_lists/allTFs_mm.txt\"\n",
    "curr_run[\"network_type\"] = \"signed\"\n",
    "curr_run[\"layer\"] = \"normalized_counts\"\n",
    "curr_run[\"run_id\"] = run\n",
    "curr_run.to_csv(f\"{run}_paths.csv\", index=False)"
   ]
  },
  {
   "attachments": {},
   "cell_type": "markdown",
   "metadata": {},
   "source": [
    "# DONE"
   ]
  },
  {
   "attachments": {},
   "cell_type": "markdown",
   "metadata": {},
   "source": [
    "---"
   ]
  },
  {
   "attachments": {},
   "cell_type": "markdown",
   "metadata": {},
   "source": [
    "# Scratch"
   ]
  },
  {
   "attachments": {},
   "cell_type": "markdown",
   "metadata": {},
   "source": [
    "## Create Seurat readable files for these (deprecated thanks to PyWGCNA)"
   ]
  },
  {
   "cell_type": "code",
   "execution_count": 31,
   "metadata": {},
   "outputs": [],
   "source": [
    "from scipy import io\n",
    "def write_10x(adata, dirname, layer=None, use_raw=False):\n",
    "    \"\"\"Write AnnData object to 10x CellRanger v3 output\n",
    "\n",
    "    Parameters\n",
    "    ----------\n",
    "    adata : AnnData\n",
    "        The annotated data matrix of shape `n_obs` x `n_vars`.\n",
    "        Rows correspond to cells and columns to genes.\n",
    "    filename : str\n",
    "        Filename to save to\n",
    "    layer : str\n",
    "        Layer to save instead of `X`. If `None`, `X` is saved.\n",
    "\n",
    "    Returns\n",
    "    -------\n",
    "    None\n",
    "    \"\"\"\n",
    "    if use_raw:\n",
    "        adata = adata.raw.to_adata()  #only if adata has RAW saved and thats what you want!!\n",
    "    if layer is not None:\n",
    "        X = adata.layers[layer].T\n",
    "    else:\n",
    "        X = adata.X.T\n",
    "    with open(os.path.join(dirname, 'barcodes.tsv'), 'w') as f:\n",
    "        for item in adata.obs_names:\n",
    "            f.write(item + '\\n')\n",
    "    with open(os.path.join(dirname, 'features.tsv'), 'w') as f:\n",
    "        for item in ['\\t'.join([x, x,'Gene Expression']) for x in adata.var_names]:\n",
    "            f.write(item + '\\n')\n",
    "    io.mmwrite(os.path.join(dirname, 'matrix.mtx'), X)\n",
    "    adata.obs.to_csv(os.path.join(dirname, 'metadata.csv'))"
   ]
  },
  {
   "cell_type": "code",
   "execution_count": 33,
   "metadata": {},
   "outputs": [
    {
     "name": "stdout",
     "output_type": "stream",
     "text": [
      "/cellar/users/aklie/data/igvf/topic_grn_links/subsets/for_regulon_inference/Bridge_Satpathy/29Aug23/3744376661_20230829-175127/balanced_genotype_microglia/0.05/raw/balanced_genotype_microglia-B6J.0.05.raw.h5ad\n",
      "/cellar/users/aklie/projects/igvf/topic_grn_links/grn_inference/hdwgcna/results/Bridge_Satpathy/balanced_genotype_microglia/0.05/raw/B6J\n",
      "Done with /cellar/users/aklie/data/igvf/topic_grn_links/subsets/for_regulon_inference/Bridge_Satpathy/29Aug23/3744376661_20230829-175127/balanced_genotype_microglia/0.05/raw/balanced_genotype_microglia-B6J.0.05.raw.h5ad\n",
      "/cellar/users/aklie/data/igvf/topic_grn_links/subsets/for_regulon_inference/Bridge_Satpathy/29Aug23/3744376661_20230829-175127/balanced_genotype_microglia/0.05/raw/balanced_genotype_microglia-CASTJ.0.05.raw.h5ad\n",
      "/cellar/users/aklie/projects/igvf/topic_grn_links/grn_inference/hdwgcna/results/Bridge_Satpathy/balanced_genotype_microglia/0.05/raw/CASTJ\n",
      "Done with /cellar/users/aklie/data/igvf/topic_grn_links/subsets/for_regulon_inference/Bridge_Satpathy/29Aug23/3744376661_20230829-175127/balanced_genotype_microglia/0.05/raw/balanced_genotype_microglia-CASTJ.0.05.raw.h5ad\n",
      "/cellar/users/aklie/data/igvf/topic_grn_links/subsets/for_regulon_inference/Bridge_Satpathy/29Aug23/3744376661_20230829-175127/balanced_genotype_microglia/0.05/raw/balanced_genotype_microglia-both.0.05.raw.h5ad\n",
      "/cellar/users/aklie/projects/igvf/topic_grn_links/grn_inference/hdwgcna/results/Bridge_Satpathy/balanced_genotype_microglia/0.05/raw/both\n",
      "Done with /cellar/users/aklie/data/igvf/topic_grn_links/subsets/for_regulon_inference/Bridge_Satpathy/29Aug23/3744376661_20230829-175127/balanced_genotype_microglia/0.05/raw/balanced_genotype_microglia-both.0.05.raw.h5ad\n",
      "/cellar/users/aklie/data/igvf/topic_grn_links/subsets/for_regulon_inference/Bridge_Satpathy/29Aug23/3744376661_20230829-175127/balanced_genotype_microglia/0.05/log1p_cp10k/balanced_genotype_microglia-B6J.0.05.log1p_cp10k.h5ad\n",
      "/cellar/users/aklie/projects/igvf/topic_grn_links/grn_inference/hdwgcna/results/Bridge_Satpathy/balanced_genotype_microglia/0.05/log1p_cp10k/B6J\n",
      "Done with /cellar/users/aklie/data/igvf/topic_grn_links/subsets/for_regulon_inference/Bridge_Satpathy/29Aug23/3744376661_20230829-175127/balanced_genotype_microglia/0.05/log1p_cp10k/balanced_genotype_microglia-B6J.0.05.log1p_cp10k.h5ad\n",
      "/cellar/users/aklie/data/igvf/topic_grn_links/subsets/for_regulon_inference/Bridge_Satpathy/29Aug23/3744376661_20230829-175127/balanced_genotype_microglia/0.05/log1p_cp10k/balanced_genotype_microglia-CASTJ.0.05.log1p_cp10k.h5ad\n",
      "/cellar/users/aklie/projects/igvf/topic_grn_links/grn_inference/hdwgcna/results/Bridge_Satpathy/balanced_genotype_microglia/0.05/log1p_cp10k/CASTJ\n",
      "Done with /cellar/users/aklie/data/igvf/topic_grn_links/subsets/for_regulon_inference/Bridge_Satpathy/29Aug23/3744376661_20230829-175127/balanced_genotype_microglia/0.05/log1p_cp10k/balanced_genotype_microglia-CASTJ.0.05.log1p_cp10k.h5ad\n",
      "/cellar/users/aklie/data/igvf/topic_grn_links/subsets/for_regulon_inference/Bridge_Satpathy/29Aug23/3744376661_20230829-175127/balanced_genotype_microglia/0.05/log1p_cp10k/balanced_genotype_microglia-both.0.05.log1p_cp10k.h5ad\n",
      "/cellar/users/aklie/projects/igvf/topic_grn_links/grn_inference/hdwgcna/results/Bridge_Satpathy/balanced_genotype_microglia/0.05/log1p_cp10k/both\n",
      "Done with /cellar/users/aklie/data/igvf/topic_grn_links/subsets/for_regulon_inference/Bridge_Satpathy/29Aug23/3744376661_20230829-175127/balanced_genotype_microglia/0.05/log1p_cp10k/balanced_genotype_microglia-both.0.05.log1p_cp10k.h5ad\n",
      "/cellar/users/aklie/data/igvf/topic_grn_links/subsets/for_regulon_inference/Bridge_Satpathy/29Aug23/3744376661_20230829-175127/balanced_genotype_microglia/0.05/pf_log1p_pf/balanced_genotype_microglia-B6J.0.05.pf_log1p_pf.h5ad\n",
      "/cellar/users/aklie/projects/igvf/topic_grn_links/grn_inference/hdwgcna/results/Bridge_Satpathy/balanced_genotype_microglia/0.05/pf_log1p_pf/B6J\n",
      "Done with /cellar/users/aklie/data/igvf/topic_grn_links/subsets/for_regulon_inference/Bridge_Satpathy/29Aug23/3744376661_20230829-175127/balanced_genotype_microglia/0.05/pf_log1p_pf/balanced_genotype_microglia-B6J.0.05.pf_log1p_pf.h5ad\n",
      "/cellar/users/aklie/data/igvf/topic_grn_links/subsets/for_regulon_inference/Bridge_Satpathy/29Aug23/3744376661_20230829-175127/balanced_genotype_microglia/0.05/pf_log1p_pf/balanced_genotype_microglia-CASTJ.0.05.pf_log1p_pf.h5ad\n",
      "/cellar/users/aklie/projects/igvf/topic_grn_links/grn_inference/hdwgcna/results/Bridge_Satpathy/balanced_genotype_microglia/0.05/pf_log1p_pf/CASTJ\n",
      "Done with /cellar/users/aklie/data/igvf/topic_grn_links/subsets/for_regulon_inference/Bridge_Satpathy/29Aug23/3744376661_20230829-175127/balanced_genotype_microglia/0.05/pf_log1p_pf/balanced_genotype_microglia-CASTJ.0.05.pf_log1p_pf.h5ad\n",
      "/cellar/users/aklie/data/igvf/topic_grn_links/subsets/for_regulon_inference/Bridge_Satpathy/29Aug23/3744376661_20230829-175127/balanced_genotype_microglia/0.05/pf_log1p_pf/balanced_genotype_microglia-both.0.05.pf_log1p_pf.h5ad\n",
      "/cellar/users/aklie/projects/igvf/topic_grn_links/grn_inference/hdwgcna/results/Bridge_Satpathy/balanced_genotype_microglia/0.05/pf_log1p_pf/both\n",
      "Done with /cellar/users/aklie/data/igvf/topic_grn_links/subsets/for_regulon_inference/Bridge_Satpathy/29Aug23/3744376661_20230829-175127/balanced_genotype_microglia/0.05/pf_log1p_pf/balanced_genotype_microglia-both.0.05.pf_log1p_pf.h5ad\n"
     ]
    }
   ],
   "source": [
    "for row in curr_metadata.iterrows():\n",
    "    print(row[1][\"in_file_path\"])\n",
    "    print(row[1][\"out_dir_path\"])\n",
    "    ad = sc.read_h5ad(row[1][\"in_file_path\"])\n",
    "    make_dirs(row[1][\"out_dir_path\"])\n",
    "    write_10x(ad, row[1][\"out_dir_path\"], layer=\"normalized_counts\")\n",
    "    os.system(\"gzip -r \" + row[1][\"out_dir_path\"])\n",
    "    print(\"Done with \" + row[1][\"in_file_path\"])"
   ]
  },
  {
   "cell_type": "code",
   "execution_count": 27,
   "metadata": {},
   "outputs": [
    {
     "data": {
      "text/plain": [
       "matrix([[3. , 0. , 0. , 0. , 0. , 2. , 1. , 0. , 0. , 0. ],\n",
       "        [0. , 0. , 0. , 0. , 0. , 0. , 0. , 0. , 0. , 0. ],\n",
       "        [0. , 0. , 0.5, 0.5, 0. , 0. , 0. , 0. , 0. , 0. ],\n",
       "        [1. , 0. , 0. , 0. , 2. , 0. , 0. , 0. , 0. , 0. ],\n",
       "        [0. , 0. , 0. , 0. , 0. , 0. , 0. , 0. , 0. , 0. ],\n",
       "        [0. , 0. , 0. , 0. , 0. , 0. , 0. , 0. , 0. , 0. ],\n",
       "        [1. , 0. , 0. , 0. , 0. , 0. , 0. , 0. , 0. , 1. ],\n",
       "        [1. , 0. , 0. , 0. , 0. , 0. , 0. , 0. , 0. , 1. ],\n",
       "        [0. , 0. , 0. , 0. , 0. , 0. , 0. , 0. , 0. , 0. ],\n",
       "        [0. , 0. , 0. , 0. , 0. , 0. , 0. , 0. , 0. , 0. ]], dtype=float32)"
      ]
     },
     "execution_count": 27,
     "metadata": {},
     "output_type": "execute_result"
    }
   ],
   "source": [
    "sc.read_h5ad(\"/cellar/users/aklie/data/igvf/topic_grn_links/subsets/for_regulon_inference/Bridge_Satpathy/29Aug23/3744376661_20230829-175127/balanced_genotype_microglia/0.05/raw/balanced_genotype_microglia-B6J.0.05.raw.h5ad\").layers[\"normalized_counts\"][:10, :10].todense()"
   ]
  },
  {
   "cell_type": "code",
   "execution_count": 29,
   "metadata": {},
   "outputs": [
    {
     "data": {
      "text/plain": [
       "array([[0.561957  , 0.        , 0.        , 0.        , 0.        ,\n",
       "        0.4125561 , 0.23110768, 0.        , 0.        , 0.        ],\n",
       "       [0.        , 0.        , 0.        , 0.        , 0.        ,\n",
       "        0.        , 0.        , 0.        , 0.        , 0.        ],\n",
       "       [0.        , 0.        , 0.87245625, 0.87245625, 0.        ,\n",
       "        0.        , 0.        , 0.        , 0.        , 0.        ],\n",
       "       [1.7418704 , 0.        , 0.        , 0.        , 2.4305923 ,\n",
       "        0.        , 0.        , 0.        , 0.        , 0.        ],\n",
       "       [0.        , 0.        , 0.        , 0.        , 0.        ,\n",
       "        0.        , 0.        , 0.        , 0.        , 0.        ],\n",
       "       [0.        , 0.        , 0.        , 0.        , 0.        ,\n",
       "        0.        , 0.        , 0.        , 0.        , 0.        ],\n",
       "       [1.0639343 , 0.        , 0.        , 0.        , 0.        ,\n",
       "        0.        , 0.        , 0.        , 0.        , 1.0639343 ],\n",
       "       [0.88486373, 0.        , 0.        , 0.        , 0.        ,\n",
       "        0.        , 0.        , 0.        , 0.        , 0.88486373],\n",
       "       [0.        , 0.        , 0.        , 0.        , 0.        ,\n",
       "        0.        , 0.        , 0.        , 0.        , 0.        ],\n",
       "       [0.        , 0.        , 0.        , 0.        , 0.        ,\n",
       "        0.        , 0.        , 0.        , 0.        , 0.        ]],\n",
       "      dtype=float32)"
      ]
     },
     "execution_count": 29,
     "metadata": {},
     "output_type": "execute_result"
    }
   ],
   "source": [
    "sc.read_h5ad(\"/cellar/users/aklie/data/igvf/topic_grn_links/subsets/for_regulon_inference/Bridge_Satpathy/29Aug23/3744376661_20230829-175127/balanced_genotype_microglia/0.05/pf_log1p_pf/balanced_genotype_microglia-B6J.0.05.pf_log1p_pf.h5ad\").layers[\"normalized_counts\"][:10, :10]"
   ]
  }
 ],
 "metadata": {
  "kernelspec": {
   "display_name": "Python 3.8 scverse-lite",
   "language": "python",
   "name": "scverse-lite-py38"
  },
  "language_info": {
   "codemirror_mode": {
    "name": "ipython",
    "version": 3
   },
   "file_extension": ".py",
   "mimetype": "text/x-python",
   "name": "python",
   "nbconvert_exporter": "python",
   "pygments_lexer": "ipython3",
   "version": "3.8.13"
  },
  "orig_nbformat": 4
 },
 "nbformat": 4,
 "nbformat_minor": 2
}
