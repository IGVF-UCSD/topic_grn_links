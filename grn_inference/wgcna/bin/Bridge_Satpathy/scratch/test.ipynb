{
 "cells": [
  {
   "cell_type": "code",
   "execution_count": 1,
   "metadata": {
    "vscode": {
     "languageId": "r"
    }
   },
   "outputs": [
    {
     "name": "stderr",
     "output_type": "stream",
     "text": [
      "The legacy packages maptools, rgdal, and rgeos, underpinning the sp package,\n",
      "which was just loaded, will retire in October 2023.\n",
      "Please refer to R-spatial evolution reports for details, especially\n",
      "https://r-spatial.org/r/2023/05/15/evolution4.html.\n",
      "It may be desirable to make the sf package available;\n",
      "package maintainers should consider adding sf to Suggests:.\n",
      "The sp package is now running under evolution status 2\n",
      "     (status 2 uses the sf package in place of rgdal)\n",
      "\n",
      "Registered S3 method overwritten by 'SeuratDisk':\n",
      "  method            from  \n",
      "  as.sparse.H5Group Seurat\n",
      "\n",
      "Attaching SeuratObject\n",
      "\n",
      "── \u001b[1mAttaching core tidyverse packages\u001b[22m ──────────────────────── tidyverse 2.0.0 ──\n",
      "\u001b[32m✔\u001b[39m \u001b[34mdplyr    \u001b[39m 1.1.2     \u001b[32m✔\u001b[39m \u001b[34mreadr    \u001b[39m 2.1.4\n",
      "\u001b[32m✔\u001b[39m \u001b[34mforcats  \u001b[39m 1.0.0     \u001b[32m✔\u001b[39m \u001b[34mstringr  \u001b[39m 1.5.0\n",
      "\u001b[32m✔\u001b[39m \u001b[34mggplot2  \u001b[39m 3.4.2     \u001b[32m✔\u001b[39m \u001b[34mtibble   \u001b[39m 3.2.1\n",
      "\u001b[32m✔\u001b[39m \u001b[34mlubridate\u001b[39m 1.9.2     \u001b[32m✔\u001b[39m \u001b[34mtidyr    \u001b[39m 1.3.0\n",
      "\u001b[32m✔\u001b[39m \u001b[34mpurrr    \u001b[39m 1.0.2     \n",
      "── \u001b[1mConflicts\u001b[22m ────────────────────────────────────────── tidyverse_conflicts() ──\n",
      "\u001b[31m✖\u001b[39m \u001b[34mdplyr\u001b[39m::\u001b[32mfilter()\u001b[39m masks \u001b[34mstats\u001b[39m::filter()\n",
      "\u001b[31m✖\u001b[39m \u001b[34mdplyr\u001b[39m::\u001b[32mlag()\u001b[39m    masks \u001b[34mstats\u001b[39m::lag()\n",
      "\u001b[31m✖\u001b[39m \u001b[34mpurrr\u001b[39m::\u001b[32mreduce()\u001b[39m masks \u001b[34mSignac\u001b[39m::reduce()\n",
      "\u001b[36mℹ\u001b[39m Use the conflicted package (\u001b[3m\u001b[34m<http://conflicted.r-lib.org/>\u001b[39m\u001b[23m) to force all conflicts to become errors\n",
      "\n",
      "Attaching package: ‘cowplot’\n",
      "\n",
      "\n",
      "The following object is masked from ‘package:lubridate’:\n",
      "\n",
      "    stamp\n",
      "\n",
      "\n",
      "\n",
      "Attaching package: ‘patchwork’\n",
      "\n",
      "\n",
      "The following object is masked from ‘package:cowplot’:\n",
      "\n",
      "    align_plots\n",
      "\n",
      "\n",
      "Loading required package: dynamicTreeCut\n",
      "\n",
      "Loading required package: fastcluster\n",
      "\n",
      "\n",
      "Attaching package: ‘fastcluster’\n",
      "\n",
      "\n",
      "The following object is masked from ‘package:stats’:\n",
      "\n",
      "    hclust\n",
      "\n",
      "\n",
      "\n",
      "\n",
      "\n",
      "Attaching package: ‘WGCNA’\n",
      "\n",
      "\n",
      "The following object is masked from ‘package:stats’:\n",
      "\n",
      "    cor\n",
      "\n",
      "\n"
     ]
    }
   ],
   "source": [
    "# Conversion libraries and Seurat\n",
    "library(SeuratDisk)\n",
    "library(SeuratData)\n",
    "library(Seurat)\n",
    "library(Signac)\n",
    "\n",
    "# plotting and data science packages\n",
    "library(tidyverse)\n",
    "library(cowplot)\n",
    "library(patchwork)\n",
    "\n",
    "# co-expression network analysis packages:\n",
    "library(WGCNA)\n",
    "library(hdWGCNA)\n",
    "\n",
    "# using the cowplot theme for ggplot\n",
    "theme_set(theme_cowplot())\n",
    "\n",
    "# set random seed for reproducibility\n",
    "set.seed(12345)"
   ]
  },
  {
   "cell_type": "code",
   "execution_count": 23,
   "metadata": {
    "vscode": {
     "languageId": "r"
    }
   },
   "outputs": [],
   "source": [
    "raw_path <- \"/cellar/users/aklie/projects/igvf/topic_grn_links/grn_inference/hdwgcna/results/Bridge_Satpathy/balanced_genotype_microglia/0.05/raw/both\"\n",
    "normalized_path <- \"/cellar/users/aklie/projects/igvf/topic_grn_links/grn_inference/hdwgcna/results/Bridge_Satpathy/balanced_genotype_microglia/0.05/log1p_cp10k/both\""
   ]
  },
  {
   "cell_type": "code",
   "execution_count": 30,
   "metadata": {
    "vscode": {
     "languageId": "r"
    }
   },
   "outputs": [],
   "source": [
    "cnts_mtx <- Read10X(data.dir = raw_path)\n",
    "normalized_mtx <- Read10X(data.dir = normalized_path)\n",
    "metadata <- read.csv(file.path(dir_path, \"metadata.csv.gz\"), row.names = 1)"
   ]
  },
  {
   "cell_type": "code",
   "execution_count": 31,
   "metadata": {
    "vscode": {
     "languageId": "r"
    }
   },
   "outputs": [
    {
     "data": {
      "text/plain": [
       "An object of class Seurat \n",
       "6277 features across 2996 samples within 1 assay \n",
       "Active assay: RNA (6277 features, 0 variable features)"
      ]
     },
     "metadata": {},
     "output_type": "display_data"
    }
   ],
   "source": [
    "# Create the Seurat object from the raw counts\n",
    "seurat_obj <- CreateSeuratObject(cnts_mtx, meta.data = metadata)\n",
    "seurat_obj"
   ]
  },
  {
   "cell_type": "code",
   "execution_count": 32,
   "metadata": {
    "vscode": {
     "languageId": "r"
    }
   },
   "outputs": [],
   "source": [
    "# Add the normalized counts to the \"data\" slot of the \"RNA\" assay\n",
    "seurat_obj[[\"RNA\"]]@data <- normalized_mtx"
   ]
  },
  {
   "cell_type": "code",
   "execution_count": 33,
   "metadata": {
    "vscode": {
     "languageId": "r"
    }
   },
   "outputs": [
    {
     "name": "stderr",
     "output_type": "stream",
     "text": [
      "Centering and scaling data matrix\n",
      "\n",
      "PC_ 1 \n",
      "Positive:  Gm3005, Gm3252, Gm3667, Gm3164, Rpl15, Ugt1a7c, Gm3468, Gm3373, Gm5796, Pecam1 \n",
      "\t   Gm3194, Gm3500, Gm14044, Gm8108, Gm3020, Gm10409, Stab1, Gm26650, Hpgd, ENSMUSG00000120942 \n",
      "\t   Gm35154, 9930111J21Rik2, Trim30a, 2610042L04Rik, Gal3st4, Gm26893, Gm3558, Gm3752, Apobec1, Gm26552 \n",
      "Negative:  Meg3, Fgf14, Csmd1, Adgrb3, Dlgap2, Lrrc7, Snhg11, Nrxn3, Erc2, Nrg3 \n",
      "\t   Nlgn1, Kcnd2, Nrg1, Opcml, Tenm2, Fgf12, Asic2, Cadm2, Grm7, Macrod2 \n",
      "\t   Adgrl3, Rims2, Negr1, Mdga2, Anks1b, Rims1, Plcb1, Grin2a, Ctnna2, Gabrb3 \n",
      "PC_ 2 \n",
      "Positive:  Rarb, Rgs9, Dach1, Adcy5, Gm10754, Unc13c, Kcnab1, Ryr3, Spock3, Dgkb \n",
      "\t   Gng7, Gnal, Srgap1, Pard3, Meis2, Pde1c, Adamts3, Pde7b, Slc4a4, Stox2 \n",
      "\t   Rbms3, A330015K06Rik, Dcc, Bcl11b, Igsf11, Kirrel3, Kctd8, Reln, Inf2, Sv2c \n",
      "Negative:  Car10, Kcnt2, Pdzrn3, Satb2, Adcy2, Kcnj3, Fhod3, Cdh12, Cadps2, Rorb \n",
      "\t   Kcnj6, Clstn2, Dpp10, Zmat4, Mlip, A830082K12Rik, Miat, Trhde, Unc5d, Mical2 \n",
      "\t   Ralyl, Dscam, Rgs6, Sidt1, Khdrbs3, Chrm3, 4930578G10Rik, Sel1l3, Slc17a7, Kcnh5 \n",
      "PC_ 3 \n",
      "Positive:  St18, Mbp, Zfp536, Gm16168, Edil3, Plp1, Pde4b, Sox2ot, Ano4, Tmeff2 \n",
      "\t   Frmd5, Mobp, Slc24a2, Pex5l, Sytl2, Enpp2, Erbb4, Mast4, Rnf220, Magi2 \n",
      "\t   Pcdh9, Cdh20, Neat1, Map7, St6galnac3, Car2, Phlpp1, Npas3, Prr5l, Tubb4a \n",
      "Negative:  Rarb, Rgs9, Gm10754, Dach1, Ryr3, Adcy5, Slc4a4, Caln1, Pde7b, Dgkb \n",
      "\t   Slit3, Pde10a, Cacna2d3, Gnal, Zfp385b, Adamts3, Slc35f3, Cntnap2, Cdh8, Camk4 \n",
      "\t   Lmo7, Npas2, Elmod1, Neto1, Bcl11b, Trank1, Gria1, Foxp2, Grm1, Fras1 \n",
      "PC_ 4 \n",
      "Positive:  Pdzrn3, Unc5d, Hs6st3, Tafa2, Rorb, Cacna2d3, Lingo2, Tafa1, Prr16, Kcnh5 \n",
      "\t   Fstl4, Mapk4, Tmem178b, Nell1, Myo16, Iqschfp, Kcnb2, Sphkap, Cntnap5a, Ptprk \n",
      "\t   Nwd2, Cntn3, Gpc6, Nectin3, Cdh12, Ptprt, Kcnc2, Rasgrf2, Epha6, Pld5 \n",
      "Negative:  Thsd7b, Zfpm2, Foxp2, Cdh18, Sdk2, Hs3st4, Grik3, Tmem178, Grm8, Mgat4c \n",
      "\t   Slc35f1, Sox5, Nfib, Grik4, A830018L16Rik, Pde1a, Me3, Htr1f, Tenm1, Tle4 \n",
      "\t   Dlc1, Hs3st5, Ncald, Etl4, Cdh11, Vxn, Gm2824, Garnl3, Diras2, Neto1 \n",
      "PC_ 5 \n",
      "Positive:  Gpc5, Ptprz1, Luzp2, Dpyd, Lhfpl3, Npas3, Adarb2, Cdh13, Tafa1, Tsix \n",
      "\t   Tnr, Utp20, Gm3764, Nkain3, Baiap2l1, Xylt1, Pcdh15, Nnat, Gpc6, Zfp462 \n",
      "\t   Ppfibp1, Ptprt, Aaas, Dner, ENSMUSG00000121500, Gm50252, Dscam, Mir9-3hg, Lrrtm4, Cfap54 \n",
      "Negative:  Grm3, 4930578G10Rik, Gm17167, Hs3st4, Zmat4, Nkain2, Zfp385b, Sel1l3, Slc24a2, Rorb \n",
      "\t   Camk4, Foxp1, Trhde, Gm12394, Cadps2, Spock3, Rcan2, Foxp2, Mast4, Adgrl2 \n",
      "\t   Garnl3, Cdh12, Etl4, Kcnh5, Rbms1, Kcnt2, Osbpl3, Cacnb4, Htr1f, Atxn1 \n",
      "\n"
     ]
    }
   ],
   "source": [
    "# Finish preprocessing steps\n",
    "seurat_obj <- FindVariableFeatures(seurat_obj, selection.method = \"vst\", nfeatures = 2000)\n",
    "all.genes <- rownames(seurat_obj)\n",
    "seurat_obj <- ScaleData(seurat_obj, features = all.genes)\n",
    "seurat_obj <- RunPCA(seurat_obj, features = VariableFeatures(object = seurat_obj))"
   ]
  },
  {
   "cell_type": "code",
   "execution_count": 34,
   "metadata": {
    "vscode": {
     "languageId": "r"
    }
   },
   "outputs": [],
   "source": [
    "# Set-up a Seurat object for WGCNA\n",
    "seurat_obj <- SetupForWGCNA(\n",
    "    seurat_obj,\n",
    "    gene_select = \"fraction\", # the gene selection approach\n",
    "    fraction = 0, # fraction of cells that a gene needs to be expressed in order to be included\n",
    "    wgcna_name = \"test\" # the name of the hdWGCNA experiment\n",
    ")"
   ]
  },
  {
   "cell_type": "code",
   "execution_count": 39,
   "metadata": {
    "vscode": {
     "languageId": "r"
    }
   },
   "outputs": [
    {
     "name": "stderr",
     "output_type": "stream",
     "text": [
      "Warning message in MetacellsByGroups(seurat_obj = seurat_obj, group.by = c(\"Genotype\", :\n",
      "“Removing the following groups that did not meet min_cells: B6J#114”\n"
     ]
    }
   ],
   "source": [
    "# Construct metacells n each group\n",
    "seurat_obj <- MetacellsByGroups(\n",
    "  seurat_obj=seurat_obj,\n",
    "  group.by=c(\"Genotype\", \"sample\"), # specify the columns in adata@meta.data to group by\n",
    "  reduction=\"pca\",\n",
    "  k=25, # nearest-neighbors parameter\n",
    "  max_shared=15, # maximum number of shared cells between two metacells\n",
    "  ident.group='sample', # set the Idents of the metacell seurat object\n",
    "  assay=\"RNA\",\n",
    "  slot=\"counts\",\n",
    "  min_cells=50\n",
    ")"
   ]
  },
  {
   "cell_type": "code",
   "execution_count": 40,
   "metadata": {
    "vscode": {
     "languageId": "r"
    }
   },
   "outputs": [],
   "source": [
    "# normalize metacell expression matrix:\n",
    "seurat_obj <- NormalizeMetacells(seurat_obj)"
   ]
  },
  {
   "cell_type": "code",
   "execution_count": 42,
   "metadata": {
    "vscode": {
     "languageId": "r"
    }
   },
   "outputs": [],
   "source": [
    "# transpose the matrix, taking care of the\n",
    "seurat_obj <- SetDatExpr(\n",
    "    seurat_obj, \n",
    "    assay=\"RNA\", \n",
    "    use_metacells=TRUE, \n",
    "    wgcna_name=\"test\", \n",
    "    slot=\"data\"\n",
    ")"
   ]
  },
  {
   "cell_type": "code",
   "execution_count": 43,
   "metadata": {
    "vscode": {
     "languageId": "r"
    }
   },
   "outputs": [
    {
     "name": "stdout",
     "output_type": "stream",
     "text": [
      "pickSoftThreshold: will use block size 6277.\n",
      " pickSoftThreshold: calculating connectivity for given powers...\n",
      "   ..working on genes 1 through 6277 of 6277\n"
     ]
    },
    {
     "name": "stderr",
     "output_type": "stream",
     "text": [
      "Warning message:\n",
      "“executing %dopar% sequentially: no parallel backend registered”\n",
      "Warning message in (function (x, y = NULL, robustX = TRUE, robustY = TRUE, use = \"all.obs\", :\n",
      "“bicor: zero MAD in variable 'x'. Pearson correlation was used for individual columns with zero (or missing) MAD.”\n",
      "Warning message in (function (x, y = NULL, robustX = TRUE, robustY = TRUE, use = \"all.obs\", :\n",
      "“bicor: zero MAD in variable 'y'. Pearson correlation was used for individual columns with zero (or missing) MAD.”\n"
     ]
    },
    {
     "name": "stdout",
     "output_type": "stream",
     "text": [
      "   Power SFT.R.sq  slope truncated.R.sq  mean.k. median.k. max.k.\n",
      "1      1   0.0421  13.90          0.975 3150.000  3.15e+03 3250.0\n",
      "2      2   0.4270 -19.50          0.941 1620.000  1.61e+03 1780.0\n",
      "3      3   0.8880 -11.60          0.936  855.000  8.38e+02 1080.0\n",
      "4      4   0.9590  -7.05          0.954  464.000  4.42e+02  736.0\n",
      "5      5   0.9670  -4.74          0.957  259.000  2.36e+02  537.0\n",
      "6      6   0.9640  -3.56          0.954  149.000  1.28e+02  412.0\n",
      "7      7   0.9650  -2.83          0.957   88.400  7.01e+01  329.0\n",
      "8      8   0.9660  -2.37          0.960   54.500  3.89e+01  271.0\n",
      "9      9   0.9650  -2.09          0.956   34.900  2.19e+01  228.0\n",
      "10    10   0.9590  -1.89          0.948   23.200  1.24e+01  195.0\n",
      "11    12   0.9550  -1.63          0.948   11.500  4.13e+00  146.0\n",
      "12    14   0.9670  -1.45          0.969    6.450  1.44e+00  113.0\n",
      "13    16   0.9570  -1.36          0.968    4.000  5.21e-01   89.4\n",
      "14    18   0.9320  -1.32          0.948    2.650  1.93e-01   71.6\n",
      "15    20   0.9200  -1.29          0.939    1.850  7.32e-02   58.0\n",
      "16    22   0.8840  -1.30          0.900    1.330  2.85e-02   47.5\n",
      "17    24   0.9220  -1.28          0.943    0.984  1.15e-02   39.1\n",
      "18    26   0.9320  -1.28          0.956    0.742  4.65e-03   32.4\n",
      "19    28   0.9120  -1.31          0.932    0.569  1.94e-03   27.1\n",
      "20    30   0.8760  -1.34          0.900    0.442  8.04e-04   22.7\n"
     ]
    }
   ],
   "source": [
    "# Test different soft powers:\n",
    "seurat_obj <- TestSoftPowers(\n",
    "  seurat_obj,\n",
    "  use_metacells=TRUE,  # this is the default, I'm just being explicit\n",
    "  setDatExpr=FALSE  # set this to FALSE since we did this above\n",
    ")"
   ]
  },
  {
   "cell_type": "code",
   "execution_count": 47,
   "metadata": {
    "vscode": {
     "languageId": "r"
    }
   },
   "outputs": [
    {
     "data": {
      "text/html": [
       "4"
      ],
      "text/latex": [
       "4"
      ],
      "text/markdown": [
       "4"
      ],
      "text/plain": [
       "[1] 4"
      ]
     },
     "metadata": {},
     "output_type": "display_data"
    }
   ],
   "source": [
    "# get the power table, can also access with head(get(NAME, seurat_obj@misc)$wgcna_powerTable)\n",
    "power_table <- GetPowerTable(seurat_obj)\n",
    "power <- power_table$Power[which(power_table$SFT.R.sq > 0.90)[1]]\n",
    "power"
   ]
  },
  {
   "cell_type": "code",
   "execution_count": 48,
   "metadata": {
    "vscode": {
     "languageId": "r"
    }
   },
   "outputs": [],
   "source": [
    "dat <- get(\"test\", seurat_obj@misc)$datExpr"
   ]
  },
  {
   "cell_type": "code",
   "execution_count": 49,
   "metadata": {
    "vscode": {
     "languageId": "r"
    }
   },
   "outputs": [],
   "source": [
    "adj <- WGCNA::adjacency(\n",
    "    datExpr=dat,\n",
    "    type=\"signed\",\n",
    "    power=power\n",
    ")"
   ]
  },
  {
   "cell_type": "code",
   "execution_count": 50,
   "metadata": {
    "vscode": {
     "languageId": "r"
    }
   },
   "outputs": [],
   "source": [
    "getLinkList <- function(weightMatrix, reportMax=NULL, threshold=0) {\n",
    "    if(!is.numeric(threshold)) {\n",
    "    \tstop(\"threshold must be a number.\")\n",
    "    }\n",
    "\n",
    "\t# Only process weights off-diagonal\n",
    "  regulatorsInTargets <- rownames(weightMatrix)[rownames(weightMatrix) %in% colnames(weightMatrix)]\n",
    "  if(length(regulatorsInTargets)==1) weightMatrix[regulatorsInTargets, regulatorsInTargets] <- NA\n",
    "  if(length(regulatorsInTargets)>1) diag(weightMatrix[regulatorsInTargets, regulatorsInTargets]) <- NA\n",
    "\n",
    "  linkList <- reshape2::melt(weightMatrix, na.rm=TRUE)\n",
    "  colnames(linkList) <- c(\"regulatoryGene\", \"targetGene\", \"weight\")\n",
    "  linkList <- linkList[linkList$weight>=threshold,]\n",
    "  linkList <- linkList[order(linkList$weight, decreasing=TRUE),]\n",
    "  \n",
    "  if(!is.null(reportMax)) {\n",
    "  \tlinkList <- linkList[1:min(nrow(linkList), reportMax),]\n",
    "  }\n",
    "  rownames(linkList) <- NULL\n",
    "  \n",
    "  uniquePairs <- nrow(unique(linkList[,c(\"regulatoryGene\", \"targetGene\")]))\n",
    "  if(uniquePairs < nrow(linkList)) \n",
    "    warning(\"There might be duplicated regulator-target (gene id/name) pairs.\")\n",
    "  \n",
    "  return(linkList)\n",
    "}"
   ]
  },
  {
   "cell_type": "code",
   "execution_count": 51,
   "metadata": {
    "vscode": {
     "languageId": "r"
    }
   },
   "outputs": [],
   "source": [
    "link.list <- getLinkList(adj)"
   ]
  },
  {
   "cell_type": "code",
   "execution_count": 52,
   "metadata": {
    "vscode": {
     "languageId": "r"
    }
   },
   "outputs": [
    {
     "data": {
      "text/html": [
       "<table class=\"dataframe\">\n",
       "<caption>A data.frame: 6 × 3</caption>\n",
       "<thead>\n",
       "\t<tr><th></th><th scope=col>regulatoryGene</th><th scope=col>targetGene</th><th scope=col>weight</th></tr>\n",
       "\t<tr><th></th><th scope=col>&lt;fct&gt;</th><th scope=col>&lt;fct&gt;</th><th scope=col>&lt;dbl&gt;</th></tr>\n",
       "</thead>\n",
       "<tbody>\n",
       "\t<tr><th scope=row>1</th><td>mt-Co3 </td><td>Gm28437</td><td>1</td></tr>\n",
       "\t<tr><th scope=row>2</th><td>mt-Co2 </td><td>Gm28661</td><td>1</td></tr>\n",
       "\t<tr><th scope=row>3</th><td>Nnt.1  </td><td>Nnt    </td><td>1</td></tr>\n",
       "\t<tr><th scope=row>4</th><td>Nnt    </td><td>Nnt.1  </td><td>1</td></tr>\n",
       "\t<tr><th scope=row>5</th><td>Entpd4b</td><td>Entpd4 </td><td>1</td></tr>\n",
       "\t<tr><th scope=row>6</th><td>Entpd4 </td><td>Entpd4b</td><td>1</td></tr>\n",
       "</tbody>\n",
       "</table>\n"
      ],
      "text/latex": [
       "A data.frame: 6 × 3\n",
       "\\begin{tabular}{r|lll}\n",
       "  & regulatoryGene & targetGene & weight\\\\\n",
       "  & <fct> & <fct> & <dbl>\\\\\n",
       "\\hline\n",
       "\t1 & mt-Co3  & Gm28437 & 1\\\\\n",
       "\t2 & mt-Co2  & Gm28661 & 1\\\\\n",
       "\t3 & Nnt.1   & Nnt     & 1\\\\\n",
       "\t4 & Nnt     & Nnt.1   & 1\\\\\n",
       "\t5 & Entpd4b & Entpd4  & 1\\\\\n",
       "\t6 & Entpd4  & Entpd4b & 1\\\\\n",
       "\\end{tabular}\n"
      ],
      "text/markdown": [
       "\n",
       "A data.frame: 6 × 3\n",
       "\n",
       "| <!--/--> | regulatoryGene &lt;fct&gt; | targetGene &lt;fct&gt; | weight &lt;dbl&gt; |\n",
       "|---|---|---|---|\n",
       "| 1 | mt-Co3  | Gm28437 | 1 |\n",
       "| 2 | mt-Co2  | Gm28661 | 1 |\n",
       "| 3 | Nnt.1   | Nnt     | 1 |\n",
       "| 4 | Nnt     | Nnt.1   | 1 |\n",
       "| 5 | Entpd4b | Entpd4  | 1 |\n",
       "| 6 | Entpd4  | Entpd4b | 1 |\n",
       "\n"
      ],
      "text/plain": [
       "  regulatoryGene targetGene weight\n",
       "1 mt-Co3         Gm28437    1     \n",
       "2 mt-Co2         Gm28661    1     \n",
       "3 Nnt.1          Nnt        1     \n",
       "4 Nnt            Nnt.1      1     \n",
       "5 Entpd4b        Entpd4     1     \n",
       "6 Entpd4         Entpd4b    1     "
      ]
     },
     "metadata": {},
     "output_type": "display_data"
    }
   ],
   "source": [
    "head(link.list)"
   ]
  },
  {
   "cell_type": "code",
   "execution_count": null,
   "metadata": {
    "vscode": {
     "languageId": "r"
    }
   },
   "outputs": [],
   "source": [
    "# Save the adjacency list of the left cortex to a file\n",
    "write.table(link.list, file = file.path(OUT, \"adj.tsv\"), sep = \"\\t\", row.names = FALSE, col.names = TRUE, quote = FALSE)"
   ]
  }
 ],
 "metadata": {
  "kernelspec": {
   "display_name": "R 4.3.3 scverse",
   "language": "R",
   "name": "scverse-r433"
  },
  "language_info": {
   "codemirror_mode": "r",
   "file_extension": ".r",
   "mimetype": "text/x-r-source",
   "name": "R",
   "pygments_lexer": "r",
   "version": "4.3.1"
  },
  "orig_nbformat": 4
 },
 "nbformat": 4,
 "nbformat_minor": 2
}
