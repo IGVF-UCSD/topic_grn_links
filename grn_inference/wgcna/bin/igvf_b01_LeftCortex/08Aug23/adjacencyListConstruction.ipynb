{
 "cells": [
  {
   "attachments": {},
   "cell_type": "markdown",
   "metadata": {},
   "source": [
    "# Build adjacency matrix for comparison with other methods\n",
    "**Authorship:** Adam Klie (last updated: 08/07/2023)<br>\n",
    "***\n",
    "**Description:** This notebook \n",
    "***"
   ]
  },
  {
   "cell_type": "code",
   "execution_count": 36,
   "metadata": {
    "vscode": {
     "languageId": "r"
    }
   },
   "outputs": [],
   "source": [
    "# Conversion libraries and Seurat\n",
    "library(SeuratDisk)\n",
    "library(SeuratData)\n",
    "library(Seurat)\n",
    "library(Signac)\n",
    "\n",
    "# plotting and data science packages\n",
    "library(tidyverse)\n",
    "library(cowplot)\n",
    "library(patchwork)\n",
    "\n",
    "# co-expression network analysis packages:\n",
    "library(WGCNA)\n",
    "library(hdWGCNA)\n",
    "\n",
    "# using the cowplot theme for ggplot\n",
    "theme_set(theme_cowplot())\n",
    "\n",
    "# set random seed for reproducibility\n",
    "set.seed(12345)"
   ]
  },
  {
   "cell_type": "code",
   "execution_count": 37,
   "metadata": {
    "vscode": {
     "languageId": "r"
    }
   },
   "outputs": [],
   "source": [
    "# TODO: change to relative path based on your dataset\n",
    "seurat_dir <- \"/cellar/users/aklie/data/igvf/topic_grn_links/seurat\"\n",
    "dataset_name <- \"igvf_b01_LeftCortex\"\n",
    "results_dir <- \"/cellar/users/aklie/projects/igvf/topic_grn_links/grn_inference/hdwgcna/results\"\n",
    "analysis <- \"network_construction\""
   ]
  },
  {
   "cell_type": "code",
   "execution_count": 38,
   "metadata": {
    "vscode": {
     "languageId": "r"
    }
   },
   "outputs": [
    {
     "data": {
      "text/html": [
       "'/cellar/users/aklie/projects/igvf/topic_grn_links/grn_inference/hdwgcna/results/igvf_b01_LeftCortex/Microglia/CASTJ_filtered/network_construction'"
      ],
      "text/latex": [
       "'/cellar/users/aklie/projects/igvf/topic\\_grn\\_links/grn\\_inference/hdwgcna/results/igvf\\_b01\\_LeftCortex/Microglia/CASTJ\\_filtered/network\\_construction'"
      ],
      "text/markdown": [
       "'/cellar/users/aklie/projects/igvf/topic_grn_links/grn_inference/hdwgcna/results/igvf_b01_LeftCortex/Microglia/CASTJ_filtered/network_construction'"
      ],
      "text/plain": [
       "[1] \"/cellar/users/aklie/projects/igvf/topic_grn_links/grn_inference/hdwgcna/results/igvf_b01_LeftCortex/Microglia/CASTJ_filtered/network_construction\""
      ]
     },
     "metadata": {},
     "output_type": "display_data"
    }
   ],
   "source": [
    "# Parameters\n",
    "CELL.TYPES <- \"all\"\n",
    "ASSAY <- \"RNA\"\n",
    "NORMALIZATION <- \"ND\"\n",
    "NN <- 25\n",
    "GENES <- \"all\"\n",
    "PROCESS_W_SEURAT <- TRUE\n",
    "\n",
    "# Output fie path\n",
    "NAME <- paste0(CELL.TYPES, \"cells_\", GENES, \"genes_\", NORMALIZATION, \"_\", NN, \"neighbors\")\n",
    "OUT <- file.path(results_dir, dataset_name, \"Microglia\", \"CASTJ_filtered\", analysis)\n",
    "OUT"
   ]
  },
  {
   "cell_type": "code",
   "execution_count": 39,
   "metadata": {
    "vscode": {
     "languageId": "r"
    }
   },
   "outputs": [],
   "source": [
    "# Load in the pre-processed data\n",
    "seurat_obj <- readRDS(file=file.path(OUT, paste0(NAME, \"_hdWGCNA.rds\")))"
   ]
  },
  {
   "cell_type": "code",
   "execution_count": 40,
   "metadata": {
    "vscode": {
     "languageId": "r"
    }
   },
   "outputs": [],
   "source": [
    "# Grab power\n",
    "power <- 14"
   ]
  },
  {
   "cell_type": "code",
   "execution_count": 41,
   "metadata": {
    "vscode": {
     "languageId": "r"
    }
   },
   "outputs": [],
   "source": [
    "dat <- get(NAME, seurat_obj@misc)$datExpr"
   ]
  },
  {
   "cell_type": "code",
   "execution_count": 42,
   "metadata": {
    "vscode": {
     "languageId": "r"
    }
   },
   "outputs": [],
   "source": [
    "adj <- WGCNA::adjacency(\n",
    "    datExpr=dat,\n",
    "    type=\"signed\",\n",
    "    power=power\n",
    ")"
   ]
  },
  {
   "cell_type": "code",
   "execution_count": 43,
   "metadata": {
    "vscode": {
     "languageId": "r"
    }
   },
   "outputs": [],
   "source": [
    "getLinkList <- function(weightMatrix, reportMax=NULL, threshold=0) {\n",
    "    if(!is.numeric(threshold)) {\n",
    "    \tstop(\"threshold must be a number.\")\n",
    "    }\n",
    "\n",
    "\t# Only process weights off-diagonal\n",
    "  regulatorsInTargets <- rownames(weightMatrix)[rownames(weightMatrix) %in% colnames(weightMatrix)]\n",
    "  if(length(regulatorsInTargets)==1) weightMatrix[regulatorsInTargets, regulatorsInTargets] <- NA\n",
    "  if(length(regulatorsInTargets)>1) diag(weightMatrix[regulatorsInTargets, regulatorsInTargets]) <- NA\n",
    "\n",
    "  linkList <- reshape2::melt(weightMatrix, na.rm=TRUE)\n",
    "  colnames(linkList) <- c(\"regulatoryGene\", \"targetGene\", \"weight\")\n",
    "  linkList <- linkList[linkList$weight>=threshold,]\n",
    "  linkList <- linkList[order(linkList$weight, decreasing=TRUE),]\n",
    "  \n",
    "  if(!is.null(reportMax)) {\n",
    "  \tlinkList <- linkList[1:min(nrow(linkList), reportMax),]\n",
    "  }\n",
    "  rownames(linkList) <- NULL\n",
    "  \n",
    "  uniquePairs <- nrow(unique(linkList[,c(\"regulatoryGene\", \"targetGene\")]))\n",
    "  if(uniquePairs < nrow(linkList)) \n",
    "    warning(\"There might be duplicated regulator-target (gene id/name) pairs.\")\n",
    "  \n",
    "  return(linkList)\n",
    "}"
   ]
  },
  {
   "cell_type": "code",
   "execution_count": 44,
   "metadata": {
    "vscode": {
     "languageId": "r"
    }
   },
   "outputs": [],
   "source": [
    "link.list <- getLinkList(adj)"
   ]
  },
  {
   "cell_type": "code",
   "execution_count": null,
   "metadata": {
    "vscode": {
     "languageId": "r"
    }
   },
   "outputs": [],
   "source": [
    "# Save the adjacency list of the left cortex to a file\n",
    "write.table(link.list, file = file.path(OUT, \"adj.tsv\"), sep = \"\\t\", row.names = FALSE, col.names = TRUE, quote = FALSE)"
   ]
  },
  {
   "attachments": {},
   "cell_type": "markdown",
   "metadata": {},
   "source": [
    "# DONE!"
   ]
  },
  {
   "attachments": {},
   "cell_type": "markdown",
   "metadata": {},
   "source": [
    "---"
   ]
  }
 ],
 "metadata": {
  "kernelspec": {
   "display_name": "R 4.1.3 scverse",
   "language": "R",
   "name": "scverse-r413"
  },
  "language_info": {
   "codemirror_mode": "r",
   "file_extension": ".r",
   "mimetype": "text/x-r-source",
   "name": "R",
   "pygments_lexer": "r",
   "version": "4.1.3"
  },
  "orig_nbformat": 4
 },
 "nbformat": 4,
 "nbformat_minor": 2
}
