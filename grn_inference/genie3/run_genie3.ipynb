{
 "cells": [
  {
   "cell_type": "markdown",
   "metadata": {},
   "source": [
    "# GENIE3 "
   ]
  },
  {
   "cell_type": "markdown",
   "metadata": {},
   "source": [
    "## ENCODE4 mouse adrenal tissue"
   ]
  },
  {
   "cell_type": "markdown",
   "metadata": {},
   "source": [
    "### Genes expressed in at least 5% of cells (within each subpopulation)"
   ]
  },
  {
   "cell_type": "markdown",
   "metadata": {},
   "source": [
    "```bash\n",
    "# /cellar/users/aklie/projects/igvf/topic_grn_links/grn_inference/genie3/scripts/run_scenic_genie3_array_mouse_adrenal.sh\n",
    "script=/cellar/users/aklie/projects/igvf/opt/genie3/scripts/run_scenic_genie3_array.sh\n",
    "loom_dir=/cellar/users/aklie/projects/igvf/topic_grn_links/data/mouse_adrenal/prepare_inputs/snrna/0.05/loom\n",
    "tf_list=/cellar/users/aklie/opt/shared/SCENIC/tf_lists/allTFs_mm.txt\n",
    "out_dir=/cellar/users/aklie/projects/igvf/topic_grn_links/grn_inference/genie3/results/mouse_adrenal\n",
    "\n",
    "# Run the script\n",
    "cmd=\"sbatch \\\n",
    "    --job-name=genie3_array_mouse_adrenal \\\n",
    "    --array=1-21%5 \\\n",
    "    --cpus-per-task=8 \\\n",
    "    --mem-per-cpu=8G \\\n",
    "    --time=14-00:00:00 \\\n",
    "    $script \\\n",
    "    $loom_dir $tf_list $out_dir\"\n",
    "echo -e \"Running:\\n $cmd\"\n",
    "$cmd\n",
    "```"
   ]
  },
  {
   "cell_type": "markdown",
   "metadata": {},
   "source": [
    "### Top 2000 variable genes (within each subpopulation)"
   ]
  },
  {
   "cell_type": "markdown",
   "metadata": {},
   "source": [
    "## ENCODE 4 mouse heart tissue"
   ]
  },
  {
   "cell_type": "markdown",
   "metadata": {},
   "source": [
    "### Genes expressed in at least 5% of cells (within each subpopulation)"
   ]
  },
  {
   "cell_type": "markdown",
   "metadata": {},
   "source": [
    "```bash\n",
    "# /cellar/users/aklie/projects/igvf/topic_grn_links/grn_inference/genie3/scripts/run_scenic_genie3_array_mouse_heart.sh\n",
    "script=/cellar/users/aklie/projects/igvf/opt/genie3/scripts/run_scenic_genie3_array.sh\n",
    "loom_dir=/cellar/users/aklie/projects/igvf/topic_grn_links/data/mouse_heart/prepare_inputs/snrna/0.05/loom\n",
    "tf_list=/cellar/users/aklie/data/scenic/tf_lists/allTFs_mm.txt\n",
    "out_dir=/cellar/users/aklie/projects/igvf/topic_grn_links/grn_inference/genie3/results/mouse_heart\n",
    "\n",
    "# Run the script\n",
    "cmd=\"sbatch \\\n",
    "    --job-name=genie3_array_mouse_heart \\\n",
    "    --array=1-21%10 \\\n",
    "    --cpus-per-task=8 \\\n",
    "    --mem-per-cpu=8G \\\n",
    "    --time=14-00:00:00 \\\n",
    "    $script \\\n",
    "    $loom_dir $tf_list $out_dir\"\n",
    "echo -e \"Running:\\n $cmd\"\n",
    "$cmd\n",
    "```"
   ]
  },
  {
   "cell_type": "markdown",
   "metadata": {},
   "source": [
    "#### `subset`\n",
    "Test on random subset of 500 cells"
   ]
  },
  {
   "cell_type": "code",
   "execution_count": null,
   "metadata": {},
   "outputs": [],
   "source": [
    "%%bash\n",
    "script=/cellar/users/aklie/projects/igvf/opt/genie3/scripts/make_regulons.py\n",
    "exp_datasets=/cellar/users/aklie/projects/igvf/topic_grn_links/data/mouse_adrenal/preprocess/snrna/subset/filtered.h5ad\n",
    "tf_file=/cellar/users/aklie/data/scenic/tf_lists/allTFs_mm.txt\n",
    "out_path=/cellar/users/aklie/projects/igvf/topic_grn_links/grn_inference/genie3/results/mouse_adrenal/subset\n",
    "method=\"RF\"\n",
    "n_cpu=4\n",
    "log_file=${out_path}/log.txt\n",
    "cmd=\"python $script \\\n",
    "    --h5ad_file $exp_file \\\n",
    "    --tf_file $tf_file \\\n",
    "    --out_path $out_path \\\n",
    "    --method $method \\\n",
    "    --n_cpu $n_cpu \\\n",
    "    --n_genes 100 \\\n",
    "    --log_file $log_file\"\n",
    "echo $cmd"
   ]
  },
  {
   "cell_type": "code",
   "execution_count": null,
   "metadata": {},
   "outputs": [],
   "source": [
    "%%bash\n",
    "script=/cellar/users/aklie/projects/igvf/opt/genie3/scripts/make_regulons.py\n",
    "exp_file=/cellar/users/aklie/projects/igvf/topic_grn_links/data/mouse_adrenal/preprocess/snrna/subset/filtered.h5ad\n",
    "tf_file=/cellar/users/aklie/data/scenic/tf_lists/allTFs_mm.txt\n",
    "out_path=/cellar/users/aklie/projects/igvf/topic_grn_links/grn_inference/genie3/results/mouse_adrenal/subset\n",
    "method=\"RF\"\n",
    "n_cpu=16\n",
    "n_genes=100\n",
    "log_file=${out_path}/log.txt\n",
    "cmd=\"python $script \\\n",
    "    --h5ad_file $exp_file \\\n",
    "    --tf_file $tf_file \\\n",
    "    --out_path $out_path \\\n",
    "    --method $method \\\n",
    "    --n_cpu $n_cpu \\\n",
    "    --n_genes $n_genes \\\n",
    "    --log_file $log_file\"\n",
    "echo $cmd"
   ]
  },
  {
   "cell_type": "markdown",
   "metadata": {},
   "source": [
    "#### `day 14` cells"
   ]
  },
  {
   "cell_type": "code",
   "execution_count": null,
   "metadata": {},
   "outputs": [],
   "source": [
    "%%bash\n",
    "script=/cellar/users/aklie/projects/igvf/opt/genie3/scripts/run_scenicplus_genie3.py\n",
    "exp_file=/cellar/users/aklie/projects/igvf/topic_grn_links/data/mouse_adrenal/preprocess/snrna/h5ad/PND_14.h5ad\n",
    "tf_file=/cellar/users/aklie/data/scenic/tf_lists/allTFs_mm.txt\n",
    "out_path=/cellar/users/aklie/projects/igvf/topic_grn_links/grn_inference/genie3/results/mouse_adrenal/PND_14\n",
    "method=\"RF\"\n",
    "n_cpu=16\n",
    "n_genes=100\n",
    "log_file=${out_path}/log.txt\n",
    "cmd=\"python $script \\\n",
    "    --h5ad_file $exp_file \\\n",
    "    --tf_file $tf_file \\\n",
    "    --out_path $out_path \\\n",
    "    --method $method \\\n",
    "    --n_cpu $n_cpu \\\n",
    "    --n_genes $n_genes \\\n",
    "    --log_file $log_file\"\n",
    "echo $cmd"
   ]
  },
  {
   "cell_type": "code",
   "execution_count": null,
   "metadata": {},
   "outputs": [],
   "source": [
    "%%bash\n",
    "script=/cellar/users/aklie/projects/igvf/opt/genie3/scripts/run_arboreto_genie3.py\n",
    "exp_file=/cellar/users/aklie/projects/igvf/topic_grn_links/data/mouse_adrenal/preprocess/snrna/h5ad/subset.h5ad\n",
    "tf_file=/cellar/users/aklie/data/scenic/tf_lists/allTFs_mm.txt\n",
    "out_path=/cellar/users/aklie/projects/igvf/topic_grn_links/grn_inference/genie3/results/mouse_adrenal/subset\n",
    "log_file=${out_path}/log.txt\n",
    "cmd=\"python $script \\\n",
    "    --h5ad_file $exp_file \\\n",
    "    --tf_file $tf_file \\\n",
    "    --out_path $out_path \\\n",
    "    --log_file $log_file\"\n",
    "echo $cmd"
   ]
  },
  {
   "cell_type": "code",
   "execution_count": null,
   "metadata": {},
   "outputs": [],
   "source": [
    "%%bash\n",
    "script=/cellar/users/aklie/projects/igvf/opt/genie3/scripts/run_scenic_genie3.sh\n",
    "loom_in=/cellar/users/aklie/projects/igvf/topic_grn_links/data/mouse_adrenal/preprocess/snrna/loom/PND_14.loom\n",
    "tf_list=/cellar/users/aklie/data/scenic/tf_lists/allTFs_mm.txt\n",
    "out_name=/cellar/users/aklie/projects/igvf/topic_grn_links/grn_inference/genie3/results/mouse_adrenal/PND_14/genie3_scenic\n",
    "sbatch --job-name=grnInference_mouse_adrenal_PND_14 --cpus-per-task=8 --mem=32G --time=02-00:00:00 $script $loom_in $tf_list $out_name"
   ]
  },
  {
   "cell_type": "markdown",
   "metadata": {},
   "source": [
    "#### `endothelial` cells"
   ]
  },
  {
   "cell_type": "markdown",
   "metadata": {},
   "source": [
    "#### `all` cells"
   ]
  },
  {
   "cell_type": "code",
   "execution_count": null,
   "metadata": {},
   "outputs": [],
   "source": [
    "%%bash\n",
    "script=/cellar/users/aklie/projects/igvf/opt/genie3/scripts/make_regulons.py\n",
    "exp_file=/cellar/users/aklie/projects/igvf/topic_grn_links/data/mouse_adrenal/preprocess/snrna/filtered.h5ad\n",
    "tf_file=/cellar/users/aklie/data/scenic/tf_lists/allTFs_mm.txt\n",
    "out_path=/cellar/users/aklie/projects/igvf/topic_grn_links/grn_inference/genie3/results/mouse_adrenal/all\n",
    "method=\"RF\"\n",
    "n_cpu=16\n",
    "n_genes=100\n",
    "log_file=${out_path}/log.txt\n",
    "cmd=\"python $script \\\n",
    "    --h5ad_file $exp_file \\\n",
    "    --tf_file $tf_file \\\n",
    "    --out_path $out_path \\\n",
    "    --method $method \\\n",
    "    --n_cpu $n_cpu \\\n",
    "    --n_genes $n_genes \\\n",
    "    --log_file $log_file\"\n",
    "echo $cmd"
   ]
  }
 ],
 "metadata": {
  "kernelspec": {
   "display_name": "Python 3.8 scenicplus",
   "language": "python",
   "name": "scenicplus"
  },
  "language_info": {
   "codemirror_mode": {
    "name": "ipython",
    "version": 3
   },
   "file_extension": ".py",
   "mimetype": "text/x-python",
   "name": "python",
   "nbconvert_exporter": "python",
   "pygments_lexer": "ipython3",
   "version": "3.8.15"
  }
 },
 "nbformat": 4,
 "nbformat_minor": 4
}
