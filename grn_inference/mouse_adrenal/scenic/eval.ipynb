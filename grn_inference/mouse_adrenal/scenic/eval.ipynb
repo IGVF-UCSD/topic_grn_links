{
 "cells": [
  {
   "cell_type": "markdown",
   "id": "3186ea19-5899-4248-b619-8378f266abe2",
   "metadata": {},
   "source": [
    "# EVal"
   ]
  },
  {
   "cell_type": "code",
   "execution_count": 35,
   "id": "613e53a7-ce77-4eb0-969e-2dc1e1f8c5a5",
   "metadata": {
    "execution": {
     "iopub.execute_input": "2022-12-30T22:12:31.650623Z",
     "iopub.status.busy": "2022-12-30T22:12:31.650229Z",
     "iopub.status.idle": "2022-12-30T22:12:31.655657Z",
     "shell.execute_reply": "2022-12-30T22:12:31.654589Z",
     "shell.execute_reply.started": "2022-12-30T22:12:31.650586Z"
    },
    "tags": []
   },
   "outputs": [],
   "source": [
    "# I/O\n",
    "import os\n",
    "import glob\n",
    "import json\n",
    "import zlib\n",
    "import base64\n",
    "\n",
    "# Analysis\n",
    "import pandas as pd\n",
    "import scanpy as sc\n",
    "import loompy as lp\n",
    "import umap"
   ]
  },
  {
   "cell_type": "markdown",
   "id": "7d662bee-7106-4d0b-8921-abaea311d1a4",
   "metadata": {
    "tags": []
   },
   "source": [
    "# Load SCENIC results"
   ]
  },
  {
   "cell_type": "code",
   "execution_count": 14,
   "id": "1f2f9707-f2ad-457c-aafc-cf611b9e770c",
   "metadata": {
    "execution": {
     "iopub.execute_input": "2022-12-30T22:06:47.516706Z",
     "iopub.status.busy": "2022-12-30T22:06:47.516315Z",
     "iopub.status.idle": "2022-12-30T22:06:47.521321Z",
     "shell.execute_reply": "2022-12-30T22:06:47.520377Z",
     "shell.execute_reply.started": "2022-12-30T22:06:47.516670Z"
    },
    "tags": []
   },
   "outputs": [],
   "source": [
    "EXP_LOOM = \"/cellar/users/aklie/projects/igvf/topic_grn_links/data/mouse_adrenal/preprocessed/snrna/adrenal_Parse_10x_integrated_RNA_subset.loom\"\n",
    "OUT = \"/cellar/users/aklie/projects/igvf/topic_grn_links/grn_inference/mouse_adrenal/scenic/result/pipeline_subset\""
   ]
  },
  {
   "cell_type": "markdown",
   "id": "98d3be3f-b7df-421f-9a1a-2255031f4759",
   "metadata": {},
   "source": [
    "## adata object"
   ]
  },
  {
   "cell_type": "code",
   "execution_count": 8,
   "id": "416893df-c0ab-4d84-914b-406e5079f6cd",
   "metadata": {
    "execution": {
     "iopub.execute_input": "2022-12-30T22:04:49.506304Z",
     "iopub.status.busy": "2022-12-30T22:04:49.505963Z",
     "iopub.status.idle": "2022-12-30T22:04:56.102883Z",
     "shell.execute_reply": "2022-12-30T22:04:56.101957Z",
     "shell.execute_reply.started": "2022-12-30T22:04:49.506276Z"
    },
    "tags": []
   },
   "outputs": [],
   "source": [
    "adata = sc.read(EXP_LOOM, validate=False)\n",
    "genes = adata.var.index\n",
    "cells = adata.obs.index"
   ]
  },
  {
   "cell_type": "code",
   "execution_count": 63,
   "id": "a23b9848-1c5f-4232-a83d-2488504cb4dd",
   "metadata": {
    "execution": {
     "iopub.execute_input": "2022-12-30T22:19:30.513646Z",
     "iopub.status.busy": "2022-12-30T22:19:30.513327Z",
     "iopub.status.idle": "2022-12-30T22:19:30.526133Z",
     "shell.execute_reply": "2022-12-30T22:19:30.525015Z",
     "shell.execute_reply.started": "2022-12-30T22:19:30.513615Z"
    },
    "tags": []
   },
   "outputs": [
    {
     "data": {
      "text/html": [
       "<div>\n",
       "<style scoped>\n",
       "    .dataframe tbody tr th:only-of-type {\n",
       "        vertical-align: middle;\n",
       "    }\n",
       "\n",
       "    .dataframe tbody tr th {\n",
       "        vertical-align: top;\n",
       "    }\n",
       "\n",
       "    .dataframe thead th {\n",
       "        text-align: right;\n",
       "    }\n",
       "</style>\n",
       "<table border=\"1\" class=\"dataframe\">\n",
       "  <thead>\n",
       "    <tr style=\"text-align: right;\">\n",
       "      <th></th>\n",
       "      <th>nGene</th>\n",
       "      <th>nUMI</th>\n",
       "    </tr>\n",
       "    <tr>\n",
       "      <th>CellID</th>\n",
       "      <th></th>\n",
       "      <th></th>\n",
       "    </tr>\n",
       "  </thead>\n",
       "  <tbody>\n",
       "    <tr>\n",
       "      <th>CCAGTTCAGTGTTCTA_15.ENCLB366QRE</th>\n",
       "      <td>2927</td>\n",
       "      <td>7435.065290</td>\n",
       "    </tr>\n",
       "    <tr>\n",
       "      <th>TGAAGAGAAGTGGTCA_30.ENCLB856JIZ</th>\n",
       "      <td>1094</td>\n",
       "      <td>2049.514210</td>\n",
       "    </tr>\n",
       "    <tr>\n",
       "      <th>TCTTCACAAAACATCG_4.ENCLB071PVC</th>\n",
       "      <td>1738</td>\n",
       "      <td>3171.499977</td>\n",
       "    </tr>\n",
       "    <tr>\n",
       "      <th>TCTTCACAAAGGTACA_12.ENCLB048AFA</th>\n",
       "      <td>1362</td>\n",
       "      <td>1996.000000</td>\n",
       "    </tr>\n",
       "    <tr>\n",
       "      <th>AGATGTACAGTACAAG_44.ENCLB391MDC</th>\n",
       "      <td>647</td>\n",
       "      <td>851.000000</td>\n",
       "    </tr>\n",
       "    <tr>\n",
       "      <th>...</th>\n",
       "      <td>...</td>\n",
       "      <td>...</td>\n",
       "    </tr>\n",
       "    <tr>\n",
       "      <th>TCCTCAATCCCATAAA.ENCLB495DSX</th>\n",
       "      <td>1745</td>\n",
       "      <td>2834.000000</td>\n",
       "    </tr>\n",
       "    <tr>\n",
       "      <th>CAACCACAGAATCTGA_2.ENCLB486GRF</th>\n",
       "      <td>3134</td>\n",
       "      <td>7357.038148</td>\n",
       "    </tr>\n",
       "    <tr>\n",
       "      <th>AACTCACCGTACGCAA_20.ENCLB804GBP</th>\n",
       "      <td>962</td>\n",
       "      <td>1439.007812</td>\n",
       "    </tr>\n",
       "    <tr>\n",
       "      <th>ATCACAATCGGCTATG.ENCLB663TUU</th>\n",
       "      <td>1629</td>\n",
       "      <td>2551.000000</td>\n",
       "    </tr>\n",
       "    <tr>\n",
       "      <th>CGCATACACCTCCTGA_32.ENCLB391MDC</th>\n",
       "      <td>3054</td>\n",
       "      <td>7066.999987</td>\n",
       "    </tr>\n",
       "  </tbody>\n",
       "</table>\n",
       "<p>1000 rows × 2 columns</p>\n",
       "</div>"
      ],
      "text/plain": [
       "                                 nGene         nUMI\n",
       "CellID                                             \n",
       "CCAGTTCAGTGTTCTA_15.ENCLB366QRE   2927  7435.065290\n",
       "TGAAGAGAAGTGGTCA_30.ENCLB856JIZ   1094  2049.514210\n",
       "TCTTCACAAAACATCG_4.ENCLB071PVC    1738  3171.499977\n",
       "TCTTCACAAAGGTACA_12.ENCLB048AFA   1362  1996.000000\n",
       "AGATGTACAGTACAAG_44.ENCLB391MDC    647   851.000000\n",
       "...                                ...          ...\n",
       "TCCTCAATCCCATAAA.ENCLB495DSX      1745  2834.000000\n",
       "CAACCACAGAATCTGA_2.ENCLB486GRF    3134  7357.038148\n",
       "AACTCACCGTACGCAA_20.ENCLB804GBP    962  1439.007812\n",
       "ATCACAATCGGCTATG.ENCLB663TUU      1629  2551.000000\n",
       "CGCATACACCTCCTGA_32.ENCLB391MDC   3054  7066.999987\n",
       "\n",
       "[1000 rows x 2 columns]"
      ]
     },
     "execution_count": 63,
     "metadata": {},
     "output_type": "execute_result"
    }
   ],
   "source": [
    "adata.obs"
   ]
  },
  {
   "cell_type": "code",
   "execution_count": 64,
   "id": "1b6be8e1-725c-4f81-b6ed-322b95495694",
   "metadata": {
    "execution": {
     "iopub.execute_input": "2022-12-30T22:19:41.544495Z",
     "iopub.status.busy": "2022-12-30T22:19:41.544115Z",
     "iopub.status.idle": "2022-12-30T22:19:41.553703Z",
     "shell.execute_reply": "2022-12-30T22:19:41.552757Z",
     "shell.execute_reply.started": "2022-12-30T22:19:41.544444Z"
    }
   },
   "outputs": [
    {
     "data": {
      "text/html": [
       "<div>\n",
       "<style scoped>\n",
       "    .dataframe tbody tr th:only-of-type {\n",
       "        vertical-align: middle;\n",
       "    }\n",
       "\n",
       "    .dataframe tbody tr th {\n",
       "        vertical-align: top;\n",
       "    }\n",
       "\n",
       "    .dataframe thead th {\n",
       "        text-align: right;\n",
       "    }\n",
       "</style>\n",
       "<table border=\"1\" class=\"dataframe\">\n",
       "  <thead>\n",
       "    <tr style=\"text-align: right;\">\n",
       "      <th></th>\n",
       "    </tr>\n",
       "    <tr>\n",
       "      <th>Gene</th>\n",
       "    </tr>\n",
       "  </thead>\n",
       "  <tbody>\n",
       "    <tr>\n",
       "      <th>Xkr4</th>\n",
       "    </tr>\n",
       "    <tr>\n",
       "      <th>Gm1992</th>\n",
       "    </tr>\n",
       "    <tr>\n",
       "      <th>Gm19938</th>\n",
       "    </tr>\n",
       "    <tr>\n",
       "      <th>Gm37381</th>\n",
       "    </tr>\n",
       "    <tr>\n",
       "      <th>Rp1</th>\n",
       "    </tr>\n",
       "    <tr>\n",
       "      <th>...</th>\n",
       "    </tr>\n",
       "    <tr>\n",
       "      <th>AC125178.3</th>\n",
       "    </tr>\n",
       "    <tr>\n",
       "      <th>Gm16367</th>\n",
       "    </tr>\n",
       "    <tr>\n",
       "      <th>AC163611.2</th>\n",
       "    </tr>\n",
       "    <tr>\n",
       "      <th>AC133095.2</th>\n",
       "    </tr>\n",
       "    <tr>\n",
       "      <th>AC149090.1</th>\n",
       "    </tr>\n",
       "  </tbody>\n",
       "</table>\n",
       "<p>34932 rows × 0 columns</p>\n",
       "</div>"
      ],
      "text/plain": [
       "Empty DataFrame\n",
       "Columns: []\n",
       "Index: [Xkr4, Gm1992, Gm19938, Gm37381, Rp1, Gm6101, Sox17, Gm37587, Gm7357, Gm38076, Gm37323, Gm7369, Gm6085, Gm6119, Gm2053, Gm6123, Mrpl15, Lypla1, Gm37988, Tcea1, Gm6104, Rgs20, Gm17100, Gm16041, Atp6v1h, Oprk1, Rb1cc1, 4732440D04Rik, Alkal1, Gm2147, Gm19026, St18, Gm7449, Gm37108, Gm5694, Pcmtd1, Gm26983, Gm9826, Gm26901, Gm18984, Gm30414, Rps2-ps2, Gm38216, Sntg1, Gm16284, Gm15452, Gm7493, Gm38008, Gm18300, Rrs1, Adhfe1, 2610203C22Rik, Gm6161, Vxn, Mybl1, Vcpip1, 1700034P13Rik, Sgk3, Mcmdc2, Snhg6, Tcf24, Ppp1r42, Gm15818, Cops5, Cspp1, Arfgef1, Cpa6, Gm5522, Gm28659, Prex2, Gm28686, A830018L16Rik, Gm2383, Gm17644, Sulf1, Slco5a1, Gm29283, Prdm14, Ncoa2, Gm29570, Tram1, Lactb2, Xkr9, Gm5523, Eya1, Gm9947, Msc, Smt3h2-ps4, Rpl5-ps1, Trpa1, Gm10566, Kcnb2, Gm6060, Terf1, Sbspon, 4930444P10Rik, Rpl7, Rdh10, Gm28095, Stau2, ...]\n",
       "\n",
       "[34932 rows x 0 columns]"
      ]
     },
     "execution_count": 64,
     "metadata": {},
     "output_type": "execute_result"
    }
   ],
   "source": [
    "adata.var"
   ]
  },
  {
   "cell_type": "markdown",
   "id": "a44ae9e0-7170-4a54-af64-6bc1f8784aa0",
   "metadata": {},
   "source": [
    "## GRN Inference"
   ]
  },
  {
   "cell_type": "code",
   "execution_count": 19,
   "id": "26418fc2-4bc7-4aa4-b321-175cbe347bad",
   "metadata": {
    "execution": {
     "iopub.execute_input": "2022-12-30T22:07:53.509591Z",
     "iopub.status.busy": "2022-12-30T22:07:53.508915Z",
     "iopub.status.idle": "2022-12-30T22:07:53.514621Z",
     "shell.execute_reply": "2022-12-30T22:07:53.513736Z",
     "shell.execute_reply.started": "2022-12-30T22:07:53.509560Z"
    },
    "tags": []
   },
   "outputs": [],
   "source": [
    "from utils import parse_adj"
   ]
  },
  {
   "cell_type": "code",
   "execution_count": 16,
   "id": "674a5977-a485-4555-b0a5-d99195b518f0",
   "metadata": {
    "execution": {
     "iopub.execute_input": "2022-12-30T22:07:00.036860Z",
     "iopub.status.busy": "2022-12-30T22:07:00.036404Z",
     "iopub.status.idle": "2022-12-30T22:07:00.043572Z",
     "shell.execute_reply": "2022-12-30T22:07:00.042590Z",
     "shell.execute_reply.started": "2022-12-30T22:07:00.036830Z"
    },
    "tags": []
   },
   "outputs": [
    {
     "data": {
      "text/plain": [
       "['/cellar/users/aklie/projects/igvf/topic_grn_links/grn_inference/mouse_adrenal/scenic/result/pipeline_subset/adrenal_Parse_10x_integrated_RNA_subset_run1_adj.tsv',\n",
       " '/cellar/users/aklie/projects/igvf/topic_grn_links/grn_inference/mouse_adrenal/scenic/result/pipeline_subset/adrenal_Parse_10x_integrated_RNA_subset_run2_adj.tsv',\n",
       " '/cellar/users/aklie/projects/igvf/topic_grn_links/grn_inference/mouse_adrenal/scenic/result/pipeline_subset/adrenal_Parse_10x_integrated_RNA_subset_run3_adj.tsv',\n",
       " '/cellar/users/aklie/projects/igvf/topic_grn_links/grn_inference/mouse_adrenal/scenic/result/pipeline_subset/adrenal_Parse_10x_integrated_RNA_subset_run4_adj.tsv',\n",
       " '/cellar/users/aklie/projects/igvf/topic_grn_links/grn_inference/mouse_adrenal/scenic/result/pipeline_subset/adrenal_Parse_10x_integrated_RNA_subset_run5_adj.tsv']"
      ]
     },
     "execution_count": 16,
     "metadata": {},
     "output_type": "execute_result"
    }
   ],
   "source": [
    "files = sorted(glob.glob(os.path.join(OUT, \"*_run*_adj.tsv\")))\n",
    "files"
   ]
  },
  {
   "cell_type": "code",
   "execution_count": 21,
   "id": "6d639f16-288f-4dd4-96a6-f5cc4a96a6e1",
   "metadata": {
    "execution": {
     "iopub.execute_input": "2022-12-30T22:08:09.634940Z",
     "iopub.status.busy": "2022-12-30T22:08:09.634609Z",
     "iopub.status.idle": "2022-12-30T22:08:32.662320Z",
     "shell.execute_reply": "2022-12-30T22:08:32.661258Z",
     "shell.execute_reply.started": "2022-12-30T22:08:09.634911Z"
    },
    "tags": []
   },
   "outputs": [
    {
     "name": "stderr",
     "output_type": "stream",
     "text": [
      "/cellar/users/aklie/projects/igvf/topic_grn_links/grn_inference/mouse_adrenal/scenic/utils.py:39: PerformanceWarning: dropping on a non-lexsorted multi-index without a level parameter may impact performance.\n",
      "  ranks = ranks.reset_index().sort_values([\"TF\"]).groupby([\"TF\"], sort=False).apply(lambda x: x.sort_values((\"rank\", \"mean\"), ascending=True)).drop(\"TF\", axis=1)\n"
     ]
    }
   ],
   "source": [
    "multi_adj, ranked_genes = parse_adj(files, tfs=None)"
   ]
  },
  {
   "cell_type": "code",
   "execution_count": 22,
   "id": "fa5387c4-e251-42c4-bc03-c5da73e1860e",
   "metadata": {
    "execution": {
     "iopub.execute_input": "2022-12-30T22:08:45.095798Z",
     "iopub.status.busy": "2022-12-30T22:08:45.095366Z",
     "iopub.status.idle": "2022-12-30T22:08:45.150729Z",
     "shell.execute_reply": "2022-12-30T22:08:45.149636Z",
     "shell.execute_reply.started": "2022-12-30T22:08:45.095730Z"
    }
   },
   "outputs": [
    {
     "data": {
      "text/html": [
       "<div>\n",
       "<style scoped>\n",
       "    .dataframe tbody tr th:only-of-type {\n",
       "        vertical-align: middle;\n",
       "    }\n",
       "\n",
       "    .dataframe tbody tr th {\n",
       "        vertical-align: top;\n",
       "    }\n",
       "\n",
       "    .dataframe thead th {\n",
       "        text-align: right;\n",
       "    }\n",
       "</style>\n",
       "<table border=\"1\" class=\"dataframe\">\n",
       "  <thead>\n",
       "    <tr style=\"text-align: right;\">\n",
       "      <th></th>\n",
       "      <th>TF</th>\n",
       "      <th>target</th>\n",
       "      <th>importance</th>\n",
       "      <th>file</th>\n",
       "      <th>rank</th>\n",
       "    </tr>\n",
       "  </thead>\n",
       "  <tbody>\n",
       "    <tr>\n",
       "      <th>0</th>\n",
       "      <td>Thrb</td>\n",
       "      <td>Prr16</td>\n",
       "      <td>3.365477e+02</td>\n",
       "      <td>/cellar/users/aklie/projects/igvf/topic_grn_li...</td>\n",
       "      <td>1</td>\n",
       "    </tr>\n",
       "    <tr>\n",
       "      <th>1</th>\n",
       "      <td>Thrb</td>\n",
       "      <td>Frmd5</td>\n",
       "      <td>3.336626e+02</td>\n",
       "      <td>/cellar/users/aklie/projects/igvf/topic_grn_li...</td>\n",
       "      <td>2</td>\n",
       "    </tr>\n",
       "    <tr>\n",
       "      <th>2</th>\n",
       "      <td>Thrb</td>\n",
       "      <td>Nrep</td>\n",
       "      <td>3.239047e+02</td>\n",
       "      <td>/cellar/users/aklie/projects/igvf/topic_grn_li...</td>\n",
       "      <td>3</td>\n",
       "    </tr>\n",
       "    <tr>\n",
       "      <th>3</th>\n",
       "      <td>Thrb</td>\n",
       "      <td>Gpam</td>\n",
       "      <td>2.838669e+02</td>\n",
       "      <td>/cellar/users/aklie/projects/igvf/topic_grn_li...</td>\n",
       "      <td>4</td>\n",
       "    </tr>\n",
       "    <tr>\n",
       "      <th>4</th>\n",
       "      <td>Thrb</td>\n",
       "      <td>Gramd1b</td>\n",
       "      <td>2.726003e+02</td>\n",
       "      <td>/cellar/users/aklie/projects/igvf/topic_grn_li...</td>\n",
       "      <td>5</td>\n",
       "    </tr>\n",
       "    <tr>\n",
       "      <th>...</th>\n",
       "      <td>...</td>\n",
       "      <td>...</td>\n",
       "      <td>...</td>\n",
       "      <td>...</td>\n",
       "      <td>...</td>\n",
       "    </tr>\n",
       "    <tr>\n",
       "      <th>514484</th>\n",
       "      <td>Rxra</td>\n",
       "      <td>Tusc1</td>\n",
       "      <td>5.097908e-15</td>\n",
       "      <td>/cellar/users/aklie/projects/igvf/topic_grn_li...</td>\n",
       "      <td>24908</td>\n",
       "    </tr>\n",
       "    <tr>\n",
       "      <th>514485</th>\n",
       "      <td>Rxra</td>\n",
       "      <td>Cd63</td>\n",
       "      <td>3.852184e-15</td>\n",
       "      <td>/cellar/users/aklie/projects/igvf/topic_grn_li...</td>\n",
       "      <td>24909</td>\n",
       "    </tr>\n",
       "    <tr>\n",
       "      <th>514486</th>\n",
       "      <td>Hoxa9</td>\n",
       "      <td>Slamf9</td>\n",
       "      <td>2.825805e-15</td>\n",
       "      <td>/cellar/users/aklie/projects/igvf/topic_grn_li...</td>\n",
       "      <td>21586</td>\n",
       "    </tr>\n",
       "    <tr>\n",
       "      <th>514487</th>\n",
       "      <td>Zfp128</td>\n",
       "      <td>Rnf31</td>\n",
       "      <td>1.519588e-15</td>\n",
       "      <td>/cellar/users/aklie/projects/igvf/topic_grn_li...</td>\n",
       "      <td>24793</td>\n",
       "    </tr>\n",
       "    <tr>\n",
       "      <th>514488</th>\n",
       "      <td>Zfp128</td>\n",
       "      <td>Ptdss1</td>\n",
       "      <td>1.137379e-15</td>\n",
       "      <td>/cellar/users/aklie/projects/igvf/topic_grn_li...</td>\n",
       "      <td>24794</td>\n",
       "    </tr>\n",
       "  </tbody>\n",
       "</table>\n",
       "<p>2571808 rows × 5 columns</p>\n",
       "</div>"
      ],
      "text/plain": [
       "            TF   target    importance  \\\n",
       "0         Thrb    Prr16  3.365477e+02   \n",
       "1         Thrb    Frmd5  3.336626e+02   \n",
       "2         Thrb     Nrep  3.239047e+02   \n",
       "3         Thrb     Gpam  2.838669e+02   \n",
       "4         Thrb  Gramd1b  2.726003e+02   \n",
       "...        ...      ...           ...   \n",
       "514484    Rxra    Tusc1  5.097908e-15   \n",
       "514485    Rxra     Cd63  3.852184e-15   \n",
       "514486   Hoxa9   Slamf9  2.825805e-15   \n",
       "514487  Zfp128    Rnf31  1.519588e-15   \n",
       "514488  Zfp128   Ptdss1  1.137379e-15   \n",
       "\n",
       "                                                     file   rank  \n",
       "0       /cellar/users/aklie/projects/igvf/topic_grn_li...      1  \n",
       "1       /cellar/users/aklie/projects/igvf/topic_grn_li...      2  \n",
       "2       /cellar/users/aklie/projects/igvf/topic_grn_li...      3  \n",
       "3       /cellar/users/aklie/projects/igvf/topic_grn_li...      4  \n",
       "4       /cellar/users/aklie/projects/igvf/topic_grn_li...      5  \n",
       "...                                                   ...    ...  \n",
       "514484  /cellar/users/aklie/projects/igvf/topic_grn_li...  24908  \n",
       "514485  /cellar/users/aklie/projects/igvf/topic_grn_li...  24909  \n",
       "514486  /cellar/users/aklie/projects/igvf/topic_grn_li...  21586  \n",
       "514487  /cellar/users/aklie/projects/igvf/topic_grn_li...  24793  \n",
       "514488  /cellar/users/aklie/projects/igvf/topic_grn_li...  24794  \n",
       "\n",
       "[2571808 rows x 5 columns]"
      ]
     },
     "execution_count": 22,
     "metadata": {},
     "output_type": "execute_result"
    }
   ],
   "source": [
    "multi_adj"
   ]
  },
  {
   "cell_type": "code",
   "execution_count": 23,
   "id": "c1795aee-7e04-4e13-b466-4b5977f18f85",
   "metadata": {
    "execution": {
     "iopub.execute_input": "2022-12-30T22:09:02.517655Z",
     "iopub.status.busy": "2022-12-30T22:09:02.517084Z",
     "iopub.status.idle": "2022-12-30T22:09:02.556995Z",
     "shell.execute_reply": "2022-12-30T22:09:02.556024Z",
     "shell.execute_reply.started": "2022-12-30T22:09:02.517615Z"
    }
   },
   "outputs": [
    {
     "data": {
      "text/html": [
       "<div>\n",
       "<style scoped>\n",
       "    .dataframe tbody tr th:only-of-type {\n",
       "        vertical-align: middle;\n",
       "    }\n",
       "\n",
       "    .dataframe tbody tr th {\n",
       "        vertical-align: top;\n",
       "    }\n",
       "\n",
       "    .dataframe thead tr th {\n",
       "        text-align: left;\n",
       "    }\n",
       "</style>\n",
       "<table border=\"1\" class=\"dataframe\">\n",
       "  <thead>\n",
       "    <tr>\n",
       "      <th></th>\n",
       "      <th>TF</th>\n",
       "      <th>target</th>\n",
       "      <th>rank</th>\n",
       "      <th colspan=\"2\" halign=\"left\">importance</th>\n",
       "    </tr>\n",
       "    <tr>\n",
       "      <th></th>\n",
       "      <th></th>\n",
       "      <th></th>\n",
       "      <th>mean</th>\n",
       "      <th>mean</th>\n",
       "      <th>std</th>\n",
       "    </tr>\n",
       "  </thead>\n",
       "  <tbody>\n",
       "    <tr>\n",
       "      <th>0</th>\n",
       "      <td>Egr1</td>\n",
       "      <td>Rgcc</td>\n",
       "      <td>1.600000</td>\n",
       "      <td>6.570198e+01</td>\n",
       "      <td>6.840788e+00</td>\n",
       "    </tr>\n",
       "    <tr>\n",
       "      <th>1</th>\n",
       "      <td>Egr1</td>\n",
       "      <td>Rab7</td>\n",
       "      <td>6.200000</td>\n",
       "      <td>5.231299e+01</td>\n",
       "      <td>8.394938e+00</td>\n",
       "    </tr>\n",
       "    <tr>\n",
       "      <th>2</th>\n",
       "      <td>Egr1</td>\n",
       "      <td>Tnfrsf11a</td>\n",
       "      <td>7.400000</td>\n",
       "      <td>5.401561e+01</td>\n",
       "      <td>1.452708e+01</td>\n",
       "    </tr>\n",
       "    <tr>\n",
       "      <th>3</th>\n",
       "      <td>Egr1</td>\n",
       "      <td>Itgb3</td>\n",
       "      <td>8.600000</td>\n",
       "      <td>4.801195e+01</td>\n",
       "      <td>7.713902e+00</td>\n",
       "    </tr>\n",
       "    <tr>\n",
       "      <th>4</th>\n",
       "      <td>Egr1</td>\n",
       "      <td>Gimap8</td>\n",
       "      <td>9.200000</td>\n",
       "      <td>4.543657e+01</td>\n",
       "      <td>3.831221e+00</td>\n",
       "    </tr>\n",
       "    <tr>\n",
       "      <th>...</th>\n",
       "      <td>...</td>\n",
       "      <td>...</td>\n",
       "      <td>...</td>\n",
       "      <td>...</td>\n",
       "      <td>...</td>\n",
       "    </tr>\n",
       "    <tr>\n",
       "      <th>523327</th>\n",
       "      <td>Zfp853</td>\n",
       "      <td>Hsd17b2</td>\n",
       "      <td>21281.250000</td>\n",
       "      <td>1.018860e-08</td>\n",
       "      <td>6.979673e-09</td>\n",
       "    </tr>\n",
       "    <tr>\n",
       "      <th>523328</th>\n",
       "      <td>Zfp853</td>\n",
       "      <td>Gm7895</td>\n",
       "      <td>21310.000000</td>\n",
       "      <td>3.497025e-09</td>\n",
       "      <td>1.487052e-09</td>\n",
       "    </tr>\n",
       "    <tr>\n",
       "      <th>523329</th>\n",
       "      <td>Zfp853</td>\n",
       "      <td>AC129309.1</td>\n",
       "      <td>21319.000000</td>\n",
       "      <td>1.130124e-08</td>\n",
       "      <td>0.000000e+00</td>\n",
       "    </tr>\n",
       "    <tr>\n",
       "      <th>523330</th>\n",
       "      <td>Zfp853</td>\n",
       "      <td>Gm42775</td>\n",
       "      <td>21331.666667</td>\n",
       "      <td>1.122555e-08</td>\n",
       "      <td>1.115096e-08</td>\n",
       "    </tr>\n",
       "    <tr>\n",
       "      <th>523331</th>\n",
       "      <td>Zfp853</td>\n",
       "      <td>Gm47765</td>\n",
       "      <td>21425.000000</td>\n",
       "      <td>3.203614e-09</td>\n",
       "      <td>0.000000e+00</td>\n",
       "    </tr>\n",
       "  </tbody>\n",
       "</table>\n",
       "<p>523332 rows × 5 columns</p>\n",
       "</div>"
      ],
      "text/plain": [
       "            TF      target          rank    importance              \n",
       "                                    mean          mean           std\n",
       "0         Egr1        Rgcc      1.600000  6.570198e+01  6.840788e+00\n",
       "1         Egr1        Rab7      6.200000  5.231299e+01  8.394938e+00\n",
       "2         Egr1   Tnfrsf11a      7.400000  5.401561e+01  1.452708e+01\n",
       "3         Egr1       Itgb3      8.600000  4.801195e+01  7.713902e+00\n",
       "4         Egr1      Gimap8      9.200000  4.543657e+01  3.831221e+00\n",
       "...        ...         ...           ...           ...           ...\n",
       "523327  Zfp853     Hsd17b2  21281.250000  1.018860e-08  6.979673e-09\n",
       "523328  Zfp853      Gm7895  21310.000000  3.497025e-09  1.487052e-09\n",
       "523329  Zfp853  AC129309.1  21319.000000  1.130124e-08  0.000000e+00\n",
       "523330  Zfp853     Gm42775  21331.666667  1.122555e-08  1.115096e-08\n",
       "523331  Zfp853     Gm47765  21425.000000  3.203614e-09  0.000000e+00\n",
       "\n",
       "[523332 rows x 5 columns]"
      ]
     },
     "execution_count": 23,
     "metadata": {},
     "output_type": "execute_result"
    }
   ],
   "source": [
    "ranked_genes"
   ]
  },
  {
   "cell_type": "markdown",
   "id": "db842aa4-66d2-41e3-91c4-1a98e08cf51f",
   "metadata": {},
   "source": [
    "## Loom files - regulons and AUC"
   ]
  },
  {
   "cell_type": "code",
   "execution_count": 24,
   "id": "2c54fdef-2344-459d-8bd7-3e91b9e0f72b",
   "metadata": {
    "execution": {
     "iopub.execute_input": "2022-12-30T22:09:52.858077Z",
     "iopub.status.busy": "2022-12-30T22:09:52.857665Z",
     "iopub.status.idle": "2022-12-30T22:09:52.862044Z",
     "shell.execute_reply": "2022-12-30T22:09:52.861322Z",
     "shell.execute_reply.started": "2022-12-30T22:09:52.858047Z"
    },
    "tags": []
   },
   "outputs": [],
   "source": [
    "from utils import parse_loom"
   ]
  },
  {
   "cell_type": "code",
   "execution_count": 56,
   "id": "8b035a15-7332-4e74-9575-dd2f92302c03",
   "metadata": {
    "execution": {
     "iopub.execute_input": "2022-12-30T22:18:31.513579Z",
     "iopub.status.busy": "2022-12-30T22:18:31.513234Z",
     "iopub.status.idle": "2022-12-30T22:18:31.524879Z",
     "shell.execute_reply": "2022-12-30T22:18:31.523702Z",
     "shell.execute_reply.started": "2022-12-30T22:18:31.513548Z"
    },
    "tags": []
   },
   "outputs": [
    {
     "data": {
      "text/plain": [
       "['/cellar/users/aklie/projects/igvf/topic_grn_links/grn_inference/mouse_adrenal/scenic/result/pipeline_subset/adrenal_Parse_10x_integrated_RNA_subset_run1_pyscenic_output.loom',\n",
       " '/cellar/users/aklie/projects/igvf/topic_grn_links/grn_inference/mouse_adrenal/scenic/result/pipeline_subset/adrenal_Parse_10x_integrated_RNA_subset_run2_pyscenic_output.loom',\n",
       " '/cellar/users/aklie/projects/igvf/topic_grn_links/grn_inference/mouse_adrenal/scenic/result/pipeline_subset/adrenal_Parse_10x_integrated_RNA_subset_run3_pyscenic_output.loom',\n",
       " '/cellar/users/aklie/projects/igvf/topic_grn_links/grn_inference/mouse_adrenal/scenic/result/pipeline_subset/adrenal_Parse_10x_integrated_RNA_subset_run4_pyscenic_output.loom',\n",
       " '/cellar/users/aklie/projects/igvf/topic_grn_links/grn_inference/mouse_adrenal/scenic/result/pipeline_subset/adrenal_Parse_10x_integrated_RNA_subset_run5_pyscenic_output.loom']"
      ]
     },
     "execution_count": 56,
     "metadata": {},
     "output_type": "execute_result"
    }
   ],
   "source": [
    "files = sorted(glob.glob(os.path.join(OUT, \"*_run*_pyscenic_output.loom\")))\n",
    "files"
   ]
  },
  {
   "cell_type": "code",
   "execution_count": 57,
   "id": "e3d276fb-473b-45aa-a7ef-1c5c2a1bd85c",
   "metadata": {
    "execution": {
     "iopub.execute_input": "2022-12-30T22:18:36.082898Z",
     "iopub.status.busy": "2022-12-30T22:18:36.082591Z",
     "iopub.status.idle": "2022-12-30T22:18:36.644084Z",
     "shell.execute_reply": "2022-12-30T22:18:36.642963Z",
     "shell.execute_reply.started": "2022-12-30T22:18:36.082868Z"
    },
    "tags": []
   },
   "outputs": [
    {
     "name": "stdout",
     "output_type": "stream",
     "text": [
      "/cellar/users/aklie/projects/igvf/topic_grn_links/grn_inference/mouse_adrenal/scenic/result/pipeline_subset/adrenal_Parse_10x_integrated_RNA_subset_run1_pyscenic_output.loom\n",
      "/cellar/users/aklie/projects/igvf/topic_grn_links/grn_inference/mouse_adrenal/scenic/result/pipeline_subset/adrenal_Parse_10x_integrated_RNA_subset_run2_pyscenic_output.loom\n",
      "/cellar/users/aklie/projects/igvf/topic_grn_links/grn_inference/mouse_adrenal/scenic/result/pipeline_subset/adrenal_Parse_10x_integrated_RNA_subset_run3_pyscenic_output.loom\n",
      "/cellar/users/aklie/projects/igvf/topic_grn_links/grn_inference/mouse_adrenal/scenic/result/pipeline_subset/adrenal_Parse_10x_integrated_RNA_subset_run4_pyscenic_output.loom\n",
      "/cellar/users/aklie/projects/igvf/topic_grn_links/grn_inference/mouse_adrenal/scenic/result/pipeline_subset/adrenal_Parse_10x_integrated_RNA_subset_run5_pyscenic_output.loom\n"
     ]
    }
   ],
   "source": [
    "tf_regulons, tf_activities = parse_loom(files, tf=\"Egr1\", cells=cells, genes=genes)"
   ]
  },
  {
   "cell_type": "markdown",
   "id": "67211bab-fdae-4a9a-95b3-5c55965f43a5",
   "metadata": {},
   "source": [
    "## Visualize the AUC matrix"
   ]
  },
  {
   "cell_type": "code",
   "execution_count": 58,
   "id": "81e70024-0477-4151-89fe-d597c8014568",
   "metadata": {
    "execution": {
     "iopub.execute_input": "2022-12-30T22:18:39.000939Z",
     "iopub.status.busy": "2022-12-30T22:18:39.000611Z",
     "iopub.status.idle": "2022-12-30T22:18:39.007053Z",
     "shell.execute_reply": "2022-12-30T22:18:39.006076Z",
     "shell.execute_reply.started": "2022-12-30T22:18:39.000908Z"
    },
    "tags": []
   },
   "outputs": [
    {
     "data": {
      "text/plain": [
       "'/cellar/users/aklie/projects/igvf/topic_grn_links/grn_inference/mouse_adrenal/scenic/result/pipeline_subset/adrenal_Parse_10x_integrated_RNA_subset_run1_pyscenic_output.loom'"
      ]
     },
     "execution_count": 58,
     "metadata": {},
     "output_type": "execute_result"
    }
   ],
   "source": [
    "files[0]"
   ]
  },
  {
   "cell_type": "code",
   "execution_count": 59,
   "id": "d3ce0fc5-34a9-4ceb-a70c-625a54106847",
   "metadata": {
    "execution": {
     "iopub.execute_input": "2022-12-30T22:18:42.070800Z",
     "iopub.status.busy": "2022-12-30T22:18:42.070372Z",
     "iopub.status.idle": "2022-12-30T22:18:43.282210Z",
     "shell.execute_reply": "2022-12-30T22:18:43.280742Z",
     "shell.execute_reply.started": "2022-12-30T22:18:42.070769Z"
    },
    "tags": []
   },
   "outputs": [],
   "source": [
    "\n",
    "    \n",
    "# collect SCENIC AUCell output\n",
    "lf = lp.connect(files[0], mode='r+', validate=False )\n",
    "meta = json.loads(zlib.decompress(base64.b64decode( lf.attrs.MetaData )))\n",
    "exprMat = pd.DataFrame( lf[:,:], index=lf.ra.Gene, columns=lf.ca.CellID).T\n",
    "auc_mtx = pd.DataFrame( lf.ca.RegulonsAUC, index=lf.ca.CellID)\n",
    "\n",
    "# create a dictionary of regulons:\n",
    "regulons = {}\n",
    "for i,r in pd.DataFrame(lf.ra.Regulons,index=lf.ra.Gene).iteritems():\n",
    "    regulons[i] =  list(r[r==1].index.values)\n",
    "lf.close()"
   ]
  },
  {
   "cell_type": "code",
   "execution_count": 60,
   "id": "6592bf43-524c-4512-9b3e-4eff5cff2ace",
   "metadata": {
    "execution": {
     "iopub.execute_input": "2022-12-30T22:18:44.762369Z",
     "iopub.status.busy": "2022-12-30T22:18:44.762022Z",
     "iopub.status.idle": "2022-12-30T22:18:44.769932Z",
     "shell.execute_reply": "2022-12-30T22:18:44.768864Z",
     "shell.execute_reply.started": "2022-12-30T22:18:44.762321Z"
    },
    "tags": []
   },
   "outputs": [
    {
     "data": {
      "text/plain": [
       "['Atp6v1h', 'Pcmtd1', 'Ube2w', 'Paqr8', 'Smap1']"
      ]
     },
     "execution_count": 60,
     "metadata": {},
     "output_type": "execute_result"
    }
   ],
   "source": [
    "regulons[\"Egr1(+)\"][:5]"
   ]
  },
  {
   "cell_type": "code",
   "execution_count": 61,
   "id": "3775a938-49d3-4956-bdfd-b770fe17ba55",
   "metadata": {
    "execution": {
     "iopub.execute_input": "2022-12-30T22:18:45.590764Z",
     "iopub.status.busy": "2022-12-30T22:18:45.590356Z",
     "iopub.status.idle": "2022-12-30T22:18:45.599197Z",
     "shell.execute_reply": "2022-12-30T22:18:45.598274Z",
     "shell.execute_reply.started": "2022-12-30T22:18:45.590733Z"
    },
    "tags": []
   },
   "outputs": [
    {
     "data": {
      "text/plain": [
       "CCAGTTCAGTGTTCTA_15.ENCLB366QRE    0.140032\n",
       "TGAAGAGAAGTGGTCA_30.ENCLB856JIZ    0.102827\n",
       "TCTTCACAAAACATCG_4.ENCLB071PVC     0.130238\n",
       "TCTTCACAAAGGTACA_12.ENCLB048AFA    0.120730\n",
       "AGATGTACAGTACAAG_44.ENCLB391MDC    0.060324\n",
       "                                     ...   \n",
       "TCCTCAATCCCATAAA.ENCLB495DSX       0.151293\n",
       "CAACCACAGAATCTGA_2.ENCLB486GRF     0.121861\n",
       "AACTCACCGTACGCAA_20.ENCLB804GBP    0.113921\n",
       "ATCACAATCGGCTATG.ENCLB663TUU       0.135487\n",
       "CGCATACACCTCCTGA_32.ENCLB391MDC    0.139932\n",
       "Name: Egr1(+), Length: 1000, dtype: float64"
      ]
     },
     "execution_count": 61,
     "metadata": {},
     "output_type": "execute_result"
    }
   ],
   "source": [
    "auc_mtx[\"Egr1(+)\"]"
   ]
  },
  {
   "cell_type": "code",
   "execution_count": 62,
   "id": "c8394e78-6425-48ca-aa0a-753f2d169a06",
   "metadata": {
    "execution": {
     "iopub.execute_input": "2022-12-30T22:18:47.515536Z",
     "iopub.status.busy": "2022-12-30T22:18:47.515125Z",
     "iopub.status.idle": "2022-12-30T22:18:47.519742Z",
     "shell.execute_reply": "2022-12-30T22:18:47.518792Z",
     "shell.execute_reply.started": "2022-12-30T22:18:47.515504Z"
    },
    "tags": []
   },
   "outputs": [],
   "source": []
  },
  {
   "cell_type": "code",
   "execution_count": 49,
   "id": "fd09f415-2fa8-4742-8046-c8b452b1099c",
   "metadata": {
    "execution": {
     "iopub.execute_input": "2022-12-30T22:15:14.519254Z",
     "iopub.status.busy": "2022-12-30T22:15:14.518919Z",
     "iopub.status.idle": "2022-12-30T22:15:14.524069Z",
     "shell.execute_reply": "2022-12-30T22:15:14.522940Z",
     "shell.execute_reply.started": "2022-12-30T22:15:14.519221Z"
    },
    "tags": []
   },
   "outputs": [],
   "source": [
    "# UMAP\n",
    "run_umap = umap.UMAP(n_neighbors=10, min_dist=0.4, metric='correlation').fit_transform"
   ]
  },
  {
   "cell_type": "code",
   "execution_count": 50,
   "id": "1fc7492c-17bd-4db4-a69b-69411c9128c3",
   "metadata": {
    "execution": {
     "iopub.execute_input": "2022-12-30T22:15:27.982222Z",
     "iopub.status.busy": "2022-12-30T22:15:27.981882Z",
     "iopub.status.idle": "2022-12-30T22:15:37.477472Z",
     "shell.execute_reply": "2022-12-30T22:15:37.475972Z",
     "shell.execute_reply.started": "2022-12-30T22:15:27.982188Z"
    }
   },
   "outputs": [],
   "source": [
    "dr_umap = run_umap(auc_mtx)"
   ]
  },
  {
   "cell_type": "code",
   "execution_count": 51,
   "id": "e707417f-8dfa-4f81-9a13-eb3e9451cb7e",
   "metadata": {
    "execution": {
     "iopub.execute_input": "2022-12-30T22:15:37.480141Z",
     "iopub.status.busy": "2022-12-30T22:15:37.479861Z",
     "iopub.status.idle": "2022-12-30T22:15:37.486812Z",
     "shell.execute_reply": "2022-12-30T22:15:37.485701Z",
     "shell.execute_reply.started": "2022-12-30T22:15:37.480113Z"
    }
   },
   "outputs": [],
   "source": [
    "umap_df = pd.DataFrame(dr_umap, columns=['X', 'Y'], index=auc_mtx.index)"
   ]
  },
  {
   "cell_type": "code",
   "execution_count": 52,
   "id": "7861eae8-97f4-4cd0-adc0-b7e5a2f6f606",
   "metadata": {
    "execution": {
     "iopub.execute_input": "2022-12-30T22:15:37.536543Z",
     "iopub.status.busy": "2022-12-30T22:15:37.536173Z",
     "iopub.status.idle": "2022-12-30T22:15:37.548305Z",
     "shell.execute_reply": "2022-12-30T22:15:37.547494Z",
     "shell.execute_reply.started": "2022-12-30T22:15:37.536517Z"
    }
   },
   "outputs": [
    {
     "data": {
      "text/html": [
       "<div>\n",
       "<style scoped>\n",
       "    .dataframe tbody tr th:only-of-type {\n",
       "        vertical-align: middle;\n",
       "    }\n",
       "\n",
       "    .dataframe tbody tr th {\n",
       "        vertical-align: top;\n",
       "    }\n",
       "\n",
       "    .dataframe thead th {\n",
       "        text-align: right;\n",
       "    }\n",
       "</style>\n",
       "<table border=\"1\" class=\"dataframe\">\n",
       "  <thead>\n",
       "    <tr style=\"text-align: right;\">\n",
       "      <th></th>\n",
       "      <th>X</th>\n",
       "      <th>Y</th>\n",
       "    </tr>\n",
       "  </thead>\n",
       "  <tbody>\n",
       "    <tr>\n",
       "      <th>CCAGTTCAGTGTTCTA_15.ENCLB366QRE</th>\n",
       "      <td>10.015979</td>\n",
       "      <td>5.963696</td>\n",
       "    </tr>\n",
       "    <tr>\n",
       "      <th>TGAAGAGAAGTGGTCA_30.ENCLB856JIZ</th>\n",
       "      <td>7.532521</td>\n",
       "      <td>6.314390</td>\n",
       "    </tr>\n",
       "    <tr>\n",
       "      <th>TCTTCACAAAACATCG_4.ENCLB071PVC</th>\n",
       "      <td>7.890351</td>\n",
       "      <td>9.043627</td>\n",
       "    </tr>\n",
       "    <tr>\n",
       "      <th>TCTTCACAAAGGTACA_12.ENCLB048AFA</th>\n",
       "      <td>10.315470</td>\n",
       "      <td>7.361802</td>\n",
       "    </tr>\n",
       "    <tr>\n",
       "      <th>AGATGTACAGTACAAG_44.ENCLB391MDC</th>\n",
       "      <td>-0.333069</td>\n",
       "      <td>1.909874</td>\n",
       "    </tr>\n",
       "    <tr>\n",
       "      <th>...</th>\n",
       "      <td>...</td>\n",
       "      <td>...</td>\n",
       "    </tr>\n",
       "    <tr>\n",
       "      <th>TCCTCAATCCCATAAA.ENCLB495DSX</th>\n",
       "      <td>7.931654</td>\n",
       "      <td>0.261038</td>\n",
       "    </tr>\n",
       "    <tr>\n",
       "      <th>CAACCACAGAATCTGA_2.ENCLB486GRF</th>\n",
       "      <td>8.877005</td>\n",
       "      <td>6.303806</td>\n",
       "    </tr>\n",
       "    <tr>\n",
       "      <th>AACTCACCGTACGCAA_20.ENCLB804GBP</th>\n",
       "      <td>8.057991</td>\n",
       "      <td>10.467656</td>\n",
       "    </tr>\n",
       "    <tr>\n",
       "      <th>ATCACAATCGGCTATG.ENCLB663TUU</th>\n",
       "      <td>13.474362</td>\n",
       "      <td>8.404571</td>\n",
       "    </tr>\n",
       "    <tr>\n",
       "      <th>CGCATACACCTCCTGA_32.ENCLB391MDC</th>\n",
       "      <td>9.898954</td>\n",
       "      <td>5.729009</td>\n",
       "    </tr>\n",
       "  </tbody>\n",
       "</table>\n",
       "<p>1000 rows × 2 columns</p>\n",
       "</div>"
      ],
      "text/plain": [
       "                                         X          Y\n",
       "CCAGTTCAGTGTTCTA_15.ENCLB366QRE  10.015979   5.963696\n",
       "TGAAGAGAAGTGGTCA_30.ENCLB856JIZ   7.532521   6.314390\n",
       "TCTTCACAAAACATCG_4.ENCLB071PVC    7.890351   9.043627\n",
       "TCTTCACAAAGGTACA_12.ENCLB048AFA  10.315470   7.361802\n",
       "AGATGTACAGTACAAG_44.ENCLB391MDC  -0.333069   1.909874\n",
       "...                                    ...        ...\n",
       "TCCTCAATCCCATAAA.ENCLB495DSX      7.931654   0.261038\n",
       "CAACCACAGAATCTGA_2.ENCLB486GRF    8.877005   6.303806\n",
       "AACTCACCGTACGCAA_20.ENCLB804GBP   8.057991  10.467656\n",
       "ATCACAATCGGCTATG.ENCLB663TUU     13.474362   8.404571\n",
       "CGCATACACCTCCTGA_32.ENCLB391MDC   9.898954   5.729009\n",
       "\n",
       "[1000 rows x 2 columns]"
      ]
     },
     "execution_count": 52,
     "metadata": {},
     "output_type": "execute_result"
    }
   ],
   "source": [
    "umap_df"
   ]
  },
  {
   "cell_type": "code",
   "execution_count": 53,
   "id": "5073fb84-ed54-43d6-8cf3-4570a751d9bd",
   "metadata": {
    "execution": {
     "iopub.execute_input": "2022-12-30T22:15:55.007136Z",
     "iopub.status.busy": "2022-12-30T22:15:55.006830Z",
     "iopub.status.idle": "2022-12-30T22:15:55.011687Z",
     "shell.execute_reply": "2022-12-30T22:15:55.010671Z",
     "shell.execute_reply.started": "2022-12-30T22:15:55.007106Z"
    }
   },
   "outputs": [],
   "source": [
    "import matplotlib.pyplot as plt"
   ]
  },
  {
   "cell_type": "code",
   "execution_count": 54,
   "id": "1567dc5a-8b5e-4fb1-8aac-816f4c97497e",
   "metadata": {
    "execution": {
     "iopub.execute_input": "2022-12-30T22:16:11.513244Z",
     "iopub.status.busy": "2022-12-30T22:16:11.512931Z",
     "iopub.status.idle": "2022-12-30T22:16:12.319797Z",
     "shell.execute_reply": "2022-12-30T22:16:12.318705Z",
     "shell.execute_reply.started": "2022-12-30T22:16:11.513214Z"
    }
   },
   "outputs": [
    {
     "data": {
      "text/plain": [
       "<matplotlib.collections.PathCollection at 0x15550201c6d0>"
      ]
     },
     "execution_count": 54,
     "metadata": {},
     "output_type": "execute_result"
    },
    {
     "data": {
      "image/png": "[encoded data removed]",
      "text/plain": [
       "<Figure size 432x288 with 1 Axes>"
      ]
     },
     "metadata": {
      "needs_background": "light"
     },
     "output_type": "display_data"
    }
   ],
   "source": [
    "plt.scatter(umap_df[\"X\"], umap_df[\"Y\"])"
   ]
  },
  {
   "cell_type": "code",
   "execution_count": null,
   "id": "9ac9ec71-335a-4f6c-9381-208c38d5a185",
   "metadata": {},
   "outputs": [],
   "source": []
  }
 ],
 "metadata": {
  "kernelspec": {
   "display_name": "Python 3.8 scverse",
   "language": "python",
   "name": "scverse-py38"
  },
  "language_info": {
   "codemirror_mode": {
    "name": "ipython",
    "version": 3
   },
   "file_extension": ".py",
   "mimetype": "text/x-python",
   "name": "python",
   "nbconvert_exporter": "python",
   "pygments_lexer": "ipython3",
   "version": "3.8.13"
  }
 },
 "nbformat": 4,
 "nbformat_minor": 5
}
