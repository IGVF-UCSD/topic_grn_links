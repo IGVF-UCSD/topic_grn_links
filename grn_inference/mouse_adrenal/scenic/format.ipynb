{
 "cells": [
  {
   "cell_type": "markdown",
   "id": "b280b0c5-e9ea-4f55-8f41-2836eccfb08d",
   "metadata": {},
   "source": [
    "# Formatting data"
   ]
  },
  {
   "cell_type": "code",
   "execution_count": 2,
   "id": "9844c509-d7ce-4f87-ae08-4776b6f89da1",
   "metadata": {
    "execution": {
     "iopub.execute_input": "2022-12-08T16:02:34.625459Z",
     "iopub.status.busy": "2022-12-08T16:02:34.586836Z",
     "iopub.status.idle": "2022-12-08T16:03:04.566053Z",
     "shell.execute_reply": "2022-12-08T16:03:04.564070Z"
    },
    "tags": []
   },
   "outputs": [],
   "source": [
    "suppressMessages(library(Seurat))"
   ]
  },
  {
   "cell_type": "code",
   "execution_count": 9,
   "id": "a0899005-4fe5-44e4-a903-365f647d0ab9",
   "metadata": {
    "execution": {
     "iopub.execute_input": "2022-12-08T16:38:04.027932Z",
     "iopub.status.busy": "2022-12-08T16:38:04.026019Z",
     "iopub.status.idle": "2022-12-08T16:39:40.891374Z",
     "shell.execute_reply": "2022-12-08T16:39:40.889484Z"
    },
    "tags": []
   },
   "outputs": [],
   "source": [
    "# Read in the R object\n",
    "dat <- readRDS(\"../../data/mouse_adrenal/auxiliary_data/snrna/adrenal_Parse_10x_integrated.rds\")\n",
    "suppressMessages(library(loomR))\n",
    "suppressMessages(library(SeuratDisk))"
   ]
  },
  {
   "cell_type": "code",
   "execution_count": 5,
   "id": "a3ec5972-9b8f-4f2a-b05d-cf5ffb7a8244",
   "metadata": {
    "execution": {
     "iopub.execute_input": "2022-12-08T16:09:39.587686Z",
     "iopub.status.busy": "2022-12-08T16:09:39.585649Z",
     "iopub.status.idle": "2022-12-08T16:09:39.638473Z",
     "shell.execute_reply": "2022-12-08T16:09:39.636136Z"
    },
    "tags": []
   },
   "outputs": [
    {
     "data": {
      "text/html": [
       "<table class=\"dataframe\">\n",
       "<caption>A data.frame: 6 × 52</caption>\n",
       "<thead>\n",
       "\t<tr><th></th><th scope=col>orig.ident</th><th scope=col>nCount_RNA</th><th scope=col>nFeature_RNA</th><th scope=col>cellID</th><th scope=col>doublet_scores</th><th scope=col>doublets</th><th scope=col>library_accession</th><th scope=col>technology</th><th scope=col>species</th><th scope=col>tissue</th><th scope=col>⋯</th><th scope=col>Myeloid_membership_score</th><th scope=col>Sox10._membership_score</th><th scope=col>Fibroblast_membership_score</th><th scope=col>Medulla_membership_score</th><th scope=col>Stromal_membership_score</th><th scope=col>Smooth_muscle_membership_score</th><th scope=col>Capsule_membership_score</th><th scope=col>Hepatocyte_membership_score</th><th scope=col>Myonuclei_membership_score</th><th scope=col>gen_celltype_membership_score</th></tr>\n",
       "\t<tr><th></th><th scope=col>&lt;chr&gt;</th><th scope=col>&lt;dbl&gt;</th><th scope=col>&lt;int&gt;</th><th scope=col>&lt;chr&gt;</th><th scope=col>&lt;dbl&gt;</th><th scope=col>&lt;chr&gt;</th><th scope=col>&lt;chr&gt;</th><th scope=col>&lt;chr&gt;</th><th scope=col>&lt;chr&gt;</th><th scope=col>&lt;chr&gt;</th><th scope=col>⋯</th><th scope=col>&lt;dbl&gt;</th><th scope=col>&lt;dbl&gt;</th><th scope=col>&lt;dbl&gt;</th><th scope=col>&lt;dbl&gt;</th><th scope=col>&lt;dbl&gt;</th><th scope=col>&lt;dbl&gt;</th><th scope=col>&lt;dbl&gt;</th><th scope=col>&lt;dbl&gt;</th><th scope=col>&lt;dbl&gt;</th><th scope=col>&lt;dbl&gt;</th></tr>\n",
       "</thead>\n",
       "<tbody>\n",
       "\t<tr><th scope=row>AAACAGCCAATATACC.ENCLB069PRB</th><td>SeuratProject</td><td> 5747</td><td>2731</td><td>AAACAGCCAATATACC.ENCLB069PRB</td><td>0.09895227</td><td>False</td><td>ENCLB069PRB</td><td>10x</td><td>Bl6/Cast</td><td>Adrenal</td><td>⋯</td><td> 5.011310</td><td>3.549678</td><td>10.335827</td><td>11.43205</td><td> 7.882373</td><td>0.8004176</td><td>1.426831</td><td>4.471898</td><td>1.131025</td><td>1.131025</td></tr>\n",
       "\t<tr><th scope=row>AAACAGCCATGGCCCA.ENCLB069PRB</th><td>SeuratProject</td><td> 4290</td><td>2376</td><td>AAACAGCCATGGCCCA.ENCLB069PRB</td><td>0.06472197</td><td>False</td><td>ENCLB069PRB</td><td>10x</td><td>Bl6/Cast</td><td>Adrenal</td><td>⋯</td><td> 8.111888</td><td>3.449883</td><td>11.771562</td><td>10.72261</td><td>11.561772</td><td>1.4452214</td><td>2.587413</td><td>7.202797</td><td>1.398601</td><td>1.398601</td></tr>\n",
       "\t<tr><th scope=row>AAACATGCAAAGCTCC.ENCLB069PRB</th><td>SeuratProject</td><td>14701</td><td>4981</td><td>AAACATGCAAAGCTCC.ENCLB069PRB</td><td>0.04960000</td><td>False</td><td>ENCLB069PRB</td><td>10x</td><td>Bl6/Cast</td><td>Adrenal</td><td>⋯</td><td> 5.945174</td><td>3.394327</td><td> 9.904088</td><td>10.29182</td><td> 7.679750</td><td>0.8434800</td><td>1.754983</td><td>5.781920</td><td>1.054350</td><td>1.054350</td></tr>\n",
       "\t<tr><th scope=row>AAACATGCAACTAGGG.ENCLB069PRB</th><td>SeuratProject</td><td> 3551</td><td>1904</td><td>AAACATGCAACTAGGG.ENCLB069PRB</td><td>0.04400607</td><td>False</td><td>ENCLB069PRB</td><td>10x</td><td>Bl6/Cast</td><td>Adrenal</td><td>⋯</td><td> 5.941988</td><td>3.858068</td><td>11.095466</td><td>10.56041</td><td> 6.983948</td><td>0.8448324</td><td>1.154604</td><td>7.856942</td><td>2.224725</td><td>2.224725</td></tr>\n",
       "\t<tr><th scope=row>AAACATGCAGCAATAA.ENCLB069PRB</th><td>SeuratProject</td><td> 2531</td><td>1429</td><td>AAACATGCAGCAATAA.ENCLB069PRB</td><td>0.10545455</td><td>False</td><td>ENCLB069PRB</td><td>10x</td><td>Bl6/Cast</td><td>Adrenal</td><td>⋯</td><td>21.493481</td><td>4.385618</td><td>11.853023</td><td>12.84077</td><td>10.430660</td><td>1.0272620</td><td>2.647175</td><td>7.072303</td><td>2.252074</td><td>2.252074</td></tr>\n",
       "\t<tr><th scope=row>AAACCAACAACAGCCT.ENCLB069PRB</th><td>SeuratProject</td><td> 8580</td><td>3782</td><td>AAACCAACAACAGCCT.ENCLB069PRB</td><td>0.17894737</td><td>False</td><td>ENCLB069PRB</td><td>10x</td><td>Bl6/Cast</td><td>Adrenal</td><td>⋯</td><td> 6.561772</td><td>6.363636</td><td> 8.916084</td><td>10.62937</td><td> 8.811189</td><td>1.3170163</td><td>2.074592</td><td>7.494172</td><td>1.258741</td><td>1.258741</td></tr>\n",
       "</tbody>\n",
       "</table>\n"
      ],
      "text/latex": [
       "A data.frame: 6 × 52\n",
       "\\begin{tabular}{r|lllllllllllllllllllll}\n",
       "  & orig.ident & nCount\\_RNA & nFeature\\_RNA & cellID & doublet\\_scores & doublets & library\\_accession & technology & species & tissue & ⋯ & Myeloid\\_membership\\_score & Sox10.\\_membership\\_score & Fibroblast\\_membership\\_score & Medulla\\_membership\\_score & Stromal\\_membership\\_score & Smooth\\_muscle\\_membership\\_score & Capsule\\_membership\\_score & Hepatocyte\\_membership\\_score & Myonuclei\\_membership\\_score & gen\\_celltype\\_membership\\_score\\\\\n",
       "  & <chr> & <dbl> & <int> & <chr> & <dbl> & <chr> & <chr> & <chr> & <chr> & <chr> & ⋯ & <dbl> & <dbl> & <dbl> & <dbl> & <dbl> & <dbl> & <dbl> & <dbl> & <dbl> & <dbl>\\\\\n",
       "\\hline\n",
       "\tAAACAGCCAATATACC.ENCLB069PRB & SeuratProject &  5747 & 2731 & AAACAGCCAATATACC.ENCLB069PRB & 0.09895227 & False & ENCLB069PRB & 10x & Bl6/Cast & Adrenal & ⋯ &  5.011310 & 3.549678 & 10.335827 & 11.43205 &  7.882373 & 0.8004176 & 1.426831 & 4.471898 & 1.131025 & 1.131025\\\\\n",
       "\tAAACAGCCATGGCCCA.ENCLB069PRB & SeuratProject &  4290 & 2376 & AAACAGCCATGGCCCA.ENCLB069PRB & 0.06472197 & False & ENCLB069PRB & 10x & Bl6/Cast & Adrenal & ⋯ &  8.111888 & 3.449883 & 11.771562 & 10.72261 & 11.561772 & 1.4452214 & 2.587413 & 7.202797 & 1.398601 & 1.398601\\\\\n",
       "\tAAACATGCAAAGCTCC.ENCLB069PRB & SeuratProject & 14701 & 4981 & AAACATGCAAAGCTCC.ENCLB069PRB & 0.04960000 & False & ENCLB069PRB & 10x & Bl6/Cast & Adrenal & ⋯ &  5.945174 & 3.394327 &  9.904088 & 10.29182 &  7.679750 & 0.8434800 & 1.754983 & 5.781920 & 1.054350 & 1.054350\\\\\n",
       "\tAAACATGCAACTAGGG.ENCLB069PRB & SeuratProject &  3551 & 1904 & AAACATGCAACTAGGG.ENCLB069PRB & 0.04400607 & False & ENCLB069PRB & 10x & Bl6/Cast & Adrenal & ⋯ &  5.941988 & 3.858068 & 11.095466 & 10.56041 &  6.983948 & 0.8448324 & 1.154604 & 7.856942 & 2.224725 & 2.224725\\\\\n",
       "\tAAACATGCAGCAATAA.ENCLB069PRB & SeuratProject &  2531 & 1429 & AAACATGCAGCAATAA.ENCLB069PRB & 0.10545455 & False & ENCLB069PRB & 10x & Bl6/Cast & Adrenal & ⋯ & 21.493481 & 4.385618 & 11.853023 & 12.84077 & 10.430660 & 1.0272620 & 2.647175 & 7.072303 & 2.252074 & 2.252074\\\\\n",
       "\tAAACCAACAACAGCCT.ENCLB069PRB & SeuratProject &  8580 & 3782 & AAACCAACAACAGCCT.ENCLB069PRB & 0.17894737 & False & ENCLB069PRB & 10x & Bl6/Cast & Adrenal & ⋯ &  6.561772 & 6.363636 &  8.916084 & 10.62937 &  8.811189 & 1.3170163 & 2.074592 & 7.494172 & 1.258741 & 1.258741\\\\\n",
       "\\end{tabular}\n"
      ],
      "text/markdown": [
       "\n",
       "A data.frame: 6 × 52\n",
       "\n",
       "| <!--/--> | orig.ident &lt;chr&gt; | nCount_RNA &lt;dbl&gt; | nFeature_RNA &lt;int&gt; | cellID &lt;chr&gt; | doublet_scores &lt;dbl&gt; | doublets &lt;chr&gt; | library_accession &lt;chr&gt; | technology &lt;chr&gt; | species &lt;chr&gt; | tissue &lt;chr&gt; | ⋯ ⋯ | Myeloid_membership_score &lt;dbl&gt; | Sox10._membership_score &lt;dbl&gt; | Fibroblast_membership_score &lt;dbl&gt; | Medulla_membership_score &lt;dbl&gt; | Stromal_membership_score &lt;dbl&gt; | Smooth_muscle_membership_score &lt;dbl&gt; | Capsule_membership_score &lt;dbl&gt; | Hepatocyte_membership_score &lt;dbl&gt; | Myonuclei_membership_score &lt;dbl&gt; | gen_celltype_membership_score &lt;dbl&gt; |\n",
       "|---|---|---|---|---|---|---|---|---|---|---|---|---|---|---|---|---|---|---|---|---|---|\n",
       "| AAACAGCCAATATACC.ENCLB069PRB | SeuratProject |  5747 | 2731 | AAACAGCCAATATACC.ENCLB069PRB | 0.09895227 | False | ENCLB069PRB | 10x | Bl6/Cast | Adrenal | ⋯ |  5.011310 | 3.549678 | 10.335827 | 11.43205 |  7.882373 | 0.8004176 | 1.426831 | 4.471898 | 1.131025 | 1.131025 |\n",
       "| AAACAGCCATGGCCCA.ENCLB069PRB | SeuratProject |  4290 | 2376 | AAACAGCCATGGCCCA.ENCLB069PRB | 0.06472197 | False | ENCLB069PRB | 10x | Bl6/Cast | Adrenal | ⋯ |  8.111888 | 3.449883 | 11.771562 | 10.72261 | 11.561772 | 1.4452214 | 2.587413 | 7.202797 | 1.398601 | 1.398601 |\n",
       "| AAACATGCAAAGCTCC.ENCLB069PRB | SeuratProject | 14701 | 4981 | AAACATGCAAAGCTCC.ENCLB069PRB | 0.04960000 | False | ENCLB069PRB | 10x | Bl6/Cast | Adrenal | ⋯ |  5.945174 | 3.394327 |  9.904088 | 10.29182 |  7.679750 | 0.8434800 | 1.754983 | 5.781920 | 1.054350 | 1.054350 |\n",
       "| AAACATGCAACTAGGG.ENCLB069PRB | SeuratProject |  3551 | 1904 | AAACATGCAACTAGGG.ENCLB069PRB | 0.04400607 | False | ENCLB069PRB | 10x | Bl6/Cast | Adrenal | ⋯ |  5.941988 | 3.858068 | 11.095466 | 10.56041 |  6.983948 | 0.8448324 | 1.154604 | 7.856942 | 2.224725 | 2.224725 |\n",
       "| AAACATGCAGCAATAA.ENCLB069PRB | SeuratProject |  2531 | 1429 | AAACATGCAGCAATAA.ENCLB069PRB | 0.10545455 | False | ENCLB069PRB | 10x | Bl6/Cast | Adrenal | ⋯ | 21.493481 | 4.385618 | 11.853023 | 12.84077 | 10.430660 | 1.0272620 | 2.647175 | 7.072303 | 2.252074 | 2.252074 |\n",
       "| AAACCAACAACAGCCT.ENCLB069PRB | SeuratProject |  8580 | 3782 | AAACCAACAACAGCCT.ENCLB069PRB | 0.17894737 | False | ENCLB069PRB | 10x | Bl6/Cast | Adrenal | ⋯ |  6.561772 | 6.363636 |  8.916084 | 10.62937 |  8.811189 | 1.3170163 | 2.074592 | 7.494172 | 1.258741 | 1.258741 |\n",
       "\n"
      ],
      "text/plain": [
       "                             orig.ident    nCount_RNA nFeature_RNA\n",
       "AAACAGCCAATATACC.ENCLB069PRB SeuratProject  5747      2731        \n",
       "AAACAGCCATGGCCCA.ENCLB069PRB SeuratProject  4290      2376        \n",
       "AAACATGCAAAGCTCC.ENCLB069PRB SeuratProject 14701      4981        \n",
       "AAACATGCAACTAGGG.ENCLB069PRB SeuratProject  3551      1904        \n",
       "AAACATGCAGCAATAA.ENCLB069PRB SeuratProject  2531      1429        \n",
       "AAACCAACAACAGCCT.ENCLB069PRB SeuratProject  8580      3782        \n",
       "                             cellID                       doublet_scores\n",
       "AAACAGCCAATATACC.ENCLB069PRB AAACAGCCAATATACC.ENCLB069PRB 0.09895227    \n",
       "AAACAGCCATGGCCCA.ENCLB069PRB AAACAGCCATGGCCCA.ENCLB069PRB 0.06472197    \n",
       "AAACATGCAAAGCTCC.ENCLB069PRB AAACATGCAAAGCTCC.ENCLB069PRB 0.04960000    \n",
       "AAACATGCAACTAGGG.ENCLB069PRB AAACATGCAACTAGGG.ENCLB069PRB 0.04400607    \n",
       "AAACATGCAGCAATAA.ENCLB069PRB AAACATGCAGCAATAA.ENCLB069PRB 0.10545455    \n",
       "AAACCAACAACAGCCT.ENCLB069PRB AAACCAACAACAGCCT.ENCLB069PRB 0.17894737    \n",
       "                             doublets library_accession technology species \n",
       "AAACAGCCAATATACC.ENCLB069PRB False    ENCLB069PRB       10x        Bl6/Cast\n",
       "AAACAGCCATGGCCCA.ENCLB069PRB False    ENCLB069PRB       10x        Bl6/Cast\n",
       "AAACATGCAAAGCTCC.ENCLB069PRB False    ENCLB069PRB       10x        Bl6/Cast\n",
       "AAACATGCAACTAGGG.ENCLB069PRB False    ENCLB069PRB       10x        Bl6/Cast\n",
       "AAACATGCAGCAATAA.ENCLB069PRB False    ENCLB069PRB       10x        Bl6/Cast\n",
       "AAACCAACAACAGCCT.ENCLB069PRB False    ENCLB069PRB       10x        Bl6/Cast\n",
       "                             tissue  ⋯ Myeloid_membership_score\n",
       "AAACAGCCAATATACC.ENCLB069PRB Adrenal ⋯  5.011310               \n",
       "AAACAGCCATGGCCCA.ENCLB069PRB Adrenal ⋯  8.111888               \n",
       "AAACATGCAAAGCTCC.ENCLB069PRB Adrenal ⋯  5.945174               \n",
       "AAACATGCAACTAGGG.ENCLB069PRB Adrenal ⋯  5.941988               \n",
       "AAACATGCAGCAATAA.ENCLB069PRB Adrenal ⋯ 21.493481               \n",
       "AAACCAACAACAGCCT.ENCLB069PRB Adrenal ⋯  6.561772               \n",
       "                             Sox10._membership_score\n",
       "AAACAGCCAATATACC.ENCLB069PRB 3.549678               \n",
       "AAACAGCCATGGCCCA.ENCLB069PRB 3.449883               \n",
       "AAACATGCAAAGCTCC.ENCLB069PRB 3.394327               \n",
       "AAACATGCAACTAGGG.ENCLB069PRB 3.858068               \n",
       "AAACATGCAGCAATAA.ENCLB069PRB 4.385618               \n",
       "AAACCAACAACAGCCT.ENCLB069PRB 6.363636               \n",
       "                             Fibroblast_membership_score\n",
       "AAACAGCCAATATACC.ENCLB069PRB 10.335827                  \n",
       "AAACAGCCATGGCCCA.ENCLB069PRB 11.771562                  \n",
       "AAACATGCAAAGCTCC.ENCLB069PRB  9.904088                  \n",
       "AAACATGCAACTAGGG.ENCLB069PRB 11.095466                  \n",
       "AAACATGCAGCAATAA.ENCLB069PRB 11.853023                  \n",
       "AAACCAACAACAGCCT.ENCLB069PRB  8.916084                  \n",
       "                             Medulla_membership_score Stromal_membership_score\n",
       "AAACAGCCAATATACC.ENCLB069PRB 11.43205                  7.882373               \n",
       "AAACAGCCATGGCCCA.ENCLB069PRB 10.72261                 11.561772               \n",
       "AAACATGCAAAGCTCC.ENCLB069PRB 10.29182                  7.679750               \n",
       "AAACATGCAACTAGGG.ENCLB069PRB 10.56041                  6.983948               \n",
       "AAACATGCAGCAATAA.ENCLB069PRB 12.84077                 10.430660               \n",
       "AAACCAACAACAGCCT.ENCLB069PRB 10.62937                  8.811189               \n",
       "                             Smooth_muscle_membership_score\n",
       "AAACAGCCAATATACC.ENCLB069PRB 0.8004176                     \n",
       "AAACAGCCATGGCCCA.ENCLB069PRB 1.4452214                     \n",
       "AAACATGCAAAGCTCC.ENCLB069PRB 0.8434800                     \n",
       "AAACATGCAACTAGGG.ENCLB069PRB 0.8448324                     \n",
       "AAACATGCAGCAATAA.ENCLB069PRB 1.0272620                     \n",
       "AAACCAACAACAGCCT.ENCLB069PRB 1.3170163                     \n",
       "                             Capsule_membership_score\n",
       "AAACAGCCAATATACC.ENCLB069PRB 1.426831                \n",
       "AAACAGCCATGGCCCA.ENCLB069PRB 2.587413                \n",
       "AAACATGCAAAGCTCC.ENCLB069PRB 1.754983                \n",
       "AAACATGCAACTAGGG.ENCLB069PRB 1.154604                \n",
       "AAACATGCAGCAATAA.ENCLB069PRB 2.647175                \n",
       "AAACCAACAACAGCCT.ENCLB069PRB 2.074592                \n",
       "                             Hepatocyte_membership_score\n",
       "AAACAGCCAATATACC.ENCLB069PRB 4.471898                   \n",
       "AAACAGCCATGGCCCA.ENCLB069PRB 7.202797                   \n",
       "AAACATGCAAAGCTCC.ENCLB069PRB 5.781920                   \n",
       "AAACATGCAACTAGGG.ENCLB069PRB 7.856942                   \n",
       "AAACATGCAGCAATAA.ENCLB069PRB 7.072303                   \n",
       "AAACCAACAACAGCCT.ENCLB069PRB 7.494172                   \n",
       "                             Myonuclei_membership_score\n",
       "AAACAGCCAATATACC.ENCLB069PRB 1.131025                  \n",
       "AAACAGCCATGGCCCA.ENCLB069PRB 1.398601                  \n",
       "AAACATGCAAAGCTCC.ENCLB069PRB 1.054350                  \n",
       "AAACATGCAACTAGGG.ENCLB069PRB 2.224725                  \n",
       "AAACATGCAGCAATAA.ENCLB069PRB 2.252074                  \n",
       "AAACCAACAACAGCCT.ENCLB069PRB 1.258741                  \n",
       "                             gen_celltype_membership_score\n",
       "AAACAGCCAATATACC.ENCLB069PRB 1.131025                     \n",
       "AAACAGCCATGGCCCA.ENCLB069PRB 1.398601                     \n",
       "AAACATGCAAAGCTCC.ENCLB069PRB 1.054350                     \n",
       "AAACATGCAACTAGGG.ENCLB069PRB 2.224725                     \n",
       "AAACATGCAGCAATAA.ENCLB069PRB 2.252074                     \n",
       "AAACCAACAACAGCCT.ENCLB069PRB 1.258741                     "
      ]
     },
     "metadata": {},
     "output_type": "display_data"
    }
   ],
   "source": [
    "head(dat[[]])"
   ]
  },
  {
   "cell_type": "code",
   "execution_count": null,
   "id": "11d95a84-75ed-4f9a-bb84-a952331cbbee",
   "metadata": {},
   "outputs": [],
   "source": [
    "DimPlot(dat, reduction=\"umap\")"
   ]
  },
  {
   "cell_type": "markdown",
   "id": "cb963f58-36a4-465d-89ac-3bdfdead310c",
   "metadata": {
    "execution": {
     "iopub.execute_input": "2022-12-08T17:23:21.389457Z",
     "iopub.status.busy": "2022-12-08T17:23:21.387477Z",
     "iopub.status.idle": "2022-12-08T17:23:21.406991Z",
     "shell.execute_reply": "2022-12-08T17:23:21.404788Z"
    }
   },
   "source": [
    "# File conversions"
   ]
  },
  {
   "cell_type": "code",
   "execution_count": 31,
   "id": "439fa2ba-1ab0-4d2b-8539-5d13f95b0e36",
   "metadata": {
    "execution": {
     "iopub.execute_input": "2022-12-08T17:25:34.840441Z",
     "iopub.status.busy": "2022-12-08T17:25:34.838667Z",
     "iopub.status.idle": "2022-12-08T17:25:34.872452Z",
     "shell.execute_reply": "2022-12-08T17:25:34.870562Z"
    },
    "tags": []
   },
   "outputs": [
    {
     "data": {
      "text/html": [
       "<style>\n",
       ".list-inline {list-style: none; margin:0; padding: 0}\n",
       ".list-inline>li {display: inline-block}\n",
       ".list-inline>li:not(:last-child)::after {content: \"\\00b7\"; padding: 0 .5ex}\n",
       "</style>\n",
       "<ol class=list-inline><li>'RNA'</li><li>'SCT'</li><li>'integrated'</li><li>'integrated_nn'</li><li>'integrated_snn'</li><li>'pca'</li><li>'umap'</li></ol>\n"
      ],
      "text/latex": [
       "\\begin{enumerate*}\n",
       "\\item 'RNA'\n",
       "\\item 'SCT'\n",
       "\\item 'integrated'\n",
       "\\item 'integrated\\_nn'\n",
       "\\item 'integrated\\_snn'\n",
       "\\item 'pca'\n",
       "\\item 'umap'\n",
       "\\end{enumerate*}\n"
      ],
      "text/markdown": [
       "1. 'RNA'\n",
       "2. 'SCT'\n",
       "3. 'integrated'\n",
       "4. 'integrated_nn'\n",
       "5. 'integrated_snn'\n",
       "6. 'pca'\n",
       "7. 'umap'\n",
       "\n",
       "\n"
      ],
      "text/plain": [
       "[1] \"RNA\"            \"SCT\"            \"integrated\"     \"integrated_nn\" \n",
       "[5] \"integrated_snn\" \"pca\"            \"umap\"          "
      ]
     },
     "metadata": {},
     "output_type": "display_data"
    }
   ],
   "source": [
    "names(dat)"
   ]
  },
  {
   "cell_type": "code",
   "execution_count": 36,
   "id": "3a00abb3-11e8-41ef-a614-880689a9efbf",
   "metadata": {
    "execution": {
     "iopub.execute_input": "2022-12-08T17:26:07.841863Z",
     "iopub.status.busy": "2022-12-08T17:26:07.839502Z",
     "iopub.status.idle": "2022-12-08T17:26:07.929372Z",
     "shell.execute_reply": "2022-12-08T17:26:07.927460Z"
    }
   },
   "outputs": [
    {
     "data": {
      "text/plain": [
       "An object of class Seurat \n",
       "82892 features across 79209 samples within 3 assays \n",
       "Active assay: RNA (47721 features, 0 variable features)\n",
       " 2 other assays present: SCT, integrated\n",
       " 2 dimensional reductions calculated: pca, umap"
      ]
     },
     "metadata": {},
     "output_type": "display_data"
    }
   ],
   "source": [
    "dat"
   ]
  },
  {
   "cell_type": "code",
   "execution_count": 37,
   "id": "37376772-3834-4bf3-8e0c-753579289a8c",
   "metadata": {
    "execution": {
     "iopub.execute_input": "2022-12-08T17:26:21.905820Z",
     "iopub.status.busy": "2022-12-08T17:26:21.904011Z",
     "iopub.status.idle": "2022-12-08T17:26:22.149889Z",
     "shell.execute_reply": "2022-12-08T17:26:22.148092Z"
    },
    "tags": []
   },
   "outputs": [],
   "source": [
    "rna_dat <- DietSeurat(dat, assays=c(\"RNA\"))"
   ]
  },
  {
   "cell_type": "code",
   "execution_count": 38,
   "id": "cf497751-d366-4cd9-8acd-a0bc3c51f767",
   "metadata": {
    "execution": {
     "iopub.execute_input": "2022-12-08T17:26:22.845742Z",
     "iopub.status.busy": "2022-12-08T17:26:22.843932Z",
     "iopub.status.idle": "2022-12-08T17:26:22.881135Z",
     "shell.execute_reply": "2022-12-08T17:26:22.879224Z"
    },
    "tags": []
   },
   "outputs": [
    {
     "data": {
      "text/plain": [
       "An object of class Seurat \n",
       "47721 features across 79209 samples within 1 assay \n",
       "Active assay: RNA (47721 features, 0 variable features)"
      ]
     },
     "metadata": {},
     "output_type": "display_data"
    }
   ],
   "source": [
    "rna_dat"
   ]
  },
  {
   "cell_type": "code",
   "execution_count": 39,
   "id": "77b39101-1544-447d-ac5b-9f6acb809c3e",
   "metadata": {
    "execution": {
     "iopub.execute_input": "2022-12-08T17:26:24.014245Z",
     "iopub.status.busy": "2022-12-08T17:26:24.012455Z",
     "iopub.status.idle": "2022-12-08T17:26:24.036828Z",
     "shell.execute_reply": "2022-12-08T17:26:24.034803Z"
    },
    "tags": []
   },
   "outputs": [
    {
     "data": {
      "text/html": [
       "'RNA'"
      ],
      "text/latex": [
       "'RNA'"
      ],
      "text/markdown": [
       "'RNA'"
      ],
      "text/plain": [
       "[1] \"RNA\""
      ]
     },
     "metadata": {},
     "output_type": "display_data"
    }
   ],
   "source": [
    "names(rna_dat)"
   ]
  },
  {
   "cell_type": "code",
   "execution_count": 41,
   "id": "58cb8ce0-366e-46ea-803d-6d8561acd817",
   "metadata": {
    "execution": {
     "iopub.execute_input": "2022-12-08T17:27:50.840134Z",
     "iopub.status.busy": "2022-12-08T17:27:50.837826Z",
     "iopub.status.idle": "2022-12-08T17:29:21.712313Z",
     "shell.execute_reply": "2022-12-08T17:29:21.710451Z"
    },
    "tags": []
   },
   "outputs": [
    {
     "name": "stderr",
     "output_type": "stream",
     "text": [
      "Creating h5Seurat file for version 3.1.5.9900\n",
      "\n",
      "Adding counts for RNA\n",
      "\n",
      "Adding data for RNA\n",
      "\n",
      "No variable features found for RNA\n",
      "\n",
      "No feature-level metadata found for RNA\n",
      "\n"
     ]
    }
   ],
   "source": [
    "SaveH5Seurat(rna_dat, filename = \"../../data/mouse_adrenal/preprocessed/snrna/adrenal_Parse_10x_integrated_RNA.h5Seurat\")"
   ]
  },
  {
   "cell_type": "code",
   "execution_count": 42,
   "id": "214a4ff6-6739-476d-bacb-9114e9865826",
   "metadata": {
    "execution": {
     "iopub.execute_input": "2022-12-08T17:29:26.043278Z",
     "iopub.status.busy": "2022-12-08T17:29:26.041344Z",
     "iopub.status.idle": "2022-12-08T17:29:40.877056Z",
     "shell.execute_reply": "2022-12-08T17:29:40.875168Z"
    }
   },
   "outputs": [
    {
     "name": "stderr",
     "output_type": "stream",
     "text": [
      "Validating h5Seurat file\n",
      "\n",
      "Adding data from RNA as X\n",
      "\n",
      "Adding counts from RNA as raw\n",
      "\n",
      "Transfering meta.data to obs\n",
      "\n"
     ]
    }
   ],
   "source": [
    "Convert(\"../../data/mouse_adrenal/preprocessed/snrna/adrenal_Parse_10x_integrated_RNA.h5Seurat\", dest = \"h5ad\")"
   ]
  },
  {
   "cell_type": "code",
   "execution_count": null,
   "id": "660366fa-07ec-49eb-ae0e-f8f57e4a6e26",
   "metadata": {
    "execution": {
     "iopub.execute_input": "2022-12-08T17:30:09.843357Z",
     "iopub.status.busy": "2022-12-08T17:30:09.841607Z"
    },
    "tags": []
   },
   "outputs": [
    {
     "name": "stderr",
     "output_type": "stream",
     "text": [
      "Saving data from RNA as /matrix\n",
      "\n"
     ]
    }
   ],
   "source": [
    "loom.file <- as.loom(rna_dat, filename = \"../../data/mouse_adrenal/preprocessed/snrna/adrenal_Parse_10x_integrated.loom\", verbose = TRUE)\n",
    "loom.file$close_all()"
   ]
  },
  {
   "cell_type": "code",
   "execution_count": null,
   "id": "17cf7b23-700d-495a-b934-0dffd59e15d1",
   "metadata": {},
   "outputs": [],
   "source": []
  }
 ],
 "metadata": {
  "kernelspec": {
   "display_name": "R 4.1.3 scverse",
   "language": "R",
   "name": "scverse-r413"
  },
  "language_info": {
   "codemirror_mode": "r",
   "file_extension": ".r",
   "mimetype": "text/x-r-source",
   "name": "R",
   "pygments_lexer": "r",
   "version": "4.1.3"
  }
 },
 "nbformat": 4,
 "nbformat_minor": 5
}
