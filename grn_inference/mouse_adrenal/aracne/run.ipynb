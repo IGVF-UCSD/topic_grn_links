{
 "cells": [
  {
   "cell_type": "markdown",
   "id": "1d80b8e9-ad2f-4753-846e-3b4e03de9c23",
   "metadata": {},
   "source": [
    "# ARACNe: Step-by-step"
   ]
  },
  {
   "cell_type": "markdown",
   "id": "50dcfc04-8e9d-4426-b6fa-e6a2a424807c",
   "metadata": {},
   "source": [
    "STEP 1: Calculate threshold"
   ]
  },
  {
   "cell_type": "code",
   "execution_count": null,
   "id": "f87ff266-183a-43e9-b5d5-a5f1f30a71ff",
   "metadata": {
    "tags": []
   },
   "outputs": [],
   "source": [
    "%%bash\n",
    "tsv_in=\"/cellar/users/aklie/data/igvf/topic_grn_links/mouse_adrenal/preprocessed/snrna/adrenal_Parse_10x_integrated_RNA_subset.tsv\"\n",
    "tf_list=\"/cellar/users/aklie/opt/shared/ARACNe/tf_cotf_signalling_list/mouse/tf_mus_symbol.txt\"\n",
    "out_dir=\"/cellar/users/aklie/projects/igvf/topic_grn_links/grn_inference/mouse_adrenal/aracne/result\"\n",
    "pval=\"1E-8\"\n",
    "sbatch --job-name=calculateThreshold_test --cpus-per-task=8 --mem-per-cpu=8G --time=14-00:00:00 calculateThreshold.sh $tsv_in $tf_list $out_dir $pval"
   ]
  },
  {
   "cell_type": "markdown",
   "id": "18187d1e-a7fb-4ae5-b784-2b71bc53e347",
   "metadata": {},
   "source": [
    "STEP 2: Run multiple reproducible bootstraps"
   ]
  },
  {
   "cell_type": "code",
   "execution_count": null,
   "id": "ed6410f8-3682-440d-bf61-4bf31f03c4cd",
   "metadata": {
    "tags": []
   },
   "outputs": [],
   "source": [
    "%%bash\n",
    "tsv_in=\"/cellar/users/aklie/data/igvf/topic_grn_links/mouse_adrenal/preprocessed/snrna/adrenal_Parse_10x_integrated_RNA_subset.tsv\"\n",
    "tf_list=\"/cellar/users/aklie/opt/shared/ARACNe/tf_cotf_signalling_list/mouse/tf_mus_symbol.txt\"\n",
    "out_dir=\"/cellar/users/aklie/projects/igvf/topic_grn_links/grn_inference/mouse_adrenal/aracne/result\"\n",
    "pval=\"1E-8\"\n",
    "num_bootstraps=\"10\"\n",
    "sbatch --job-name=grnInference_bootstrap_test --cpus-per-task=16 --mem-per-cpu=8G --time=14-00:00:00 grnInference_bootstrap.sh $tsv_in $tf_list $out_dir $pval $num_bootstraps"
   ]
  },
  {
   "cell_type": "markdown",
   "id": "c5140091-097a-4a68-a524-f6d69d1f3ae0",
   "metadata": {},
   "source": [
    "STEP 3: Consolidate the bootstrapped network"
   ]
  },
  {
   "cell_type": "code",
   "execution_count": null,
   "id": "7921c905-c157-4e6f-92c7-b4f28b2c3ce0",
   "metadata": {},
   "outputs": [],
   "source": [
    "%%bash\n",
    "out_dir=\"/cellar/users/aklie/projects/igvf/topic_grn_links/grn_inference/mouse_adrenal/aracne/result\"\n",
    "sbatch --job-name=consolidate_test --cpus-per-task=1 --mem-per-cpu=16G --time=14-00:00:00 consolidate.sh $out_dir"
   ]
  },
  {
   "cell_type": "markdown",
   "id": "24ac5e0e-4cd2-4ec7-b324-1f7494d62fba",
   "metadata": {},
   "source": [
    "# ARACNe: Pipeline"
   ]
  },
  {
   "cell_type": "markdown",
   "id": "04a8c838-7f90-46d5-8029-1d34611a8b61",
   "metadata": {},
   "source": [
    "## Single bootstrap"
   ]
  },
  {
   "cell_type": "code",
   "execution_count": null,
   "id": "0792569b-fc65-43e7-9573-5a750205a0fc",
   "metadata": {},
   "outputs": [],
   "source": [
    "%%bash\n",
    "tsv_in=\"/cellar/users/aklie/data/igvf/topic_grn_links/mouse_adrenal/preprocessed/snrna/adrenal_Parse_10x_integrated_RNA_subset.tsv\"\n",
    "tf_list=\"/cellar/users/aklie/opt/shared/ARACNe/tf_cotf_signalling_list/mouse/tf_mus_symbol.txt\"\n",
    "out_dir=\"/cellar/users/aklie/projects/igvf/topic_grn_links/grn_inference/mouse_adrenal/aracne/result/pipeline_subset\"\n",
    "pval=\"1E-8\"\n",
    "sbatch --job-name=ARACNe_singlerun_test --cpus-per-task=16 --mem-per-cpu=8G --time=14-00:00:00 ARACNe_singlerun.sh $tsv_in $tf_list $out_dir $pval"
   ]
  },
  {
   "cell_type": "markdown",
   "id": "bbc59c66-922f-4aa3-8f79-16d969b1ff21",
   "metadata": {},
   "source": [
    "## Multiple bootstrap"
   ]
  },
  {
   "cell_type": "code",
   "execution_count": null,
   "id": "e93381db-b23f-4182-930e-ec03ad951e49",
   "metadata": {},
   "outputs": [],
   "source": [
    "%%bash\n",
    "tsv_in=\"/cellar/users/aklie/data/igvf/topic_grn_links/mouse_adrenal/preprocessed/snrna/adrenal_Parse_10x_integrated_RNA.tsv\"\n",
    "tf_list=\"/cellar/users/aklie/opt/shared/ARACNe/tf_cotf_signalling_list/mouse/tf_mus_symbol.txt\"\n",
    "out_dir=\"/cellar/users/aklie/projects/igvf/topic_grn_links/grn_inference/mouse_adrenal/aracne/result/pipeline/tfs\"\n",
    "pval=\"1E-8\"\n",
    "num_bootstraps=\"10\"\n",
    "sbatch --job-name=ARACNe_multirun_tfs --cpus-per-task=16 --mem-per-cpu=32G --time=14-00:00:00 ARACNe_multirun.sh $tsv_in $tf_list $out_dir $pval $num_bootstraps"
   ]
  },
  {
   "cell_type": "markdown",
   "id": "01ec716c-6941-4b63-adfe-86dabbeaddae",
   "metadata": {},
   "source": [
    "---"
   ]
  },
  {
   "cell_type": "markdown",
   "id": "9475e8b0-d62d-4bf4-a835-ff64f82daa40",
   "metadata": {},
   "source": [
    "# Scratch"
   ]
  }
 ],
 "metadata": {
  "kernelspec": {
   "display_name": "Python 3.8 scverse",
   "language": "python",
   "name": "scverse-py38"
  },
  "language_info": {
   "codemirror_mode": {
    "name": "ipython",
    "version": 3
   },
   "file_extension": ".py",
   "mimetype": "text/x-python",
   "name": "python",
   "nbconvert_exporter": "python",
   "pygments_lexer": "ipython3",
   "version": "3.8.13"
  }
 },
 "nbformat": 4,
 "nbformat_minor": 5
}
