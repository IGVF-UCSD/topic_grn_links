{
 "cells": [
  {
   "cell_type": "code",
   "execution_count": 1,
   "id": "e4e8a9d6-2f56-4173-ab63-11bac8c74a6c",
   "metadata": {
    "execution": {
     "iopub.execute_input": "2022-12-30T23:18:57.009509Z",
     "iopub.status.busy": "2022-12-30T23:18:57.005752Z",
     "iopub.status.idle": "2022-12-30T23:19:00.119023Z",
     "shell.execute_reply": "2022-12-30T23:19:00.117247Z"
    },
    "tags": []
   },
   "outputs": [
    {
     "name": "stderr",
     "output_type": "stream",
     "text": [
      "Loading required package: Biobase\n",
      "\n",
      "Loading required package: BiocGenerics\n",
      "\n",
      "\n",
      "Attaching package: ‘BiocGenerics’\n",
      "\n",
      "\n",
      "The following objects are masked from ‘package:stats’:\n",
      "\n",
      "    IQR, mad, sd, var, xtabs\n",
      "\n",
      "\n",
      "The following objects are masked from ‘package:base’:\n",
      "\n",
      "    anyDuplicated, append, as.data.frame, basename, cbind, colnames,\n",
      "    dirname, do.call, duplicated, eval, evalq, Filter, Find, get, grep,\n",
      "    grepl, intersect, is.unsorted, lapply, Map, mapply, match, mget,\n",
      "    order, paste, pmax, pmax.int, pmin, pmin.int, Position, rank,\n",
      "    rbind, Reduce, rownames, sapply, setdiff, sort, table, tapply,\n",
      "    union, unique, unsplit, which.max, which.min\n",
      "\n",
      "\n",
      "Welcome to Bioconductor\n",
      "\n",
      "    Vignettes contain introductory material; view with\n",
      "    'browseVignettes()'. To cite Bioconductor, see\n",
      "    'citation(\"Biobase\")', and for packages 'citation(\"pkgname\")'.\n",
      "\n",
      "\n"
     ]
    }
   ],
   "source": [
    "library(viper)"
   ]
  },
  {
   "cell_type": "markdown",
   "id": "3c47734b-b169-4948-b4f4-819dbca4df7a",
   "metadata": {},
   "source": [
    "Merge the regulons from each class of TF and then run either RegProcess or aracne2regulon, whichever one works"
   ]
  },
  {
   "cell_type": "code",
   "execution_count": null,
   "id": "7e68c09c-03d6-4246-b34f-53fd5450a48d",
   "metadata": {},
   "outputs": [],
   "source": [
    "RegProcess('tutorial/pbmc_r1-net-final.tsv', cpm.mat, out.dir = 'tutorial/', out.name = 'pbmc_r1-net-')"
   ]
  },
  {
   "cell_type": "code",
   "execution_count": null,
   "id": "bcc1b619-a034-4c62-bb5d-fb4e52f3750e",
   "metadata": {
    "ExecuteTime": {
     "end_time": "2021-02-19T19:40:34.072479Z",
     "start_time": "2021-02-19T19:35:54.910Z"
    }
   },
   "outputs": [],
   "source": [
    "#MDA_non_bulk <- readRDS(file = \"../results/spher_nets/aracne/all_cells-meta.rds\")\n",
    "sct.mat <- MDA_non_bulk@assays$SCT@scale.data"
   ]
  },
  {
   "cell_type": "code",
   "execution_count": null,
   "id": "27b213b9-3d08-4b96-be7a-bc72f2b703ff",
   "metadata": {
    "ExecuteTime": {
     "end_time": "2021-02-19T19:40:34.074880Z",
     "start_time": "2021-02-19T19:35:55.500Z"
    }
   },
   "outputs": [],
   "source": [
    "regulon <- aracne2regulon(\"/cellar/users/aklie/projects/collab/stephanie/2020_08_05_spheroid_vs_network/results/spher_nets/aracne/unsupervised_out/unsupervised_grn.txt\", \n",
    "                          sct.mat)"
   ]
  },
  {
   "cell_type": "code",
   "execution_count": null,
   "id": "26f84878-5e17-4dc6-955b-3a24ed8d3f67",
   "metadata": {
    "ExecuteTime": {
     "end_time": "2021-02-19T19:40:34.077352Z",
     "start_time": "2021-02-19T19:35:55.739Z"
    }
   },
   "outputs": [],
   "source": [
    "MDA.vip <- viper(sct.mat, regulon, method = 'none')"
   ]
  },
  {
   "cell_type": "markdown",
   "id": "25c8087f-0e32-46b9-8a65-98d2d2449121",
   "metadata": {},
   "source": [
    "## UMAP vis of this matrix"
   ]
  },
  {
   "cell_type": "code",
   "execution_count": null,
   "id": "c468fadb-a219-4af2-8bcc-5c382db814c2",
   "metadata": {
    "ExecuteTime": {
     "end_time": "2021-02-19T19:40:34.124044Z",
     "start_time": "2021-02-19T19:35:59.648Z"
    }
   },
   "outputs": [],
   "source": [
    "library(umap)\n",
    "custom.config = umap.defaults\n",
    "custom.config$random_state = 1"
   ]
  },
  {
   "cell_type": "code",
   "execution_count": null,
   "id": "aa6aa8be-41bf-448a-9b31-842fd8e2d492",
   "metadata": {
    "ExecuteTime": {
     "end_time": "2021-02-19T19:40:34.128001Z",
     "start_time": "2021-02-19T19:35:59.839Z"
    }
   },
   "outputs": [],
   "source": [
    "vip.umap <- CustomUMAP(MDA.vip)"
   ]
  },
  {
   "cell_type": "code",
   "execution_count": null,
   "id": "5b144658-8303-4c34-8ecd-bfb8e459b6d3",
   "metadata": {
    "ExecuteTime": {
     "end_time": "2021-02-19T19:40:34.130625Z",
     "start_time": "2021-02-19T19:35:59.981Z"
    }
   },
   "outputs": [],
   "source": [
    "## scatter plot\n",
    "plot.dat <- data.frame('UMAP1' = vip.umap$layout[names(opt.clust),1], \n",
    "                       'UMAP2' = vip.umap$layout[names(opt.clust),2],\n",
    "                       'Cluster' = as.factor(opt.clust),\n",
    "                       'Phenotype' = MDA_non_bulk@meta.data[\"true.ident\"])\n",
    "ggplot(plot.dat, aes(UMAP1, UMAP2)) + geom_point(aes(color = true.ident)) + ggtitle('MDA Clusters')\n",
    "ggplot(plot.dat, aes(UMAP1, UMAP2)) + geom_point(aes(color = Cluster)) + ggtitle('MDA Clusters')"
   ]
  },
  {
   "cell_type": "markdown",
   "id": "c6140866-9d0f-4769-ba92-376b5f5e8c3d",
   "metadata": {},
   "source": [
    "## Heatmap visualization"
   ]
  },
  {
   "cell_type": "code",
   "execution_count": null,
   "id": "c8ab36de-1e5f-414a-a837-47a4c63f0596",
   "metadata": {
    "ExecuteTime": {
     "end_time": "2021-02-19T19:40:34.133254Z",
     "start_time": "2021-02-19T19:36:00.308Z"
    }
   },
   "outputs": [],
   "source": [
    "phenos <- factor(MDA_non_bulk@meta.data$true.ident)\n",
    "vip.mrs <- MWUMrs(MDA.vip, clust.vect = phenos)"
   ]
  },
  {
   "cell_type": "code",
   "execution_count": null,
   "id": "ba55e0f0-c325-49fb-8807-9354d0cf9fd9",
   "metadata": {
    "ExecuteTime": {
     "end_time": "2021-02-19T19:40:34.135945Z",
     "start_time": "2021-02-19T19:36:00.439Z"
    }
   },
   "outputs": [],
   "source": [
    "## create plot matrix\n",
    "num.mrs <- 25\n",
    "cell.order <- names(phenos)\n",
    "mr.set <- sapply(vip.mrs, function(x) {names(x$positive[1:num.mrs])})\n",
    "mr.set <- unique(unlist(as.list(mr.set)))\n",
    "#plot.mat <- MDA.vip[,cell.order]\n",
    "plot.mat <- MDA.vip[mr.set, cell.order]"
   ]
  },
  {
   "cell_type": "code",
   "execution_count": null,
   "id": "f64fa2e1-3d51-4080-a88b-4f46d4ab341a",
   "metadata": {
    "ExecuteTime": {
     "end_time": "2021-02-19T19:40:34.139285Z",
     "start_time": "2021-02-19T19:36:00.646Z"
    }
   },
   "outputs": [],
   "source": [
    "# set colors and annotations\n",
    "mat.breaks <- QuantileBreaks(plot.mat)\n",
    "annot.df <- data.frame('Phenotype' = phenos)\n",
    "#clust.colors <- ClusterColors(length(unique(opt.clust))); names(clust.colors) <- unique(opt.clust)\n",
    "pheno.colors <- c(\"#F8766D\", \"#00BFC4\")\n",
    "names(pheno.colors) <- c(\"Network\", \"Spheroid\")\n",
    "annot.color <- list('Phenotype' = pheno.colors)"
   ]
  },
  {
   "cell_type": "code",
   "execution_count": null,
   "id": "dcda6b53-f1fb-4310-b293-ac9ef4e93e24",
   "metadata": {
    "ExecuteTime": {
     "end_time": "2021-02-19T19:40:34.141885Z",
     "start_time": "2021-02-19T19:36:00.925Z"
    }
   },
   "outputs": [],
   "source": [
    "## generate pheatmap\n",
    "pheatmap(plot.mat, main = 'Viper Clustering: Master Regulators', fontsize = 20,\n",
    "         annotation_col = annot.df, annotation_colors = annot.color,\n",
    "         cluster_cols = FALSE, show_colnames = FALSE,\n",
    "         cluster_rows = FALSE, show_rownames = TRUE, fontsize_row = 8,\n",
    "         breaks = mat.breaks, color = ColorLevels(length(mat.breaks) - 1, 'vip'))"
   ]
  }
 ],
 "metadata": {
  "kernelspec": {
   "display_name": "R 4.1.3 scverse",
   "language": "R",
   "name": "scverse-r413"
  },
  "language_info": {
   "codemirror_mode": "r",
   "file_extension": ".r",
   "mimetype": "text/x-r-source",
   "name": "R",
   "pygments_lexer": "r",
   "version": "4.1.3"
  }
 },
 "nbformat": 4,
 "nbformat_minor": 5
}
