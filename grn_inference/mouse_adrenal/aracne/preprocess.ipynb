{
 "cells": [
  {
   "cell_type": "markdown",
   "id": "920dc8d5-c2fc-4a27-916c-70e33f7be4ea",
   "metadata": {},
   "source": [
    "# Formatting data"
   ]
  },
  {
   "cell_type": "code",
   "execution_count": 4,
   "id": "a0790d61-3686-4bdb-9d76-113467ee6eff",
   "metadata": {
    "execution": {
     "iopub.execute_input": "2022-12-14T19:15:17.977366Z",
     "iopub.status.busy": "2022-12-14T19:15:17.975615Z",
     "iopub.status.idle": "2022-12-14T19:15:18.010878Z",
     "shell.execute_reply": "2022-12-14T19:15:18.009018Z"
    },
    "tags": []
   },
   "outputs": [
    {
     "ename": "ERROR",
     "evalue": "Error in library(viper): there is no package called ‘viper’\n",
     "output_type": "error",
     "traceback": [
      "Error in library(viper): there is no package called ‘viper’\nTraceback:\n",
      "1. library(viper)"
     ]
    }
   ],
   "source": [
    "suppressMessages(library(Seurat))\n",
    "suppressMessages(library(PISCES))\n",
    "suppressMessages(library(SeuratDisk))\n",
    "suppressMessages(library(cowplot))\n",
    "suppressMessages(library(patchwork))\n",
    "suppressMessages(library(tidyverse))\n",
    "library(viper)\n",
    "theme_set(theme_cowplot())"
   ]
  },
  {
   "cell_type": "code",
   "execution_count": 2,
   "id": "d665155b-8667-47b6-8e0f-d0cf6c17c7f6",
   "metadata": {
    "execution": {
     "iopub.execute_input": "2022-12-14T19:12:38.600951Z",
     "iopub.status.busy": "2022-12-14T19:12:38.557575Z",
     "iopub.status.idle": "2022-12-14T19:14:18.859993Z",
     "shell.execute_reply": "2022-12-14T19:14:18.858022Z"
    },
    "tags": []
   },
   "outputs": [],
   "source": [
    "# Read in the R object\n",
    "dat <- readRDS(\"../../../data/mouse_adrenal/auxiliary_data/snrna/adrenal_Parse_10x_integrated.rds\")"
   ]
  },
  {
   "cell_type": "code",
   "execution_count": 3,
   "id": "b4f60b66-aa58-4db7-9907-31440b08ee0d",
   "metadata": {
    "execution": {
     "iopub.execute_input": "2022-12-14T19:14:18.864070Z",
     "iopub.status.busy": "2022-12-14T19:14:18.862544Z",
     "iopub.status.idle": "2022-12-14T19:14:18.943581Z",
     "shell.execute_reply": "2022-12-14T19:14:18.941768Z"
    }
   },
   "outputs": [
    {
     "data": {
      "text/plain": [
       "An object of class Seurat \n",
       "82892 features across 79209 samples within 3 assays \n",
       "Active assay: SCT (32171 features, 0 variable features)\n",
       " 2 other assays present: RNA, integrated\n",
       " 2 dimensional reductions calculated: pca, umap"
      ]
     },
     "metadata": {},
     "output_type": "display_data"
    }
   ],
   "source": [
    "dat"
   ]
  },
  {
   "cell_type": "markdown",
   "id": "c0d52620-828c-4efa-8e57-1ce99d75effd",
   "metadata": {},
   "source": [
    "# SCT Data"
   ]
  },
  {
   "cell_type": "markdown",
   "id": "e51f649d-12be-4f93-af03-c79f0f4595ba",
   "metadata": {},
   "source": [
    "## Single table across cell types"
   ]
  },
  {
   "cell_type": "code",
   "execution_count": 15,
   "id": "4b9af08b-bc56-4687-8bca-fd6ed3f8284c",
   "metadata": {
    "execution": {
     "iopub.execute_input": "2022-12-14T19:21:01.744203Z",
     "iopub.status.busy": "2022-12-14T19:21:01.742575Z",
     "iopub.status.idle": "2022-12-14T19:21:01.762545Z",
     "shell.execute_reply": "2022-12-14T19:21:01.760857Z"
    },
    "tags": []
   },
   "outputs": [],
   "source": [
    "mat.name <- paste0('../../../data/mouse_adrenal/preprocessed/snrna/', 'adrenal_Parse_10x_integrated_RNA.tsv')\n",
    "subset.mat.name <- paste0('../../../data/mouse_adrenal/preprocessed/snrna/', 'adrenal_Parse_10x_integrated_RNA_subset.tsv')\n",
    "sct.mat <- dat@assays$SCT@scale.data"
   ]
  },
  {
   "cell_type": "code",
   "execution_count": 16,
   "id": "d18a1184-55ab-491c-ad18-e34134af67ab",
   "metadata": {
    "execution": {
     "iopub.execute_input": "2022-12-14T19:21:03.032650Z",
     "iopub.status.busy": "2022-12-14T19:21:03.030969Z",
     "iopub.status.idle": "2022-12-14T19:21:03.531782Z",
     "shell.execute_reply": "2022-12-14T19:21:03.529964Z"
    },
    "tags": []
   },
   "outputs": [
    {
     "data": {
      "text/html": [
       "<style>\n",
       ".list-inline {list-style: none; margin:0; padding: 0}\n",
       ".list-inline>li {display: inline-block}\n",
       ".list-inline>li:not(:last-child)::after {content: \"\\00b7\"; padding: 0 .5ex}\n",
       "</style>\n",
       "<ol class=list-inline><li>3000</li><li>79209</li></ol>\n"
      ],
      "text/latex": [
       "\\begin{enumerate*}\n",
       "\\item 3000\n",
       "\\item 79209\n",
       "\\end{enumerate*}\n"
      ],
      "text/markdown": [
       "1. 3000\n",
       "2. 79209\n",
       "\n",
       "\n"
      ],
      "text/plain": [
       "[1]  3000 79209"
      ]
     },
     "metadata": {},
     "output_type": "display_data"
    }
   ],
   "source": [
    "dim(sct.mat)"
   ]
  },
  {
   "cell_type": "code",
   "execution_count": 18,
   "id": "55f5a74c-eb5e-42f8-8726-afbd61f25229",
   "metadata": {
    "execution": {
     "iopub.execute_input": "2022-12-14T19:21:04.548172Z",
     "iopub.status.busy": "2022-12-14T19:21:04.546664Z",
     "iopub.status.idle": "2022-12-14T19:21:09.148777Z",
     "shell.execute_reply": "2022-12-14T19:21:09.146098Z"
    },
    "tags": []
   },
   "outputs": [],
   "source": [
    "ARACNeTable(sct.mat, subset.mat.name, subset = TRUE)"
   ]
  },
  {
   "cell_type": "markdown",
   "id": "ef3620d2-d15b-4692-9d5d-2e01ab81b263",
   "metadata": {},
   "source": [
    "## Cell type specific networks"
   ]
  },
  {
   "cell_type": "markdown",
   "id": "36de0e3f-28fd-43da-a2f6-45e4b71c9537",
   "metadata": {},
   "source": [
    "---"
   ]
  },
  {
   "cell_type": "markdown",
   "id": "9475e8b0-d62d-4bf4-a835-ff64f82daa40",
   "metadata": {},
   "source": [
    "# Scratch"
   ]
  }
 ],
 "metadata": {
  "kernelspec": {
   "display_name": "R 4.1.3 scverse",
   "language": "R",
   "name": "scverse-r413"
  },
  "language_info": {
   "codemirror_mode": "r",
   "file_extension": ".r",
   "mimetype": "text/x-r-source",
   "name": "R",
   "pygments_lexer": "r",
   "version": "4.1.3"
  }
 },
 "nbformat": 4,
 "nbformat_minor": 5
}
