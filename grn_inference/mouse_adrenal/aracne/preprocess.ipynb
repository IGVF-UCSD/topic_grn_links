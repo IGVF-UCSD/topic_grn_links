{
 "cells": [
  {
   "cell_type": "markdown",
   "id": "920dc8d5-c2fc-4a27-916c-70e33f7be4ea",
   "metadata": {},
   "source": [
    "# Formatting data"
   ]
  },
  {
   "cell_type": "code",
   "execution_count": 2,
   "id": "a0790d61-3686-4bdb-9d76-113467ee6eff",
   "metadata": {
    "execution": {
     "iopub.execute_input": "2022-12-30T22:32:20.172589Z",
     "iopub.status.busy": "2022-12-30T22:32:20.137699Z",
     "iopub.status.idle": "2022-12-30T22:32:20.206838Z",
     "shell.execute_reply": "2022-12-30T22:32:20.205090Z"
    },
    "tags": []
   },
   "outputs": [],
   "source": [
    "suppressMessages(library(Seurat))\n",
    "suppressMessages(library(PISCES))\n",
    "suppressMessages(library(SeuratDisk))\n",
    "suppressMessages(library(cowplot))\n",
    "suppressMessages(library(patchwork))\n",
    "suppressMessages(library(tidyverse))\n",
    "theme_set(theme_cowplot())"
   ]
  },
  {
   "cell_type": "code",
   "execution_count": 3,
   "id": "d665155b-8667-47b6-8e0f-d0cf6c17c7f6",
   "metadata": {
    "execution": {
     "iopub.execute_input": "2022-12-30T22:32:23.510061Z",
     "iopub.status.busy": "2022-12-30T22:32:23.508630Z",
     "iopub.status.idle": "2022-12-30T22:33:57.902857Z",
     "shell.execute_reply": "2022-12-30T22:33:57.899785Z"
    },
    "tags": []
   },
   "outputs": [],
   "source": [
    "# Read in the R object\n",
    "dat <- readRDS(\"../../../data/mouse_adrenal/auxiliary_data/snrna/adrenal_Parse_10x_integrated.rds\")"
   ]
  },
  {
   "cell_type": "code",
   "execution_count": 4,
   "id": "b4f60b66-aa58-4db7-9907-31440b08ee0d",
   "metadata": {
    "execution": {
     "iopub.execute_input": "2022-12-30T22:33:57.907739Z",
     "iopub.status.busy": "2022-12-30T22:33:57.906028Z",
     "iopub.status.idle": "2022-12-30T22:33:58.000210Z",
     "shell.execute_reply": "2022-12-30T22:33:57.998324Z"
    },
    "tags": []
   },
   "outputs": [
    {
     "data": {
      "text/plain": [
       "An object of class Seurat \n",
       "82892 features across 79209 samples within 3 assays \n",
       "Active assay: SCT (32171 features, 0 variable features)\n",
       " 2 other assays present: RNA, integrated\n",
       " 2 dimensional reductions calculated: pca, umap"
      ]
     },
     "metadata": {},
     "output_type": "display_data"
    }
   ],
   "source": [
    "dat"
   ]
  },
  {
   "cell_type": "code",
   "execution_count": 29,
   "id": "34b8c2e7-9f2e-4b96-81c6-8e551068af36",
   "metadata": {
    "execution": {
     "iopub.execute_input": "2022-12-30T22:43:45.907000Z",
     "iopub.status.busy": "2022-12-30T22:43:45.905522Z",
     "iopub.status.idle": "2022-12-30T22:43:45.934912Z",
     "shell.execute_reply": "2022-12-30T22:43:45.933270Z"
    },
    "tags": []
   },
   "outputs": [],
   "source": [
    "raw.mat <- GetAssayData(dat, assay = \"SCT\", slot = \"counts\")"
   ]
  },
  {
   "cell_type": "code",
   "execution_count": 31,
   "id": "068ed7b1-8f3f-4af3-ae97-ff6a91a4f2a0",
   "metadata": {
    "execution": {
     "iopub.execute_input": "2022-12-30T22:43:53.052318Z",
     "iopub.status.busy": "2022-12-30T22:43:53.050852Z",
     "iopub.status.idle": "2022-12-30T22:43:53.070153Z",
     "shell.execute_reply": "2022-12-30T22:43:53.068523Z"
    }
   },
   "outputs": [
    {
     "data": {
      "text/html": [
       "<style>\n",
       ".list-inline {list-style: none; margin:0; padding: 0}\n",
       ".list-inline>li {display: inline-block}\n",
       ".list-inline>li:not(:last-child)::after {content: \"\\00b7\"; padding: 0 .5ex}\n",
       "</style>\n",
       "<ol class=list-inline><li>32171</li><li>79209</li></ol>\n"
      ],
      "text/latex": [
       "\\begin{enumerate*}\n",
       "\\item 32171\n",
       "\\item 79209\n",
       "\\end{enumerate*}\n"
      ],
      "text/markdown": [
       "1. 32171\n",
       "2. 79209\n",
       "\n",
       "\n"
      ],
      "text/plain": [
       "[1] 32171 79209"
      ]
     },
     "metadata": {},
     "output_type": "display_data"
    }
   ],
   "source": [
    "dim(raw.mat)"
   ]
  },
  {
   "cell_type": "code",
   "execution_count": 30,
   "id": "24f93def-bb96-47e0-a678-905cde02300f",
   "metadata": {
    "execution": {
     "iopub.execute_input": "2022-12-30T22:43:47.153596Z",
     "iopub.status.busy": "2022-12-30T22:43:47.152112Z",
     "iopub.status.idle": "2022-12-30T22:43:47.355323Z",
     "shell.execute_reply": "2022-12-30T22:43:47.353595Z"
    },
    "tags": []
   },
   "outputs": [
    {
     "ename": "ERROR",
     "evalue": "Error in asMethod(object): Cholmod error 'problem too large' at file ../Core/cholmod_dense.c, line 102\n",
     "output_type": "error",
     "traceback": [
      "Error in asMethod(object): Cholmod error 'problem too large' at file ../Core/cholmod_dense.c, line 102\nTraceback:\n",
      "1. as.matrix(raw.mat)",
      "2. as.matrix.Matrix(raw.mat)",
      "3. as(x, \"matrix\")",
      "4. asMethod(object)"
     ]
    }
   ],
   "source": [
    "raw.mtx <- as.matrix(raw.mat)"
   ]
  },
  {
   "cell_type": "code",
   "execution_count": 27,
   "id": "4ab3b87f-2655-42e1-885e-384641558f55",
   "metadata": {
    "execution": {
     "iopub.execute_input": "2022-12-30T22:42:41.410305Z",
     "iopub.status.busy": "2022-12-30T22:42:41.408778Z",
     "iopub.status.idle": "2022-12-30T22:42:41.702654Z",
     "shell.execute_reply": "2022-12-30T22:42:41.700955Z"
    },
    "tags": []
   },
   "outputs": [
    {
     "data": {
      "text/html": [
       "<table class=\"dataframe\">\n",
       "<caption>A matrix: 6 × 6 of type dbl</caption>\n",
       "<thead>\n",
       "\t<tr><th></th><th scope=col>AAACAGCCAATATACC.ENCLB069PRB</th><th scope=col>AAACAGCCATGGCCCA.ENCLB069PRB</th><th scope=col>AAACATGCAAAGCTCC.ENCLB069PRB</th><th scope=col>AAACATGCAACTAGGG.ENCLB069PRB</th><th scope=col>AAACATGCAGCAATAA.ENCLB069PRB</th><th scope=col>AAACCAACAACAGCCT.ENCLB069PRB</th></tr>\n",
       "</thead>\n",
       "<tbody>\n",
       "\t<tr><th scope=row>Xkr4</th><td>0</td><td>0</td><td>0</td><td>0</td><td>0</td><td>1</td></tr>\n",
       "\t<tr><th scope=row>Gm18956</th><td>0</td><td>0</td><td>0</td><td>0</td><td>0</td><td>0</td></tr>\n",
       "\t<tr><th scope=row>Gm1992</th><td>0</td><td>0</td><td>0</td><td>0</td><td>0</td><td>0</td></tr>\n",
       "\t<tr><th scope=row>Gm7341</th><td>0</td><td>0</td><td>0</td><td>0</td><td>0</td><td>0</td></tr>\n",
       "\t<tr><th scope=row>Gm19938</th><td>0</td><td>0</td><td>0</td><td>0</td><td>0</td><td>0</td></tr>\n",
       "\t<tr><th scope=row>Gm37381</th><td>0</td><td>0</td><td>0</td><td>0</td><td>0</td><td>0</td></tr>\n",
       "</tbody>\n",
       "</table>\n"
      ],
      "text/latex": [
       "A matrix: 6 × 6 of type dbl\n",
       "\\begin{tabular}{r|llllll}\n",
       "  & AAACAGCCAATATACC.ENCLB069PRB & AAACAGCCATGGCCCA.ENCLB069PRB & AAACATGCAAAGCTCC.ENCLB069PRB & AAACATGCAACTAGGG.ENCLB069PRB & AAACATGCAGCAATAA.ENCLB069PRB & AAACCAACAACAGCCT.ENCLB069PRB\\\\\n",
       "\\hline\n",
       "\tXkr4 & 0 & 0 & 0 & 0 & 0 & 1\\\\\n",
       "\tGm18956 & 0 & 0 & 0 & 0 & 0 & 0\\\\\n",
       "\tGm1992 & 0 & 0 & 0 & 0 & 0 & 0\\\\\n",
       "\tGm7341 & 0 & 0 & 0 & 0 & 0 & 0\\\\\n",
       "\tGm19938 & 0 & 0 & 0 & 0 & 0 & 0\\\\\n",
       "\tGm37381 & 0 & 0 & 0 & 0 & 0 & 0\\\\\n",
       "\\end{tabular}\n"
      ],
      "text/markdown": [
       "\n",
       "A matrix: 6 × 6 of type dbl\n",
       "\n",
       "| <!--/--> | AAACAGCCAATATACC.ENCLB069PRB | AAACAGCCATGGCCCA.ENCLB069PRB | AAACATGCAAAGCTCC.ENCLB069PRB | AAACATGCAACTAGGG.ENCLB069PRB | AAACATGCAGCAATAA.ENCLB069PRB | AAACCAACAACAGCCT.ENCLB069PRB |\n",
       "|---|---|---|---|---|---|---|\n",
       "| Xkr4 | 0 | 0 | 0 | 0 | 0 | 1 |\n",
       "| Gm18956 | 0 | 0 | 0 | 0 | 0 | 0 |\n",
       "| Gm1992 | 0 | 0 | 0 | 0 | 0 | 0 |\n",
       "| Gm7341 | 0 | 0 | 0 | 0 | 0 | 0 |\n",
       "| Gm19938 | 0 | 0 | 0 | 0 | 0 | 0 |\n",
       "| Gm37381 | 0 | 0 | 0 | 0 | 0 | 0 |\n",
       "\n"
      ],
      "text/plain": [
       "        AAACAGCCAATATACC.ENCLB069PRB AAACAGCCATGGCCCA.ENCLB069PRB\n",
       "Xkr4    0                            0                           \n",
       "Gm18956 0                            0                           \n",
       "Gm1992  0                            0                           \n",
       "Gm7341  0                            0                           \n",
       "Gm19938 0                            0                           \n",
       "Gm37381 0                            0                           \n",
       "        AAACATGCAAAGCTCC.ENCLB069PRB AAACATGCAACTAGGG.ENCLB069PRB\n",
       "Xkr4    0                            0                           \n",
       "Gm18956 0                            0                           \n",
       "Gm1992  0                            0                           \n",
       "Gm7341  0                            0                           \n",
       "Gm19938 0                            0                           \n",
       "Gm37381 0                            0                           \n",
       "        AAACATGCAGCAATAA.ENCLB069PRB AAACCAACAACAGCCT.ENCLB069PRB\n",
       "Xkr4    0                            1                           \n",
       "Gm18956 0                            0                           \n",
       "Gm1992  0                            0                           \n",
       "Gm7341  0                            0                           \n",
       "Gm19938 0                            0                           \n",
       "Gm37381 0                            0                           "
      ]
     },
     "metadata": {},
     "output_type": "display_data"
    }
   ],
   "source": [
    "as.matrix(raw.mat[1:6, 1:6])"
   ]
  },
  {
   "cell_type": "code",
   "execution_count": 21,
   "id": "172f4f55-17c2-4c40-9b7a-fcbe5bd2ecbd",
   "metadata": {
    "execution": {
     "iopub.execute_input": "2022-12-30T22:39:32.854958Z",
     "iopub.status.busy": "2022-12-30T22:39:32.853245Z",
     "iopub.status.idle": "2022-12-30T22:39:32.950607Z",
     "shell.execute_reply": "2022-12-30T22:39:32.948565Z"
    },
    "tags": []
   },
   "outputs": [],
   "source": [
    "#' Performas a CPM normalization on the given data. \n",
    "#' \n",
    "#' @param dat.mat Matrix of gene expression data (genes X samples).\n",
    "#' @param l2 Optional log2 normalization switch. Default of False.\n",
    "#' @return Returns CPM normalized matrix\n",
    "CPMTransform <- function(dat.mat, l2 = FALSE) {\n",
    "  cpm.mat <- t(t(dat.mat) / (colSums(dat.mat) / 1e6))\n",
    "  if (l2) {\n",
    "    cpm.mat <- log2(cpm.mat + 1)\n",
    "  }\n",
    "  return(cpm.mat)\n",
    "}\n",
    "\n",
    "#' Performs a rank transformation on a given matrix.\n",
    "#' \n",
    "#' @param dat.mat Matrix of data, usually gene expression (genes X samples).\n",
    "#' @return Rank transformed matrix.\n",
    "RankTransform <- function(dat.mat) {\n",
    "  rank.mat <- apply(dat.mat, 2, rank)\n",
    "  median <- apply(rank.mat, 1, median)\n",
    "  mad <- apply(rank.mat, 1, mad)\n",
    "  rank.mat <- (rank.mat - median) / mad\n",
    "  return(rank.mat)\n",
    "}"
   ]
  },
  {
   "cell_type": "code",
   "execution_count": null,
   "id": "48593239-84b3-4abd-8f58-bea2addb0b4c",
   "metadata": {},
   "outputs": [],
   "source": []
  },
  {
   "cell_type": "code",
   "execution_count": 23,
   "id": "6d1c0627-1c99-4742-b5f6-b71344f6b852",
   "metadata": {
    "execution": {
     "iopub.execute_input": "2022-12-30T22:40:35.681765Z",
     "iopub.status.busy": "2022-12-30T22:40:35.680330Z",
     "iopub.status.idle": "2022-12-30T22:40:35.699733Z",
     "shell.execute_reply": "2022-12-30T22:40:35.698060Z"
    },
    "tags": []
   },
   "outputs": [
    {
     "ename": "ERROR",
     "evalue": "Error in t.default(dat.mat): argument is not a matrix\n",
     "output_type": "error",
     "traceback": [
      "Error in t.default(dat.mat): argument is not a matrix\nTraceback:\n",
      "1. CPMTransform(raw.mat)",
      "2. t(t(dat.mat)/(colSums(dat.mat)/1e+06))   # at line 7 of file <text>",
      "3. t(dat.mat)",
      "4. t.default(dat.mat)"
     ]
    }
   ],
   "source": [
    "cpm.mat <- CPMTransform(raw.mat)\n",
    "rank.mat <- RankTransform(cpm.mat)"
   ]
  },
  {
   "cell_type": "markdown",
   "id": "e51f649d-12be-4f93-af03-c79f0f4595ba",
   "metadata": {},
   "source": [
    "## Single table across cell types"
   ]
  },
  {
   "cell_type": "code",
   "execution_count": 66,
   "id": "4b9af08b-bc56-4687-8bca-fd6ed3f8284c",
   "metadata": {
    "execution": {
     "iopub.execute_input": "2022-12-30T22:49:09.672993Z",
     "iopub.status.busy": "2022-12-30T22:49:09.671481Z",
     "iopub.status.idle": "2022-12-30T22:49:09.691553Z",
     "shell.execute_reply": "2022-12-30T22:49:09.689726Z"
    },
    "tags": []
   },
   "outputs": [],
   "source": [
    "mat.name <- paste0('../../../data/mouse_adrenal/preprocessed/snrna/', 'adrenal_Parse_10x_integrated_RNA.tsv')\n",
    "subset.mat.name <- paste0('../../../data/mouse_adrenal/preprocessed/snrna/', 'adrenal_Parse_10x_integrated_RNA_subset.tsv')\n",
    "sct.mat <- dat@assays$SCT@scale.data"
   ]
  },
  {
   "cell_type": "code",
   "execution_count": 67,
   "id": "d18a1184-55ab-491c-ad18-e34134af67ab",
   "metadata": {
    "execution": {
     "iopub.execute_input": "2022-12-30T22:49:10.087065Z",
     "iopub.status.busy": "2022-12-30T22:49:10.085562Z",
     "iopub.status.idle": "2022-12-30T22:49:10.101608Z",
     "shell.execute_reply": "2022-12-30T22:49:10.099933Z"
    },
    "tags": []
   },
   "outputs": [
    {
     "data": {
      "text/html": [
       "<style>\n",
       ".list-inline {list-style: none; margin:0; padding: 0}\n",
       ".list-inline>li {display: inline-block}\n",
       ".list-inline>li:not(:last-child)::after {content: \"\\00b7\"; padding: 0 .5ex}\n",
       "</style>\n",
       "<ol class=list-inline><li>3000</li><li>79209</li></ol>\n"
      ],
      "text/latex": [
       "\\begin{enumerate*}\n",
       "\\item 3000\n",
       "\\item 79209\n",
       "\\end{enumerate*}\n"
      ],
      "text/markdown": [
       "1. 3000\n",
       "2. 79209\n",
       "\n",
       "\n"
      ],
      "text/plain": [
       "[1]  3000 79209"
      ]
     },
     "metadata": {},
     "output_type": "display_data"
    }
   ],
   "source": [
    "dim(sct.mat)"
   ]
  },
  {
   "cell_type": "code",
   "execution_count": 68,
   "id": "6a17249f-4bac-4234-aa38-e736d5bcea0f",
   "metadata": {
    "execution": {
     "iopub.execute_input": "2022-12-30T22:49:10.836682Z",
     "iopub.status.busy": "2022-12-30T22:49:10.835151Z",
     "iopub.status.idle": "2022-12-30T22:49:10.860658Z",
     "shell.execute_reply": "2022-12-30T22:49:10.858977Z"
    },
    "tags": []
   },
   "outputs": [
    {
     "data": {
      "text/html": [
       "<table class=\"dataframe\">\n",
       "<caption>A matrix: 6 × 6 of type dbl</caption>\n",
       "<thead>\n",
       "\t<tr><th></th><th scope=col>AAACAGCCAATATACC.ENCLB069PRB</th><th scope=col>AAACAGCCATGGCCCA.ENCLB069PRB</th><th scope=col>AAACATGCAAAGCTCC.ENCLB069PRB</th><th scope=col>AAACATGCAACTAGGG.ENCLB069PRB</th><th scope=col>AAACATGCAGCAATAA.ENCLB069PRB</th><th scope=col>AAACCAACAACAGCCT.ENCLB069PRB</th></tr>\n",
       "</thead>\n",
       "<tbody>\n",
       "\t<tr><th scope=row>Xkr4</th><td>-0.9224475</td><td>-0.7663493</td><td>-1.4341209</td><td>-0.7056428</td><td>-0.5758200</td><td> 0.21506904</td></tr>\n",
       "\t<tr><th scope=row>Sox17</th><td>-0.1967594</td><td>-0.2792488</td><td> 0.3138141</td><td>-0.3808692</td><td>-0.4849125</td><td> 0.02574090</td></tr>\n",
       "\t<tr><th scope=row>St18</th><td>-1.0797149</td><td>-0.8436292</td><td>-1.9654508</td><td>-0.7221981</td><td>-0.5118624</td><td>-1.33412246</td></tr>\n",
       "\t<tr><th scope=row>Sntg1</th><td>-0.6911699</td><td>-0.5918302</td><td>-1.0516712</td><td>-0.5367270</td><td>-0.4428372</td><td>-0.81139049</td></tr>\n",
       "\t<tr><th scope=row>2610203C22Rik</th><td>-0.2887334</td><td> 7.0255214</td><td> 0.1545874</td><td>-0.4444054</td><td> 4.2507128</td><td>-0.08726803</td></tr>\n",
       "\t<tr><th scope=row>Prex2</th><td>-0.8133880</td><td> 0.4206808</td><td> 0.7182782</td><td> 2.0115627</td><td>-1.6736534</td><td> 1.74559885</td></tr>\n",
       "</tbody>\n",
       "</table>\n"
      ],
      "text/latex": [
       "A matrix: 6 × 6 of type dbl\n",
       "\\begin{tabular}{r|llllll}\n",
       "  & AAACAGCCAATATACC.ENCLB069PRB & AAACAGCCATGGCCCA.ENCLB069PRB & AAACATGCAAAGCTCC.ENCLB069PRB & AAACATGCAACTAGGG.ENCLB069PRB & AAACATGCAGCAATAA.ENCLB069PRB & AAACCAACAACAGCCT.ENCLB069PRB\\\\\n",
       "\\hline\n",
       "\tXkr4 & -0.9224475 & -0.7663493 & -1.4341209 & -0.7056428 & -0.5758200 &  0.21506904\\\\\n",
       "\tSox17 & -0.1967594 & -0.2792488 &  0.3138141 & -0.3808692 & -0.4849125 &  0.02574090\\\\\n",
       "\tSt18 & -1.0797149 & -0.8436292 & -1.9654508 & -0.7221981 & -0.5118624 & -1.33412246\\\\\n",
       "\tSntg1 & -0.6911699 & -0.5918302 & -1.0516712 & -0.5367270 & -0.4428372 & -0.81139049\\\\\n",
       "\t2610203C22Rik & -0.2887334 &  7.0255214 &  0.1545874 & -0.4444054 &  4.2507128 & -0.08726803\\\\\n",
       "\tPrex2 & -0.8133880 &  0.4206808 &  0.7182782 &  2.0115627 & -1.6736534 &  1.74559885\\\\\n",
       "\\end{tabular}\n"
      ],
      "text/markdown": [
       "\n",
       "A matrix: 6 × 6 of type dbl\n",
       "\n",
       "| <!--/--> | AAACAGCCAATATACC.ENCLB069PRB | AAACAGCCATGGCCCA.ENCLB069PRB | AAACATGCAAAGCTCC.ENCLB069PRB | AAACATGCAACTAGGG.ENCLB069PRB | AAACATGCAGCAATAA.ENCLB069PRB | AAACCAACAACAGCCT.ENCLB069PRB |\n",
       "|---|---|---|---|---|---|---|\n",
       "| Xkr4 | -0.9224475 | -0.7663493 | -1.4341209 | -0.7056428 | -0.5758200 |  0.21506904 |\n",
       "| Sox17 | -0.1967594 | -0.2792488 |  0.3138141 | -0.3808692 | -0.4849125 |  0.02574090 |\n",
       "| St18 | -1.0797149 | -0.8436292 | -1.9654508 | -0.7221981 | -0.5118624 | -1.33412246 |\n",
       "| Sntg1 | -0.6911699 | -0.5918302 | -1.0516712 | -0.5367270 | -0.4428372 | -0.81139049 |\n",
       "| 2610203C22Rik | -0.2887334 |  7.0255214 |  0.1545874 | -0.4444054 |  4.2507128 | -0.08726803 |\n",
       "| Prex2 | -0.8133880 |  0.4206808 |  0.7182782 |  2.0115627 | -1.6736534 |  1.74559885 |\n",
       "\n"
      ],
      "text/plain": [
       "              AAACAGCCAATATACC.ENCLB069PRB AAACAGCCATGGCCCA.ENCLB069PRB\n",
       "Xkr4          -0.9224475                   -0.7663493                  \n",
       "Sox17         -0.1967594                   -0.2792488                  \n",
       "St18          -1.0797149                   -0.8436292                  \n",
       "Sntg1         -0.6911699                   -0.5918302                  \n",
       "2610203C22Rik -0.2887334                    7.0255214                  \n",
       "Prex2         -0.8133880                    0.4206808                  \n",
       "              AAACATGCAAAGCTCC.ENCLB069PRB AAACATGCAACTAGGG.ENCLB069PRB\n",
       "Xkr4          -1.4341209                   -0.7056428                  \n",
       "Sox17          0.3138141                   -0.3808692                  \n",
       "St18          -1.9654508                   -0.7221981                  \n",
       "Sntg1         -1.0516712                   -0.5367270                  \n",
       "2610203C22Rik  0.1545874                   -0.4444054                  \n",
       "Prex2          0.7182782                    2.0115627                  \n",
       "              AAACATGCAGCAATAA.ENCLB069PRB AAACCAACAACAGCCT.ENCLB069PRB\n",
       "Xkr4          -0.5758200                    0.21506904                 \n",
       "Sox17         -0.4849125                    0.02574090                 \n",
       "St18          -0.5118624                   -1.33412246                 \n",
       "Sntg1         -0.4428372                   -0.81139049                 \n",
       "2610203C22Rik  4.2507128                   -0.08726803                 \n",
       "Prex2         -1.6736534                    1.74559885                 "
      ]
     },
     "metadata": {},
     "output_type": "display_data"
    }
   ],
   "source": [
    "sct.mat[1:6, 1:6]"
   ]
  },
  {
   "cell_type": "code",
   "execution_count": 70,
   "id": "55f5a74c-eb5e-42f8-8726-afbd61f25229",
   "metadata": {
    "execution": {
     "iopub.execute_input": "2022-12-30T22:49:32.468053Z",
     "iopub.status.busy": "2022-12-30T22:49:32.466602Z",
     "iopub.status.idle": "2022-12-30T23:02:41.423735Z",
     "shell.execute_reply": "2022-12-30T23:02:41.420321Z"
    },
    "tags": []
   },
   "outputs": [],
   "source": [
    "ARACNeTable(sct.mat, mat.name, subset = FALSE)"
   ]
  },
  {
   "cell_type": "markdown",
   "id": "ef3620d2-d15b-4692-9d5d-2e01ab81b263",
   "metadata": {},
   "source": [
    "## Cell type specific networks"
   ]
  },
  {
   "cell_type": "markdown",
   "id": "36de0e3f-28fd-43da-a2f6-45e4b71c9537",
   "metadata": {},
   "source": [
    "---"
   ]
  },
  {
   "cell_type": "markdown",
   "id": "9475e8b0-d62d-4bf4-a835-ff64f82daa40",
   "metadata": {},
   "source": [
    "# Scratch"
   ]
  }
 ],
 "metadata": {
  "kernelspec": {
   "display_name": "R 4.1.3 scverse",
   "language": "R",
   "name": "scverse-r413"
  },
  "language_info": {
   "codemirror_mode": "r",
   "file_extension": ".r",
   "mimetype": "text/x-r-source",
   "name": "R",
   "pygments_lexer": "r",
   "version": "4.1.3"
  }
 },
 "nbformat": 4,
 "nbformat_minor": 5
}
