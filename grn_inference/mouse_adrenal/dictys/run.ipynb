{
 "cells": [
  {
   "cell_type": "markdown",
   "id": "1d80b8e9-ad2f-4753-846e-3b4e03de9c23",
   "metadata": {},
   "source": [
    "# SCENIC"
   ]
  },
  {
   "cell_type": "markdown",
   "id": "50dcfc04-8e9d-4426-b6fa-e6a2a424807c",
   "metadata": {},
   "source": [
    "STEP 1: Gene regulatory network inference, and generation of co-expression modules\n",
    "Phase Ia: GRN inference using the GRNBoost2 algorithm\n",
    "For this step the CLI version of SCENIC is used. This step can be deployed on an High Performance Computing system. We use the counts matrix (without log transformation or further processing) from the loom file we wrote earlier. Output: List of adjacencies between a TF and its targets stored in ADJACENCIES_FNAME."
   ]
  },
  {
   "cell_type": "code",
   "execution_count": null,
   "id": "f87ff266-183a-43e9-b5d5-a5f1f30a71ff",
   "metadata": {
    "execution": {
     "iopub.execute_input": "2022-12-08T17:49:01.402747Z",
     "iopub.status.busy": "2022-12-08T17:49:01.402320Z"
    },
    "tags": []
   },
   "outputs": [
    {
     "name": "stderr",
     "output_type": "stream",
     "text": [
      "Numba: Attempted to fork from a non-main thread, the TBB library may be in an invalid state in the child process.\n",
      "\n",
      "2022-12-08 09:50:03,907 - pyscenic.cli.pyscenic - INFO - Loading expression matrix.\n",
      "\n",
      "2022-12-08 09:50:05,734 - pyscenic.cli.pyscenic - INFO - Inferring regulatory networks.\n",
      "Numba: Attempted to fork from a non-main thread, the TBB library may be in an invalid state in the child process.\n",
      "Numba: Attempted to fork from a non-main thread, the TBB library may be in an invalid state in the child process.\n",
      "Numba: Attempted to fork from a non-main thread, the TBB library may be in an invalid state in the child process.\n",
      "Numba: Attempted to fork from a non-main thread, the TBB library may be in an invalid state in the child process.\n",
      "Numba: Attempted to fork from a non-main thread, the TBB library may be in an invalid state in the child process.\n",
      "Numba: Attempted to fork from a non-main thread, the TBB library may be in an invalid state in the child process.\n",
      "Numba: Attempted to fork from a non-main thread, the TBB library may be in an invalid state in the child process.\n",
      "Numba: Attempted to fork from a non-main thread, the TBB library may be in an invalid state in the child process.\n",
      "Numba: Attempted to fork from a non-main thread, the TBB library may be in an invalid state in the child process.\n"
     ]
    }
   ],
   "source": [
    "%%bash\n",
    "source activate scverse-py38\n",
    "pyscenic grn data/adrenal_Parse_10x_integrated_RNA_subset.loom data/25_tfs.txt -o result/25_tf_subset_adj.tsv --num_workers 8"
   ]
  },
  {
   "cell_type": "markdown",
   "id": "18187d1e-a7fb-4ae5-b784-2b71bc53e347",
   "metadata": {},
   "source": [
    "STEP 2-3: Regulon prediction aka cisTarget from CLI\n",
    "For this step the CLI version of SCENIC is used. This step can be deployed on an High Performance Computing system.\n",
    "\n",
    "Output: List of adjacencies between a TF and its targets stored in MOTIFS_FNAME.\n",
    "\n",
    "locations for ranking databases, and motif annotations:"
   ]
  },
  {
   "cell_type": "code",
   "execution_count": 155,
   "id": "ed6410f8-3682-440d-bf61-4bf31f03c4cd",
   "metadata": {
    "execution": {
     "iopub.execute_input": "2022-02-17T00:55:51.228171Z",
     "iopub.status.busy": "2022-02-17T00:55:51.227984Z",
     "iopub.status.idle": "2022-02-17T00:57:00.639510Z",
     "shell.execute_reply": "2022-02-17T00:57:00.638986Z",
     "shell.execute_reply.started": "2022-02-17T00:55:51.228153Z"
    },
    "tags": []
   },
   "outputs": [
    {
     "name": "stdout",
     "output_type": "stream",
     "text": [
      "[########################################] | 100% Completed | 44.6s\n"
     ]
    },
    {
     "name": "stderr",
     "output_type": "stream",
     "text": [
      "\n",
      "2022-02-16 16:56:07,341 - pyscenic.cli.pyscenic - INFO - Creating modules.\n",
      "\n",
      "2022-02-16 16:56:07,354 - pyscenic.cli.pyscenic - INFO - Loading expression matrix.\n",
      "\n",
      "2022-02-16 16:56:12,765 - pyscenic.utils - INFO - Calculating Pearson correlations.\n",
      "\n",
      "2022-02-16 16:56:12,769 - pyscenic.utils - WARNING - Note on correlation calculation: the default behaviour for calculating the correlations has changed after pySCENIC verion 0.9.16. Previously, the default was to calculate the correlation between a TF and target gene using only cells with non-zero expression values (mask_dropouts=True). The current default is now to use all cells to match the behavior of the R verision of SCENIC. The original settings can be retained by setting 'rho_mask_dropouts=True' in the modules_from_adjacencies function, or '--mask_dropouts' from the CLI.\n",
      "\tDropout masking is currently set to [True].\n",
      "\n",
      "2022-02-16 16:56:13,096 - pyscenic.utils - INFO - Creating modules.\n",
      "\n",
      "2022-02-16 16:56:14,248 - pyscenic.cli.pyscenic - INFO - Loading databases.\n",
      "\n",
      "2022-02-16 16:56:14,249 - pyscenic.cli.pyscenic - INFO - Calculating regulons.\n",
      "\n",
      "2022-02-16 16:57:00,069 - pyscenic.cli.pyscenic - INFO - Writing results to file.\n"
     ]
    }
   ],
   "source": [
    "%%bash\n",
    "source activate single_cell_py\n",
    "pyscenic ctx adj.tsv \\\n",
    "    ../hg38__refseq-r80__10kb_up_and_down_tss.mc9nr.feather \\\n",
    "    --annotations_fname ../motifs-v9-nr.hgnc-m0.001-o0.0.tbl \\\n",
    "    --expression_mtx_fname pbmc10k_filtered_scenic.loom \\\n",
    "    --output reg.csv \\\n",
    "    --mask_dropouts \\\n",
    "    --num_workers 16"
   ]
  },
  {
   "cell_type": "markdown",
   "id": "c5140091-097a-4a68-a524-f6d69d1f3ae0",
   "metadata": {},
   "source": [
    "STEP 4: Cellular enrichment (aka AUCell) from CLI\n",
    "It is important to check that most cells have a substantial fraction of expressed/detected genes in the calculation of the AUC. The following histogram gives an idea of the distribution and allows selection of an appropriate threshold. In this plot, a few thresholds are highlighted, with the number of genes selected shown in red text and the corresponding percentile in parentheses). See the relevant section in the R tutorial for more information.\n",
    "\n",
    "By using the default setting for --auc_threshold of 0.05, we see that 1192 genes are selected for the rankings based on the plot below."
   ]
  },
  {
   "cell_type": "code",
   "execution_count": 156,
   "id": "7921c905-c157-4e6f-92c7-b4f28b2c3ce0",
   "metadata": {
    "execution": {
     "iopub.execute_input": "2022-02-17T00:59:29.166057Z",
     "iopub.status.busy": "2022-02-17T00:59:29.165868Z",
     "iopub.status.idle": "2022-02-17T01:00:11.709071Z",
     "shell.execute_reply": "2022-02-17T01:00:11.708263Z",
     "shell.execute_reply.started": "2022-02-17T00:59:29.166038Z"
    }
   },
   "outputs": [
    {
     "name": "stdout",
     "output_type": "stream",
     "text": [
      "Create regulons from a dataframe of enriched features.\n",
      "Additional columns saved: []\n"
     ]
    },
    {
     "name": "stderr",
     "output_type": "stream",
     "text": [
      "\n",
      "2022-02-16 16:59:46,516 - pyscenic.cli.pyscenic - INFO - Loading expression matrix.\n",
      "\n",
      "2022-02-16 16:59:52,708 - pyscenic.cli.pyscenic - INFO - Loading gene signatures.\n",
      "\n",
      "2022-02-16 16:59:52,778 - pyscenic.cli.pyscenic - INFO - Calculating cellular enrichment.\n",
      "\n",
      "2022-02-16 17:00:02,294 - pyscenic.cli.pyscenic - INFO - Writing results to file.\n"
     ]
    }
   ],
   "source": [
    "%%bash\n",
    "source activate single_cell_py\n",
    "pyscenic aucell \\\n",
    "    pbmc10k_filtered_scenic.loom \\\n",
    "    reg.csv \\\n",
    "    --output pyscenic_output.loom \\\n",
    "    --num_workers 20"
   ]
  },
  {
   "cell_type": "markdown",
   "id": "01ec716c-6941-4b63-adfe-86dabbeaddae",
   "metadata": {},
   "source": [
    "---"
   ]
  },
  {
   "cell_type": "markdown",
   "id": "9475e8b0-d62d-4bf4-a835-ff64f82daa40",
   "metadata": {},
   "source": [
    "# Scratch"
   ]
  },
  {
   "cell_type": "code",
   "execution_count": null,
   "id": "6357e41b-293f-4ead-91f0-7a4fb938d313",
   "metadata": {},
   "outputs": [],
   "source": []
  }
 ],
 "metadata": {
  "kernelspec": {
   "display_name": "Python 3.8 scverse",
   "language": "python",
   "name": "scverse-py38"
  },
  "language_info": {
   "codemirror_mode": {
    "name": "ipython",
    "version": 3
   },
   "file_extension": ".py",
   "mimetype": "text/x-python",
   "name": "python",
   "nbconvert_exporter": "python",
   "pygments_lexer": "ipython3",
   "version": "3.8.13"
  }
 },
 "nbformat": 4,
 "nbformat_minor": 5
}
