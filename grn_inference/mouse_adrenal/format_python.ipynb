{
 "cells": [
  {
   "cell_type": "markdown",
   "id": "ad3d04be-7471-4c28-866f-30ccd1d410e6",
   "metadata": {},
   "source": [
    "# Formatting data"
   ]
  },
  {
   "cell_type": "code",
   "execution_count": 1,
   "id": "e98a8add-617e-4066-8a3e-689b3dd29404",
   "metadata": {
    "execution": {
     "iopub.execute_input": "2022-12-08T18:39:19.687687Z",
     "iopub.status.busy": "2022-12-08T18:39:19.687243Z",
     "iopub.status.idle": "2022-12-08T18:39:31.218318Z",
     "shell.execute_reply": "2022-12-08T18:39:31.217307Z",
     "shell.execute_reply.started": "2022-12-08T18:39:19.687599Z"
    },
    "tags": []
   },
   "outputs": [],
   "source": [
    "import numpy as np\n",
    "import matplotlib.pyplot as plt\n",
    "import seaborn as sns\n",
    "import scanpy as sc\n",
    "sc.settings.verbosity = 3"
   ]
  },
  {
   "cell_type": "code",
   "execution_count": 2,
   "id": "0a04eccb-7a05-4f64-99fe-9f5bf7ca608d",
   "metadata": {
    "execution": {
     "iopub.execute_input": "2022-12-08T18:39:31.220135Z",
     "iopub.status.busy": "2022-12-08T18:39:31.219760Z",
     "iopub.status.idle": "2022-12-08T18:39:31.224052Z",
     "shell.execute_reply": "2022-12-08T18:39:31.223199Z",
     "shell.execute_reply.started": "2022-12-08T18:39:31.220108Z"
    },
    "tags": []
   },
   "outputs": [],
   "source": [
    "H5AD_FILE = \"../../../data/mouse_adrenal/preprocessed/snrna/adrenal_Parse_10x_integrated_RNA.h5ad\""
   ]
  },
  {
   "cell_type": "code",
   "execution_count": 3,
   "id": "fd37e651-8384-4000-91df-9b67f074798f",
   "metadata": {
    "execution": {
     "iopub.execute_input": "2022-12-08T18:39:31.225523Z",
     "iopub.status.busy": "2022-12-08T18:39:31.225170Z",
     "iopub.status.idle": "2022-12-08T18:39:56.678355Z",
     "shell.execute_reply": "2022-12-08T18:39:56.677195Z",
     "shell.execute_reply.started": "2022-12-08T18:39:31.225496Z"
    },
    "tags": []
   },
   "outputs": [],
   "source": [
    "adata = sc.read_h5ad(H5AD_FILE)"
   ]
  }
 ],
 "metadata": {
  "kernelspec": {
   "display_name": "Python 3.8 scverse-lite",
   "language": "python",
   "name": "scverse-lite-py38"
  },
  "language_info": {
   "codemirror_mode": {
    "name": "ipython",
    "version": 3
   },
   "file_extension": ".py",
   "mimetype": "text/x-python",
   "name": "python",
   "nbconvert_exporter": "python",
   "pygments_lexer": "ipython3",
   "version": "3.8.13"
  }
 },
 "nbformat": 4,
 "nbformat_minor": 5
}
