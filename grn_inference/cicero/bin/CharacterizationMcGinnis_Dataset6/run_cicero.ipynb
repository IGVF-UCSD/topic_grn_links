{
 "cells": [
  {
   "attachments": {},
   "cell_type": "markdown",
   "metadata": {},
   "source": [
    "# Co-accessibility with Cicero"
   ]
  },
  {
   "cell_type": "code",
   "execution_count": 74,
   "metadata": {
    "vscode": {
     "languageId": "r"
    }
   },
   "outputs": [
    {
     "ename": "ERROR",
     "evalue": "Error in library(monocle3): there is no package called 'monocle3'\n",
     "output_type": "error",
     "traceback": [
      "Error in library(monocle3): there is no package called 'monocle3'\nTraceback:\n",
      "1. suppressMessages(library(monocle3))",
      "2. withCallingHandlers(expr, message = function(c) if (inherits(c, \n .     classes)) tryInvokeRestart(\"muffleMessage\"))",
      "3. library(monocle3)"
     ]
    }
   ],
   "source": [
    "# Load libraries\n",
    "suppressMessages(library(hdf5r))\n",
    "suppressMessages(library(Seurat))\n",
    "suppressMessages(library(Signac))\n",
    "suppressMessages(library(dplyr))\n",
    "suppressMessages(library(stringr))\n",
    "suppressMessages(library(cicero))"
   ]
  },
  {
   "cell_type": "code",
   "execution_count": 3,
   "metadata": {
    "vscode": {
     "languageId": "r"
    }
   },
   "outputs": [],
   "source": [
    "rds = \"/cellar/users/aklie/data/igvf/beta_cell_networks/multiome_stimulated_sc/rds/dm023_palmitate/dm023_palmitate_endocrine_SC.beta.rds\"\n",
    "out_dir = \"/cellar/users/aklie/"
   ]
  },
  {
   "cell_type": "code",
   "execution_count": 46,
   "metadata": {
    "vscode": {
     "languageId": "r"
    }
   },
   "outputs": [
    {
     "data": {
      "text/plain": [
       "An object of class Seurat \n",
       "696827 features across 7042 samples within 6 assays \n",
       "Active assay: mpeak (215116 features, 215116 variable features)\n",
       " 5 other assays present: RNA, RNA_raw, ATAC, SCT, peaks\n",
       " 9 dimensional reductions calculated: lsi, harmony.atac, pca, harmony.sct, umap.wnn, umap.atac, umap.sct, harmony.peaks, umap.peaks"
      ]
     },
     "metadata": {},
     "output_type": "display_data"
    }
   ],
   "source": [
    "adata <- readRDS(rds)\n",
    "adata"
   ]
  },
  {
   "cell_type": "code",
   "execution_count": 47,
   "metadata": {
    "vscode": {
     "languageId": "r"
    }
   },
   "outputs": [
    {
     "data": {
      "text/html": [
       "<style>\n",
       ".list-inline {list-style: none; margin:0; padding: 0}\n",
       ".list-inline>li {display: inline-block}\n",
       ".list-inline>li:not(:last-child)::after {content: \"\\00b7\"; padding: 0 .5ex}\n",
       "</style>\n",
       "<ol class=list-inline><li>215116</li><li>7042</li></ol>\n"
      ],
      "text/latex": [
       "\\begin{enumerate*}\n",
       "\\item 215116\n",
       "\\item 7042\n",
       "\\end{enumerate*}\n"
      ],
      "text/markdown": [
       "1. 215116\n",
       "2. 7042\n",
       "\n",
       "\n"
      ],
      "text/plain": [
       "[1] 215116   7042"
      ]
     },
     "metadata": {},
     "output_type": "display_data"
    }
   ],
   "source": [
    "# Extract the ATAC counts data -- this notebook assumes peaks are written in this format: chr-start-end\n",
    "DefaultAssay(adata) <- 'mpeak'\n",
    "atac.counts = GetAssayData(adata,slot='counts')\n",
    "dim(atac.counts)"
   ]
  },
  {
   "cell_type": "code",
   "execution_count": 65,
   "metadata": {
    "vscode": {
     "languageId": "r"
    }
   },
   "outputs": [],
   "source": [
    "cellinfo <- adata@meta.data"
   ]
  },
  {
   "cell_type": "code",
   "execution_count": 66,
   "metadata": {
    "vscode": {
     "languageId": "r"
    }
   },
   "outputs": [],
   "source": [
    "peakinfo <- data.frame(site_name=rownames(atac.counts))\n",
    "row.names(peakinfo) <- peakinfo$site_name\n",
    "peakinfo <- cbind(peakinfo, stringr::str_split_fixed(peakinfo$site_name, \"-\", 3))\n",
    "names(peakinfo) <- c('site_name', 'chr', 'bp1', 'bp2')\n",
    "peakinfo$chr <- gsub('chr','', peakinfo$chr)\n",
    "peakinfo$bp1 <- as.numeric(as.character(peakinfo$bp1))\n",
    "peakinfo$bp2 <- as.numeric(as.character(peakinfo$bp2))"
   ]
  },
  {
   "cell_type": "code",
   "execution_count": 67,
   "metadata": {
    "vscode": {
     "languageId": "r"
    }
   },
   "outputs": [],
   "source": [
    "row.names(atac.counts) <- row.names(peakinfo)\n",
    "colnames(atac.counts) <- row.names(cellinfo)"
   ]
  },
  {
   "cell_type": "code",
   "execution_count": 78,
   "metadata": {
    "vscode": {
     "languageId": "r"
    }
   },
   "outputs": [],
   "source": [
    "input_cds <- suppressWarnings(newCellDataSet(\n",
    "    cellData=atac.counts,\n",
    "    methods::new('AnnotatedDataFrame', data = cellinfo),\n",
    "    featureData = methods::new('AnnotatedDataFrame', data = peakinfo),\n",
    "    expressionFamily=negbinomial.size(),\n",
    "    lowerDetectionLimit=0))"
   ]
  },
  {
   "cell_type": "code",
   "execution_count": 81,
   "metadata": {
    "vscode": {
     "languageId": "r"
    }
   },
   "outputs": [],
   "source": [
    "umap_coords <- Embeddings(adata[['umap.wnn']])\n",
    "colnames(umap_coords) <- NULL"
   ]
  },
  {
   "cell_type": "code",
   "execution_count": 83,
   "metadata": {
    "vscode": {
     "languageId": "r"
    }
   },
   "outputs": [
    {
     "name": "stderr",
     "output_type": "stream",
     "text": [
      "Overlap QC metrics:\n",
      "Cells per bin: 30\n",
      "Maximum shared cells bin-bin: 26\n",
      "Mean shared cells bin-bin: 0.125320541692941\n",
      "Median shared cells bin-bin: 0\n",
      "\n",
      "Warning message in if (isSparseMatrix(counts)) {:\n",
      "\"the condition has length > 1 and only the first element will be used\"\n"
     ]
    }
   ],
   "source": [
    "cicero_cds <- make_cicero_cds(input_cds, reduced_coordinates = umap_coords, k=30)"
   ]
  },
  {
   "cell_type": "code",
   "execution_count": 85,
   "metadata": {
    "vscode": {
     "languageId": "r"
    }
   },
   "outputs": [],
   "source": [
    "run_cicero <- function(cicero_cds, umap_coords, celltype){\n",
    "    window <- 1e6\n",
    "    chromsizes <- \"/cellar/shared/carterlab/genomes/hg38/hg38.chrom.sizes\"\n",
    "    distance_parameters <- estimate_distance_parameter(cicero_cds, window=window, maxit=100, sample_num=100, distance_constraint=500000, genomic_coords=chromsizes)\n",
    "    mean_distance_parameter <- mean(unlist(distance_parameters))\n",
    "    cicero_out <- generate_cicero_models(cicero_cds, distance_parameter=mean_distance_parameter, window=window, genomic_coords=chromsizes)\n",
    "    conns <- assemble_connections(cicero_out, silent=FALSE)\n",
    "    return(conns)\n",
    "}\n",
    "     "
   ]
  },
  {
   "cell_type": "code",
   "execution_count": 86,
   "metadata": {
    "vscode": {
     "languageId": "r"
    }
   },
   "outputs": [
    {
     "name": "stdout",
     "output_type": "stream",
     "text": [
      "[1] \"Successful cicero models:  5652\"\n",
      "[1] \"Other models: \"\n",
      "\n",
      "  Too many elements in range Zero or one element in range \n",
      "                          71                         1021 \n",
      "[1] \"Models with errors:  0\"\n"
     ]
    }
   ],
   "source": [
    "cicero_conns <- run_cicero(cicero_cds, umap_coords, 'SC.beta')"
   ]
  },
  {
   "cell_type": "code",
   "execution_count": 89,
   "metadata": {
    "vscode": {
     "languageId": "r"
    }
   },
   "outputs": [],
   "source": [
    "all_peaks <- row.names(exprs(input_cds))"
   ]
  },
  {
   "cell_type": "code",
   "execution_count": 92,
   "metadata": {
    "vscode": {
     "languageId": "r"
    }
   },
   "outputs": [],
   "source": [
    "output_folder <- \"/cellar/users/aklie/projects/igvf/beta_cell_networks/bin/infer_grns/cicero/results/dm023_palmitate\""
   ]
  },
  {
   "cell_type": "code",
   "execution_count": 96,
   "metadata": {
    "vscode": {
     "languageId": "r"
    }
   },
   "outputs": [
    {
     "data": {
      "text/html": [
       "<table class=\"dataframe\">\n",
       "<caption>A data.frame: 6 × 3</caption>\n",
       "<thead>\n",
       "\t<tr><th></th><th scope=col>Peak1</th><th scope=col>Peak2</th><th scope=col>coaccess</th></tr>\n",
       "\t<tr><th></th><th scope=col>&lt;chr&gt;</th><th scope=col>&lt;fct&gt;</th><th scope=col>&lt;dbl&gt;</th></tr>\n",
       "</thead>\n",
       "<tbody>\n",
       "\t<tr><th scope=row>1</th><td>chr1-1000339-1001027</td><td>chr1-585740-586641</td><td>-0.001193087</td></tr>\n",
       "\t<tr><th scope=row>2</th><td>chr1-1000339-1001027</td><td>chr1-629485-630598</td><td> 0.075568451</td></tr>\n",
       "\t<tr><th scope=row>3</th><td>chr1-1000339-1001027</td><td>chr1-631298-632243</td><td> 0.001908325</td></tr>\n",
       "\t<tr><th scope=row>4</th><td>chr1-1000339-1001027</td><td>chr1-633466-634664</td><td> 0.115832962</td></tr>\n",
       "\t<tr><th scope=row>5</th><td>chr1-1000339-1001027</td><td>chr1-778301-779228</td><td>-0.014169742</td></tr>\n",
       "\t<tr><th scope=row>6</th><td>chr1-1000339-1001027</td><td>chr1-804460-805380</td><td> 0.002669663</td></tr>\n",
       "</tbody>\n",
       "</table>\n"
      ],
      "text/latex": [
       "A data.frame: 6 × 3\n",
       "\\begin{tabular}{r|lll}\n",
       "  & Peak1 & Peak2 & coaccess\\\\\n",
       "  & <chr> & <fct> & <dbl>\\\\\n",
       "\\hline\n",
       "\t1 & chr1-1000339-1001027 & chr1-585740-586641 & -0.001193087\\\\\n",
       "\t2 & chr1-1000339-1001027 & chr1-629485-630598 &  0.075568451\\\\\n",
       "\t3 & chr1-1000339-1001027 & chr1-631298-632243 &  0.001908325\\\\\n",
       "\t4 & chr1-1000339-1001027 & chr1-633466-634664 &  0.115832962\\\\\n",
       "\t5 & chr1-1000339-1001027 & chr1-778301-779228 & -0.014169742\\\\\n",
       "\t6 & chr1-1000339-1001027 & chr1-804460-805380 &  0.002669663\\\\\n",
       "\\end{tabular}\n"
      ],
      "text/markdown": [
       "\n",
       "A data.frame: 6 × 3\n",
       "\n",
       "| <!--/--> | Peak1 &lt;chr&gt; | Peak2 &lt;fct&gt; | coaccess &lt;dbl&gt; |\n",
       "|---|---|---|---|\n",
       "| 1 | chr1-1000339-1001027 | chr1-585740-586641 | -0.001193087 |\n",
       "| 2 | chr1-1000339-1001027 | chr1-629485-630598 |  0.075568451 |\n",
       "| 3 | chr1-1000339-1001027 | chr1-631298-632243 |  0.001908325 |\n",
       "| 4 | chr1-1000339-1001027 | chr1-633466-634664 |  0.115832962 |\n",
       "| 5 | chr1-1000339-1001027 | chr1-778301-779228 | -0.014169742 |\n",
       "| 6 | chr1-1000339-1001027 | chr1-804460-805380 |  0.002669663 |\n",
       "\n"
      ],
      "text/plain": [
       "  Peak1                Peak2              coaccess    \n",
       "1 chr1-1000339-1001027 chr1-585740-586641 -0.001193087\n",
       "2 chr1-1000339-1001027 chr1-629485-630598  0.075568451\n",
       "3 chr1-1000339-1001027 chr1-631298-632243  0.001908325\n",
       "4 chr1-1000339-1001027 chr1-633466-634664  0.115832962\n",
       "5 chr1-1000339-1001027 chr1-778301-779228 -0.014169742\n",
       "6 chr1-1000339-1001027 chr1-804460-805380  0.002669663"
      ]
     },
     "metadata": {},
     "output_type": "display_data"
    }
   ],
   "source": [
    "head(cicero_conns)"
   ]
  },
  {
   "cell_type": "code",
   "execution_count": 103,
   "metadata": {
    "vscode": {
     "languageId": "r"
    }
   },
   "outputs": [
    {
     "name": "stderr",
     "output_type": "stream",
     "text": [
      "Warning message in write.csv(x = all_peaks, file = paste0(output_folder, \"/all_peaks.csv\"), :\n",
      "\"attempt to set 'col.names' ignored\"\n"
     ]
    },
    {
     "ename": "",
     "evalue": "",
     "output_type": "error",
     "traceback": [
      "\u001b[1;31mThe Kernel crashed while executing code in the the current cell or a previous cell. Please review the code in the cell(s) to identify a possible cause of the failure. Click <a href='https://aka.ms/vscodeJupyterKernelCrash'>here</a> for more info. View Jupyter <a href='command:jupyter.viewOutput'>log</a> for further details."
     ]
    },
    {
     "ename": "",
     "evalue": "",
     "output_type": "error",
     "traceback": [
      "\u001b[1;31mThe Kernel crashed while executing code in the the current cell or a previous cell. Please review the code in the cell(s) to identify a possible cause of the failure. Click <a href='https://aka.ms/vscodeJupyterKernelCrash'>here</a> for more info. View Jupyter <a href='command:jupyter.viewOutput'>log</a> for further details."
     ]
    },
    {
     "ename": "",
     "evalue": "",
     "output_type": "error",
     "traceback": [
      "\u001b[1;31mThe Kernel crashed while executing code in the the current cell or a previous cell. Please review the code in the cell(s) to identify a possible cause of the failure. Click <a href='https://aka.ms/vscodeJupyterKernelCrash'>here</a> for more info. View Jupyter <a href='command:jupyter.viewOutput'>log</a> for further details."
     ]
    },
    {
     "ename": "",
     "evalue": "",
     "output_type": "error",
     "traceback": [
      "\u001b[1;31mThe Kernel crashed while executing code in the the current cell or a previous cell. Please review the code in the cell(s) to identify a possible cause of the failure. Click <a href='https://aka.ms/vscodeJupyterKernelCrash'>here</a> for more info. View Jupyter <a href='command:jupyter.viewOutput'>log</a> for further details."
     ]
    }
   ],
   "source": [
    "all_peaks <- row.names(exprs(input_cds))\n",
    "write.csv(x = all_peaks, file = paste0(output_folder, \"/all_peaks.csv\"), col.names=FALSE, row.names = FALSE, quote = FALSE)\n",
    "write.csv(x = cicero_conns, file = paste0(output_folder, \"/cicero_connections.csv\"), row.names = FALSE, quote = FALSE)"
   ]
  },
  {
   "attachments": {},
   "cell_type": "markdown",
   "metadata": {},
   "source": [
    "# Scratch"
   ]
  },
  {
   "cell_type": "code",
   "execution_count": null,
   "metadata": {
    "vscode": {
     "languageId": "r"
    }
   },
   "outputs": [],
   "source": [
    "# Load in the peaks file, ignore first line\n",
    "peaks.file = \"/cellar/users/aklie/data/igvf/beta_cell_networks/multiome_stimulated_sc/peaks/dm023_palmitate_endocrine_SC.beta.narrowPeak\"\n",
    "peaks <- read.table(peaks.file, sep='\\t', header=FALSE, stringsAsFactors=FALSE, skip=1)"
   ]
  },
  {
   "cell_type": "code",
   "execution_count": null,
   "metadata": {
    "vscode": {
     "languageId": "r"
    }
   },
   "outputs": [],
   "source": [
    "peaks.lst <- paste(peaks$V1, peaks$V2, peaks$V3, sep=\"_\")"
   ]
  }
 ],
 "metadata": {
  "kernelspec": {
   "display_name": "R 4.1.3 scverse",
   "language": "R",
   "name": "scverse-r413"
  },
  "language_info": {
   "codemirror_mode": "r",
   "file_extension": ".r",
   "mimetype": "text/x-r-source",
   "name": "R",
   "pygments_lexer": "r",
   "version": "4.1.3"
  },
  "orig_nbformat": 4
 },
 "nbformat": 4,
 "nbformat_minor": 2
}
