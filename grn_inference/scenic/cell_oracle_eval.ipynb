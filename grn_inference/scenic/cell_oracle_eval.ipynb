{
 "cells": [
  {
   "cell_type": "code",
   "execution_count": 1,
   "metadata": {},
   "outputs": [],
   "source": [
    "import celloracle as co"
   ]
  },
  {
   "cell_type": "code",
   "execution_count": 2,
   "metadata": {},
   "outputs": [
    {
     "name": "stdout",
     "output_type": "stream",
     "text": [
      "\u001b[0;31mInit signature:\u001b[0m \u001b[0mco\u001b[0m\u001b[0;34m.\u001b[0m\u001b[0mnetwork_analysis\u001b[0m\u001b[0;34m.\u001b[0m\u001b[0mLinks\u001b[0m\u001b[0;34m(\u001b[0m\u001b[0mname\u001b[0m\u001b[0;34m,\u001b[0m \u001b[0mlinks_dict\u001b[0m\u001b[0;34m=\u001b[0m\u001b[0;34m{\u001b[0m\u001b[0;34m}\u001b[0m\u001b[0;34m)\u001b[0m\u001b[0;34m\u001b[0m\u001b[0;34m\u001b[0m\u001b[0m\n",
      "\u001b[0;31mDocstring:\u001b[0m     \n",
      "This is a class for the processing and visualization of GRNs.\n",
      "Links object stores cluster-specific GRNs and metadata.\n",
      "Please use \"get_links\" function in Oracle object to generate Links object.\n",
      "\n",
      "Attributes:\n",
      "    links_dict (dictionary): Dictionary that store unprocessed network data.\n",
      "    filtered_links (dictionary): Dictionary that store filtered network data.\n",
      "    merged_score (pandas.dataframe): Network scores.\n",
      "    cluster (list of str): List of cluster name.\n",
      "    name (str): Name of clustering unit.\n",
      "    palette (pandas.dataframe): DataFrame that store color information.\n",
      "\u001b[0;31mInit docstring:\u001b[0m\n",
      "Initialize Links object.\n",
      "\n",
      "Args:\n",
      "    name (str): Name for linkLists.\n",
      "    links_dict (dictionary): Python dictionary that store linkLists.\n",
      "        Keys are cluster name, values are linkLists.\n",
      "\u001b[0;31mFile:\u001b[0m           ~/opt/miniconda3/envs/celloracle/lib/python3.8/site-packages/celloracle/network_analysis/links_object.py\n",
      "\u001b[0;31mType:\u001b[0m           type\n",
      "\u001b[0;31mSubclasses:\u001b[0m     "
     ]
    }
   ],
   "source": [
    "co.network_analysis.Links?"
   ]
  },
  {
   "cell_type": "code",
   "execution_count": null,
   "metadata": {},
   "outputs": [],
   "source": []
  }
 ],
 "metadata": {
  "kernelspec": {
   "display_name": "Python 3.8 celloracle",
   "language": "python",
   "name": "celloracle"
  },
  "language_info": {
   "codemirror_mode": {
    "name": "ipython",
    "version": 3
   },
   "file_extension": ".py",
   "mimetype": "text/x-python",
   "name": "python",
   "nbconvert_exporter": "python",
   "pygments_lexer": "ipython3",
   "version": "3.8.16"
  },
  "orig_nbformat": 4,
  "vscode": {
   "interpreter": {
    "hash": "f0aab14ae665ca4264878e5867720697752ca4d3a67458798aa51c276bf829a9"
   }
  }
 },
 "nbformat": 4,
 "nbformat_minor": 2
}
