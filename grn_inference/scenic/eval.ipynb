{
 "cells": [
  {
   "cell_type": "markdown",
   "id": "3186ea19-5899-4248-b619-8378f266abe2",
   "metadata": {},
   "source": [
    "# Eval"
   ]
  },
  {
   "cell_type": "code",
   "execution_count": 3,
   "id": "613e53a7-ce77-4eb0-969e-2dc1e1f8c5a5",
   "metadata": {
    "execution": {
     "iopub.execute_input": "2023-01-16T18:36:30.995939Z",
     "iopub.status.busy": "2023-01-16T18:36:30.995612Z",
     "iopub.status.idle": "2023-01-16T18:36:55.461787Z",
     "shell.execute_reply": "2023-01-16T18:36:55.460939Z",
     "shell.execute_reply.started": "2023-01-16T18:36:30.995910Z"
    },
    "tags": []
   },
   "outputs": [],
   "source": [
    "# I/O\n",
    "import os\n",
    "import glob\n",
    "import json\n",
    "import zlib\n",
    "import base64\n",
    "\n",
    "# Analysis\n",
    "import pandas as pd\n",
    "import scanpy as sc\n",
    "import loompy as lp\n",
    "import umap"
   ]
  },
  {
   "cell_type": "markdown",
   "id": "7d662bee-7106-4d0b-8921-abaea311d1a4",
   "metadata": {
    "tags": []
   },
   "source": [
    "# Load SCENIC results"
   ]
  },
  {
   "cell_type": "code",
   "execution_count": 28,
   "id": "1f2f9707-f2ad-457c-aafc-cf611b9e770c",
   "metadata": {
    "execution": {
     "iopub.execute_input": "2023-01-16T18:42:24.448789Z",
     "iopub.status.busy": "2023-01-16T18:42:24.448363Z",
     "iopub.status.idle": "2023-01-16T18:42:24.452900Z",
     "shell.execute_reply": "2023-01-16T18:42:24.451850Z",
     "shell.execute_reply.started": "2023-01-16T18:42:24.448760Z"
    },
    "tags": []
   },
   "outputs": [],
   "source": [
    "EXP_LOOM = \"/cellar/users/aklie/data/igvf/topic_grn_links/mouse_adrenal/\"\n",
    "OUT = \"/cellar/users/aklie/projects/igvf/topic_grn_links/grn_inference/scenic/results/endothelial_perturb_seq/\""
   ]
  },
  {
   "cell_type": "markdown",
   "id": "98d3be3f-b7df-421f-9a1a-2255031f4759",
   "metadata": {},
   "source": [
    "## adata object"
   ]
  },
  {
   "cell_type": "code",
   "execution_count": 29,
   "id": "416893df-c0ab-4d84-914b-406e5079f6cd",
   "metadata": {
    "execution": {
     "iopub.execute_input": "2023-01-16T18:42:25.158165Z",
     "iopub.status.busy": "2023-01-16T18:42:25.157865Z",
     "iopub.status.idle": "2023-01-16T18:42:25.382493Z",
     "shell.execute_reply": "2023-01-16T18:42:25.381762Z",
     "shell.execute_reply.started": "2023-01-16T18:42:25.158138Z"
    },
    "tags": []
   },
   "outputs": [],
   "source": [
    "adata = sc.read(EXP_LOOM, validate=False)\n",
    "genes = adata.var.index\n",
    "cells = adata.obs.index"
   ]
  },
  {
   "cell_type": "code",
   "execution_count": 30,
   "id": "a23b9848-1c5f-4232-a83d-2488504cb4dd",
   "metadata": {
    "execution": {
     "iopub.execute_input": "2023-01-16T18:42:25.958603Z",
     "iopub.status.busy": "2023-01-16T18:42:25.958301Z",
     "iopub.status.idle": "2023-01-16T18:42:25.978874Z",
     "shell.execute_reply": "2023-01-16T18:42:25.977846Z",
     "shell.execute_reply.started": "2023-01-16T18:42:25.958576Z"
    },
    "tags": []
   },
   "outputs": [
    {
     "data": {
      "text/html": [
       "<div>\n",
       "<style scoped>\n",
       "    .dataframe tbody tr th:only-of-type {\n",
       "        vertical-align: middle;\n",
       "    }\n",
       "\n",
       "    .dataframe tbody tr th {\n",
       "        vertical-align: top;\n",
       "    }\n",
       "\n",
       "    .dataframe thead th {\n",
       "        text-align: right;\n",
       "    }\n",
       "</style>\n",
       "<table border=\"1\" class=\"dataframe\">\n",
       "  <thead>\n",
       "    <tr style=\"text-align: right;\">\n",
       "      <th></th>\n",
       "      <th>CBC</th>\n",
       "      <th>Gene</th>\n",
       "      <th>Gene.full.name</th>\n",
       "      <th>Guide</th>\n",
       "      <th>long.CBC</th>\n",
       "      <th>nGene</th>\n",
       "      <th>nUMI</th>\n",
       "      <th>n_genes</th>\n",
       "      <th>n_genes_by_counts</th>\n",
       "      <th>pct_counts_mt</th>\n",
       "      <th>sample</th>\n",
       "      <th>total_counts</th>\n",
       "      <th>total_counts_mt</th>\n",
       "    </tr>\n",
       "    <tr>\n",
       "      <th>CellID</th>\n",
       "      <th></th>\n",
       "      <th></th>\n",
       "      <th></th>\n",
       "      <th></th>\n",
       "      <th></th>\n",
       "      <th></th>\n",
       "      <th></th>\n",
       "      <th></th>\n",
       "      <th></th>\n",
       "      <th></th>\n",
       "      <th></th>\n",
       "      <th></th>\n",
       "      <th></th>\n",
       "    </tr>\n",
       "  </thead>\n",
       "  <tbody>\n",
       "    <tr>\n",
       "      <th>CYB561D1:GCAGTGGGATCTTGGCGCACC:CTGTACCAGACCGCCT-scRNAseq_2kG_2PMDox2_1</th>\n",
       "      <td>CTGTACCAGACCGCCT</td>\n",
       "      <td>CYB561D1</td>\n",
       "      <td>CYB561D1</td>\n",
       "      <td>GCAGTGGGATCTTGGCGCACC</td>\n",
       "      <td>CYB561D1:GCAGTGGGATCTTGGCGCACC:CTGTACCAGACCGCC...</td>\n",
       "      <td>738</td>\n",
       "      <td>2338.0</td>\n",
       "      <td>738</td>\n",
       "      <td>738</td>\n",
       "      <td>2.651839256286621</td>\n",
       "      <td>2PMDox2_1</td>\n",
       "      <td>2338.0</td>\n",
       "      <td>62.0</td>\n",
       "    </tr>\n",
       "    <tr>\n",
       "      <th>XRCC5:GCGCCTGAGGACCGGCAACA:GGGTGTCGTGAGGAAA-scRNAseq_2kG_11AMDox_4</th>\n",
       "      <td>GGGTGTCGTGAGGAAA</td>\n",
       "      <td>XRCC5</td>\n",
       "      <td>XRCC5</td>\n",
       "      <td>GCGCCTGAGGACCGGCAACA</td>\n",
       "      <td>XRCC5:GCGCCTGAGGACCGGCAACA:GGGTGTCGTGAGGAAA-sc...</td>\n",
       "      <td>1132</td>\n",
       "      <td>6309.0</td>\n",
       "      <td>1134</td>\n",
       "      <td>1132</td>\n",
       "      <td>4.453954696655273</td>\n",
       "      <td>11AMDox_4</td>\n",
       "      <td>6309.0</td>\n",
       "      <td>281.0</td>\n",
       "    </tr>\n",
       "    <tr>\n",
       "      <th>SEPT8-TSS2:GAAAGCGGAGCTCGACGGTCA:ATTCCTATCATGGGAG-scRNAseq_2kG_2PMDox1_2</th>\n",
       "      <td>ATTCCTATCATGGGAG</td>\n",
       "      <td>SEPT8</td>\n",
       "      <td>SEPT8-TSS2</td>\n",
       "      <td>GAAAGCGGAGCTCGACGGTCA</td>\n",
       "      <td>SEPT8-TSS2:GAAAGCGGAGCTCGACGGTCA:ATTCCTATCATGG...</td>\n",
       "      <td>601</td>\n",
       "      <td>1572.0</td>\n",
       "      <td>603</td>\n",
       "      <td>601</td>\n",
       "      <td>5.21628475189209</td>\n",
       "      <td>2PMDox1_2</td>\n",
       "      <td>1572.0</td>\n",
       "      <td>82.0</td>\n",
       "    </tr>\n",
       "    <tr>\n",
       "      <th>RGS19-TSS2:GCGGCACTTCCCCAAAGCCAG:CTCCGATCAGACCATT-scRNAseq_2kG_2PMDox1_3</th>\n",
       "      <td>CTCCGATCAGACCATT</td>\n",
       "      <td>RGS19</td>\n",
       "      <td>RGS19-TSS2</td>\n",
       "      <td>GCGGCACTTCCCCAAAGCCAG</td>\n",
       "      <td>RGS19-TSS2:GCGGCACTTCCCCAAAGCCAG:CTCCGATCAGACC...</td>\n",
       "      <td>653</td>\n",
       "      <td>1670.0</td>\n",
       "      <td>654</td>\n",
       "      <td>653</td>\n",
       "      <td>6.946107864379883</td>\n",
       "      <td>2PMDox1_3</td>\n",
       "      <td>1670.0</td>\n",
       "      <td>116.0</td>\n",
       "    </tr>\n",
       "    <tr>\n",
       "      <th>SCFD2:GCAGTACGCCCGAGGCGCTCA:GTCGTAAGTGAGTCAG-scRNAseq_2kG_2PMDox1_7</th>\n",
       "      <td>GTCGTAAGTGAGTCAG</td>\n",
       "      <td>SCFD2</td>\n",
       "      <td>SCFD2</td>\n",
       "      <td>GCAGTACGCCCGAGGCGCTCA</td>\n",
       "      <td>SCFD2:GCAGTACGCCCGAGGCGCTCA:GTCGTAAGTGAGTCAG-s...</td>\n",
       "      <td>494</td>\n",
       "      <td>1054.0</td>\n",
       "      <td>495</td>\n",
       "      <td>494</td>\n",
       "      <td>11.290322303771973</td>\n",
       "      <td>2PMDox1_7</td>\n",
       "      <td>1054.0</td>\n",
       "      <td>119.0</td>\n",
       "    </tr>\n",
       "    <tr>\n",
       "      <th>...</th>\n",
       "      <td>...</td>\n",
       "      <td>...</td>\n",
       "      <td>...</td>\n",
       "      <td>...</td>\n",
       "      <td>...</td>\n",
       "      <td>...</td>\n",
       "      <td>...</td>\n",
       "      <td>...</td>\n",
       "      <td>...</td>\n",
       "      <td>...</td>\n",
       "      <td>...</td>\n",
       "      <td>...</td>\n",
       "      <td>...</td>\n",
       "    </tr>\n",
       "    <tr>\n",
       "      <th>ATP5O:GCCACCTTTCTCTCACCTGCC:TTAGGCAGTGGATGAC-scRNAseq_2kG_2PMDox2_2</th>\n",
       "      <td>TTAGGCAGTGGATGAC</td>\n",
       "      <td>ATP5O</td>\n",
       "      <td>ATP5O</td>\n",
       "      <td>GCCACCTTTCTCTCACCTGCC</td>\n",
       "      <td>ATP5O:GCCACCTTTCTCTCACCTGCC:TTAGGCAGTGGATGAC-s...</td>\n",
       "      <td>586</td>\n",
       "      <td>1797.0</td>\n",
       "      <td>587</td>\n",
       "      <td>586</td>\n",
       "      <td>3.0050084590911865</td>\n",
       "      <td>2PMDox2_2</td>\n",
       "      <td>1797.0</td>\n",
       "      <td>54.0</td>\n",
       "    </tr>\n",
       "    <tr>\n",
       "      <th>SMARCC2:GCACGTTGTCGAACTGGGTCA:TCTCACGGTCTCAGAT-scRNAseq_2kG_2PMDox2_4</th>\n",
       "      <td>TCTCACGGTCTCAGAT</td>\n",
       "      <td>SMARCC2</td>\n",
       "      <td>SMARCC2</td>\n",
       "      <td>GCACGTTGTCGAACTGGGTCA</td>\n",
       "      <td>SMARCC2:GCACGTTGTCGAACTGGGTCA:TCTCACGGTCTCAGAT...</td>\n",
       "      <td>487</td>\n",
       "      <td>1381.0</td>\n",
       "      <td>490</td>\n",
       "      <td>487</td>\n",
       "      <td>4.6343231201171875</td>\n",
       "      <td>2PMDox2_4</td>\n",
       "      <td>1381.0</td>\n",
       "      <td>64.0</td>\n",
       "    </tr>\n",
       "    <tr>\n",
       "      <th>RNF10:GGGCCGAGGCCGACCTGCTC:GTAGCTATCTTCGACC-scRNAseq_2kG_11AMDox_1</th>\n",
       "      <td>GTAGCTATCTTCGACC</td>\n",
       "      <td>RNF10</td>\n",
       "      <td>RNF10</td>\n",
       "      <td>GGGCCGAGGCCGACCTGCTC</td>\n",
       "      <td>RNF10:GGGCCGAGGCCGACCTGCTC:GTAGCTATCTTCGACC-sc...</td>\n",
       "      <td>794</td>\n",
       "      <td>2651.0</td>\n",
       "      <td>797</td>\n",
       "      <td>794</td>\n",
       "      <td>6.374952793121338</td>\n",
       "      <td>11AMDox_1</td>\n",
       "      <td>2651.0</td>\n",
       "      <td>169.0</td>\n",
       "    </tr>\n",
       "    <tr>\n",
       "      <th>ZNF768:GCGCCTCCCGCTCCATCCCCG:TGCTTCGGTCGCGTCA-scRNAseq_2kG_2PMDox2_4</th>\n",
       "      <td>TGCTTCGGTCGCGTCA</td>\n",
       "      <td>ZNF768</td>\n",
       "      <td>ZNF768</td>\n",
       "      <td>GCGCCTCCCGCTCCATCCCCG</td>\n",
       "      <td>ZNF768:GCGCCTCCCGCTCCATCCCCG:TGCTTCGGTCGCGTCA-...</td>\n",
       "      <td>264</td>\n",
       "      <td>596.0</td>\n",
       "      <td>266</td>\n",
       "      <td>264</td>\n",
       "      <td>3.3557045459747314</td>\n",
       "      <td>2PMDox2_4</td>\n",
       "      <td>596.0</td>\n",
       "      <td>20.0</td>\n",
       "    </tr>\n",
       "    <tr>\n",
       "      <th>CPNE2:GAGCAGCTCCCGGGGATGCC:ACCCTTGCATGACTCA-scRNAseq_2kG_11AMDox_1</th>\n",
       "      <td>ACCCTTGCATGACTCA</td>\n",
       "      <td>CPNE2</td>\n",
       "      <td>CPNE2</td>\n",
       "      <td>GAGCAGCTCCCGGGGATGCC</td>\n",
       "      <td>CPNE2:GAGCAGCTCCCGGGGATGCC:ACCCTTGCATGACTCA-sc...</td>\n",
       "      <td>1521</td>\n",
       "      <td>7813.0</td>\n",
       "      <td>1527</td>\n",
       "      <td>1521</td>\n",
       "      <td>6.62997579574585</td>\n",
       "      <td>11AMDox_1</td>\n",
       "      <td>7813.0</td>\n",
       "      <td>518.0</td>\n",
       "    </tr>\n",
       "  </tbody>\n",
       "</table>\n",
       "<p>500 rows × 13 columns</p>\n",
       "</div>"
      ],
      "text/plain": [
       "                                                                 CBC  \\\n",
       "CellID                                                                 \n",
       "CYB561D1:GCAGTGGGATCTTGGCGCACC:CTGTACCAGACCGCCT...  CTGTACCAGACCGCCT   \n",
       "XRCC5:GCGCCTGAGGACCGGCAACA:GGGTGTCGTGAGGAAA-scR...  GGGTGTCGTGAGGAAA   \n",
       "SEPT8-TSS2:GAAAGCGGAGCTCGACGGTCA:ATTCCTATCATGGG...  ATTCCTATCATGGGAG   \n",
       "RGS19-TSS2:GCGGCACTTCCCCAAAGCCAG:CTCCGATCAGACCA...  CTCCGATCAGACCATT   \n",
       "SCFD2:GCAGTACGCCCGAGGCGCTCA:GTCGTAAGTGAGTCAG-sc...  GTCGTAAGTGAGTCAG   \n",
       "...                                                              ...   \n",
       "ATP5O:GCCACCTTTCTCTCACCTGCC:TTAGGCAGTGGATGAC-sc...  TTAGGCAGTGGATGAC   \n",
       "SMARCC2:GCACGTTGTCGAACTGGGTCA:TCTCACGGTCTCAGAT-...  TCTCACGGTCTCAGAT   \n",
       "RNF10:GGGCCGAGGCCGACCTGCTC:GTAGCTATCTTCGACC-scR...  GTAGCTATCTTCGACC   \n",
       "ZNF768:GCGCCTCCCGCTCCATCCCCG:TGCTTCGGTCGCGTCA-s...  TGCTTCGGTCGCGTCA   \n",
       "CPNE2:GAGCAGCTCCCGGGGATGCC:ACCCTTGCATGACTCA-scR...  ACCCTTGCATGACTCA   \n",
       "\n",
       "                                                        Gene Gene.full.name  \\\n",
       "CellID                                                                        \n",
       "CYB561D1:GCAGTGGGATCTTGGCGCACC:CTGTACCAGACCGCCT...  CYB561D1       CYB561D1   \n",
       "XRCC5:GCGCCTGAGGACCGGCAACA:GGGTGTCGTGAGGAAA-scR...     XRCC5          XRCC5   \n",
       "SEPT8-TSS2:GAAAGCGGAGCTCGACGGTCA:ATTCCTATCATGGG...     SEPT8     SEPT8-TSS2   \n",
       "RGS19-TSS2:GCGGCACTTCCCCAAAGCCAG:CTCCGATCAGACCA...     RGS19     RGS19-TSS2   \n",
       "SCFD2:GCAGTACGCCCGAGGCGCTCA:GTCGTAAGTGAGTCAG-sc...     SCFD2          SCFD2   \n",
       "...                                                      ...            ...   \n",
       "ATP5O:GCCACCTTTCTCTCACCTGCC:TTAGGCAGTGGATGAC-sc...     ATP5O          ATP5O   \n",
       "SMARCC2:GCACGTTGTCGAACTGGGTCA:TCTCACGGTCTCAGAT-...   SMARCC2        SMARCC2   \n",
       "RNF10:GGGCCGAGGCCGACCTGCTC:GTAGCTATCTTCGACC-scR...     RNF10          RNF10   \n",
       "ZNF768:GCGCCTCCCGCTCCATCCCCG:TGCTTCGGTCGCGTCA-s...    ZNF768         ZNF768   \n",
       "CPNE2:GAGCAGCTCCCGGGGATGCC:ACCCTTGCATGACTCA-scR...     CPNE2          CPNE2   \n",
       "\n",
       "                                                                    Guide  \\\n",
       "CellID                                                                      \n",
       "CYB561D1:GCAGTGGGATCTTGGCGCACC:CTGTACCAGACCGCCT...  GCAGTGGGATCTTGGCGCACC   \n",
       "XRCC5:GCGCCTGAGGACCGGCAACA:GGGTGTCGTGAGGAAA-scR...   GCGCCTGAGGACCGGCAACA   \n",
       "SEPT8-TSS2:GAAAGCGGAGCTCGACGGTCA:ATTCCTATCATGGG...  GAAAGCGGAGCTCGACGGTCA   \n",
       "RGS19-TSS2:GCGGCACTTCCCCAAAGCCAG:CTCCGATCAGACCA...  GCGGCACTTCCCCAAAGCCAG   \n",
       "SCFD2:GCAGTACGCCCGAGGCGCTCA:GTCGTAAGTGAGTCAG-sc...  GCAGTACGCCCGAGGCGCTCA   \n",
       "...                                                                   ...   \n",
       "ATP5O:GCCACCTTTCTCTCACCTGCC:TTAGGCAGTGGATGAC-sc...  GCCACCTTTCTCTCACCTGCC   \n",
       "SMARCC2:GCACGTTGTCGAACTGGGTCA:TCTCACGGTCTCAGAT-...  GCACGTTGTCGAACTGGGTCA   \n",
       "RNF10:GGGCCGAGGCCGACCTGCTC:GTAGCTATCTTCGACC-scR...   GGGCCGAGGCCGACCTGCTC   \n",
       "ZNF768:GCGCCTCCCGCTCCATCCCCG:TGCTTCGGTCGCGTCA-s...  GCGCCTCCCGCTCCATCCCCG   \n",
       "CPNE2:GAGCAGCTCCCGGGGATGCC:ACCCTTGCATGACTCA-scR...   GAGCAGCTCCCGGGGATGCC   \n",
       "\n",
       "                                                                                             long.CBC  \\\n",
       "CellID                                                                                                  \n",
       "CYB561D1:GCAGTGGGATCTTGGCGCACC:CTGTACCAGACCGCCT...  CYB561D1:GCAGTGGGATCTTGGCGCACC:CTGTACCAGACCGCC...   \n",
       "XRCC5:GCGCCTGAGGACCGGCAACA:GGGTGTCGTGAGGAAA-scR...  XRCC5:GCGCCTGAGGACCGGCAACA:GGGTGTCGTGAGGAAA-sc...   \n",
       "SEPT8-TSS2:GAAAGCGGAGCTCGACGGTCA:ATTCCTATCATGGG...  SEPT8-TSS2:GAAAGCGGAGCTCGACGGTCA:ATTCCTATCATGG...   \n",
       "RGS19-TSS2:GCGGCACTTCCCCAAAGCCAG:CTCCGATCAGACCA...  RGS19-TSS2:GCGGCACTTCCCCAAAGCCAG:CTCCGATCAGACC...   \n",
       "SCFD2:GCAGTACGCCCGAGGCGCTCA:GTCGTAAGTGAGTCAG-sc...  SCFD2:GCAGTACGCCCGAGGCGCTCA:GTCGTAAGTGAGTCAG-s...   \n",
       "...                                                                                               ...   \n",
       "ATP5O:GCCACCTTTCTCTCACCTGCC:TTAGGCAGTGGATGAC-sc...  ATP5O:GCCACCTTTCTCTCACCTGCC:TTAGGCAGTGGATGAC-s...   \n",
       "SMARCC2:GCACGTTGTCGAACTGGGTCA:TCTCACGGTCTCAGAT-...  SMARCC2:GCACGTTGTCGAACTGGGTCA:TCTCACGGTCTCAGAT...   \n",
       "RNF10:GGGCCGAGGCCGACCTGCTC:GTAGCTATCTTCGACC-scR...  RNF10:GGGCCGAGGCCGACCTGCTC:GTAGCTATCTTCGACC-sc...   \n",
       "ZNF768:GCGCCTCCCGCTCCATCCCCG:TGCTTCGGTCGCGTCA-s...  ZNF768:GCGCCTCCCGCTCCATCCCCG:TGCTTCGGTCGCGTCA-...   \n",
       "CPNE2:GAGCAGCTCCCGGGGATGCC:ACCCTTGCATGACTCA-scR...  CPNE2:GAGCAGCTCCCGGGGATGCC:ACCCTTGCATGACTCA-sc...   \n",
       "\n",
       "                                                    nGene    nUMI n_genes  \\\n",
       "CellID                                                                      \n",
       "CYB561D1:GCAGTGGGATCTTGGCGCACC:CTGTACCAGACCGCCT...    738  2338.0     738   \n",
       "XRCC5:GCGCCTGAGGACCGGCAACA:GGGTGTCGTGAGGAAA-scR...   1132  6309.0    1134   \n",
       "SEPT8-TSS2:GAAAGCGGAGCTCGACGGTCA:ATTCCTATCATGGG...    601  1572.0     603   \n",
       "RGS19-TSS2:GCGGCACTTCCCCAAAGCCAG:CTCCGATCAGACCA...    653  1670.0     654   \n",
       "SCFD2:GCAGTACGCCCGAGGCGCTCA:GTCGTAAGTGAGTCAG-sc...    494  1054.0     495   \n",
       "...                                                   ...     ...     ...   \n",
       "ATP5O:GCCACCTTTCTCTCACCTGCC:TTAGGCAGTGGATGAC-sc...    586  1797.0     587   \n",
       "SMARCC2:GCACGTTGTCGAACTGGGTCA:TCTCACGGTCTCAGAT-...    487  1381.0     490   \n",
       "RNF10:GGGCCGAGGCCGACCTGCTC:GTAGCTATCTTCGACC-scR...    794  2651.0     797   \n",
       "ZNF768:GCGCCTCCCGCTCCATCCCCG:TGCTTCGGTCGCGTCA-s...    264   596.0     266   \n",
       "CPNE2:GAGCAGCTCCCGGGGATGCC:ACCCTTGCATGACTCA-scR...   1521  7813.0    1527   \n",
       "\n",
       "                                                   n_genes_by_counts  \\\n",
       "CellID                                                                 \n",
       "CYB561D1:GCAGTGGGATCTTGGCGCACC:CTGTACCAGACCGCCT...               738   \n",
       "XRCC5:GCGCCTGAGGACCGGCAACA:GGGTGTCGTGAGGAAA-scR...              1132   \n",
       "SEPT8-TSS2:GAAAGCGGAGCTCGACGGTCA:ATTCCTATCATGGG...               601   \n",
       "RGS19-TSS2:GCGGCACTTCCCCAAAGCCAG:CTCCGATCAGACCA...               653   \n",
       "SCFD2:GCAGTACGCCCGAGGCGCTCA:GTCGTAAGTGAGTCAG-sc...               494   \n",
       "...                                                              ...   \n",
       "ATP5O:GCCACCTTTCTCTCACCTGCC:TTAGGCAGTGGATGAC-sc...               586   \n",
       "SMARCC2:GCACGTTGTCGAACTGGGTCA:TCTCACGGTCTCAGAT-...               487   \n",
       "RNF10:GGGCCGAGGCCGACCTGCTC:GTAGCTATCTTCGACC-scR...               794   \n",
       "ZNF768:GCGCCTCCCGCTCCATCCCCG:TGCTTCGGTCGCGTCA-s...               264   \n",
       "CPNE2:GAGCAGCTCCCGGGGATGCC:ACCCTTGCATGACTCA-scR...              1521   \n",
       "\n",
       "                                                         pct_counts_mt  \\\n",
       "CellID                                                                   \n",
       "CYB561D1:GCAGTGGGATCTTGGCGCACC:CTGTACCAGACCGCCT...   2.651839256286621   \n",
       "XRCC5:GCGCCTGAGGACCGGCAACA:GGGTGTCGTGAGGAAA-scR...   4.453954696655273   \n",
       "SEPT8-TSS2:GAAAGCGGAGCTCGACGGTCA:ATTCCTATCATGGG...    5.21628475189209   \n",
       "RGS19-TSS2:GCGGCACTTCCCCAAAGCCAG:CTCCGATCAGACCA...   6.946107864379883   \n",
       "SCFD2:GCAGTACGCCCGAGGCGCTCA:GTCGTAAGTGAGTCAG-sc...  11.290322303771973   \n",
       "...                                                                ...   \n",
       "ATP5O:GCCACCTTTCTCTCACCTGCC:TTAGGCAGTGGATGAC-sc...  3.0050084590911865   \n",
       "SMARCC2:GCACGTTGTCGAACTGGGTCA:TCTCACGGTCTCAGAT-...  4.6343231201171875   \n",
       "RNF10:GGGCCGAGGCCGACCTGCTC:GTAGCTATCTTCGACC-scR...   6.374952793121338   \n",
       "ZNF768:GCGCCTCCCGCTCCATCCCCG:TGCTTCGGTCGCGTCA-s...  3.3557045459747314   \n",
       "CPNE2:GAGCAGCTCCCGGGGATGCC:ACCCTTGCATGACTCA-scR...    6.62997579574585   \n",
       "\n",
       "                                                       sample total_counts  \\\n",
       "CellID                                                                       \n",
       "CYB561D1:GCAGTGGGATCTTGGCGCACC:CTGTACCAGACCGCCT...  2PMDox2_1       2338.0   \n",
       "XRCC5:GCGCCTGAGGACCGGCAACA:GGGTGTCGTGAGGAAA-scR...  11AMDox_4       6309.0   \n",
       "SEPT8-TSS2:GAAAGCGGAGCTCGACGGTCA:ATTCCTATCATGGG...  2PMDox1_2       1572.0   \n",
       "RGS19-TSS2:GCGGCACTTCCCCAAAGCCAG:CTCCGATCAGACCA...  2PMDox1_3       1670.0   \n",
       "SCFD2:GCAGTACGCCCGAGGCGCTCA:GTCGTAAGTGAGTCAG-sc...  2PMDox1_7       1054.0   \n",
       "...                                                       ...          ...   \n",
       "ATP5O:GCCACCTTTCTCTCACCTGCC:TTAGGCAGTGGATGAC-sc...  2PMDox2_2       1797.0   \n",
       "SMARCC2:GCACGTTGTCGAACTGGGTCA:TCTCACGGTCTCAGAT-...  2PMDox2_4       1381.0   \n",
       "RNF10:GGGCCGAGGCCGACCTGCTC:GTAGCTATCTTCGACC-scR...  11AMDox_1       2651.0   \n",
       "ZNF768:GCGCCTCCCGCTCCATCCCCG:TGCTTCGGTCGCGTCA-s...  2PMDox2_4        596.0   \n",
       "CPNE2:GAGCAGCTCCCGGGGATGCC:ACCCTTGCATGACTCA-scR...  11AMDox_1       7813.0   \n",
       "\n",
       "                                                   total_counts_mt  \n",
       "CellID                                                              \n",
       "CYB561D1:GCAGTGGGATCTTGGCGCACC:CTGTACCAGACCGCCT...            62.0  \n",
       "XRCC5:GCGCCTGAGGACCGGCAACA:GGGTGTCGTGAGGAAA-scR...           281.0  \n",
       "SEPT8-TSS2:GAAAGCGGAGCTCGACGGTCA:ATTCCTATCATGGG...            82.0  \n",
       "RGS19-TSS2:GCGGCACTTCCCCAAAGCCAG:CTCCGATCAGACCA...           116.0  \n",
       "SCFD2:GCAGTACGCCCGAGGCGCTCA:GTCGTAAGTGAGTCAG-sc...           119.0  \n",
       "...                                                            ...  \n",
       "ATP5O:GCCACCTTTCTCTCACCTGCC:TTAGGCAGTGGATGAC-sc...            54.0  \n",
       "SMARCC2:GCACGTTGTCGAACTGGGTCA:TCTCACGGTCTCAGAT-...            64.0  \n",
       "RNF10:GGGCCGAGGCCGACCTGCTC:GTAGCTATCTTCGACC-scR...           169.0  \n",
       "ZNF768:GCGCCTCCCGCTCCATCCCCG:TGCTTCGGTCGCGTCA-s...            20.0  \n",
       "CPNE2:GAGCAGCTCCCGGGGATGCC:ACCCTTGCATGACTCA-scR...           518.0  \n",
       "\n",
       "[500 rows x 13 columns]"
      ]
     },
     "execution_count": 30,
     "metadata": {},
     "output_type": "execute_result"
    }
   ],
   "source": [
    "adata.obs"
   ]
  },
  {
   "cell_type": "code",
   "execution_count": 31,
   "id": "1b6be8e1-725c-4f81-b6ed-322b95495694",
   "metadata": {
    "execution": {
     "iopub.execute_input": "2023-01-16T18:42:27.778905Z",
     "iopub.status.busy": "2023-01-16T18:42:27.778513Z",
     "iopub.status.idle": "2023-01-16T18:42:27.793832Z",
     "shell.execute_reply": "2023-01-16T18:42:27.792815Z",
     "shell.execute_reply.started": "2023-01-16T18:42:27.778876Z"
    },
    "tags": []
   },
   "outputs": [
    {
     "data": {
      "text/html": [
       "<div>\n",
       "<style scoped>\n",
       "    .dataframe tbody tr th:only-of-type {\n",
       "        vertical-align: middle;\n",
       "    }\n",
       "\n",
       "    .dataframe tbody tr th {\n",
       "        vertical-align: top;\n",
       "    }\n",
       "\n",
       "    .dataframe thead th {\n",
       "        text-align: right;\n",
       "    }\n",
       "</style>\n",
       "<table border=\"1\" class=\"dataframe\">\n",
       "  <thead>\n",
       "    <tr style=\"text-align: right;\">\n",
       "      <th></th>\n",
       "      <th>gene_id</th>\n",
       "      <th>gene_name</th>\n",
       "      <th>mean_counts</th>\n",
       "      <th>mt</th>\n",
       "      <th>n_cells</th>\n",
       "      <th>n_cells_by_counts</th>\n",
       "      <th>pct_dropout_by_counts</th>\n",
       "      <th>total_counts</th>\n",
       "    </tr>\n",
       "    <tr>\n",
       "      <th>Gene</th>\n",
       "      <th></th>\n",
       "      <th></th>\n",
       "      <th></th>\n",
       "      <th></th>\n",
       "      <th></th>\n",
       "      <th></th>\n",
       "      <th></th>\n",
       "      <th></th>\n",
       "    </tr>\n",
       "  </thead>\n",
       "  <tbody>\n",
       "    <tr>\n",
       "      <th>LINC01409</th>\n",
       "      <td>ENSG00000237491</td>\n",
       "      <td>LINC01409</td>\n",
       "      <td>0.06400000303983688</td>\n",
       "      <td>False</td>\n",
       "      <td>32</td>\n",
       "      <td>32</td>\n",
       "      <td>93.6</td>\n",
       "      <td>32.0</td>\n",
       "    </tr>\n",
       "    <tr>\n",
       "      <th>FAM41C</th>\n",
       "      <td>ENSG00000230368</td>\n",
       "      <td>FAM41C</td>\n",
       "      <td>0.012000000104308128</td>\n",
       "      <td>False</td>\n",
       "      <td>6</td>\n",
       "      <td>6</td>\n",
       "      <td>98.8</td>\n",
       "      <td>6.0</td>\n",
       "    </tr>\n",
       "    <tr>\n",
       "      <th>SDF4</th>\n",
       "      <td>ENSG00000078808</td>\n",
       "      <td>SDF4</td>\n",
       "      <td>1.25</td>\n",
       "      <td>False</td>\n",
       "      <td>334</td>\n",
       "      <td>334</td>\n",
       "      <td>33.199999999999996</td>\n",
       "      <td>625.0</td>\n",
       "    </tr>\n",
       "    <tr>\n",
       "      <th>C1QTNF12</th>\n",
       "      <td>ENSG00000184163</td>\n",
       "      <td>C1QTNF12</td>\n",
       "      <td>0.006000000052154064</td>\n",
       "      <td>False</td>\n",
       "      <td>3</td>\n",
       "      <td>3</td>\n",
       "      <td>99.4</td>\n",
       "      <td>3.0</td>\n",
       "    </tr>\n",
       "    <tr>\n",
       "      <th>PUSL1</th>\n",
       "      <td>ENSG00000169972</td>\n",
       "      <td>PUSL1</td>\n",
       "      <td>0.12600000202655792</td>\n",
       "      <td>False</td>\n",
       "      <td>59</td>\n",
       "      <td>59</td>\n",
       "      <td>88.2</td>\n",
       "      <td>63.0</td>\n",
       "    </tr>\n",
       "    <tr>\n",
       "      <th>...</th>\n",
       "      <td>...</td>\n",
       "      <td>...</td>\n",
       "      <td>...</td>\n",
       "      <td>...</td>\n",
       "      <td>...</td>\n",
       "      <td>...</td>\n",
       "      <td>...</td>\n",
       "      <td>...</td>\n",
       "    </tr>\n",
       "    <tr>\n",
       "      <th>MTCP1</th>\n",
       "      <td>ENSG00000214827</td>\n",
       "      <td>MTCP1</td>\n",
       "      <td>0.006000000052154064</td>\n",
       "      <td>False</td>\n",
       "      <td>3</td>\n",
       "      <td>3</td>\n",
       "      <td>99.4</td>\n",
       "      <td>3.0</td>\n",
       "    </tr>\n",
       "    <tr>\n",
       "      <th>MT-ATP6</th>\n",
       "      <td>ENSG00000198899</td>\n",
       "      <td>MT-ATP6</td>\n",
       "      <td>129.74600219726562</td>\n",
       "      <td>True</td>\n",
       "      <td>500</td>\n",
       "      <td>500</td>\n",
       "      <td>0.0</td>\n",
       "      <td>64873.0</td>\n",
       "    </tr>\n",
       "    <tr>\n",
       "      <th>MT-ND5</th>\n",
       "      <td>ENSG00000198786</td>\n",
       "      <td>MT-ND5</td>\n",
       "      <td>14.836000442504883</td>\n",
       "      <td>True</td>\n",
       "      <td>494</td>\n",
       "      <td>494</td>\n",
       "      <td>1.200000000000001</td>\n",
       "      <td>7418.0</td>\n",
       "    </tr>\n",
       "    <tr>\n",
       "      <th>MT-ND6</th>\n",
       "      <td>ENSG00000198695</td>\n",
       "      <td>MT-ND6</td>\n",
       "      <td>2.303999900817871</td>\n",
       "      <td>True</td>\n",
       "      <td>405</td>\n",
       "      <td>405</td>\n",
       "      <td>18.999999999999993</td>\n",
       "      <td>1152.0</td>\n",
       "    </tr>\n",
       "    <tr>\n",
       "      <th>MAFIP</th>\n",
       "      <td>ENSG00000274847</td>\n",
       "      <td>MAFIP</td>\n",
       "      <td>0.006000000052154064</td>\n",
       "      <td>False</td>\n",
       "      <td>3</td>\n",
       "      <td>3</td>\n",
       "      <td>99.4</td>\n",
       "      <td>3.0</td>\n",
       "    </tr>\n",
       "  </tbody>\n",
       "</table>\n",
       "<p>3363 rows × 8 columns</p>\n",
       "</div>"
      ],
      "text/plain": [
       "                   gene_id  gene_name           mean_counts     mt n_cells  \\\n",
       "Gene                                                                         \n",
       "LINC01409  ENSG00000237491  LINC01409   0.06400000303983688  False      32   \n",
       "FAM41C     ENSG00000230368     FAM41C  0.012000000104308128  False       6   \n",
       "SDF4       ENSG00000078808       SDF4                  1.25  False     334   \n",
       "C1QTNF12   ENSG00000184163   C1QTNF12  0.006000000052154064  False       3   \n",
       "PUSL1      ENSG00000169972      PUSL1   0.12600000202655792  False      59   \n",
       "...                    ...        ...                   ...    ...     ...   \n",
       "MTCP1      ENSG00000214827      MTCP1  0.006000000052154064  False       3   \n",
       "MT-ATP6    ENSG00000198899    MT-ATP6    129.74600219726562   True     500   \n",
       "MT-ND5     ENSG00000198786     MT-ND5    14.836000442504883   True     494   \n",
       "MT-ND6     ENSG00000198695     MT-ND6     2.303999900817871   True     405   \n",
       "MAFIP      ENSG00000274847      MAFIP  0.006000000052154064  False       3   \n",
       "\n",
       "          n_cells_by_counts pct_dropout_by_counts total_counts  \n",
       "Gene                                                            \n",
       "LINC01409                32                  93.6         32.0  \n",
       "FAM41C                    6                  98.8          6.0  \n",
       "SDF4                    334    33.199999999999996        625.0  \n",
       "C1QTNF12                  3                  99.4          3.0  \n",
       "PUSL1                    59                  88.2         63.0  \n",
       "...                     ...                   ...          ...  \n",
       "MTCP1                     3                  99.4          3.0  \n",
       "MT-ATP6                 500                   0.0      64873.0  \n",
       "MT-ND5                  494     1.200000000000001       7418.0  \n",
       "MT-ND6                  405    18.999999999999993       1152.0  \n",
       "MAFIP                     3                  99.4          3.0  \n",
       "\n",
       "[3363 rows x 8 columns]"
      ]
     },
     "execution_count": 31,
     "metadata": {},
     "output_type": "execute_result"
    }
   ],
   "source": [
    "adata.var"
   ]
  },
  {
   "cell_type": "markdown",
   "id": "a44ae9e0-7170-4a54-af64-6bc1f8784aa0",
   "metadata": {},
   "source": [
    "## GRN Inference"
   ]
  },
  {
   "cell_type": "code",
   "execution_count": 32,
   "id": "26418fc2-4bc7-4aa4-b321-175cbe347bad",
   "metadata": {
    "execution": {
     "iopub.execute_input": "2023-01-16T18:42:28.778068Z",
     "iopub.status.busy": "2023-01-16T18:42:28.777738Z",
     "iopub.status.idle": "2023-01-16T18:42:28.781735Z",
     "shell.execute_reply": "2023-01-16T18:42:28.781015Z",
     "shell.execute_reply.started": "2023-01-16T18:42:28.778041Z"
    },
    "tags": []
   },
   "outputs": [],
   "source": [
    "from utils import read_adj, parse_adj"
   ]
  },
  {
   "cell_type": "code",
   "execution_count": 33,
   "id": "674a5977-a485-4555-b0a5-d99195b518f0",
   "metadata": {
    "execution": {
     "iopub.execute_input": "2023-01-16T18:42:29.153377Z",
     "iopub.status.busy": "2023-01-16T18:42:29.153056Z",
     "iopub.status.idle": "2023-01-16T18:42:29.160523Z",
     "shell.execute_reply": "2023-01-16T18:42:29.159649Z",
     "shell.execute_reply.started": "2023-01-16T18:42:29.153351Z"
    },
    "tags": []
   },
   "outputs": [
    {
     "data": {
      "text/plain": [
       "['/cellar/users/aklie/projects/igvf/topic_grn_links/grn_inference/scenic/results/endothelial_perturb_seq/filtered_subset_adj.tsv']"
      ]
     },
     "execution_count": 33,
     "metadata": {},
     "output_type": "execute_result"
    }
   ],
   "source": [
    "files = sorted(glob.glob(os.path.join(OUT, \"filtered_subset_adj.tsv\")))\n",
    "files"
   ]
  },
  {
   "cell_type": "code",
   "execution_count": 34,
   "id": "e5f53288-435e-455b-9064-de1137ddaee2",
   "metadata": {
    "execution": {
     "iopub.execute_input": "2023-01-16T18:42:29.777508Z",
     "iopub.status.busy": "2023-01-16T18:42:29.777240Z",
     "iopub.status.idle": "2023-01-16T18:42:29.799515Z",
     "shell.execute_reply": "2023-01-16T18:42:29.798670Z",
     "shell.execute_reply.started": "2023-01-16T18:42:29.777482Z"
    },
    "tags": []
   },
   "outputs": [
    {
     "data": {
      "text/html": [
       "<div>\n",
       "<style scoped>\n",
       "    .dataframe tbody tr th:only-of-type {\n",
       "        vertical-align: middle;\n",
       "    }\n",
       "\n",
       "    .dataframe tbody tr th {\n",
       "        vertical-align: top;\n",
       "    }\n",
       "\n",
       "    .dataframe thead th {\n",
       "        text-align: right;\n",
       "    }\n",
       "</style>\n",
       "<table border=\"1\" class=\"dataframe\">\n",
       "  <thead>\n",
       "    <tr style=\"text-align: right;\">\n",
       "      <th></th>\n",
       "      <th>TF</th>\n",
       "      <th>target</th>\n",
       "      <th>importance</th>\n",
       "    </tr>\n",
       "  </thead>\n",
       "  <tbody>\n",
       "    <tr>\n",
       "      <th>0</th>\n",
       "      <td>ZBTB7A</td>\n",
       "      <td>SLC25A3</td>\n",
       "      <td>157.176004</td>\n",
       "    </tr>\n",
       "    <tr>\n",
       "      <th>1</th>\n",
       "      <td>ZBTB7A</td>\n",
       "      <td>MT-ATP6</td>\n",
       "      <td>155.760692</td>\n",
       "    </tr>\n",
       "    <tr>\n",
       "      <th>2</th>\n",
       "      <td>ZBTB7A</td>\n",
       "      <td>RPL13A</td>\n",
       "      <td>153.144211</td>\n",
       "    </tr>\n",
       "    <tr>\n",
       "      <th>3</th>\n",
       "      <td>ZBTB7A</td>\n",
       "      <td>MYL6</td>\n",
       "      <td>145.729893</td>\n",
       "    </tr>\n",
       "    <tr>\n",
       "      <th>4</th>\n",
       "      <td>ZBTB7A</td>\n",
       "      <td>CRIP2</td>\n",
       "      <td>139.913374</td>\n",
       "    </tr>\n",
       "    <tr>\n",
       "      <th>...</th>\n",
       "      <td>...</td>\n",
       "      <td>...</td>\n",
       "      <td>...</td>\n",
       "    </tr>\n",
       "    <tr>\n",
       "      <th>13443</th>\n",
       "      <td>ZNF354C</td>\n",
       "      <td>LRRC37A</td>\n",
       "      <td>0.004911</td>\n",
       "    </tr>\n",
       "    <tr>\n",
       "      <th>13444</th>\n",
       "      <td>ZNF354C</td>\n",
       "      <td>C1QTNF12</td>\n",
       "      <td>0.003466</td>\n",
       "    </tr>\n",
       "    <tr>\n",
       "      <th>13445</th>\n",
       "      <td>ZNF354C</td>\n",
       "      <td>LKAAEAR1</td>\n",
       "      <td>0.003440</td>\n",
       "    </tr>\n",
       "    <tr>\n",
       "      <th>13446</th>\n",
       "      <td>ZNF354C</td>\n",
       "      <td>PFN4</td>\n",
       "      <td>0.003210</td>\n",
       "    </tr>\n",
       "    <tr>\n",
       "      <th>13447</th>\n",
       "      <td>ZNF354C</td>\n",
       "      <td>MAFIP</td>\n",
       "      <td>0.002573</td>\n",
       "    </tr>\n",
       "  </tbody>\n",
       "</table>\n",
       "<p>13448 rows × 3 columns</p>\n",
       "</div>"
      ],
      "text/plain": [
       "            TF    target  importance\n",
       "0       ZBTB7A   SLC25A3  157.176004\n",
       "1       ZBTB7A   MT-ATP6  155.760692\n",
       "2       ZBTB7A    RPL13A  153.144211\n",
       "3       ZBTB7A      MYL6  145.729893\n",
       "4       ZBTB7A     CRIP2  139.913374\n",
       "...        ...       ...         ...\n",
       "13443  ZNF354C   LRRC37A    0.004911\n",
       "13444  ZNF354C  C1QTNF12    0.003466\n",
       "13445  ZNF354C  LKAAEAR1    0.003440\n",
       "13446  ZNF354C      PFN4    0.003210\n",
       "13447  ZNF354C     MAFIP    0.002573\n",
       "\n",
       "[13448 rows x 3 columns]"
      ]
     },
     "execution_count": 34,
     "metadata": {},
     "output_type": "execute_result"
    }
   ],
   "source": [
    "read_adj(files[0])"
   ]
  },
  {
   "cell_type": "code",
   "execution_count": 21,
   "id": "6d639f16-288f-4dd4-96a6-f5cc4a96a6e1",
   "metadata": {
    "execution": {
     "iopub.execute_input": "2023-01-16T18:38:52.213879Z",
     "iopub.status.busy": "2023-01-16T18:38:52.213565Z",
     "iopub.status.idle": "2023-01-16T18:39:07.655933Z",
     "shell.execute_reply": "2023-01-16T18:39:07.655023Z",
     "shell.execute_reply.started": "2023-01-16T18:38:52.213852Z"
    },
    "tags": []
   },
   "outputs": [
    {
     "name": "stderr",
     "output_type": "stream",
     "text": [
      "/cellar/users/aklie/projects/igvf/topic_grn_links/grn_inference/scenic/utils.py:39: PerformanceWarning: dropping on a non-lexsorted multi-index without a level parameter may impact performance.\n",
      "  ranks = ranks.reset_index().sort_values([\"TF\"]).groupby([\"TF\"], sort=False).apply(lambda x: x.sort_values((\"rank\", \"mean\"), ascending=True)).drop(\"TF\", axis=1)\n"
     ]
    }
   ],
   "source": [
    "multi_adj, ranked_genes = parse_adj(files, tfs=None)"
   ]
  },
  {
   "cell_type": "code",
   "execution_count": 22,
   "id": "fa5387c4-e251-42c4-bc03-c5da73e1860e",
   "metadata": {
    "execution": {
     "iopub.execute_input": "2023-01-16T18:39:10.396270Z",
     "iopub.status.busy": "2023-01-16T18:39:10.395958Z",
     "iopub.status.idle": "2023-01-16T18:39:10.410480Z",
     "shell.execute_reply": "2023-01-16T18:39:10.409569Z",
     "shell.execute_reply.started": "2023-01-16T18:39:10.396242Z"
    },
    "tags": []
   },
   "outputs": [
    {
     "data": {
      "text/html": [
       "<div>\n",
       "<style scoped>\n",
       "    .dataframe tbody tr th:only-of-type {\n",
       "        vertical-align: middle;\n",
       "    }\n",
       "\n",
       "    .dataframe tbody tr th {\n",
       "        vertical-align: top;\n",
       "    }\n",
       "\n",
       "    .dataframe thead th {\n",
       "        text-align: right;\n",
       "    }\n",
       "</style>\n",
       "<table border=\"1\" class=\"dataframe\">\n",
       "  <thead>\n",
       "    <tr style=\"text-align: right;\">\n",
       "      <th></th>\n",
       "      <th>TF</th>\n",
       "      <th>target</th>\n",
       "      <th>importance</th>\n",
       "      <th>file</th>\n",
       "      <th>rank</th>\n",
       "    </tr>\n",
       "  </thead>\n",
       "  <tbody>\n",
       "    <tr>\n",
       "      <th>0</th>\n",
       "      <td>ZBTB7A</td>\n",
       "      <td>SLC25A3</td>\n",
       "      <td>157.176004</td>\n",
       "      <td>/cellar/users/aklie/projects/igvf/topic_grn_li...</td>\n",
       "      <td>1</td>\n",
       "    </tr>\n",
       "    <tr>\n",
       "      <th>1</th>\n",
       "      <td>ZBTB7A</td>\n",
       "      <td>MT-ATP6</td>\n",
       "      <td>155.760692</td>\n",
       "      <td>/cellar/users/aklie/projects/igvf/topic_grn_li...</td>\n",
       "      <td>2</td>\n",
       "    </tr>\n",
       "    <tr>\n",
       "      <th>2</th>\n",
       "      <td>ZBTB7A</td>\n",
       "      <td>RPL13A</td>\n",
       "      <td>153.144211</td>\n",
       "      <td>/cellar/users/aklie/projects/igvf/topic_grn_li...</td>\n",
       "      <td>3</td>\n",
       "    </tr>\n",
       "    <tr>\n",
       "      <th>3</th>\n",
       "      <td>ZBTB7A</td>\n",
       "      <td>MYL6</td>\n",
       "      <td>145.729893</td>\n",
       "      <td>/cellar/users/aklie/projects/igvf/topic_grn_li...</td>\n",
       "      <td>4</td>\n",
       "    </tr>\n",
       "    <tr>\n",
       "      <th>4</th>\n",
       "      <td>ZBTB7A</td>\n",
       "      <td>CRIP2</td>\n",
       "      <td>139.913374</td>\n",
       "      <td>/cellar/users/aklie/projects/igvf/topic_grn_li...</td>\n",
       "      <td>5</td>\n",
       "    </tr>\n",
       "    <tr>\n",
       "      <th>...</th>\n",
       "      <td>...</td>\n",
       "      <td>...</td>\n",
       "      <td>...</td>\n",
       "      <td>...</td>\n",
       "      <td>...</td>\n",
       "    </tr>\n",
       "    <tr>\n",
       "      <th>13443</th>\n",
       "      <td>ZNF354C</td>\n",
       "      <td>LRRC37A</td>\n",
       "      <td>0.004911</td>\n",
       "      <td>/cellar/users/aklie/projects/igvf/topic_grn_li...</td>\n",
       "      <td>3358</td>\n",
       "    </tr>\n",
       "    <tr>\n",
       "      <th>13444</th>\n",
       "      <td>ZNF354C</td>\n",
       "      <td>C1QTNF12</td>\n",
       "      <td>0.003466</td>\n",
       "      <td>/cellar/users/aklie/projects/igvf/topic_grn_li...</td>\n",
       "      <td>3359</td>\n",
       "    </tr>\n",
       "    <tr>\n",
       "      <th>13445</th>\n",
       "      <td>ZNF354C</td>\n",
       "      <td>LKAAEAR1</td>\n",
       "      <td>0.003440</td>\n",
       "      <td>/cellar/users/aklie/projects/igvf/topic_grn_li...</td>\n",
       "      <td>3360</td>\n",
       "    </tr>\n",
       "    <tr>\n",
       "      <th>13446</th>\n",
       "      <td>ZNF354C</td>\n",
       "      <td>PFN4</td>\n",
       "      <td>0.003210</td>\n",
       "      <td>/cellar/users/aklie/projects/igvf/topic_grn_li...</td>\n",
       "      <td>3361</td>\n",
       "    </tr>\n",
       "    <tr>\n",
       "      <th>13447</th>\n",
       "      <td>ZNF354C</td>\n",
       "      <td>MAFIP</td>\n",
       "      <td>0.002573</td>\n",
       "      <td>/cellar/users/aklie/projects/igvf/topic_grn_li...</td>\n",
       "      <td>3362</td>\n",
       "    </tr>\n",
       "  </tbody>\n",
       "</table>\n",
       "<p>13448 rows × 5 columns</p>\n",
       "</div>"
      ],
      "text/plain": [
       "            TF    target  importance  \\\n",
       "0       ZBTB7A   SLC25A3  157.176004   \n",
       "1       ZBTB7A   MT-ATP6  155.760692   \n",
       "2       ZBTB7A    RPL13A  153.144211   \n",
       "3       ZBTB7A      MYL6  145.729893   \n",
       "4       ZBTB7A     CRIP2  139.913374   \n",
       "...        ...       ...         ...   \n",
       "13443  ZNF354C   LRRC37A    0.004911   \n",
       "13444  ZNF354C  C1QTNF12    0.003466   \n",
       "13445  ZNF354C  LKAAEAR1    0.003440   \n",
       "13446  ZNF354C      PFN4    0.003210   \n",
       "13447  ZNF354C     MAFIP    0.002573   \n",
       "\n",
       "                                                    file  rank  \n",
       "0      /cellar/users/aklie/projects/igvf/topic_grn_li...     1  \n",
       "1      /cellar/users/aklie/projects/igvf/topic_grn_li...     2  \n",
       "2      /cellar/users/aklie/projects/igvf/topic_grn_li...     3  \n",
       "3      /cellar/users/aklie/projects/igvf/topic_grn_li...     4  \n",
       "4      /cellar/users/aklie/projects/igvf/topic_grn_li...     5  \n",
       "...                                                  ...   ...  \n",
       "13443  /cellar/users/aklie/projects/igvf/topic_grn_li...  3358  \n",
       "13444  /cellar/users/aklie/projects/igvf/topic_grn_li...  3359  \n",
       "13445  /cellar/users/aklie/projects/igvf/topic_grn_li...  3360  \n",
       "13446  /cellar/users/aklie/projects/igvf/topic_grn_li...  3361  \n",
       "13447  /cellar/users/aklie/projects/igvf/topic_grn_li...  3362  \n",
       "\n",
       "[13448 rows x 5 columns]"
      ]
     },
     "execution_count": 22,
     "metadata": {},
     "output_type": "execute_result"
    }
   ],
   "source": [
    "multi_adj"
   ]
  },
  {
   "cell_type": "code",
   "execution_count": 16,
   "id": "c1795aee-7e04-4e13-b466-4b5977f18f85",
   "metadata": {
    "execution": {
     "iopub.execute_input": "2023-01-10T19:59:24.292634Z",
     "iopub.status.busy": "2023-01-10T19:59:24.292174Z",
     "iopub.status.idle": "2023-01-10T19:59:24.309009Z",
     "shell.execute_reply": "2023-01-10T19:59:24.308182Z",
     "shell.execute_reply.started": "2023-01-10T19:59:24.292604Z"
    },
    "tags": []
   },
   "outputs": [
    {
     "data": {
      "text/html": [
       "<div>\n",
       "<style scoped>\n",
       "    .dataframe tbody tr th:only-of-type {\n",
       "        vertical-align: middle;\n",
       "    }\n",
       "\n",
       "    .dataframe tbody tr th {\n",
       "        vertical-align: top;\n",
       "    }\n",
       "\n",
       "    .dataframe thead tr th {\n",
       "        text-align: left;\n",
       "    }\n",
       "</style>\n",
       "<table border=\"1\" class=\"dataframe\">\n",
       "  <thead>\n",
       "    <tr>\n",
       "      <th></th>\n",
       "      <th>TF</th>\n",
       "      <th>target</th>\n",
       "      <th>rank</th>\n",
       "      <th colspan=\"2\" halign=\"left\">importance</th>\n",
       "    </tr>\n",
       "    <tr>\n",
       "      <th></th>\n",
       "      <th></th>\n",
       "      <th></th>\n",
       "      <th>mean</th>\n",
       "      <th>mean</th>\n",
       "      <th>std</th>\n",
       "    </tr>\n",
       "  </thead>\n",
       "  <tbody>\n",
       "    <tr>\n",
       "      <th>0</th>\n",
       "      <td>2310011J03Rik</td>\n",
       "      <td>Mir6236</td>\n",
       "      <td>1.5</td>\n",
       "      <td>1.293538e+01</td>\n",
       "      <td>7.089223</td>\n",
       "    </tr>\n",
       "    <tr>\n",
       "      <th>1</th>\n",
       "      <td>2310011J03Rik</td>\n",
       "      <td>Bscl2</td>\n",
       "      <td>4.5</td>\n",
       "      <td>7.340578e+00</td>\n",
       "      <td>1.437614</td>\n",
       "    </tr>\n",
       "    <tr>\n",
       "      <th>2</th>\n",
       "      <td>2310011J03Rik</td>\n",
       "      <td>Usp25</td>\n",
       "      <td>4.5</td>\n",
       "      <td>7.574090e+00</td>\n",
       "      <td>1.907232</td>\n",
       "    </tr>\n",
       "    <tr>\n",
       "      <th>3</th>\n",
       "      <td>2310011J03Rik</td>\n",
       "      <td>Shroom3</td>\n",
       "      <td>5.0</td>\n",
       "      <td>7.129836e+00</td>\n",
       "      <td>0.373359</td>\n",
       "    </tr>\n",
       "    <tr>\n",
       "      <th>4</th>\n",
       "      <td>2310011J03Rik</td>\n",
       "      <td>Zscan26</td>\n",
       "      <td>5.0</td>\n",
       "      <td>7.278688e+00</td>\n",
       "      <td>0.870425</td>\n",
       "    </tr>\n",
       "    <tr>\n",
       "      <th>...</th>\n",
       "      <td>...</td>\n",
       "      <td>...</td>\n",
       "      <td>...</td>\n",
       "      <td>...</td>\n",
       "      <td>...</td>\n",
       "    </tr>\n",
       "    <tr>\n",
       "      <th>1097247</th>\n",
       "      <td>Zscan26</td>\n",
       "      <td>Ccdc194</td>\n",
       "      <td>3177.0</td>\n",
       "      <td>3.514155e-12</td>\n",
       "      <td>0.000000</td>\n",
       "    </tr>\n",
       "    <tr>\n",
       "      <th>1097248</th>\n",
       "      <td>Zscan26</td>\n",
       "      <td>Gm9305</td>\n",
       "      <td>3178.0</td>\n",
       "      <td>1.923953e-12</td>\n",
       "      <td>0.000000</td>\n",
       "    </tr>\n",
       "    <tr>\n",
       "      <th>1097249</th>\n",
       "      <td>Zscan26</td>\n",
       "      <td>Tmem167-ps2</td>\n",
       "      <td>3179.0</td>\n",
       "      <td>1.141580e-13</td>\n",
       "      <td>0.000000</td>\n",
       "    </tr>\n",
       "    <tr>\n",
       "      <th>1097250</th>\n",
       "      <td>Zscan26</td>\n",
       "      <td>Spag1</td>\n",
       "      <td>3180.0</td>\n",
       "      <td>3.142649e-14</td>\n",
       "      <td>0.000000</td>\n",
       "    </tr>\n",
       "    <tr>\n",
       "      <th>1097251</th>\n",
       "      <td>Zscan26</td>\n",
       "      <td>Gm13572</td>\n",
       "      <td>3182.0</td>\n",
       "      <td>1.056043e-14</td>\n",
       "      <td>0.000000</td>\n",
       "    </tr>\n",
       "  </tbody>\n",
       "</table>\n",
       "<p>1097252 rows × 5 columns</p>\n",
       "</div>"
      ],
      "text/plain": [
       "                    TF       target    rank    importance          \n",
       "                                       mean          mean       std\n",
       "0        2310011J03Rik      Mir6236     1.5  1.293538e+01  7.089223\n",
       "1        2310011J03Rik        Bscl2     4.5  7.340578e+00  1.437614\n",
       "2        2310011J03Rik        Usp25     4.5  7.574090e+00  1.907232\n",
       "3        2310011J03Rik      Shroom3     5.0  7.129836e+00  0.373359\n",
       "4        2310011J03Rik      Zscan26     5.0  7.278688e+00  0.870425\n",
       "...                ...          ...     ...           ...       ...\n",
       "1097247        Zscan26      Ccdc194  3177.0  3.514155e-12  0.000000\n",
       "1097248        Zscan26       Gm9305  3178.0  1.923953e-12  0.000000\n",
       "1097249        Zscan26  Tmem167-ps2  3179.0  1.141580e-13  0.000000\n",
       "1097250        Zscan26        Spag1  3180.0  3.142649e-14  0.000000\n",
       "1097251        Zscan26      Gm13572  3182.0  1.056043e-14  0.000000\n",
       "\n",
       "[1097252 rows x 5 columns]"
      ]
     },
     "execution_count": 16,
     "metadata": {},
     "output_type": "execute_result"
    }
   ],
   "source": [
    "ranked_genes"
   ]
  },
  {
   "cell_type": "markdown",
   "id": "db842aa4-66d2-41e3-91c4-1a98e08cf51f",
   "metadata": {},
   "source": [
    "## Loom files - regulons and AUC"
   ]
  },
  {
   "cell_type": "code",
   "execution_count": 23,
   "id": "2c54fdef-2344-459d-8bd7-3e91b9e0f72b",
   "metadata": {
    "execution": {
     "iopub.execute_input": "2023-01-16T18:39:34.397229Z",
     "iopub.status.busy": "2023-01-16T18:39:34.396949Z",
     "iopub.status.idle": "2023-01-16T18:39:34.401153Z",
     "shell.execute_reply": "2023-01-16T18:39:34.400121Z",
     "shell.execute_reply.started": "2023-01-16T18:39:34.397203Z"
    },
    "tags": []
   },
   "outputs": [],
   "source": [
    "from utils import parse_loom"
   ]
  },
  {
   "cell_type": "code",
   "execution_count": 35,
   "id": "8b035a15-7332-4e74-9575-dd2f92302c03",
   "metadata": {
    "execution": {
     "iopub.execute_input": "2023-01-16T18:42:32.146437Z",
     "iopub.status.busy": "2023-01-16T18:42:32.146148Z",
     "iopub.status.idle": "2023-01-16T18:42:32.153480Z",
     "shell.execute_reply": "2023-01-16T18:42:32.152518Z",
     "shell.execute_reply.started": "2023-01-16T18:42:32.146409Z"
    },
    "tags": []
   },
   "outputs": [
    {
     "data": {
      "text/plain": [
       "['/cellar/users/aklie/projects/igvf/topic_grn_links/grn_inference/scenic/results/endothelial_perturb_seq/filtered_subset_pyscenic_output.loom']"
      ]
     },
     "execution_count": 35,
     "metadata": {},
     "output_type": "execute_result"
    }
   ],
   "source": [
    "files = sorted(glob.glob(os.path.join(OUT, \"filtered_subset_pyscenic_output.loom\")))\n",
    "files"
   ]
  },
  {
   "cell_type": "code",
   "execution_count": 36,
   "id": "e3d276fb-473b-45aa-a7ef-1c5c2a1bd85c",
   "metadata": {
    "execution": {
     "iopub.execute_input": "2023-01-16T18:42:35.496784Z",
     "iopub.status.busy": "2023-01-16T18:42:35.496476Z",
     "iopub.status.idle": "2023-01-16T18:42:35.524440Z",
     "shell.execute_reply": "2023-01-16T18:42:35.523578Z",
     "shell.execute_reply.started": "2023-01-16T18:42:35.496756Z"
    },
    "tags": []
   },
   "outputs": [
    {
     "name": "stdout",
     "output_type": "stream",
     "text": [
      "/cellar/users/aklie/projects/igvf/topic_grn_links/grn_inference/scenic/results/endothelial_perturb_seq/filtered_subset_pyscenic_output.loom\n"
     ]
    }
   ],
   "source": [
    "tf_regulons, tf_activities = parse_loom(files, tf=\"ZBTB7A\", cells=cells, genes=genes)"
   ]
  },
  {
   "cell_type": "code",
   "execution_count": 38,
   "id": "fdd881d2-5819-4bed-a954-02eeec094f17",
   "metadata": {
    "execution": {
     "iopub.execute_input": "2023-01-16T18:42:46.778438Z",
     "iopub.status.busy": "2023-01-16T18:42:46.778154Z",
     "iopub.status.idle": "2023-01-16T18:42:46.784503Z",
     "shell.execute_reply": "2023-01-16T18:42:46.783854Z",
     "shell.execute_reply.started": "2023-01-16T18:42:46.778411Z"
    }
   },
   "outputs": [
    {
     "data": {
      "text/plain": [
       "Gene\n",
       "CLSTN1      1\n",
       "TUBA1C      1\n",
       "GIT2        1\n",
       "CKAP4       1\n",
       "C12orf75    1\n",
       "           ..\n",
       "CXXC5       1\n",
       "PAIP2       1\n",
       "SIL1        1\n",
       "HNRNPA0     1\n",
       "CMC4        1\n",
       "Length: 308, dtype: int64"
      ]
     },
     "execution_count": 38,
     "metadata": {},
     "output_type": "execute_result"
    }
   ],
   "source": [
    "tf_regulons"
   ]
  },
  {
   "cell_type": "code",
   "execution_count": 39,
   "id": "9cd13d0c-97cc-46ea-8f8d-a5fba1aa2510",
   "metadata": {
    "execution": {
     "iopub.execute_input": "2023-01-16T18:42:54.779829Z",
     "iopub.status.busy": "2023-01-16T18:42:54.779471Z",
     "iopub.status.idle": "2023-01-16T18:42:54.788890Z",
     "shell.execute_reply": "2023-01-16T18:42:54.788152Z",
     "shell.execute_reply.started": "2023-01-16T18:42:54.779801Z"
    }
   },
   "outputs": [
    {
     "data": {
      "text/html": [
       "<div>\n",
       "<style scoped>\n",
       "    .dataframe tbody tr th:only-of-type {\n",
       "        vertical-align: middle;\n",
       "    }\n",
       "\n",
       "    .dataframe tbody tr th {\n",
       "        vertical-align: top;\n",
       "    }\n",
       "\n",
       "    .dataframe thead th {\n",
       "        text-align: right;\n",
       "    }\n",
       "</style>\n",
       "<table border=\"1\" class=\"dataframe\">\n",
       "  <thead>\n",
       "    <tr style=\"text-align: right;\">\n",
       "      <th></th>\n",
       "      <th>/cellar/users/aklie/projects/igvf/topic_grn_links/grn_inference/scenic/results/endothelial_perturb_seq/filtered_subset_pyscenic_output.loom</th>\n",
       "    </tr>\n",
       "    <tr>\n",
       "      <th>CellID</th>\n",
       "      <th></th>\n",
       "    </tr>\n",
       "  </thead>\n",
       "  <tbody>\n",
       "    <tr>\n",
       "      <th>CYB561D1:GCAGTGGGATCTTGGCGCACC:CTGTACCAGACCGCCT-scRNAseq_2kG_2PMDox2_1</th>\n",
       "      <td>0.037415</td>\n",
       "    </tr>\n",
       "    <tr>\n",
       "      <th>XRCC5:GCGCCTGAGGACCGGCAACA:GGGTGTCGTGAGGAAA-scRNAseq_2kG_11AMDox_4</th>\n",
       "      <td>0.038246</td>\n",
       "    </tr>\n",
       "    <tr>\n",
       "      <th>SEPT8-TSS2:GAAAGCGGAGCTCGACGGTCA:ATTCCTATCATGGGAG-scRNAseq_2kG_2PMDox1_2</th>\n",
       "      <td>0.027617</td>\n",
       "    </tr>\n",
       "    <tr>\n",
       "      <th>RGS19-TSS2:GCGGCACTTCCCCAAAGCCAG:CTCCGATCAGACCATT-scRNAseq_2kG_2PMDox1_3</th>\n",
       "      <td>0.046440</td>\n",
       "    </tr>\n",
       "    <tr>\n",
       "      <th>SCFD2:GCAGTACGCCCGAGGCGCTCA:GTCGTAAGTGAGTCAG-scRNAseq_2kG_2PMDox1_7</th>\n",
       "      <td>0.041628</td>\n",
       "    </tr>\n",
       "    <tr>\n",
       "      <th>...</th>\n",
       "      <td>...</td>\n",
       "    </tr>\n",
       "    <tr>\n",
       "      <th>ATP5O:GCCACCTTTCTCTCACCTGCC:TTAGGCAGTGGATGAC-scRNAseq_2kG_2PMDox2_2</th>\n",
       "      <td>0.032294</td>\n",
       "    </tr>\n",
       "    <tr>\n",
       "      <th>SMARCC2:GCACGTTGTCGAACTGGGTCA:TCTCACGGTCTCAGAT-scRNAseq_2kG_2PMDox2_4</th>\n",
       "      <td>0.038826</td>\n",
       "    </tr>\n",
       "    <tr>\n",
       "      <th>RNF10:GGGCCGAGGCCGACCTGCTC:GTAGCTATCTTCGACC-scRNAseq_2kG_11AMDox_1</th>\n",
       "      <td>0.039116</td>\n",
       "    </tr>\n",
       "    <tr>\n",
       "      <th>ZNF768:GCGCCTCCCGCTCCATCCCCG:TGCTTCGGTCGCGTCA-scRNAseq_2kG_2PMDox2_4</th>\n",
       "      <td>0.036255</td>\n",
       "    </tr>\n",
       "    <tr>\n",
       "      <th>CPNE2:GAGCAGCTCCCGGGGATGCC:ACCCTTGCATGACTCA-scRNAseq_2kG_11AMDox_1</th>\n",
       "      <td>0.048759</td>\n",
       "    </tr>\n",
       "  </tbody>\n",
       "</table>\n",
       "<p>500 rows × 1 columns</p>\n",
       "</div>"
      ],
      "text/plain": [
       "                                                    /cellar/users/aklie/projects/igvf/topic_grn_links/grn_inference/scenic/results/endothelial_perturb_seq/filtered_subset_pyscenic_output.loom\n",
       "CellID                                                                                                                                                                                         \n",
       "CYB561D1:GCAGTGGGATCTTGGCGCACC:CTGTACCAGACCGCCT...                                           0.037415                                                                                          \n",
       "XRCC5:GCGCCTGAGGACCGGCAACA:GGGTGTCGTGAGGAAA-scR...                                           0.038246                                                                                          \n",
       "SEPT8-TSS2:GAAAGCGGAGCTCGACGGTCA:ATTCCTATCATGGG...                                           0.027617                                                                                          \n",
       "RGS19-TSS2:GCGGCACTTCCCCAAAGCCAG:CTCCGATCAGACCA...                                           0.046440                                                                                          \n",
       "SCFD2:GCAGTACGCCCGAGGCGCTCA:GTCGTAAGTGAGTCAG-sc...                                           0.041628                                                                                          \n",
       "...                                                                                               ...                                                                                          \n",
       "ATP5O:GCCACCTTTCTCTCACCTGCC:TTAGGCAGTGGATGAC-sc...                                           0.032294                                                                                          \n",
       "SMARCC2:GCACGTTGTCGAACTGGGTCA:TCTCACGGTCTCAGAT-...                                           0.038826                                                                                          \n",
       "RNF10:GGGCCGAGGCCGACCTGCTC:GTAGCTATCTTCGACC-scR...                                           0.039116                                                                                          \n",
       "ZNF768:GCGCCTCCCGCTCCATCCCCG:TGCTTCGGTCGCGTCA-s...                                           0.036255                                                                                          \n",
       "CPNE2:GAGCAGCTCCCGGGGATGCC:ACCCTTGCATGACTCA-scR...                                           0.048759                                                                                          \n",
       "\n",
       "[500 rows x 1 columns]"
      ]
     },
     "execution_count": 39,
     "metadata": {},
     "output_type": "execute_result"
    }
   ],
   "source": [
    "tf_activities"
   ]
  },
  {
   "cell_type": "markdown",
   "id": "67211bab-fdae-4a9a-95b3-5c55965f43a5",
   "metadata": {},
   "source": [
    "## Visualize the AUC matrix"
   ]
  },
  {
   "cell_type": "code",
   "execution_count": 40,
   "id": "81e70024-0477-4151-89fe-d597c8014568",
   "metadata": {
    "execution": {
     "iopub.execute_input": "2023-01-16T18:43:04.776760Z",
     "iopub.status.busy": "2023-01-16T18:43:04.776460Z",
     "iopub.status.idle": "2023-01-16T18:43:04.781560Z",
     "shell.execute_reply": "2023-01-16T18:43:04.780749Z",
     "shell.execute_reply.started": "2023-01-16T18:43:04.776732Z"
    },
    "tags": []
   },
   "outputs": [
    {
     "data": {
      "text/plain": [
       "'/cellar/users/aklie/projects/igvf/topic_grn_links/grn_inference/scenic/results/endothelial_perturb_seq/filtered_subset_pyscenic_output.loom'"
      ]
     },
     "execution_count": 40,
     "metadata": {},
     "output_type": "execute_result"
    }
   ],
   "source": [
    "files[0]"
   ]
  },
  {
   "cell_type": "code",
   "execution_count": 41,
   "id": "d3ce0fc5-34a9-4ceb-a70c-625a54106847",
   "metadata": {
    "execution": {
     "iopub.execute_input": "2023-01-16T18:43:05.779121Z",
     "iopub.status.busy": "2023-01-16T18:43:05.778836Z",
     "iopub.status.idle": "2023-01-16T18:43:05.884285Z",
     "shell.execute_reply": "2023-01-16T18:43:05.883440Z",
     "shell.execute_reply.started": "2023-01-16T18:43:05.779094Z"
    },
    "tags": []
   },
   "outputs": [],
   "source": [
    "# collect SCENIC AUCell output\n",
    "lf = lp.connect(files[0], mode='r+', validate=False )\n",
    "meta = json.loads(zlib.decompress(base64.b64decode( lf.attrs.MetaData )))\n",
    "exprMat = pd.DataFrame( lf[:,:], index=lf.ra.Gene, columns=lf.ca.CellID).T\n",
    "auc_mtx = pd.DataFrame( lf.ca.RegulonsAUC, index=lf.ca.CellID)\n",
    "\n",
    "# create a dictionary of regulons:\n",
    "regulons = {}\n",
    "for i,r in pd.DataFrame(lf.ra.Regulons,index=lf.ra.Gene).iteritems():\n",
    "    regulons[i] =  list(r[r==1].index.values)\n",
    "lf.close()"
   ]
  },
  {
   "cell_type": "code",
   "execution_count": 44,
   "id": "6592bf43-524c-4512-9b3e-4eff5cff2ace",
   "metadata": {
    "execution": {
     "iopub.execute_input": "2023-01-16T18:43:27.996286Z",
     "iopub.status.busy": "2023-01-16T18:43:27.996000Z",
     "iopub.status.idle": "2023-01-16T18:43:28.002278Z",
     "shell.execute_reply": "2023-01-16T18:43:28.001221Z",
     "shell.execute_reply.started": "2023-01-16T18:43:27.996258Z"
    },
    "tags": []
   },
   "outputs": [
    {
     "data": {
      "text/plain": [
       "['CLSTN1', 'DDI2', 'ZBTB17', 'LUZP1', 'ID3']"
      ]
     },
     "execution_count": 44,
     "metadata": {},
     "output_type": "execute_result"
    }
   ],
   "source": [
    "regulons[\"ZBTB7A(+)\"][:5]"
   ]
  },
  {
   "cell_type": "code",
   "execution_count": 45,
   "id": "3775a938-49d3-4956-bdfd-b770fe17ba55",
   "metadata": {
    "execution": {
     "iopub.execute_input": "2023-01-16T18:43:36.496582Z",
     "iopub.status.busy": "2023-01-16T18:43:36.496292Z",
     "iopub.status.idle": "2023-01-16T18:43:36.504439Z",
     "shell.execute_reply": "2023-01-16T18:43:36.503342Z",
     "shell.execute_reply.started": "2023-01-16T18:43:36.496555Z"
    },
    "tags": []
   },
   "outputs": [
    {
     "data": {
      "text/plain": [
       "CYB561D1:GCAGTGGGATCTTGGCGCACC:CTGTACCAGACCGCCT-scRNAseq_2kG_2PMDox2_1      0.037415\n",
       "XRCC5:GCGCCTGAGGACCGGCAACA:GGGTGTCGTGAGGAAA-scRNAseq_2kG_11AMDox_4          0.038246\n",
       "SEPT8-TSS2:GAAAGCGGAGCTCGACGGTCA:ATTCCTATCATGGGAG-scRNAseq_2kG_2PMDox1_2    0.027617\n",
       "RGS19-TSS2:GCGGCACTTCCCCAAAGCCAG:CTCCGATCAGACCATT-scRNAseq_2kG_2PMDox1_3    0.046440\n",
       "SCFD2:GCAGTACGCCCGAGGCGCTCA:GTCGTAAGTGAGTCAG-scRNAseq_2kG_2PMDox1_7         0.041628\n",
       "                                                                              ...   \n",
       "ATP5O:GCCACCTTTCTCTCACCTGCC:TTAGGCAGTGGATGAC-scRNAseq_2kG_2PMDox2_2         0.032294\n",
       "SMARCC2:GCACGTTGTCGAACTGGGTCA:TCTCACGGTCTCAGAT-scRNAseq_2kG_2PMDox2_4       0.038826\n",
       "RNF10:GGGCCGAGGCCGACCTGCTC:GTAGCTATCTTCGACC-scRNAseq_2kG_11AMDox_1          0.039116\n",
       "ZNF768:GCGCCTCCCGCTCCATCCCCG:TGCTTCGGTCGCGTCA-scRNAseq_2kG_2PMDox2_4        0.036255\n",
       "CPNE2:GAGCAGCTCCCGGGGATGCC:ACCCTTGCATGACTCA-scRNAseq_2kG_11AMDox_1          0.048759\n",
       "Name: ZBTB7A(+), Length: 500, dtype: float64"
      ]
     },
     "execution_count": 45,
     "metadata": {},
     "output_type": "execute_result"
    }
   ],
   "source": [
    "auc_mtx[\"ZBTB7A(+)\"]"
   ]
  },
  {
   "cell_type": "code",
   "execution_count": 46,
   "id": "fd09f415-2fa8-4742-8046-c8b452b1099c",
   "metadata": {
    "execution": {
     "iopub.execute_input": "2023-01-16T18:43:38.047891Z",
     "iopub.status.busy": "2023-01-16T18:43:38.047523Z",
     "iopub.status.idle": "2023-01-16T18:43:38.051713Z",
     "shell.execute_reply": "2023-01-16T18:43:38.050887Z",
     "shell.execute_reply.started": "2023-01-16T18:43:38.047863Z"
    },
    "tags": []
   },
   "outputs": [],
   "source": [
    "# UMAP\n",
    "run_umap = umap.UMAP(n_neighbors=10, min_dist=0.4, metric='correlation').fit_transform"
   ]
  },
  {
   "cell_type": "code",
   "execution_count": 47,
   "id": "1fc7492c-17bd-4db4-a69b-69411c9128c3",
   "metadata": {
    "execution": {
     "iopub.execute_input": "2023-01-16T18:43:38.797225Z",
     "iopub.status.busy": "2023-01-16T18:43:38.796956Z",
     "iopub.status.idle": "2023-01-16T18:43:49.269678Z",
     "shell.execute_reply": "2023-01-16T18:43:49.268355Z",
     "shell.execute_reply.started": "2023-01-16T18:43:38.797199Z"
    },
    "tags": []
   },
   "outputs": [],
   "source": [
    "dr_umap = run_umap(auc_mtx)"
   ]
  },
  {
   "cell_type": "code",
   "execution_count": 48,
   "id": "e707417f-8dfa-4f81-9a13-eb3e9451cb7e",
   "metadata": {
    "execution": {
     "iopub.execute_input": "2023-01-16T18:43:49.272150Z",
     "iopub.status.busy": "2023-01-16T18:43:49.271766Z",
     "iopub.status.idle": "2023-01-16T18:43:49.278166Z",
     "shell.execute_reply": "2023-01-16T18:43:49.277357Z",
     "shell.execute_reply.started": "2023-01-16T18:43:49.272122Z"
    },
    "tags": []
   },
   "outputs": [],
   "source": [
    "umap_df = pd.DataFrame(dr_umap, columns=['X', 'Y'], index=auc_mtx.index)"
   ]
  },
  {
   "cell_type": "code",
   "execution_count": 49,
   "id": "7861eae8-97f4-4cd0-adc0-b7e5a2f6f606",
   "metadata": {
    "execution": {
     "iopub.execute_input": "2023-01-16T18:43:49.280020Z",
     "iopub.status.busy": "2023-01-16T18:43:49.279268Z",
     "iopub.status.idle": "2023-01-16T18:43:49.298218Z",
     "shell.execute_reply": "2023-01-16T18:43:49.297345Z",
     "shell.execute_reply.started": "2023-01-16T18:43:49.279985Z"
    },
    "tags": []
   },
   "outputs": [
    {
     "data": {
      "text/html": [
       "<div>\n",
       "<style scoped>\n",
       "    .dataframe tbody tr th:only-of-type {\n",
       "        vertical-align: middle;\n",
       "    }\n",
       "\n",
       "    .dataframe tbody tr th {\n",
       "        vertical-align: top;\n",
       "    }\n",
       "\n",
       "    .dataframe thead th {\n",
       "        text-align: right;\n",
       "    }\n",
       "</style>\n",
       "<table border=\"1\" class=\"dataframe\">\n",
       "  <thead>\n",
       "    <tr style=\"text-align: right;\">\n",
       "      <th></th>\n",
       "      <th>X</th>\n",
       "      <th>Y</th>\n",
       "    </tr>\n",
       "  </thead>\n",
       "  <tbody>\n",
       "    <tr>\n",
       "      <th>CYB561D1:GCAGTGGGATCTTGGCGCACC:CTGTACCAGACCGCCT-scRNAseq_2kG_2PMDox2_1</th>\n",
       "      <td>11.730923</td>\n",
       "      <td>2.364985</td>\n",
       "    </tr>\n",
       "    <tr>\n",
       "      <th>XRCC5:GCGCCTGAGGACCGGCAACA:GGGTGTCGTGAGGAAA-scRNAseq_2kG_11AMDox_4</th>\n",
       "      <td>11.018894</td>\n",
       "      <td>4.572450</td>\n",
       "    </tr>\n",
       "    <tr>\n",
       "      <th>SEPT8-TSS2:GAAAGCGGAGCTCGACGGTCA:ATTCCTATCATGGGAG-scRNAseq_2kG_2PMDox1_2</th>\n",
       "      <td>15.351581</td>\n",
       "      <td>2.228661</td>\n",
       "    </tr>\n",
       "    <tr>\n",
       "      <th>RGS19-TSS2:GCGGCACTTCCCCAAAGCCAG:CTCCGATCAGACCATT-scRNAseq_2kG_2PMDox1_3</th>\n",
       "      <td>14.834724</td>\n",
       "      <td>0.937087</td>\n",
       "    </tr>\n",
       "    <tr>\n",
       "      <th>SCFD2:GCAGTACGCCCGAGGCGCTCA:GTCGTAAGTGAGTCAG-scRNAseq_2kG_2PMDox1_7</th>\n",
       "      <td>11.347787</td>\n",
       "      <td>3.861448</td>\n",
       "    </tr>\n",
       "    <tr>\n",
       "      <th>...</th>\n",
       "      <td>...</td>\n",
       "      <td>...</td>\n",
       "    </tr>\n",
       "    <tr>\n",
       "      <th>ATP5O:GCCACCTTTCTCTCACCTGCC:TTAGGCAGTGGATGAC-scRNAseq_2kG_2PMDox2_2</th>\n",
       "      <td>12.589616</td>\n",
       "      <td>2.796686</td>\n",
       "    </tr>\n",
       "    <tr>\n",
       "      <th>SMARCC2:GCACGTTGTCGAACTGGGTCA:TCTCACGGTCTCAGAT-scRNAseq_2kG_2PMDox2_4</th>\n",
       "      <td>12.127440</td>\n",
       "      <td>2.423154</td>\n",
       "    </tr>\n",
       "    <tr>\n",
       "      <th>RNF10:GGGCCGAGGCCGACCTGCTC:GTAGCTATCTTCGACC-scRNAseq_2kG_11AMDox_1</th>\n",
       "      <td>12.658781</td>\n",
       "      <td>3.128860</td>\n",
       "    </tr>\n",
       "    <tr>\n",
       "      <th>ZNF768:GCGCCTCCCGCTCCATCCCCG:TGCTTCGGTCGCGTCA-scRNAseq_2kG_2PMDox2_4</th>\n",
       "      <td>12.521778</td>\n",
       "      <td>2.098056</td>\n",
       "    </tr>\n",
       "    <tr>\n",
       "      <th>CPNE2:GAGCAGCTCCCGGGGATGCC:ACCCTTGCATGACTCA-scRNAseq_2kG_11AMDox_1</th>\n",
       "      <td>13.056243</td>\n",
       "      <td>3.078281</td>\n",
       "    </tr>\n",
       "  </tbody>\n",
       "</table>\n",
       "<p>500 rows × 2 columns</p>\n",
       "</div>"
      ],
      "text/plain": [
       "                                                            X         Y\n",
       "CYB561D1:GCAGTGGGATCTTGGCGCACC:CTGTACCAGACCGCCT...  11.730923  2.364985\n",
       "XRCC5:GCGCCTGAGGACCGGCAACA:GGGTGTCGTGAGGAAA-scR...  11.018894  4.572450\n",
       "SEPT8-TSS2:GAAAGCGGAGCTCGACGGTCA:ATTCCTATCATGGG...  15.351581  2.228661\n",
       "RGS19-TSS2:GCGGCACTTCCCCAAAGCCAG:CTCCGATCAGACCA...  14.834724  0.937087\n",
       "SCFD2:GCAGTACGCCCGAGGCGCTCA:GTCGTAAGTGAGTCAG-sc...  11.347787  3.861448\n",
       "...                                                       ...       ...\n",
       "ATP5O:GCCACCTTTCTCTCACCTGCC:TTAGGCAGTGGATGAC-sc...  12.589616  2.796686\n",
       "SMARCC2:GCACGTTGTCGAACTGGGTCA:TCTCACGGTCTCAGAT-...  12.127440  2.423154\n",
       "RNF10:GGGCCGAGGCCGACCTGCTC:GTAGCTATCTTCGACC-scR...  12.658781  3.128860\n",
       "ZNF768:GCGCCTCCCGCTCCATCCCCG:TGCTTCGGTCGCGTCA-s...  12.521778  2.098056\n",
       "CPNE2:GAGCAGCTCCCGGGGATGCC:ACCCTTGCATGACTCA-scR...  13.056243  3.078281\n",
       "\n",
       "[500 rows x 2 columns]"
      ]
     },
     "execution_count": 49,
     "metadata": {},
     "output_type": "execute_result"
    }
   ],
   "source": [
    "umap_df"
   ]
  },
  {
   "cell_type": "code",
   "execution_count": 50,
   "id": "5073fb84-ed54-43d6-8cf3-4570a751d9bd",
   "metadata": {
    "execution": {
     "iopub.execute_input": "2023-01-16T18:43:49.300163Z",
     "iopub.status.busy": "2023-01-16T18:43:49.299810Z",
     "iopub.status.idle": "2023-01-16T18:43:49.308674Z",
     "shell.execute_reply": "2023-01-16T18:43:49.308016Z",
     "shell.execute_reply.started": "2023-01-16T18:43:49.300136Z"
    },
    "tags": []
   },
   "outputs": [],
   "source": [
    "import matplotlib.pyplot as plt"
   ]
  },
  {
   "cell_type": "code",
   "execution_count": 51,
   "id": "1567dc5a-8b5e-4fb1-8aac-816f4c97497e",
   "metadata": {
    "execution": {
     "iopub.execute_input": "2023-01-16T18:43:49.310116Z",
     "iopub.status.busy": "2023-01-16T18:43:49.309733Z",
     "iopub.status.idle": "2023-01-16T18:43:50.006611Z",
     "shell.execute_reply": "2023-01-16T18:43:50.005830Z",
     "shell.execute_reply.started": "2023-01-16T18:43:49.310080Z"
    },
    "tags": []
   },
   "outputs": [
    {
     "data": {
      "text/plain": [
       "<matplotlib.collections.PathCollection at 0x1554e24f39a0>"
      ]
     },
     "execution_count": 51,
     "metadata": {},
     "output_type": "execute_result"
    },
    {
     "data": {
      "image/png": "[encoded data removed]",
      "text/plain": [
       "<Figure size 432x288 with 1 Axes>"
      ]
     },
     "metadata": {
      "needs_background": "light"
     },
     "output_type": "display_data"
    }
   ],
   "source": [
    "plt.scatter(umap_df[\"X\"], umap_df[\"Y\"])"
   ]
  },
  {
   "cell_type": "markdown",
   "id": "d80bca3d-2dee-49c6-ab69-fcef749b112d",
   "metadata": {},
   "source": [
    "---"
   ]
  },
  {
   "cell_type": "markdown",
   "id": "a5acf077-ce99-48f5-b474-64a268a25500",
   "metadata": {},
   "source": [
    "# Scratch"
   ]
  },
  {
   "cell_type": "code",
   "execution_count": null,
   "id": "31174620-23a0-4634-b54e-d159fe844826",
   "metadata": {},
   "outputs": [],
   "source": []
  }
 ],
 "metadata": {
  "kernelspec": {
   "display_name": "Python 3.8 scverse",
   "language": "python",
   "name": "scverse-py38"
  },
  "language_info": {
   "codemirror_mode": {
    "name": "ipython",
    "version": 3
   },
   "file_extension": ".py",
   "mimetype": "text/x-python",
   "name": "python",
   "nbconvert_exporter": "python",
   "pygments_lexer": "ipython3",
   "version": "3.8.13"
  }
 },
 "nbformat": 4,
 "nbformat_minor": 5
}
