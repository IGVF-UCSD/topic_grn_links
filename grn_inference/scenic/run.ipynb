{
 "cells": [
  {
   "cell_type": "markdown",
   "id": "316d981a-2f6f-4149-a3a5-10feaa4fbabe",
   "metadata": {},
   "source": [
    "# SCENIC: Pipeline"
   ]
  },
  {
   "cell_type": "markdown",
   "id": "41aee7fd-9f0b-44a2-b5a0-b11c72540ec1",
   "metadata": {},
   "source": [
    "## Examples"
   ]
  },
  {
   "cell_type": "markdown",
   "id": "f61ca9c3-23da-4b4f-8286-2971fd82c2dd",
   "metadata": {},
   "source": [
    "### ENCODE 4 mouse adrenal tissue"
   ]
  },
  {
   "cell_type": "code",
   "execution_count": 17,
   "id": "cebf35d9-c213-43e7-a1dc-960ad2506397",
   "metadata": {
    "execution": {
     "iopub.execute_input": "2023-01-10T20:07:27.169424Z",
     "iopub.status.busy": "2023-01-10T20:07:27.168928Z",
     "iopub.status.idle": "2023-01-10T20:07:27.777999Z",
     "shell.execute_reply": "2023-01-10T20:07:27.776899Z",
     "shell.execute_reply.started": "2023-01-10T20:07:27.169363Z"
    },
    "tags": []
   },
   "outputs": [
    {
     "name": "stdout",
     "output_type": "stream",
     "text": [
      "Submitted batch job 211533\n"
     ]
    }
   ],
   "source": [
    "%%bash\n",
    "loom_in=\"/cellar/users/aklie/projects/igvf/topic_grn_links/data/mouse_adrenal/preprocess/snrna/raw_filtered.loom\"\n",
    "tf_list=\"/cellar/users/aklie/opt/shared/SCENIC/tf_lists/allTFs_mm.txt\"\n",
    "ranking=\"/cellar/users/aklie/opt/shared/SCENIC/databases/mm10_10kbp_up_10kbp_down_full_tx_v10_clust.genes_vs_motifs.rankings.feather\"\n",
    "annotation=\"/cellar/users/aklie/opt/shared/SCENIC/annotations/motifs-v10nr_clust-nr.mgi-m0.001-o0.0.tbl\"\n",
    "method=\"grnboost2\"\n",
    "out_name=\"/cellar/users/aklie/projects/igvf/topic_grn_links/grn_inference/scenic/results/mouse_adrenal/raw_filtered\"\n",
    "cd scripts\n",
    "sbatch --job-name=SCENIC_multirun_adrenal --array=1-5%5 --cpus-per-task=4 --mem-per-cpu=32G --time=14-00:00:00 SCENIC_multirun.sh $loom_in $tf_list $ranking $annotation $method $out_name"
   ]
  },
  {
   "cell_type": "markdown",
   "id": "03784a63-2e86-4152-93e3-1c4ee2cd18a5",
   "metadata": {},
   "source": [
    "### ENCODE 4 mouse heart tissue"
   ]
  },
  {
   "cell_type": "code",
   "execution_count": 18,
   "id": "815a6d5e-2c1f-4fd7-ac3d-3e5116f16a8f",
   "metadata": {
    "execution": {
     "iopub.execute_input": "2023-01-10T20:15:26.064254Z",
     "iopub.status.busy": "2023-01-10T20:15:26.063830Z",
     "iopub.status.idle": "2023-01-10T20:15:26.574560Z",
     "shell.execute_reply": "2023-01-10T20:15:26.573398Z",
     "shell.execute_reply.started": "2023-01-10T20:15:26.064220Z"
    },
    "tags": []
   },
   "outputs": [
    {
     "name": "stdout",
     "output_type": "stream",
     "text": [
      "Submitted batch job 211546\n"
     ]
    }
   ],
   "source": [
    "%%bash\n",
    "loom_in=\"/cellar/users/aklie/projects/igvf/topic_grn_links/data/mouse_heart/preprocess/snrna/raw_filtered.loom\"\n",
    "tf_list=\"/cellar/users/aklie/opt/shared/SCENIC/tf_lists/allTFs_mm.txt\"\n",
    "ranking=\"/cellar/users/aklie/opt/shared/SCENIC/databases/mm10_10kbp_up_10kbp_down_full_tx_v10_clust.genes_vs_motifs.rankings.feather\"\n",
    "annotation=\"/cellar/users/aklie/opt/shared/SCENIC/annotations/motifs-v10nr_clust-nr.mgi-m0.001-o0.0.tbl\"\n",
    "method=\"grnboost2\"\n",
    "out_name=\"/cellar/users/aklie/projects/igvf/topic_grn_links/grn_inference/scenic/results/mouse_heart/raw_filtered\"\n",
    "cd scripts\n",
    "sbatch --job-name=SCENIC_multirun_heart --array=1-5%5 --cpus-per-task=4 --mem-per-cpu=32G --time=14-00:00:00 SCENIC_multirun.sh $loom_in $tf_list $ranking $annotation $method $out_name"
   ]
  },
  {
   "cell_type": "markdown",
   "id": "3765cda2-791c-4f8a-8b3e-de4778e2a5e9",
   "metadata": {},
   "source": [
    "### Endothelial cell perturb-seq"
   ]
  },
  {
   "cell_type": "code",
   "execution_count": 19,
   "id": "8e50819f-797f-4304-bcbb-7f7d145be373",
   "metadata": {
    "execution": {
     "iopub.execute_input": "2023-01-10T20:28:54.913955Z",
     "iopub.status.busy": "2023-01-10T20:28:54.913442Z",
     "iopub.status.idle": "2023-01-10T20:28:55.452326Z",
     "shell.execute_reply": "2023-01-10T20:28:55.451183Z",
     "shell.execute_reply.started": "2023-01-10T20:28:54.913919Z"
    },
    "tags": []
   },
   "outputs": [
    {
     "name": "stdout",
     "output_type": "stream",
     "text": [
      "Submitted batch job 211574\n"
     ]
    }
   ],
   "source": [
    "%%bash\n",
    "loom_in=\"/cellar/users/aklie/projects/igvf/topic_grn_links/data/endothelial_perturb_seq/preprocess/raw_filtered.loom\"\n",
    "tf_list=\"/cellar/users/aklie/opt/shared/SCENIC/tf_lists/allTFs_hg38.txt\"\n",
    "ranking=\"/cellar/users/aklie/opt/shared/SCENIC/databases/hg38_10kbp_up_10kbp_down_full_tx_v10_clust.genes_vs_motifs.rankings.feather\"\n",
    "annotation=\"/cellar/users/aklie/opt/shared/SCENIC/annotations/motifs-v10nr_clust-nr.hgnc-m0.001-o0.0.tbl\"\n",
    "method=\"grnboost2\"\n",
    "out_name=\"/cellar/users/aklie/projects/igvf/topic_grn_links/grn_inference/scenic/results/endothelial_perturb_seq/raw_filtered\"\n",
    "cd scripts/\n",
    "sbatch --job-name=SCENIC_multirun_endothelial --array=1-5%5 --cpus-per-task=4 --mem-per-cpu=32G --time=14-00:00:00 SCENIC_multirun.sh $loom_in $tf_list $ranking $annotation $method $out_name"
   ]
  },
  {
   "cell_type": "code",
   "execution_count": 8,
   "id": "326826ae-0f5f-475d-b671-21e9015ff6ce",
   "metadata": {
    "execution": {
     "iopub.execute_input": "2023-01-16T18:44:39.470112Z",
     "iopub.status.busy": "2023-01-16T18:44:39.469802Z",
     "iopub.status.idle": "2023-01-16T18:44:40.175701Z",
     "shell.execute_reply": "2023-01-16T18:44:40.174863Z",
     "shell.execute_reply.started": "2023-01-16T18:44:39.470080Z"
    },
    "tags": []
   },
   "outputs": [
    {
     "name": "stdout",
     "output_type": "stream",
     "text": [
      "Submitted batch job 215075\n"
     ]
    }
   ],
   "source": [
    "%%bash\n",
    "loom_in=\"/cellar/users/aklie/data/igvf/topic_grn_links/endothelial_perturb_seq/preprocess/filtered.loom\"\n",
    "tf_list=\"/cellar/users/aklie/opt/shared/SCENIC/tf_lists/allTFs_hg38.txt\"\n",
    "ranking=\"/cellar/users/aklie/opt/shared/SCENIC/databases/hg38_10kbp_up_10kbp_down_full_tx_v10_clust.genes_vs_motifs.rankings.feather\"\n",
    "annotation=\"/cellar/users/aklie/opt/shared/SCENIC/annotations/motifs-v10nr_clust-nr.hgnc-m0.001-o0.0.tbl\"\n",
    "method=\"grnboost2\"\n",
    "out_name=\"/cellar/users/aklie/projects/igvf/topic_grn_links/grn_inference/scenic/results/endothelial_perturb_seq/filtered\"\n",
    "cd scripts/\n",
    "sbatch --job-name=SCENIC_singlerun_endothelial_scenicplus_env --cpus-per-task=16 --mem=128G --time=14-00:00:00 SCENIC_singlerun.sh $loom_in $tf_list $ranking $annotation $method $out_name"
   ]
  },
  {
   "cell_type": "markdown",
   "id": "1d80b8e9-ad2f-4753-846e-3b4e03de9c23",
   "metadata": {
    "tags": []
   },
   "source": [
    "# SCENIC: Step-by-step"
   ]
  },
  {
   "cell_type": "markdown",
   "id": "50dcfc04-8e9d-4426-b6fa-e6a2a424807c",
   "metadata": {},
   "source": [
    "STEP 1: Gene regulatory network inference, and generation of co-expression modules\n",
    "Phase Ia: GRN inference using the GRNBoost2 algorithm\n",
    "For this step the CLI version of SCENIC is used. This step can be deployed on an High Performance Computing system. We use the counts matrix (without log transformation or further processing) from the loom file we wrote earlier. Output: List of adjacencies between a TF and its targets stored in ADJACENCIES_FNAME."
   ]
  },
  {
   "cell_type": "code",
   "execution_count": null,
   "id": "f87ff266-183a-43e9-b5d5-a5f1f30a71ff",
   "metadata": {
    "execution": {
     "iopub.execute_input": "2022-12-08T17:49:01.402747Z",
     "iopub.status.busy": "2022-12-08T17:49:01.402320Z"
    },
    "tags": []
   },
   "outputs": [
    {
     "name": "stderr",
     "output_type": "stream",
     "text": [
      "Numba: Attempted to fork from a non-main thread, the TBB library may be in an invalid state in the child process.\n",
      "\n",
      "2022-12-08 09:50:03,907 - pyscenic.cli.pyscenic - INFO - Loading expression matrix.\n",
      "\n",
      "2022-12-08 09:50:05,734 - pyscenic.cli.pyscenic - INFO - Inferring regulatory networks.\n",
      "Numba: Attempted to fork from a non-main thread, the TBB library may be in an invalid state in the child process.\n",
      "Numba: Attempted to fork from a non-main thread, the TBB library may be in an invalid state in the child process.\n",
      "Numba: Attempted to fork from a non-main thread, the TBB library may be in an invalid state in the child process.\n",
      "Numba: Attempted to fork from a non-main thread, the TBB library may be in an invalid state in the child process.\n",
      "Numba: Attempted to fork from a non-main thread, the TBB library may be in an invalid state in the child process.\n",
      "Numba: Attempted to fork from a non-main thread, the TBB library may be in an invalid state in the child process.\n",
      "Numba: Attempted to fork from a non-main thread, the TBB library may be in an invalid state in the child process.\n",
      "Numba: Attempted to fork from a non-main thread, the TBB library may be in an invalid state in the child process.\n",
      "Numba: Attempted to fork from a non-main thread, the TBB library may be in an invalid state in the child process.\n"
     ]
    }
   ],
   "source": [
    "%%bash\n",
    "source activate scverse-py38\n",
    "loom_in=\"/cellar/users/aklie/projects/igvf/topic_grn_links/data/mouse_adrenal/preprocessed/snrna/adrenal_Parse_10x_integrated_RNA_subset.loom\"\n",
    "tf_list=\"/cellar/users/aklie/opt/shared/SCENIC/tf_lists/mm_mgi_tfs_subset.txt\"\n",
    "out_file=\"/cellar/users/aklie/projects/igvf/topic_grn_links/grn_inference/mouse_adrenal/scenic/result/step_by_step_subset/adrenal_Parse_10x_integrated_RNA_subset.tsv\"\n",
    "pyscenic grn $loom_in $tf_list -o $out_file --num_workers 8"
   ]
  },
  {
   "cell_type": "code",
   "execution_count": null,
   "id": "e3609a62-eb3a-44b4-986b-3813102081b1",
   "metadata": {},
   "outputs": [],
   "source": [
    "%%bash\n",
    "loom_in=\"/cellar/users/aklie/projects/igvf/topic_grn_links/data/mouse_adrenal/preprocessed/snrna/adrenal_Parse_10x_integrated_RNA_subset.loom\"\n",
    "tf_list=\"/cellar/users/aklie/opt/shared/SCENIC/tf_lists/mm_mgi_tfs_subset.txt\"\n",
    "out_file=\"/cellar/users/aklie/projects/igvf/topic_grn_links/grn_inference/mouse_adrenal/scenic/result/step_by_step_subset/adrenal_Parse_10x_integrated_RNA_subset.tsv\"\n",
    "method=\"grnboost2\"\n",
    "sbatch --job-name=grnInference_subset --cpus-per-task=16 --mem-per-cpu=8G --time=14-00:00:00 grnInference.sh $loom_in $tf_list $out_file $method"
   ]
  },
  {
   "cell_type": "markdown",
   "id": "18187d1e-a7fb-4ae5-b784-2b71bc53e347",
   "metadata": {},
   "source": [
    "STEP 2-3: Regulon prediction aka cisTarget from CLI\n",
    "For this step the CLI version of SCENIC is used. This step can be deployed on an High Performance Computing system.\n",
    "\n",
    "Output: List of adjacencies between a TF and its targets stored in MOTIFS_FNAME.\n",
    "\n",
    "locations for ranking databases, and motif annotations:"
   ]
  },
  {
   "cell_type": "code",
   "execution_count": 155,
   "id": "ed6410f8-3682-440d-bf61-4bf31f03c4cd",
   "metadata": {
    "execution": {
     "iopub.execute_input": "2022-02-17T00:55:51.228171Z",
     "iopub.status.busy": "2022-02-17T00:55:51.227984Z",
     "iopub.status.idle": "2022-02-17T00:57:00.639510Z",
     "shell.execute_reply": "2022-02-17T00:57:00.638986Z",
     "shell.execute_reply.started": "2022-02-17T00:55:51.228153Z"
    },
    "tags": []
   },
   "outputs": [
    {
     "name": "stdout",
     "output_type": "stream",
     "text": [
      "[########################################] | 100% Completed | 44.6s\n"
     ]
    },
    {
     "name": "stderr",
     "output_type": "stream",
     "text": [
      "\n",
      "2022-02-16 16:56:07,341 - pyscenic.cli.pyscenic - INFO - Creating modules.\n",
      "\n",
      "2022-02-16 16:56:07,354 - pyscenic.cli.pyscenic - INFO - Loading expression matrix.\n",
      "\n",
      "2022-02-16 16:56:12,765 - pyscenic.utils - INFO - Calculating Pearson correlations.\n",
      "\n",
      "2022-02-16 16:56:12,769 - pyscenic.utils - WARNING - Note on correlation calculation: the default behaviour for calculating the correlations has changed after pySCENIC verion 0.9.16. Previously, the default was to calculate the correlation between a TF and target gene using only cells with non-zero expression values (mask_dropouts=True). The current default is now to use all cells to match the behavior of the R verision of SCENIC. The original settings can be retained by setting 'rho_mask_dropouts=True' in the modules_from_adjacencies function, or '--mask_dropouts' from the CLI.\n",
      "\tDropout masking is currently set to [True].\n",
      "\n",
      "2022-02-16 16:56:13,096 - pyscenic.utils - INFO - Creating modules.\n",
      "\n",
      "2022-02-16 16:56:14,248 - pyscenic.cli.pyscenic - INFO - Loading databases.\n",
      "\n",
      "2022-02-16 16:56:14,249 - pyscenic.cli.pyscenic - INFO - Calculating regulons.\n",
      "\n",
      "2022-02-16 16:57:00,069 - pyscenic.cli.pyscenic - INFO - Writing results to file.\n"
     ]
    }
   ],
   "source": [
    "%%bash\n",
    "source activate scverse-py38\n",
    "adj_in=\"/cellar/users/aklie/projects/igvf/topic_grn_links/grn_inference/mouse_adrenal/scenic/result/step_by_step_subset/adrenal_Parse_10x_integrated_RNA_subset.tsv\"\n",
    "ranking=\"/cellar/users/aklie/opt/shared/SCENIC/databases/mm10_10kbp_up_10kbp_down_full_tx_v10_clust.genes_vs_motifs.rankings.feather\"\n",
    "annotation=\"/cellar/users/aklie/opt/shared/SCENIC/annotations/motifs-v10nr_clust-nr.mgi-m0.001-o0.0.tbl\"\n",
    "loom_in=\"/cellar/users/aklie/projects/igvf/topic_grn_links/data/mouse_adrenal/preprocessed/snrna/adrenal_Parse_10x_integrated_RNA_subset.loom\"\n",
    "out_file=\"/cellar/users/aklie/projects/igvf/topic_grn_links/grn_inference/mouse_adrenal/scenic/result/step_by_step_subset/adrenal_Parse_10x_integrated_RNA_subset_reg.csv\"\n",
    "pyscenic ctx $adj_in \\\n",
    "    $ranking \\\n",
    "    --annotations_fname $annotation \\\n",
    "    --expression_mtx_fname $loom_in \\\n",
    "    --output $out_file \\\n",
    "    --mask_dropouts \\\n",
    "    --num_workers 16"
   ]
  },
  {
   "cell_type": "code",
   "execution_count": null,
   "id": "eb0fc9af-0ef7-4ebf-a8d9-68fb67e4eb29",
   "metadata": {},
   "outputs": [],
   "source": [
    "%%bash\n",
    "adj_in=\"/cellar/users/aklie/projects/igvf/topic_grn_links/grn_inference/mouse_adrenal/scenic/result/step_by_step_subset/adrenal_Parse_10x_integrated_RNA_subset.tsv\"\n",
    "ranking=\"/cellar/users/aklie/opt/shared/SCENIC/databases/mm10_10kbp_up_10kbp_down_full_tx_v10_clust.genes_vs_motifs.rankings.feather\"\n",
    "annotation=\"/cellar/users/aklie/opt/shared/SCENIC/annotations/motifs-v10nr_clust-nr.mgi-m0.001-o0.0.tbl\"\n",
    "loom_in=\"/cellar/users/aklie/projects/igvf/topic_grn_links/data/mouse_adrenal/preprocessed/snrna/adrenal_Parse_10x_integrated_RNA_subset.loom\"\n",
    "out_file=\"/cellar/users/aklie/projects/igvf/topic_grn_links/grn_inference/mouse_adrenal/scenic/result/step_by_step_subset/adrenal_Parse_10x_integrated_RNA_subset_reg.csv\"\n",
    "sbatch --job-name=cisTarget_subset --cpus-per-task=16 --mem-per-cpu=8G --time=14-00:00:00 cisTarget.sh $adj_in $ranking $annotation $loom_in $out_file"
   ]
  },
  {
   "cell_type": "markdown",
   "id": "c5140091-097a-4a68-a524-f6d69d1f3ae0",
   "metadata": {},
   "source": [
    "STEP 4: Cellular enrichment (aka AUCell) from CLI\n",
    "It is important to check that most cells have a substantial fraction of expressed/detected genes in the calculation of the AUC. The following histogram gives an idea of the distribution and allows selection of an appropriate threshold. In this plot, a few thresholds are highlighted, with the number of genes selected shown in red text and the corresponding percentile in parentheses). See the relevant section in the R tutorial for more information.\n",
    "\n",
    "By using the default setting for --auc_threshold of 0.05, we see that 1192 genes are selected for the rankings based on the plot below."
   ]
  },
  {
   "cell_type": "code",
   "execution_count": 156,
   "id": "7921c905-c157-4e6f-92c7-b4f28b2c3ce0",
   "metadata": {
    "execution": {
     "iopub.execute_input": "2022-02-17T00:59:29.166057Z",
     "iopub.status.busy": "2022-02-17T00:59:29.165868Z",
     "iopub.status.idle": "2022-02-17T01:00:11.709071Z",
     "shell.execute_reply": "2022-02-17T01:00:11.708263Z",
     "shell.execute_reply.started": "2022-02-17T00:59:29.166038Z"
    }
   },
   "outputs": [
    {
     "name": "stdout",
     "output_type": "stream",
     "text": [
      "Create regulons from a dataframe of enriched features.\n",
      "Additional columns saved: []\n"
     ]
    },
    {
     "name": "stderr",
     "output_type": "stream",
     "text": [
      "\n",
      "2022-02-16 16:59:46,516 - pyscenic.cli.pyscenic - INFO - Loading expression matrix.\n",
      "\n",
      "2022-02-16 16:59:52,708 - pyscenic.cli.pyscenic - INFO - Loading gene signatures.\n",
      "\n",
      "2022-02-16 16:59:52,778 - pyscenic.cli.pyscenic - INFO - Calculating cellular enrichment.\n",
      "\n",
      "2022-02-16 17:00:02,294 - pyscenic.cli.pyscenic - INFO - Writing results to file.\n"
     ]
    }
   ],
   "source": [
    "%%bash\n",
    "source activate scverse-py38\n",
    "loom_in=\"/cellar/users/aklie/projects/igvf/topic_grn_links/data/mouse_adrenal/preprocessed/snrna/adrenal_Parse_10x_integrated_RNA_subset.loom\"\n",
    "regulon_in=\"/cellar/users/aklie/projects/igvf/topic_grn_links/grn_inference/mouse_adrenal/scenic/result/step_by_step_subset/adrenal_Parse_10x_integrated_RNA_subset_reg.csv\"\n",
    "out_file=\"/cellar/users/aklie/projects/igvf/topic_grn_links/grn_inference/mouse_adrenal/scenic/result/step_by_step_subset/adrenal_Parse_10x_integrated_RNA_subset_output.loom\"\n",
    "pyscenic aucell \\\n",
    "    $loom_in \\\n",
    "    $regulon_in \\\n",
    "    --output $out_file \\\n",
    "    --num_workers 20"
   ]
  },
  {
   "cell_type": "code",
   "execution_count": null,
   "id": "0317f9d8-5db4-41ae-8824-12cebfc3c6b1",
   "metadata": {},
   "outputs": [],
   "source": [
    "%%bash\n",
    "loom_in=\"/cellar/users/aklie/projects/igvf/topic_grn_links/data/mouse_adrenal/preprocessed/snrna/adrenal_Parse_10x_integrated_RNA_subset.loom\"\n",
    "regulon_in=\"/cellar/users/aklie/projects/igvf/topic_grn_links/grn_inference/mouse_adrenal/scenic/result/step_by_step_subset/adrenal_Parse_10x_integrated_RNA_subset_reg.csv\"\n",
    "out_file=\"/cellar/users/aklie/projects/igvf/topic_grn_links/grn_inference/mouse_adrenal/scenic/result/step_by_step_subset/adrenal_Parse_10x_integrated_RNA_subset_output.loom\"\n",
    "sbatch --job-name=AUCell_subset --cpus-per-task=16 --mem-per-cpu=8G --time=14-00:00:00 AUCell.sh $loom_in $regulon_in $out_file"
   ]
  },
  {
   "cell_type": "markdown",
   "id": "01ec716c-6941-4b63-adfe-86dabbeaddae",
   "metadata": {},
   "source": [
    "---"
   ]
  },
  {
   "cell_type": "markdown",
   "id": "9475e8b0-d62d-4bf4-a835-ff64f82daa40",
   "metadata": {
    "tags": []
   },
   "source": [
    "# Scratch"
   ]
  }
 ],
 "metadata": {
  "kernelspec": {
   "display_name": "Python 3.8 scverse",
   "language": "python",
   "name": "scverse-py38"
  },
  "language_info": {
   "codemirror_mode": {
    "name": "ipython",
    "version": 3
   },
   "file_extension": ".py",
   "mimetype": "text/x-python",
   "name": "python",
   "nbconvert_exporter": "python",
   "pygments_lexer": "ipython3",
   "version": "3.8.13"
  }
 },
 "nbformat": 4,
 "nbformat_minor": 5
}
