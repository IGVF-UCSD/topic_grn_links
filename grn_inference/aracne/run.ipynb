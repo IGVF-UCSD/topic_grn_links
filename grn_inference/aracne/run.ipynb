{
 "cells": [
  {
   "cell_type": "markdown",
   "id": "d2d22663-23a5-4527-81a7-18010a5ff774",
   "metadata": {},
   "source": [
    "# ARACNe: Pipeline"
   ]
  },
  {
   "cell_type": "markdown",
   "id": "2c5a2a78-10da-415a-b191-77e1eb5defb5",
   "metadata": {},
   "source": [
    "## Examples"
   ]
  },
  {
   "cell_type": "markdown",
   "id": "afc67812-af60-442d-b2dc-30d1128fd59c",
   "metadata": {},
   "source": [
    "### ENCODE 4 mouse adrenal tissue"
   ]
  },
  {
   "cell_type": "code",
   "execution_count": 2,
   "id": "e93381db-b23f-4182-930e-ec03ad951e49",
   "metadata": {
    "execution": {
     "iopub.execute_input": "2023-01-10T01:35:39.088869Z",
     "iopub.status.busy": "2023-01-10T01:35:39.088400Z",
     "iopub.status.idle": "2023-01-10T01:35:40.088243Z",
     "shell.execute_reply": "2023-01-10T01:35:40.087271Z",
     "shell.execute_reply.started": "2023-01-10T01:35:39.088837Z"
    }
   },
   "outputs": [
    {
     "name": "stdout",
     "output_type": "stream",
     "text": [
      "Submitted batch job 211421\n",
      "Submitted batch job 211422\n",
      "Submitted batch job 211423\n"
     ]
    }
   ],
   "source": [
    "%%bash\n",
    "tsv_in=\"/cellar/users/aklie/data/igvf/topic_grn_links/mouse_adrenal/preprocess/snrna/sct_filtered_subset.tsv\"\n",
    "pval=\"1E-8\"\n",
    "num_bootstraps=\"10\"\n",
    "cd scripts\n",
    "\n",
    "# Tfs\n",
    "tf_list=\"/cellar/users/aklie/opt/shared/ARACNe/tf_cotf_signalling_list/mouse/tf_mus_symbol.txt\"\n",
    "out_dir=\"/cellar/users/aklie/projects/igvf/topic_grn_links/grn_inference/aracne/results/mouse_adrenal/tfs\"\n",
    "sbatch --job-name=ARACNe_multirun_adrenal_subset_tfs --cpus-per-task=4 --mem-per-cpu=16G --time=14-00:00:00 ARACNe_multirun.sh $tsv_in $tf_list $out_dir $pval $num_bootstraps\n",
    "\n",
    "# Co-tfs\n",
    "tf_list=\"/cellar/users/aklie/opt/shared/ARACNe/tf_cotf_signalling_list/mouse/surface_mus_symbol.txt\"\n",
    "out_dir=\"/cellar/users/aklie/projects/igvf/topic_grn_links/grn_inference/aracne/results/mouse_adrenal/cotfs\"\n",
    "sbatch --job-name=ARACNe_multirun_adrenal_subset_cotfs --cpus-per-task=4 --mem-per-cpu=16G --time=14-00:00:00 ARACNe_multirun.sh $tsv_in $tf_list $out_dir $pval $num_bootstraps\n",
    "\n",
    "# Surface\n",
    "tf_list=\"/cellar/users/aklie/opt/shared/ARACNe/tf_cotf_signalling_list/mouse/surface_mus_symbol.txt\"\n",
    "out_dir=\"/cellar/users/aklie/projects/igvf/topic_grn_links/grn_inference/aracne/results/mouse_adrenal/surface\"\n",
    "sbatch --job-name=ARACNe_multirun_adrenal_subset_surface --cpus-per-task=4 --mem-per-cpu=16G --time=14-00:00:00 ARACNe_multirun.sh $tsv_in $tf_list $out_dir $pval $num_bootstraps"
   ]
  },
  {
   "cell_type": "markdown",
   "id": "eaa8d28f-135b-4f95-bb3a-e08f71ea83d4",
   "metadata": {
    "execution": {
     "iopub.execute_input": "2023-01-10T01:27:28.564394Z",
     "iopub.status.busy": "2023-01-10T01:27:28.563797Z",
     "iopub.status.idle": "2023-01-10T01:27:28.569484Z",
     "shell.execute_reply": "2023-01-10T01:27:28.568368Z",
     "shell.execute_reply.started": "2023-01-10T01:27:28.564280Z"
    }
   },
   "source": [
    "### ENCODE 4 mouse heart tissue"
   ]
  },
  {
   "cell_type": "code",
   "execution_count": 3,
   "id": "b002bf69-dcd0-4a45-863f-11b285713ae1",
   "metadata": {
    "execution": {
     "iopub.execute_input": "2023-01-10T01:46:47.582607Z",
     "iopub.status.busy": "2023-01-10T01:46:47.582097Z",
     "iopub.status.idle": "2023-01-10T01:46:48.486832Z",
     "shell.execute_reply": "2023-01-10T01:46:48.485816Z",
     "shell.execute_reply.started": "2023-01-10T01:46:47.582573Z"
    },
    "tags": []
   },
   "outputs": [
    {
     "name": "stdout",
     "output_type": "stream",
     "text": [
      "Submitted batch job 211425\n",
      "Submitted batch job 211426\n",
      "Submitted batch job 211427\n"
     ]
    }
   ],
   "source": [
    "%%bash\n",
    "tsv_in=\"/cellar/users/aklie/data/igvf/topic_grn_links/mouse_heart/preprocess/snrna/sct_filtered_subset.tsv\"\n",
    "pval=\"1E-8\"\n",
    "num_bootstraps=\"10\"\n",
    "cd scripts\n",
    "\n",
    "# Tfs\n",
    "tf_list=\"/cellar/users/aklie/opt/shared/ARACNe/tf_cotf_signalling_list/mouse/tf_mus_symbol.txt\"\n",
    "out_dir=\"/cellar/users/aklie/projects/igvf/topic_grn_links/grn_inference/aracne/results/mouse_heart/tfs\"\n",
    "sbatch --job-name=ARACNe_multirun_heart_subset_tfs --cpus-per-task=4 --mem-per-cpu=16G --time=14-00:00:00 ARACNe_multirun.sh $tsv_in $tf_list $out_dir $pval $num_bootstraps\n",
    "\n",
    "# Co-tfs\n",
    "tf_list=\"/cellar/users/aklie/opt/shared/ARACNe/tf_cotf_signalling_list/mouse/surface_mus_symbol.txt\"\n",
    "out_dir=\"/cellar/users/aklie/projects/igvf/topic_grn_links/grn_inference/aracne/results/mouse_heart/cotfs\"\n",
    "sbatch --job-name=ARACNe_multirun_heart_subset_cotfs --cpus-per-task=4 --mem-per-cpu=16G --time=14-00:00:00 ARACNe_multirun.sh $tsv_in $tf_list $out_dir $pval $num_bootstraps\n",
    "\n",
    "# Surface\n",
    "tf_list=\"/cellar/users/aklie/opt/shared/ARACNe/tf_cotf_signalling_list/mouse/surface_mus_symbol.txt\"\n",
    "out_dir=\"/cellar/users/aklie/projects/igvf/topic_grn_links/grn_inference/aracne/results/mouse_heart/surface\"\n",
    "sbatch --job-name=ARACNe_multirun_heart_subset_surface --cpus-per-task=4 --mem-per-cpu=16G --time=14-00:00:00 ARACNe_multirun.sh $tsv_in $tf_list $out_dir $pval $num_bootstraps"
   ]
  },
  {
   "cell_type": "markdown",
   "id": "17bd20fb-e087-494a-b7e3-ef2c62f00891",
   "metadata": {},
   "source": [
    "### Endothelial cell perturb-seq"
   ]
  },
  {
   "cell_type": "code",
   "execution_count": 2,
   "id": "2079ba39-9aa7-4fb1-a4d2-8fc7df7b8fd7",
   "metadata": {
    "execution": {
     "iopub.execute_input": "2023-01-10T01:35:39.088869Z",
     "iopub.status.busy": "2023-01-10T01:35:39.088400Z",
     "iopub.status.idle": "2023-01-10T01:35:40.088243Z",
     "shell.execute_reply": "2023-01-10T01:35:40.087271Z",
     "shell.execute_reply.started": "2023-01-10T01:35:39.088837Z"
    }
   },
   "outputs": [
    {
     "name": "stdout",
     "output_type": "stream",
     "text": [
      "Submitted batch job 211421\n",
      "Submitted batch job 211422\n",
      "Submitted batch job 211423\n"
     ]
    }
   ],
   "source": [
    "%%bash\n",
    "tsv_in=\"/cellar/users/aklie/data/igvf/topic_grn_links/mouse_adrenal/preprocess/snrna/sct_filtered_subset.tsv\"\n",
    "pval=\"1E-8\"\n",
    "num_bootstraps=\"10\"\n",
    "cd scripts\n",
    "\n",
    "# Tfs\n",
    "tf_list=\"/cellar/users/aklie/opt/shared/ARACNe/tf_cotf_signalling_list/mouse/tf_mus_symbol.txt\"\n",
    "out_dir=\"/cellar/users/aklie/projects/igvf/topic_grn_links/grn_inference/aracne/results/mouse_adrenal/tfs\"\n",
    "sbatch --job-name=ARACNe_multirun_adrenal_subset_tfs --cpus-per-task=4 --mem-per-cpu=16G --time=14-00:00:00 ARACNe_multirun.sh $tsv_in $tf_list $out_dir $pval $num_bootstraps\n",
    "\n",
    "# Co-tfs\n",
    "tf_list=\"/cellar/users/aklie/opt/shared/ARACNe/tf_cotf_signalling_list/mouse/surface_mus_symbol.txt\"\n",
    "out_dir=\"/cellar/users/aklie/projects/igvf/topic_grn_links/grn_inference/aracne/results/mouse_adrenal/cotfs\"\n",
    "sbatch --job-name=ARACNe_multirun_adrenal_subset_cotfs --cpus-per-task=4 --mem-per-cpu=16G --time=14-00:00:00 ARACNe_multirun.sh $tsv_in $tf_list $out_dir $pval $num_bootstraps\n",
    "\n",
    "# Surface\n",
    "tf_list=\"/cellar/users/aklie/opt/shared/ARACNe/tf_cotf_signalling_list/mouse/surface_mus_symbol.txt\"\n",
    "out_dir=\"/cellar/users/aklie/projects/igvf/topic_grn_links/grn_inference/aracne/results/mouse_adrenal/surface\"\n",
    "sbatch --job-name=ARACNe_multirun_adrenal_subset_surface --cpus-per-task=4 --mem-per-cpu=16G --time=14-00:00:00 ARACNe_multirun.sh $tsv_in $tf_list $out_dir $pval $num_bootstraps"
   ]
  },
  {
   "cell_type": "markdown",
   "id": "1d80b8e9-ad2f-4753-846e-3b4e03de9c23",
   "metadata": {},
   "source": [
    "# ARACNe: Step-by-step"
   ]
  },
  {
   "cell_type": "markdown",
   "id": "50dcfc04-8e9d-4426-b6fa-e6a2a424807c",
   "metadata": {},
   "source": [
    "STEP 1: Calculate threshold"
   ]
  },
  {
   "cell_type": "code",
   "execution_count": null,
   "id": "f87ff266-183a-43e9-b5d5-a5f1f30a71ff",
   "metadata": {
    "tags": []
   },
   "outputs": [],
   "source": [
    "%%bash\n",
    "tsv_in=\"/cellar/users/aklie/data/igvf/topic_grn_links/mouse_adrenal/preprocessed/snrna/adrenal_Parse_10x_integrated_RNA_subset.tsv\"\n",
    "tf_list=\"/cellar/users/aklie/opt/shared/ARACNe/tf_cotf_signalling_list/mouse/tf_mus_symbol.txt\"\n",
    "out_dir=\"/cellar/users/aklie/projects/igvf/topic_grn_links/grn_inference/mouse_adrenal/aracne/result\"\n",
    "pval=\"1E-8\"\n",
    "sbatch --job-name=calculateThreshold_test --cpus-per-task=8 --mem-per-cpu=8G --time=14-00:00:00 calculateThreshold.sh $tsv_in $tf_list $out_dir $pval"
   ]
  },
  {
   "cell_type": "markdown",
   "id": "18187d1e-a7fb-4ae5-b784-2b71bc53e347",
   "metadata": {},
   "source": [
    "STEP 2: Run multiple reproducible bootstraps"
   ]
  },
  {
   "cell_type": "code",
   "execution_count": null,
   "id": "ed6410f8-3682-440d-bf61-4bf31f03c4cd",
   "metadata": {
    "tags": []
   },
   "outputs": [],
   "source": [
    "%%bash\n",
    "tsv_in=\"/cellar/users/aklie/data/igvf/topic_grn_links/mouse_adrenal/preprocessed/snrna/adrenal_Parse_10x_integrated_RNA_subset.tsv\"\n",
    "tf_list=\"/cellar/users/aklie/opt/shared/ARACNe/tf_cotf_signalling_list/mouse/tf_mus_symbol.txt\"\n",
    "out_dir=\"/cellar/users/aklie/projects/igvf/topic_grn_links/grn_inference/mouse_adrenal/aracne/result\"\n",
    "pval=\"1E-8\"\n",
    "num_bootstraps=\"10\"\n",
    "sbatch --job-name=grnInference_bootstrap_test --cpus-per-task=16 --mem-per-cpu=8G --time=14-00:00:00 grnInference_bootstrap.sh $tsv_in $tf_list $out_dir $pval $num_bootstraps"
   ]
  },
  {
   "cell_type": "markdown",
   "id": "c5140091-097a-4a68-a524-f6d69d1f3ae0",
   "metadata": {},
   "source": [
    "STEP 3: Consolidate the bootstrapped network"
   ]
  },
  {
   "cell_type": "code",
   "execution_count": null,
   "id": "7921c905-c157-4e6f-92c7-b4f28b2c3ce0",
   "metadata": {},
   "outputs": [],
   "source": [
    "%%bash\n",
    "out_dir=\"/cellar/users/aklie/projects/igvf/topic_grn_links/grn_inference/mouse_adrenal/aracne/result\"\n",
    "sbatch --job-name=consolidate_test --cpus-per-task=1 --mem-per-cpu=16G --time=14-00:00:00 consolidate.sh $out_dir"
   ]
  },
  {
   "cell_type": "markdown",
   "id": "01ec716c-6941-4b63-adfe-86dabbeaddae",
   "metadata": {},
   "source": [
    "---"
   ]
  },
  {
   "cell_type": "markdown",
   "id": "9475e8b0-d62d-4bf4-a835-ff64f82daa40",
   "metadata": {},
   "source": [
    "# Scratch"
   ]
  },
  {
   "cell_type": "markdown",
   "id": "936308e3-18c2-48b9-add0-5d0e3ddabb30",
   "metadata": {},
   "source": [
    "## Single bootstrap"
   ]
  },
  {
   "cell_type": "code",
   "execution_count": null,
   "id": "0792569b-fc65-43e7-9573-5a750205a0fc",
   "metadata": {},
   "outputs": [],
   "source": [
    "%%bash\n",
    "tsv_in=\"/cellar/users/aklie/data/igvf/topic_grn_links/mouse_adrenal/preprocessed/snrna/adrenal_Parse_10x_integrated_RNA_subset.tsv\"\n",
    "tf_list=\"/cellar/users/aklie/opt/shared/ARACNe/tf_cotf_signalling_list/mouse/tf_mus_symbol.txt\"\n",
    "out_dir=\"/cellar/users/aklie/projects/igvf/topic_grn_links/grn_inference/mouse_adrenal/aracne/result/pipeline_subset\"\n",
    "pval=\"1E-8\"\n",
    "sbatch --job-name=ARACNe_singlerun_test --cpus-per-task=16 --mem-per-cpu=8G --time=14-00:00:00 ARACNe_singlerun.sh $tsv_in $tf_list $out_dir $pval"
   ]
  }
 ],
 "metadata": {
  "kernelspec": {
   "display_name": "Python 3.8 scverse",
   "language": "python",
   "name": "scverse-py38"
  },
  "language_info": {
   "codemirror_mode": {
    "name": "ipython",
    "version": 3
   },
   "file_extension": ".py",
   "mimetype": "text/x-python",
   "name": "python",
   "nbconvert_exporter": "python",
   "pygments_lexer": "ipython3",
   "version": "3.8.13"
  }
 },
 "nbformat": 4,
 "nbformat_minor": 5
}
